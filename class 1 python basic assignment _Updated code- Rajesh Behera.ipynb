{
 "cells": [
  {
   "cell_type": "markdown",
   "id": "e899f726",
   "metadata": {},
   "source": [
    "#  Python Basics"
   ]
  },
  {
   "cell_type": "markdown",
   "id": "c2f4d2e4",
   "metadata": {},
   "source": [
    "Q1. Declare two variables, `x` and `y`, and assign them integer values. Swap the values of these variables without using any temporary variable."
   ]
  },
  {
   "cell_type": "code",
   "execution_count": 1,
   "id": "f5780b90",
   "metadata": {},
   "outputs": [],
   "source": [
    "x = 5\n",
    "y = 10\n",
    "x, y = y, x"
   ]
  },
  {
   "cell_type": "code",
   "execution_count": 2,
   "id": "016ce44c",
   "metadata": {},
   "outputs": [
    {
     "name": "stdout",
     "output_type": "stream",
     "text": [
      "x = 10\n",
      "y = 5\n"
     ]
    }
   ],
   "source": [
    "print(\"x =\", x)\n",
    "print(\"y =\", y)"
   ]
  },
  {
   "cell_type": "code",
   "execution_count": 3,
   "id": "74147fc0",
   "metadata": {},
   "outputs": [
    {
     "name": "stdout",
     "output_type": "stream",
     "text": [
      "x = 10\n",
      "y = 5\n"
     ]
    }
   ],
   "source": [
    "print(\"x =\", x)\n",
    "print(\"y =\", y)"
   ]
  },
  {
   "cell_type": "code",
   "execution_count": 4,
   "id": "2ff8d466",
   "metadata": {},
   "outputs": [
    {
     "data": {
      "text/plain": [
       "10"
      ]
     },
     "execution_count": 4,
     "metadata": {},
     "output_type": "execute_result"
    }
   ],
   "source": [
    "x"
   ]
  },
  {
   "cell_type": "code",
   "execution_count": 5,
   "id": "1fb4c5ac",
   "metadata": {},
   "outputs": [
    {
     "data": {
      "text/plain": [
       "5"
      ]
     },
     "execution_count": 5,
     "metadata": {},
     "output_type": "execute_result"
    }
   ],
   "source": [
    "y"
   ]
  },
  {
   "cell_type": "markdown",
   "id": "bd78bb47",
   "metadata": {},
   "source": [
    "Q2. Create a program that calculates the area of a rectangle. Take the length and width as inputs from the user and store them in variables. Calculate and display the area.\n"
   ]
  },
  {
   "cell_type": "code",
   "execution_count": 6,
   "id": "50e24f56",
   "metadata": {},
   "outputs": [
    {
     "name": "stdout",
     "output_type": "stream",
     "text": [
      "Enter the length: 100\n"
     ]
    }
   ],
   "source": [
    "length = int(input(\"Enter the length: \"))"
   ]
  },
  {
   "cell_type": "code",
   "execution_count": 7,
   "id": "7deaefa7",
   "metadata": {},
   "outputs": [
    {
     "name": "stdout",
     "output_type": "stream",
     "text": [
      "Enter the width: 50\n"
     ]
    }
   ],
   "source": [
    "width = int(input(\"Enter the width: \"))"
   ]
  },
  {
   "cell_type": "code",
   "execution_count": 8,
   "id": "c6468aa9",
   "metadata": {},
   "outputs": [],
   "source": [
    "area = length * width"
   ]
  },
  {
   "cell_type": "code",
   "execution_count": 9,
   "id": "3c804a4d",
   "metadata": {},
   "outputs": [
    {
     "data": {
      "text/plain": [
       "5000"
      ]
     },
     "execution_count": 9,
     "metadata": {},
     "output_type": "execute_result"
    }
   ],
   "source": [
    "area"
   ]
  },
  {
   "cell_type": "markdown",
   "id": "44544f57",
   "metadata": {},
   "source": [
    "Q3. Write a Python program that converts temperatures from Celsius to Fahrenheit. Take the temperature in Celsius as input, store it in a variable, convert it to Fahrenheit, and display the result."
   ]
  },
  {
   "cell_type": "code",
   "execution_count": 10,
   "id": "4962e484",
   "metadata": {},
   "outputs": [
    {
     "name": "stdout",
     "output_type": "stream",
     "text": [
      "Enter the temperature to be converted to farenheit: 99.7\n"
     ]
    }
   ],
   "source": [
    "celsius = float(input(\"Enter the temperature to be converted to farenheit: \"))"
   ]
  },
  {
   "cell_type": "code",
   "execution_count": 11,
   "id": "ca2f44bf",
   "metadata": {},
   "outputs": [],
   "source": [
    "fahrenheit = (celsius * 1.8) + 32"
   ]
  },
  {
   "cell_type": "code",
   "execution_count": 12,
   "id": "ad686e17",
   "metadata": {},
   "outputs": [
    {
     "data": {
      "text/plain": [
       "211.46"
      ]
     },
     "execution_count": 12,
     "metadata": {},
     "output_type": "execute_result"
    }
   ],
   "source": [
    "fahrenheit"
   ]
  },
  {
   "cell_type": "markdown",
   "id": "0a34816e",
   "metadata": {},
   "source": [
    "# String based questions \n"
   ]
  },
  {
   "cell_type": "markdown",
   "id": "eef7a538",
   "metadata": {},
   "source": [
    "1. Write a Python program that takes a string as input and prints the length of the string."
   ]
  },
  {
   "cell_type": "code",
   "execution_count": 13,
   "id": "fe6e75c4",
   "metadata": {},
   "outputs": [
    {
     "name": "stdout",
     "output_type": "stream",
     "text": [
      "Enter a string: datascience\n"
     ]
    }
   ],
   "source": [
    "r = input(\"Enter a string: \")"
   ]
  },
  {
   "cell_type": "code",
   "execution_count": 14,
   "id": "dc18b3f2",
   "metadata": {},
   "outputs": [],
   "source": [
    "length = len(r)"
   ]
  },
  {
   "cell_type": "code",
   "execution_count": 15,
   "id": "093aa211",
   "metadata": {},
   "outputs": [
    {
     "data": {
      "text/plain": [
       "('The length of the given string is : ', 11)"
      ]
     },
     "execution_count": 15,
     "metadata": {},
     "output_type": "execute_result"
    }
   ],
   "source": [
    "\"The length of the given string is : \", length"
   ]
  },
  {
   "cell_type": "code",
   "execution_count": null,
   "id": "aaefe985",
   "metadata": {},
   "outputs": [],
   "source": []
  },
  {
   "cell_type": "markdown",
   "id": "c1cb7c07",
   "metadata": {},
   "source": [
    "2. Create a program that takes a sentence from the user and counts the number of vowels (a, e, i, o, u) in the string."
   ]
  },
  {
   "cell_type": "code",
   "execution_count": 16,
   "id": "3bb8fa0d",
   "metadata": {},
   "outputs": [
    {
     "name": "stdout",
     "output_type": "stream",
     "text": [
      "Enter your input: chintu\n"
     ]
    }
   ],
   "source": [
    "userinput = input(\"Enter your input: \")"
   ]
  },
  {
   "cell_type": "code",
   "execution_count": 17,
   "id": "f83bb4f6",
   "metadata": {},
   "outputs": [
    {
     "name": "stdout",
     "output_type": "stream",
     "text": [
      "The number of vowels in the given input is 2\n"
     ]
    }
   ],
   "source": [
    "vowels = \"aeiouAEIOU\"\n",
    "\n",
    "count = 0\n",
    "\n",
    "for char in userinput:\n",
    "    if char in vowels:\n",
    "        count += 1\n",
    "\n",
    "print(\"The number of vowels in the given input is\", count)"
   ]
  },
  {
   "cell_type": "markdown",
   "id": "b03d1574",
   "metadata": {},
   "source": [
    "3. Given a string, reverse the order of characters using string slicing and print the reversed string."
   ]
  },
  {
   "cell_type": "code",
   "execution_count": 18,
   "id": "62316277",
   "metadata": {},
   "outputs": [],
   "source": [
    "r = \"rajesh\""
   ]
  },
  {
   "cell_type": "code",
   "execution_count": 19,
   "id": "b8299a23",
   "metadata": {},
   "outputs": [],
   "source": [
    "newString = r[::-1]"
   ]
  },
  {
   "cell_type": "code",
   "execution_count": 20,
   "id": "e1423bb9",
   "metadata": {},
   "outputs": [
    {
     "data": {
      "text/plain": [
       "'hsejar'"
      ]
     },
     "execution_count": 20,
     "metadata": {},
     "output_type": "execute_result"
    }
   ],
   "source": [
    "newString"
   ]
  },
  {
   "cell_type": "markdown",
   "id": "659b7477",
   "metadata": {},
   "source": [
    "4. Write a program that takes a string as input and checks if it is a palindrome (reads the same forwards and backwards)."
   ]
  },
  {
   "cell_type": "code",
   "execution_count": 21,
   "id": "afa13bd8",
   "metadata": {},
   "outputs": [
    {
     "name": "stdout",
     "output_type": "stream",
     "text": [
      "Enter a string: katak\n"
     ]
    }
   ],
   "source": [
    "string = input(\"Enter a string: \")"
   ]
  },
  {
   "cell_type": "code",
   "execution_count": 22,
   "id": "9867a38b",
   "metadata": {},
   "outputs": [
    {
     "name": "stdout",
     "output_type": "stream",
     "text": [
      "The string is a palindrome\n"
     ]
    }
   ],
   "source": [
    "if string == string[::-1]:\n",
    "    print(\"The string is a palindrome\")\n",
    "else:\n",
    "    print(\"The string is not a palindrome\")"
   ]
  },
  {
   "cell_type": "markdown",
   "id": "b468ddd3",
   "metadata": {},
   "source": [
    "5. Create a program that takes a string as input and removes all the spaces from it. Print the modified string without spaces."
   ]
  },
  {
   "cell_type": "code",
   "execution_count": 23,
   "id": "ffb3070b",
   "metadata": {},
   "outputs": [
    {
     "name": "stdout",
     "output_type": "stream",
     "text": [
      "Enter a string: c h in t u\n"
     ]
    }
   ],
   "source": [
    "userinput = input(\"Enter a string: \")"
   ]
  },
  {
   "cell_type": "code",
   "execution_count": 24,
   "id": "03df9331",
   "metadata": {},
   "outputs": [],
   "source": [
    "result = userinput.replace(\" \", \"\")"
   ]
  },
  {
   "cell_type": "code",
   "execution_count": 25,
   "id": "69f0c3a2",
   "metadata": {},
   "outputs": [
    {
     "name": "stdout",
     "output_type": "stream",
     "text": [
      "The modified string is chintu\n"
     ]
    }
   ],
   "source": [
    "print(\"The modified string is\", result)"
   ]
  },
  {
   "cell_type": "code",
   "execution_count": null,
   "id": "e8288a78",
   "metadata": {},
   "outputs": [],
   "source": []
  }
 ],
 "metadata": {
  "kernelspec": {
   "display_name": "Python 3 (ipykernel)",
   "language": "python",
   "name": "python3"
  },
  "language_info": {
   "codemirror_mode": {
    "name": "ipython",
    "version": 3
   },
   "file_extension": ".py",
   "mimetype": "text/x-python",
   "name": "python",
   "nbconvert_exporter": "python",
   "pygments_lexer": "ipython3",
   "version": "3.10.9"
  }
 },
 "nbformat": 4,
 "nbformat_minor": 5
}
