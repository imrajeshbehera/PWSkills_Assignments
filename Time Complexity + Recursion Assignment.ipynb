{
 "cells": [
  {
   "cell_type": "markdown",
   "id": "f3199ae1",
   "metadata": {},
   "source": [
    "# Find time complexity of below code blocks :"
   ]
  },
  {
   "cell_type": "markdown",
   "id": "ed02fc1b",
   "metadata": {},
   "source": [
    "# Problem 1 :\n",
    "def quicksort(arr):\n",
    "if len(arr) <= 1:\n",
    "return arr\n",
    "pivot = arr[len(arr) // 2]\n",
    "left = [x for x in arr if x < pivot]\n",
    "middle = [x for x in arr if x == pivot]\n",
    "right = [x for x in arr if x > pivot]\n",
    "return quicksort(left) + middle + quicksort(right)"
   ]
  },
  {
   "cell_type": "markdown",
   "id": "d6120fda",
   "metadata": {},
   "source": [
    "The time complexity of the provided quicksort function can be analyzed as follows:\n",
    "\n",
    "Best Case (O(n log n)): This occurs when the pivot divides the array into two nearly equal halves at each step, leading to a balanced tree. In this case, the depth of the recursive call tree is ( \\log n ), and at each level of the tree, a total of ( n ) operations are performed.\n",
    "\n",
    "Average Case (O(n log n)): On average, the pivot will split the array into parts that are not necessarily equal, but the division will still allow the depth of the recursion to be ( \\log n ), with ( n ) operations at each level.\n",
    "\n",
    "Worst Case (O(n^2)): This happens when the pivot is the smallest or largest element in the array, leading to one part with ( n-1 ) elements and the other with 0 elements. This unbalanced partitioning results in a depth of ( n ), with ( n ) operations at each level."
   ]
  },
  {
   "cell_type": "markdown",
   "id": "4c0fe414",
   "metadata": {},
   "source": [
    "# def nested_loop_example(matrix):\n",
    "rows, cols = len(matrix), len(matrix[0])\n",
    "total = 0\n",
    "for i in range(rows):\n",
    "for j in range(cols):\n",
    "total += matrix[i][j]\n",
    "return total"
   ]
  },
  {
   "cell_type": "markdown",
   "id": "3f25dc74",
   "metadata": {},
   "source": [
    "The time complexity of this is O(rows * cols). \n",
    "\n",
    "This is because there are two nested loops: the outer loop runs for rows iterations, and the inner loop runs for cols iterations. Since these loops are nested, the total number of iterations is the product of rows and cols. Therefore, if the matrix has m rows and n columns, the time complexity will be O(m * n)."
   ]
  },
  {
   "cell_type": "markdown",
   "id": "62cd25ae",
   "metadata": {},
   "source": [
    "# Problem 3 :\n",
    "def example_function(arr):\n",
    "result = 0\n",
    "for element in arr:\n",
    "result += element\n",
    "return result"
   ]
  },
  {
   "cell_type": "markdown",
   "id": "ab91f8fe",
   "metadata": {},
   "source": [
    "The time complexity of this code is O(n), where n is the number of elements in the array arr.\n",
    "\n",
    "This is because the function contains a single loop that iterates through each element of the array exactly once, performing a constant-time operation of addition for each element. Therefore, the overall time complexity is linear with respect to the size of the input array. "
   ]
  },
  {
   "cell_type": "markdown",
   "id": "cdcea2c7",
   "metadata": {},
   "source": [
    "# Problem 4 :\n",
    "def longest_increasing_subsequence(nums):\n",
    "n = len(nums)\n",
    "lis = [1] * n\n",
    "for i in range(1, n):\n",
    "for j in range(0, i):\n",
    "if nums[i] > nums[j] and lis[i] < lis[j] + 1:\n",
    "lis[i] = lis[j] + 1\n",
    "return max(lis)"
   ]
  },
  {
   "cell_type": "markdown",
   "id": "4f2ab600",
   "metadata": {},
   "source": [
    "The time complexity of this function is O(n^2), where n is the number of elements in the input list nums.\n",
    "\n",
    "Reason: The function uses two nested loops:\n",
    "\n",
    "The outer loop runs n times (from 1 to n-1).\n",
    "The inner loop runs up to i times for each iteration of the outer loop.\n",
    "In the worst case, the inner loop runs 1 + 2 + 3 + … + (n-1) times, which sums up to n(n-1)/2. This is a classic arithmetic series and its sum is proportional to n^2.\n",
    "\n",
    "Therefore, the overall time complexity is quadratic, which is denoted as O(n^2)."
   ]
  },
  {
   "cell_type": "markdown",
   "id": "214702d4",
   "metadata": {},
   "source": [
    "# Problem 5 :\n",
    "def mysterious_function(arr):\n",
    "n = len(arr)\n",
    "result = 0\n",
    "for i in range(n):\n",
    "for j in range(i, n):\n",
    "result += arr[i] * arr[j]\n",
    "return result"
   ]
  },
  {
   "cell_type": "markdown",
   "id": "3663158e",
   "metadata": {},
   "source": [
    "The time complexity of this function is O(n^2), where n is the number of elements in the array arr. This is because there are two nested loops:\n",
    "\n",
    "The outer loop runs n times.\n",
    "The inner loop runs from i to n, which means it runs n-i times for each iteration of the outer loop.\n",
    "In the worst case, the inner loop runs 1 + 2 + 3 + … + n times, which sums up to n(n+1)/2. This is an arithmetic series and its sum is proportional to n^2.\n",
    "\n",
    "Therefore, the overall time complexity is quadratic, which is denoted as O(n^2)."
   ]
  },
  {
   "cell_type": "markdown",
   "id": "23993519",
   "metadata": {},
   "source": [
    "# Solve the following problems on recursion"
   ]
  },
  {
   "cell_type": "markdown",
   "id": "55a8d98e",
   "metadata": {},
   "source": [
    "# Problem 6 : Sum of Digits\n",
    "Write a recursive function to calculate the sum of digits of a given positive integer.\n",
    "\n",
    "sum_of_digits(123) -> 6"
   ]
  },
  {
   "cell_type": "code",
   "execution_count": 1,
   "id": "4a4aa2ea",
   "metadata": {},
   "outputs": [
    {
     "name": "stdout",
     "output_type": "stream",
     "text": [
      "6\n"
     ]
    }
   ],
   "source": [
    "def sum_of_digits(n):\n",
    "    # Base case: if the number is less than 10, return the number itself\n",
    "    if n < 10:\n",
    "        return n\n",
    "    else:\n",
    "        # Recursive case: return the last digit plus the sum of the remaining digits\n",
    "        return n % 10 + sum_of_digits(n // 10)\n",
    "\n",
    "print(sum_of_digits(123)) "
   ]
  },
  {
   "cell_type": "markdown",
   "id": "c6b6dd2b",
   "metadata": {},
   "source": [
    "# Problem 7: Fibonacci Series\n",
    "Write a recursive function to generate the first n numbers of the Fibonacci series.\n",
    "fibonacci_series(6) -> [0, 1, 1, 2, 3, 5]"
   ]
  },
  {
   "cell_type": "code",
   "execution_count": 3,
   "id": "7d8470ec",
   "metadata": {},
   "outputs": [
    {
     "name": "stdout",
     "output_type": "stream",
     "text": [
      "[0, 1, 1, 2, 3, 5]\n"
     ]
    }
   ],
   "source": [
    "def fibonacci(n, a=0, b=1, series=None):\n",
    "    if series is None:\n",
    "        series = [a]\n",
    "    if n == 1:\n",
    "        return series\n",
    "    # Append the next number in the series\n",
    "    series.append(b)\n",
    "    # Recursive call with updated values\n",
    "    return fibonacci(n-1, b, a+b, series)\n",
    "\n",
    "\n",
    "print(fibonacci(6)) \n"
   ]
  },
  {
   "cell_type": "markdown",
   "id": "3f007598",
   "metadata": {},
   "source": [
    "# Problem 8 : Subset Sum\n",
    "\n",
    "Given a set of positive integers and a target sum, write a recursive function to determine if there exists a subset\n",
    "of the integers that adds up to the target sum.\n",
    "\n",
    "subset_sum([3, 34, 4, 12, 5, 2], 9) -> True"
   ]
  },
  {
   "cell_type": "code",
   "execution_count": 5,
   "id": "3c163b47",
   "metadata": {},
   "outputs": [
    {
     "name": "stdout",
     "output_type": "stream",
     "text": [
      "True\n"
     ]
    }
   ],
   "source": [
    "def subset_sum(numbers, target):\n",
    "\n",
    "    if target == 0:\n",
    "        return True\n",
    "    # If there are no numbers left or the target becomes negative, no subset adds up to the target\n",
    "    if not numbers or target < 0:\n",
    "        return False\n",
    "    # Recursive case: include the first number in the subset and check\n",
    "    # Or exclude the first number and check\n",
    "    return subset_sum(numbers[1:], target - numbers[0]) or subset_sum(numbers[1:], target)\n",
    "\n",
    "print(subset_sum([3, 34, 4, 12, 5, 2], 9))  \n"
   ]
  },
  {
   "cell_type": "markdown",
   "id": "bbf75d47",
   "metadata": {},
   "source": [
    "# Problem 9: Word Break\n",
    "Given a non-empty string and a dictionary of words, write a recursive function to determine if the string can be\n",
    "segmented into a space-separated sequence of dictionary words.\n",
    "word_break( leetcode , [ leet , code ]) -> True"
   ]
  },
  {
   "cell_type": "code",
   "execution_count": 7,
   "id": "b41a3744",
   "metadata": {},
   "outputs": [
    {
     "name": "stdout",
     "output_type": "stream",
     "text": [
      "True\n"
     ]
    }
   ],
   "source": [
    "def word_break(s, word_dict, start=0, memo=None):\n",
    "    if memo is None:\n",
    "        memo = {}\n",
    "    if start == len(s):\n",
    "        return True\n",
    "    if start in memo:\n",
    "        return memo[start]\n",
    "    for end in range(start + 1, len(s) + 1):\n",
    "        if s[start:end] in word_dict and word_break(s, word_dict, end, memo):\n",
    "            memo[start] = True\n",
    "            return True\n",
    "    memo[start] = False\n",
    "    return False\n",
    "\n",
    "print(word_break('leetcode', ['leet', 'code']))  \n"
   ]
  },
  {
   "cell_type": "markdown",
   "id": "646850dd",
   "metadata": {},
   "source": [
    "# Problem 10 : N-Queens\n",
    "Implement a recursive function to solve the N Queens problem, where you have to place N queens on an N×N\n",
    "chessboard in such a way that no two queens threaten each other.\n",
    "n_queens(4)\n",
    "[\n",
    "[\".Q..\",\n",
    "\"...Q\",\n",
    "\"Q...\",\n",
    "\"..Q.\"],\n",
    "[\"..Q.\",\n",
    "\"Q...\",\n",
    "\"...Q\",\n",
    "\".Q..\"]\n",
    "]"
   ]
  },
  {
   "cell_type": "code",
   "execution_count": 8,
   "id": "fb696305",
   "metadata": {},
   "outputs": [
    {
     "name": "stdout",
     "output_type": "stream",
     "text": [
      ". . Q .\n",
      "Q . . .\n",
      ". . . Q\n",
      ". Q . .\n"
     ]
    }
   ],
   "source": [
    "def solve_n_queens(n):\n",
    "    def is_safe(board, row, col):\n",
    "        # Check this row on left side\n",
    "        for i in range(col):\n",
    "            if board[row][i] == 'Q':\n",
    "                return False\n",
    "        # Check upper diagonal on left side\n",
    "        for i, j in zip(range(row, -1, -1), range(col, -1, -1)):\n",
    "            if board[i][j] == 'Q':\n",
    "                return False\n",
    "        # Check lower diagonal on left side\n",
    "        for i, j in zip(range(row, n, 1), range(col, -1, -1)):\n",
    "            if board[i][j] == 'Q':\n",
    "                return False\n",
    "        return True\n",
    "\n",
    "    def solve(board, col):\n",
    "        # base case: If all queens are placed\n",
    "        if col >= n:\n",
    "            return True\n",
    "        for i in range(n):\n",
    "            if is_safe(board, i, col):\n",
    "                # Place this queen in board[i][col]\n",
    "                board[i][col] = 'Q'\n",
    "                # recur to place rest of the queens\n",
    "                if solve(board, col + 1):\n",
    "                    return True\n",
    "                # If placing queen in board[i][col] doesn't lead to a solution, then remove queen from board[i][col]\n",
    "                board[i][col] = '.'\n",
    "        # if the queen can not be placed in any row in this column col then return false\n",
    "        return False\n",
    "\n",
    "    # Initialize the board\n",
    "    board = [['.' for _ in range(n)] for _ in range(n)]\n",
    "    if solve(board, 0):\n",
    "        return board\n",
    "    else:\n",
    "        return \"No solution exists\"\n",
    "\n",
    "\n",
    "for row in solve_n_queens(4):\n",
    "    print(' '.join(row))\n"
   ]
  },
  {
   "cell_type": "code",
   "execution_count": null,
   "id": "ef3d5881",
   "metadata": {},
   "outputs": [],
   "source": []
  }
 ],
 "metadata": {
  "kernelspec": {
   "display_name": "Python 3 (ipykernel)",
   "language": "python",
   "name": "python3"
  },
  "language_info": {
   "codemirror_mode": {
    "name": "ipython",
    "version": 3
   },
   "file_extension": ".py",
   "mimetype": "text/x-python",
   "name": "python",
   "nbconvert_exporter": "python",
   "pygments_lexer": "ipython3",
   "version": "3.10.9"
  }
 },
 "nbformat": 4,
 "nbformat_minor": 5
}
