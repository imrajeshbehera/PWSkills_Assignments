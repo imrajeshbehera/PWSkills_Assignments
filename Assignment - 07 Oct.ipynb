{
 "cells": [
  {
   "cell_type": "markdown",
   "id": "01e40e23",
   "metadata": {},
   "source": [
    "1. Create a class representing a bank account with attributes like account number, account holder name, and balance. Implement methods to deposit and withdraw money from the account."
   ]
  },
  {
   "cell_type": "code",
   "execution_count": 3,
   "id": "2b3fe3e7",
   "metadata": {},
   "outputs": [],
   "source": [
    "class Bank_Account:\n",
    "    def __init__(self):\n",
    "        self.balance=0\n",
    "        print(\"Hey there! Welcome to Bank of Rajesh\")\n",
    " \n",
    "    def deposit(self):\n",
    "        amount=float(input(\"Enter amount to be Deposited: \"))\n",
    "        self.balance += amount\n",
    "        print(\"\\n Amount Deposited:\",amount)\n",
    " \n",
    "    def withdraw(self):\n",
    "        amount = float(input(\"Enter amount to be Withdrawn: \"))\n",
    "        if self.balance>=amount:\n",
    "            self.balance-=amount\n",
    "            print(\"\\n You Withdrew:\", amount)\n",
    "        else:\n",
    "            print(\"\\n Insufficient balance  \")\n",
    " \n",
    "    def display(self):\n",
    "        print(\"\\n Net Available Balance=\",self.balance)\n",
    " "
   ]
  },
  {
   "cell_type": "code",
   "execution_count": 4,
   "id": "7d61aa3e",
   "metadata": {},
   "outputs": [
    {
     "name": "stdout",
     "output_type": "stream",
     "text": [
      "Hey there! Welcome to Bank of Rajesh\n",
      "Enter amount to be Deposited: 1000\n",
      "\n",
      " Amount Deposited: 1000.0\n",
      "Enter amount to be Withdrawn: 20\n",
      "\n",
      " You Withdrew: 20.0\n",
      "\n",
      " Net Available Balance= 980.0\n"
     ]
    }
   ],
   "source": [
    "s = Bank_Account()\n",
    "  \n",
    "# Calling functions with that class object\n",
    "s.deposit()\n",
    "s.withdraw()\n",
    "s.display()"
   ]
  },
  {
   "cell_type": "markdown",
   "id": "bac18ef2",
   "metadata": {},
   "source": [
    "2. Create a class representing an employee with attributes like employee ID, name, and salary. Implement methods to calculate the yearly bonus and display employee details."
   ]
  },
  {
   "cell_type": "code",
   "execution_count": 5,
   "id": "2fe1f164",
   "metadata": {},
   "outputs": [],
   "source": [
    "class Employee:\n",
    "\n",
    "    def __init__(self, employee_id, name, salary):\n",
    "        self.employee_id = employee_id\n",
    "        self.name = name\n",
    "        self.salary = salary\n",
    "\n",
    "    def calculate_yearly_bonus(self):\n",
    "        return self.salary * 0.15\n",
    "\n",
    "    def display_employee_details(self):\n",
    "        print(\"Employee ID:\", self.employee_id)\n",
    "        print(\"Name:\", self.name)\n",
    "        print(\"Salary:\", self.salary)\n",
    "        print(\"Yearly bonus:\", self.calculate_yearly_bonus())"
   ]
  },
  {
   "cell_type": "code",
   "execution_count": 7,
   "id": "5e63df5d",
   "metadata": {},
   "outputs": [],
   "source": [
    "Rajesh = Employee(\"1122\", \"Rajesh Behera\", 100000)"
   ]
  },
  {
   "cell_type": "code",
   "execution_count": 8,
   "id": "57b66639",
   "metadata": {},
   "outputs": [
    {
     "name": "stdout",
     "output_type": "stream",
     "text": [
      "Employee ID: 1122\n",
      "Name: Rajesh Behera\n",
      "Salary: 100000\n",
      "Yearly bonus: 15000.0\n"
     ]
    }
   ],
   "source": [
    "Rajesh.display_employee_details()"
   ]
  },
  {
   "cell_type": "markdown",
   "id": "037abe54",
   "metadata": {},
   "source": [
    "Problem 3: Vehicle Rental Create a class representing a vehicle rental system. Implement methods to rent a vehicle, return a vehicle, and display available vehicles.\n"
   ]
  },
  {
   "cell_type": "code",
   "execution_count": 14,
   "id": "fbbbc84a",
   "metadata": {},
   "outputs": [],
   "source": [
    "class VehicleRentalSystem:\n",
    "    def __init__(self):\n",
    "        self.available_vehicles = []\n",
    "\n",
    "    def rent_vehicle(self, vehicle):\n",
    "        if vehicle in self.available_vehicles:\n",
    "            self.available_vehicles.remove(vehicle)\n",
    "            print(f\"{vehicle} has been rented.\")\n",
    "        else:\n",
    "            print(f\"{vehicle} is not available for rent.\")\n",
    "\n",
    "    def return_vehicle(self, vehicle):\n",
    "        if vehicle not in self.available_vehicles:\n",
    "            self.available_vehicles.append(vehicle)\n",
    "            print(f\"{vehicle} has been returned.\")\n",
    "        else:\n",
    "            print(f\"{vehicle} is already available for rent.\")\n",
    "\n",
    "    def display_available_vehicles(self):\n",
    "        if len(self.available_vehicles) == 0:\n",
    "            print(\"No vehicles are currently available for rent.\")\n",
    "        else:\n",
    "            print(\"The following vehicles are available for rent:\")\n",
    "            for vehicle in self.available_vehicles:\n",
    "                print(vehicle)\n"
   ]
  },
  {
   "cell_type": "code",
   "execution_count": 15,
   "id": "1c0e93a8",
   "metadata": {},
   "outputs": [
    {
     "name": "stdout",
     "output_type": "stream",
     "text": [
      "Car 1 has been rented.\n",
      "Car 2 is already available for rent.\n",
      "The following vehicles are available for rent:\n",
      "Car 2\n",
      "Car 3\n"
     ]
    }
   ],
   "source": [
    "# Create a VehicleRentalSystem object\n",
    "vehicle_rental_system = VehicleRentalSystem()\n",
    "\n",
    "# Add some vehicles to the system\n",
    "vehicle_rental_system.available_vehicles.append(\"Car 1\")\n",
    "vehicle_rental_system.available_vehicles.append(\"Car 2\")\n",
    "vehicle_rental_system.available_vehicles.append(\"Car 3\")\n",
    "\n",
    "# Rent a vehicle\n",
    "vehicle_rental_system.rent_vehicle(\"Car 1\")\n",
    "\n",
    "# Return a vehicle\n",
    "vehicle_rental_system.return_vehicle(\"Car 2\")\n",
    "\n",
    "# Display available vehicles\n",
    "vehicle_rental_system.display_available_vehicles()\n"
   ]
  },
  {
   "cell_type": "markdown",
   "id": "8d66adbd",
   "metadata": {},
   "source": [
    "Problem 4: Library Catalog Create classes representing a library and a book. Implement methods to add books to the library, borrow books, and display available books.\n"
   ]
  },
  {
   "cell_type": "code",
   "execution_count": 16,
   "id": "4eefa984",
   "metadata": {},
   "outputs": [],
   "source": [
    "class Book:\n",
    "    def __init__(self, title):\n",
    "        self.title = title\n",
    "\n",
    "class Library:\n",
    "    def __init__(self):\n",
    "        self.books = []\n",
    "\n",
    "    def add_book(self, book: Book):\n",
    "        self.books.append(book)\n",
    "\n",
    "    def borrow_book(self, book: Book):\n",
    "        if book in self.books:\n",
    "            self.books.remove(book)\n",
    "            print(f\"{book.title} has been borrowed.\")\n",
    "        else:\n",
    "            print(f\"{book.title} is not available for borrowing.\")\n",
    "\n",
    "    def display_available_books(self):\n",
    "        if len(self.books) == 0:\n",
    "            print(\"No books are currently available.\")\n",
    "        else:\n",
    "            print(\"The following books are available:\")\n",
    "            for book in self.books:\n",
    "                print(book.title)\n"
   ]
  },
  {
   "cell_type": "code",
   "execution_count": 17,
   "id": "c534533c",
   "metadata": {},
   "outputs": [
    {
     "name": "stdout",
     "output_type": "stream",
     "text": [
      "Python has been borrowed.\n",
      "The following books are available:\n",
      "VBA\n",
      "Tableau\n"
     ]
    }
   ],
   "source": [
    "# Create a Library object\n",
    "library = Library()\n",
    "\n",
    "# Add some books to the library\n",
    "book1 = Book(\"Python\")\n",
    "book2 = Book(\"VBA\")\n",
    "book3 = Book(\"Tableau\")\n",
    "library.add_book(book1)\n",
    "library.add_book(book2)\n",
    "library.add_book(book3)\n",
    "\n",
    "# Borrow a book\n",
    "library.borrow_book(book1)\n",
    "\n",
    "# Display available books\n",
    "library.display_available_books()\n"
   ]
  },
  {
   "cell_type": "markdown",
   "id": "918f6089",
   "metadata": {},
   "source": [
    "Problem 5: Product Inventory Create classes representing a product and an inventory system. Implement methods to add products to the inventory, update product quantity, and display available products.\n"
   ]
  },
  {
   "cell_type": "code",
   "execution_count": 18,
   "id": "0eaf1592",
   "metadata": {},
   "outputs": [],
   "source": [
    "class Product:\n",
    "    def __init__(self, product_id, name, price, quantity):\n",
    "        self.product_id = product_id\n",
    "        self.name = name\n",
    "        self.price = price\n",
    "        self.quantity = quantity\n",
    "\n",
    "class Inventory:\n",
    "    def __init__(self):\n",
    "        self.products = []\n",
    "\n",
    "    def add_product(self, product: Product) :\n",
    "        self.products.append(product)\n",
    "\n",
    "    def update_quantity(self, product_id, quantity):\n",
    "        for product in self.products:\n",
    "            if product.product_id == product_id:\n",
    "                product.quantity += quantity\n",
    "                return\n",
    "        print(f\"Product with ID {product_id} not found.\")\n",
    "\n",
    "    def display_available_products(self) :\n",
    "        if len(self.products) == 0:\n",
    "            print(\"No products are currently available.\")\n",
    "        else:\n",
    "            print(\"The following products are available:\")\n",
    "            for product in self.products:\n",
    "                print(f\"{product.name} (ID: {product.product_id}) - Price: {product.price}, Quantity: {product.quantity}\")\n"
   ]
  },
  {
   "cell_type": "code",
   "execution_count": 19,
   "id": "c92a5fa4",
   "metadata": {},
   "outputs": [
    {
     "name": "stdout",
     "output_type": "stream",
     "text": [
      "The following products are available:\n",
      "Product 1 (ID: 123) - Price: 10.0, Quantity: 8\n",
      "Product 2 (ID: 456) - Price: 20.0, Quantity: 10\n"
     ]
    }
   ],
   "source": [
    "# Create an inventory object\n",
    "inventory = Inventory()\n",
    "\n",
    "# Add some products to the inventory\n",
    "product1 = Product(\"123\", \"Product 1\", 10.0, 5)\n",
    "product2 = Product(\"456\", \"Product 2\", 20.0, 10)\n",
    "inventory.add_product(product1)\n",
    "inventory.add_product(product2)\n",
    "\n",
    "# Update the quantity of a product\n",
    "inventory.update_quantity(\"123\", 3)\n",
    "\n",
    "# Display available products\n",
    "inventory.display_available_products()\n"
   ]
  },
  {
   "cell_type": "markdown",
   "id": "7c5625e0",
   "metadata": {},
   "source": [
    "Problem 6: Shape Calculation Create a class representing a shape with attributes like length, width, and height. Implement methods to calculate the area and perimeter of the shape.\n"
   ]
  },
  {
   "cell_type": "code",
   "execution_count": 21,
   "id": "67d479f0",
   "metadata": {},
   "outputs": [],
   "source": [
    "class Shape:\n",
    "    def __init__(self, length, width, height):\n",
    "        self.length = length\n",
    "        self.width = width\n",
    "        self.height = height\n",
    "\n",
    "    def calculate_area(self):\n",
    "        return self.length * self.width\n",
    "\n",
    "    def calculate_perimeter(self):\n",
    "        return 2 * (self.length + self.width)\n",
    "\n"
   ]
  },
  {
   "cell_type": "code",
   "execution_count": 24,
   "id": "c67d78b4",
   "metadata": {},
   "outputs": [],
   "source": [
    "rectangle = Shape(10, 5, 0)"
   ]
  },
  {
   "cell_type": "code",
   "execution_count": 25,
   "id": "29bc9c94",
   "metadata": {},
   "outputs": [
    {
     "name": "stdout",
     "output_type": "stream",
     "text": [
      "The area of the rectangle is 50\n",
      "The perimeter of the rectangle is 30\n"
     ]
    }
   ],
   "source": [
    "area = rectangle.calculate_area()\n",
    "perimeter = rectangle.calculate_perimeter()\n",
    "\n",
    "print(f'The area of the rectangle is {area}')\n",
    "print(f'The perimeter of the rectangle is {perimeter}')"
   ]
  },
  {
   "cell_type": "markdown",
   "id": "9b7348e7",
   "metadata": {},
   "source": [
    "Problem 7: Student Management Create a class representing a student with attributes like student ID, name, and grades. Implement methods to calculate the average grade and display student details.\n"
   ]
  },
  {
   "cell_type": "code",
   "execution_count": 26,
   "id": "167a4672",
   "metadata": {},
   "outputs": [],
   "source": [
    "class Student:\n",
    "    def __init__(self, student_id: str, name: str, grades: list):\n",
    "        self.student_id = student_id\n",
    "        self.name = name\n",
    "        self.grades = grades\n",
    "\n",
    "    def calculate_average_grade(self) -> float:\n",
    "        return sum(self.grades) / len(self.grades)\n",
    "\n",
    "    def display_student_details(self) -> None:\n",
    "        print(f\"Student ID: {self.student_id}\")\n",
    "        print(f\"Name: {self.name}\")\n",
    "        print(f\"Grades: {self.grades}\")\n"
   ]
  },
  {
   "cell_type": "code",
   "execution_count": 27,
   "id": "14dcbe99",
   "metadata": {},
   "outputs": [
    {
     "name": "stdout",
     "output_type": "stream",
     "text": [
      "Student ID: 123\n",
      "Name: Rajesh Behera\n",
      "Grades: [80, 90, 70, 85, 95]\n",
      "Average Grade: 84.0\n"
     ]
    }
   ],
   "source": [
    "# Create a student object\n",
    "student = Student(\"123\", \"Rajesh Behera\", [80, 90, 70, 85, 95])\n",
    "\n",
    "# Calculate the average grade for the student\n",
    "average_grade = student.calculate_average_grade()\n",
    "\n",
    "# Display the student details along with the average grade\n",
    "student.display_student_details()\n",
    "print(f\"Average Grade: {average_grade}\")\n"
   ]
  },
  {
   "cell_type": "markdown",
   "id": "c03e49fe",
   "metadata": {},
   "source": [
    "Problem 8: Email Management Create a class representing an email with attributes like sender, recipient, and subject. Implement methods to send an email and display email details.\n"
   ]
  },
  {
   "cell_type": "code",
   "execution_count": 28,
   "id": "67b90ee1",
   "metadata": {},
   "outputs": [],
   "source": [
    "import smtplib\n",
    "from email.mime.text import MIMEText\n",
    "\n",
    "class Email:\n",
    "    def __init__(self, sender, recipient, subject, body):\n",
    "        self.sender = sender\n",
    "        self.recipient = recipient\n",
    "        self.subject = subject\n",
    "        self.body = body\n",
    "\n",
    "    def send_email(self):\n",
    "        message = MIMEText(self.body)\n",
    "        message['Subject'] = self.subject\n",
    "        message['From'] = self.sender\n",
    "        message['To'] = self.recipient\n",
    "\n",
    "    def display_email_details(self):\n",
    "        print(f'Sender: {self.sender}')\n",
    "        print(f'Recipient: {self.recipient}')\n",
    "        print(f'Subject: {self.subject}')\n",
    "        print(f'Body: {self.body}')\n"
   ]
  },
  {
   "cell_type": "code",
   "execution_count": 32,
   "id": "146c6474",
   "metadata": {},
   "outputs": [],
   "source": [
    "email = Email('rb@gmail.com', 'rajesh@gmail.com', 'My email subject', 'This is test email')\n"
   ]
  },
  {
   "cell_type": "code",
   "execution_count": 33,
   "id": "4053da49",
   "metadata": {},
   "outputs": [
    {
     "name": "stdout",
     "output_type": "stream",
     "text": [
      "Sender: rb@gmail.com\n",
      "Recipient: rajesh@gmail.com\n",
      "Subject: My email subject\n",
      "Body: This is test email\n"
     ]
    }
   ],
   "source": [
    "email.display_email_details()"
   ]
  },
  {
   "cell_type": "markdown",
   "id": "14518dd1",
   "metadata": {},
   "source": [
    "Problem 9: Social Media Profile Create a class representing a social media profile with attributes like username and posts. Implement methods to add posts, display posts, and search for posts by keyword.\n"
   ]
  },
  {
   "cell_type": "code",
   "execution_count": 34,
   "id": "6994893a",
   "metadata": {},
   "outputs": [],
   "source": [
    "class SocialMediaProfile:\n",
    "    def __init__(self, username: str):\n",
    "        self.username = username\n",
    "        self.posts = []\n",
    "\n",
    "    def add_post(self, post: str) -> None:\n",
    "        self.posts.append(post)\n",
    "\n",
    "    def display_posts(self) -> None:\n",
    "        if len(self.posts) == 0:\n",
    "            print(\"No posts available.\")\n",
    "        else:\n",
    "            print(f\"Posts by {self.username}:\")\n",
    "            for post in self.posts:\n",
    "                print(post)\n",
    "\n",
    "    def search_posts_by_keyword(self, keyword: str) -> None:\n",
    "        matching_posts = [post for post in self.posts if keyword in post]\n",
    "        if len(matching_posts) == 0:\n",
    "            print(f\"No posts found containing the keyword '{keyword}'.\")\n",
    "        else:\n",
    "            print(f\"Posts by {self.username} containing the keyword '{keyword}':\")\n",
    "            for post in matching_posts:\n",
    "                print(post)\n"
   ]
  },
  {
   "cell_type": "code",
   "execution_count": 36,
   "id": "88862365",
   "metadata": {},
   "outputs": [
    {
     "name": "stdout",
     "output_type": "stream",
     "text": [
      "Posts by rajeshbehera:\n",
      "This is my first post.\n",
      "Just posted a new photo!\n",
      "Feeling great today.\n",
      "Posts by rajeshbehera containing the keyword 'photo':\n",
      "Just posted a new photo!\n"
     ]
    }
   ],
   "source": [
    "# Create a social media profile object\n",
    "profile = SocialMediaProfile(\"rajeshbehera\")\n",
    "\n",
    "# Add some posts to the profile\n",
    "profile.add_post(\"This is my first post.\")\n",
    "profile.add_post(\"Just posted a new photo!\")\n",
    "profile.add_post(\"Feeling great today.\")\n",
    "\n",
    "# Display all the posts on the profile\n",
    "profile.display_posts()\n",
    "\n",
    "# Search for posts containing the word 'photo'\n",
    "profile.search_posts_by_keyword(\"photo\")\n"
   ]
  },
  {
   "cell_type": "markdown",
   "id": "0c65cd5d",
   "metadata": {},
   "source": [
    "Problem 10: ToDo List Create a class representing a ToDo list with attributes like tasks and due dates. Implement methods to add tasks, mark tasks as completed, and display pending tasks."
   ]
  },
  {
   "cell_type": "code",
   "execution_count": 37,
   "id": "ac706f29",
   "metadata": {},
   "outputs": [],
   "source": [
    "class ToDoList:\n",
    "    def __init__(self):\n",
    "        self.tasks = []\n",
    "        self.due_dates = []\n",
    "\n",
    "    def add_task(self, task, due_date):\n",
    "        self.tasks.append(task)\n",
    "        self.due_dates.append(due_date)\n",
    "\n",
    "    def mark_task_as_completed(self, task_index):\n",
    "        if task_index < len(self.tasks):\n",
    "            self.tasks.pop(task_index)\n",
    "            self.due_dates.pop(task_index)\n",
    "\n",
    "    def display_pending_tasks(self) :\n",
    "        if len(self.tasks) == 0:\n",
    "            print(\"No tasks are currently pending.\")\n",
    "        else:\n",
    "            print(\"The following tasks are pending:\")\n",
    "            for i in range(len(self.tasks)):\n",
    "                print(f\"{i+1}. {self.tasks[i]} (Due Date: {self.due_dates[i]})\")\n"
   ]
  },
  {
   "cell_type": "code",
   "execution_count": 38,
   "id": "8995ac94",
   "metadata": {},
   "outputs": [
    {
     "name": "stdout",
     "output_type": "stream",
     "text": [
      "The following tasks are pending:\n",
      "1. Buy groceries (Due Date: 2023-10-15)\n",
      "2. Finish project (Due Date: 2023-11-05)\n"
     ]
    }
   ],
   "source": [
    "# Create a ToDoList object\n",
    "todo_list = ToDoList()\n",
    "\n",
    "# Add some tasks to the list\n",
    "todo_list.add_task(\"Buy groceries\", \"2023-10-15\")\n",
    "todo_list.add_task(\"Pay rent\", \"2023-10-31\")\n",
    "todo_list.add_task(\"Finish project\", \"2023-11-05\")\n",
    "\n",
    "# Mark a task as completed\n",
    "todo_list.mark_task_as_completed(1)\n",
    "\n",
    "# Display pending tasks\n",
    "todo_list.display_pending_tasks()\n"
   ]
  },
  {
   "cell_type": "code",
   "execution_count": null,
   "id": "f7245abb",
   "metadata": {},
   "outputs": [],
   "source": []
  }
 ],
 "metadata": {
  "kernelspec": {
   "display_name": "Python 3 (ipykernel)",
   "language": "python",
   "name": "python3"
  },
  "language_info": {
   "codemirror_mode": {
    "name": "ipython",
    "version": 3
   },
   "file_extension": ".py",
   "mimetype": "text/x-python",
   "name": "python",
   "nbconvert_exporter": "python",
   "pygments_lexer": "ipython3",
   "version": "3.10.9"
  }
 },
 "nbformat": 4,
 "nbformat_minor": 5
}
