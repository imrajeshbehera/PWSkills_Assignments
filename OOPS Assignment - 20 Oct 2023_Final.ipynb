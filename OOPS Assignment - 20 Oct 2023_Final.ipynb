{
 "cells": [
  {
   "cell_type": "markdown",
   "id": "6cdcb222",
   "metadata": {},
   "source": [
    "# Constructor :  "
   ]
  },
  {
   "cell_type": "markdown",
   "id": "e1960c91",
   "metadata": {},
   "source": [
    "1. What is a constructor in Python? Explain its purpose and usage."
   ]
  },
  {
   "cell_type": "code",
   "execution_count": 1,
   "id": "84117219",
   "metadata": {},
   "outputs": [
    {
     "name": "stdout",
     "output_type": "stream",
     "text": [
      "Rajesh\n",
      "33\n"
     ]
    }
   ],
   "source": [
    "\"\"\"\n",
    "A constructor in Python is a special method that is called when an object\n",
    "of a class is created. It is used to initialize the attributes of \n",
    "the object and set default values. It is defined using the init() \n",
    "method in the class\n",
    "\n",
    "\"\"\"\n",
    "#Example:\n",
    "class Person:\n",
    "  def __init__(self, name, age):\n",
    "    self.name = name\n",
    "    self.age = age\n",
    "\n",
    "p1 = Person(\"Rajesh\", 33) \n",
    "print(p1.name)\n",
    "print(p1.age) \n"
   ]
  },
  {
   "cell_type": "markdown",
   "id": "3c617af7",
   "metadata": {},
   "source": [
    "2. Differentiate between a parameterless constructor and a parameterized constructor in Python."
   ]
  },
  {
   "cell_type": "code",
   "execution_count": 2,
   "id": "56e03f03",
   "metadata": {},
   "outputs": [
    {
     "data": {
      "text/plain": [
       "'\\nparameterless constructor - \\n    A parameterless constructor in Python is a constructor that does not \\n    take any arguments except self, which is a reference to the object \\n    being created. It is used to create an object with default values for \\n    the attributes\\n    \\nparameterized constructor - \\n    A parameterized constructor in Python is a constructor that takes at \\n    least one argument besides self. It is used to create an object with \\n    specific values for the attributes. The arguments for the parameters \\n    should be passed while creating the object.\\n'"
      ]
     },
     "execution_count": 2,
     "metadata": {},
     "output_type": "execute_result"
    }
   ],
   "source": [
    "\"\"\"\n",
    "parameterless constructor - \n",
    "    A parameterless constructor in Python is a constructor that does not \n",
    "    take any arguments except self, which is a reference to the object \n",
    "    being created. It is used to create an object with default values for \n",
    "    the attributes\n",
    "    \n",
    "parameterized constructor - \n",
    "    A parameterized constructor in Python is a constructor that takes at \n",
    "    least one argument besides self. It is used to create an object with \n",
    "    specific values for the attributes. The arguments for the parameters \n",
    "    should be passed while creating the object.\n",
    "\"\"\""
   ]
  },
  {
   "cell_type": "markdown",
   "id": "e2a1205b",
   "metadata": {},
   "source": [
    "3. How do you define a constructor in a Python class? Provide an example."
   ]
  },
  {
   "cell_type": "code",
   "execution_count": 3,
   "id": "af8ae5e1",
   "metadata": {},
   "outputs": [
    {
     "name": "stdout",
     "output_type": "stream",
     "text": [
      "dsa practical dsa\n"
     ]
    }
   ],
   "source": [
    "# init() is used to define a constructor.\n",
    "\n",
    "#Example:\n",
    "\n",
    "class book:\n",
    "    \n",
    "    def __init__(self, name, title, pageno) :\n",
    "        self.name_of_book = name\n",
    "        self.title_of_book = title\n",
    "        self.page_no = pageno\n",
    "        \n",
    "    def extract_details(self) :\n",
    "        print(self.name_of_book, self.title_of_book)\n",
    "    \n",
    "    def print_page_no(self):\n",
    "        print(self.page_no)\n",
    "\n",
    "rajesh = book(\"dsa\",\"practical dsa\",455)\n",
    "chintu = book(\"data science\",\"implementation of data science\",355)\n",
    "rb = book(\"Big data\",\"invention of Big data\",155)\n",
    "\n",
    "rajesh.extract_details()"
   ]
  },
  {
   "cell_type": "markdown",
   "id": "13b8e318",
   "metadata": {},
   "source": [
    "4. Explain the `__init__` method in Python and its role in constructors."
   ]
  },
  {
   "cell_type": "code",
   "execution_count": 4,
   "id": "97913986",
   "metadata": {},
   "outputs": [],
   "source": [
    "#__init__ methods are also called dunder methods or magic methods, and it\n",
    "#provide some built-in functionality for classes and object\n",
    "\n",
    "#The init() method in Python is a special method that is automatically called when an object of a class is created.\n",
    "\n",
    "#It is used to initialize the attributes of the object and set default values.\n",
    "\n",
    "# It takes as its first argument self, which is a reference to the object being\n",
    "#created, and then any other arguments that are required for creating the \n",
    "#object"
   ]
  },
  {
   "cell_type": "markdown",
   "id": "e3dc954b",
   "metadata": {},
   "source": [
    "5. In a class named `Person`, create a constructor that initializes the `name` and `age` attributes. Provide an example of creating an object of this class."
   ]
  },
  {
   "cell_type": "code",
   "execution_count": 5,
   "id": "d8766bcf",
   "metadata": {},
   "outputs": [
    {
     "name": "stdout",
     "output_type": "stream",
     "text": [
      "Rajesh\n",
      "33\n"
     ]
    }
   ],
   "source": [
    "class Person:\n",
    "  def __init__(self, name, age):\n",
    "    self.name = name\n",
    "    self.age = age\n",
    "\n",
    "p1 = Person(\"Rajesh\", 33) \n",
    "print(p1.name)\n",
    "print(p1.age) "
   ]
  },
  {
   "cell_type": "markdown",
   "id": "d7590f4a",
   "metadata": {},
   "source": [
    "6. How can you call a constructor explicitly in Python? Give an example."
   ]
  },
  {
   "cell_type": "code",
   "execution_count": 7,
   "id": "90be008f",
   "metadata": {},
   "outputs": [
    {
     "name": "stdout",
     "output_type": "stream",
     "text": [
      "A dog of breed German Shepherd is created.\n",
      "An animal named Rex is created.\n"
     ]
    }
   ],
   "source": [
    "\"\"\"super() function to call the constructor of the super class without \n",
    "specifying its name.\"\"\"\n",
    "\n",
    "#For example:\n",
    "class Animal:\n",
    "  def __init__(self, name):\n",
    "    self.name = name # initialize the name attribute\n",
    "    print(f\"An animal named {name} is created.\")\n",
    "\n",
    "class Dog(Animal):\n",
    "  def __init__(self, name, breed):\n",
    "    self.breed = breed # initialize the breed attribute\n",
    "    print(f\"A dog of breed {breed} is created.\")\n",
    "    super().__init__(name) # call the constructor of the super class using super()\n",
    "\n",
    "d1 = Dog(\"Rex\", \"German Shepherd\") # create a dog object\n",
    "# A dog of breed German Shepherd is created.\n",
    "# An animal named Rex is created.\n"
   ]
  },
  {
   "cell_type": "markdown",
   "id": "d4365abd",
   "metadata": {},
   "source": [
    "7. What is the significance of the `self` parameter in Python constructors? Explain with an example."
   ]
  },
  {
   "cell_type": "code",
   "execution_count": 10,
   "id": "d594d659",
   "metadata": {},
   "outputs": [
    {
     "name": "stdout",
     "output_type": "stream",
     "text": [
      "5\n",
      "78.5\n"
     ]
    }
   ],
   "source": [
    "\"\"\"\n",
    "The self parameter in Python constructors is a reference to the \n",
    "object being created. It is used to access and set the instance variables \n",
    "and methods of the class within the constructor. It is automatically passed\n",
    "by Python as the first argument to the constructor when an object of the \n",
    "class is created\n",
    "\"\"\"\n",
    "#Example:\n",
    "class Circle:\n",
    "  def __init__(self, radius):\n",
    "    self.radius = radius # set the radius attribute using self\n",
    "    self.area = 3.14 * radius**2 # set the area attribute using self\n",
    "\n",
    "c1 = Circle(5) \n",
    "print(c1.radius)\n",
    "print(c1.area) \n"
   ]
  },
  {
   "cell_type": "markdown",
   "id": "2c64ea34",
   "metadata": {},
   "source": [
    "8. Discuss the concept of default constructors in Python. When are they used?"
   ]
  },
  {
   "cell_type": "code",
   "execution_count": 12,
   "id": "58018cb5",
   "metadata": {},
   "outputs": [],
   "source": [
    "\"\"\"\n",
    "A default constructor in Python is a simple constructor that doesn’t \n",
    "accept any arguments. It is defined by the init() method with only one \n",
    "parameter, which is self, a reference to the object being created1. \n",
    "\n",
    "A default constructor is used when you don’t need to initialize any\n",
    "instance variables or perform any other actions when creating an object of \n",
    "a class. \n",
    "\n",
    "\"\"\"\n",
    "\n",
    "#For example:\n",
    "class Student:\n",
    "  def __init__(self):\n",
    "    # this is a default constructor\n",
    "    # it doesn't take any arguments\n",
    "    # it doesn't do anything\n",
    "    pass\n",
    "\n",
    "s1 = Student() # create a student object using the default constructor\n"
   ]
  },
  {
   "cell_type": "markdown",
   "id": "3e2481ca",
   "metadata": {},
   "source": [
    "9. Create a Python class called `Rectangle` with a constructor that initializes the `width` and `height` attributes. Provide a method to calculate the area of the rectangle."
   ]
  },
  {
   "cell_type": "code",
   "execution_count": 14,
   "id": "3f726f15",
   "metadata": {},
   "outputs": [
    {
     "name": "stdout",
     "output_type": "stream",
     "text": [
      "10\n",
      "20\n",
      "60\n"
     ]
    }
   ],
   "source": [
    "class Rectangle:\n",
    "  def __init__(self, length, width):\n",
    "    self.length = length # set the length attribute using self\n",
    "    self.width = width # set the width attribute using self\n",
    "    self.perimeter = self.calculate_perimeter() # call another method using self\n",
    "\n",
    "  def calculate_perimeter(self):\n",
    "    return 2 * (self.length + self.width) # use self to access the attributes\n",
    "\n",
    "r1 = Rectangle(10, 20) \n",
    "print(r1.length) \n",
    "print(r1.width) \n",
    "print(r1.perimeter) \n"
   ]
  },
  {
   "cell_type": "markdown",
   "id": "acf844f9",
   "metadata": {},
   "source": [
    "10. How can you have multiple constructors in a Python class? Explain with an example."
   ]
  },
  {
   "cell_type": "code",
   "execution_count": 13,
   "id": "fe954a87",
   "metadata": {},
   "outputs": [
    {
     "name": "stdout",
     "output_type": "stream",
     "text": [
      "Sum of list : 15\n",
      "Square of int : 25\n",
      "String : Hello! Rajesh.\n"
     ]
    }
   ],
   "source": [
    "\"\"\"\n",
    "In Python, you can have multiple constructors in a class by using the \n",
    "decorator. This decorator allows you to turn a regular method into a \n",
    "class method, which means that it will be called on the class itself\n",
    "not on an instance of the class.\n",
    "\"\"\"\n",
    "#Example:\n",
    "\n",
    "class sample:\n",
    " \n",
    "    # constructor overloading\n",
    "    # based on args\n",
    "    def __init__(self, *args):\n",
    " \n",
    "        # if args are more than 1\n",
    "        # sum of args\n",
    "        if len(args) > 1:\n",
    "            self.ans = 0\n",
    "            for i in args:\n",
    "                self.ans += i\n",
    " \n",
    "        # if arg is an integer\n",
    "        # square the arg\n",
    "        elif isinstance(args[0], int):\n",
    "            self.ans = args[0]*args[0]\n",
    " \n",
    "        # if arg is string\n",
    "        # Print with hello\n",
    "        elif isinstance(args[0], str):\n",
    "            self.ans = \"Hello! \"+args[0]+\".\"\n",
    " \n",
    " \n",
    "s1 = sample(1, 2, 3, 4, 5)\n",
    "print(\"Sum of list :\", s1.ans)\n",
    " \n",
    "s2 = sample(5)\n",
    "print(\"Square of int :\", s2.ans)\n",
    " \n",
    "s3 = sample(\"Rajesh\")\n",
    "print(\"String :\", s3.ans)"
   ]
  },
  {
   "cell_type": "markdown",
   "id": "50b5e01b",
   "metadata": {},
   "source": [
    "11. What is method overloading, and how is it related to constructors in Python?"
   ]
  },
  {
   "cell_type": "code",
   "execution_count": 14,
   "id": "1a198b1a",
   "metadata": {},
   "outputs": [
    {
     "name": "stdout",
     "output_type": "stream",
     "text": [
      "6\n"
     ]
    }
   ],
   "source": [
    "\"\"\"\n",
    "Method overloading is a feature that allows a class to have more than one \n",
    "method with the same name but different parameters or signatures. \n",
    "Method overloading is useful when you want to perform different actions \n",
    "based on the number or type of arguments passed to the method\n",
    "\"\"\"\n",
    "\n",
    "#Example:\n",
    "class Test:\n",
    "  def add(self, a, b):\n",
    "    # first definition of add method\n",
    "    return a + b\n",
    "\n",
    "  def add(self, a, b, c):\n",
    "    # second definition of add method\n",
    "    # this will override the first definition\n",
    "    return a + b + c\n",
    "\n",
    "t = Test()\n",
    "print(t.add(1, 2, 3)) # 6\n"
   ]
  },
  {
   "cell_type": "markdown",
   "id": "c054103c",
   "metadata": {},
   "source": [
    "12. Explain the use of the `super()` function in Python constructors. Provide an example."
   ]
  },
  {
   "cell_type": "code",
   "execution_count": 15,
   "id": "9fc1b00c",
   "metadata": {},
   "outputs": [
    {
     "name": "stdout",
     "output_type": "stream",
     "text": [
      "Rajesh\n",
      "Rajesh rb@gmail.com\n"
     ]
    }
   ],
   "source": [
    "\"\"\"\n",
    "The super() function in Python is used to refer to the parent class or \n",
    "superclass of a child class or subclass. \n",
    "\n",
    "It allows you to call methods defined in the superclass from the subclass, \n",
    "enabling you to extend and customize the functionality inherited from the \n",
    "parent class\n",
    "\"\"\"\n",
    "\n",
    "#Example:\n",
    "class pwskills :\n",
    "    def __init__(self, mentor):\n",
    "        self.mentor = mentor\n",
    "        \n",
    "    def mentor_name(self):\n",
    "        print(self.mentor)\n",
    "        \n",
    "    \n",
    "class datascience(pwskills) :\n",
    "    def __init__(self, mentor, mentor_mail_id):\n",
    "        #self.mentor = mentor\n",
    "        super().__init__(mentor)\n",
    "        self.mentor_mail_id = mentor_mail_id\n",
    "        \n",
    "    def show_info(self):\n",
    "        super().mentor_name()\n",
    "        print(self.mentor, self.mentor_mail_id)\n",
    "        \n",
    "python_basic = datascience(\"Rajesh\",\"rb@gmail.com\")\n",
    "\n",
    "python_basic.show_info()"
   ]
  },
  {
   "cell_type": "markdown",
   "id": "72f50b2d",
   "metadata": {},
   "source": [
    "13. Create a class called `Book` with a constructor that initializes the `title`, `author`, and `published_year` attributes. Provide a method to display book details."
   ]
  },
  {
   "cell_type": "code",
   "execution_count": 16,
   "id": "17733c68",
   "metadata": {},
   "outputs": [
    {
     "name": "stdout",
     "output_type": "stream",
     "text": [
      "Title: The Hitchhiker's Guide to the Galaxy\n",
      "Author: Douglas Adams\n",
      "Published Year: 1979\n"
     ]
    }
   ],
   "source": [
    "class Book:\n",
    "  def __init__(self, title, author, published_year):\n",
    "    # constructor of Book class\n",
    "    self.title = title # initialize title attribute\n",
    "    self.author = author # initialize author attribute\n",
    "    self.published_year = published_year # initialize published_year attribute\n",
    "\n",
    "  def display_details(self):\n",
    "    # method to display book details\n",
    "    print(f\"Title: {self.title}\")\n",
    "    print(f\"Author: {self.author}\")\n",
    "    print(f\"Published Year: {self.published_year}\")\n",
    "\n",
    "# create a book object\n",
    "b = Book(\"The Hitchhiker's Guide to the Galaxy\", \"Douglas Adams\", 1979)\n",
    "# display book details\n",
    "b.display_details()\n"
   ]
  },
  {
   "cell_type": "markdown",
   "id": "f966f4e7",
   "metadata": {},
   "source": [
    "14. Discuss the differences between constructors and regular methods in Python classes."
   ]
  },
  {
   "cell_type": "code",
   "execution_count": 32,
   "id": "a897a44e",
   "metadata": {},
   "outputs": [
    {
     "data": {
      "text/plain": [
       "'\\n--> Constructors are used to initialize the object’s state or attributes when the\\nobject is created with the new operator or the class name. \\n\\n--> Regular methods are used to perform operations on the object’s state \\nor attributes after the object is created.\\n\\n\\n--> Constructors cannot be called directly by the user and they are called \\nimplicitly when the object is created. \\n--> Regular methods can be called directly by the user or by other methods.\\n\\n\\n--> Constructors have a special name that starts and ends with double \\nunderscores, such as __init__ . \\n--> Regular methods can have any valid name that does not start or \\nend with double underscores.\\n\\n\\n--> Constructors do not have an explicit return statement. They return \\nthe object itself by default. \\n--> Regular methods can have an explicit return statement that returns \\na value or None.\\n\\n'"
      ]
     },
     "execution_count": 32,
     "metadata": {},
     "output_type": "execute_result"
    }
   ],
   "source": [
    "\"\"\"\n",
    "--> Constructors are used to initialize the object’s state or attributes when the\n",
    "object is created with the new operator or the class name. \n",
    "\n",
    "--> Regular methods are used to perform operations on the object’s state \n",
    "or attributes after the object is created.\n",
    "\n",
    "\n",
    "--> Constructors cannot be called directly by the user and they are called \n",
    "implicitly when the object is created. \n",
    "--> Regular methods can be called directly by the user or by other methods.\n",
    "\n",
    "\n",
    "--> Constructors have a special name that starts and ends with double \n",
    "underscores, such as __init__ . \n",
    "--> Regular methods can have any valid name that does not start or \n",
    "end with double underscores.\n",
    "\n",
    "\n",
    "--> Constructors do not have an explicit return statement. They return \n",
    "the object itself by default. \n",
    "--> Regular methods can have an explicit return statement that returns \n",
    "a value or None.\n",
    "\n",
    "\"\"\""
   ]
  },
  {
   "cell_type": "markdown",
   "id": "87bac466",
   "metadata": {},
   "source": [
    "15. Explain the role of the `self` parameter in instance variable initialization within a constructor."
   ]
  },
  {
   "cell_type": "code",
   "execution_count": 33,
   "id": "b2a094b1",
   "metadata": {},
   "outputs": [],
   "source": [
    "#The self parameter in Python is a reference to the current instance of the \n",
    "# class that is being created or manipulated. It is used to access the \n",
    "#variables and methods that belong to the class.\n",
    "\n",
    "# When we define a constructor in Python using the __init__() method, \n",
    "# we need to pass the self parameter as the first argument."
   ]
  },
  {
   "cell_type": "markdown",
   "id": "b73f4e4d",
   "metadata": {},
   "source": [
    "16. How do you prevent a class from having multiple instances by using constructors in Python? Provide an example."
   ]
  },
  {
   "cell_type": "code",
   "execution_count": 17,
   "id": "c163dc16",
   "metadata": {},
   "outputs": [],
   "source": [
    "class Singleton:\n",
    "    _instance = None # class attribute to store the instance\n",
    "\n",
    "    def __new__(cls, *args, **kwargs):\n",
    "        # override the __new__ method to return the existing instance or create a new one\n",
    "        if cls._instance is None:\n",
    "            cls._instance = super().__new__(cls, *args, **kwargs)\n",
    "        return cls._instance\n"
   ]
  },
  {
   "cell_type": "markdown",
   "id": "45560ad3",
   "metadata": {},
   "source": [
    "17. Create a Python class called `Student` with a constructor that takes a list of subjects as a parameter and\n",
    "initializes the `subjects` attribute."
   ]
  },
  {
   "cell_type": "code",
   "execution_count": 19,
   "id": "59b0cb0e",
   "metadata": {},
   "outputs": [],
   "source": [
    "class Student:\n",
    "    def __init__(self, subjects):\n",
    "        # validate that subjects is a list\n",
    "        if not isinstance(subjects, list):\n",
    "            raise TypeError(\"subjects must be a list\")\n",
    "        # assign the subjects attribute\n",
    "        self.subjects = subjects\n"
   ]
  },
  {
   "cell_type": "code",
   "execution_count": 20,
   "id": "54e7786b",
   "metadata": {},
   "outputs": [
    {
     "name": "stdout",
     "output_type": "stream",
     "text": [
      "['Math', 'Science', 'English']\n"
     ]
    }
   ],
   "source": [
    "subjects = [\"Math\", \"Science\", \"English\"]\n",
    "\n",
    "student = Student(subjects)\n",
    "\n",
    "\n",
    "print(student.subjects)"
   ]
  },
  {
   "cell_type": "markdown",
   "id": "e07dcef8",
   "metadata": {},
   "source": [
    "18. What is the purpose of the `__del__` method in Python classes, and how does it relate to constructors?"
   ]
  },
  {
   "cell_type": "code",
   "execution_count": 18,
   "id": "79c4bf12",
   "metadata": {},
   "outputs": [
    {
     "data": {
      "text/plain": [
       "'\\nThe __del__ method is a special method of a class that is called when \\nthe instance of the class is about to be destroyed by the garbage collector.\\nIt is sometimes called the destructor method, as it is the opposite of \\nthe __init__ method, which is the constructor method. The __del__ method \\ncan be used to perform some clean up actions before the object is deleted, \\nsuch as closing a file or releasing a resource.\\n'"
      ]
     },
     "execution_count": 18,
     "metadata": {},
     "output_type": "execute_result"
    }
   ],
   "source": [
    "'''\n",
    "The __del__ method is a special method of a class that is called when \n",
    "the instance of the class is about to be destroyed by the garbage collector.\n",
    "It is sometimes called the destructor method, as it is the opposite of \n",
    "the __init__ method, which is the constructor method. The __del__ method \n",
    "can be used to perform some clean up actions before the object is deleted, \n",
    "such as closing a file or releasing a resource.\n",
    "'''"
   ]
  },
  {
   "cell_type": "markdown",
   "id": "163cd985",
   "metadata": {},
   "source": [
    "19. Explain the use of constructor chaining in Python. Provide a practical example."
   ]
  },
  {
   "cell_type": "code",
   "execution_count": 22,
   "id": "dedb4403",
   "metadata": {},
   "outputs": [
    {
     "name": "stdout",
     "output_type": "stream",
     "text": [
      "Animal Rex created\n",
      "Dog Rex of breed German Shepherd created\n"
     ]
    }
   ],
   "source": [
    "\"\"\"\n",
    "Constructor chaining is the process of calling one constructor from \n",
    "another constructor. Constructor chaining is useful when you want to \n",
    "invoke multiple constructors, one after another, by initializing only one \n",
    "instance. In Python, constructor chaining is convenient when you are dealing with inheritance.\n",
    "When an instance of a child class is created, the constructor of the parent \n",
    "class is also called implicitly or explicitly using the super() function. \n",
    "\n",
    "This way, the child class can inherit the attributes and methods of the \n",
    "parent class without repeating the code. \n",
    "\"\"\"\n",
    "\n",
    "#example:\n",
    "\n",
    "class Animal:\n",
    "    def __init__(self, name):\n",
    "        # constructor of the parent class\n",
    "        self.name = name\n",
    "        print(f\"Animal {name} created\")\n",
    "\n",
    "class Dog(Animal):\n",
    "    def __init__(self, name, breed):\n",
    "        # constructor of the child class\n",
    "        super().__init__(name) # call the constructor of the parent class using super()\n",
    "        self.breed = breed\n",
    "        print(f\"Dog {name} of breed {breed} created\")\n",
    "\n",
    "# create an instance of the Dog class\n",
    "dog = Dog(\"Rex\", \"German Shepherd\")\n"
   ]
  },
  {
   "cell_type": "markdown",
   "id": "8fc9c021",
   "metadata": {},
   "source": [
    "20. Create a Python class called `Car` with a default constructor that initializes the `make` and `model`\n",
    "attributes. Provide a method to display car information."
   ]
  },
  {
   "cell_type": "code",
   "execution_count": 23,
   "id": "ddc25cc5",
   "metadata": {},
   "outputs": [],
   "source": [
    "class Car:\n",
    "    def __init__(self, make, model):\n",
    "        # default constructor that assigns the make and model attributes\n",
    "        self.make = make\n",
    "        self.model = model\n",
    "\n",
    "    def display_info(self):\n",
    "        # method that prints the make and model of the car\n",
    "        print(f\"This car is a {self.make} {self.model}\")\n"
   ]
  },
  {
   "cell_type": "code",
   "execution_count": 24,
   "id": "7bf9c5ec",
   "metadata": {},
   "outputs": [
    {
     "name": "stdout",
     "output_type": "stream",
     "text": [
      "This car is a Honda Civic\n"
     ]
    }
   ],
   "source": [
    "car = Car(\"Honda\", \"Civic\")\n",
    "car.display_info()\n"
   ]
  },
  {
   "cell_type": "markdown",
   "id": "d867a95f",
   "metadata": {},
   "source": [
    "## Inheritance:"
   ]
  },
  {
   "cell_type": "markdown",
   "id": "18481eb8",
   "metadata": {},
   "source": [
    "1. What is inheritance in Python? Explain its significance in object-oriented programming."
   ]
  },
  {
   "cell_type": "markdown",
   "id": "763ae6fc",
   "metadata": {},
   "source": [
    "\"\"\"\n",
    "\n",
    "Inheritance in Python is a mechanism that allows a class to inherit the \n",
    "attributes and methods of another class. The class that inherits is \n",
    "called the child class or subclass, and the class that is inherited from \n",
    "is called the parent class or superclass. \n",
    "\n",
    "Inheritance represents real-world relationships between objects and \n",
    "enables code reusability and extensibility. \n",
    "\n",
    "Inheritance is one of the key features of object-oriented programming.\n",
    "\n",
    "\"\"\""
   ]
  },
  {
   "cell_type": "markdown",
   "id": "62601cc0",
   "metadata": {},
   "source": [
    "2. Differentiate between single inheritance and multiple inheritance in Python. Provide examples for each."
   ]
  },
  {
   "cell_type": "code",
   "execution_count": 26,
   "id": "17e3f45d",
   "metadata": {},
   "outputs": [
    {
     "name": "stdout",
     "output_type": "stream",
     "text": [
      "Method of class A\n",
      "Method of class A\n"
     ]
    }
   ],
   "source": [
    "\"\"\"\n",
    "Single inheritance in Python is when a child class inherits from only one parent\n",
    "class. \n",
    "\n",
    "Multiple inheritance in Python is when a child class inherits from more than \n",
    "one parent class. Both types of inheritance allow the child class to \n",
    "access the attributes and methods of the parent classes, but they differ \n",
    "in how they resolve conflicts and ambiguities.\n",
    "\n",
    "For example, suppose we have two parent classes called A and B, and a \n",
    "child class called C. In single inheritance, C can inherit from either \n",
    "A or B, but not both. \n",
    "\n",
    "In multiple inheritance, C can inherit from both A and B. However, if A \n",
    "and B have a method with the same name, C will have to decide which one \n",
    "to use.\n",
    "\n",
    "\"\"\"\n",
    "\n",
    "#Example:\n",
    "# single inheritance\n",
    "class A:\n",
    "    def method(self):\n",
    "        print(\"Method of class A\")\n",
    "\n",
    "class B(A):\n",
    "    # B inherits from A\n",
    "    pass\n",
    "\n",
    "# multiple inheritance\n",
    "class C:\n",
    "    def method(self):\n",
    "        print(\"Method of class C\")\n",
    "\n",
    "class D(A, C):\n",
    "    # D inherits from A and C\n",
    "    pass\n",
    "\n",
    "# create instances of B and D\n",
    "b = B()\n",
    "d = D()\n",
    "\n",
    "# call the method on b and d\n",
    "b.method() # prints \"Method of class A\"\n",
    "d.method() # prints \"Method of class A\" because A comes before C in the MRO\n",
    "\n"
   ]
  },
  {
   "cell_type": "markdown",
   "id": "89629349",
   "metadata": {},
   "source": [
    "3. Create a Python class called `Vehicle` with attributes `color` and `speed`. Then, create a child class called\n",
    "`Car` that inherits from `Vehicle` and adds a `brand` attribute. Provide an example of creating a `Car` object."
   ]
  },
  {
   "cell_type": "code",
   "execution_count": 27,
   "id": "7d5d6973",
   "metadata": {},
   "outputs": [
    {
     "name": "stdout",
     "output_type": "stream",
     "text": [
      "This car is red, has a speed of 100 km/h and is made by Toyota\n"
     ]
    }
   ],
   "source": [
    "class Vehicle:\n",
    "    def __init__(self, color, speed):\n",
    "        # constructor of the parent class\n",
    "        self.color = color\n",
    "        self.speed = speed\n",
    "\n",
    "class Car(Vehicle):\n",
    "    def __init__(self, color, speed, brand):\n",
    "        # constructor of the child class\n",
    "        super().__init__(color, speed) # call the constructor of the parent class using super()\n",
    "        self.brand = brand\n",
    "\n",
    "# create an instance of the Car class with the color, speed and brand as parameters\n",
    "car = Car(\"red\", 100, \"Toyota\")\n",
    "\n",
    "# print the attributes of the car object\n",
    "print(f\"This car is {car.color}, has a speed of {car.speed} km/h and is made by {car.brand}\")\n"
   ]
  },
  {
   "cell_type": "markdown",
   "id": "9b302b95",
   "metadata": {},
   "source": [
    "4. Explain the concept of method overriding in inheritance. Provide a practical example."
   ]
  },
  {
   "cell_type": "code",
   "execution_count": 28,
   "id": "0939a76d",
   "metadata": {},
   "outputs": [
    {
     "name": "stdout",
     "output_type": "stream",
     "text": [
      "Dog barks\n"
     ]
    }
   ],
   "source": [
    "\"\"\"\n",
    "Method overriding in inheritance is a feature that allows a subclass to \n",
    "redefine a method that is already defined in its superclass. \n",
    "The subclass can provide a different implementation of the method that \n",
    "is more specific to its needs. \n",
    "\n",
    "The overriding method has the same name, number and type of parameters, \n",
    "and return type as the method that it overrides.\n",
    "\n",
    "\"\"\"\n",
    "\n",
    "#Example:\n",
    "class Animal:\n",
    "    # superclass method\n",
    "    def make_sound(self):\n",
    "        print(\"Animal makes sound\")\n",
    "\n",
    "class Dog(Animal):\n",
    "    # subclass method that overrides the superclass method\n",
    "    def make_sound(self):\n",
    "        print(\"Dog barks\")\n",
    "\n",
    "# create an instance of the Dog class\n",
    "dog = Dog()\n",
    "\n",
    "# call the make_sound() method on the dog object\n",
    "dog.make_sound() # prints \"Dog barks\"\n",
    "\n"
   ]
  },
  {
   "cell_type": "markdown",
   "id": "cf47b5f2",
   "metadata": {},
   "source": [
    "5. How can you access the methods and attributes of a parent class from a child class in Python? Give an\n",
    "example."
   ]
  },
  {
   "cell_type": "code",
   "execution_count": 30,
   "id": "4b60ecee",
   "metadata": {},
   "outputs": [
    {
     "name": "stdout",
     "output_type": "stream",
     "text": [
      "Hello, my name is Rajesh.\n",
      "I am in grade 10.\n"
     ]
    }
   ],
   "source": [
    "# To access the methods and attributes of a parent class from a child \n",
    "# class in Python, you can use the super() function. \n",
    "'''\n",
    "The super() function returns a proxy object that allows to access the methods \n",
    "and attributes of the parent class. \n",
    "You can use super() inside the __init__() method of the child class to \n",
    "call the constructor of the parent class and set the instance variables. \n",
    "You can also use super() to access any other methods of the parent \n",
    "class on the self object.\n",
    "\n",
    "'''\n",
    "\n",
    "#Example:\n",
    "class Person:\n",
    "    # parent class\n",
    "    def __init__(self, name):\n",
    "        # constructor that sets the name attribute\n",
    "        self.name = name\n",
    "\n",
    "    def greet(self):\n",
    "        # method that prints a greeting\n",
    "        print(f\"Hello, my name is {self.name}.\")\n",
    "\n",
    "class Student(Person):\n",
    "    # child class that inherits from Person\n",
    "    def __init__(self, name, grade):\n",
    "        # constructor that calls the parent constructor using super()\n",
    "        super().__init__(name)\n",
    "        # constructor that sets the grade attribute\n",
    "        self.grade = grade\n",
    "\n",
    "    def greet(self):\n",
    "        # method that overrides the parent method using super()\n",
    "        super().greet()\n",
    "        # method that prints the student's grade\n",
    "        print(f\"I am in grade {self.grade}.\")\n",
    "\n",
    "# create an instance of the Student class\n",
    "student = Student(\"Rajesh\", 10)\n",
    "\n",
    "# call the greet() method on the student object\n",
    "student.greet()\n"
   ]
  },
  {
   "cell_type": "markdown",
   "id": "e15bc7eb",
   "metadata": {},
   "source": [
    "6. Discuss the use of the `super()` function in Python inheritance. When and why is it used? Provide an\n",
    "example."
   ]
  },
  {
   "cell_type": "code",
   "execution_count": 34,
   "id": "79d1f6bf",
   "metadata": {},
   "outputs": [
    {
     "name": "stdout",
     "output_type": "stream",
     "text": [
      "woof\n"
     ]
    }
   ],
   "source": [
    "\"\"\"\n",
    "The super() function in Python inheritance is used to refer to the parent \n",
    "class or superclass. It allows you to call methods defined in the \n",
    "superclass from the subclass, enabling you to extend and customize the \n",
    "functionality inherited from the parent class. \n",
    "\n",
    "The super() function returns an object that represents the parent class.\n",
    "\"\"\"\n",
    "#Example:\n",
    "\n",
    "class Animal:\n",
    "    def make_sound(self):\n",
    "        return 'generic animal sound'\n",
    "\n",
    "class Dog(Animal):\n",
    "    def make_sound(self):\n",
    "        return 'woof'\n",
    "\n",
    "my_dog = Dog()\n",
    "print(my_dog.make_sound())"
   ]
  },
  {
   "cell_type": "markdown",
   "id": "dc287ed9",
   "metadata": {},
   "source": [
    "7. Create a Python class called `Animal` with a method `speak()`. Then, create child classes `Dog` and `Cat` that inherit from `Animal` and override the `speak()` method. Provide an example of using these classes."
   ]
  },
  {
   "cell_type": "code",
   "execution_count": 36,
   "id": "38eb0b73",
   "metadata": {},
   "outputs": [
    {
     "name": "stdout",
     "output_type": "stream",
     "text": [
      "Rex barks.\n",
      "Luna meows.\n"
     ]
    }
   ],
   "source": [
    "class Animal:\n",
    "    # parent class\n",
    "    def __init__(self, name):\n",
    "        # constructor that sets the name attribute\n",
    "        self.name = name\n",
    "\n",
    "    def speak(self):\n",
    "        # method that prints a generic message\n",
    "        print(f\"{self.name} makes a sound.\")\n",
    "\n",
    "class Dog(Animal):\n",
    "    # child class that inherits from Animal\n",
    "    def speak(self):\n",
    "        # method that overrides the parent method\n",
    "        print(f\"{self.name} barks.\")\n",
    "\n",
    "class Cat(Animal):\n",
    "    # child class that inherits from Animal\n",
    "    def speak(self):\n",
    "        # method that overrides the parent method\n",
    "        print(f\"{self.name} meows.\")\n",
    "\n",
    "\n",
    "dog = Dog(\"Rex\")\n",
    "\n",
    "dog.speak()\n",
    "\n",
    "cat = Cat(\"Luna\")\n",
    "\n",
    "cat.speak()\n"
   ]
  },
  {
   "cell_type": "markdown",
   "id": "333a5a0b",
   "metadata": {},
   "source": [
    "8. Explain the role of the `isinstance()` function in Python and how it relates to inheritance."
   ]
  },
  {
   "cell_type": "code",
   "execution_count": 37,
   "id": "42099fee",
   "metadata": {},
   "outputs": [
    {
     "data": {
      "text/plain": [
       "'\\nThe isinstance() function in Python is used to check if an object is an \\ninstance of a class or a subclass. It returns True if the object belongs \\nto the class or any of its subclasses, otherwise False. It can also accept \\na tuple of classes as the second argument, in which case it returns True \\nif the object belongs to any of the classes in the tuple.\\n'"
      ]
     },
     "execution_count": 37,
     "metadata": {},
     "output_type": "execute_result"
    }
   ],
   "source": [
    "\"\"\"\n",
    "The isinstance() function in Python is used to check if an object is an \n",
    "instance of a class or a subclass. It returns True if the object belongs \n",
    "to the class or any of its subclasses, otherwise False. It can also accept \n",
    "a tuple of classes as the second argument, in which case it returns True \n",
    "if the object belongs to any of the classes in the tuple.\n",
    "\"\"\""
   ]
  },
  {
   "cell_type": "markdown",
   "id": "d492c6a1",
   "metadata": {},
   "source": [
    "9. What is the purpose of the `issubclass()` function in Python? Provide an example."
   ]
  },
  {
   "cell_type": "code",
   "execution_count": 38,
   "id": "8a1ffed6",
   "metadata": {},
   "outputs": [
    {
     "name": "stdout",
     "output_type": "stream",
     "text": [
      "True\n",
      "True\n",
      "False\n",
      "True\n"
     ]
    }
   ],
   "source": [
    "\"\"\"\n",
    "The issubclass() function in Python is used to check whether a class is a \n",
    "subclass of another class or not. It returns True if the first class is a \n",
    "subclass of the second class, or if they are the same class. Otherwise, \n",
    "it returns False.\n",
    "\n",
    "The issubclass() function can also accept a tuple of classes as the second \n",
    "argument, in which case it returns True if the first class is a subclass \n",
    "of any of the classes in the tuple.\n",
    "\"\"\"\n",
    "\n",
    "#Example:\n",
    "class Animal:\n",
    "    # parent class\n",
    "    def __init__(self, name):\n",
    "        # constructor that sets the name attribute\n",
    "        self.name = name\n",
    "\n",
    "class Dog(Animal):\n",
    "    # child class that inherits from Animal\n",
    "    def __init__(self, name):\n",
    "        # constructor that calls the parent constructor using super()\n",
    "        super().__init__(name)\n",
    "\n",
    "class Cat(Animal):\n",
    "    # child class that inherits from Animal\n",
    "    def __init__(self, name):\n",
    "        # constructor that calls the parent constructor using super()\n",
    "        super().__init__(name)\n",
    "\n",
    "print(issubclass(Dog, Animal))\n",
    "\n",
    "print(issubclass(Cat, Animal))\n",
    "\n",
    "print(issubclass(Dog, Cat))\n",
    "\n",
    "print(issubclass(Dog, (Cat, Animal)))\n"
   ]
  },
  {
   "cell_type": "markdown",
   "id": "12a503c1",
   "metadata": {},
   "source": [
    "10. Discuss the concept of constructor inheritance in Python. How are constructors inherited in child classes?"
   ]
  },
  {
   "cell_type": "code",
   "execution_count": 39,
   "id": "d7f4d554",
   "metadata": {},
   "outputs": [
    {
     "data": {
      "text/plain": [
       "'\\nThe concept of constructor inheritance in Python refers to how the \\nconstructors of parent classes are inherited by the child classes. \\n\\nA constructor is a special method that is used to initialize an object \\nof a class. In Python, the constructor is defined by the init() method.\\n\\nWhen a child class inherits from a parent class, it can either:\\n\\n--Override the parent constructor by defining its own init() method with \\ndifferent parameters or logic. In this case, the child constructor will \\nnot automatically call the parent constructor, unless it uses the super() \\nfunction or the name of the parent class explicitly.\\n\\n--Inherit the parent constructor by not defining its own init() method or \\nby defining an init() method with the same parameters and logic as the \\nparent constructor. In this case, the child constructor will automatically \\ncall the parent constructor.\\n'"
      ]
     },
     "execution_count": 39,
     "metadata": {},
     "output_type": "execute_result"
    }
   ],
   "source": [
    "\"\"\"\n",
    "The concept of constructor inheritance in Python refers to how the \n",
    "constructors of parent classes are inherited by the child classes. \n",
    "\n",
    "A constructor is a special method that is used to initialize an object \n",
    "of a class. In Python, the constructor is defined by the init() method.\n",
    "\n",
    "When a child class inherits from a parent class, it can either:\n",
    "\n",
    "--Override the parent constructor by defining its own init() method with \n",
    "different parameters or logic. In this case, the child constructor will \n",
    "not automatically call the parent constructor, unless it uses the super() \n",
    "function or the name of the parent class explicitly.\n",
    "\n",
    "--Inherit the parent constructor by not defining its own init() method or \n",
    "by defining an init() method with the same parameters and logic as the \n",
    "parent constructor. In this case, the child constructor will automatically \n",
    "call the parent constructor.\n",
    "\"\"\""
   ]
  },
  {
   "cell_type": "markdown",
   "id": "a3211c4d",
   "metadata": {},
   "source": [
    "11. Create a Python class called `Shape` with a method `area()` that calculates the area of a shape. Then, create child classes `Circle` and `Rectangle` that inherit from `Shape` and implement the `area()` method\n",
    "accordingly. Provide an example."
   ]
  },
  {
   "cell_type": "code",
   "execution_count": 40,
   "id": "e3305c51",
   "metadata": {},
   "outputs": [
    {
     "name": "stdout",
     "output_type": "stream",
     "text": [
      "Area of circle: 78.5\n",
      "Area of rectangle: 50\n"
     ]
    }
   ],
   "source": [
    "class Shape:\n",
    "    # parent class\n",
    "    def area(self):\n",
    "        # method to calculate the area of a shape\n",
    "        pass\n",
    "\n",
    "class Circle(Shape):\n",
    "    # child class that inherits from Shape\n",
    "    def __init__(self, radius):\n",
    "        # constructor that sets the radius attribute\n",
    "        self.radius = radius\n",
    "\n",
    "    def area(self):\n",
    "        # method to calculate the area of a circle\n",
    "        return 3.14 * self.radius ** 2\n",
    "\n",
    "class Rectangle(Shape):\n",
    "    # child class that inherits from Shape\n",
    "    def __init__(self, length, width):\n",
    "        # constructor that sets the length and width attributes\n",
    "        self.length = length\n",
    "        self.width = width\n",
    "\n",
    "    def area(self):\n",
    "        # method to calculate the area of a rectangle\n",
    "        return self.length * self.width\n",
    "\n",
    "# create an instance of Circle with radius 5\n",
    "circle = Circle(5)\n",
    "print(\"Area of circle:\", circle.area())\n",
    "\n",
    "# create an instance of Rectangle with length 10 and width 5\n",
    "rectangle = Rectangle(10, 5)\n",
    "print(\"Area of rectangle:\", rectangle.area())\n"
   ]
  },
  {
   "cell_type": "markdown",
   "id": "46e87cfe",
   "metadata": {},
   "source": [
    "12. Explain the use of abstract base classes (ABCs) in Python and how they relate to inheritance. Provide an\n",
    "example using the `abc` module."
   ]
  },
  {
   "cell_type": "code",
   "execution_count": 44,
   "id": "b50868b7",
   "metadata": {},
   "outputs": [
    {
     "name": "stdout",
     "output_type": "stream",
     "text": [
      "Abstract 1\n"
     ]
    }
   ],
   "source": [
    "\"\"\"\n",
    "Abstract base classes (ABCs) in Python are classes that are used to define \n",
    "a common interface or behavior for a set of subclasses that inherit from \n",
    "them. ABCs are useful when you want to enforce certain contracts or \n",
    "specifications for the subclasses, such as requiring them to implement \n",
    "certain methods or properties.\n",
    "\n",
    "ABCs are different from regular classes in that they cannot be instantiated \n",
    "directly, and they use the @abstractmethod decorator to mark the methods \n",
    "that must be overridden by the subclasses. ABCs also use the metaclass=abc.\n",
    "ABCMeta argument in the class definition to indicate that they are abstract.\n",
    "\n",
    "\"\"\"\n",
    "\n",
    "#Example:\n",
    "\n",
    "import abc \n",
    "\n",
    "\n",
    "class AbstractClass(metaclass=abc.ABCMeta): \n",
    "\t@property\n",
    "\t@abc.abstractmethod \n",
    "\tdef abstractName(self): \n",
    "\t\tpass\n",
    "\n",
    "\n",
    "class ValidSubClass(AbstractClass): \n",
    "\t@property\n",
    "\tdef abstractName(self): \n",
    "\t\treturn 'Abstract 1'\n",
    "\n",
    "\n",
    "vc = ValidSubClass() \n",
    "print(vc.abstractName) \n"
   ]
  },
  {
   "cell_type": "markdown",
   "id": "7a60229f",
   "metadata": {},
   "source": [
    "13. How can you prevent a child class from modifying certain attributes or methods inherited from a parent\n",
    "class in Python?"
   ]
  },
  {
   "cell_type": "code",
   "execution_count": 47,
   "id": "53efffeb",
   "metadata": {},
   "outputs": [],
   "source": [
    "\"\"\"\n",
    "There are a few ways to prevent a child class from modifying certain \n",
    "attributes or methods inherited from a parent class in Python. One way is \n",
    "to use the private attribute. The private attribute is a special type of \n",
    "attribute that is not accessible to child classes. To make an attribute \n",
    "private, you simply add two underscores before the attribute name. \n",
    "\n",
    "\"\"\"\n",
    "#example\n",
    "class ParentClass:\n",
    "    def __init__(self):\n",
    "        self._private = 123\n",
    "\n",
    "class ChildClass(ParentClass):\n",
    "    def __init__(self):\n",
    "        super().__init__()\n",
    "        print(self._private)  "
   ]
  },
  {
   "cell_type": "code",
   "execution_count": 48,
   "id": "7ec7f8a3",
   "metadata": {},
   "outputs": [],
   "source": [
    "class ParentClass:\n",
    "    def __init__(self):\n",
    "        self._protected = 123\n",
    "\n",
    "class ChildClass(ParentClass):\n",
    "    def __init__(self):\n",
    "        super().__init__()\n",
    "        print(self._protected)"
   ]
  },
  {
   "cell_type": "code",
   "execution_count": 49,
   "id": "4463de4e",
   "metadata": {},
   "outputs": [],
   "source": [
    "class ParentClass:\n",
    "    __slots__ = ['_private', '_protected']\n",
    "\n",
    "class ChildClass(ParentClass):\n",
    "    def __init__(self):\n",
    "        super().__init__()\n",
    "        # AttributeError: 'ChildClass' object has no attribute '_private'\n",
    "        print(self._private)\n",
    "        # AttributeError: 'ChildClass' object has no attribute '_protected'\n",
    "        print(self._protected)"
   ]
  },
  {
   "cell_type": "markdown",
   "id": "3a61454d",
   "metadata": {},
   "source": [
    "14. Create a Python class called `Employee` with attributes `name` and `salary`. Then, create a child class\n",
    "`Manager` that inherits from `Employee` and adds an attribute `department`. Provide an example."
   ]
  },
  {
   "cell_type": "code",
   "execution_count": 54,
   "id": "93a3425c",
   "metadata": {},
   "outputs": [],
   "source": [
    "class Employee:\n",
    "    # employee class\n",
    "    def __init__(self, name, salary):\n",
    "        # constructor that sets the name and salary attributes\n",
    "        self.name = name\n",
    "        self.salary = salary\n",
    "\n",
    "\n",
    "class Manager(Employee):\n",
    "    # manager class that inherits from employee class\n",
    "    def __init__(self, name, salary, department):\n",
    "        \n",
    "        super().__init__(name, salary)\n",
    "        self.department = department\n"
   ]
  },
  {
   "cell_type": "code",
   "execution_count": 56,
   "id": "bf2fca1d",
   "metadata": {},
   "outputs": [
    {
     "name": "stdout",
     "output_type": "stream",
     "text": [
      "Name: Rajesh\n",
      "Salary: 100000\n",
      "Department: Analytics\n"
     ]
    }
   ],
   "source": [
    "manager = Manager(\"Rajesh\", 100000, \"Analytics\")\n",
    "# print the manager's attributes\n",
    "print(\"Name:\", manager.name)\n",
    "print(\"Salary:\", manager.salary)\n",
    "print(\"Department:\", manager.department)\n"
   ]
  },
  {
   "cell_type": "markdown",
   "id": "0323f5bc",
   "metadata": {},
   "source": [
    "15. Discuss the concept of method overloading in Python inheritance. How does it differ from method\n",
    "overriding?"
   ]
  },
  {
   "cell_type": "markdown",
   "id": "6c92b526",
   "metadata": {},
   "source": [
    "\"\"\"\n",
    "\n",
    "Method overloading in Python inheritance is a feature that allows you to \n",
    "define multiple methods with the same name in a class hierarchy. The methods \n",
    "must have different parameter lists, and the compiler will choose the most \n",
    "appropriate method to call based on the arguments that are passed.\n",
    "\n",
    "Method overriding is a feature that allows you to redefine a method in a \n",
    "subclass that is also defined in the superclass. The method must have the\n",
    "same name and signature as the superclass method, and the compiler will \n",
    "choose the subclass method to call when it is invoked.\n",
    "\n",
    "\"\"\""
   ]
  },
  {
   "cell_type": "markdown",
   "id": "a17c0c15",
   "metadata": {},
   "source": [
    "16. Explain the purpose of the `__init__()` method in Python inheritance and how it is utilized in child classes."
   ]
  },
  {
   "cell_type": "code",
   "execution_count": 58,
   "id": "c75ef8bd",
   "metadata": {},
   "outputs": [
    {
     "data": {
      "text/plain": [
       "'\\nThe __init__() method in Python is a special method that is called \\nautomatically every time a class is being used to create a new object. \\nIt is also known as the constructor of the class, as it allows us to \\ninitialize the attributes of the class.\\n\\nIn Python inheritance, the __init__() method of a child class can either \\ninherit, extend or override the __init__() method of its parent class, \\ndepending on the requirements.\\n\\nIf we want to inherit the __init__() method of the parent class without \\nany changes, we do not need to redefine it in the child class. \\n\\n'"
      ]
     },
     "execution_count": 58,
     "metadata": {},
     "output_type": "execute_result"
    }
   ],
   "source": [
    "\"\"\"\n",
    "The __init__() method in Python is a special method that is called \n",
    "automatically every time a class is being used to create a new object. \n",
    "It is also known as the constructor of the class, as it allows us to \n",
    "initialize the attributes of the class.\n",
    "\n",
    "In Python inheritance, the __init__() method of a child class can either \n",
    "inherit, extend or override the __init__() method of its parent class, \n",
    "depending on the requirements.\n",
    "\n",
    "If we want to inherit the __init__() method of the parent class without \n",
    "any changes, we do not need to redefine it in the child class. \n",
    "\n",
    "\"\"\""
   ]
  },
  {
   "cell_type": "markdown",
   "id": "1bd68d9f",
   "metadata": {},
   "source": [
    "17. Create a Python class called `Bird` with a method `fly()`. Then, create child classes `Eagle` and `Sparrow` that inherit from `Bird` and implement the `fly()` method differently. Provide an example of using these\n",
    "classes."
   ]
  },
  {
   "cell_type": "code",
   "execution_count": 59,
   "id": "9fe3e9b0",
   "metadata": {},
   "outputs": [
    {
     "name": "stdout",
     "output_type": "stream",
     "text": [
      "Eagle is soaring high\n",
      "Sparrow is flapping fast\n"
     ]
    }
   ],
   "source": [
    "class Bird:\n",
    "    # bird class\n",
    "    def fly(self):\n",
    "        # method to fly\n",
    "        print(\"Bird is flying\")\n",
    "\n",
    "        \n",
    "class Eagle(Bird):\n",
    "    # eagle class that inherits from bird class\n",
    "    def fly(self):\n",
    "        # method to fly (overridden)\n",
    "        print(\"Eagle is soaring high\")\n",
    "\n",
    "class Sparrow(Bird):\n",
    "    # sparrow class that inherits from bird class\n",
    "    def fly(self):\n",
    "        # method to fly (overridden)\n",
    "        print(\"Sparrow is flapping fast\")\n",
    "\n",
    "        \n",
    "eagle = Eagle()\n",
    "eagle.fly() \n",
    "sparrow = Sparrow()\n",
    "sparrow.fly() \n"
   ]
  },
  {
   "cell_type": "markdown",
   "id": "33aa3160",
   "metadata": {},
   "source": [
    "18. What is the \"diamond problem\" in multiple inheritance, and how does Python address it?"
   ]
  },
  {
   "cell_type": "code",
   "execution_count": 60,
   "id": "9187e293",
   "metadata": {},
   "outputs": [
    {
     "data": {
      "text/plain": [
       "'\\nThe diamond problem is a common problem that occurs in multiple inheritance,\\nwhen a child class inherits from two or more parent classes that have a \\ncommon ancestor. The problem arises when there is a conflict or ambiguity \\nin the method resolution order (MRO), which determines the order in which \\nthe methods of the parent classes are invoked by the child class.\\n'"
      ]
     },
     "execution_count": 60,
     "metadata": {},
     "output_type": "execute_result"
    }
   ],
   "source": [
    "\"\"\"\n",
    "The diamond problem is a common problem that occurs in multiple inheritance,\n",
    "when a child class inherits from two or more parent classes that have a \n",
    "common ancestor. The problem arises when there is a conflict or ambiguity \n",
    "in the method resolution order (MRO), which determines the order in which \n",
    "the methods of the parent classes are invoked by the child class.\n",
    "\"\"\"\n"
   ]
  },
  {
   "cell_type": "code",
   "execution_count": 62,
   "id": "aaa3a254",
   "metadata": {},
   "outputs": [],
   "source": [
    "#example:\n",
    "class A:\n",
    "    \n",
    "    def foo(self):\n",
    "    \n",
    "        print(\"foo from A\")\n",
    "\n",
    "class B(A):\n",
    "    \n",
    "    def foo(self):\n",
    "    \n",
    "        print(\"foo from B\")\n",
    "\n",
    "class C(A):\n",
    "    \n",
    "    def foo(self):\n",
    "    \n",
    "        print(\"foo from C\")\n",
    "\n",
    "class D(B, C):\n",
    "    \n",
    "    pass\n"
   ]
  },
  {
   "cell_type": "markdown",
   "id": "c2376570",
   "metadata": {},
   "source": [
    "19. Discuss the concept of \"is-a\" and \"has-a\" relationships in inheritance, and provide examples of each."
   ]
  },
  {
   "cell_type": "code",
   "execution_count": 63,
   "id": "00bb12aa",
   "metadata": {},
   "outputs": [
    {
     "name": "stdout",
     "output_type": "stream",
     "text": [
      "True\n",
      "Dog is barking\n",
      "True\n",
      "Engine is starting\n",
      "Car is driving\n"
     ]
    }
   ],
   "source": [
    "\"\"\"\n",
    "The concept of “is-a” and “has-a” relationships in inheritance refers to \n",
    "the way we can model the relationship between classes based on their \n",
    "commonality or composition.\n",
    "\n",
    "An “is-a” relationship means that a child class is a specific type of a \n",
    "parent class, and inherits all the attributes and methods of the parent \n",
    "class. For example, a Dog is an Animal, so we can create a Dog class that\n",
    "inherits from an Animal class. This implies that a Dog has all the \n",
    "properties and behaviors of an Animal, plus some additional ones that are \n",
    "specific to Dogs.\n",
    "\n",
    "A “has-a” relationship means that a class has an attribute that is an \n",
    "instance of another class, and uses its methods or properties. \n",
    "\n",
    "For example, a Car has an Engine, so we can create a Car class that has an \n",
    "attribute engine that is an instance of an Engine class. This implies that \n",
    "a Car can use the methods or properties of the Engine class, but does not \n",
    "inherit them.\n",
    "\"\"\"\n",
    "\n",
    "#Example:\n",
    "# Example of is-a relationship\n",
    "class Animal:\n",
    "    # animal class\n",
    "    def __init__(self, name):\n",
    "        # constructor that sets the name attribute\n",
    "        self.name = name\n",
    "\n",
    "    def make_sound(self):\n",
    "        # method to make sound\n",
    "        print(\"Animal is making sound\")\n",
    "\n",
    "class Dog(Animal):\n",
    "    # dog class that inherits from animal class\n",
    "    def __init__(self, name, breed):\n",
    "        # constructor that sets the name and breed attributes\n",
    "        super().__init__(name) # call the parent constructor\n",
    "        self.breed = breed\n",
    "\n",
    "    def make_sound(self):\n",
    "        # method to make sound (overridden)\n",
    "        print(\"Dog is barking\")\n",
    "\n",
    "# create an instance of Dog\n",
    "dog = Dog(\"Spot\", \"Labrador\")\n",
    "# check if dog is an instance of Animal\n",
    "print(isinstance(dog, Animal)) # prints True\n",
    "# call the dog's make_sound method\n",
    "dog.make_sound() # prints Dog is barking\n",
    "\n",
    "# Example of has-a relationship\n",
    "class Engine:\n",
    "    # engine class\n",
    "    def __init__(self, power):\n",
    "        # constructor that sets the power attribute\n",
    "        self.power = power\n",
    "\n",
    "    def start(self):\n",
    "        # method to start the engine\n",
    "        print(\"Engine is starting\")\n",
    "\n",
    "class Car:\n",
    "    # car class\n",
    "    def __init__(self, model, engine):\n",
    "        # constructor that sets the model and engine attributes\n",
    "        self.model = model\n",
    "        self.engine = engine # engine is an instance of Engine class\n",
    "\n",
    "    def drive(self):\n",
    "        # method to drive the car\n",
    "        self.engine.start() # use the engine's start method\n",
    "        print(\"Car is driving\")\n",
    "\n",
    "# create an instance of Engine\n",
    "engine = Engine(200)\n",
    "# create an instance of Car with the engine\n",
    "car = Car(\"Tesla\", engine)\n",
    "# check if car has an attribute engine\n",
    "print(hasattr(car, \"engine\")) # prints True\n",
    "# call the car's drive method\n",
    "car.drive() # prints Engine is starting and Car is driving\n"
   ]
  },
  {
   "cell_type": "markdown",
   "id": "9fd10a26",
   "metadata": {},
   "source": [
    "20. Create a Python class hierarchy for a university system. Start with a base class `Person` and create child\n",
    "classes `Student` and `Professor`, each with their own attributes and methods. Provide an example of using\n",
    "these classes in a university context."
   ]
  },
  {
   "cell_type": "code",
   "execution_count": 64,
   "id": "230dbd55",
   "metadata": {},
   "outputs": [],
   "source": [
    "class Person:\n",
    "    # person class\n",
    "    def __init__(self, name, age):\n",
    "        # constructor that sets the name and age attributes\n",
    "        self.name = name\n",
    "        self.age = age\n",
    "\n",
    "    def introduce(self):\n",
    "        # method to introduce the person\n",
    "        print(f\"Hello, I am {self.name} and I am {self.age} years old.\")\n",
    "\n",
    "class Student(Person):\n",
    "    # student class that inherits from person class\n",
    "    def __init__(self, name, age, major, gpa):\n",
    "        # constructor that sets the name, age, major and gpa attributes\n",
    "        super().__init__(name, age) # call the parent constructor\n",
    "        self.major = major\n",
    "        self.gpa = gpa\n",
    "\n",
    "    def study(self):\n",
    "        # method to study\n",
    "        print(f\"I am studying {self.major}.\")\n",
    "\n",
    "    def introduce(self):\n",
    "        # method to introduce the student (overridden)\n",
    "        super().introduce() # call the parent introduce method\n",
    "        print(f\"I am a student majoring in {self.major} and my GPA is {self.gpa}.\")\n",
    "\n",
    "class Professor(Person):\n",
    "    # professor class that inherits from person class\n",
    "    def __init__(self, name, age, department, salary):\n",
    "        # constructor that sets the name, age, department and salary attributes\n",
    "        super().__init__(name, age) # call the parent constructor\n",
    "        self.department = department\n",
    "        self.salary = salary\n",
    "\n",
    "    def teach(self):\n",
    "        # method to teach\n",
    "        print(f\"I am teaching {self.department} courses.\")\n",
    "\n",
    "    def introduce(self):\n",
    "        # method to introduce the professor (overridden)\n",
    "        super().introduce() # call the parent introduce method\n",
    "        print(f\"I am a professor in the {self.department} department and my salary is {self.salary}.\")\n"
   ]
  },
  {
   "cell_type": "code",
   "execution_count": 65,
   "id": "a106b361",
   "metadata": {},
   "outputs": [
    {
     "name": "stdout",
     "output_type": "stream",
     "text": [
      "Hello, I am Rajesh and I am 20 years old.\n",
      "I am a student majoring in Computer Science and my GPA is 3.8.\n",
      "I am studying Computer Science.\n",
      "Hello, I am Chintu and I am 45 years old.\n",
      "I am a professor in the Mathematics department and my salary is 5000.\n",
      "I am teaching Mathematics courses.\n"
     ]
    }
   ],
   "source": [
    "student = Student(\"Rajesh\", 20, \"Computer Science\", 3.8)\n",
    "student.introduce() \n",
    "student.study() \n",
    "\n",
    "professor = Professor(\"Chintu\", 45, \"Mathematics\", 5000)\n",
    "professor.introduce() \n",
    "professor.teach()\n"
   ]
  },
  {
   "cell_type": "markdown",
   "id": "5c5290eb",
   "metadata": {},
   "source": [
    "# Encapsulation: "
   ]
  },
  {
   "cell_type": "markdown",
   "id": "dfb4e4e6",
   "metadata": {},
   "source": [
    "1. Explain the concept of encapsulation in Python. What is its role in object-oriented programming?"
   ]
  },
  {
   "cell_type": "code",
   "execution_count": 66,
   "id": "a2aeed46",
   "metadata": {},
   "outputs": [
    {
     "name": "stdout",
     "output_type": "stream",
     "text": [
      "Calling protected member of base class:  2\n",
      "Calling modified protected member outside class:  3\n",
      "Accessing protected member of obj1:  3\n",
      "Accessing protected member of obj2:  2\n"
     ]
    }
   ],
   "source": [
    "\"\"\"\n",
    "Encapsulation is one of the fundamental concepts in object-oriented programming (OOP). \n",
    "It describes the idea of wrapping data and the methods that work on data within one unit. \n",
    "This puts restrictions on accessing variables and methods directly and can prevent the accidental modification of data.\n",
    "\"\"\"\n",
    "#Example:\n",
    "class Base:\n",
    "    def __init__(self):\n",
    "        self._a = 2\n",
    "\n",
    "class Derived(Base):\n",
    "    def __init__(self):\n",
    "        Base.__init__(self)\n",
    "        print(\"Calling protected member of base class: \", self._a)\n",
    "        self._a = 3\n",
    "        print(\"Calling modified protected member outside class: \", self._a)\n",
    "\n",
    "obj1 = Derived()\n",
    "obj2 = Base()\n",
    "print(\"Accessing protected member of obj1: \", obj1._a)\n",
    "print(\"Accessing protected member of obj2: \", obj2._a)\n"
   ]
  },
  {
   "cell_type": "markdown",
   "id": "8f102ba1",
   "metadata": {},
   "source": [
    "2. Describe the key principles of encapsulation, including access control and data hiding."
   ]
  },
  {
   "cell_type": "markdown",
   "id": "fe327446",
   "metadata": {},
   "source": [
    "\"\"\"\n",
    "Encapsulation is a fundamental concept in object-oriented programming (OOP) that refers to the bundling of data and \n",
    "methods that operate on that data within a single unit¹. It is the mechanism that binds together code and the data it \n",
    "manipulates. Another way to think about encapsulation is, that it is a protective shield that prevents the data from \n",
    "being accessed by the code outside this shield.\n",
    "\n",
    "Key principles of encapsulation include:\n",
    "\n",
    "1. **Data Hiding**: Encapsulation is a way of hiding the implementation details of a class from outside access and only\n",
    "exposing a public interface that can be used to interact with the class. The user will have no idea about the inner \n",
    "implementation of the class. It will not be visible to the user how the class is storing values in the variables.\n",
    "\n",
    "2. **Access Control**: Encapsulation can be achieved by declaring all the variables in the class as private and \n",
    "writing public methods in the class to set and get the values of variables. To implement encapsulation, you can use \n",
    "tools known as access modifiers: public, private, and protected. These determine who can access the data and methods \n",
    "in a class.\n",
    "\n",
    "3. **Data Integrity**: Encapsulation is also used to protect information from being modified or having new errors \n",
    "introduced. When you store and lock the information in a bundle, it is much more difficult for users to accidentally \n",
    "modify the information.\n",
    "\n",
    "4. **Abstraction**: As in encapsulation, the data in a class is hidden from other classes using the data hiding concept \n",
    "which is achieved by making the members or methods of a class private, and the class is exposed to the end-user or \n",
    "the world without providing any details behind implementation using the abstraction concept.\n",
    "\n",
    "\"\"\""
   ]
  },
  {
   "cell_type": "markdown",
   "id": "ac690b13",
   "metadata": {},
   "source": [
    "3. How can you achieve encapsulation in Python classes? Provide an example."
   ]
  },
  {
   "cell_type": "code",
   "execution_count": 70,
   "id": "50f29b0b",
   "metadata": {},
   "outputs": [
    {
     "name": "stdout",
     "output_type": "stream",
     "text": [
      "Name:  Rajesh Behera\n",
      "Salary:  50000\n",
      "Project:  AI\n"
     ]
    }
   ],
   "source": [
    "\"\"\"\n",
    "In Python, encapsulation can be achieved by declaring the data members and methods of a class either as private or \n",
    "protected12. But in Python, we don’t have direct access modifiers like public, private, and protected. \n",
    "\n",
    "We can achieve this by using single underscore and double underscores.\n",
    "\n",
    "\"\"\"\n",
    "#Example:\n",
    " \n",
    "class Employee:\n",
    "    # constructor\n",
    "    def __init__(self, name, salary, project):\n",
    "        # data members\n",
    "        self.name = name  \n",
    "        self._salary = salary  # protected attribute \n",
    "        self.__project = project  # private attribute \n",
    "\n",
    "    # method to access private attribute\n",
    "    def get_project(self):\n",
    "        return self.__project\n",
    "\n",
    "# creating an object of the Employee class\n",
    "emp = Employee(\"Rajesh Behera\", 50000, \"AI\")\n",
    "\n",
    "# accessing public attribute\n",
    "print(\"Name: \", emp.name)\n",
    "\n",
    "# accessing protected attribute\n",
    "print(\"Salary: \", emp._salary)\n",
    "\n",
    "# accessing private attribute via method\n",
    "print(\"Project: \", emp.get_project())\n"
   ]
  },
  {
   "cell_type": "markdown",
   "id": "627c5d31",
   "metadata": {},
   "source": [
    "4. Discuss the difference between public, private, and protected access modifiers in Python."
   ]
  },
  {
   "cell_type": "markdown",
   "id": "5d95cb04",
   "metadata": {},
   "source": [
    "\"\"\"\n",
    "Public Access Modifier - \n",
    "------------------------------\n",
    "The name “Public” says all about this access modifier the variables and methods declared inside the specific Python class can be accessed by that class and any Python class outside that specific class.\n",
    "\n",
    "Public methods are accessible outside the class and with the help of objects the public methods can be invoked inside the class.\n",
    "\n",
    "All the variables and methods in a Python class are public by default and just like mentioned above can be accessed from outside the class environment\n",
    "\n",
    "\n",
    "Protected Access Modifier-\n",
    "------------------------------\n",
    "Protected variables and methods are accessible within the specific class environment and can also be accessed by the sub-classes. We can also say that it allows the resources of the parent class to be inherited by the child class.\n",
    "\n",
    "Any variables or methods prefixed with a single underscore (_) in a class are protected and can be accessed within the specific class environment. The protected variables/methods can be accessed inside the sub-classes of the parent class.\n",
    "\n",
    "\n",
    "Private Access Modifier\n",
    "------------------------------\n",
    "The “Private” access modifier restricts the variables and methods declared inside the specific class to that class environment.\n",
    "\n",
    "Simply put, the variables and methods declared inside a class can be accessed inside that class environment and not outside that class. Python doesn’t have any mechanism restricting access to the variables or methods.\n",
    "\n",
    "But there is a way by which we can impose restrictions to access the variables and methods in Python. Python suggests using a double underscore to imitate the behavior of the private access modifier.\n",
    "\n",
    "Variables and methods prefixed with a double underscore (__) make them private and cannot be accessed outside the specific class. \n",
    "\n",
    "\"\"\"\"\"\""
   ]
  },
  {
   "cell_type": "markdown",
   "id": "2481b0a3",
   "metadata": {},
   "source": [
    "5. Create a Python class called `Person` with a private attribute `__name`. Provide methods to get and set the\n",
    "name attribute."
   ]
  },
  {
   "cell_type": "code",
   "execution_count": 74,
   "id": "00de7df6",
   "metadata": {},
   "outputs": [
    {
     "name": "stdout",
     "output_type": "stream",
     "text": [
      "Name:  Rajesh\n",
      "Updated Name:  Chintu\n"
     ]
    }
   ],
   "source": [
    "class Person:\n",
    "    def __init__(self, name):\n",
    "        self.__name = name  # private attribute\n",
    "\n",
    "    def get_name(self):\n",
    "        return self.__name\n",
    "\n",
    "    def set_name(self, name):\n",
    "        self.__name = name\n",
    "\n",
    "# creating an object of the Person class\n",
    "p = Person(\"Rajesh\")\n",
    "\n",
    "# accessing name via getter method\n",
    "print(\"Name: \", p.get_name())\n",
    "\n",
    "# changing name via setter method\n",
    "p.set_name(\"Chintu\")\n",
    "print(\"Updated Name: \", p.get_name())\n"
   ]
  },
  {
   "cell_type": "markdown",
   "id": "a1529438",
   "metadata": {},
   "source": [
    "6. Explain the purpose of getter and setter methods in encapsulation. Provide examples."
   ]
  },
  {
   "cell_type": "code",
   "execution_count": 75,
   "id": "784db951",
   "metadata": {},
   "outputs": [],
   "source": [
    "\"\"\"\n",
    "Getter Methods: These methods are used to access the value of private attributes from outside the class1. \n",
    "They return the value of the variable1. Here’s an example:\n",
    "\n",
    "\"\"\"\n",
    "class Person:\n",
    "    def __init__(self, name):\n",
    "        self.__name = name  # private attribute\n",
    "\n",
    "    # Getter method\n",
    "    def get_name(self):\n",
    "        return self.__name\n",
    "\n",
    "    \n",
    "\"\"\"\n",
    "Setter Methods: These methods are used to set or change the value of private attributes from outside the class1. They take a parameter and assign it to the private variable1.\n",
    "\"\"\"\n",
    "\n",
    "#Here’s an example:\n",
    "class Person:\n",
    "    def __init__(self, name):\n",
    "        self.__name = name  # private attribute\n",
    "\n",
    "    # Setter method\n",
    "    def set_name(self, name):\n",
    "        self.__name = name\n",
    "\n"
   ]
  },
  {
   "cell_type": "markdown",
   "id": "941f8f35",
   "metadata": {},
   "source": [
    "7. What is name mangling in Python, and how does it affect encapsulation?"
   ]
  },
  {
   "cell_type": "code",
   "execution_count": 77,
   "id": "43a2de52",
   "metadata": {},
   "outputs": [
    {
     "name": "stdout",
     "output_type": "stream",
     "text": [
      "Rajesh\n"
     ]
    }
   ],
   "source": [
    "\"\"\"\n",
    "Name mangling in Python is a mechanism by which class variables have different names inside and outside the class1. \n",
    "It is a system that changes the way a variable or method name is stored, making it harder to access or modify from \n",
    "outside the class\n",
    "\"\"\"\n",
    "\n",
    "#Example:\n",
    "class Student:\n",
    "    def __init__(self, name):\n",
    "        self.__name = name\n",
    "\n",
    "s1 = Student(\"Rajesh\")\n",
    "print(s1._Student__name)  \n"
   ]
  },
  {
   "cell_type": "markdown",
   "id": "866ee708",
   "metadata": {},
   "source": [
    "8. Create a Python class called `BankAccount` with private attributes for the account balance (`__balance`)"
   ]
  },
  {
   "cell_type": "code",
   "execution_count": 78,
   "id": "065d3f87",
   "metadata": {},
   "outputs": [],
   "source": [
    "class BankAccount:\n",
    "    def __init__(self, balance=0.0):\n",
    "        self.__balance = balance  # private attribute\n",
    "\n",
    "    def deposit(self, amount):\n",
    "        self.__balance += amount\n",
    "        return self.__balance\n",
    "\n",
    "    def withdraw(self, amount):\n",
    "        if amount > self.__balance:\n",
    "            print(\"Insufficient funds\")\n",
    "            return\n",
    "        self.__balance -= amount\n",
    "        return self.__balance\n",
    "\n",
    "    def get_balance(self):\n",
    "        return self.__balance\n"
   ]
  },
  {
   "cell_type": "markdown",
   "id": "b3a2e068",
   "metadata": {},
   "source": [
    "9. Discuss the advantages of encapsulation in terms of code maintainability and security."
   ]
  },
  {
   "cell_type": "code",
   "execution_count": 79,
   "id": "2a175180",
   "metadata": {},
   "outputs": [
    {
     "data": {
      "text/plain": [
       "'\\nEncapsulation is one of the key concepts in object-oriented programming. It is the practice of bundling data and methods \\ntogether into a single unit, called a class. This helps to keep the code organized and easier to maintain.\\nEncapsulation also provides a number of security benefits. By hiding the data within the class, it is made more difficult for unauthorized users to access or modify it. This can help to protect the integrity of the data and prevent malicious attacks.\\nHere are some of the specific advantages of encapsulation in Python in terms of code maintainability and security:\\nImproved readability:\\nEncapsulation makes code more readable by bundling data and methods together. This makes it easier to understand what the code is doing and how it works.\\nReduced complexity:\\nEncapsulation can help to reduce the complexity of code by keeping it organized and modular. This can make it easier to debug and maintain the code.\\nIncreased security:\\nEncapsulation can help to increase the security of code by hiding data within the class. This can make it more difficult for unauthorized users to access or modify the data.\\nImproved reusability:\\nEncapsulation can help to improve the reusability of code by making it easier to separate data from methods. This can make it easier to use the code in other contexts.\\nOverall, encapsulation is a powerful tool that can help to improve the maintainability and security of Python code. By bundling data and methods together, encapsulation can help to make code more readable, less complex, more secure, and more reusable.\\n\\n'"
      ]
     },
     "execution_count": 79,
     "metadata": {},
     "output_type": "execute_result"
    }
   ],
   "source": [
    "\"\"\"\n",
    "Encapsulation is one of the key concepts in object-oriented programming. It is the practice of bundling data and methods \n",
    "together into a single unit, called a class. This helps to keep the code organized and easier to maintain.\n",
    "Encapsulation also provides a number of security benefits. By hiding the data within the class, it is made more difficult for unauthorized users to access or modify it. This can help to protect the integrity of the data and prevent malicious attacks.\n",
    "Here are some of the specific advantages of encapsulation in Python in terms of code maintainability and security:\n",
    "Improved readability:\n",
    "Encapsulation makes code more readable by bundling data and methods together. This makes it easier to understand what the code is doing and how it works.\n",
    "Reduced complexity:\n",
    "Encapsulation can help to reduce the complexity of code by keeping it organized and modular. This can make it easier to debug and maintain the code.\n",
    "Increased security:\n",
    "Encapsulation can help to increase the security of code by hiding data within the class. This can make it more difficult for unauthorized users to access or modify the data.\n",
    "Improved reusability:\n",
    "Encapsulation can help to improve the reusability of code by making it easier to separate data from methods. This can make it easier to use the code in other contexts.\n",
    "Overall, encapsulation is a powerful tool that can help to improve the maintainability and security of Python code. By bundling data and methods together, encapsulation can help to make code more readable, less complex, more secure, and more reusable.\n",
    "\n",
    "\"\"\""
   ]
  },
  {
   "cell_type": "markdown",
   "id": "12794b28",
   "metadata": {},
   "source": [
    "10. How can you access private attributes in Python? Provide an example demonstrating the use of name\n",
    "mangling."
   ]
  },
  {
   "cell_type": "code",
   "execution_count": 80,
   "id": "e02936e3",
   "metadata": {},
   "outputs": [
    {
     "name": "stdout",
     "output_type": "stream",
     "text": [
      "10\n"
     ]
    }
   ],
   "source": [
    "\"\"\"\n",
    "In Python, private attributes are not truly private. Python’s private and protected member can be accessed outside the \n",
    "class through python name mangling.\n",
    "\n",
    "For any class in Python, private attributes are internally represented with a prefix of _classname. This is known as name \n",
    "mangling. It’s a mechanism that changes the name of the method or attribute to prevent its access from outside.\n",
    "\"\"\"\n",
    "\n",
    "#Example:\n",
    "class MyClass:\n",
    "    def __init__(self):\n",
    "        self.__private_attribute = 10\n",
    "\n",
    "# creating an object of the MyClass\n",
    "obj = MyClass()\n",
    "\n",
    "# accessing private attribute via name mangling\n",
    "print(obj._MyClass__private_attribute)  "
   ]
  },
  {
   "cell_type": "markdown",
   "id": "44eed4f6",
   "metadata": {},
   "source": [
    "11. Create a Python class hierarchy for a school system, including classes for students, teachers, and courses,\n",
    "and implement encapsulation principles to protect sensitive information."
   ]
  },
  {
   "cell_type": "code",
   "execution_count": 81,
   "id": "59ca45b6",
   "metadata": {},
   "outputs": [],
   "source": [
    "class Person:\n",
    "    def __init__(self, name, age):\n",
    "        self._name = name  # protected attribute\n",
    "        self._age = age  # protected attribute\n",
    "\n",
    "    def get_name(self):\n",
    "        return self._name\n",
    "\n",
    "    def get_age(self):\n",
    "        return self._age\n",
    "\n",
    "\n",
    "class Student(Person):\n",
    "    def __init__(self, name, age, student_id):\n",
    "        super().__init__(name, age)\n",
    "        self.__student_id = student_id  # private attribute\n",
    "\n",
    "    def get_student_id(self):\n",
    "        return self.__student_id\n",
    "\n",
    "\n",
    "class Teacher(Person):\n",
    "    def __init__(self, name, age, teacher_id):\n",
    "        super().__init__(name, age)\n",
    "        self.__teacher_id = teacher_id  # private attribute\n",
    "\n",
    "    def get_teacher_id(self):\n",
    "        return self.__teacher_id\n",
    "\n",
    "\n",
    "class Course:\n",
    "    def __init__(self, course_name, teacher):\n",
    "        self._course_name = course_name  # protected attribute\n",
    "        self._teacher = teacher  # protected attribute\n",
    "        self.__students = []  # private attribute\n",
    "\n",
    "    def add_student(self, student):\n",
    "        self.__students.append(student)\n",
    "\n",
    "    def get_students(self):\n",
    "        return [student.get_name() for student in self.__students]\n",
    "\n",
    "    def get_course_name(self):\n",
    "        return self._course_name\n",
    "\n",
    "    def get_teacher(self):\n",
    "        return self._teacher.get_name()\n"
   ]
  },
  {
   "cell_type": "markdown",
   "id": "b775e0dd",
   "metadata": {},
   "source": [
    "12. Explain the concept of property decorators in Python and how they relate to encapsulation."
   ]
  },
  {
   "cell_type": "code",
   "execution_count": 84,
   "id": "8562faf6",
   "metadata": {},
   "outputs": [],
   "source": [
    "\"\"\"\n",
    "The @property decorator in Python is a built-in decorator that makes the usage of getter and setter methods much easier in \n",
    "object-oriented programming12. It is used to define properties effortlessly without manually calling the inbuilt function \n",
    "property(), which is used to return the property attributes of a class from the stated getter, setter, and deleter as \n",
    "parameters\n",
    "\"\"\"\n",
    "#Example:\n",
    "class Celsius:\n",
    "    def __init__(self, temperature=0):\n",
    "        self._temperature = temperature\n",
    "\n",
    "    @property\n",
    "    def temperature(self):\n",
    "        print(\"Getting value...\")\n",
    "        return self._temperature\n",
    "\n",
    "    @temperature.setter\n",
    "    def temperature(self, value):\n",
    "        if value < -273.15:\n",
    "            raise ValueError(\"Temperature below -273.15 is not possible.\")\n",
    "        print(\"Setting value...\")\n",
    "        self._temperature = value\n"
   ]
  },
  {
   "cell_type": "markdown",
   "id": "d1fb06de",
   "metadata": {},
   "source": [
    "13. What is data hiding, and why is it important in encapsulation? Provide examples."
   ]
  },
  {
   "cell_type": "code",
   "execution_count": 86,
   "id": "9b4be815",
   "metadata": {},
   "outputs": [
    {
     "name": "stdout",
     "output_type": "stream",
     "text": [
      "Cannot access private attribute\n",
      "10\n"
     ]
    }
   ],
   "source": [
    "\"\"\"\n",
    "Data hiding is a concept in object-oriented programming (OOP) that underlines the hiding of data or information from the user1. It includes object details such as data members and internal workings1. Data hiding excludes full data entry to class members and defends object integrity by preventing unintended changes1. It also minimizes system complexity for increased robustness by limiting interdependencies between software requirements1.\n",
    "\n",
    "Data hiding is important in encapsulation for several reasons:\n",
    "\n",
    "Security: By hiding the internal state of an object, data hiding enhances the security of an object’s internal state.\n",
    "Integrity: It defends the integrity of an object by preventing unintended changes.\n",
    "Simplicity: Data hiding reduces system complexity, making the system easier to use and understand.\n",
    "Control: It provides control over class attributes and methods.\n",
    "Here’s an example of data hiding in Python:\n",
    "\"\"\"\n",
    "class MyClass:\n",
    "    def __init__(self):\n",
    "        self.__private_attribute = 10\n",
    "\n",
    "# creating an object of the MyClass\n",
    "obj = MyClass()\n",
    "\n",
    "# trying to access private attribute directly\n",
    "# this will raise an AttributeError\n",
    "try:\n",
    "    print(obj.__private_attribute)\n",
    "except AttributeError:\n",
    "    print(\"Cannot access private attribute\")\n",
    "\n",
    "# accessing private attribute via name mangling\n",
    "print(obj._MyClass__private_attribute) \n"
   ]
  },
  {
   "cell_type": "markdown",
   "id": "e9651ada",
   "metadata": {},
   "source": [
    "14. Create a Python class called `Employee` with private attributes for salary (`__salary`) and employee ID (`__employee_id`). Provide a method to calculate yearly bonuses."
   ]
  },
  {
   "cell_type": "code",
   "execution_count": 88,
   "id": "a36dadc5",
   "metadata": {},
   "outputs": [],
   "source": [
    "class Employee:\n",
    "    def __init__(self, employee_id, salary):\n",
    "        self.__employee_id = employee_id  # private attribute\n",
    "        self.__salary = salary  # private attribute\n",
    "\n",
    "    def get_employee_id(self):\n",
    "        return self.__employee_id\n",
    "\n",
    "    def get_salary(self):\n",
    "        return self.__salary\n",
    "\n",
    "    def set_salary(self, salary):\n",
    "        self.__salary = salary\n",
    "\n",
    "    def calculate_yearly_bonus(self):\n",
    "        # let's assume the bonus is 10% of the salary\n",
    "        bonus = self.__salary * 0.10\n",
    "        return bonus\n"
   ]
  },
  {
   "cell_type": "markdown",
   "id": "73c881bc",
   "metadata": {},
   "source": [
    "15. Discuss the use of accessors and mutators in encapsulation. How do they help maintain control over\n",
    "attribute access?"
   ]
  },
  {
   "cell_type": "code",
   "execution_count": 89,
   "id": "1bf15207",
   "metadata": {},
   "outputs": [],
   "source": [
    "\"\"\"\n",
    "Accessors and mutators, also known as getters and setters, are an essential part of encapsulation in object-oriented programming12. They allow you to control access to an object’s state, ensuring that it is accessed and modified only through a controlled interface.\n",
    "\n",
    "Accessors, or getter methods, allow you to retrieve the value of an object’s private instance variables. These methods provide read-only access to the object’s state2. By using accessor methods, you can ensure that the object’s state is not modified accidentally or maliciously by external code.\n",
    "\n",
    "Mutators, or setter methods, allow you to modify the value of an object’s private instance variables. These methods provide write-only access to the object’s state2. By using mutator methods, you can ensure that the object’s state is modified only through a controlled interface.\n",
    "\"\"\"\n",
    "\n",
    "#Example:\n",
    "class Person:\n",
    "    def __init__(self, name):\n",
    "        self.__name = name  # private attribute\n",
    "\n",
    "    # Accessor method\n",
    "    @property\n",
    "    def name(self):\n",
    "        return self.__name\n",
    "\n",
    "    # Mutator method\n",
    "    @name.setter\n",
    "    def name(self, value):\n",
    "        self.__name = value\n"
   ]
  },
  {
   "cell_type": "markdown",
   "id": "0f741954",
   "metadata": {},
   "source": [
    "16. What are the potential drawbacks or disadvantages of using encapsulation in Python?"
   ]
  },
  {
   "cell_type": "markdown",
   "id": "144f4f38",
   "metadata": {},
   "source": [
    "\"\"\"\n",
    "While encapsulation is a fundamental concept in object-oriented programming and provides numerous benefits, there are potential drawbacks to consider:\n",
    "\n",
    "Code Size: The length of the code can increase significantly with encapsulation as you need to provide all the methods with the specifiers1. This could potentially make the code more complex and harder to read1.\n",
    "\n",
    "More Instructions: As the size of the code increases, you need to provide additional instructions for every method1. This could potentially slow down the execution of the program1.\n",
    "\n",
    "Overhead: Encapsulation can introduce additional overhead in your code. For each attribute that you want to make private, you have to create a getter and setter method. This can lead to a lot of extra code, especially for larger classes with many attributes.\n",
    "\n",
    "Accessibility: In Python, encapsulation is not enforced by the language itself. Python takes the position that getters and setters that do nothing more than access or assign to the underlying attribute are unnecessary2. Even using the double-underscore prefix is just advisory, and is more concerned with preventing name collisions in subclasses2. This means that private attributes can still be accessed directly from outside the class, which could potentially lead to misuse.\n",
    "\"\"\""
   ]
  },
  {
   "cell_type": "markdown",
   "id": "482cd7fd",
   "metadata": {},
   "source": [
    "17. Create a Python class for a library system that encapsulates book information, including titles, authors,\n",
    "and availability status."
   ]
  },
  {
   "cell_type": "code",
   "execution_count": 90,
   "id": "a82ecbea",
   "metadata": {},
   "outputs": [],
   "source": [
    "class Book:\n",
    "    def __init__(self, title, author):\n",
    "        self._title = title  # protected attribute\n",
    "        self._author = author  # protected attribute\n",
    "        self.__is_available = True  # private attribute\n",
    "\n",
    "    def get_title(self):\n",
    "        return self._title\n",
    "\n",
    "    def get_author(self):\n",
    "        return self._author\n",
    "\n",
    "    def is_available(self):\n",
    "        return self.__is_available\n",
    "\n",
    "    def borrow_book(self):\n",
    "        if not self.__is_available:\n",
    "            print(\"Sorry, this book is currently not available.\")\n",
    "            return False\n",
    "        else:\n",
    "            self.__is_available = False\n",
    "            print(f\"You have successfully borrowed {self._title}.\")\n",
    "            return True\n",
    "\n",
    "    def return_book(self):\n",
    "        self.__is_available = True\n",
    "        print(f\"You have successfully returned {self._title}.\")\n"
   ]
  },
  {
   "cell_type": "markdown",
   "id": "09d3b81a",
   "metadata": {},
   "source": [
    "18. Explain how encapsulation enhances code reusability and modularity in Python programs."
   ]
  },
  {
   "cell_type": "code",
   "execution_count": 91,
   "id": "d0f74188",
   "metadata": {},
   "outputs": [
    {
     "data": {
      "text/plain": [
       "'\\nEncapsulation enhances code reusability and modularity in Python programs in several ways:\\n\\nCode Reusability: Encapsulation allows us to hide an object’s internal representation from the outside. \\nThis is called information hiding1. By encapsulating the internal state of objects, we can write more modular and reusable \\ncode. It allows us to restrict accessing variables and methods directly and prevent accidental data modification by creating private data members and methods within a class1. This makes the code more reusable, \\nas the same encapsulated code can be used in different parts of the program or in different programs.\\n\\nModularity: Encapsulation improves modularity by making it easier to partition the code into self-contained modules. \\nEach module is a self-contained unit that encapsulates certain functionality of the program. \\nModules can be developed, tested, and debugged independently, which simplifies the development process. \\nModularity refers to the concept of making multiple modules first and then linking and combining them to form a complete \\nsystem4. Modularity enables re-usability and will minimize duplication.\\n\\nInformation Hiding: Encapsulation also hides the data1. In this way, the data of one part of the program is hidden from \\nother parts of the program. This enhances security and prevents unauthorized access to data.\\n'"
      ]
     },
     "execution_count": 91,
     "metadata": {},
     "output_type": "execute_result"
    }
   ],
   "source": [
    "'''\n",
    "Encapsulation enhances code reusability and modularity in Python programs in several ways:\n",
    "\n",
    "Code Reusability: Encapsulation allows us to hide an object’s internal representation from the outside. \n",
    "This is called information hiding1. By encapsulating the internal state of objects, we can write more modular and reusable \n",
    "code. It allows us to restrict accessing variables and methods directly and prevent accidental data modification by creating private data members and methods within a class1. This makes the code more reusable, \n",
    "as the same encapsulated code can be used in different parts of the program or in different programs.\n",
    "\n",
    "Modularity: Encapsulation improves modularity by making it easier to partition the code into self-contained modules. \n",
    "Each module is a self-contained unit that encapsulates certain functionality of the program. \n",
    "Modules can be developed, tested, and debugged independently, which simplifies the development process. \n",
    "Modularity refers to the concept of making multiple modules first and then linking and combining them to form a complete \n",
    "system4. Modularity enables re-usability and will minimize duplication.\n",
    "\n",
    "Information Hiding: Encapsulation also hides the data1. In this way, the data of one part of the program is hidden from \n",
    "other parts of the program. This enhances security and prevents unauthorized access to data.\n",
    "'''"
   ]
  },
  {
   "cell_type": "markdown",
   "id": "f1e74388",
   "metadata": {},
   "source": [
    "19. Describe the concept of information hiding in encapsulation. Why is it essential in software development?"
   ]
  },
  {
   "cell_type": "code",
   "execution_count": 92,
   "id": "4f37c2c6",
   "metadata": {},
   "outputs": [
    {
     "data": {
      "text/plain": [
       "'\\nInformation hiding is a principle that underlines the hiding of data or information from the user. It includes object details such as data members and internal workings. Information hiding excludes full data entry to class members and defends object integrity by preventing unintended changes. It also minimizes system complexity for increased robustness by limiting interdependencies between software requirements.\\n\\nInformation hiding is essential in software development for several reasons:\\n\\nSecurity: By hiding the internal state of an object, information hiding enhances the security of an object’s internal state.\\nIntegrity: It defends the integrity of an object by preventing unintended changes.\\nSimplicity: Information hiding reduces system complexity, making the system easier to use and understand.\\nControl: It provides control over class attributes and methods.\\nIn encapsulation, the data in a class is hidden from other classes using the data hiding concept which is achieved by making the members or methods of a class private, and the class is exposed to the end-user or the world without providing any details behind implementation using the abstraction concept, so it is also known as a combination of data-hiding and abstraction. Encapsulation can be achieved by declaring all the variables in the class as private and writing public methods in the class to set and get the values of variables. It is more defined with the setter and getter method\\n'"
      ]
     },
     "execution_count": 92,
     "metadata": {},
     "output_type": "execute_result"
    }
   ],
   "source": [
    "\"\"\"\n",
    "Information hiding is a principle that underlines the hiding of data or information from the user. It includes object details such as data members and internal workings. Information hiding excludes full data entry to class members and defends object integrity by preventing unintended changes. It also minimizes system complexity for increased robustness by limiting interdependencies between software requirements.\n",
    "\n",
    "Information hiding is essential in software development for several reasons:\n",
    "\n",
    "Security: By hiding the internal state of an object, information hiding enhances the security of an object’s internal state.\n",
    "Integrity: It defends the integrity of an object by preventing unintended changes.\n",
    "Simplicity: Information hiding reduces system complexity, making the system easier to use and understand.\n",
    "Control: It provides control over class attributes and methods.\n",
    "In encapsulation, the data in a class is hidden from other classes using the data hiding concept which is achieved by making the members or methods of a class private, and the class is exposed to the end-user or the world without providing any details behind implementation using the abstraction concept, so it is also known as a combination of data-hiding and abstraction. Encapsulation can be achieved by declaring all the variables in the class as private and writing public methods in the class to set and get the values of variables. It is more defined with the setter and getter method\n",
    "\"\"\""
   ]
  },
  {
   "cell_type": "markdown",
   "id": "b64b6b91",
   "metadata": {},
   "source": [
    "20. Create a Python class called `Customer` with private attributes for customer details like name, address,\n",
    "and contact information. Implement encapsulation to ensure data integrity and security."
   ]
  },
  {
   "cell_type": "code",
   "execution_count": 94,
   "id": "0cc901bf",
   "metadata": {},
   "outputs": [],
   "source": [
    "class Customer:\n",
    "\n",
    "    def __init__(self, name, address, contact_information):\n",
    "        self._name = name\n",
    "        self._address = address\n",
    "        self._contact_information = contact_information\n",
    "\n",
    "    @property\n",
    "    def name(self):\n",
    "        return self._name\n",
    "\n",
    "    @name.setter\n",
    "    def name(self, new_name):\n",
    "        self._name = new_name\n",
    "\n",
    "    @property\n",
    "    def address(self):\n",
    "        return self._address\n",
    "\n",
    "    @address.setter\n",
    "    def address(self, new_address):\n",
    "        self._address = new_address\n",
    "\n",
    "    @property\n",
    "    def contact_information(self):\n",
    "        return self._contact_information\n",
    "\n",
    "    @contact_information.setter\n",
    "    def contact_information(self, new_contact_information):\n",
    "        self._contact_information = new_contact_information\n"
   ]
  },
  {
   "cell_type": "code",
   "execution_count": 96,
   "id": "ce8f726c",
   "metadata": {},
   "outputs": [
    {
     "name": "stdout",
     "output_type": "stream",
     "text": [
      "Rajesh\n"
     ]
    }
   ],
   "source": [
    "customer = Customer(\"Rajesh\", \"Bangalore\", \"1234567890\")\n",
    "print(customer.name)"
   ]
  },
  {
   "cell_type": "markdown",
   "id": "d48d52fe",
   "metadata": {},
   "source": [
    "# Polymorphism: "
   ]
  },
  {
   "cell_type": "markdown",
   "id": "0a1cc31d",
   "metadata": {},
   "source": [
    "1. What is polymorphism in Python? Explain how it is related to object-oriented programming."
   ]
  },
  {
   "cell_type": "code",
   "execution_count": 1,
   "id": "0be46ea0",
   "metadata": {},
   "outputs": [
    {
     "data": {
      "text/plain": [
       "'\\nPolymorphism is a concept in object-oriented programming that allows objects of different classes to be treated as if they \\nwere of the same class. It is the ability of an object to take on many forms. In Python, polymorphism is achieved through\\nmethod overloading and method overriding.\\n\\nPolymorphism is an important concept in object-oriented programming because it allows us to write more flexible and reusable\\ncode. By using polymorphism, we can write code that works with objects of different classes without having to know the details\\nof those classes.\\n'"
      ]
     },
     "execution_count": 1,
     "metadata": {},
     "output_type": "execute_result"
    }
   ],
   "source": [
    "\"\"\"\n",
    "Polymorphism is a concept in object-oriented programming that allows objects of different classes to be treated as if they \n",
    "were of the same class. It is the ability of an object to take on many forms. In Python, polymorphism is achieved through\n",
    "method overloading and method overriding.\n",
    "\n",
    "Polymorphism is an important concept in object-oriented programming because it allows us to write more flexible and reusable\n",
    "code. By using polymorphism, we can write code that works with objects of different classes without having to know the details\n",
    "of those classes.\n",
    "\"\"\""
   ]
  },
  {
   "cell_type": "markdown",
   "id": "f330e5ce",
   "metadata": {},
   "source": [
    "2. Describe the difference between compile-time polymorphism and runtime polymorphism in Python."
   ]
  },
  {
   "cell_type": "code",
   "execution_count": 2,
   "id": "8a814a94",
   "metadata": {},
   "outputs": [
    {
     "data": {
      "text/plain": [
       "'\\nCompile-time polymorphism is achieved through method overloading. Method overloading is when two or more methods in the same\\nclass have the same name but different parameters. This allows us to use the same method name for different purposes. \\nThe correct method to be called is determined at compile-time based on the number and types of arguments passed to it.\\n\\nRuntime polymorphism is achieved through method overriding. Method overriding is when a subclass provides a different \\nimplementation of a method that is already defined in its parent class. The correct method to be called is determined at\\nruntime based on the type of object that the method is being called on.\\n\\nThe key difference between compile-time polymorphism and runtime polymorphism is that in compile-time polymorphism, \\nthe correct method to be called is determined at compile-time, while in runtime polymorphism, the correct method to be \\ncalled is determined at runtime.\\n'"
      ]
     },
     "execution_count": 2,
     "metadata": {},
     "output_type": "execute_result"
    }
   ],
   "source": [
    "\"\"\"\n",
    "Compile-time polymorphism is achieved through method overloading. Method overloading is when two or more methods in the same\n",
    "class have the same name but different parameters. This allows us to use the same method name for different purposes. \n",
    "The correct method to be called is determined at compile-time based on the number and types of arguments passed to it.\n",
    "\n",
    "Runtime polymorphism is achieved through method overriding. Method overriding is when a subclass provides a different \n",
    "implementation of a method that is already defined in its parent class. The correct method to be called is determined at\n",
    "runtime based on the type of object that the method is being called on.\n",
    "\n",
    "The key difference between compile-time polymorphism and runtime polymorphism is that in compile-time polymorphism, \n",
    "the correct method to be called is determined at compile-time, while in runtime polymorphism, the correct method to be \n",
    "called is determined at runtime.\n",
    "\"\"\""
   ]
  },
  {
   "cell_type": "markdown",
   "id": "b720819d",
   "metadata": {},
   "source": [
    "3. Create a Python class hierarchy for shapes (e.g., circle, square, triangle) and demonstrate polymorphism\n",
    "through a common method, such as `calculate_area()`."
   ]
  },
  {
   "cell_type": "code",
   "execution_count": 7,
   "id": "d2d89e7e",
   "metadata": {},
   "outputs": [],
   "source": [
    "class Shape:\n",
    "    def calculate_area(self):\n",
    "        pass\n",
    "\n",
    "class Circle(Shape):\n",
    "    def __init__(self, radius):\n",
    "        self.radius = radius\n",
    "\n",
    "    def calculate_area(self):\n",
    "        return 3.14 * self.radius ** 2\n",
    "\n",
    "class Square(Shape):\n",
    "    def __init__(self, side):\n",
    "        self.side = side\n",
    "\n",
    "    def calculate_area(self):\n",
    "        return self.side ** 2\n",
    "\n",
    "class Triangle(Shape):\n",
    "    def __init__(self, base, height):\n",
    "        self.base = base\n",
    "        self.height = height\n",
    "\n",
    "    def calculate_area(self):\n",
    "        return 0.5 * self.base * self.height\n"
   ]
  },
  {
   "cell_type": "markdown",
   "id": "902bfb53",
   "metadata": {},
   "source": [
    "4. Explain the concept of method overriding in polymorphism. Provide an example."
   ]
  },
  {
   "cell_type": "code",
   "execution_count": 11,
   "id": "a8f7583a",
   "metadata": {},
   "outputs": [
    {
     "name": "stdout",
     "output_type": "stream",
     "text": [
      "The dog barks\n",
      "The cat meows\n"
     ]
    }
   ],
   "source": [
    "\"\"\" Method overriding is a feature of polymorphism that allows a subclass to provide a different implementation of a \n",
    "method that is already defined in its superclass. When a method is overridden, the subclass provides its own implementation \n",
    "of the method, which is used instead of the superclass’s implementation when the method is called on an \n",
    "object of the subclass.\n",
    "\n",
    "\"\"\"\n",
    "\n",
    "#Example:\n",
    "class Animal:\n",
    "    def make_sound(self):\n",
    "        print(\"The animal makes a sound\")\n",
    "\n",
    "class Dog(Animal):\n",
    "    def make_sound(self):\n",
    "        print(\"The dog barks\")\n",
    "\n",
    "class Cat(Animal):\n",
    "    def make_sound(self):\n",
    "        print(\"The cat meows\")\n",
    "\n",
    "dog = Dog()\n",
    "cat = Cat()\n",
    "\n",
    "dog.make_sound()\n",
    "cat.make_sound()\n"
   ]
  },
  {
   "cell_type": "markdown",
   "id": "a15661f7",
   "metadata": {},
   "source": [
    "5. How is polymorphism different from method overloading in Python? Provide examples for both."
   ]
  },
  {
   "cell_type": "code",
   "execution_count": 12,
   "id": "03e28ad8",
   "metadata": {},
   "outputs": [
    {
     "name": "stdout",
     "output_type": "stream",
     "text": [
      "The dog barks\n",
      "The cat meows\n"
     ]
    }
   ],
   "source": [
    "\"\"\"\n",
    "\n",
    "Polymorphism is the ability of objects of different classes to be treated as if they were of the same class. Polymorphism is \n",
    "achieved through method overriding, where a subclass provides its own implementation of a method that is already defined in \n",
    "its superclass. When a method is overridden, the subclass provides its own implementation of the method, which is used instead \n",
    "of the superclass’s implementation when the method is called on an object of the subclass.\n",
    "\"\"\"\n",
    "\n",
    "#Example for Polymerphism:\n",
    "class Animal:\n",
    "    def make_sound(self):\n",
    "        print(\"The animal makes a sound\")\n",
    "\n",
    "class Dog(Animal):\n",
    "    def make_sound(self):\n",
    "        print(\"The dog barks\")\n",
    "\n",
    "class Cat(Animal):\n",
    "    def make_sound(self):\n",
    "        print(\"The cat meows\")\n",
    "\n",
    "dog = Dog()\n",
    "cat = Cat()\n",
    "\n",
    "dog.make_sound() \n",
    "cat.make_sound() \n"
   ]
  },
  {
   "cell_type": "code",
   "execution_count": 15,
   "id": "36f77dcb",
   "metadata": {},
   "outputs": [
    {
     "name": "stdout",
     "output_type": "stream",
     "text": [
      "2\n",
      "5\n",
      "9\n"
     ]
    }
   ],
   "source": [
    "#Example for Method overloading:\n",
    "\n",
    "class Calculator:\n",
    "    def add(self, x, y=0, z=0):\n",
    "        return x + y + z\n",
    "\n",
    "c = Calculator()\n",
    "\n",
    "print(c.add(2))  \n",
    "print(c.add(2, 3))\n",
    "print(c.add(2, 3, 4))\n"
   ]
  },
  {
   "cell_type": "markdown",
   "id": "d9daf00b",
   "metadata": {},
   "source": [
    "6. Create a Python class called `Animal` with a method `speak()`. Then, create child classes like `Dog`, `Cat`, and `Bird`, each with their own `speak()` method. Demonstrate polymorphism by calling the `speak()` method\n",
    "on objects of different subclasses."
   ]
  },
  {
   "cell_type": "code",
   "execution_count": 16,
   "id": "63c6f724",
   "metadata": {},
   "outputs": [
    {
     "name": "stdout",
     "output_type": "stream",
     "text": [
      "Woof!\n",
      "Meow!\n",
      "Chirp!\n"
     ]
    }
   ],
   "source": [
    "class Animal:\n",
    "    def speak(self):\n",
    "        pass\n",
    "\n",
    "class Dog(Animal):\n",
    "    def speak(self):\n",
    "        return \"Woof!\"\n",
    "\n",
    "class Cat(Animal):\n",
    "    def speak(self):\n",
    "        return \"Meow!\"\n",
    "\n",
    "class Bird(Animal):\n",
    "    def speak(self):\n",
    "        return \"Chirp!\"\n",
    "\n",
    "# Create objects of different subclasses\n",
    "dog = Dog()\n",
    "cat = Cat()\n",
    "bird = Bird()\n",
    "\n",
    "# Call the speak() method on each object\n",
    "print(dog.speak())\n",
    "print(cat.speak())\n",
    "print(bird.speak())\n"
   ]
  },
  {
   "cell_type": "markdown",
   "id": "4cede18f",
   "metadata": {},
   "source": [
    "7. Discuss the use of abstract methods and classes in achieving polymorphism in Python. Provide an example\n",
    "using the `abc` module."
   ]
  },
  {
   "cell_type": "code",
   "execution_count": 17,
   "id": "aefdcb80",
   "metadata": {},
   "outputs": [],
   "source": [
    "\"\"\"\n",
    "Abstract classes and abstract methods are used to achieve polymorphism. An abstract class is a class that cannot be \n",
    "instantiated and is meant to be subclassed. It defines an interface for its subclasses but does not provide an implementation\n",
    "for all of its methods. An abstract method is a method that is declared in an abstract class but does not have an\n",
    "implementation.\n",
    "\n",
    "The abc module in Python provides the infrastructure for defining abstract base classes. To define an abstract class, you \n",
    "inherit from ABC and use the @abstractmethod decorator to mark the methods that should be abstract. \n",
    "\"\"\"\n",
    "\n",
    "#Example:\n",
    "from abc import ABC, abstractmethod\n",
    "\n",
    "class Shape(ABC):\n",
    "    @abstractmethod\n",
    "    def calculate_area(self):\n",
    "        pass\n",
    "\n",
    "class Circle(Shape):\n",
    "    def __init__(self, radius):\n",
    "        self.radius = radius\n",
    "\n",
    "    def calculate_area(self):\n",
    "        return 3.14 * self.radius ** 2\n",
    "\n",
    "class Square(Shape):\n",
    "    def __init__(self, side):\n",
    "        self.side = side\n",
    "\n",
    "    def calculate_area(self):\n",
    "        return self.side ** 2\n",
    "\n",
    "class Triangle(Shape):\n",
    "    def __init__(self, base, height):\n",
    "        self.base = base\n",
    "        self.height = height\n",
    "\n",
    "    def calculate_area(self):\n",
    "        return 0.5 * self.base * self.height\n"
   ]
  },
  {
   "cell_type": "markdown",
   "id": "2308ec25",
   "metadata": {},
   "source": [
    "8. Create a Python class hierarchy for a vehicle system (e.g., car, bicycle, boat) and implement a polymorphic `start()` method that prints a message specific to each vehicle type."
   ]
  },
  {
   "cell_type": "code",
   "execution_count": 18,
   "id": "5bbe7edb",
   "metadata": {},
   "outputs": [],
   "source": [
    "class Vehicle:\n",
    "    def start(self):\n",
    "        pass\n",
    "\n",
    "class Car(Vehicle):\n",
    "    def start(self):\n",
    "        print(\"The car's engine starts.\")\n",
    "\n",
    "class Bicycle(Vehicle):\n",
    "    def start(self):\n",
    "        print(\"The bicycle's pedals start turning.\")\n",
    "\n",
    "class Boat(Vehicle):\n",
    "    def start(self):\n",
    "        print(\"The boat's motor starts.\")\n"
   ]
  },
  {
   "cell_type": "code",
   "execution_count": 20,
   "id": "aeac8d6b",
   "metadata": {},
   "outputs": [
    {
     "name": "stdout",
     "output_type": "stream",
     "text": [
      "The car's engine starts.\n",
      "The bicycle's pedals start turning.\n",
      "The boat's motor starts.\n"
     ]
    }
   ],
   "source": [
    "car = Car()\n",
    "bicycle = Bicycle()\n",
    "boat = Boat()\n",
    "\n",
    "car.start()    \n",
    "bicycle.start()\n",
    "boat.start()   \n"
   ]
  },
  {
   "cell_type": "markdown",
   "id": "d30c5a32",
   "metadata": {},
   "source": [
    "9. Explain the significance of the `isinstance()` and `issubclass()` functions in Python polymorphism."
   ]
  },
  {
   "cell_type": "code",
   "execution_count": 21,
   "id": "4feab54b",
   "metadata": {},
   "outputs": [
    {
     "name": "stdout",
     "output_type": "stream",
     "text": [
      "True\n",
      "True\n",
      "False\n",
      "True\n",
      "True\n",
      "False\n"
     ]
    }
   ],
   "source": [
    "\"\"\"\n",
    "The isinstance() function is used to check if an object is an instance of a certain class or any of its subclasses. \n",
    "It takes two parameters: the first parameter is the object to test, and the second parameter is a single class or a tuple of \n",
    "classes. It returns True if the first parameter object is an instance of the class specified in the second parameter or \n",
    "any of its subclasses; otherwise, it returns False.\n",
    "\n",
    "The issubclass() function is used to check if a given class is a subclass of another class or any of its subclasses. \n",
    "It takes two parameters: the first parameter is the class to test, and the second parameter is a single class or a tuple of \n",
    "classes. It returns True if the first parameter class is a subclass of the class specified in the second parameter or any of \n",
    "its subclasses; otherwise, it returns False.\n",
    "\n",
    "\"\"\"\n",
    "\n",
    "#Example:\n",
    "class Animal:\n",
    "    pass\n",
    "\n",
    "class Dog(Animal):\n",
    "    pass\n",
    "\n",
    "class Cat(Animal):\n",
    "    pass\n",
    "\n",
    "dog = Dog()\n",
    "cat = Cat()\n",
    "\n",
    "print(isinstance(dog, Animal))\n",
    "print(isinstance(cat, Animal))\n",
    "print(isinstance(dog, Cat))   \n",
    "print(issubclass(Dog, Animal))\n",
    "print(issubclass(Cat, Animal))\n",
    "print(issubclass(Dog, Cat))   \n"
   ]
  },
  {
   "cell_type": "markdown",
   "id": "3ac01376",
   "metadata": {},
   "source": [
    "10. What is the role of the `@abstractmethod` decorator in achieving polymorphism in Python? Provide an\n",
    "example."
   ]
  },
  {
   "cell_type": "code",
   "execution_count": 22,
   "id": "eac1ec0c",
   "metadata": {},
   "outputs": [],
   "source": [
    "\"\"\"\n",
    "The @abstractmethod decorator is used to define abstract methods in Python. An abstract method is a method that is declared\n",
    "in an abstract class but does not have an implementation. Abstract classes cannot be instantiated, and their abstract\n",
    "methods must be implemented by any concrete subclass.\n",
    "\n",
    "The @abstractmethod decorator is used to mark a method as abstract. It is applied to the method definition in the abstract \n",
    "class. \n",
    "\"\"\"\n",
    "\n",
    "#Example:\n",
    "from abc import ABC, abstractmethod\n",
    "\n",
    "class Shape(ABC):\n",
    "    @abstractmethod\n",
    "    def calculate_area(self):\n",
    "        pass\n",
    "\n",
    "class Circle(Shape):\n",
    "    def __init__(self, radius):\n",
    "        self.radius = radius\n",
    "\n",
    "    def calculate_area(self):\n",
    "        return 3.14 * self.radius ** 2\n",
    "\n",
    "class Square(Shape):\n",
    "    def __init__(self, side):\n",
    "        self.side = side\n",
    "\n",
    "    def calculate_area(self):\n",
    "        return self.side ** 2\n",
    "\n",
    "class Triangle(Shape):\n",
    "    def __init__(self, base, height):\n",
    "        self.base = base\n",
    "        self.height = height\n",
    "\n",
    "    def calculate_area(self):\n",
    "        return 0.5 * self.base * self.height\n"
   ]
  },
  {
   "cell_type": "markdown",
   "id": "468a953f",
   "metadata": {},
   "source": [
    "11. Create a Python class called `Shape` with a polymorphic method `area()` that calculates the area of"
   ]
  },
  {
   "cell_type": "code",
   "execution_count": 23,
   "id": "4dd21a26",
   "metadata": {},
   "outputs": [],
   "source": [
    "class Shape:\n",
    "    def area(self):\n",
    "        pass\n",
    "\n",
    "class Circle(Shape):\n",
    "    def __init__(self, radius):\n",
    "        self.radius = radius\n",
    "\n",
    "    def area(self):\n",
    "        return 3.14 * self.radius ** 2\n",
    "\n",
    "class Square(Shape):\n",
    "    def __init__(self, side):\n",
    "        self.side = side\n",
    "\n",
    "    def area(self):\n",
    "        return self.side ** 2\n",
    "\n",
    "class Triangle(Shape):\n",
    "    def __init__(self, base, height):\n",
    "        self.base = base\n",
    "        self.height = height\n",
    "\n",
    "    def area(self):\n",
    "        return 0.5 * self.base * self.height\n"
   ]
  },
  {
   "cell_type": "code",
   "execution_count": 24,
   "id": "23e7aff1",
   "metadata": {},
   "outputs": [
    {
     "name": "stdout",
     "output_type": "stream",
     "text": [
      "153.86\n",
      "64\n",
      "18.0\n"
     ]
    }
   ],
   "source": [
    "circle = Circle(7)\n",
    "square = Square(8)\n",
    "triangle = Triangle(4, 9)\n",
    "\n",
    "print(circle.area())   \n",
    "print(square.area())   \n",
    "print(triangle.area()) \n"
   ]
  },
  {
   "cell_type": "markdown",
   "id": "acd7a32b",
   "metadata": {},
   "source": [
    "12. Discuss the benefits of polymorphism in terms of code reusability and flexibility in Python programs."
   ]
  },
  {
   "cell_type": "code",
   "execution_count": 25,
   "id": "1ef9de60",
   "metadata": {},
   "outputs": [
    {
     "data": {
      "text/plain": [
       "'\\nPolymorphism is a powerful concept in object-oriented programming that allows objects of different classes to be treated as if \\nthey were of the same class. This enables code reusability and flexibility in Python programs.\\n\\nOne of the main benefits of polymorphism is **code reusability**. By defining a common interface for a group of related classes,\\nwe can reuse the code written for the base class, reducing redundancy and promoting cleaner, more concise code. \\nThis makes it easier to maintain and update the codebase over time.\\n\\nAnother benefit of polymorphism is **flexibility**. With polymorphism, we can add new derived classes without modifying \\nexisting code. This makes our codebase more flexible and easily extensible. We can also use polymorphism to write more generic \\ncode that can work with a wider range of objects, making our programs more adaptable to changing requirements.\\n\\nPolymorphism also promotes **modularity** and **scalability** in our code. By breaking down complex systems into smaller, \\nmore manageable parts, we can create a more modular architecture that is easier to maintain and scale over time.\\n\\nOverall, polymorphism is a powerful tool that enables us to write more versatile, maintainable, and scalable code. \\nBy using polymorphism in our Python programs, we can achieve greater code reusability, flexibility, modularity, and \\nscalability.\\n\\n'"
      ]
     },
     "execution_count": 25,
     "metadata": {},
     "output_type": "execute_result"
    }
   ],
   "source": [
    "\"\"\"\n",
    "Polymorphism is a powerful concept in object-oriented programming that allows objects of different classes to be treated as if \n",
    "they were of the same class. This enables code reusability and flexibility in Python programs.\n",
    "\n",
    "One of the main benefits of polymorphism is **code reusability**. By defining a common interface for a group of related classes,\n",
    "we can reuse the code written for the base class, reducing redundancy and promoting cleaner, more concise code. \n",
    "This makes it easier to maintain and update the codebase over time.\n",
    "\n",
    "Another benefit of polymorphism is **flexibility**. With polymorphism, we can add new derived classes without modifying \n",
    "existing code. This makes our codebase more flexible and easily extensible. We can also use polymorphism to write more generic \n",
    "code that can work with a wider range of objects, making our programs more adaptable to changing requirements.\n",
    "\n",
    "Polymorphism also promotes **modularity** and **scalability** in our code. By breaking down complex systems into smaller, \n",
    "more manageable parts, we can create a more modular architecture that is easier to maintain and scale over time.\n",
    "\n",
    "Overall, polymorphism is a powerful tool that enables us to write more versatile, maintainable, and scalable code. \n",
    "By using polymorphism in our Python programs, we can achieve greater code reusability, flexibility, modularity, and \n",
    "scalability.\n",
    "\n",
    "\"\"\""
   ]
  },
  {
   "cell_type": "markdown",
   "id": "2c17a80d",
   "metadata": {},
   "source": [
    "13. Explain the use of the `super()` function in Python polymorphism. How does it help call methods of parent\n",
    "classes?"
   ]
  },
  {
   "cell_type": "code",
   "execution_count": 26,
   "id": "5e8046b8",
   "metadata": {},
   "outputs": [
    {
     "data": {
      "text/plain": [
       "'\\nThe super() function in Python is used to call a method in a parent class from a subclass that has overridden the method. \\nIt is used to achieve polymorphism by allowing a subclass to use the same method name as its parent class, but with a \\ndifferent implementation.\\n\\nWhen a method is overridden in a subclass, the original implementation of the method in the parent class is hidden.\\nHowever, there may be cases where we want to call the original implementation of the method from the parent class. \\nThis is where the super() function comes in.\\n\\nThe super() function returns a temporary object of the superclass, which allows us to call its methods. We can then call the \\nmethod we want using dot notation, passing in any required arguments.\\n\\n'"
      ]
     },
     "execution_count": 26,
     "metadata": {},
     "output_type": "execute_result"
    }
   ],
   "source": [
    "\"\"\"\n",
    "The super() function in Python is used to call a method in a parent class from a subclass that has overridden the method. \n",
    "It is used to achieve polymorphism by allowing a subclass to use the same method name as its parent class, but with a \n",
    "different implementation.\n",
    "\n",
    "When a method is overridden in a subclass, the original implementation of the method in the parent class is hidden.\n",
    "However, there may be cases where we want to call the original implementation of the method from the parent class. \n",
    "This is where the super() function comes in.\n",
    "\n",
    "The super() function returns a temporary object of the superclass, which allows us to call its methods. We can then call the \n",
    "method we want using dot notation, passing in any required arguments.\n",
    "\n",
    "\"\"\""
   ]
  },
  {
   "cell_type": "markdown",
   "id": "fde09ff3",
   "metadata": {},
   "source": [
    "14. Create a Python class hierarchy for a banking system with various account types (e.g., savings, checking,"
   ]
  },
  {
   "cell_type": "code",
   "execution_count": 27,
   "id": "18bcd88c",
   "metadata": {},
   "outputs": [],
   "source": [
    "class Account:\n",
    "    def __init__(self, account_number, balance):\n",
    "        self.account_number = account_number\n",
    "        self.balance = balance\n",
    "\n",
    "    def deposit(self, amount):\n",
    "        self.balance += amount\n",
    "\n",
    "    def withdraw(self, amount):\n",
    "        if self.balance >= amount:\n",
    "            self.balance -= amount\n",
    "        else:\n",
    "            print(\"Insufficient balance\")\n",
    "\n",
    "class SavingsAccount(Account):\n",
    "    def __init__(self, account_number, balance, interest_rate):\n",
    "        super().__init__(account_number, balance)\n",
    "        self.interest_rate = interest_rate\n",
    "\n",
    "    def add_interest(self):\n",
    "        interest = self.balance * self.interest_rate / 100\n",
    "        self.deposit(interest)\n",
    "\n",
    "class CheckingAccount(Account):\n",
    "    def __init__(self, account_number, balance, overdraft_limit):\n",
    "        super().__init__(account_number, balance)\n",
    "        self.overdraft_limit = overdraft_limit\n",
    "\n",
    "    def withdraw(self, amount):\n",
    "        if self.balance + self.overdraft_limit >= amount:\n",
    "            self.balance -= amount\n",
    "        else:\n",
    "            print(\"Insufficient funds\")\n",
    "\n",
    "class CreditCardAccount(Account):\n",
    "    def __init__(self, account_number, balance, credit_limit):\n",
    "        super().__init__(account_number, balance)\n",
    "        self.credit_limit = credit_limit\n",
    "\n",
    "    def charge(self, amount):\n",
    "        if self.balance + amount <= self.credit_limit:\n",
    "            self.balance += amount\n",
    "        else:\n",
    "            print(\"Credit limit exceeded\")\n",
    "\n",
    "    def make_payment(self, amount):\n",
    "        self.withdraw(amount)\n"
   ]
  },
  {
   "cell_type": "code",
   "execution_count": 28,
   "id": "ec4075db",
   "metadata": {},
   "outputs": [
    {
     "name": "stdout",
     "output_type": "stream",
     "text": [
      "Insufficient balance\n",
      "1050.0\n",
      "3000\n",
      "-2000\n"
     ]
    }
   ],
   "source": [
    "savings_account = SavingsAccount(1234, 1000, 5)\n",
    "checking_account = CheckingAccount(5678, 5000, 1000)\n",
    "credit_card_account = CreditCardAccount(9012, -5000, 10000)\n",
    "\n",
    "savings_account.add_interest()\n",
    "checking_account.withdraw(2000)\n",
    "credit_card_account.charge(3000)\n",
    "credit_card_account.make_payment(1000)\n",
    "\n",
    "print(savings_account.balance)  \n",
    "print(checking_account.balance) \n",
    "print(credit_card_account.balance)\n"
   ]
  },
  {
   "cell_type": "markdown",
   "id": "76ff8f35",
   "metadata": {},
   "source": [
    "15. Describe the concept of operator overloading in Python and how it relates to polymorphism. Provide\n",
    "examples using operators like `+` and `*`."
   ]
  },
  {
   "cell_type": "code",
   "execution_count": 29,
   "id": "0297d95b",
   "metadata": {},
   "outputs": [
    {
     "name": "stdout",
     "output_type": "stream",
     "text": [
      "4 6\n",
      "2 4\n"
     ]
    }
   ],
   "source": [
    "\"\"\"\n",
    "operator overloading is a feature that allows operators such as +, -, *, /, etc. to be redefined for user-defined classes. \n",
    "This means that we can define how these operators work for objects of our own classes.\n",
    "\n",
    "Operator overloading is related to polymorphism because it allows objects of different classes to be treated as if \n",
    "they were of the same class. By defining the same operator for different classes, we can use the same operator to perform \n",
    "different operations on objects of those classes.\n",
    "\"\"\"\n",
    "#Example:\n",
    "class Vector:\n",
    "    def __init__(self, x, y):\n",
    "        self.x = x\n",
    "        self.y = y\n",
    "\n",
    "    def __add__(self, other):\n",
    "        return Vector(self.x + other.x, self.y + other.y)\n",
    "\n",
    "    def __mul__(self, scalar):\n",
    "        return Vector(self.x * scalar, self.y * scalar)\n",
    "\n",
    "v1 = Vector(1, 2)\n",
    "v2 = Vector(3, 4)\n",
    "\n",
    "v3 = v1 + v2\n",
    "v4 = v1 * 2\n",
    "\n",
    "print(v3.x, v3.y) \n",
    "print(v4.x, v4.y) \n"
   ]
  },
  {
   "cell_type": "markdown",
   "id": "1e3f9f76",
   "metadata": {},
   "source": [
    "16. What is dynamic polymorphism, and how is it achieved in Python?"
   ]
  },
  {
   "cell_type": "code",
   "execution_count": 30,
   "id": "a72edfe6",
   "metadata": {},
   "outputs": [
    {
     "name": "stdout",
     "output_type": "stream",
     "text": [
      "The dog barks\n",
      "The cat meows\n"
     ]
    }
   ],
   "source": [
    "\"\"\"\n",
    "Dynamic polymorphism is a type of polymorphism that allows objects of different classes to be treated as if they were of the \n",
    "same class at runtime. It is achieved in Python through method overriding, which allows a subclass to provide a different\n",
    "implementation of a method that is already defined in its superclass. When a method is overridden, the subclass provides \n",
    "its own implementation of the method, which is used instead of the superclass’s implementation when the method is called\n",
    "on an object of the subclass.\n",
    "\n",
    "Dynamic polymorphism is useful when we want to write code that can work with objects of different classes without \n",
    "knowing their exact types at compile time. This makes our code more flexible and adaptable to changing requirements.\n",
    "\"\"\"\n",
    "\n",
    "#Example:\n",
    "class Animal:\n",
    "    def speak(self):\n",
    "        print(\"The animal makes a sound\")\n",
    "\n",
    "class Dog(Animal):\n",
    "    def speak(self):\n",
    "        print(\"The dog barks\")\n",
    "\n",
    "class Cat(Animal):\n",
    "    def speak(self):\n",
    "        print(\"The cat meows\")\n",
    "\n",
    "def make_speak(animal):\n",
    "    animal.speak()\n",
    "\n",
    "dog = Dog()\n",
    "cat = Cat()\n",
    "\n",
    "make_speak(dog)\n",
    "make_speak(cat)\n"
   ]
  },
  {
   "cell_type": "markdown",
   "id": "ed5b0d0e",
   "metadata": {},
   "source": [
    "17. Create a Python class hierarchy for employees in a company (e.g., manager, developer, designer) and implement polymorphism through a common `calculate_salary()` method."
   ]
  },
  {
   "cell_type": "code",
   "execution_count": 31,
   "id": "3419503a",
   "metadata": {},
   "outputs": [],
   "source": [
    "class Employee:\n",
    "    def __init__(self, name, age, salary):\n",
    "        self.name = name\n",
    "        self.age = age\n",
    "        self.salary = salary\n",
    "\n",
    "    def calculate_salary(self):\n",
    "        pass\n",
    "\n",
    "class Manager(Employee):\n",
    "    def __init__(self, name, age, salary, bonus):\n",
    "        super().__init__(name, age, salary)\n",
    "        self.bonus = bonus\n",
    "\n",
    "    def calculate_salary(self):\n",
    "        return self.salary + self.bonus\n",
    "\n",
    "class Developer(Employee):\n",
    "    def __init__(self, name, age, salary, overtime):\n",
    "        super().__init__(name, age, salary)\n",
    "        self.overtime = overtime\n",
    "    \n",
    "    def calculate_salary(self):\n",
    "        return self.salary + (self.overtime * 100) \n",
    "\n",
    "class Designer(Employee):\n",
    "    def __init__(self, name, age, salary, sales_commission):\n",
    "        super().__init__(name, age, salary)\n",
    "        self.sales_commission = sales_commission\n",
    "\n",
    "    def calculate_salary(self):\n",
    "        return self.salary + self.sales_commission"
   ]
  },
  {
   "cell_type": "code",
   "execution_count": 33,
   "id": "c6fe72d1",
   "metadata": {},
   "outputs": [
    {
     "name": "stdout",
     "output_type": "stream",
     "text": [
      "60000\n",
      "61000\n",
      "47000\n"
     ]
    }
   ],
   "source": [
    "mgr = Manager(\"Rajesh\", 35, 50000, 10000)\n",
    "dev = Developer(\"Chintu\", 28, 60000, 10) \n",
    "des = Designer(\"RB\", 32, 45000, 2000)\n",
    "\n",
    "print(mgr.calculate_salary()) \n",
    "print(dev.calculate_salary()) \n",
    "print(des.calculate_salary()) "
   ]
  },
  {
   "cell_type": "markdown",
   "id": "3dfd4d1e",
   "metadata": {},
   "source": [
    "18. Discuss the concept of function pointers and how they can be used to achieve polymorphism in Python."
   ]
  },
  {
   "cell_type": "code",
   "execution_count": 35,
   "id": "9093488e",
   "metadata": {},
   "outputs": [
    {
     "name": "stdout",
     "output_type": "stream",
     "text": [
      "8\n",
      "2\n"
     ]
    }
   ],
   "source": [
    "\"\"\"\n",
    "Function pointers in Python refer to passing functions as arguments to other functions. This allows dynamic and polymorphic \n",
    "behavior in Python.\n",
    "\n",
    "Here are some key points on how function pointers enable polymorphism:\n",
    "\n",
    "Functions are first-class objects in Python - they can be assigned to variables, passed as arguments, and returned from \n",
    "other functions.This allows you to write higher-order functions that accept other functions as parameters or return functions.\n",
    "The function that is passed can be called dynamically within the higher order function body.\n",
    "This allows polymorphic behavior - the higher order function can call different implementations based on which function is passed to it.\n",
    "\n",
    "\"\"\"\n",
    "\n",
    "#Example:\n",
    "def add(x, y):\n",
    "   return x + y\n",
    "\n",
    "def subtract(x, y):\n",
    "   return x - y\n",
    "\n",
    "def operate(func, x, y):\n",
    "   return func(x, y)\n",
    "\n",
    "print(operate(add, 5, 3))\n",
    "print(operate(subtract, 5, 3)) "
   ]
  },
  {
   "cell_type": "markdown",
   "id": "2b31c747",
   "metadata": {},
   "source": [
    "19. Explain the role of interfaces and abstract classes in polymorphism, drawing comparisons between them."
   ]
  },
  {
   "cell_type": "code",
   "execution_count": 36,
   "id": "a9fce566",
   "metadata": {},
   "outputs": [
    {
     "data": {
      "text/plain": [
       "'\\nInterfaces and abstract classes both enable polymorphism in object-oriented programming, but have some key differences:\\n\\nInterfaces:\\nDefine only method signatures, no implementation\\nClasses implement interfaces by providing method implementations\\nAllows unrelated classes to implement common interface for polymorphism\\nExample in Python: ABC (Abstract Base Classes)\\n\\nAbstract Classes:\\nCan contain both abstract methods (no impl) and concrete methods\\nSubclasses inherit from abstract class and provide implementations\\nImplements inheritance and polymorphism between related classes\\nExample in Python: abc module\\n\\nComparisons:\\nInterfaces focus only on polymorphic public API, abstract classes can have concrete logic\\nClasses can implement multiple interfaces but extend only one abstract class\\nInterfaces define a \"contract\", abstract classes provide a default behavior\\nInterfaces can be emulated in Python via ABCs, abstract classes use the abc module\\n'"
      ]
     },
     "execution_count": 36,
     "metadata": {},
     "output_type": "execute_result"
    }
   ],
   "source": [
    "\"\"\"\n",
    "Interfaces and abstract classes both enable polymorphism in object-oriented programming, but have some key differences:\n",
    "\n",
    "Interfaces:\n",
    "Define only method signatures, no implementation\n",
    "Classes implement interfaces by providing method implementations\n",
    "Allows unrelated classes to implement common interface for polymorphism\n",
    "Example in Python: ABC (Abstract Base Classes)\n",
    "\n",
    "Abstract Classes:\n",
    "Can contain both abstract methods (no impl) and concrete methods\n",
    "Subclasses inherit from abstract class and provide implementations\n",
    "Implements inheritance and polymorphism between related classes\n",
    "Example in Python: abc module\n",
    "\n",
    "Comparisons:\n",
    "Interfaces focus only on polymorphic public API, abstract classes can have concrete logic\n",
    "Classes can implement multiple interfaces but extend only one abstract class\n",
    "Interfaces define a \"contract\", abstract classes provide a default behavior\n",
    "Interfaces can be emulated in Python via ABCs, abstract classes use the abc module\n",
    "\"\"\""
   ]
  },
  {
   "cell_type": "markdown",
   "id": "05d75599",
   "metadata": {},
   "source": [
    "20. Create a Python class for a zoo simulation, demonstrating polymorphism with different animal types (e.g.,"
   ]
  },
  {
   "cell_type": "code",
   "execution_count": 37,
   "id": "db6a8fa5",
   "metadata": {},
   "outputs": [
    {
     "name": "stdout",
     "output_type": "stream",
     "text": [
      "Simba roars\n",
      "Kaa slithers\n",
      "Akela howls\n"
     ]
    }
   ],
   "source": [
    "from abc import ABC, abstractmethod\n",
    "\n",
    "class Animal(ABC):\n",
    "\n",
    "    def __init__(self, name):\n",
    "        self.name = name\n",
    "\n",
    "    @abstractmethod\n",
    "    def make_sound(self):\n",
    "        pass\n",
    "\n",
    "    @abstractmethod\n",
    "    def move(self):\n",
    "        pass\n",
    "\n",
    "class Lion(Animal):\n",
    "\n",
    "    def make_sound(self):\n",
    "        print(f\"{self.name} roars\")\n",
    "\n",
    "    def move(self):\n",
    "        print(f\"{self.name} walks\")\n",
    "        \n",
    "class Snake(Animal):\n",
    "    \n",
    "    def make_sound(self):\n",
    "        print(f\"{self.name} hisses\")\n",
    "\n",
    "    def move(self):\n",
    "        print(f\"{self.name} slithers\")\n",
    "\n",
    "class Wolf(Animal):\n",
    "\n",
    "    def make_sound(self):\n",
    "        print(f\"{self.name} howls\")\n",
    "\n",
    "    def move(self):\n",
    "        print(f\"{self.name} runs\")\n",
    "        \n",
    "# Create instances        \n",
    "lion = Lion(\"Simba\")\n",
    "snake = Snake(\"Kaa\")\n",
    "wolf = Wolf(\"Akela\")\n",
    "\n",
    "# Polymorphic calls\n",
    "lion.make_sound()\n",
    "snake.move() \n",
    "wolf.make_sound()"
   ]
  },
  {
   "cell_type": "markdown",
   "id": "108be226",
   "metadata": {},
   "source": [
    "# Abstraction: "
   ]
  },
  {
   "cell_type": "markdown",
   "id": "9c3db14c",
   "metadata": {},
   "source": [
    "1. What is abstraction in Python, and how does it relate to object-oriented programming?"
   ]
  },
  {
   "cell_type": "code",
   "execution_count": 38,
   "id": "1d67f65d",
   "metadata": {},
   "outputs": [
    {
     "data": {
      "text/plain": [
       "'\\nAbstraction is achieved through the use of classes. A class is said to be an abstract class if it cannot be instantiated,\\nthat is, you cannot have an object of an abstract class. Instead, it serves as a base or parent class for constructing other\\nclasses. Abstract classes can contain both abstract and non-abstract methods. Abstract methods are methods that do not have\\nan implementation and must be implemented by any class that inherits from the abstract class. Abstract classes can also contain\\nnon-abstract methods that can be inherited by the subclasses.\\n'"
      ]
     },
     "execution_count": 38,
     "metadata": {},
     "output_type": "execute_result"
    }
   ],
   "source": [
    "\"\"\"\n",
    "Abstraction is achieved through the use of classes. A class is said to be an abstract class if it cannot be instantiated,\n",
    "that is, you cannot have an object of an abstract class. Instead, it serves as a base or parent class for constructing other\n",
    "classes. Abstract classes can contain both abstract and non-abstract methods. Abstract methods are methods that do not have\n",
    "an implementation and must be implemented by any class that inherits from the abstract class. Abstract classes can also contain\n",
    "non-abstract methods that can be inherited by the subclasses.\n",
    "\"\"\""
   ]
  },
  {
   "cell_type": "markdown",
   "id": "35f8069f",
   "metadata": {},
   "source": [
    "2. Describe the benefits of abstraction in terms of code organization and complexity reduction."
   ]
  },
  {
   "cell_type": "code",
   "execution_count": 39,
   "id": "1b9b8936",
   "metadata": {},
   "outputs": [
    {
     "data": {
      "text/plain": [
       "'\\nAbstraction is a fundamental concept in object-oriented programming that allows you to focus on the behavior of an object and \\nignore the underlying implementation details. It is achieved by hiding the internal workings of a process or method from the \\nuser, who only interacts with the basic implementation of the function.\\n\\nAbstraction has several benefits in terms of code organization and complexity reduction. Here are some of them:\\n\\nSimplification of code: Abstraction helps to simplify code by reducing the amount of detail that needs to be considered at any given time. By hiding implementation details, abstraction allows developers to focus on the high-level design of their code, which can make it easier to understand and maintain.\\n\\nCode reuse: Abstraction allows developers to create reusable code that can be used across multiple projects. By creating abstract classes or interfaces, developers can define a set of methods that can be implemented by different classes. This can help to reduce code duplication and make it easier to maintain.\\n\\nFlexibility: Abstraction provides flexibility by allowing developers to change the implementation details of a process or method without affecting the rest of the code. By hiding implementation details behind an abstract interface, developers can modify the implementation without changing the interface, which can make it easier to maintain and extend.\\n\\nEncapsulation: Abstraction helps to encapsulate data and functionality within a class or module, which can help to prevent unintended changes to the data or functionality. By hiding implementation details behind an abstract interface, developers can ensure that data is accessed and modified only through defined methods, which can help to prevent bugs and improve security.\\n'"
      ]
     },
     "execution_count": 39,
     "metadata": {},
     "output_type": "execute_result"
    }
   ],
   "source": [
    "\"\"\"\n",
    "Abstraction is a fundamental concept in object-oriented programming that allows you to focus on the behavior of an object and \n",
    "ignore the underlying implementation details. It is achieved by hiding the internal workings of a process or method from the \n",
    "user, who only interacts with the basic implementation of the function.\n",
    "\n",
    "Abstraction has several benefits in terms of code organization and complexity reduction. Here are some of them:\n",
    "\n",
    "Simplification of code: Abstraction helps to simplify code by reducing the amount of detail that needs to be considered at any given time. By hiding implementation details, abstraction allows developers to focus on the high-level design of their code, which can make it easier to understand and maintain.\n",
    "\n",
    "Code reuse: Abstraction allows developers to create reusable code that can be used across multiple projects. By creating abstract classes or interfaces, developers can define a set of methods that can be implemented by different classes. This can help to reduce code duplication and make it easier to maintain.\n",
    "\n",
    "Flexibility: Abstraction provides flexibility by allowing developers to change the implementation details of a process or method without affecting the rest of the code. By hiding implementation details behind an abstract interface, developers can modify the implementation without changing the interface, which can make it easier to maintain and extend.\n",
    "\n",
    "Encapsulation: Abstraction helps to encapsulate data and functionality within a class or module, which can help to prevent unintended changes to the data or functionality. By hiding implementation details behind an abstract interface, developers can ensure that data is accessed and modified only through defined methods, which can help to prevent bugs and improve security.\n",
    "\"\"\""
   ]
  },
  {
   "cell_type": "markdown",
   "id": "9447af4a",
   "metadata": {},
   "source": [
    "3. Create a Python class called `Shape` with an abstract method `calculate_area()`. Then, create child classes (e.g., `Circle`, `Rectangle`) that implement the `calculate_area()` method. Provide an example of\n",
    "using these classes."
   ]
  },
  {
   "cell_type": "code",
   "execution_count": 40,
   "id": "33a600be",
   "metadata": {},
   "outputs": [
    {
     "name": "stdout",
     "output_type": "stream",
     "text": [
      "78.53981633974483\n",
      "21\n"
     ]
    }
   ],
   "source": [
    "from abc import ABC, abstractmethod\n",
    "import math \n",
    "\n",
    "class Shape(ABC):\n",
    "\n",
    "    @abstractmethod\n",
    "    def calculate_area(self):\n",
    "        pass\n",
    "\n",
    "class Circle(Shape):\n",
    "    \n",
    "    def __init__(self, radius):\n",
    "        self.radius = radius\n",
    "\n",
    "    def calculate_area(self):\n",
    "        return math.pi * (self.radius ** 2)\n",
    "\n",
    "class Rectangle(Shape):\n",
    "\n",
    "    def __init__(self, width, height):\n",
    "        self.width = width\n",
    "        self.height = height\n",
    "\n",
    "    def calculate_area(self):\n",
    "        return self.width * self.height\n",
    "\n",
    "circle = Circle(5)\n",
    "print(circle.calculate_area())\n",
    "\n",
    "rect = Rectangle(3, 7)\n",
    "print(rect.calculate_area())"
   ]
  },
  {
   "cell_type": "markdown",
   "id": "f0dc6843",
   "metadata": {},
   "source": [
    "4. Explain the concept of abstract classes in Python and how they are defined using the `abc` module. Provide\n",
    "an example."
   ]
  },
  {
   "cell_type": "code",
   "execution_count": 41,
   "id": "8484da73",
   "metadata": {},
   "outputs": [
    {
     "name": "stdout",
     "output_type": "stream",
     "text": [
      "78.5\n",
      "31.400000000000002\n"
     ]
    }
   ],
   "source": [
    "\"\"\"\n",
    "Abstract classes in Python provide a way to define common interfaces for a group of related classes. They cannot be instantiated directly and require subclasses to implement their abstract methods.\n",
    "\n",
    "The abc module in Python is used to define abstract classes. The key steps are:\n",
    "\n",
    "Import ABC and abstractmethod from abc\n",
    "Create a base class that inherits from ABC\n",
    "Use @abstractmethod decorator to define abstract methods\n",
    "\"\"\"\n",
    "\n",
    "#Example:\n",
    "from abc import ABC, abstractmethod\n",
    "\n",
    "class Shape(ABC):\n",
    "\n",
    "    @abstractmethod\n",
    "    def area(self):\n",
    "        pass\n",
    "\n",
    "    @abstractmethod    \n",
    "    def perimeter(self):\n",
    "        pass\n",
    "\n",
    "class Circle(Shape):\n",
    "\n",
    "    def __init__(self, radius):\n",
    "        self.radius = radius\n",
    "\n",
    "    def area(self):\n",
    "        return 3.14 * self.radius ** 2\n",
    "\n",
    "    def perimeter(self):\n",
    "        return 2 * 3.14 * self.radius\n",
    "\n",
    "c = Circle(5)\n",
    "print(c.area())\n",
    "print(c.perimeter())"
   ]
  },
  {
   "cell_type": "markdown",
   "id": "43697123",
   "metadata": {},
   "source": [
    "5. How do abstract classes differ from regular classes in Python? Discuss their use cases."
   ]
  },
  {
   "cell_type": "code",
   "execution_count": 42,
   "id": "23e811d3",
   "metadata": {},
   "outputs": [
    {
     "data": {
      "text/plain": [
       "\"\\nThe key differences between abstract classes and regular classes in Python are:\\n\\nRegular classes can be instantiated directly, abstract classes cannot.\\nAbstract classes can contain abstract methods that must be implemented in subclasses. Regular classes cannot define abstract methods.\\nAbstract classes inherit from ABC (abstract base class) while regular classes don't need to.\\nSubclasses of an abstract class must provide implementations for all its abstract methods before they can be instantiated. This enforcement is not there with regular classes.\\n\""
      ]
     },
     "execution_count": 42,
     "metadata": {},
     "output_type": "execute_result"
    }
   ],
   "source": [
    "\"\"\"\n",
    "The key differences between abstract classes and regular classes in Python are:\n",
    "\n",
    "Regular classes can be instantiated directly, abstract classes cannot.\n",
    "Abstract classes can contain abstract methods that must be implemented in subclasses. Regular classes cannot define abstract methods.\n",
    "Abstract classes inherit from ABC (abstract base class) while regular classes don't need to.\n",
    "Subclasses of an abstract class must provide implementations for all its abstract methods before they can be instantiated. This enforcement is not there with regular classes.\n",
    "\"\"\""
   ]
  },
  {
   "cell_type": "markdown",
   "id": "fd061f65",
   "metadata": {},
   "source": [
    "6. Create a Python class for a bank account and demonstrate abstraction by hiding the account balance and\n",
    "providing methods to deposit and withdraw funds."
   ]
  },
  {
   "cell_type": "code",
   "execution_count": 44,
   "id": "bef5f583",
   "metadata": {},
   "outputs": [
    {
     "name": "stdout",
     "output_type": "stream",
     "text": [
      "100\n",
      "50\n"
     ]
    }
   ],
   "source": [
    "class BankAccount:\n",
    "\n",
    "    def __init__(self):\n",
    "        self.__balance = 0\n",
    "\n",
    "    def deposit(self, amount):\n",
    "        self.__balance += amount\n",
    "\n",
    "    def withdraw(self, amount):\n",
    "        if self.__balance >= amount:\n",
    "            self.__balance -= amount\n",
    "        else:\n",
    "            print(\"Insufficient funds\")\n",
    "\n",
    "    def get_balance(self):\n",
    "        return self.__balance\n",
    "\n",
    "account = BankAccount()\n",
    "account.deposit(100)\n",
    "print(account.get_balance())\n",
    "account.withdraw(50)\n",
    "print(account.get_balance())"
   ]
  },
  {
   "cell_type": "markdown",
   "id": "8e64bc2f",
   "metadata": {},
   "source": [
    "7. Discuss the concept of interface classes in Python and their role in achieving abstraction."
   ]
  },
  {
   "cell_type": "code",
   "execution_count": 45,
   "id": "36628fa7",
   "metadata": {},
   "outputs": [
    {
     "data": {
      "text/plain": [
       "'\\nInterface classes are a way of defining a contract between two classes, where one class promises to provide an implementation for the methods defined in the interface, and the other class uses those methods. In Python, interfaces are implemented using the abc module.\\n\\nAn interface is defined as a class that contains only abstract methods. Abstract methods are methods that do not have an implementation and must be implemented by any class that inherits from the interface. By defining an interface, you can ensure that any class that implements it provides an implementation for all the methods defined in the interface.\\n\\nThe role of interface classes in achieving abstraction is to provide a way to define a common set of methods that can be implemented by different classes. By defining an interface, you can ensure that any class that implements it provides a consistent set of methods that can be used by other classes. This makes it easier to write code that is reusable and maintainable.\\n\\n'"
      ]
     },
     "execution_count": 45,
     "metadata": {},
     "output_type": "execute_result"
    }
   ],
   "source": [
    "\"\"\"\n",
    "Interface classes are a way of defining a contract between two classes, where one class promises to provide an implementation for the methods defined in the interface, and the other class uses those methods. In Python, interfaces are implemented using the abc module.\n",
    "\n",
    "An interface is defined as a class that contains only abstract methods. Abstract methods are methods that do not have an implementation and must be implemented by any class that inherits from the interface. By defining an interface, you can ensure that any class that implements it provides an implementation for all the methods defined in the interface.\n",
    "\n",
    "The role of interface classes in achieving abstraction is to provide a way to define a common set of methods that can be implemented by different classes. By defining an interface, you can ensure that any class that implements it provides a consistent set of methods that can be used by other classes. This makes it easier to write code that is reusable and maintainable.\n",
    "\n",
    "\"\"\""
   ]
  },
  {
   "cell_type": "markdown",
   "id": "ac52fc94",
   "metadata": {},
   "source": [
    "8. Create a Python class hierarchy for animals and implement abstraction by defining common methods"
   ]
  },
  {
   "cell_type": "code",
   "execution_count": 47,
   "id": "447eabe6",
   "metadata": {},
   "outputs": [
    {
     "name": "stdout",
     "output_type": "stream",
     "text": [
      "Bark\n",
      "Walk\n",
      "None\n",
      "Swim\n"
     ]
    }
   ],
   "source": [
    "from abc import ABC, abstractmethod\n",
    "\n",
    "class Animal(ABC):\n",
    "    \n",
    "    def __init__(self, name):\n",
    "        self.name = name\n",
    "\n",
    "    @abstractmethod\n",
    "    def make_sound(self):\n",
    "        pass\n",
    "\n",
    "    @abstractmethod\n",
    "    def move(self):\n",
    "        pass\n",
    "\n",
    "class Dog(Animal):\n",
    "\n",
    "    def make_sound(self):\n",
    "        print(\"Bark\")\n",
    "\n",
    "    def move(self):\n",
    "        print(\"Walk\")\n",
    "\n",
    "class Fish(Animal):\n",
    "    \n",
    "    def make_sound(self):\n",
    "        print(\"None\")\n",
    "\n",
    "    def move(self):\n",
    "        print(\"Swim\")\n",
    "        \n",
    "polly = Dog(\"Polly\")\n",
    "polly.make_sound()\n",
    "polly.move() \n",
    "\n",
    "goldie = Fish(\"Goldie\")\n",
    "goldie.make_sound()\n",
    "goldie.move() "
   ]
  },
  {
   "cell_type": "markdown",
   "id": "009eb9c6",
   "metadata": {},
   "source": [
    "9. Explain the significance of encapsulation in achieving abstraction. Provide examples."
   ]
  },
  {
   "cell_type": "code",
   "execution_count": 50,
   "id": "d554f920",
   "metadata": {},
   "outputs": [
    {
     "data": {
      "text/plain": [
       "'\\nHere, the __balance attribute is encapsulated and hidden from external access. We only interact via deposit(), withdraw() \\nand get_balance() methods. This abstraction allows us to change the underlying implementation without impacting external code.\\n'"
      ]
     },
     "execution_count": 50,
     "metadata": {},
     "output_type": "execute_result"
    }
   ],
   "source": [
    "\"\"\"Encapsulation is a key mechanism for achieving abstraction in object-oriented programming. Here are a few key points:\n",
    "\n",
    "Encapsulation involves bundling data and methods into a single unit (class) and preventing direct access to the internal \n",
    "representation.\n",
    "By making attributes and methods private or protected, we hide the implementation details from external code.\n",
    "This provides abstraction by only exposing a public interface or API for interacting with the class.\n",
    "\n",
    "\"\"\"\n",
    "\n",
    "#Example:\n",
    "class BankAccount:\n",
    "    def __init__(self):\n",
    "        self.__balance = 0\n",
    "    \n",
    "    def deposit(self, amount):\n",
    "        self.__balance += amount\n",
    "        \n",
    "    def withdraw(self, amount):\n",
    "        if self.__balance >= amount:\n",
    "            self.__balance -= amount\n",
    "    \n",
    "    def get_balance(self):\n",
    "        return self.__balance\n",
    "    \n",
    "\"\"\"\n",
    "Here, the __balance attribute is encapsulated and hidden from external access. We only interact via deposit(), withdraw() \n",
    "and get_balance() methods. This abstraction allows us to change the underlying implementation without impacting external code.\n",
    "\"\"\""
   ]
  },
  {
   "cell_type": "markdown",
   "id": "9bb5c3c9",
   "metadata": {},
   "source": [
    "10. What is the purpose of abstract methods, and how do they enforce abstraction in Python classes?"
   ]
  },
  {
   "cell_type": "code",
   "execution_count": 51,
   "id": "ea39d0f2",
   "metadata": {},
   "outputs": [
    {
     "data": {
      "text/plain": [
       "'\\nAbstract methods are methods that do not have an implementation and must be implemented by any class that inherits from the\\nabstract class. Abstract methods are declared using the @abstractmethod decorator in Python.\\n\\nThe purpose of abstract methods is to define a common interface for a set of subclasses. By defining an abstract method in \\nan abstract class, you can ensure that any class that inherits from the abstract class provides an implementation for the \\nmethod. This helps to enforce a consistent behavior across all subclasses.\\n\\nAbstract methods enforce abstraction in Python classes by providing a way to define a common interface for a set of \\nsubclasses. By defining an abstract method, you can ensure that any class that inherits from the abstract class provides \\nan implementation for the method. This helps to enforce a consistent behavior across all subclasses and ensures that the \\nsubclasses adhere to the same contract.\\n'"
      ]
     },
     "execution_count": 51,
     "metadata": {},
     "output_type": "execute_result"
    }
   ],
   "source": [
    "\"\"\"\n",
    "Abstract methods are methods that do not have an implementation and must be implemented by any class that inherits from the\n",
    "abstract class. Abstract methods are declared using the @abstractmethod decorator in Python.\n",
    "\n",
    "The purpose of abstract methods is to define a common interface for a set of subclasses. By defining an abstract method in \n",
    "an abstract class, you can ensure that any class that inherits from the abstract class provides an implementation for the \n",
    "method. This helps to enforce a consistent behavior across all subclasses.\n",
    "\n",
    "Abstract methods enforce abstraction in Python classes by providing a way to define a common interface for a set of \n",
    "subclasses. By defining an abstract method, you can ensure that any class that inherits from the abstract class provides \n",
    "an implementation for the method. This helps to enforce a consistent behavior across all subclasses and ensures that the \n",
    "subclasses adhere to the same contract.\n",
    "\"\"\""
   ]
  },
  {
   "cell_type": "markdown",
   "id": "40d80ad6",
   "metadata": {},
   "source": [
    "11. Create a Python class for a vehicle system and demonstrate abstraction by defining common methods"
   ]
  },
  {
   "cell_type": "code",
   "execution_count": 52,
   "id": "13a19a97",
   "metadata": {},
   "outputs": [
    {
     "name": "stdout",
     "output_type": "stream",
     "text": [
      "Starting the Prius\n",
      "Driving the Prius\n",
      "Starting the Fat Boy\n",
      "Stopping the Fat Boy\n"
     ]
    }
   ],
   "source": [
    "from abc import ABC, abstractmethod\n",
    "\n",
    "class Vehicle(ABC):\n",
    "\n",
    "    def __init__(self, make, model, year):\n",
    "        self.make = make\n",
    "        self.model = model\n",
    "        self.year = year\n",
    "    \n",
    "    @abstractmethod\n",
    "    def start(self):\n",
    "        pass\n",
    "\n",
    "    @abstractmethod\n",
    "    def stop(self):\n",
    "        pass\n",
    "\n",
    "    @abstractmethod\n",
    "    def drive(self):\n",
    "        pass\n",
    "\n",
    "class Car(Vehicle):\n",
    "\n",
    "    def start(self):\n",
    "        print(f\"Starting the {self.model}\")\n",
    "\n",
    "    def stop(self):\n",
    "        print(f\"Stopping the {self.model}\")\n",
    "\n",
    "    def drive(self):\n",
    "        print(f\"Driving the {self.model}\")\n",
    "\n",
    "class Motorcycle(Vehicle):\n",
    "\n",
    "    def start(self):\n",
    "        print(f\"Starting the {self.model}\")\n",
    "\n",
    "    def stop(self):\n",
    "        print(f\"Stopping the {self.model}\")\n",
    "\n",
    "    def drive(self):\n",
    "        print(f\"Driving the {self.model}\")\n",
    "        \n",
    "car = Car(\"Toyota\", \"Prius\", 2015)\n",
    "car.start() \n",
    "car.drive() \n",
    "\n",
    "bike = Motorcycle(\"Harley\", \"Fat Boy\", 2018)\n",
    "bike.start()\n",
    "bike.stop() "
   ]
  },
  {
   "cell_type": "markdown",
   "id": "f9d36119",
   "metadata": {},
   "source": [
    "12. Describe the use of abstract properties in Python and how they can be employed in abstract classes."
   ]
  },
  {
   "cell_type": "code",
   "execution_count": 53,
   "id": "c2e1cddc",
   "metadata": {},
   "outputs": [
    {
     "data": {
      "text/plain": [
       "'\\nAbstract properties are properties that do not have an implementation and must be implemented by any class that inherits from \\nthe abstract class. Abstract properties are declared using the @property decorator in Python.\\n\\nThe purpose of abstract properties is to define a common interface for a set of subclasses. By defining an abstract property \\nin an abstract class, you can ensure that any class that inherits from the abstract class provides an implementation for the \\nproperty. This helps to enforce a consistent behavior across all subclasses.\\n\\nAbstract properties enforce abstraction in Python classes by providing a way to define a common interface for a set of \\nsubclasses. By defining an abstract property, you can ensure that any class that inherits from the abstract class provides \\nan implementation for the property. This helps to enforce a consistent behavior across all subclasses and ensures that the \\nsubclasses adhere to the same contract.\\n'"
      ]
     },
     "execution_count": 53,
     "metadata": {},
     "output_type": "execute_result"
    }
   ],
   "source": [
    "\"\"\"\n",
    "Abstract properties are properties that do not have an implementation and must be implemented by any class that inherits from \n",
    "the abstract class. Abstract properties are declared using the @property decorator in Python.\n",
    "\n",
    "The purpose of abstract properties is to define a common interface for a set of subclasses. By defining an abstract property \n",
    "in an abstract class, you can ensure that any class that inherits from the abstract class provides an implementation for the \n",
    "property. This helps to enforce a consistent behavior across all subclasses.\n",
    "\n",
    "Abstract properties enforce abstraction in Python classes by providing a way to define a common interface for a set of \n",
    "subclasses. By defining an abstract property, you can ensure that any class that inherits from the abstract class provides \n",
    "an implementation for the property. This helps to enforce a consistent behavior across all subclasses and ensures that the \n",
    "subclasses adhere to the same contract.\n",
    "\"\"\""
   ]
  },
  {
   "cell_type": "markdown",
   "id": "85055bf6",
   "metadata": {},
   "source": [
    "13. Create a Python class hierarchy for employees in a company (e.g., manager, developer, designer) and implement abstraction by defining a common `get_salary()` method. \n"
   ]
  },
  {
   "cell_type": "code",
   "execution_count": 54,
   "id": "6b79549a",
   "metadata": {},
   "outputs": [
    {
     "name": "stdout",
     "output_type": "stream",
     "text": [
      "60000\n",
      "61000\n"
     ]
    }
   ],
   "source": [
    "from abc import ABC, abstractmethod\n",
    "\n",
    "class Employee(ABC):\n",
    "\n",
    "    def __init__(self, name, age, salary):\n",
    "        self.name = name\n",
    "        self.age = age\n",
    "        self.salary = salary\n",
    "\n",
    "    @abstractmethod\n",
    "    def get_salary(self):\n",
    "        pass\n",
    "\n",
    "class Manager(Employee):\n",
    "\n",
    "    def __init__(self, name, age, salary, bonus):\n",
    "        super().__init__(name, age, salary)\n",
    "        self.bonus = bonus\n",
    "\n",
    "    def get_salary(self):\n",
    "        return self.salary + self.bonus\n",
    "\n",
    "class Developer(Employee):\n",
    "\n",
    "    def __init__(self, name, age, salary, overtime):\n",
    "        super().__init__(name, age, salary)\n",
    "        self.overtime = overtime\n",
    "\n",
    "    def get_salary(self):\n",
    "        return self.salary + (self.overtime * 100)\n",
    "\n",
    "m = Manager(\"John\", 35, 50000, 10000)\n",
    "print(m.get_salary())\n",
    "\n",
    "d = Developer(\"Jane\", 28, 60000, 10)\n",
    "print(d.get_salary())"
   ]
  },
  {
   "cell_type": "markdown",
   "id": "35ac6879",
   "metadata": {},
   "source": [
    "14. Discuss the differences between abstract classes and concrete classes in Python, including their  instantiation. "
   ]
  },
  {
   "cell_type": "code",
   "execution_count": 56,
   "id": "dd70b6ef",
   "metadata": {},
   "outputs": [
    {
     "data": {
      "text/plain": [
       "'\\nThe main difference between abstract classes and concrete classes is that abstract classes cannot be instantiated, while \\nconcrete classes can be instantiated. Abstract classes are used to define a common interface for a set of subclasses, while\\nconcrete classes provide a complete implementation of the interface. Abstract classes enforce abstraction in Python classes\\nby ensuring that all subclasses provide an implementation for the method or property, while concrete classes do not require\\nany further implementation.\\n'"
      ]
     },
     "execution_count": 56,
     "metadata": {},
     "output_type": "execute_result"
    }
   ],
   "source": [
    "\"\"\"\n",
    "The main difference between abstract classes and concrete classes is that abstract classes cannot be instantiated, while \n",
    "concrete classes can be instantiated. Abstract classes are used to define a common interface for a set of subclasses, while\n",
    "concrete classes provide a complete implementation of the interface. Abstract classes enforce abstraction in Python classes\n",
    "by ensuring that all subclasses provide an implementation for the method or property, while concrete classes do not require\n",
    "any further implementation.\n",
    "\"\"\""
   ]
  },
  {
   "cell_type": "markdown",
   "id": "779e17c0",
   "metadata": {},
   "source": [
    "15. Explain the concept of abstract data types (ADTs) and their role in achieving abstraction in Python. "
   ]
  },
  {
   "cell_type": "code",
   "execution_count": 57,
   "id": "d7e4cad0",
   "metadata": {},
   "outputs": [
    {
     "data": {
      "text/plain": [
       "'\\nAbstract Data Types (ADTs) are a way of encapsulating data and operations on that data into a single unit. The user of an \\nADT does not need to know the implementation details of the data structure, only the essentials are provided.\\n\\nIn Python, ADTs can be implemented using classes. The definition of an ADT only mentions what operations are to be performed\\nbut not how these operations will be implemented. This is called “abstract” because it gives an implementation-independent \\nview. The process of providing only the essentials and hiding the details is known as abstraction.\\n\\nADTs play a crucial role in achieving abstraction in Python. By hiding the implementation details, ADTs allow programmers \\nto focus on the problem at hand and not worry about the underlying details of the data structure. This makes code more modular,\\neasier to read, and easier to maintain.\\n\\n'"
      ]
     },
     "execution_count": 57,
     "metadata": {},
     "output_type": "execute_result"
    }
   ],
   "source": [
    "\"\"\"\n",
    "Abstract Data Types (ADTs) are a way of encapsulating data and operations on that data into a single unit. The user of an \n",
    "ADT does not need to know the implementation details of the data structure, only the essentials are provided.\n",
    "\n",
    "In Python, ADTs can be implemented using classes. The definition of an ADT only mentions what operations are to be performed\n",
    "but not how these operations will be implemented. This is called “abstract” because it gives an implementation-independent \n",
    "view. The process of providing only the essentials and hiding the details is known as abstraction.\n",
    "\n",
    "ADTs play a crucial role in achieving abstraction in Python. By hiding the implementation details, ADTs allow programmers \n",
    "to focus on the problem at hand and not worry about the underlying details of the data structure. This makes code more modular,\n",
    "easier to read, and easier to maintain.\n",
    "\n",
    "\"\"\""
   ]
  },
  {
   "cell_type": "markdown",
   "id": "96b5271e",
   "metadata": {},
   "source": [
    "16. Create a Python class for a computer system, demonstrating abstraction by defining common methods (e.g., `power_on()`, `shutdown()`) in an abstract base class. \n"
   ]
  },
  {
   "cell_type": "code",
   "execution_count": 58,
   "id": "46a33ef7",
   "metadata": {},
   "outputs": [
    {
     "name": "stdout",
     "output_type": "stream",
     "text": [
      "Powering on desktop...\n",
      "Shutting down laptop...\n"
     ]
    }
   ],
   "source": [
    "from abc import ABC, abstractmethod\n",
    "\n",
    "class Computer(ABC):\n",
    "\n",
    "    @abstractmethod\n",
    "    def power_on(self):\n",
    "        pass\n",
    "\n",
    "    @abstractmethod    \n",
    "    def shutdown(self):\n",
    "        pass\n",
    "\n",
    "class Desktop(Computer):\n",
    "\n",
    "    def power_on(self):\n",
    "        print(\"Powering on desktop...\")\n",
    "\n",
    "    def shutdown(self):\n",
    "        print(\"Shutting down desktop...\")\n",
    "\n",
    "class Laptop(Computer):\n",
    "\n",
    "    def power_on(self):\n",
    "        print(\"Powering on laptop...\")\n",
    "\n",
    "    def shutdown(self):\n",
    "        print(\"Shutting down laptop...\")\n",
    "\n",
    "d = Desktop()\n",
    "d.power_on() \n",
    "\n",
    "l = Laptop()\n",
    "l.shutdown()"
   ]
  },
  {
   "cell_type": "markdown",
   "id": "a86bd320",
   "metadata": {},
   "source": [
    "17. Discuss the benefits of using abstraction in large-scale software development projects."
   ]
  },
  {
   "cell_type": "code",
   "execution_count": 59,
   "id": "f43b9b38",
   "metadata": {},
   "outputs": [
    {
     "data": {
      "text/plain": [
       "'\\nAbstraction is a fundamental concept in software engineering that allows developers to create high-level abstractions of \\ncomplex tasks, making the code easier to work with. Abstraction helps us write organized code that is easier to read and \\nunderstand. This also means that our code is more efficient and less prone to errors. It helps us save time since we \\ndon’t have to worry about low-level details and can instead focus on the bigger picture. \\nAbstraction also enables us to create reusable code, which can be used across multiple projects, saving time and effort.\\n\\nIn large-scale software development projects, abstraction plays a crucial role in managing complexity.\\nIt allows developers to break down complex systems into smaller, more manageable components, making it easier to maintain \\nand update the codebase. Abstraction also makes it easier to collaborate with other developers by providing a \\ncommon language and framework for understanding the system.\\n\\nHowever, abstraction can also be a double-edged sword. Over-abstraction can lead to overly complex code that is difficult\\nto understand and maintain. Therefore, it is important to strike a balance between abstraction and simplicity.\\n\\n'"
      ]
     },
     "execution_count": 59,
     "metadata": {},
     "output_type": "execute_result"
    }
   ],
   "source": [
    "\"\"\"\n",
    "Abstraction is a fundamental concept in software engineering that allows developers to create high-level abstractions of \n",
    "complex tasks, making the code easier to work with. Abstraction helps us write organized code that is easier to read and \n",
    "understand. This also means that our code is more efficient and less prone to errors. It helps us save time since we \n",
    "don’t have to worry about low-level details and can instead focus on the bigger picture. \n",
    "Abstraction also enables us to create reusable code, which can be used across multiple projects, saving time and effort.\n",
    "\n",
    "In large-scale software development projects, abstraction plays a crucial role in managing complexity.\n",
    "It allows developers to break down complex systems into smaller, more manageable components, making it easier to maintain \n",
    "and update the codebase. Abstraction also makes it easier to collaborate with other developers by providing a \n",
    "common language and framework for understanding the system.\n",
    "\n",
    "However, abstraction can also be a double-edged sword. Over-abstraction can lead to overly complex code that is difficult\n",
    "to understand and maintain. Therefore, it is important to strike a balance between abstraction and simplicity.\n",
    "\n",
    "\"\"\""
   ]
  },
  {
   "cell_type": "markdown",
   "id": "64fca86f",
   "metadata": {},
   "source": [
    "18. Explain how abstraction enhances code reusability and modularity in Python programs. "
   ]
  },
  {
   "cell_type": "code",
   "execution_count": 60,
   "id": "c5144e55",
   "metadata": {},
   "outputs": [
    {
     "data": {
      "text/plain": [
       "'\\nAbstraction is a fundamental concept in software engineering that allows developers to create high-level abstractions of \\ncomplex tasks, making the code easier to work with. Abstraction helps us write organized code that is easier to read and \\nunderstand. This also means that our code is more efficient and less prone to errors. It helps us save time since we don’t \\nhave to worry about low-level details and can instead focus on the bigger picture. Abstraction also enables us to create \\nreusable code, which can be used across multiple projects, saving time and effort.\\n\\nIn Python, abstraction enhances code reusability and modularity by allowing developers to create abstract classes \\nand interfaces that define the behavior of objects without specifying their implementation. This means that we can \\ncreate a set of classes that share common functionality, but have different implementations. By using these abstract\\nclasses and interfaces, we can write code that is more modular and reusable.\\n\\n'"
      ]
     },
     "execution_count": 60,
     "metadata": {},
     "output_type": "execute_result"
    }
   ],
   "source": [
    "\"\"\"\n",
    "Abstraction is a fundamental concept in software engineering that allows developers to create high-level abstractions of \n",
    "complex tasks, making the code easier to work with. Abstraction helps us write organized code that is easier to read and \n",
    "understand. This also means that our code is more efficient and less prone to errors. It helps us save time since we don’t \n",
    "have to worry about low-level details and can instead focus on the bigger picture. Abstraction also enables us to create \n",
    "reusable code, which can be used across multiple projects, saving time and effort.\n",
    "\n",
    "In Python, abstraction enhances code reusability and modularity by allowing developers to create abstract classes \n",
    "and interfaces that define the behavior of objects without specifying their implementation. This means that we can \n",
    "create a set of classes that share common functionality, but have different implementations. By using these abstract\n",
    "classes and interfaces, we can write code that is more modular and reusable.\n",
    "\n",
    "\"\"\""
   ]
  },
  {
   "cell_type": "markdown",
   "id": "dc4944eb",
   "metadata": {},
   "source": [
    "19. Create a Python class for a library system, implementing abstraction by defining common methods (e.g., `add_book()`, `borrow_book()`) in an abstract base class. \n"
   ]
  },
  {
   "cell_type": "code",
   "execution_count": 62,
   "id": "7de266e5",
   "metadata": {},
   "outputs": [
    {
     "name": "stdout",
     "output_type": "stream",
     "text": [
      "Harry Potter borrowed from public library\n"
     ]
    }
   ],
   "source": [
    "from abc import ABC, abstractmethod\n",
    "\n",
    "class Library(ABC):\n",
    "\n",
    "    def __init__(self, books=None):\n",
    "        if books is None:\n",
    "            self.books = []\n",
    "        else:\n",
    "            self.books = books\n",
    "\n",
    "    @abstractmethod\n",
    "    def add_book(self, book):\n",
    "        pass\n",
    "\n",
    "    @abstractmethod\n",
    "    def borrow_book(self, book):\n",
    "        pass\n",
    "\n",
    "class PublicLibrary(Library):\n",
    "    def add_book(self, book):\n",
    "        self.books.append(book)\n",
    "\n",
    "    def borrow_book(self, book):\n",
    "        if book in self.books:\n",
    "            print(f\"{book} borrowed from public library\")\n",
    "            self.books.remove(book)\n",
    "        else:\n",
    "            print(f\"{book} not available in public library\")\n",
    "\n",
    "class SchoolLibrary(Library):\n",
    "    public = PublicLibrary([\"The Alchemist\", \"Harry Potter\"])\n",
    "    public.add_book(\"Wings of Fire\") \n",
    "    public.borrow_book(\"Harry Potter\")"
   ]
  },
  {
   "cell_type": "markdown",
   "id": "6c046596",
   "metadata": {},
   "source": [
    "20. Describe the concept of method abstraction in Python and how it relates to polymorphism."
   ]
  },
  {
   "cell_type": "code",
   "execution_count": 63,
   "id": "08b85e03",
   "metadata": {},
   "outputs": [
    {
     "data": {
      "text/plain": [
       "'\\nAbstraction is a fundamental concept in software engineering that allows developers to create high-level abstractions of\\ncomplex tasks, making the code easier to work with. Abstraction helps us write organized code that is easier to read and \\nunderstand. This also means that our code is more efficient and less prone to errors. It helps us save time since we don’t \\nhave to worry about low-level details and can instead focus on the bigger picture. Abstraction also enables us to create \\nreusable code, which can be used across multiple projects, saving time and effort .\\n\\nIn Python, method abstraction is achieved through the use of abstract classes and interfaces. An abstract class is a class that \\ncannot be instantiated and is used as a base class for other classes. Abstract classes define methods that must be implemented\\nby any concrete subclass. This allows us to define a common interface for a set of related classes, without specifying their \\nimplementation details.\\n\\nPolymorphism is the ability of an object to take on many forms. In Python, polymorphism is achieved through method overriding.\\nMethod overriding allows a subclass to provide a different implementation of a method that is already defined in its \\nsuperclass. This means that we can use the same method name in different classes, but with different implementations. \\nBy using abstract classes and interfaces, we can define a common interface for a set of related classes, allowing us to write\\ncode that is more modular and reusable.\\n\\n'"
      ]
     },
     "execution_count": 63,
     "metadata": {},
     "output_type": "execute_result"
    }
   ],
   "source": [
    "\"\"\"\n",
    "Abstraction is a fundamental concept in software engineering that allows developers to create high-level abstractions of\n",
    "complex tasks, making the code easier to work with. Abstraction helps us write organized code that is easier to read and \n",
    "understand. This also means that our code is more efficient and less prone to errors. It helps us save time since we don’t \n",
    "have to worry about low-level details and can instead focus on the bigger picture. Abstraction also enables us to create \n",
    "reusable code, which can be used across multiple projects, saving time and effort .\n",
    "\n",
    "In Python, method abstraction is achieved through the use of abstract classes and interfaces. An abstract class is a class that \n",
    "cannot be instantiated and is used as a base class for other classes. Abstract classes define methods that must be implemented\n",
    "by any concrete subclass. This allows us to define a common interface for a set of related classes, without specifying their \n",
    "implementation details.\n",
    "\n",
    "Polymorphism is the ability of an object to take on many forms. In Python, polymorphism is achieved through method overriding.\n",
    "Method overriding allows a subclass to provide a different implementation of a method that is already defined in its \n",
    "superclass. This means that we can use the same method name in different classes, but with different implementations. \n",
    "By using abstract classes and interfaces, we can define a common interface for a set of related classes, allowing us to write\n",
    "code that is more modular and reusable.\n",
    "\n",
    "\"\"\""
   ]
  },
  {
   "cell_type": "markdown",
   "id": "0521443f",
   "metadata": {},
   "source": [
    "# Composition: "
   ]
  },
  {
   "cell_type": "markdown",
   "id": "5d2befe6",
   "metadata": {},
   "source": [
    "1. Explain the concept of composition in Python and how it is used to build complex objects from simpler ones."
   ]
  },
  {
   "cell_type": "code",
   "execution_count": 64,
   "id": "fc6fa133",
   "metadata": {},
   "outputs": [
    {
     "name": "stdout",
     "output_type": "stream",
     "text": [
      "Component class object created...\n",
      "Composite class object also created...\n",
      "Composite class m2() method executed...\n",
      "Component class m1() method executed...\n"
     ]
    }
   ],
   "source": [
    "\"\"\"\n",
    "In Python, composition is a way of building complex objects from simpler ones. It is a fundamental concept of Object-Oriented\n",
    "Programming (OOP) that models a has-a relationship between classes. Composition enables creating complex types by combining\n",
    "objects of other types. This means that a class Composite can contain an object of another class Component.\n",
    "\n",
    "In composition, we describe a class that references one or more objects of other classes as an instance variable. By using \n",
    "the class name or by creating the object, we can access the members of one class inside another class. This type of \n",
    "relationship is known as has-a relation.\n",
    "\n",
    "Composition is different from inheritance, which is another way to build complex objects in OOP. Inheritance allows us to\n",
    "inherit all the properties from another class, whereas composition enables creating complex types by combining objects \n",
    "of different classes.\n",
    "\"\"\"\n",
    "#Example:\n",
    "class Component:\n",
    "    def __init__(self):\n",
    "        print('Component class object created...')\n",
    "        \n",
    "    def m1(self):\n",
    "        print('Component class m1() method executed...')\n",
    "\n",
    "class Composite:\n",
    "    def __init__(self):\n",
    "        self.obj1 = Component()\n",
    "        print('Composite class object also created...')\n",
    "        \n",
    "    def m2(self):\n",
    "        print('Composite class m2() method executed...')\n",
    "        self.obj1.m1()\n",
    "\n",
    "obj2 = Composite()\n",
    "obj2.m2()\n"
   ]
  },
  {
   "cell_type": "markdown",
   "id": "afde206b",
   "metadata": {},
   "source": [
    "2. Describe the difference between composition and inheritance in object-oriented programming."
   ]
  },
  {
   "cell_type": "code",
   "execution_count": 65,
   "id": "13cde119",
   "metadata": {},
   "outputs": [
    {
     "data": {
      "text/plain": [
       "'\\nInheritance is a mechanism that allows a new class to be based on an existing class. The new class inherits all the properties\\nand methods of the existing class, and can also add new properties and methods of its own. Inheritance is used to model \\nan is-a relationship between classes.\\n\\nComposition, on the other hand, is a technique that allows objects of one class to be composed of objects of another class. \\nIn composition, we describe a class that references one or more objects of other classes as an instance variable. By using \\nthe class name or by creating the object, we can access the members of one class inside another class. This type of \\nrelationship is known as has-a relation. \\n'"
      ]
     },
     "execution_count": 65,
     "metadata": {},
     "output_type": "execute_result"
    }
   ],
   "source": [
    "\"\"\"\n",
    "Inheritance is a mechanism that allows a new class to be based on an existing class. The new class inherits all the properties\n",
    "and methods of the existing class, and can also add new properties and methods of its own. Inheritance is used to model \n",
    "an is-a relationship between classes.\n",
    "\n",
    "Composition, on the other hand, is a technique that allows objects of one class to be composed of objects of another class. \n",
    "In composition, we describe a class that references one or more objects of other classes as an instance variable. By using \n",
    "the class name or by creating the object, we can access the members of one class inside another class. This type of \n",
    "relationship is known as has-a relation. \n",
    "\"\"\""
   ]
  },
  {
   "cell_type": "markdown",
   "id": "706b9103",
   "metadata": {},
   "source": [
    "3. Create a Python class called `Author` with attributes for name and birthdate. Then, create a `Book` class\n",
    "that contains an instance of `Author` as a composition. Provide an example of creating a `Book` object."
   ]
  },
  {
   "cell_type": "code",
   "execution_count": 66,
   "id": "278966f8",
   "metadata": {},
   "outputs": [
    {
     "name": "stdout",
     "output_type": "stream",
     "text": [
      "Book Title: Harry Potter and the Philosopher's Stone\n",
      "Author Name: J.K. Rowling\n",
      "Author Birthdate: 31 July 1965\n"
     ]
    }
   ],
   "source": [
    "class Author:\n",
    "    def __init__(self, name, birthdate):\n",
    "        self.name = name\n",
    "        self.birthdate = birthdate\n",
    "\n",
    "class Book:\n",
    "    def __init__(self, title, author):\n",
    "        self.title = title\n",
    "        self.author = author\n",
    "\n",
    "author1 = Author('J.K. Rowling', '31 July 1965')\n",
    "book1 = Book('Harry Potter and the Philosopher\\'s Stone', author1)\n",
    "\n",
    "print(f'Book Title: {book1.title}')\n",
    "print(f'Author Name: {book1.author.name}')\n",
    "print(f'Author Birthdate: {book1.author.birthdate}')\n"
   ]
  },
  {
   "cell_type": "markdown",
   "id": "5154f488",
   "metadata": {},
   "source": [
    "4. Discuss the benefits of using composition over inheritance in Python, especially in terms of code flexibility\n",
    "and reusability."
   ]
  },
  {
   "cell_type": "code",
   "execution_count": 67,
   "id": "633f3591",
   "metadata": {},
   "outputs": [
    {
     "data": {
      "text/plain": [
       "'\\nComposition is often preferred over inheritance because it provides more flexibility and reusability in code. \\nHere are some benefits of using composition over inheritance:\\n\\nFlexibility: Composition allows us to create complex objects by combining simpler objects. This means that we can change \\nthe behavior of an object at runtime by replacing its components with other objects. This makes the code more flexible and \\neasier to maintain.\\n\\nCode Reusability: Composition enables us to reuse code by creating objects that contain other objects. This means that we can \\ncreate a library of reusable components that can be used in different parts of our codebase. This makes the code more modular\\nand easier to maintain.\\n\\nLoose Coupling: Composition creates a has-a relationship between classes, which is a looser coupling than the is-a relationship\\ncreated by inheritance. This means that changes made to one class do not affect other classes in the system.\\n\\nEasier Testing: Composition makes it easier to test individual components of a system because each component can be tested \\nindependently of the others. This makes it easier to identify and fix bugs in the system.\\n\\nAvoiding Method Name Clashes: Inheritance can lead to method name clashes when two or more classes have methods with the same\\nname. Composition avoids this problem because each object has its own namespace, which prevents method name clashes .\\n'"
      ]
     },
     "execution_count": 67,
     "metadata": {},
     "output_type": "execute_result"
    }
   ],
   "source": [
    "\"\"\"\n",
    "Composition is often preferred over inheritance because it provides more flexibility and reusability in code. \n",
    "Here are some benefits of using composition over inheritance:\n",
    "\n",
    "Flexibility: Composition allows us to create complex objects by combining simpler objects. This means that we can change \n",
    "the behavior of an object at runtime by replacing its components with other objects. This makes the code more flexible and \n",
    "easier to maintain.\n",
    "\n",
    "Code Reusability: Composition enables us to reuse code by creating objects that contain other objects. This means that we can \n",
    "create a library of reusable components that can be used in different parts of our codebase. This makes the code more modular\n",
    "and easier to maintain.\n",
    "\n",
    "Loose Coupling: Composition creates a has-a relationship between classes, which is a looser coupling than the is-a relationship\n",
    "created by inheritance. This means that changes made to one class do not affect other classes in the system.\n",
    "\n",
    "Easier Testing: Composition makes it easier to test individual components of a system because each component can be tested \n",
    "independently of the others. This makes it easier to identify and fix bugs in the system.\n",
    "\n",
    "Avoiding Method Name Clashes: Inheritance can lead to method name clashes when two or more classes have methods with the same\n",
    "name. Composition avoids this problem because each object has its own namespace, which prevents method name clashes .\n",
    "\"\"\""
   ]
  },
  {
   "cell_type": "markdown",
   "id": "b65444ca",
   "metadata": {},
   "source": [
    "5. How can you implement composition in Python classes? Provide examples of using composition to create\n",
    "complex objects."
   ]
  },
  {
   "cell_type": "code",
   "execution_count": 68,
   "id": "a99d0dd3",
   "metadata": {},
   "outputs": [
    {
     "name": "stdout",
     "output_type": "stream",
     "text": [
      "Book Title: Harry Potter and the Philosopher's Stone\n",
      "Author Name: J.K. Rowling\n",
      "Author Birthdate: 31 July 1965\n"
     ]
    }
   ],
   "source": [
    "\"\"\"\n",
    "In Python, composition can be implemented by creating a class that references one or more objects of other classes as an \n",
    "instance variable. By using the class name or by creating the object, we can access the members of one class inside another \n",
    "class. This type of relationship is known as has-a relation.\n",
    "\"\"\"\n",
    "#Example:\n",
    "class Author:\n",
    "    def __init__(self, name, birthdate):\n",
    "        self.name = name\n",
    "        self.birthdate = birthdate\n",
    "\n",
    "class Book:\n",
    "    def __init__(self, title, author):\n",
    "        self.title = title\n",
    "        self.author = author\n",
    "\n",
    "author1 = Author('J.K. Rowling', '31 July 1965')\n",
    "book1 = Book('Harry Potter and the Philosopher\\'s Stone', author1)\n",
    "\n",
    "print(f'Book Title: {book1.title}')\n",
    "print(f'Author Name: {book1.author.name}')\n",
    "print(f'Author Birthdate: {book1.author.birthdate}')\n"
   ]
  },
  {
   "cell_type": "markdown",
   "id": "82c26031",
   "metadata": {},
   "source": [
    "6. Create a Python class hierarchy for a music player system, using composition to represent playlists and\n",
    "songs."
   ]
  },
  {
   "cell_type": "code",
   "execution_count": 69,
   "id": "087cb1f5",
   "metadata": {},
   "outputs": [
    {
     "name": "stdout",
     "output_type": "stream",
     "text": [
      "Playing Playlist: Playlist 1\n",
      "Playing: Song 1 by Artist 1\n",
      "Playing: Song 2 by Artist 2\n",
      "Total Duration: 860\n"
     ]
    }
   ],
   "source": [
    "class Song:\n",
    "    def __init__(self, title, artist, duration):\n",
    "        self.title = title\n",
    "        self.artist = artist\n",
    "        self.duration = duration\n",
    "\n",
    "    def play(self):\n",
    "        print(f\"Playing: {self.title} by {self.artist}\")\n",
    "\n",
    "    def get_duration(self):\n",
    "        return self.duration\n",
    "\n",
    "class Playlist:\n",
    "    def __init__(self, name):\n",
    "        self.name = name\n",
    "        self.songs = []\n",
    "\n",
    "    def add_song(self, song):\n",
    "        self.songs.append(song)\n",
    "\n",
    "    def remove_song(self, song):\n",
    "        if song in self.songs:\n",
    "            self.songs.remove(song)\n",
    "\n",
    "    def play(self):\n",
    "        print(f\"Playing Playlist: {self.name}\")\n",
    "        for song in self.songs:\n",
    "            song.play()\n",
    "\n",
    "    def get_total_duration(self):\n",
    "        total_duration = sum(song.get_duration() for song in self.songs)\n",
    "        return total_duration\n",
    "\n",
    "class MusicPlayer:\n",
    "    def __init__(self):\n",
    "        self.playlists = []\n",
    "\n",
    "    def add_playlist(self, playlist):\n",
    "        self.playlists.append(playlist)\n",
    "\n",
    "    def remove_playlist(self, playlist):\n",
    "        if playlist in self.playlists:\n",
    "            self.playlists.remove(playlist)\n",
    "\n",
    "    def play(self, playlist_name):\n",
    "        for playlist in self.playlists:\n",
    "            if playlist.name == playlist_name:\n",
    "                playlist.play()\n",
    "                return\n",
    "        print(f\"Playlist '{playlist_name}' not found.\")\n",
    "\n",
    "    def get_total_duration(self):\n",
    "        total_duration = sum(playlist.get_total_duration() for playlist in self.playlists)\n",
    "        return total_duration\n",
    "\n",
    "# Example usage:\n",
    "if __name__ == \"__main__\":\n",
    "    song1 = Song(\"Song 1\", \"Artist 1\", 180)\n",
    "    song2 = Song(\"Song 2\", \"Artist 2\", 240)\n",
    "    song3 = Song(\"Song 3\", \"Artist 3\", 200)\n",
    "\n",
    "    playlist1 = Playlist(\"Playlist 1\")\n",
    "    playlist1.add_song(song1)\n",
    "    playlist1.add_song(song2)\n",
    "\n",
    "    playlist2 = Playlist(\"Playlist 2\")\n",
    "    playlist2.add_song(song2)\n",
    "    playlist2.add_song(song3)\n",
    "\n",
    "    music_player = MusicPlayer()\n",
    "    music_player.add_playlist(playlist1)\n",
    "    music_player.add_playlist(playlist2)\n",
    "\n",
    "    music_player.play(\"Playlist 1\")\n",
    "    print(\"Total Duration:\", music_player.get_total_duration())\n"
   ]
  },
  {
   "cell_type": "markdown",
   "id": "4c712821",
   "metadata": {},
   "source": [
    "7. Explain the concept of \"has-a\" relationships in composition and how it helps design software systems."
   ]
  },
  {
   "cell_type": "code",
   "execution_count": 70,
   "id": "a4974f2c",
   "metadata": {},
   "outputs": [
    {
     "data": {
      "text/plain": [
       "'\\nIn composition, has-a relationship is a way of building complex objects from simpler ones. It is a fundamental concept of \\nObject-Oriented Programming (OOP) that models a has-a relationship between classes. Composition enables creating complex types\\nby combining objects of other types. This means that a class Composite can contain an object of another class Component.\\n\\nIn has-a relationship, one class contains an instance variable that references an object of another class. This means that \\nthe containing class has a reference to the contained object. The containing class can then access the members of the contained\\nobject by using the reference.\\n\\nHas-a relationship is different from is-a relationship, which is another way to build complex objects in OOP. Inheritance \\nallows us to inherit all the properties from another class, whereas composition enables creating complex types by combining \\nobjects of different classes.\\n\\n'"
      ]
     },
     "execution_count": 70,
     "metadata": {},
     "output_type": "execute_result"
    }
   ],
   "source": [
    "\"\"\"\n",
    "In composition, has-a relationship is a way of building complex objects from simpler ones. It is a fundamental concept of \n",
    "Object-Oriented Programming (OOP) that models a has-a relationship between classes. Composition enables creating complex types\n",
    "by combining objects of other types. This means that a class Composite can contain an object of another class Component.\n",
    "\n",
    "In has-a relationship, one class contains an instance variable that references an object of another class. This means that \n",
    "the containing class has a reference to the contained object. The containing class can then access the members of the contained\n",
    "object by using the reference.\n",
    "\n",
    "Has-a relationship is different from is-a relationship, which is another way to build complex objects in OOP. Inheritance \n",
    "allows us to inherit all the properties from another class, whereas composition enables creating complex types by combining \n",
    "objects of different classes.\n",
    "\n",
    "\"\"\""
   ]
  },
  {
   "cell_type": "code",
   "execution_count": 71,
   "id": "9621848e",
   "metadata": {},
   "outputs": [
    {
     "name": "stdout",
     "output_type": "stream",
     "text": [
      "Computer Specifications:\n",
      "CPU: Intel i7, Speed: 3.5 GHz, Cores: 4\n",
      "RAM: 16 GB, Speed: 2400 MHz\n",
      "Storage: 512 GB, Type: SSD\n"
     ]
    }
   ],
   "source": [
    "class CPU:\n",
    "    def __init__(self, brand, speed, cores):\n",
    "        self.brand = brand\n",
    "        self.speed = speed\n",
    "        self.cores = cores\n",
    "\n",
    "    def __str__(self):\n",
    "        return f\"CPU: {self.brand}, Speed: {self.speed} GHz, Cores: {self.cores}\"\n",
    "\n",
    "class RAM:\n",
    "    def __init__(self, capacity, speed):\n",
    "        self.capacity = capacity\n",
    "        self.speed = speed\n",
    "\n",
    "    def __str__(self):\n",
    "        return f\"RAM: {self.capacity} GB, Speed: {self.speed} MHz\"\n",
    "\n",
    "class StorageDevice:\n",
    "    def __init__(self, capacity, storage_type):\n",
    "        self.capacity = capacity\n",
    "        self.storage_type = storage_type\n",
    "\n",
    "    def __str__(self):\n",
    "        return f\"Storage: {self.capacity} GB, Type: {self.storage_type}\"\n",
    "\n",
    "class Computer:\n",
    "    def __init__(self, cpu, ram, storage):\n",
    "        self.cpu = cpu\n",
    "        self.ram = ram\n",
    "        self.storage = storage\n",
    "\n",
    "    def __str__(self):\n",
    "        return f\"Computer Specifications:\\n{self.cpu}\\n{self.ram}\\n{self.storage}\"\n",
    "\n",
    "# Example usage:\n",
    "if __name__ == \"__main__\":\n",
    "    cpu = CPU(\"Intel i7\", 3.5, 4)\n",
    "    ram = RAM(16, 2400)\n",
    "    storage = StorageDevice(512, \"SSD\")\n",
    "\n",
    "    my_computer = Computer(cpu, ram, storage)\n",
    "    print(my_computer)\n"
   ]
  },
  {
   "cell_type": "markdown",
   "id": "35abf579",
   "metadata": {},
   "source": [
    "9. Describe the concept of \"delegation\" in composition and how it simplifies the design of complex systems."
   ]
  },
  {
   "cell_type": "code",
   "execution_count": 72,
   "id": "311e8913",
   "metadata": {},
   "outputs": [
    {
     "data": {
      "text/plain": [
       "'\\n\\nIn composition, delegation is a technique that allows an object to delegate some of its responsibilities to another object. \\nIt is a way of building complex objects from simpler ones. Delegation is a fundamental concept of Object-Oriented Programming\\n(OOP) that models a has-a relationship between classes.\\n\\nIn delegation, one object forwards a request to another object to perform an action. The object that forwards the request is \\ncalled the delegator, and the object that performs the action is called the delegate. The delegator does not perform the\\naction itself but instead delegates it to the delegate.\\n\\nDelegation simplifies the design of complex systems by enabling code reuse and making it easier to maintain and modify code. \\nBy delegating some of its responsibilities to another object, an object can focus on its core functionality. This makes the \\ncode more modular and easier to maintain.\\n\\n'"
      ]
     },
     "execution_count": 72,
     "metadata": {},
     "output_type": "execute_result"
    }
   ],
   "source": [
    "\"\"\"\n",
    "\n",
    "In composition, delegation is a technique that allows an object to delegate some of its responsibilities to another object. \n",
    "It is a way of building complex objects from simpler ones. Delegation is a fundamental concept of Object-Oriented Programming\n",
    "(OOP) that models a has-a relationship between classes.\n",
    "\n",
    "In delegation, one object forwards a request to another object to perform an action. The object that forwards the request is \n",
    "called the delegator, and the object that performs the action is called the delegate. The delegator does not perform the\n",
    "action itself but instead delegates it to the delegate.\n",
    "\n",
    "Delegation simplifies the design of complex systems by enabling code reuse and making it easier to maintain and modify code. \n",
    "By delegating some of its responsibilities to another object, an object can focus on its core functionality. This makes the \n",
    "code more modular and easier to maintain.\n",
    "\n",
    "\"\"\""
   ]
  },
  {
   "cell_type": "markdown",
   "id": "ea00d856",
   "metadata": {},
   "source": [
    "10. Create a Python class for a car, using composition to represent components like the engine, wheels, and\n",
    "transmission."
   ]
  },
  {
   "cell_type": "code",
   "execution_count": 73,
   "id": "b9381de1",
   "metadata": {},
   "outputs": [
    {
     "name": "stdout",
     "output_type": "stream",
     "text": [
      "Car Specifications:\n",
      "Engine: Fuel type - Gasoline, Horsepower - 200 HP\n",
      "[<__main__.Wheel object at 0x00E2F9B8>, <__main__.Wheel object at 0x00E2FB20>, <__main__.Wheel object at 0x00E2FCB8>, <__main__.Wheel object at 0x00E2FAF0>]\n",
      "Transmission: Type - Automatic\n",
      "Starting the car...\n",
      "Engine started.\n",
      "Shifted to gear Drive.\n",
      "Stopping the car...\n",
      "Engine stopped.\n",
      "Shifted to gear Park.\n"
     ]
    }
   ],
   "source": [
    "class Engine:\n",
    "    def __init__(self, fuel_type, horsepower):\n",
    "        self.fuel_type = fuel_type\n",
    "        self.horsepower = horsepower\n",
    "\n",
    "    def start(self):\n",
    "        print(\"Engine started.\")\n",
    "\n",
    "    def stop(self):\n",
    "        print(\"Engine stopped.\")\n",
    "\n",
    "    def __str__(self):\n",
    "        return f\"Engine: Fuel type - {self.fuel_type}, Horsepower - {self.horsepower} HP\"\n",
    "\n",
    "class Wheel:\n",
    "    def __init__(self, size, tire_type):\n",
    "        self.size = size\n",
    "        self.tire_type = tire_type\n",
    "\n",
    "    def rotate(self):\n",
    "        print(\"Wheels are rotating.\")\n",
    "\n",
    "    def __str__(self):\n",
    "        return f\"Wheel: Size - {self.size} inches, Tire type - {self.tire_type}\"\n",
    "\n",
    "class Transmission:\n",
    "    def __init__(self, transmission_type):\n",
    "        self.transmission_type = transmission_type\n",
    "\n",
    "    def shift_gear(self, gear):\n",
    "        print(f\"Shifted to gear {gear}.\")\n",
    "\n",
    "    def __str__(self):\n",
    "        return f\"Transmission: Type - {self.transmission_type}\"\n",
    "\n",
    "class Car:\n",
    "    def __init__(self, engine, wheels, transmission):\n",
    "        self.engine = engine\n",
    "        self.wheels = wheels\n",
    "        self.transmission = transmission\n",
    "\n",
    "    def start(self):\n",
    "        print(\"Starting the car...\")\n",
    "        self.engine.start()\n",
    "        self.transmission.shift_gear(\"Drive\")\n",
    "\n",
    "    def stop(self):\n",
    "        print(\"Stopping the car...\")\n",
    "        self.engine.stop()\n",
    "        self.transmission.shift_gear(\"Park\")\n",
    "\n",
    "    def __str__(self):\n",
    "        return f\"Car Specifications:\\n{self.engine}\\n{self.wheels}\\n{self.transmission}\"\n",
    "\n",
    "# Example usage:\n",
    "if __name__ == \"__main__\":\n",
    "    engine = Engine(\"Gasoline\", 200)\n",
    "    wheels = [Wheel(18, \"All-Season\") for _ in range(4)]\n",
    "    transmission = Transmission(\"Automatic\")\n",
    "\n",
    "    my_car = Car(engine, wheels, transmission)\n",
    "    print(my_car)\n",
    "\n",
    "    my_car.start()\n",
    "    my_car.stop()\n"
   ]
  },
  {
   "cell_type": "markdown",
   "id": "95befa45",
   "metadata": {},
   "source": [
    "11. How can you encapsulate and hide the details of composed objects in Python classes to maintain\n",
    "abstraction?"
   ]
  },
  {
   "cell_type": "code",
   "execution_count": 74,
   "id": "c5505058",
   "metadata": {},
   "outputs": [
    {
     "data": {
      "text/plain": [
       "'\\nEncapsulation can be used to hide the details of composed objects in classes to maintain abstraction. Encapsulation is one\\nof the fundamental concepts in object-oriented programming (OOP) that describes the idea of wrapping data and the methods\\nthat work on data within one unit. This puts restrictions on accessing variables and methods directly and can prevent the \\naccidental modification of data.\\n\\nTo encapsulate and hide the details of composed objects in Python classes, we can use private variables. Private variables \\nare variables that are only accessible within the class that defines them. In Python, we can make a variable private by\\nprefixing its name with two underscores (__). This makes the variable name mangled, which means that it cannot be accessed\\nfrom outside the class.\\n'"
      ]
     },
     "execution_count": 74,
     "metadata": {},
     "output_type": "execute_result"
    }
   ],
   "source": [
    "\"\"\"\n",
    "Encapsulation can be used to hide the details of composed objects in classes to maintain abstraction. Encapsulation is one\n",
    "of the fundamental concepts in object-oriented programming (OOP) that describes the idea of wrapping data and the methods\n",
    "that work on data within one unit. This puts restrictions on accessing variables and methods directly and can prevent the \n",
    "accidental modification of data.\n",
    "\n",
    "To encapsulate and hide the details of composed objects in Python classes, we can use private variables. Private variables \n",
    "are variables that are only accessible within the class that defines them. In Python, we can make a variable private by\n",
    "prefixing its name with two underscores (__). This makes the variable name mangled, which means that it cannot be accessed\n",
    "from outside the class.\n",
    "\"\"\""
   ]
  },
  {
   "cell_type": "markdown",
   "id": "60f7c6d5",
   "metadata": {},
   "source": [
    "12. Create a Python class for a university course, using composition to represent students, instructors, and\n",
    "course materials."
   ]
  },
  {
   "cell_type": "code",
   "execution_count": 76,
   "id": "a1126f35",
   "metadata": {},
   "outputs": [
    {
     "name": "stdout",
     "output_type": "stream",
     "text": [
      "Rajesh has enrolled in the course.\n",
      "Chintu has enrolled in the course.\n",
      "Aman is the instructor for this course.\n",
      "Course: MATH101 - Introduction to Mathematics\n",
      "Instructor: Instructor ID: I001, Name: Aman\n",
      "Students: Student ID: S001, Name: Rajesh, Student ID: S002, Name: Chintu\n"
     ]
    }
   ],
   "source": [
    "class Student:\n",
    "    def __init__(self, student_id, name):\n",
    "        self.student_id = student_id\n",
    "        self.name = name\n",
    "\n",
    "    def enroll(self, course):\n",
    "        course.add_student(self)\n",
    "        print(f\"{self.name} has enrolled in the course.\")\n",
    "\n",
    "    def __str__(self):\n",
    "        return f\"Student ID: {self.student_id}, Name: {self.name}\"\n",
    "\n",
    "class Instructor:\n",
    "    def __init__(self, instructor_id, name):\n",
    "        self.instructor_id = instructor_id\n",
    "        self.name = name\n",
    "\n",
    "    def assign_course(self, course):\n",
    "        course.set_instructor(self)\n",
    "        print(f\"{self.name} is the instructor for this course.\")\n",
    "\n",
    "    def __str__(self):\n",
    "        return f\"Instructor ID: {self.instructor_id}, Name: {self.name}\"\n",
    "\n",
    "class CourseMaterial:\n",
    "    def __init__(self, title, content):\n",
    "        self.title = title\n",
    "        self.content = content\n",
    "\n",
    "    def __str__(self):\n",
    "        return f\"Course Material: {self.title}\"\n",
    "\n",
    "class UniversityCourse:\n",
    "    def __init__(self, course_code, course_name):\n",
    "        self.course_code = course_code\n",
    "        self.course_name = course_name\n",
    "        self.students = []\n",
    "        self.instructor = None\n",
    "        self.course_materials = []\n",
    "\n",
    "    def add_student(self, student):\n",
    "        self.students.append(student)\n",
    "\n",
    "    def set_instructor(self, instructor):\n",
    "        self.instructor = instructor\n",
    "\n",
    "    def add_course_material(self, course_material):\n",
    "        self.course_materials.append(course_material)\n",
    "\n",
    "    def __str__(self):\n",
    "        return f\"Course: {self.course_code} - {self.course_name}\\nInstructor: {self.instructor}\\nStudents: {', '.join(str(student) for student in self.students)}\"\n",
    "\n",
    "# Example usage:\n",
    "if __name__ == \"__main__\":\n",
    "    math101 = UniversityCourse(\"MATH101\", \"Introduction to Mathematics\")\n",
    "    student1 = Student(\"S001\", \"Rajesh\")\n",
    "    student2 = Student(\"S002\", \"Chintu\")\n",
    "    instructor = Instructor(\"I001\", \"Aman\")\n",
    "    course_material = CourseMaterial(\"Syllabus\", \"This course covers basic mathematical concepts.\")\n",
    "\n",
    "    student1.enroll(math101)\n",
    "    student2.enroll(math101)\n",
    "    instructor.assign_course(math101)\n",
    "    math101.add_course_material(course_material)\n",
    "\n",
    "    print(math101)\n"
   ]
  },
  {
   "cell_type": "markdown",
   "id": "eae6e296",
   "metadata": {},
   "source": [
    "13. Discuss the challenges and drawbacks of composition, such as increased complexity and potential for\n",
    "tight coupling between objects."
   ]
  },
  {
   "cell_type": "code",
   "execution_count": 77,
   "id": "98ed9735",
   "metadata": {},
   "outputs": [
    {
     "data": {
      "text/plain": [
       "'\\nWhile composition is a powerful technique that enables creating complex types by combining objects of different classes, \\nit also has some challenges and drawbacks. Here are some of them:\\n\\nIncreased Complexity: Composition can increase the complexity of a system by introducing more objects and relationships\\nbetween them. This can make the code harder to understand and maintain.\\n\\nPotential for Tight Coupling: Composition can lead to tight coupling between objects, which means that changes made to \\none object can affect other objects in the system. This can make the code harder to modify and test.\\n'"
      ]
     },
     "execution_count": 77,
     "metadata": {},
     "output_type": "execute_result"
    }
   ],
   "source": [
    "\"\"\"\n",
    "While composition is a powerful technique that enables creating complex types by combining objects of different classes, \n",
    "it also has some challenges and drawbacks. Here are some of them:\n",
    "\n",
    "Increased Complexity: Composition can increase the complexity of a system by introducing more objects and relationships\n",
    "between them. This can make the code harder to understand and maintain.\n",
    "\n",
    "Potential for Tight Coupling: Composition can lead to tight coupling between objects, which means that changes made to \n",
    "one object can affect other objects in the system. This can make the code harder to modify and test.\n",
    "\"\"\""
   ]
  },
  {
   "cell_type": "markdown",
   "id": "1e30d89e",
   "metadata": {},
   "source": [
    "14. Create a Python class hierarchy for a restaurant system, using composition to represent menus, dishes,\n",
    "and ingredients."
   ]
  },
  {
   "cell_type": "code",
   "execution_count": 78,
   "id": "e23e60db",
   "metadata": {},
   "outputs": [
    {
     "name": "stdout",
     "output_type": "stream",
     "text": [
      "Restaurant: Tasty Bites\n",
      "Menu: Italian Cuisine\n",
      "Pizza - Delicious pizza with tomato and cheese, Price: $12.99\n",
      "Pasta - Spaghetti with tomato sauce, Price: $9.99\n"
     ]
    }
   ],
   "source": [
    "class Ingredient:\n",
    "    def __init__(self, name, quantity):\n",
    "        self.name = name\n",
    "        self.quantity = quantity\n",
    "\n",
    "    def __str__(self):\n",
    "        return f\"{self.name}: {self.quantity}\"\n",
    "\n",
    "class Dish:\n",
    "    def __init__(self, name, description, price, ingredients):\n",
    "        self.name = name\n",
    "        self.description = description\n",
    "        self.price = price\n",
    "        self.ingredients = ingredients\n",
    "\n",
    "    def __str__(self):\n",
    "        return f\"{self.name} - {self.description}, Price: ${self.price}\"\n",
    "\n",
    "class Menu:\n",
    "    def __init__(self, name):\n",
    "        self.name = name\n",
    "        self.dishes = []\n",
    "\n",
    "    def add_dish(self, dish):\n",
    "        self.dishes.append(dish)\n",
    "\n",
    "    def remove_dish(self, dish):\n",
    "        if dish in self.dishes:\n",
    "            self.dishes.remove(dish)\n",
    "\n",
    "    def __str__(self):\n",
    "        menu_info = f\"Menu: {self.name}\\n\"\n",
    "        menu_info += \"\\n\".join([str(dish) for dish in self.dishes])\n",
    "        return menu_info\n",
    "\n",
    "class Restaurant:\n",
    "    def __init__(self, name):\n",
    "        self.name = name\n",
    "        self.menus = []\n",
    "\n",
    "    def add_menu(self, menu):\n",
    "        self.menus.append(menu)\n",
    "\n",
    "    def remove_menu(self, menu):\n",
    "        if menu in self.menus:\n",
    "            self.menus.remove(menu)\n",
    "\n",
    "    def __str__(self):\n",
    "        restaurant_info = f\"Restaurant: {self.name}\\n\"\n",
    "        restaurant_info += \"\\n\".join([str(menu) for menu in self.menus])\n",
    "        return restaurant_info\n",
    "\n",
    "# Example usage:\n",
    "if __name__ == \"__main__\":\n",
    "    ingredient1 = Ingredient(\"Tomato\", 10)\n",
    "    ingredient2 = Ingredient(\"Cheese\", 5)\n",
    "    ingredient3 = Ingredient(\"Dough\", 20)\n",
    "\n",
    "    pizza = Dish(\"Pizza\", \"Delicious pizza with tomato and cheese\", 12.99, [ingredient1, ingredient2, ingredient3])\n",
    "    pasta = Dish(\"Pasta\", \"Spaghetti with tomato sauce\", 9.99, [ingredient1, ingredient3])\n",
    "\n",
    "    menu1 = Menu(\"Italian Cuisine\")\n",
    "    menu1.add_dish(pizza)\n",
    "    menu1.add_dish(pasta)\n",
    "\n",
    "    restaurant = Restaurant(\"Tasty Bites\")\n",
    "    restaurant.add_menu(menu1)\n",
    "\n",
    "    print(restaurant)\n"
   ]
  },
  {
   "cell_type": "markdown",
   "id": "da366a6b",
   "metadata": {},
   "source": [
    "15. Explain how composition enhances code maintainability and modularity in Python programs."
   ]
  },
  {
   "cell_type": "code",
   "execution_count": 79,
   "id": "7cb8d7d8",
   "metadata": {},
   "outputs": [
    {
     "data": {
      "text/plain": [
       "'\\nComposition is often preferred over inheritance because it provides more flexibility and reusability in code. Composition \\nenables creating complex objects by combining simpler objects. It is a fundamental concept of Object-Oriented Programming\\nthat models a has-a relationship between classes. Composition allows creating objects that contain other objects, \\nwhich makes the code more modular and easier to maintain.\\n\\nHere are some ways in which composition enhances code maintainability and modularity in Python programs:\\n\\nCode Reusability: Composition enables creating objects that contain other objects, which makes it easier to reuse code. \\nThis means that we can create a library of reusable components that can be used in different parts of our codebase. \\nThis makes the code more modular and easier to maintain.\\n\\nFlexibility: Composition allows creating complex objects by combining simpler objects. This means that we can change\\nthe behavior of an object at runtime by replacing its components with other objects. This makes the code more flexible\\nand easier to maintain.\\n\\nLoose Coupling: Composition creates a has-a relationship between classes, which is a looser coupling than the is-a \\nrelationship created by inheritance. This means that changes made to one class do not affect other classes in the system.\\n\\nEasier Testing: Composition makes it easier to test individual components of a system because each component can be tested \\nindependently of the others. This makes it easier to identify and fix bugs in the system.\\n\\nAvoiding Method Name Clashes: Inheritance can lead to method name clashes when two or more classes have methods with the same\\nname. Composition avoids this problem because each object has its own namespace, which prevents method name clashes.\\n'"
      ]
     },
     "execution_count": 79,
     "metadata": {},
     "output_type": "execute_result"
    }
   ],
   "source": [
    "\"\"\"\n",
    "Composition is often preferred over inheritance because it provides more flexibility and reusability in code. Composition \n",
    "enables creating complex objects by combining simpler objects. It is a fundamental concept of Object-Oriented Programming\n",
    "that models a has-a relationship between classes. Composition allows creating objects that contain other objects, \n",
    "which makes the code more modular and easier to maintain.\n",
    "\n",
    "Here are some ways in which composition enhances code maintainability and modularity in Python programs:\n",
    "\n",
    "Code Reusability: Composition enables creating objects that contain other objects, which makes it easier to reuse code. \n",
    "This means that we can create a library of reusable components that can be used in different parts of our codebase. \n",
    "This makes the code more modular and easier to maintain.\n",
    "\n",
    "Flexibility: Composition allows creating complex objects by combining simpler objects. This means that we can change\n",
    "the behavior of an object at runtime by replacing its components with other objects. This makes the code more flexible\n",
    "and easier to maintain.\n",
    "\n",
    "Loose Coupling: Composition creates a has-a relationship between classes, which is a looser coupling than the is-a \n",
    "relationship created by inheritance. This means that changes made to one class do not affect other classes in the system.\n",
    "\n",
    "Easier Testing: Composition makes it easier to test individual components of a system because each component can be tested \n",
    "independently of the others. This makes it easier to identify and fix bugs in the system.\n",
    "\n",
    "Avoiding Method Name Clashes: Inheritance can lead to method name clashes when two or more classes have methods with the same\n",
    "name. Composition avoids this problem because each object has its own namespace, which prevents method name clashes.\n",
    "\"\"\""
   ]
  },
  {
   "cell_type": "markdown",
   "id": "f26da87a",
   "metadata": {},
   "source": [
    "16. Create a Python class for a computer game character, using composition to represent attributes like\n",
    "weapons, armor, and inventory."
   ]
  },
  {
   "cell_type": "code",
   "execution_count": 80,
   "id": "9d565e13",
   "metadata": {},
   "outputs": [
    {
     "name": "stdout",
     "output_type": "stream",
     "text": [
      "Character: Hero, Level: 1, Health: 100\n",
      "Equipped Weapon: Weapon: Sword, Damage: 20\n",
      "Equipped Armor: Armor: Shield, Defense: 10\n",
      "Inventory:\n",
      "Inventory Item: Health Potion, Quantity: 5\n"
     ]
    }
   ],
   "source": [
    "class Weapon:\n",
    "    def __init__(self, name, damage):\n",
    "        self.name = name\n",
    "        self.damage = damage\n",
    "\n",
    "    def __str__(self):\n",
    "        return f\"Weapon: {self.name}, Damage: {self.damage}\"\n",
    "\n",
    "class Armor:\n",
    "    def __init__(self, name, defense):\n",
    "        self.name = name\n",
    "        self.defense = defense\n",
    "\n",
    "    def __str__(self):\n",
    "        return f\"Armor: {self.name}, Defense: {self.defense}\"\n",
    "\n",
    "class InventoryItem:\n",
    "    def __init__(self, name, quantity):\n",
    "        self.name = name\n",
    "        self.quantity = quantity\n",
    "\n",
    "    def __str__(self):\n",
    "        return f\"Inventory Item: {self.name}, Quantity: {self.quantity}\"\n",
    "\n",
    "class GameCharacter:\n",
    "    def __init__(self, name, health, level):\n",
    "        self.name = name\n",
    "        self.health = health\n",
    "        self.level = level\n",
    "        self.weapon = None\n",
    "        self.armor = None\n",
    "        self.inventory = []\n",
    "\n",
    "    def equip_weapon(self, weapon):\n",
    "        self.weapon = weapon\n",
    "\n",
    "    def equip_armor(self, armor):\n",
    "        self.armor = armor\n",
    "\n",
    "    def add_to_inventory(self, item):\n",
    "        self.inventory.append(item)\n",
    "\n",
    "    def __str__(self):\n",
    "        character_info = f\"Character: {self.name}, Level: {self.level}, Health: {self.health}\\n\"\n",
    "        if self.weapon:\n",
    "            character_info += f\"Equipped Weapon: {self.weapon}\\n\"\n",
    "        if self.armor:\n",
    "            character_info += f\"Equipped Armor: {self.armor}\\n\"\n",
    "        character_info += \"Inventory:\\n\"\n",
    "        character_info += \"\\n\".join([str(item) for item in self.inventory])\n",
    "        return character_info\n",
    "\n",
    "# Example usage:\n",
    "if __name__ == \"__main__\":\n",
    "    sword = Weapon(\"Sword\", 20)\n",
    "    shield = Armor(\"Shield\", 10)\n",
    "    potion = InventoryItem(\"Health Potion\", 5)\n",
    "\n",
    "    character = GameCharacter(\"Hero\", 100, 1)\n",
    "    character.equip_weapon(sword)\n",
    "    character.equip_armor(shield)\n",
    "    character.add_to_inventory(potion)\n",
    "\n",
    "    print(character)\n"
   ]
  },
  {
   "cell_type": "markdown",
   "id": "03604cbd",
   "metadata": {},
   "source": [
    "17. Describe the concept of \"aggregation\" in composition and how it differs from simple composition."
   ]
  },
  {
   "cell_type": "code",
   "execution_count": 82,
   "id": "653d5448",
   "metadata": {},
   "outputs": [
    {
     "name": "stdout",
     "output_type": "stream",
     "text": [
      "Computer Science students:\n",
      "Rajesh (101)\n",
      "Chintu (102)\n",
      "Electronics students:\n",
      "RB (103)\n"
     ]
    }
   ],
   "source": [
    "\"\"\"\n",
    "\n",
    "In composition, aggregation is a special form of composition where one object is composed of one or more other objects. \n",
    "It is a way of building complex objects from simpler ones. Aggregation represents a has-a relationship between classes, \n",
    "where the containing class has a reference to the contained object.\n",
    "\n",
    "Aggregation differs from simple composition in that the contained object can exist independently of the containing object.\n",
    "This means that the contained object can be shared by multiple containing objects. In simple composition, the contained \n",
    "object cannot exist independently of the containing object.\n",
    "\n",
    "\"\"\"\n",
    "\n",
    "#Example:\n",
    "\n",
    "class Department:\n",
    "    def __init__(self, name):\n",
    "        self.name = name\n",
    "        self.students = []\n",
    "\n",
    "    def add_student(self, student):\n",
    "        self.students.append(student)\n",
    "\n",
    "class Student:\n",
    "    def __init__(self, name, id):\n",
    "        self.name = name\n",
    "        self.id = id\n",
    "\n",
    "dept1 = Department('Computer Science')\n",
    "dept2 = Department('Electronics')\n",
    "\n",
    "student1 = Student('Rajesh', 101)\n",
    "student2 = Student('Chintu', 102)\n",
    "student3 = Student('RB', 103)\n",
    "\n",
    "dept1.add_student(student1)\n",
    "dept1.add_student(student2)\n",
    "dept2.add_student(student3)\n",
    "\n",
    "print(f'{dept1.name} students:')\n",
    "for student in dept1.students:\n",
    "    print(f'{student.name} ({student.id})')\n",
    "\n",
    "print(f'{dept2.name} students:')\n",
    "for student in dept2.students:\n",
    "    print(f'{student.name} ({student.id})')\n"
   ]
  },
  {
   "cell_type": "markdown",
   "id": "a23e0ce0",
   "metadata": {},
   "source": [
    "18. Create a Python class for a house, using composition to represent rooms, furniture, and appliances."
   ]
  },
  {
   "cell_type": "code",
   "execution_count": 83,
   "id": "5b82c314",
   "metadata": {},
   "outputs": [
    {
     "name": "stdout",
     "output_type": "stream",
     "text": [
      "House: My Dream House\n",
      "Room: Living Room - Area: 250 sq. ft\n",
      "Furniture:\n",
      "Furniture: Sofa - Comfortable three-seater\n",
      "Appliances:\n",
      "\n",
      "Room: Dining Room - Area: 150 sq. ft\n",
      "Furniture:\n",
      "Furniture: Dining Table - Wooden table with six chairs\n",
      "Appliances:\n",
      "\n",
      "Room: Kitchen - Area: 200 sq. ft\n",
      "Furniture:\n",
      "\n",
      "Appliances:\n",
      "Appliance: Refrigerator - Power Consumption: 150 watts\n",
      "Appliance: Microwave - Power Consumption: 1200 watts\n"
     ]
    }
   ],
   "source": [
    "class Furniture:\n",
    "    def __init__(self, name, description):\n",
    "        self.name = name\n",
    "        self.description = description\n",
    "\n",
    "    def __str__(self):\n",
    "        return f\"Furniture: {self.name} - {self.description}\"\n",
    "\n",
    "class Appliance:\n",
    "    def __init__(self, name, power_consumption):\n",
    "        self.name = name\n",
    "        self.power_consumption = power_consumption\n",
    "\n",
    "    def __str__(self):\n",
    "        return f\"Appliance: {self.name} - Power Consumption: {self.power_consumption} watts\"\n",
    "\n",
    "class Room:\n",
    "    def __init__(self, name, area):\n",
    "        self.name = name\n",
    "        self.area = area\n",
    "        self.furniture = []\n",
    "        self.appliances = []\n",
    "\n",
    "    def add_furniture(self, furniture):\n",
    "        self.furniture.append(furniture)\n",
    "\n",
    "    def add_appliance(self, appliance):\n",
    "        self.appliances.append(appliance)\n",
    "\n",
    "    def __str__(self):\n",
    "        room_info = f\"Room: {self.name} - Area: {self.area} sq. ft\\n\"\n",
    "        room_info += \"Furniture:\\n\"\n",
    "        room_info += \"\\n\".join([str(item) for item in self.furniture])\n",
    "        room_info += \"\\nAppliances:\\n\"\n",
    "        room_info += \"\\n\".join([str(item) for item in self.appliances])\n",
    "        return room_info\n",
    "\n",
    "class House:\n",
    "    def __init__(self, name):\n",
    "        self.name = name\n",
    "        self.rooms = []\n",
    "\n",
    "    def add_room(self, room):\n",
    "        self.rooms.append(room)\n",
    "\n",
    "    def __str__(self):\n",
    "        house_info = f\"House: {self.name}\\n\"\n",
    "        house_info += \"\\n\".join([str(room) for room in self.rooms])\n",
    "        return house_info\n",
    "\n",
    "# Example usage:\n",
    "if __name__ == \"__main__\":\n",
    "    living_room = Room(\"Living Room\", 250)\n",
    "    dining_room = Room(\"Dining Room\", 150)\n",
    "    kitchen = Room(\"Kitchen\", 200)\n",
    "\n",
    "    sofa = Furniture(\"Sofa\", \"Comfortable three-seater\")\n",
    "    dining_table = Furniture(\"Dining Table\", \"Wooden table with six chairs\")\n",
    "    refrigerator = Appliance(\"Refrigerator\", 150)\n",
    "    microwave = Appliance(\"Microwave\", 1200)\n",
    "\n",
    "    living_room.add_furniture(sofa)\n",
    "    dining_room.add_furniture(dining_table)\n",
    "    kitchen.add_appliance(refrigerator)\n",
    "    kitchen.add_appliance(microwave)\n",
    "\n",
    "    my_house = House(\"My Dream House\")\n",
    "    my_house.add_room(living_room)\n",
    "    my_house.add_room(dining_room)\n",
    "    my_house.add_room(kitchen)\n",
    "\n",
    "    print(my_house)\n"
   ]
  },
  {
   "cell_type": "markdown",
   "id": "1db3d941",
   "metadata": {},
   "source": [
    "19. How can you achieve flexibility in composed objects by allowing them to be replaced or modified\n",
    "dynamically at runtime?"
   ]
  },
  {
   "cell_type": "code",
   "execution_count": 84,
   "id": "5d0a82fe",
   "metadata": {},
   "outputs": [
    {
     "name": "stdout",
     "output_type": "stream",
     "text": [
      "Composite class m2() method executed...\n",
      "ComponentA class m1() method executed...\n",
      "Composite class m2() method executed...\n",
      "ComponentB class m1() method executed...\n"
     ]
    }
   ],
   "source": [
    "\"\"\"\n",
    "\n",
    "In Python, we can achieve flexibility in composed objects by allowing them to be replaced or modified dynamically at runtime.\n",
    "This can be done by using polymorphism and interfaces.\n",
    "\n",
    "Polymorphism is the ability of an object to take on many forms. In Python, we can use polymorphism to create objects that \n",
    "can be replaced or modified dynamically at runtime. By creating objects that implement the same interface, we can replace or \n",
    "modify objects at runtime without affecting the rest of the system.\n",
    "\n",
    "Interfaces are a way of defining a set of methods that a class must implement. In Python, we can define an interface using \n",
    "an abstract base class. By creating objects that implement the same interface, we can replace or modify objects at runtime \n",
    "without affecting the rest of the system.\n",
    "\n",
    "\"\"\"\n",
    "\n",
    "#Example:\n",
    "\n",
    "from abc import ABC, abstractmethod\n",
    "\n",
    "class Component(ABC):\n",
    "    @abstractmethod\n",
    "    def m1(self):\n",
    "        pass\n",
    "\n",
    "class ComponentA(Component):\n",
    "    def m1(self):\n",
    "        print('ComponentA class m1() method executed...')\n",
    "\n",
    "class ComponentB(Component):\n",
    "    def m1(self):\n",
    "        print('ComponentB class m1() method executed...')\n",
    "\n",
    "class Composite:\n",
    "    def __init__(self, obj):\n",
    "        self.obj = obj\n",
    "        \n",
    "    def m2(self):\n",
    "        print('Composite class m2() method executed...')\n",
    "        self.obj.m1()\n",
    "\n",
    "obj1 = ComponentA()\n",
    "obj2 = ComponentB()\n",
    "\n",
    "composite1 = Composite(obj1)\n",
    "composite2 = Composite(obj2)\n",
    "\n",
    "composite1.m2()\n",
    "composite2.m2()\n"
   ]
  },
  {
   "cell_type": "markdown",
   "id": "3387dc40",
   "metadata": {},
   "source": [
    "20. Create a Python class for a social media application, using composition to represent users, posts, and\n",
    "comments."
   ]
  },
  {
   "cell_type": "code",
   "execution_count": 85,
   "id": "40903d5c",
   "metadata": {},
   "outputs": [
    {
     "name": "stdout",
     "output_type": "stream",
     "text": [
      "Social Media App: MySocialApp\n",
      "User: Rajesh (@rajesh_behera)\n",
      "Posts:\n",
      "Rajesh posted:\n",
      "Hello, world!\n",
      "Comments:\n",
      "Chintu: Nice post!\n",
      "Rajesh posted:\n",
      "This is a test post.\n",
      "\n",
      "User: Chintu (@chintu_behera)\n",
      "Posts:\n",
      "Chintu posted:\n",
      "Testing out the new app.\n",
      "\n"
     ]
    }
   ],
   "source": [
    "class Comment:\n",
    "    def __init__(self, user, content):\n",
    "        self.user = user\n",
    "        self.content = content\n",
    "\n",
    "    def __str__(self):\n",
    "        return f\"{self.user}: {self.content}\"\n",
    "\n",
    "class Post:\n",
    "    def __init__(self, user, content):\n",
    "        self.user = user\n",
    "        self.content = content\n",
    "        self.comments = []\n",
    "\n",
    "    def add_comment(self, comment):\n",
    "        self.comments.append(comment)\n",
    "\n",
    "    def __str__(self):\n",
    "        post_info = f\"{self.user} posted:\\n{self.content}\\n\"\n",
    "        if self.comments:\n",
    "            post_info += \"Comments:\\n\"\n",
    "            post_info += \"\\n\".join([str(comment) for comment in self.comments])\n",
    "        return post_info\n",
    "\n",
    "class User:\n",
    "    def __init__(self, username, display_name):\n",
    "        self.username = username\n",
    "        self.display_name = display_name\n",
    "        self.posts = []\n",
    "\n",
    "    def create_post(self, content):\n",
    "        post = Post(self.display_name, content)\n",
    "        self.posts.append(post)\n",
    "\n",
    "    def __str__(self):\n",
    "        user_info = f\"User: {self.display_name} (@{self.username})\\n\"\n",
    "        if self.posts:\n",
    "            user_info += \"Posts:\\n\"\n",
    "            user_info += \"\\n\".join([str(post) for post in self.posts])\n",
    "        return user_info\n",
    "\n",
    "class SocialMediaApp:\n",
    "    def __init__(self, name):\n",
    "        self.name = name\n",
    "        self.users = []\n",
    "\n",
    "    def add_user(self, user):\n",
    "        self.users.append(user)\n",
    "\n",
    "    def __str__(self):\n",
    "        app_info = f\"Social Media App: {self.name}\\n\"\n",
    "        app_info += \"\\n\".join([str(user) for user in self.users])\n",
    "        return app_info\n",
    "\n",
    "# Example usage:\n",
    "if __name__ == \"__main__\":\n",
    "    user1 = User(\"rajesh_behera\", \"Rajesh\")\n",
    "    user2 = User(\"chintu_behera\", \"Chintu\")\n",
    "\n",
    "    user1.create_post(\"Hello, world!\")\n",
    "    user2.create_post(\"Testing out the new app.\")\n",
    "    user1.create_post(\"This is a test post.\")\n",
    "    \n",
    "    comment1 = Comment(user2.display_name, \"Nice post!\")\n",
    "    user1.posts[0].add_comment(comment1)\n",
    "\n",
    "    my_social_media = SocialMediaApp(\"MySocialApp\")\n",
    "    my_social_media.add_user(user1)\n",
    "    my_social_media.add_user(user2)\n",
    "\n",
    "    print(my_social_media)\n"
   ]
  },
  {
   "cell_type": "code",
   "execution_count": null,
   "id": "ba81fa6a",
   "metadata": {},
   "outputs": [],
   "source": []
  }
 ],
 "metadata": {
  "kernelspec": {
   "display_name": "Python 3 (ipykernel)",
   "language": "python",
   "name": "python3"
  },
  "language_info": {
   "codemirror_mode": {
    "name": "ipython",
    "version": 3
   },
   "file_extension": ".py",
   "mimetype": "text/x-python",
   "name": "python",
   "nbconvert_exporter": "python",
   "pygments_lexer": "ipython3",
   "version": "3.9.12"
  }
 },
 "nbformat": 4,
 "nbformat_minor": 5
}
