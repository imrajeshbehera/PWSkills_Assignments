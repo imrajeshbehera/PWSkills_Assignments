{
 "cells": [
  {
   "cell_type": "markdown",
   "id": "902d9bce",
   "metadata": {},
   "source": [
    "# For Loop :-"
   ]
  },
  {
   "cell_type": "markdown",
   "id": "6181b5d6",
   "metadata": {},
   "source": [
    "1. Write a Python program to print numbers from 1 to 10 using a for loop."
   ]
  },
  {
   "cell_type": "code",
   "execution_count": 1,
   "id": "06302344",
   "metadata": {},
   "outputs": [
    {
     "name": "stdout",
     "output_type": "stream",
     "text": [
      "1\n",
      "2\n",
      "3\n",
      "4\n",
      "5\n",
      "6\n",
      "7\n",
      "8\n",
      "9\n",
      "10\n"
     ]
    }
   ],
   "source": [
    "for i in range(1, 11):\n",
    "    print(i)"
   ]
  },
  {
   "cell_type": "markdown",
   "id": "b101b56a",
   "metadata": {},
   "source": [
    "2. Explain the difference between a for loop and a while loop in Python."
   ]
  },
  {
   "cell_type": "code",
   "execution_count": 2,
   "id": "8b1d2b22",
   "metadata": {},
   "outputs": [
    {
     "data": {
      "text/plain": [
       "'\\n== A for loop is used when the number of iterations is known in advance and when iterating over a sequence.\\n== A while loop is used when the number of iterations is unknown or when the loop needs to continue until a certain condition is met.\\n'"
      ]
     },
     "execution_count": 2,
     "metadata": {},
     "output_type": "execute_result"
    }
   ],
   "source": [
    "'''\n",
    "== A for loop is used when the number of iterations is known in advance and when iterating over a sequence.\n",
    "== A while loop is used when the number of iterations is unknown or when the loop needs to continue until a certain condition is met.\n",
    "'''"
   ]
  },
  {
   "cell_type": "markdown",
   "id": "3f4aa557",
   "metadata": {},
   "source": [
    "3. Write a Python program to calculate the sum of all numbers from 1 to 100 using a for loop."
   ]
  },
  {
   "cell_type": "code",
   "execution_count": 3,
   "id": "92fd7145",
   "metadata": {},
   "outputs": [
    {
     "name": "stdout",
     "output_type": "stream",
     "text": [
      "The sum of all numbers from 1 to 100 is: 5050\n"
     ]
    }
   ],
   "source": [
    "total = 0\n",
    "for num in range(1, 101):\n",
    "    total += num\n",
    "\n",
    "print(\"The sum of all numbers from 1 to 100 is:\", total)\n"
   ]
  },
  {
   "cell_type": "markdown",
   "id": "f30dd6fb",
   "metadata": {},
   "source": [
    "4. How do you iterate through a list using a for loop in Python?"
   ]
  },
  {
   "cell_type": "code",
   "execution_count": 4,
   "id": "39ab19a5",
   "metadata": {},
   "outputs": [
    {
     "name": "stdout",
     "output_type": "stream",
     "text": [
      "1\n",
      "2\n",
      "3\n",
      "4\n",
      "5\n"
     ]
    }
   ],
   "source": [
    "my_list = [1, 2, 3, 4, 5]\n",
    "for item in my_list:\n",
    "    print(item)\n"
   ]
  },
  {
   "cell_type": "markdown",
   "id": "3307b0e8",
   "metadata": {},
   "source": [
    "5. Write a Python program to find the product of all elements in a list using a for loop"
   ]
  },
  {
   "cell_type": "code",
   "execution_count": 5,
   "id": "763f8981",
   "metadata": {},
   "outputs": [
    {
     "name": "stdout",
     "output_type": "stream",
     "text": [
      "The product of all elements in the list is: 120\n"
     ]
    }
   ],
   "source": [
    "def multiply_list(my_list):\n",
    "    result = 1\n",
    "    for x in my_list:\n",
    "        result *= x\n",
    "    return result\n",
    "\n",
    "# Example usage\n",
    "list1 = [1, 2, 3, 4, 5]\n",
    "product = multiply_list(list1)\n",
    "print(\"The product of all elements in the list is:\", product)\n"
   ]
  },
  {
   "cell_type": "markdown",
   "id": "87e7da77",
   "metadata": {},
   "source": [
    "6. Create a Python program that prints all even numbers from 1 to 20 using a for loop."
   ]
  },
  {
   "cell_type": "code",
   "execution_count": 6,
   "id": "bae1e9c8",
   "metadata": {},
   "outputs": [
    {
     "name": "stdout",
     "output_type": "stream",
     "text": [
      "Even numbers from 1 to 20:\n",
      "2 4 6 8 10 12 14 16 18 20 "
     ]
    }
   ],
   "source": [
    "print('Even numbers from 1 to 20:')\n",
    "for num in range(2, 21, 2):\n",
    "    print(num, end=' ')\n"
   ]
  },
  {
   "cell_type": "markdown",
   "id": "49eef8b4",
   "metadata": {},
   "source": [
    "7. Write a Python program that calculates the factorial of a number using a for loop.\n"
   ]
  },
  {
   "cell_type": "code",
   "execution_count": 13,
   "id": "cb689659",
   "metadata": {},
   "outputs": [
    {
     "name": "stdout",
     "output_type": "stream",
     "text": [
      "Enter n:5\n",
      "Factorial of 5 is:120\n"
     ]
    }
   ],
   "source": [
    "n = int(input(\"Enter n:\")) \n",
    "fact = 1 \n",
    "for i in range(2, n+1): \n",
    "    fact *= i \n",
    "print(\"Factorial of {} is:{}\".format(n, fact)) "
   ]
  },
  {
   "cell_type": "markdown",
   "id": "552fe8cf",
   "metadata": {},
   "source": [
    "8. How can you iterate through the characters of a string using a for loop in Python?\n"
   ]
  },
  {
   "cell_type": "code",
   "execution_count": 8,
   "id": "e7aa7bd1",
   "metadata": {},
   "outputs": [
    {
     "name": "stdout",
     "output_type": "stream",
     "text": [
      "R\n",
      "a\n",
      "j\n",
      "e\n",
      "s\n",
      "h\n",
      " \n",
      "B\n",
      "e\n",
      "h\n",
      "e\n",
      "r\n",
      "a\n"
     ]
    }
   ],
   "source": [
    "my_string = \"Rajesh Behera\"\n",
    "for char in my_string:\n",
    "    print(char)"
   ]
  },
  {
   "cell_type": "markdown",
   "id": "8d9b64f7",
   "metadata": {},
   "source": [
    "9. Write a Python program to find the largest number in a list using a for loop.\n"
   ]
  },
  {
   "cell_type": "code",
   "execution_count": 10,
   "id": "4aff53dd",
   "metadata": {},
   "outputs": [
    {
     "name": "stdout",
     "output_type": "stream",
     "text": [
      "99\n"
     ]
    }
   ],
   "source": [
    "#initialize list\n",
    "lst = [20, 49, 1, 99]\n",
    "\n",
    "largest = lst[0]\n",
    "\n",
    "for i in lst:\n",
    "    if i>largest:\n",
    "        largest = i\n",
    "\n",
    "print(largest)"
   ]
  },
  {
   "cell_type": "markdown",
   "id": "25ed1510",
   "metadata": {},
   "source": [
    "10. Create a Python program that prints the Fibonacci sequence up to a specified limit using a for loop.\n"
   ]
  },
  {
   "cell_type": "code",
   "execution_count": 16,
   "id": "32024419",
   "metadata": {},
   "outputs": [
    {
     "name": "stdout",
     "output_type": "stream",
     "text": [
      "0\n",
      "1\n",
      "1\n",
      "2\n",
      "3\n",
      "5\n",
      "8\n",
      "13\n",
      "21\n",
      "34\n",
      "55\n",
      "89\n",
      "144\n",
      "233\n",
      "377\n",
      "610\n"
     ]
    }
   ],
   "source": [
    "first = 0\n",
    "second = 1\n",
    "print(first)\n",
    "print(second)\n",
    "for x in range(1,15):\n",
    "    third = first + second\n",
    "    print(third)\n",
    "    first,second=second,third"
   ]
  },
  {
   "cell_type": "markdown",
   "id": "a6a360db",
   "metadata": {},
   "source": [
    "11. Write a Python program to count the number of vowels in a given string using a for loop.\n"
   ]
  },
  {
   "cell_type": "code",
   "execution_count": 17,
   "id": "b08c619e",
   "metadata": {},
   "outputs": [
    {
     "name": "stdout",
     "output_type": "stream",
     "text": [
      "5\n"
     ]
    }
   ],
   "source": [
    "string = \"RajeshBehera\"\n",
    "vowels = \"aeiouAEIOU\"\n",
    " \n",
    "count = sum(string.count(vowel) for vowel in vowels)\n",
    "print(count)"
   ]
  },
  {
   "cell_type": "markdown",
   "id": "96638860",
   "metadata": {},
   "source": [
    "12. Create a Python program that generates a multiplication table for a given number using a for loop."
   ]
  },
  {
   "cell_type": "code",
   "execution_count": 20,
   "id": "32954307",
   "metadata": {},
   "outputs": [
    {
     "name": "stdout",
     "output_type": "stream",
     "text": [
      "Enter a number: 3\n",
      "3  *  1  =  3\n",
      "3  *  2  =  6\n",
      "3  *  3  =  9\n",
      "3  *  4  =  12\n",
      "3  *  5  =  15\n",
      "3  *  6  =  18\n",
      "3  *  7  =  21\n",
      "3  *  8  =  24\n",
      "3  *  9  =  27\n",
      "3  *  10  =  30\n"
     ]
    }
   ],
   "source": [
    "TableOfNumber = int(input(\"Enter a number: \"))\n",
    "TableRange = range(1,11)\n",
    "for x in TableRange:\n",
    "    result = TableOfNumber * x\n",
    "    print(TableOfNumber,\" * \",x,\" = \",result)"
   ]
  },
  {
   "cell_type": "markdown",
   "id": "47cae288",
   "metadata": {},
   "source": [
    "13. Write a Python program to reverse a list using a for loop."
   ]
  },
  {
   "cell_type": "code",
   "execution_count": 23,
   "id": "5115e7af",
   "metadata": {},
   "outputs": [
    {
     "name": "stdout",
     "output_type": "stream",
     "text": [
      "[5, 4, 3, 2, 1]\n"
     ]
    }
   ],
   "source": [
    "original_list = [1, 2, 3, 4, 5]\n",
    "reversed_list = []\n",
    "for value in original_list:\n",
    "  reversed_list = [value] + reversed_list\n",
    "print(reversed_list)"
   ]
  },
  {
   "cell_type": "markdown",
   "id": "bd5ecbf5",
   "metadata": {},
   "source": [
    "14. Write a Python program to find the common elements between two lists using a for loop.\n"
   ]
  },
  {
   "cell_type": "code",
   "execution_count": 24,
   "id": "5738d89f",
   "metadata": {},
   "outputs": [
    {
     "name": "stdout",
     "output_type": "stream",
     "text": [
      "The common elements between the two lists are: [4, 5]\n"
     ]
    }
   ],
   "source": [
    "# Python program to find the common elements between two lists using a for loop\n",
    "def find_common_elements(list1, list2):\n",
    "    common_elements = []\n",
    "    for item in list1:\n",
    "        if item in list2:\n",
    "            common_elements.append(item)\n",
    "    return common_elements\n",
    "\n",
    "# Example usage\n",
    "list1 = [1, 2, 3, 4, 5]\n",
    "list2 = [4, 5, 6, 7, 8]\n",
    "common_elements = find_common_elements(list1, list2)\n",
    "print(\"The common elements between the two lists are:\", common_elements)\n"
   ]
  },
  {
   "cell_type": "markdown",
   "id": "be7535cd",
   "metadata": {},
   "source": [
    "15. Explain how to use a for loop to iterate through the keys and values of a dictionary in Python."
   ]
  },
  {
   "cell_type": "code",
   "execution_count": 25,
   "id": "ba680b70",
   "metadata": {},
   "outputs": [
    {
     "name": "stdout",
     "output_type": "stream",
     "text": [
      "apple 1\n",
      "banana 2\n",
      "cherry 3\n"
     ]
    }
   ],
   "source": [
    "# Example of iterating through the keys and values of a dictionary using a for loop\n",
    "my_dict = {'apple': 1, 'banana': 2, 'cherry': 3}\n",
    "for key, value in my_dict.items():\n",
    "    print(key, value)\n"
   ]
  },
  {
   "cell_type": "markdown",
   "id": "fae9db73",
   "metadata": {},
   "source": [
    "16. Write a Python program to find the GCD (Greatest Common Divisor) of two numbers using a for loop."
   ]
  },
  {
   "cell_type": "code",
   "execution_count": 26,
   "id": "e5c68f4b",
   "metadata": {},
   "outputs": [
    {
     "name": "stdout",
     "output_type": "stream",
     "text": [
      "GCD of 36 and 60 is 12\n"
     ]
    }
   ],
   "source": [
    "num1 = 36\n",
    "num2 = 60\n",
    "gcd = 1\n",
    "\n",
    "for i in range(1, min(num1, num2)):\n",
    "    if num1 % i == 0 and num2 % i == 0:\n",
    "        gcd = i\n",
    "print(\"GCD of\", num1, \"and\", num2, \"is\", gcd)"
   ]
  },
  {
   "cell_type": "markdown",
   "id": "6468bf79",
   "metadata": {},
   "source": [
    "17. Create a Python program that checks if a string is a palindrome using a for loop."
   ]
  },
  {
   "cell_type": "code",
   "execution_count": 27,
   "id": "18c056e0",
   "metadata": {},
   "outputs": [
    {
     "name": "stdout",
     "output_type": "stream",
     "text": [
      "No\n"
     ]
    }
   ],
   "source": [
    "def PalindromeCheck(str):\n",
    "\n",
    "    for i in range(0, int(len(str)/2)):\n",
    "        if str[i] != str[len(str)-i-1]:\n",
    "            return False\n",
    "    return True\n",
    " \n",
    "# main function\n",
    "s = \"Chintu\"\n",
    "ans = PalindromeCheck(s)\n",
    " \n",
    "if (ans):\n",
    "    print(\"Yes\")\n",
    "else:\n",
    "    print(\"No\")"
   ]
  },
  {
   "cell_type": "markdown",
   "id": "b1d67e91",
   "metadata": {},
   "source": [
    "18. Write a Python program to remove duplicates from a list using a for loop.\n"
   ]
  },
  {
   "cell_type": "code",
   "execution_count": 29,
   "id": "027959a0",
   "metadata": {},
   "outputs": [
    {
     "name": "stdout",
     "output_type": "stream",
     "text": [
      "The list with duplicates removed: [1, 2, 3, 6, 5, 7, 8]\n"
     ]
    }
   ],
   "source": [
    "# Python program to remove duplicates from a list using a for loop\n",
    "def remove_duplicates(input_list):\n",
    "    unique_list = []\n",
    "    for item in input_list:\n",
    "        if item not in unique_list:\n",
    "            unique_list.append(item)\n",
    "    return unique_list\n",
    "\n",
    "# Example \n",
    "input_list = [1, 2, 3, 2, 6, 3, 5, 3, 7, 8]\n",
    "unique_list = remove_duplicates(input_list)\n",
    "print(\"The list with duplicates removed:\", unique_list)"
   ]
  },
  {
   "cell_type": "markdown",
   "id": "31d56d49",
   "metadata": {},
   "source": [
    "19. Create a Python program that counts the number of words in a sentence using a for loop"
   ]
  },
  {
   "cell_type": "code",
   "execution_count": 1,
   "id": "7a48f9c1",
   "metadata": {},
   "outputs": [
    {
     "name": "stdout",
     "output_type": "stream",
     "text": [
      "Please enter a sentence: Data science pro  course is easy to learn \n",
      "The number of words in the sentence is: 8\n"
     ]
    }
   ],
   "source": [
    "def count_words(sentence):\n",
    "    # Split the sentence into words\n",
    "    words = sentence.split()\n",
    "\n",
    "    # Count the number of words\n",
    "    count = 0\n",
    "    for word in words:\n",
    "        count += 1\n",
    "\n",
    "    return count\n",
    "\n",
    "# Example \n",
    "input_sentence = input(\"Please enter a sentence: \")\n",
    "word_count = count_words(input_sentence)\n",
    "print(\"The number of words in the sentence is:\", word_count)\n"
   ]
  },
  {
   "cell_type": "markdown",
   "id": "1294d7bb",
   "metadata": {},
   "source": [
    "20. Write a Python program to find the sum of all odd numbers from 1 to 50 using a for loop."
   ]
  },
  {
   "cell_type": "code",
   "execution_count": 2,
   "id": "b9613ead",
   "metadata": {},
   "outputs": [
    {
     "name": "stdout",
     "output_type": "stream",
     "text": [
      "The sum of all odd numbers from 1 to 50 is: 625\n"
     ]
    }
   ],
   "source": [
    "total = 0\n",
    "for num in range(1, 51):\n",
    "    if num % 2 != 0:\n",
    "        total += num\n",
    "\n",
    "print(\"The sum of all odd numbers from 1 to 50 is:\", total)\n"
   ]
  },
  {
   "cell_type": "markdown",
   "id": "04d91bfc",
   "metadata": {},
   "source": [
    "21. Write a Python program that checks if a given year is a leap year using a for loop.\n"
   ]
  },
  {
   "cell_type": "code",
   "execution_count": 3,
   "id": "c2fd5bf2",
   "metadata": {},
   "outputs": [
    {
     "name": "stdout",
     "output_type": "stream",
     "text": [
      "Enter year: 2024\n",
      "Given year is a leap year\n"
     ]
    }
   ],
   "source": [
    "# Function to check leap year\n",
    "def is_leap_year(year):\n",
    "    # Loop from 1 to 400\n",
    "    for i in range(1, 401):\n",
    "        # If year is divisible by 4,\n",
    "        # and not divisible by 100,\n",
    "        # or divisible by 400,\n",
    "        # then it is a leap year\n",
    "        if (year % 4 == 0 and year % 100 != 0 or year % 400 == 0):\n",
    "            return True\n",
    "        else:\n",
    "            return False\n",
    "\n",
    "# Driver code\n",
    "year = int(input(\"Enter year: \"))\n",
    "\n",
    "# Check if given year is leap year\n",
    "if is_leap_year(year):\n",
    "    print(\"Given year is a leap year\")\n",
    "else:\n",
    "    print(\"Given year is not a leap year\")"
   ]
  },
  {
   "cell_type": "markdown",
   "id": "96b81bcd",
   "metadata": {},
   "source": [
    "22. Create a Python program that calculates the square root of a number using a for loop."
   ]
  },
  {
   "cell_type": "code",
   "execution_count": 4,
   "id": "27b9fcf7",
   "metadata": {},
   "outputs": [
    {
     "name": "stdout",
     "output_type": "stream",
     "text": [
      "The square root of 16 is: 4.0\n"
     ]
    }
   ],
   "source": [
    "import math\n",
    "\n",
    "# Example of calculating the square root of a number\n",
    "number = 16\n",
    "square_root = math.sqrt(number)\n",
    "print(\"The square root of\", number, \"is:\", square_root)\n"
   ]
  },
  {
   "cell_type": "markdown",
   "id": "54dcead2",
   "metadata": {},
   "source": [
    "23. Write a Python program to find the LCM (Least Common Multiple) of two numbers using a for loop."
   ]
  },
  {
   "cell_type": "code",
   "execution_count": 5,
   "id": "d5dda7e7",
   "metadata": {},
   "outputs": [
    {
     "name": "stdout",
     "output_type": "stream",
     "text": [
      "LCM of 12 and 14 is 84\n"
     ]
    }
   ],
   "source": [
    "num1 = 12\n",
    "num2 = 14\n",
    "for i in range(max(num1, num2), 1 + (num1 * num2)):\n",
    "    if i % num1 == i % num2 == 0:\n",
    "        lcm = i\n",
    "        break\n",
    "print(\"LCM of\", num1, \"and\", num2, \"is\", lcm)"
   ]
  },
  {
   "cell_type": "markdown",
   "id": "632c6c92",
   "metadata": {},
   "source": [
    "#  If else :"
   ]
  },
  {
   "cell_type": "markdown",
   "id": "4b5596ba",
   "metadata": {},
   "source": [
    "1. Write a Python program to check if a number is positive, negative, or zero using an if-else statement.\n"
   ]
  },
  {
   "cell_type": "code",
   "execution_count": 6,
   "id": "dabffa72",
   "metadata": {},
   "outputs": [
    {
     "name": "stdout",
     "output_type": "stream",
     "text": [
      "Enter a number: -2\n",
      "Negative number\n"
     ]
    }
   ],
   "source": [
    "num = float(input(\"Enter a number: \"))\n",
    "if num > 0:\n",
    "    print(\"Positive number\")\n",
    "elif num == 0:\n",
    "    print(\"Zero\")\n",
    "else:\n",
    "    print(\"Negative number\")\n"
   ]
  },
  {
   "cell_type": "markdown",
   "id": "89d223f9",
   "metadata": {},
   "source": [
    "2. Create a Python program that checks if a given number is even or odd using an if-else statement."
   ]
  },
  {
   "cell_type": "code",
   "execution_count": 7,
   "id": "2390888a",
   "metadata": {},
   "outputs": [
    {
     "name": "stdout",
     "output_type": "stream",
     "text": [
      "Enter a number: 10\n",
      "The number 10 is even.\n"
     ]
    }
   ],
   "source": [
    "# Python program to check if a number is even or odd using an if-else statement\n",
    "num = int(input(\"Enter a number: \"))\n",
    "if num % 2 == 0:\n",
    "    print(f\"The number {num} is even.\")\n",
    "else:\n",
    "    print(f\"The number {num} is odd.\")\n"
   ]
  },
  {
   "cell_type": "markdown",
   "id": "2b140452",
   "metadata": {},
   "source": [
    "3. How can you use nested if-else statements in Python, and provide an example?\n"
   ]
  },
  {
   "cell_type": "code",
   "execution_count": 8,
   "id": "636c0acb",
   "metadata": {},
   "outputs": [
    {
     "name": "stdout",
     "output_type": "stream",
     "text": [
      "Positive number\n"
     ]
    }
   ],
   "source": [
    "'''\n",
    "Nested if-else statements in Python allow you to have an if statement \n",
    "inside another if statement. This is called nesting. \n",
    "Nested IF can have any number of these statements nested inside one another \n",
    "and indentation is used to determine the level of nesting\n",
    "'''\n",
    "#Example:\n",
    "# Python program to demonstrate nested if-else statements\n",
    "num = 15\n",
    "\n",
    "if num >= 0:\n",
    "    if num == 0:\n",
    "        print(\"Zero\")\n",
    "    else:\n",
    "        print(\"Positive number\")\n",
    "else:\n",
    "    print(\"Negative number\")\n"
   ]
  },
  {
   "cell_type": "markdown",
   "id": "041331ae",
   "metadata": {},
   "source": [
    "4. Write a Python program to determine the largest of three numbers using if-else.\n"
   ]
  },
  {
   "cell_type": "code",
   "execution_count": 9,
   "id": "51ce4bc2",
   "metadata": {},
   "outputs": [
    {
     "name": "stdout",
     "output_type": "stream",
     "text": [
      "The largest number is 14\n"
     ]
    }
   ],
   "source": [
    "num1 = 10\n",
    "num2 = 14\n",
    "num3 = 12\n",
    "\n",
    "if (num1 >= num2) and (num1 >= num3):\n",
    "    largest = num1\n",
    "elif (num2 >= num1) and (num2 >= num3):\n",
    "    largest = num2\n",
    "else:\n",
    "    largest = num3\n",
    "\n",
    "print(\"The largest number is\", largest)\n"
   ]
  },
  {
   "cell_type": "markdown",
   "id": "657c91ec",
   "metadata": {},
   "source": [
    "5. Write a Python program that calculates the absolute value of a number using if-else."
   ]
  },
  {
   "cell_type": "code",
   "execution_count": 10,
   "id": "bed600fc",
   "metadata": {},
   "outputs": [
    {
     "name": "stdout",
     "output_type": "stream",
     "text": [
      "The absolute value of -5 is: 5\n"
     ]
    }
   ],
   "source": [
    "# Python program to calculate the absolute value of a number using if-else\n",
    "def absolute_value(x):\n",
    "    if x >= 0:\n",
    "        return x\n",
    "    else:\n",
    "        return -x\n",
    "\n",
    "# Example usage\n",
    "number = -5\n",
    "absolute = absolute_value(number)\n",
    "print(\"The absolute value of\", number, \"is:\", absolute)\n"
   ]
  },
  {
   "cell_type": "markdown",
   "id": "7dea5c98",
   "metadata": {},
   "source": [
    "6. Create a Python program that checks if a given character is a vowel or consonant using if-else."
   ]
  },
  {
   "cell_type": "code",
   "execution_count": 13,
   "id": "5026673e",
   "metadata": {},
   "outputs": [
    {
     "name": "stdout",
     "output_type": "stream",
     "text": [
      "Enter a character: e\n",
      "The character e is a vowel.\n"
     ]
    }
   ],
   "source": [
    "char = input(\"Enter a character: \")\n",
    "if char in ['a', 'e', 'i', 'o', 'u', 'A', 'E', 'I', 'O', 'U']:\n",
    "    print(f\"The character {char} is a vowel.\")\n",
    "else:\n",
    "    print(f\"The character {char} is a consonant.\")\n"
   ]
  },
  {
   "cell_type": "markdown",
   "id": "61c593e1",
   "metadata": {},
   "source": [
    "7. Write a Python program to determine if a user is eligible to vote based on their age using if-else"
   ]
  },
  {
   "cell_type": "code",
   "execution_count": 14,
   "id": "8b831da4",
   "metadata": {},
   "outputs": [
    {
     "name": "stdout",
     "output_type": "stream",
     "text": [
      "Enter your age: 17\n",
      "You are not eligible to vote yet.\n"
     ]
    }
   ],
   "source": [
    "age = int(input(\"Enter your age: \"))\n",
    "\n",
    "if age >= 18:\n",
    "    print(\"You are eligible to vote.\")\n",
    "else:\n",
    "    print(\"You are not eligible to vote yet.\")\n"
   ]
  },
  {
   "cell_type": "markdown",
   "id": "1d8628f7",
   "metadata": {},
   "source": [
    "8. Create a Python program that calculates the discount amount based on the purchase amount using if-else."
   ]
  },
  {
   "cell_type": "code",
   "execution_count": 16,
   "id": "050dc5b5",
   "metadata": {},
   "outputs": [
    {
     "name": "stdout",
     "output_type": "stream",
     "text": [
      "Enter the purchase amount: 1000\n",
      "Discount amount: ₹ 50.0\n"
     ]
    }
   ],
   "source": [
    "purchase_amount = float(input(\"Enter the purchase amount: \"))\n",
    "\n",
    "if purchase_amount <= 5000:\n",
    "    discount = purchase_amount * 0.05\n",
    "elif purchase_amount <= 15000:\n",
    "    discount = purchase_amount * 0.12\n",
    "elif purchase_amount <= 25000:\n",
    "    discount = purchase_amount * 0.20\n",
    "else:\n",
    "    discount = purchase_amount * 0.30\n",
    "\n",
    "print(\"Discount amount: ₹\", round(discount, 2))\n"
   ]
  },
  {
   "cell_type": "markdown",
   "id": "ea657c51",
   "metadata": {},
   "source": [
    "9. Write a Python program to check if a number is within a specified range using if-else."
   ]
  },
  {
   "cell_type": "code",
   "execution_count": 17,
   "id": "cfa2bb3b",
   "metadata": {},
   "outputs": [
    {
     "name": "stdout",
     "output_type": "stream",
     "text": [
      "Enter a number: 7\n",
      "The number is within the range of 1 to 10.\n"
     ]
    }
   ],
   "source": [
    "number = int(input(\"Enter a number: \"))\n",
    "\n",
    "if number in range(1, 11):\n",
    "    print(\"The number is within the range of 1 to 10.\")\n",
    "else:\n",
    "    print(\"The number is outside the range of 1 to 10.\")\n"
   ]
  },
  {
   "cell_type": "markdown",
   "id": "40bb9ccc",
   "metadata": {},
   "source": [
    "10. Create a Python program that determines the grade of a student based on their score using if-else."
   ]
  },
  {
   "cell_type": "code",
   "execution_count": 18,
   "id": "693d5a53",
   "metadata": {},
   "outputs": [
    {
     "name": "stdout",
     "output_type": "stream",
     "text": [
      "Enter score: 99\n",
      "Grade is: A\n"
     ]
    }
   ],
   "source": [
    "score = int(input(\"Enter score: \"))\n",
    "\n",
    "if score >= 90:\n",
    "    grade = 'A'\n",
    "elif score >= 80:\n",
    "    grade = 'B'\n",
    "elif score >= 70:\n",
    "    grade = 'C'\n",
    "elif score >= 60:\n",
    "    grade = 'D'\n",
    "else:\n",
    "    grade = 'F'\n",
    "\n",
    "print(\"Grade is:\", grade)\n"
   ]
  },
  {
   "cell_type": "markdown",
   "id": "4dada73d",
   "metadata": {},
   "source": [
    "11. Write a Python program to check if a string is empty or not using if-else.\n"
   ]
  },
  {
   "cell_type": "code",
   "execution_count": 19,
   "id": "74b6153b",
   "metadata": {},
   "outputs": [
    {
     "name": "stdout",
     "output_type": "stream",
     "text": [
      "Enter a string: Rajesh\n",
      "The string is not empty.\n"
     ]
    }
   ],
   "source": [
    "string = input(\"Enter a string: \")\n",
    "\n",
    "if not string:\n",
    "    print(\"The string is empty.\")\n",
    "else:\n",
    "    print(\"The string is not empty.\")"
   ]
  },
  {
   "cell_type": "markdown",
   "id": "f568dd88",
   "metadata": {},
   "source": [
    "12. Create a Python program that identifies the type of a triangle (e.g., equilateral, isosceles, or scalene) based on input values using if-else."
   ]
  },
  {
   "cell_type": "code",
   "execution_count": 20,
   "id": "b7216649",
   "metadata": {},
   "outputs": [
    {
     "name": "stdout",
     "output_type": "stream",
     "text": [
      "Enter length of side a: 60\n",
      "Enter length of side b: 60\n",
      "Enter length of side c: 60\n",
      "Triangle is Equilateral.\n"
     ]
    }
   ],
   "source": [
    "def is_valid_triangle(a, b, c):\n",
    "    if a + b > c and b + c > a and c + a > b:\n",
    "        return True\n",
    "    else:\n",
    "        return False\n",
    "\n",
    "def type_of_triangle(a, b, c):\n",
    "    if a == b and b == c:\n",
    "        print('Triangle is Equilateral.')\n",
    "    elif a == b or b == c or a == c:\n",
    "        print('Triangle is Isosceles.')\n",
    "    else:\n",
    "        print('Triangle is Scalene')\n",
    "\n",
    "side_a = float(input('Enter length of side a: '))\n",
    "side_b = float(input('Enter length of side b: '))\n",
    "side_c = float(input('Enter length of side c: '))\n",
    "\n",
    "if is_valid_triangle(side_a, side_b, side_c):\n",
    "    type_of_triangle(side_a, side_b, side_c)\n",
    "else:\n",
    "    print('Triangle is not possible from given sides.')\n"
   ]
  },
  {
   "cell_type": "markdown",
   "id": "002c9998",
   "metadata": {},
   "source": [
    "13. Write a Python program to determine the day of the week based on a user-provided number using if-else."
   ]
  },
  {
   "cell_type": "code",
   "execution_count": 22,
   "id": "c843bf9c",
   "metadata": {},
   "outputs": [
    {
     "name": "stdout",
     "output_type": "stream",
     "text": [
      "Enter a number between 1 and 7: 4\n",
      "Thursday\n"
     ]
    }
   ],
   "source": [
    "def day_of_week(number):\n",
    "    if number == 1:\n",
    "        print(\"Monday\")\n",
    "    elif number == 2:\n",
    "        print(\"Tuesday\")\n",
    "    elif number == 3:\n",
    "        print(\"Wednesday\")\n",
    "    elif number == 4:\n",
    "        print(\"Thursday\")\n",
    "    elif number == 5:\n",
    "        print(\"Friday\")\n",
    "    elif number == 6:\n",
    "        print(\"Saturday\")\n",
    "    elif number == 7:\n",
    "        print(\"Sunday\")\n",
    "    else:\n",
    "        print(\"Invalid input. Please enter a number between 1 and 7.\")\n",
    "\n",
    "number = int(input(\"Enter a number between 1 and 7: \"))\n",
    "day_of_week(number)\n"
   ]
  },
  {
   "cell_type": "markdown",
   "id": "a54d72e8",
   "metadata": {},
   "source": [
    "14. Create a Python program that checks if a given year is a leap year using both if-else and a function."
   ]
  },
  {
   "cell_type": "code",
   "execution_count": 23,
   "id": "820afd6b",
   "metadata": {},
   "outputs": [
    {
     "name": "stdout",
     "output_type": "stream",
     "text": [
      "Enter a year: 2020\n",
      "2020 is a leap year.\n"
     ]
    }
   ],
   "source": [
    "year = int(input(\"Enter a year: \"))\n",
    "\n",
    "if (year % 4 == 0) and (year % 100 != 0) or (year % 400 == 0):\n",
    "    print(year, \"is a leap year.\")\n",
    "else:\n",
    "    print(year, \"is not a leap year.\")\n"
   ]
  },
  {
   "cell_type": "markdown",
   "id": "0d875f8e",
   "metadata": {},
   "source": [
    "15. How do you use the \"assert\" statement in Python to add debugging checks within if-else blocks?"
   ]
  },
  {
   "cell_type": "code",
   "execution_count": 24,
   "id": "897b8bd9",
   "metadata": {},
   "outputs": [],
   "source": [
    "x = \"hello\"\n",
    "assert x == \"hello\", \"x does not equal hello!\""
   ]
  },
  {
   "cell_type": "markdown",
   "id": "1bb73eda",
   "metadata": {},
   "source": [
    "16. Create a Python program that determines the eligibility of a person for a senior citizen discount based on age using if-else."
   ]
  },
  {
   "cell_type": "code",
   "execution_count": 25,
   "id": "35e48e5c",
   "metadata": {},
   "outputs": [
    {
     "name": "stdout",
     "output_type": "stream",
     "text": [
      "Enter your age: 67\n",
      "You are eligible for a senior citizen discount.\n"
     ]
    }
   ],
   "source": [
    "age = int(input(\"Enter your age: \"))\n",
    "\n",
    "if age >= 60:\n",
    "    print(\"You are eligible for a senior citizen discount.\")\n",
    "else:\n",
    "    print(\"You are not eligible for a senior citizen discount.\")\n"
   ]
  },
  {
   "cell_type": "markdown",
   "id": "50600add",
   "metadata": {},
   "source": [
    "17. Write a Python program to categorize a given character as uppercase, lowercase, or neither using if-else."
   ]
  },
  {
   "cell_type": "code",
   "execution_count": 26,
   "id": "c4be4659",
   "metadata": {},
   "outputs": [
    {
     "name": "stdout",
     "output_type": "stream",
     "text": [
      "Enter a character: rajesh\n",
      "The character is lowercase.\n"
     ]
    }
   ],
   "source": [
    "char = input(\"Enter a character: \")\n",
    "\n",
    "if char.isupper():\n",
    "    print(\"The character is uppercase.\")\n",
    "elif char.islower():\n",
    "    print(\"The character is lowercase.\")\n",
    "else:\n",
    "    print(\"The character is neither uppercase nor lowercase.\")\n"
   ]
  },
  {
   "cell_type": "markdown",
   "id": "f45c21f6",
   "metadata": {},
   "source": [
    "18. Write a Python program to determine the roots of a quadratic equation using if-else."
   ]
  },
  {
   "cell_type": "code",
   "execution_count": 27,
   "id": "a0982d64",
   "metadata": {},
   "outputs": [
    {
     "name": "stdout",
     "output_type": "stream",
     "text": [
      "The roots are real and different.\n",
      "Root 1: 2.0\n",
      "Root 2: 1.0\n"
     ]
    }
   ],
   "source": [
    "import math\n",
    "\n",
    "def find_roots(a, b, c):\n",
    "    discriminant = b**2 - 4*a*c\n",
    "\n",
    "    if discriminant > 0:\n",
    "        root1 = (-b + math.sqrt(discriminant)) / (2*a)\n",
    "        root2 = (-b - math.sqrt(discriminant)) / (2*a)\n",
    "        print(\"The roots are real and different.\")\n",
    "        print(\"Root 1:\", root1)\n",
    "        print(\"Root 2:\", root2)\n",
    "    elif discriminant == 0:\n",
    "        root = -b / (2*a)\n",
    "        print(\"The roots are real and same.\")\n",
    "        print(\"Root:\", root)\n",
    "    else:\n",
    "        real_part = -b / (2*a)\n",
    "        imaginary_part = math.sqrt(-discriminant) / (2*a)\n",
    "        print(\"The roots are complex.\")\n",
    "        print(\"Root 1:\", real_part, \"+\", imaginary_part, \"i\")\n",
    "        print(\"Root 2:\", real_part, \"-\", imaginary_part, \"i\")\n",
    "\n",
    "# Example usage\n",
    "a = 1\n",
    "b = -3\n",
    "c = 2\n",
    "\n",
    "find_roots(a, b, c)\n"
   ]
  },
  {
   "cell_type": "markdown",
   "id": "4ec7c684",
   "metadata": {},
   "source": [
    "19. Create a Python program that checks if a given year is a century year or not using if-else."
   ]
  },
  {
   "cell_type": "code",
   "execution_count": 28,
   "id": "c0c407a3",
   "metadata": {},
   "outputs": [
    {
     "name": "stdout",
     "output_type": "stream",
     "text": [
      "Enter a year: 2000\n",
      "The year 2000 is a century year.\n"
     ]
    }
   ],
   "source": [
    "year = int(input(\"Enter a year: \"))\n",
    "\n",
    "if year % 100 == 0:\n",
    "    print(\"The year\", year, \"is a century year.\")\n",
    "else:\n",
    "    print(\"The year\", year, \"is not a century year.\")\n"
   ]
  },
  {
   "cell_type": "markdown",
   "id": "2b3c223b",
   "metadata": {},
   "source": [
    "20. Write a Python program to determine if a given number is a perfect square using if-else.\n"
   ]
  },
  {
   "cell_type": "code",
   "execution_count": 29,
   "id": "e7f298f6",
   "metadata": {},
   "outputs": [
    {
     "name": "stdout",
     "output_type": "stream",
     "text": [
      "Enter a number: 25\n",
      "25 is a perfect square.\n"
     ]
    }
   ],
   "source": [
    "import math\n",
    "\n",
    "def is_perfect_square(number):\n",
    "    square_root = math.sqrt(number)\n",
    "    if int(square_root + 0.5) ** 2 == number:\n",
    "        print(f\"{number} is a perfect square.\")\n",
    "    else:\n",
    "        print(f\"{number} is not a perfect square.\")\n",
    "\n",
    "# Example\n",
    "number = int(input(\"Enter a number: \"))\n",
    "is_perfect_square(number)\n"
   ]
  },
  {
   "cell_type": "markdown",
   "id": "442852b7",
   "metadata": {},
   "source": [
    "21. Explain the purpose of the \"continue\" and \"break\" statements within if-else loops.\n"
   ]
  },
  {
   "cell_type": "code",
   "execution_count": 30,
   "id": "b377144c",
   "metadata": {},
   "outputs": [
    {
     "data": {
      "text/plain": [
       "'\\nThe break statement is used to terminate the loop immediately. \\nThe continue statement is used to skip the current iteration of the loop.\\n'"
      ]
     },
     "execution_count": 30,
     "metadata": {},
     "output_type": "execute_result"
    }
   ],
   "source": [
    "'''\n",
    "The break statement is used to terminate the loop immediately. \n",
    "The continue statement is used to skip the current iteration of the loop.\n",
    "'''\n"
   ]
  },
  {
   "cell_type": "markdown",
   "id": "77a36aba",
   "metadata": {},
   "source": [
    "22. Create a Python program that calculates the BMI (Body Mass Index) of a person based on their weight and height using if-else."
   ]
  },
  {
   "cell_type": "code",
   "execution_count": 31,
   "id": "4e9aefad",
   "metadata": {},
   "outputs": [
    {
     "name": "stdout",
     "output_type": "stream",
     "text": [
      "Enter your height in meters: 1.6\n",
      "Enter your weight in kg: 56\n",
      "Welcome to the BMI calculator.\n",
      "Your BMI is:  21.87\n",
      "Your weight is normal.\n"
     ]
    }
   ],
   "source": [
    "def bodymassindex(height, weight):\n",
    "    return round((weight / height**2),2)\n",
    "\n",
    "\n",
    "h = float(input(\"Enter your height in meters: \"))\n",
    "w = float(input(\"Enter your weight in kg: \"))\n",
    "\n",
    "\n",
    "print(\"Welcome to the BMI calculator.\")\n",
    "\n",
    "bmi = bodymassindex(h, w)\n",
    "print(\"Your BMI is: \", bmi)\n",
    "\n",
    "\n",
    "if bmi <= 18.5:\n",
    "    print(\"You are underweight.\")\n",
    "elif 18.5 < bmi <= 24.9:\n",
    "    print(\"Your weight is normal.\")\n",
    "elif 25 < bmi <= 29.29:\n",
    "    print(\"You are overweight.\")\n",
    "else:\n",
    "    print(\"You are obese.\")"
   ]
  },
  {
   "cell_type": "markdown",
   "id": "3e13af3a",
   "metadata": {},
   "source": [
    "23. How can you use the \"filter()\" function with if-else statements to filter elements from a list?\n"
   ]
  },
  {
   "cell_type": "code",
   "execution_count": 32,
   "id": "ce159033",
   "metadata": {},
   "outputs": [
    {
     "name": "stdout",
     "output_type": "stream",
     "text": [
      "[2, 4, 6, 8, 10]\n"
     ]
    }
   ],
   "source": [
    "def is_even(number):\n",
    "    if number % 2 == 0:\n",
    "        return True\n",
    "    else:\n",
    "        return False\n",
    "\n",
    "numbers = [1, 2, 3, 4, 5, 6, 7, 8, 9, 10]\n",
    "filtered_numbers = filter(is_even, numbers)\n",
    "\n",
    "print(list(filtered_numbers))\n"
   ]
  },
  {
   "cell_type": "markdown",
   "id": "a61b9098",
   "metadata": {},
   "source": [
    "24. Write a Python program to determine if a given number is prime or not using if-else."
   ]
  },
  {
   "cell_type": "code",
   "execution_count": 34,
   "id": "f76fbadf",
   "metadata": {},
   "outputs": [
    {
     "name": "stdout",
     "output_type": "stream",
     "text": [
      "23 is a prime number\n"
     ]
    }
   ],
   "source": [
    "num = 23\n",
    "\n",
    "if num == 1:\n",
    "    print(num, \"is not a prime number\")\n",
    "elif num > 1:\n",
    "    # check for factors\n",
    "    for i in range(2, num):\n",
    "        if (num % i) == 0:\n",
    "            print(num, \"is not a prime number\")\n",
    "            break\n",
    "    else:\n",
    "        print(num, \"is a prime number\")\n"
   ]
  },
  {
   "cell_type": "markdown",
   "id": "57e92b2c",
   "metadata": {},
   "source": [
    "#  Map :-"
   ]
  },
  {
   "cell_type": "markdown",
   "id": "111fa225",
   "metadata": {},
   "source": [
    "1. Explain the purpose of the `map()` function in Python and provide an example of how it can be used to apply a function to each element of an iterable."
   ]
  },
  {
   "cell_type": "code",
   "execution_count": 37,
   "id": "57afd5f2",
   "metadata": {},
   "outputs": [
    {
     "name": "stdout",
     "output_type": "stream",
     "text": [
      "[1, 4, 9, 16, 25]\n"
     ]
    }
   ],
   "source": [
    "'''The map() function in Python is used to apply a given function to each \n",
    "element of an iterable (such as a list, tuple, or dictionary) and returns \n",
    "an iterator of the results. It allows you to process and transform all the\n",
    "objects in an iterable without needing an explicit for loop, a technique \n",
    "commonly known as mapping.'''\n",
    "\n",
    "#Example:\n",
    "def square(x):\n",
    "    return x ** 2\n",
    "\n",
    "numbers = [1, 2, 3, 4, 5]\n",
    "squared_numbers = map(square, numbers)\n",
    "\n",
    "print(list(squared_numbers))\n"
   ]
  },
  {
   "cell_type": "markdown",
   "id": "54c41947",
   "metadata": {},
   "source": [
    "2. Write a Python program that uses the `map()` function to square each element of a list of numbers."
   ]
  },
  {
   "cell_type": "code",
   "execution_count": 38,
   "id": "b1cc659e",
   "metadata": {},
   "outputs": [
    {
     "name": "stdout",
     "output_type": "stream",
     "text": [
      "[1, 4, 9, 16, 25]\n"
     ]
    }
   ],
   "source": [
    "numbers = [1, 2, 3, 4, 5]\n",
    "squared_numbers = list(map(lambda x: x ** 2, numbers))\n",
    "\n",
    "print(squared_numbers)\n"
   ]
  },
  {
   "cell_type": "markdown",
   "id": "f6bf221c",
   "metadata": {},
   "source": [
    "3. How does the `map()` function differ from a list comprehension in Python, and when would you choose one over the other?"
   ]
  },
  {
   "cell_type": "code",
   "execution_count": 39,
   "id": "635afa23",
   "metadata": {},
   "outputs": [
    {
     "name": "stdout",
     "output_type": "stream",
     "text": [
      "[1, 4, 9, 16, 25]\n",
      "[1, 4, 9, 16, 25]\n"
     ]
    }
   ],
   "source": [
    "\"\"\"\n",
    "\n",
    "The map() function and list comprehensions in Python are both used to \n",
    "transform elements of an iterable, but they have some differences in terms \n",
    "of syntax and usage.\n",
    "\n",
    "The map() function takes a function and an iterable as arguments, and it \n",
    "applies the function to each element of the iterable, returning an \n",
    "iterator of the results. \n",
    "\n",
    "List comprehensions, provide a concise way to create lists by applying an \n",
    "expression to each element of an iterable. They have a more compact syntax \n",
    "compared to map(), and they return a new list directly. \n",
    "List comprehensions are often considered more readable and Pythonic.\n",
    "\n",
    "\"\"\"\n",
    "numbers = [1, 2, 3, 4, 5]\n",
    "\n",
    "# Using map()\n",
    "squared_numbers_map = map(lambda x: x ** 2, numbers)\n",
    "print(list(squared_numbers_map))\n",
    "\n",
    "# Using a list comprehension\n",
    "squared_numbers_list_comp = [x ** 2 for x in numbers]\n",
    "print(squared_numbers_list_comp)\n",
    "\n"
   ]
  },
  {
   "cell_type": "markdown",
   "id": "a2eafe14",
   "metadata": {},
   "source": [
    "4. Create a Python program that uses the `map()` function to convert a list of names to uppercase."
   ]
  },
  {
   "cell_type": "code",
   "execution_count": 41,
   "id": "c5d4fa62",
   "metadata": {},
   "outputs": [
    {
     "name": "stdout",
     "output_type": "stream",
     "text": [
      "['RAJESH', 'CHINTU']\n"
     ]
    }
   ],
   "source": [
    "names = [\"rajesh\", \"chintu\"]\n",
    "upper_names = list(map(str.upper, names))\n",
    "\n",
    "print(upper_names)\n"
   ]
  },
  {
   "cell_type": "markdown",
   "id": "56f78af0",
   "metadata": {},
   "source": [
    "5. Write a Python program that uses the `map()` function to calculate the length of each word in a list of strings."
   ]
  },
  {
   "cell_type": "code",
   "execution_count": 42,
   "id": "1c9dc47f",
   "metadata": {},
   "outputs": [
    {
     "name": "stdout",
     "output_type": "stream",
     "text": [
      "[6, 6]\n"
     ]
    }
   ],
   "source": [
    "strings = [\"Rajesh\", \"Behera\"]\n",
    "word_lengths = list(map(len, strings))\n",
    "\n",
    "print(word_lengths)\n"
   ]
  },
  {
   "cell_type": "markdown",
   "id": "9dada53f",
   "metadata": {},
   "source": [
    "6. How can you use the `map()` function to apply a custom function to elements of multiple lists simultaneously in Python?\n"
   ]
  },
  {
   "cell_type": "code",
   "execution_count": 44,
   "id": "44399d8b",
   "metadata": {},
   "outputs": [],
   "source": [
    "def custom_function(a, b, c):\n",
    "    # Custom logic here\n",
    "    return a + b + c\n",
    "\n",
    "list1 = [1, 2, 3]\n",
    "list2 = [4, 5, 6]\n",
    "list3 = [7, 8, 9]\n",
    "\n",
    "result = map(custom_function, list1, list2, list3)\n"
   ]
  },
  {
   "cell_type": "code",
   "execution_count": 45,
   "id": "1f6f4a6b",
   "metadata": {},
   "outputs": [
    {
     "data": {
      "text/plain": [
       "6"
      ]
     },
     "execution_count": 45,
     "metadata": {},
     "output_type": "execute_result"
    }
   ],
   "source": [
    "custom_function(1, 2, 3)"
   ]
  },
  {
   "cell_type": "markdown",
   "id": "a864261d",
   "metadata": {},
   "source": [
    "7. Create a Python program that uses `map()` to convert a list of temperatures from Celsius to Fahrenheit."
   ]
  },
  {
   "cell_type": "code",
   "execution_count": 46,
   "id": "615a1906",
   "metadata": {},
   "outputs": [
    {
     "name": "stdout",
     "output_type": "stream",
     "text": [
      "[77.0, 86.0, 95.0, 104.0, 113.0]\n"
     ]
    }
   ],
   "source": [
    "celsius_temperatures = [25, 30, 35, 40, 45]\n",
    "fahrenheit_temperatures = list(map(lambda c: (c * 9/5) + 32, celsius_temperatures))\n",
    "\n",
    "print(fahrenheit_temperatures)\n"
   ]
  },
  {
   "cell_type": "markdown",
   "id": "1dc6b2d1",
   "metadata": {},
   "source": [
    "8. Write a Python program that uses the `map()` function to round each element of a list of floating-point numbers to the nearest integer."
   ]
  },
  {
   "cell_type": "code",
   "execution_count": 47,
   "id": "ebf79dae",
   "metadata": {},
   "outputs": [
    {
     "name": "stdout",
     "output_type": "stream",
     "text": [
      "[1, 2, 4, 5, 5]\n"
     ]
    }
   ],
   "source": [
    "float_numbers = [1.2, 2.5, 3.7, 4.9, 5.1]\n",
    "int_numbers = list(map(round, float_numbers))\n",
    "\n",
    "print(int_numbers)\n"
   ]
  },
  {
   "cell_type": "markdown",
   "id": "9daedfb0",
   "metadata": {},
   "source": [
    "#  Reduce :-\n"
   ]
  },
  {
   "cell_type": "markdown",
   "id": "2c9bea59",
   "metadata": {},
   "source": [
    "1.\tWhat is the `reduce()` function in Python, and what module should you import to use it? Provide an example of its basic usage."
   ]
  },
  {
   "cell_type": "code",
   "execution_count": 1,
   "id": "65fdd3c3",
   "metadata": {},
   "outputs": [
    {
     "name": "stdout",
     "output_type": "stream",
     "text": [
      "16\n"
     ]
    }
   ],
   "source": [
    "\"\"\"\n",
    "The reduce() function in Python applies a given function to the first and \n",
    "the second element of an iterable, then stores the result, and repeats this\n",
    "process with the next element and the result until no values are left. \n",
    "It reduces an iterable into a single cumulative value1.\n",
    "\"\"\"\n",
    "\n",
    "#Example:\n",
    "from functools import reduce\n",
    "\n",
    "def add(x, y):\n",
    "    return x + y\n",
    "\n",
    "numbers = [2, 4, 7, 3]\n",
    "result = reduce(add, numbers)\n",
    "print(result) # 16\n",
    "\n"
   ]
  },
  {
   "cell_type": "markdown",
   "id": "bf9e13d7",
   "metadata": {},
   "source": [
    "2.\tWrite a Python program that uses the `reduce()` function to find the product of all elements in a list."
   ]
  },
  {
   "cell_type": "code",
   "execution_count": 3,
   "id": "3127ba60",
   "metadata": {},
   "outputs": [
    {
     "name": "stdout",
     "output_type": "stream",
     "text": [
      "168\n"
     ]
    }
   ],
   "source": [
    "from functools import reduce\n",
    "\n",
    "def multiply(x, y):\n",
    "    return x * y\n",
    "\n",
    "numbers = [2, 4, 7, 3]\n",
    "result = reduce(multiply, numbers)\n",
    "print(result)\n"
   ]
  },
  {
   "cell_type": "markdown",
   "id": "f67114f6",
   "metadata": {},
   "source": [
    "3.\tCreate a Python program that uses `reduce()` to find the maximum element in a list of numbers."
   ]
  },
  {
   "cell_type": "code",
   "execution_count": 5,
   "id": "cc4f0bb2",
   "metadata": {},
   "outputs": [
    {
     "name": "stdout",
     "output_type": "stream",
     "text": [
      "43\n"
     ]
    }
   ],
   "source": [
    "from functools import reduce\n",
    "\n",
    "def maximum(x, y):\n",
    "    return x if x > y else y\n",
    "\n",
    "numbers = [21, 43, 17, 13]\n",
    "result = reduce(maximum, numbers)\n",
    "print(result) "
   ]
  },
  {
   "cell_type": "markdown",
   "id": "870b33fc",
   "metadata": {},
   "source": [
    "4.\tHow can you use the `reduce()` function to concatenate a list of strings into a single string?"
   ]
  },
  {
   "cell_type": "code",
   "execution_count": 6,
   "id": "354704a9",
   "metadata": {},
   "outputs": [],
   "source": [
    "stringg = [\"Hello\", \"Rajesh\"]\n"
   ]
  },
  {
   "cell_type": "code",
   "execution_count": 7,
   "id": "a3393e1b",
   "metadata": {},
   "outputs": [
    {
     "name": "stdout",
     "output_type": "stream",
     "text": [
      "Hello Rajesh\n"
     ]
    }
   ],
   "source": [
    "from functools import reduce\n",
    "\n",
    "result = reduce(lambda x, y: x + \" \" + y, stringg)\n",
    "print(result) "
   ]
  },
  {
   "cell_type": "markdown",
   "id": "ee859263",
   "metadata": {},
   "source": [
    "5.\tWrite a Python program that calculates the factorial of a number using the `reduce()` function."
   ]
  },
  {
   "cell_type": "code",
   "execution_count": 8,
   "id": "418b387a",
   "metadata": {},
   "outputs": [
    {
     "name": "stdout",
     "output_type": "stream",
     "text": [
      "5! = 120\n"
     ]
    }
   ],
   "source": [
    "from functools import reduce\n",
    "\n",
    "def factorial(n):\n",
    "    # create a list of numbers from 1 to n\n",
    "    numbers = range(1, n + 1)\n",
    "    # use the reduce() function to multiply all the numbers\n",
    "    result = reduce(lambda x, y: x * y, numbers)\n",
    "    # return the result\n",
    "    return result\n",
    "\n",
    "n = 5\n",
    "print(f\"{n}! = {factorial(n)}\")\n"
   ]
  },
  {
   "cell_type": "markdown",
   "id": "be730aa4",
   "metadata": {},
   "source": [
    "6.\tCreate a Python program that uses `reduce()` to find the GCD (Greatest Common Divisor) of a list of numbers."
   ]
  },
  {
   "cell_type": "code",
   "execution_count": 9,
   "id": "df82df07",
   "metadata": {},
   "outputs": [
    {
     "name": "stdout",
     "output_type": "stream",
     "text": [
      "The GCD of [12, 18, 24, 30] is 6\n"
     ]
    }
   ],
   "source": [
    "from functools import reduce\n",
    "\n",
    "def gcd(x, y):\n",
    "    while y != 0:\n",
    "        x, y = y, x % y\n",
    "    return x\n",
    "\n",
    "numbers = [12, 18, 24, 30]\n",
    "result = reduce(gcd, numbers)\n",
    "print(f\"The GCD of {numbers} is {result}\") \n"
   ]
  },
  {
   "cell_type": "markdown",
   "id": "5b44c6e5",
   "metadata": {},
   "source": [
    "7.\tWrite a Python program that uses the `reduce()` function to find the sum of the digits of a given number."
   ]
  },
  {
   "cell_type": "code",
   "execution_count": 10,
   "id": "25204947",
   "metadata": {},
   "outputs": [
    {
     "name": "stdout",
     "output_type": "stream",
     "text": [
      "The sum of the digits of 1234 is 10\n"
     ]
    }
   ],
   "source": [
    "from functools import reduce\n",
    "\n",
    "def sum_digits(n):\n",
    "    # convert the number to a string\n",
    "    n = str(n)\n",
    "    # use the reduce() function to add the digits\n",
    "    result = reduce(lambda x, y: int(x) + int(y), n)\n",
    "    # return the result\n",
    "    return result\n",
    "\n",
    "# test the function\n",
    "n = 1234\n",
    "print(f\"The sum of the digits of {n} is {sum_digits(n)}\") \n"
   ]
  },
  {
   "cell_type": "markdown",
   "id": "79fcaaf9",
   "metadata": {},
   "source": [
    "# Filter :-"
   ]
  },
  {
   "cell_type": "markdown",
   "id": "8dfe337a",
   "metadata": {},
   "source": [
    "1.\tExplain the purpose of the `filter()` function in Python and provide an example of how it can be used to filter elements from an iterable."
   ]
  },
  {
   "cell_type": "code",
   "execution_count": 1,
   "id": "9cefcda1",
   "metadata": {},
   "outputs": [
    {
     "name": "stdout",
     "output_type": "stream",
     "text": [
      "[1, 3, 5, 7, 9]\n"
     ]
    }
   ],
   "source": [
    "\"\"\"\n",
    "Python Filter() returns True on success or False otherwise. However, if  a None is provided,\n",
    "then it removes all items except those evaluated to True. The next parameter \n",
    "is iterable, i.e., a sequence of elements to test against a condition. \n",
    "\"\"\"\n",
    "numbers = [1, 2, 3, 4, 5, 6, 7, 8, 9]\n",
    "filtered_numbers = list(filter(lambda n: n % 2 != 0, numbers))\n",
    "\n",
    "print(filtered_numbers)\n"
   ]
  },
  {
   "cell_type": "markdown",
   "id": "94585e58",
   "metadata": {},
   "source": [
    "2.\tWrite a Python program that uses the `filter()` function to select even numbers from a list of integers"
   ]
  },
  {
   "cell_type": "code",
   "execution_count": 2,
   "id": "156dcaaf",
   "metadata": {},
   "outputs": [
    {
     "name": "stdout",
     "output_type": "stream",
     "text": [
      "[2, 4, 6, 8]\n"
     ]
    }
   ],
   "source": [
    "def is_even(n):\n",
    "    return n % 2 == 0\n",
    "\n",
    "numbers = [1, 2, 3, 4, 5, 6, 7, 8, 9]\n",
    "filtered_numbers = list(filter(is_even, numbers))\n",
    "\n",
    "print(filtered_numbers)\n"
   ]
  },
  {
   "cell_type": "markdown",
   "id": "3440327f",
   "metadata": {},
   "source": [
    "3.\tCreate a Python program that uses the `filter()` function to select names that start with a specific letter from a list of strings."
   ]
  },
  {
   "cell_type": "code",
   "execution_count": 3,
   "id": "c1a05bbb",
   "metadata": {},
   "outputs": [
    {
     "name": "stdout",
     "output_type": "stream",
     "text": [
      "['Rajesh', 'Raj']\n"
     ]
    }
   ],
   "source": [
    "def starts_with_letter(letter, names):\n",
    "    return list(filter(lambda name: name.startswith(letter), names))\n",
    "\n",
    "names = ['Rajesh', 'Chintu', 'Raj']\n",
    "letter = 'R'\n",
    "filtered_names = starts_with_letter(letter, names)\n",
    "\n",
    "print(filtered_names)\n"
   ]
  },
  {
   "cell_type": "markdown",
   "id": "e5c5fb48",
   "metadata": {},
   "source": [
    "4.\tWrite a Python program that uses the `filter()` function to select prime numbers from a list of integers."
   ]
  },
  {
   "cell_type": "code",
   "execution_count": 4,
   "id": "70c7f10d",
   "metadata": {},
   "outputs": [
    {
     "name": "stdout",
     "output_type": "stream",
     "text": [
      "[2, 3, 5, 7]\n"
     ]
    }
   ],
   "source": [
    "def is_prime(n):\n",
    "    if n < 2:\n",
    "        return False\n",
    "    for i in range(2, int(n ** 0.5) + 1):\n",
    "        if n % i == 0:\n",
    "            return False\n",
    "    return True\n",
    "\n",
    "numbers = [1, 2, 3, 4, 5, 6, 7, 8, 9]\n",
    "filtered_numbers = list(filter(is_prime, numbers))\n",
    "\n",
    "print(filtered_numbers)\n"
   ]
  },
  {
   "cell_type": "markdown",
   "id": "1cac1992",
   "metadata": {},
   "source": [
    "5.\tHow can you use the `filter()` function to remove None values from a list in Python?"
   ]
  },
  {
   "cell_type": "code",
   "execution_count": 5,
   "id": "672368f6",
   "metadata": {},
   "outputs": [
    {
     "name": "stdout",
     "output_type": "stream",
     "text": [
      "[1, 2, 3, 4]\n"
     ]
    }
   ],
   "source": [
    "my_list = [1, None, 2, None, 3, None, 4]\n",
    "filtered_list = list(filter(lambda x: x is not None, my_list))\n",
    "\n",
    "print(filtered_list)\n"
   ]
  },
  {
   "cell_type": "markdown",
   "id": "f0a31ac8",
   "metadata": {},
   "source": [
    "6.\tCreate a Python program that uses `filter()` to select words longer than a certain length from a list of strings."
   ]
  },
  {
   "cell_type": "code",
   "execution_count": 7,
   "id": "1359bcdb",
   "metadata": {},
   "outputs": [
    {
     "name": "stdout",
     "output_type": "stream",
     "text": [
      "['science', 'analytics']\n"
     ]
    }
   ],
   "source": [
    "def select_long_words(words, length):\n",
    "    return list(filter(lambda word: len(word) > length, words))\n",
    "\n",
    "words = ['data', 'science', 'data', 'analytics']\n",
    "length = 5\n",
    "filtered_words = select_long_words(words, length)\n",
    "\n",
    "print(filtered_words)\n"
   ]
  },
  {
   "cell_type": "markdown",
   "id": "64b6f912",
   "metadata": {},
   "source": [
    "7.\tWrite a Python program that uses the `filter()` function to select elements greater than a specified threshold from a list of values."
   ]
  },
  {
   "cell_type": "code",
   "execution_count": 8,
   "id": "d4ea63d4",
   "metadata": {},
   "outputs": [
    {
     "name": "stdout",
     "output_type": "stream",
     "text": [
      "[15, 20]\n"
     ]
    }
   ],
   "source": [
    "def greater_than_threshold(threshold, values):\n",
    "    return list(filter(lambda x: x > threshold, values))\n",
    "\n",
    "values = [1, 5, 10, 15, 20]\n",
    "threshold = 10\n",
    "filtered_values = greater_than_threshold(threshold, values)\n",
    "\n",
    "print(filtered_values)\n"
   ]
  },
  {
   "cell_type": "markdown",
   "id": "8437e994",
   "metadata": {},
   "source": [
    "# Recursion:-"
   ]
  },
  {
   "cell_type": "markdown",
   "id": "dda6ab68",
   "metadata": {},
   "source": [
    "1.\tExplain the concept of recursion in Python. How does it differ from iteration?"
   ]
  },
  {
   "cell_type": "code",
   "execution_count": 10,
   "id": "0c1837a9",
   "metadata": {},
   "outputs": [],
   "source": [
    "\"\"\"Recursion is a method of problem solving where a function calls itself. \n",
    "This can be used to solve problems that are naturally broken down into smaller\n",
    "subproblems\"\"\"\n",
    "#Example:\n",
    "def factorial(n):\n",
    "  if n == 0:\n",
    "    return 1\n",
    "  else:\n",
    "    return n * factorial(n - 1)"
   ]
  },
  {
   "cell_type": "code",
   "execution_count": 11,
   "id": "54f40030",
   "metadata": {},
   "outputs": [
    {
     "data": {
      "text/plain": [
       "120"
      ]
     },
     "execution_count": 11,
     "metadata": {},
     "output_type": "execute_result"
    }
   ],
   "source": [
    "factorial(5)"
   ]
  },
  {
   "cell_type": "markdown",
   "id": "aa1c5912",
   "metadata": {},
   "source": [
    "2.\tWrite a Python program to calculate the factorial of a number using recursion."
   ]
  },
  {
   "cell_type": "code",
   "execution_count": 12,
   "id": "2e05bc8d",
   "metadata": {},
   "outputs": [],
   "source": [
    "def factorial(n):\n",
    "  if n == 0:\n",
    "    return 1\n",
    "  else:\n",
    "    return n * factorial(n - 1)"
   ]
  },
  {
   "cell_type": "code",
   "execution_count": 13,
   "id": "3738129c",
   "metadata": {},
   "outputs": [
    {
     "data": {
      "text/plain": [
       "120"
      ]
     },
     "execution_count": 13,
     "metadata": {},
     "output_type": "execute_result"
    }
   ],
   "source": [
    "factorial(5)"
   ]
  },
  {
   "cell_type": "markdown",
   "id": "20747765",
   "metadata": {},
   "source": [
    "3.\tCreate a recursive Python function to find the nth Fibonacci number."
   ]
  },
  {
   "cell_type": "code",
   "execution_count": 14,
   "id": "080a43ef",
   "metadata": {},
   "outputs": [
    {
     "name": "stdout",
     "output_type": "stream",
     "text": [
      "The 10th Fibonacci number is 55.\n"
     ]
    }
   ],
   "source": [
    "def recur_fibo(n):\n",
    "    if n <= 1:\n",
    "        return n\n",
    "    else:\n",
    "        return recur_fibo(n - 1) + recur_fibo(n - 2)\n",
    "\n",
    "n = 10\n",
    "fibonacci_number = recur_fibo(n)\n",
    "print(f\"The {n}th Fibonacci number is {fibonacci_number}.\")\n"
   ]
  },
  {
   "cell_type": "markdown",
   "id": "fc43acc8",
   "metadata": {},
   "source": [
    "4.\tWrite a recursive Python function to calculate the sum of all elements in a list."
   ]
  },
  {
   "cell_type": "code",
   "execution_count": 18,
   "id": "ccd4369d",
   "metadata": {},
   "outputs": [],
   "source": [
    "def sum_list(list):\n",
    "  if not list:\n",
    "    return 0\n",
    "  else:\n",
    "    return list[0] + sum_list(list[1:])"
   ]
  },
  {
   "cell_type": "code",
   "execution_count": 20,
   "id": "36b6af90",
   "metadata": {},
   "outputs": [
    {
     "data": {
      "text/plain": [
       "15"
      ]
     },
     "execution_count": 20,
     "metadata": {},
     "output_type": "execute_result"
    }
   ],
   "source": [
    "sum_list([1,2,3,4,5])"
   ]
  },
  {
   "cell_type": "markdown",
   "id": "048046d3",
   "metadata": {},
   "source": [
    "5.\tHow can you prevent a recursive function from running indefinitely, causing a stack overflow error?"
   ]
  },
  {
   "cell_type": "code",
   "execution_count": 22,
   "id": "f43dc59b",
   "metadata": {},
   "outputs": [
    {
     "data": {
      "text/plain": [
       "'To prevent a recursive function from running infinitely is to add a base case to the function.add a base case to the function.'"
      ]
     },
     "execution_count": 22,
     "metadata": {},
     "output_type": "execute_result"
    }
   ],
   "source": [
    "\"\"\"To prevent a recursive function from running infinitely is to add a base case to the function.add a base case to the function.\"\"\""
   ]
  },
  {
   "cell_type": "markdown",
   "id": "ff24c50e",
   "metadata": {},
   "source": [
    "6.\tCreate a recursive Python function to find the greatest common divisor (GCD) of two numbers using the Euclidean algorithm."
   ]
  },
  {
   "cell_type": "code",
   "execution_count": 23,
   "id": "58309100",
   "metadata": {},
   "outputs": [
    {
     "name": "stdout",
     "output_type": "stream",
     "text": [
      "The GCD of 24 and 36 is 12.\n"
     ]
    }
   ],
   "source": [
    "def gcd(a, b):\n",
    "    if b == 0:\n",
    "        return a\n",
    "    else:\n",
    "        return gcd(b, a % b)\n",
    "\n",
    "number1 = 24\n",
    "number2 = 36\n",
    "result = gcd(number1, number2)\n",
    "print(f\"The GCD of {number1} and {number2} is {result}.\")\n"
   ]
  },
  {
   "cell_type": "markdown",
   "id": "3603f4ac",
   "metadata": {},
   "source": [
    "7.\tWrite a recursive Python function to reverse a string."
   ]
  },
  {
   "cell_type": "code",
   "execution_count": 24,
   "id": "ea15f0a3",
   "metadata": {},
   "outputs": [
    {
     "name": "stdout",
     "output_type": "stream",
     "text": [
      "Enter the string to be reversed: Rajesh\n",
      "The reversed string is: hsejaR\n"
     ]
    }
   ],
   "source": [
    "def reverse_string(string):\n",
    "    if len(string) == 0:\n",
    "        return string\n",
    "    else:\n",
    "        return reverse_string(string[1:]) + string[0]\n",
    "\n",
    "input_string = input(\"Enter the string to be reversed: \")\n",
    "reversed_string = reverse_string(input_string)\n",
    "print(\"The reversed string is:\", reversed_string)\n"
   ]
  },
  {
   "cell_type": "markdown",
   "id": "ec9f3438",
   "metadata": {},
   "source": [
    "8.\tCreate a recursive Python function to calculate the power of a number (x^n)."
   ]
  },
  {
   "cell_type": "code",
   "execution_count": 26,
   "id": "c67281c5",
   "metadata": {},
   "outputs": [
    {
     "name": "stdout",
     "output_type": "stream",
     "text": [
      "The result of 2 to the power of 3 is 8.\n"
     ]
    }
   ],
   "source": [
    "def power(base, exp):\n",
    "    if exp == 0:\n",
    "        return 1\n",
    "    else:\n",
    "        return base * power(base, exp - 1)\n",
    "\n",
    "base = 2\n",
    "exp = 3\n",
    "result = power(base, exp)\n",
    "print(f\"The result of {base} to the power of {exp} is {result}.\")\n"
   ]
  },
  {
   "cell_type": "markdown",
   "id": "a83d96d4",
   "metadata": {},
   "source": [
    "9.\tWrite a recursive Python function to find all permutations of a given string."
   ]
  },
  {
   "cell_type": "code",
   "execution_count": 28,
   "id": "0d1d69d9",
   "metadata": {},
   "outputs": [
    {
     "name": "stdout",
     "output_type": "stream",
     "text": [
      "['abc', 'acb', 'bac', 'bca', 'cab', 'cba']\n"
     ]
    }
   ],
   "source": [
    "def get_permutations(string):\n",
    "    if len(string) == 1:\n",
    "        return [string]\n",
    "    else:\n",
    "        permutations = []\n",
    "        for i in range(len(string)):\n",
    "            char = string[i]\n",
    "            remaining_chars = string[:i] + string[i+1:]\n",
    "            for permutation in get_permutations(remaining_chars):\n",
    "                permutations.append(char + permutation)\n",
    "        return permutations\n",
    "\n",
    "input_string = \"abc\"\n",
    "permutations = get_permutations(input_string)\n",
    "print(permutations)\n"
   ]
  },
  {
   "cell_type": "markdown",
   "id": "b4e7cfad",
   "metadata": {},
   "source": [
    "10.\tWrite a recursive Python function to check if a string is a palindrome."
   ]
  },
  {
   "cell_type": "code",
   "execution_count": 29,
   "id": "ed192fb7",
   "metadata": {},
   "outputs": [],
   "source": [
    "def is_palindrome(string):\n",
    "    if len(string) <= 1:\n",
    "        return True\n",
    "    elif string[0] != string[-1]:\n",
    "        return False\n",
    "    else:\n",
    "        return is_palindrome(string[1:-1])\n"
   ]
  },
  {
   "cell_type": "code",
   "execution_count": 31,
   "id": "4a6013ae",
   "metadata": {},
   "outputs": [
    {
     "data": {
      "text/plain": [
       "True"
      ]
     },
     "execution_count": 31,
     "metadata": {},
     "output_type": "execute_result"
    }
   ],
   "source": [
    "is_palindrome(\"katak\")"
   ]
  },
  {
   "cell_type": "markdown",
   "id": "4654b978",
   "metadata": {},
   "source": [
    "11.\tCreate a recursive Python function to generate all possible combinations of a list of elements."
   ]
  },
  {
   "cell_type": "code",
   "execution_count": 32,
   "id": "cc663b95",
   "metadata": {},
   "outputs": [
    {
     "name": "stdout",
     "output_type": "stream",
     "text": [
      "[[1, 2, 3], [1, 3], [2, 3], [3]]\n"
     ]
    }
   ],
   "source": [
    "def generate_combinations(lst):\n",
    "    if len(lst) == 0:\n",
    "        return [[]]\n",
    "    else:\n",
    "        result = []\n",
    "        for i in range(len(lst)):\n",
    "            element = lst[i]\n",
    "            remaining = lst[i + 1:]\n",
    "            for comb in generate_combinations(remaining):\n",
    "                result.append([element] + comb)\n",
    "        return result\n",
    "\n",
    "elements = [1, 2, 3]\n",
    "combinations = generate_combinations(elements)\n",
    "print(combinations)\n"
   ]
  },
  {
   "cell_type": "markdown",
   "id": "9f1e62ee",
   "metadata": {},
   "source": [
    "#  Basics of Functions:"
   ]
  },
  {
   "cell_type": "markdown",
   "id": "159899e7",
   "metadata": {},
   "source": [
    "1.\tWhat is a function in Python, and why is it used?"
   ]
  },
  {
   "cell_type": "code",
   "execution_count": 2,
   "id": "2fa2234c",
   "metadata": {},
   "outputs": [
    {
     "data": {
      "text/plain": [
       "'Functions are used to bundle a set of instructions that you can be used repeatedly. These are better self-contained\\nin a sub-program and called when needed. That means a function is a piece of code written to carry out a specified task.'"
      ]
     },
     "execution_count": 2,
     "metadata": {},
     "output_type": "execute_result"
    }
   ],
   "source": [
    "'''Functions are used to bundle a set of instructions that you can be used repeatedly. These are better self-contained\n",
    "in a sub-program and called when needed. That means a function is a piece of code written to carry out a specified task.'''"
   ]
  },
  {
   "cell_type": "markdown",
   "id": "72a8c052",
   "metadata": {},
   "source": [
    "2.\tHow do you define a function in Python? Provide an example."
   ]
  },
  {
   "cell_type": "code",
   "execution_count": 4,
   "id": "5efa177d",
   "metadata": {},
   "outputs": [
    {
     "data": {
      "text/plain": [
       "30"
      ]
     },
     "execution_count": 4,
     "metadata": {},
     "output_type": "execute_result"
    }
   ],
   "source": [
    "\"\"\"\n",
    "To define a function in Python, def keyword is used. The def keyword is \n",
    "followed by the function name, a pair of parentheses, and a colon. \n",
    "The parentheses can contain arguments, which are values that are passed \n",
    "to the function when it is called. The colon is followed by the function body, which is the code that is \n",
    "executed when the function is called.\n",
    "\"\"\"\n",
    "#Example:\n",
    "def add_numbers(a, b):\n",
    "  return a + b\n",
    "\n",
    "add_numbers(10, 20)"
   ]
  },
  {
   "cell_type": "markdown",
   "id": "253f99f1",
   "metadata": {},
   "source": [
    "3.\tExplain the difference between a function definition and a function call."
   ]
  },
  {
   "cell_type": "code",
   "execution_count": 5,
   "id": "0a1c36f8",
   "metadata": {},
   "outputs": [
    {
     "data": {
      "text/plain": [
       "'\\nA function is a few lines of code that implements a logic and returns a \\nresult. A function call is a line of code that calls the function by \\npassing parameters if required. \\n\\nA function definition is when you write all the code for your function. \\nA function call is when you tell the JavaScript interpreter to run the \\ncode in your function. \\n'"
      ]
     },
     "execution_count": 5,
     "metadata": {},
     "output_type": "execute_result"
    }
   ],
   "source": [
    "\"\"\"\n",
    "A function is a few lines of code that implements a logic and returns a \n",
    "result. A function call is a line of code that calls the function by \n",
    "passing parameters if required. \n",
    "\n",
    "A function definition is when you write all the code for your function. \n",
    "A function call is when you tell the JavaScript interpreter to run the \n",
    "code in your function. \n",
    "\"\"\""
   ]
  },
  {
   "cell_type": "markdown",
   "id": "5963bee9",
   "metadata": {},
   "source": [
    "4.\tWrite a Python program that defines a function to calculate the sum of two numbers and then calls the function."
   ]
  },
  {
   "cell_type": "code",
   "execution_count": 7,
   "id": "9cc7c459",
   "metadata": {},
   "outputs": [
    {
     "name": "stdout",
     "output_type": "stream",
     "text": [
      "3\n"
     ]
    }
   ],
   "source": [
    "def sum(a, b):\n",
    "  \"\"\"Calculates the sum of two numbers.\n",
    "\n",
    "  Args:\n",
    "    a: A number.\n",
    "    b: A number.\n",
    "\n",
    "  Returns:\n",
    "    The sum of a and b.\n",
    "  \"\"\"\n",
    "  return a + b\n",
    "\n",
    "# Call the function.\n",
    "print(sum(1, 2))"
   ]
  },
  {
   "cell_type": "markdown",
   "id": "db4524fa",
   "metadata": {},
   "source": [
    "5.\tWhat is a function signature, and what information does it typically include?"
   ]
  },
  {
   "cell_type": "code",
   "execution_count": 8,
   "id": "c7b3aca1",
   "metadata": {},
   "outputs": [
    {
     "data": {
      "text/plain": [
       "'\\nA function signature is a way of describing the inputs and outputs of a \\nfunction. It typically includes the following information:\\n\\nName: The name of the function.\\nParameters: The names and types of the parameters that the function accepts.\\nReturn type: The type of the value that the function returns.\\n\\n'"
      ]
     },
     "execution_count": 8,
     "metadata": {},
     "output_type": "execute_result"
    }
   ],
   "source": [
    "\"\"\"\n",
    "A function signature is a way of describing the inputs and outputs of a \n",
    "function. It typically includes the following information:\n",
    "\n",
    "Name: The name of the function.\n",
    "Parameters: The names and types of the parameters that the function accepts.\n",
    "Return type: The type of the value that the function returns.\n",
    "\n",
    "\"\"\""
   ]
  },
  {
   "cell_type": "markdown",
   "id": "7acabf71",
   "metadata": {},
   "source": [
    "6.\tCreate a Python function that takes two arguments and returns their product."
   ]
  },
  {
   "cell_type": "code",
   "execution_count": 9,
   "id": "7ca4ceca",
   "metadata": {},
   "outputs": [
    {
     "data": {
      "text/plain": [
       "100"
      ]
     },
     "execution_count": 9,
     "metadata": {},
     "output_type": "execute_result"
    }
   ],
   "source": [
    "def product(a, b):\n",
    "  \"\"\"Calculates the product of two numbers.\n",
    "\n",
    "  Args:\n",
    "    a: A number.\n",
    "    b: A number.\n",
    "\n",
    "  Returns:\n",
    "    The product of a and b.\n",
    "  \"\"\"\n",
    "  return a * b\n",
    "\n",
    "product(10, 10)"
   ]
  },
  {
   "cell_type": "markdown",
   "id": "9fbb402a",
   "metadata": {},
   "source": [
    "# Function Parameters and Arguments:"
   ]
  },
  {
   "cell_type": "markdown",
   "id": "42fc1a0b",
   "metadata": {},
   "source": [
    "1.\tExplain the concepts of formal parameters and actual arguments in Python functions."
   ]
  },
  {
   "cell_type": "code",
   "execution_count": 10,
   "id": "d7cb8220",
   "metadata": {},
   "outputs": [
    {
     "data": {
      "text/plain": [
       "'\\nFormal parameters are the variables that are listed in the function definition. They are used to represent the values that are passed to the function when it is called.\\n\\nActual arguments are the values that are passed to the function when it is called. They are matched to the formal parameters in the function definition.\\n'"
      ]
     },
     "execution_count": 10,
     "metadata": {},
     "output_type": "execute_result"
    }
   ],
   "source": [
    "\"\"\"\n",
    "Formal parameters are the variables that are listed in the function definition. They are used to represent the values that are passed to the function when it is called.\n",
    "\n",
    "Actual arguments are the values that are passed to the function when it is called. They are matched to the formal parameters in the function definition.\n",
    "\"\"\""
   ]
  },
  {
   "cell_type": "markdown",
   "id": "d4ff8658",
   "metadata": {},
   "source": [
    "2.\tWrite a Python program that defines a function with default argument values."
   ]
  },
  {
   "cell_type": "code",
   "execution_count": 12,
   "id": "62e5eb57",
   "metadata": {},
   "outputs": [
    {
     "name": "stdout",
     "output_type": "stream",
     "text": [
      "Hello, Rajesh!\n"
     ]
    }
   ],
   "source": [
    "def greet(name=\"Rajesh\"):\n",
    "  \"\"\"Greets the user by name.\n",
    "\n",
    "  Args:\n",
    "    name: The name of the user.\n",
    "\n",
    "  Returns:\n",
    "    A greeting string.\n",
    "  \"\"\"\n",
    "  return f\"Hello, {name}!\"\n",
    "\n",
    "# Call the function with a default argument value.\n",
    "print(greet())\n"
   ]
  },
  {
   "cell_type": "markdown",
   "id": "5c5a7376",
   "metadata": {},
   "source": [
    "3.\tHow do you use keyword arguments in Python function calls? Provide an example."
   ]
  },
  {
   "cell_type": "code",
   "execution_count": 13,
   "id": "ae696f70",
   "metadata": {},
   "outputs": [
    {
     "name": "stdout",
     "output_type": "stream",
     "text": [
      "Goodbye, Rajesh!\n"
     ]
    }
   ],
   "source": [
    "\"\"\"\n",
    "Keyword arguments are arguments that are passed to functions by name. \n",
    "They are more flexible than positional arguments, as the order in which \n",
    "they are passed does not matter.\n",
    "\"\"\"\n",
    "\n",
    "#Example:\n",
    "def greet(name=\"World\", greeting=\"Hello\"):\n",
    "  \"\"\"Greets the user by name.\n",
    "\n",
    "  Args:\n",
    "    name: The name of the user.\n",
    "    greeting: The greeting to use.\n",
    "\n",
    "  Returns:\n",
    "    A greeting string.\n",
    "  \"\"\"\n",
    "  return f\"{greeting}, {name}!\"\n",
    "\n",
    "# Call the function with keyword arguments.\n",
    "print(greet(greeting=\"Goodbye\", name=\"Rajesh\"))\n"
   ]
  },
  {
   "cell_type": "markdown",
   "id": "e0db5c83",
   "metadata": {},
   "source": [
    "4.\tCreate a Python function that accepts a variable number of arguments and calculates their sum."
   ]
  },
  {
   "cell_type": "code",
   "execution_count": 14,
   "id": "b57ce9d3",
   "metadata": {},
   "outputs": [
    {
     "name": "stdout",
     "output_type": "stream",
     "text": [
      "15\n"
     ]
    }
   ],
   "source": [
    "def sum_of_all(*args):\n",
    "  \"\"\"Calculates the sum of all the arguments passed to the function.\n",
    "\n",
    "  Args:\n",
    "    *args: A variable number of numbers.\n",
    "\n",
    "  Returns:\n",
    "    The sum of all the numbers passed to the function.\n",
    "  \"\"\"\n",
    "  sum = 0\n",
    "  for number in args:\n",
    "    sum += number\n",
    "  return sum\n",
    "\n",
    "# Call the function with a variable number of arguments.\n",
    "print(sum_of_all(1, 2, 3, 4, 5))\n"
   ]
  },
  {
   "cell_type": "markdown",
   "id": "8813d8a4",
   "metadata": {},
   "source": [
    "5.\tWhat is the purpose of the `*args` and `**kwargs` syntax in function parameter lists?"
   ]
  },
  {
   "cell_type": "code",
   "execution_count": 15,
   "id": "62ead267",
   "metadata": {},
   "outputs": [
    {
     "data": {
      "text/plain": [
       "'\\n*args is used to accept a variable number of positional arguments.\\n**kwargs is used to accept a variable number of keyword arguments.\\n\\n'"
      ]
     },
     "execution_count": 15,
     "metadata": {},
     "output_type": "execute_result"
    }
   ],
   "source": [
    "\"\"\"\n",
    "*args is used to accept a variable number of positional arguments.\n",
    "**kwargs is used to accept a variable number of keyword arguments.\n",
    "\n",
    "\"\"\""
   ]
  },
  {
   "cell_type": "markdown",
   "id": "0b522565",
   "metadata": {},
   "source": [
    "# Return Values and Scoping: "
   ]
  },
  {
   "cell_type": "markdown",
   "id": "fe013cee",
   "metadata": {},
   "source": [
    "1.\tDescribe the role of the `return` statement in Python functions and provide examples."
   ]
  },
  {
   "cell_type": "code",
   "execution_count": 16,
   "id": "a98617b4",
   "metadata": {},
   "outputs": [
    {
     "name": "stdout",
     "output_type": "stream",
     "text": [
      "3\n"
     ]
    }
   ],
   "source": [
    "\"\"\"\n",
    "The return statement in Python functions is used to exit the function and return\n",
    "a value to the caller. The value that is returned can be any Python object.\n",
    "\n",
    "If a function does not have a return statement, it will return the \n",
    "special value None and may go to infinite loop\n",
    "\n",
    "\"\"\"\n",
    "\n",
    "#Example:\n",
    "def add_two_numbers(a, b):\n",
    "  \"\"\"Adds two numbers and returns the sum.\n",
    "\n",
    "  Args:\n",
    "    a: A number.\n",
    "    b: A number.\n",
    "\n",
    "  Returns:\n",
    "    The sum of a and b.\n",
    "  \"\"\"\n",
    "  sum = a + b\n",
    "  return sum\n",
    "\n",
    "# Call the function and print the result.\n",
    "print(add_two_numbers(1, 2))\n"
   ]
  },
  {
   "cell_type": "markdown",
   "id": "6d09424a",
   "metadata": {},
   "source": [
    "2.\tExplain the concept of variable scope in Python, including local and global variables."
   ]
  },
  {
   "cell_type": "code",
   "execution_count": 18,
   "id": "a53bba23",
   "metadata": {},
   "outputs": [
    {
     "name": "stdout",
     "output_type": "stream",
     "text": [
      "300\n"
     ]
    }
   ],
   "source": [
    "\"\"\"\n",
    "Variable scope in Python refers to the region of code in which a variable is accessible. Variables can have either local or global scope.\n",
    "\n",
    "Local variables: Local variables are defined within a function and are only accessible within that function.\n",
    "Global variables: Global variables are defined outside of any function and are accessible from anywhere in the program.\n",
    "\"\"\"\n",
    "#Example of local variable:\n",
    "def myfunc():\n",
    "    x = 300\n",
    "    print(x)\n",
    "\n",
    "myfunc()\n"
   ]
  },
  {
   "cell_type": "code",
   "execution_count": 20,
   "id": "b64a7be5",
   "metadata": {},
   "outputs": [
    {
     "name": "stdout",
     "output_type": "stream",
     "text": [
      "300\n"
     ]
    }
   ],
   "source": [
    "#Example of global variable\n",
    "x = 300\n",
    "\n",
    "def myfunc():\n",
    "    print(x)\n",
    "\n",
    "myfunc()\n"
   ]
  },
  {
   "cell_type": "markdown",
   "id": "d676e45f",
   "metadata": {},
   "source": [
    "3.\tWrite a Python program that demonstrates the use of global variables within functions.\n"
   ]
  },
  {
   "cell_type": "code",
   "execution_count": 21,
   "id": "35dccb73",
   "metadata": {},
   "outputs": [
    {
     "name": "stdout",
     "output_type": "stream",
     "text": [
      "300\n"
     ]
    }
   ],
   "source": [
    "x = 300\n",
    "\n",
    "def myfunc():\n",
    "    print(x)\n",
    "\n",
    "myfunc()"
   ]
  },
  {
   "cell_type": "markdown",
   "id": "d4ccb798",
   "metadata": {},
   "source": [
    "4.\tCreate a Python function that calculates the factorial of a number and returns it."
   ]
  },
  {
   "cell_type": "code",
   "execution_count": 22,
   "id": "7938211f",
   "metadata": {},
   "outputs": [
    {
     "name": "stdout",
     "output_type": "stream",
     "text": [
      "120\n"
     ]
    }
   ],
   "source": [
    "def factorial(n):\n",
    "  \"\"\"Calculates the factorial of a number.\n",
    "\n",
    "  Args:\n",
    "    n: A number.\n",
    "\n",
    "  Returns:\n",
    "    The factorial of n.\n",
    "  \"\"\"\n",
    "\n",
    "  if n < 0:\n",
    "    raise ValueError(\"n must be a non-negative integer.\")\n",
    "\n",
    "  if n == 0:\n",
    "    return 1\n",
    "\n",
    "  return n * factorial(n - 1)\n",
    "\n",
    "# Example usage:\n",
    "print(factorial(5))\n"
   ]
  },
  {
   "cell_type": "markdown",
   "id": "1cb21fc3",
   "metadata": {},
   "source": [
    "5.\tHow can you access variables defined outside a function from within the function?"
   ]
  },
  {
   "cell_type": "code",
   "execution_count": 26,
   "id": "1a318e98",
   "metadata": {},
   "outputs": [
    {
     "name": "stdout",
     "output_type": "stream",
     "text": [
      "20\n"
     ]
    }
   ],
   "source": [
    "\"\"\"\n",
    "Using the global keyword: If you want to modify a global variable inside a function,\n",
    "you can use the global keyword to indicate that the variable is defined in \n",
    "the global scope1.\n",
    "\"\"\"\n",
    "\n",
    "#example\n",
    "x = 10\n",
    "\n",
    "def myfunc():\n",
    "    global x\n",
    "    x = 20\n",
    "\n",
    "myfunc()\n",
    "print(x) \n"
   ]
  },
  {
   "cell_type": "markdown",
   "id": "ee922261",
   "metadata": {},
   "source": [
    "# Lambda Functions and Higher-Order Functions: "
   ]
  },
  {
   "cell_type": "markdown",
   "id": "8aff932f",
   "metadata": {},
   "source": [
    "1.\tWhat are lambda functions in Python, and when are they typically used? "
   ]
  },
  {
   "cell_type": "code",
   "execution_count": 27,
   "id": "fef671cc",
   "metadata": {},
   "outputs": [
    {
     "data": {
      "text/plain": [
       "'\\nlambda functions (also known as anonymous functions) are small, \\none-time-use functions that can be defined without a name. \\nThey are typically used in situations where a simple function is required\\nfor a short period of time, such as when passing a function as a parameter\\nto another function.\\n'"
      ]
     },
     "execution_count": 27,
     "metadata": {},
     "output_type": "execute_result"
    }
   ],
   "source": [
    "\"\"\"\n",
    "lambda functions (also known as anonymous functions) are small, \n",
    "one-time-use functions that can be defined without a name. \n",
    "They are typically used in situations where a simple function is required\n",
    "for a short period of time, such as when passing a function as a parameter\n",
    "to another function.\n",
    "\"\"\""
   ]
  },
  {
   "cell_type": "markdown",
   "id": "32cd8ccd",
   "metadata": {},
   "source": [
    "2.\tWrite a Python program that uses lambda functions to sort a list of tuples based on the second element."
   ]
  },
  {
   "cell_type": "code",
   "execution_count": 28,
   "id": "fef33831",
   "metadata": {},
   "outputs": [
    {
     "name": "stdout",
     "output_type": "stream",
     "text": [
      "[('banana', 2), ('apple', 5), ('date', 7), ('cherry', 10)]\n"
     ]
    }
   ],
   "source": [
    "# List of tuples\n",
    "tuples = [('apple', 5), ('banana', 2), ('cherry', 10), ('date', 7)]\n",
    "\n",
    "# Sorting the list of tuples based on the second element\n",
    "sorted_tuples = sorted(tuples, key=lambda x: x[1])\n",
    "\n",
    "# Printing the sorted list of tuples\n",
    "print(sorted_tuples)\n"
   ]
  },
  {
   "cell_type": "markdown",
   "id": "cddf9e8b",
   "metadata": {},
   "source": [
    "3.\tExplain the concept of higher-order functions in Python, and provide an example."
   ]
  },
  {
   "cell_type": "code",
   "execution_count": 29,
   "id": "1335ca8f",
   "metadata": {},
   "outputs": [
    {
     "name": "stdout",
     "output_type": "stream",
     "text": [
      "8\n",
      "2\n"
     ]
    }
   ],
   "source": [
    "\"\"\"\n",
    "Higher-order functions are functions that can take other functions as \n",
    "arguments and return functions as results. They are an essential part of \n",
    "functional programming and provide a powerful way to abstract and manipulate\n",
    "behavior in code.\n",
    "\n",
    "\"\"\"\n",
    "\n",
    "#Example:\n",
    "def apply_operation(operation):\n",
    "    def inner(a, b):\n",
    "        return operation(a, b)\n",
    "    return inner\n",
    "\n",
    "def add(a, b):\n",
    "    return a + b\n",
    "\n",
    "def subtract(a, b):\n",
    "    return a - b\n",
    "\n",
    "# Higher-order function that returns a function based on the operation argument\n",
    "addition = apply_operation(add)\n",
    "subtraction = apply_operation(subtract)\n",
    "\n",
    "print(addition(5, 3))  \n",
    "print(subtraction(5, 3))\n",
    "\n"
   ]
  },
  {
   "cell_type": "markdown",
   "id": "f78a8682",
   "metadata": {},
   "source": [
    "4.\tCreate a Python function that takes a list of numbers and a function as arguments, applying the function to each element in the list."
   ]
  },
  {
   "cell_type": "code",
   "execution_count": 30,
   "id": "253fad7c",
   "metadata": {},
   "outputs": [
    {
     "name": "stdout",
     "output_type": "stream",
     "text": [
      "[1, 4, 9, 16, 25]\n"
     ]
    }
   ],
   "source": [
    "def apply_function_to_list(numbers, func):\n",
    "    return [func(num) for num in numbers]\n",
    "\n",
    "numbers = [1, 2, 3, 4, 5]\n",
    "\n",
    "# Define a function to be applied to each element in the list\n",
    "def square(x):\n",
    "    return x ** 2\n",
    "\n",
    "# Apply the square function to each element in the list\n",
    "result = apply_function_to_list(numbers, square)\n",
    "print(result)\n"
   ]
  },
  {
   "cell_type": "markdown",
   "id": "a2831098",
   "metadata": {},
   "source": [
    "# Built-in Functions: "
   ]
  },
  {
   "cell_type": "markdown",
   "id": "37a9e81d",
   "metadata": {},
   "source": [
    "1.\tDescribe the role of built-in functions like `len()`, `max()`, and `min()` in Python."
   ]
  },
  {
   "cell_type": "code",
   "execution_count": 31,
   "id": "51e4abee",
   "metadata": {},
   "outputs": [
    {
     "data": {
      "text/plain": [
       "'\\nlen(): The len() function returns the length of an object, such as a list, \\ntuple, or string. It can be used to determine the number of elements in \\na collection or the number of characters in a string.\\n\\nmax(): The max() function returns the largest item in an iterable or the \\nlargest of two or more arguments. It can be used to find the maximum value \\nin a list, tuple, or other iterable.\\n\\nmin(): The min() function returns the smallest item in an iterable or the \\nsmallest of two or more arguments. It can be used to find the minimum \\nvalue in a list, tuple, or other iterable.\\n\\n'"
      ]
     },
     "execution_count": 31,
     "metadata": {},
     "output_type": "execute_result"
    }
   ],
   "source": [
    "\"\"\"\n",
    "len(): The len() function returns the length of an object, such as a list, \n",
    "tuple, or string. It can be used to determine the number of elements in \n",
    "a collection or the number of characters in a string.\n",
    "\n",
    "max(): The max() function returns the largest item in an iterable or the \n",
    "largest of two or more arguments. It can be used to find the maximum value \n",
    "in a list, tuple, or other iterable.\n",
    "\n",
    "min(): The min() function returns the smallest item in an iterable or the \n",
    "smallest of two or more arguments. It can be used to find the minimum \n",
    "value in a list, tuple, or other iterable.\n",
    "\n",
    "\"\"\""
   ]
  },
  {
   "cell_type": "markdown",
   "id": "e2de1b62",
   "metadata": {},
   "source": [
    "2.\tWrite a Python program that uses the `map()` function to apply a function to each element of a list."
   ]
  },
  {
   "cell_type": "code",
   "execution_count": 32,
   "id": "1d0a73de",
   "metadata": {},
   "outputs": [
    {
     "name": "stdout",
     "output_type": "stream",
     "text": [
      "[1, 4, 9, 16, 25]\n"
     ]
    }
   ],
   "source": [
    "# Define a function to be applied to each element in the list\n",
    "def square(x):\n",
    "    return x ** 2\n",
    "\n",
    "# List of numbers\n",
    "numbers = [1, 2, 3, 4, 5]\n",
    "\n",
    "# Apply the square function to each element in the list using map()\n",
    "result = list(map(square, numbers))\n",
    "\n",
    "# Print the result\n",
    "print(result)\n"
   ]
  },
  {
   "cell_type": "markdown",
   "id": "68e93fa2",
   "metadata": {},
   "source": [
    "3.\tHow does the `filter()` function work in Python, and when would you use it?"
   ]
  },
  {
   "cell_type": "code",
   "execution_count": 33,
   "id": "a34f82c9",
   "metadata": {},
   "outputs": [
    {
     "data": {
      "text/plain": [
       "'\\nThe filter() function in Python is a built-in higher-order function that allows\\nto process an iterable and extract items that satisfy a given condition. \\nIt performs a filtering operation by applying a filtering function to each \\nelement of the iterable and returning an iterator with the filtered items.\\n\\nSyntax: filter(function, iterable)\\n\\n'"
      ]
     },
     "execution_count": 33,
     "metadata": {},
     "output_type": "execute_result"
    }
   ],
   "source": [
    "\"\"\"\n",
    "The filter() function in Python is a built-in higher-order function that allows\n",
    "to process an iterable and extract items that satisfy a given condition. \n",
    "It performs a filtering operation by applying a filtering function to each \n",
    "element of the iterable and returning an iterator with the filtered items.\n",
    "\n",
    "Syntax: filter(function, iterable)\n",
    "\n",
    "\"\"\""
   ]
  },
  {
   "cell_type": "markdown",
   "id": "67f0f25d",
   "metadata": {},
   "source": [
    "4.\tCreate a Python program that uses the `reduce()` function to find the product of all elements in a list."
   ]
  },
  {
   "cell_type": "code",
   "execution_count": 35,
   "id": "51377d1c",
   "metadata": {},
   "outputs": [
    {
     "name": "stdout",
     "output_type": "stream",
     "text": [
      "120\n"
     ]
    }
   ],
   "source": [
    "from functools import reduce\n",
    "from operator import mul\n",
    "\n",
    "def find_product(numbers):\n",
    "    return reduce(mul, numbers)\n",
    "\n",
    "# Example usage\n",
    "numbers = [2, 3, 4, 5]\n",
    "\n",
    "product = find_product(numbers)\n",
    "print(product)  \n"
   ]
  },
  {
   "cell_type": "markdown",
   "id": "ee7081c2",
   "metadata": {},
   "source": [
    "# Function Documentation and Best Practices: "
   ]
  },
  {
   "cell_type": "markdown",
   "id": "b54c870c",
   "metadata": {},
   "source": [
    "1.\tExplain the purpose of docstrings in Python functions and how to write them."
   ]
  },
  {
   "cell_type": "code",
   "execution_count": 37,
   "id": "1e16d5a0",
   "metadata": {},
   "outputs": [
    {
     "data": {
      "text/plain": [
       "120"
      ]
     },
     "execution_count": 37,
     "metadata": {},
     "output_type": "execute_result"
    }
   ],
   "source": [
    "\"\"\"\n",
    "Python documentation strings (or docstrings) provide a convenient way of \n",
    "associating documentation with Python modules, functions, classes, and \n",
    "methods. It’s specified in source code that is used, like a comment, to \n",
    "document a specific segment of code. \n",
    "\"\"\"\n",
    "#Example:\n",
    "def factorial(n):\n",
    "    '''Calculates the factorial of a non-negative integer.\n",
    "\n",
    "    Parameters:\n",
    "        n (int): The number for which to calculate the factorial.\n",
    "\n",
    "    Returns:\n",
    "        int: The factorial of n.\n",
    "\n",
    "    Raises:\n",
    "        ValueError: If n is negative.\n",
    "    '''\n",
    "\n",
    "    if n < 0:\n",
    "        raise ValueError('Factorial is not defined for negative numbers.')\n",
    "    \n",
    "    result = 1\n",
    "    for i in range(1, n + 1):\n",
    "        result *= i\n",
    "    \n",
    "    return result\n",
    "\n",
    "factorial(5)"
   ]
  },
  {
   "cell_type": "markdown",
   "id": "329e8be9",
   "metadata": {},
   "source": [
    "2.\tDescribe some best practices for naming functions and variables in Python, including naming conventions and guidelines."
   ]
  },
  {
   "cell_type": "code",
   "execution_count": 38,
   "id": "0ad01905",
   "metadata": {},
   "outputs": [
    {
     "data": {
      "text/plain": [
       "'\\nBest practices for naming functions and variables in Python:\\n\\nUse descriptive names-- The names of functions and variables should be descriptive of what they do. This will help to make your code \\nmore readable and understandable.\\n\\nUse consistent naming conventions -- Use a consistent naming convention for \\nall of your functions and variables. This will help to make your code look \\nmore organized and professional.\\n\\nAvoid using abbreviations - Abbreviations can be confusing, so it is best \\nto avoid them in variable and function names.\\n\\nUse lowercase letters -- Function and variable names should be lowercase \\nletters. This is the standard convention in Python.\\n\\nUse underscores to separate words -- If a function or variable name consists of more than one word, separate the words \\nwith underscores.  This will make the name easier to read.\\n\\n\\n\\nGuidelines for naming functions and variables:\\nKeep names short and concise.: Long names can be difficult to type and read.\\n\\nUse meaningful names.: Variable and function names should be meaningful to the user.\\n\\nAvoid using reserved keywords.: Reserved keywords are words that have a special meaning in Python. Do not use reserved words as function or variable names.\\nBe aware of scope.: The scope of a variable is the area of code where it is visible. Be sure to declare variables in the smallest possible scope to avoid naming conflicts.\\n\\n'"
      ]
     },
     "execution_count": 38,
     "metadata": {},
     "output_type": "execute_result"
    }
   ],
   "source": [
    "\"\"\"\n",
    "Best practices for naming functions and variables in Python:\n",
    "\n",
    "Use descriptive names-- The names of functions and variables should be descriptive of what they do. This will help to make your code \n",
    "more readable and understandable.\n",
    "\n",
    "Use consistent naming conventions -- Use a consistent naming convention for \n",
    "all of your functions and variables. This will help to make your code look \n",
    "more organized and professional.\n",
    "\n",
    "Avoid using abbreviations - Abbreviations can be confusing, so it is best \n",
    "to avoid them in variable and function names.\n",
    "\n",
    "Use lowercase letters -- Function and variable names should be lowercase \n",
    "letters. This is the standard convention in Python.\n",
    "\n",
    "Use underscores to separate words -- If a function or variable name consists of more than one word, separate the words \n",
    "with underscores.  This will make the name easier to read.\n",
    "\n",
    "\n",
    "\n",
    "Guidelines for naming functions and variables:\n",
    "Keep names short and concise.: Long names can be difficult to type and read.\n",
    "\n",
    "Use meaningful names.: Variable and function names should be meaningful to the user.\n",
    "\n",
    "Avoid using reserved keywords.: Reserved keywords are words that have a special meaning in Python. Do not use reserved words as function or variable names.\n",
    "Be aware of scope.: The scope of a variable is the area of code where it is visible. Be sure to declare variables in the smallest possible scope to avoid naming conflicts.\n",
    "\n",
    "\"\"\""
   ]
  },
  {
   "cell_type": "code",
   "execution_count": null,
   "id": "d5cfe8d1",
   "metadata": {},
   "outputs": [],
   "source": []
  }
 ],
 "metadata": {
  "kernelspec": {
   "display_name": "Python 3 (ipykernel)",
   "language": "python",
   "name": "python3"
  },
  "language_info": {
   "codemirror_mode": {
    "name": "ipython",
    "version": 3
   },
   "file_extension": ".py",
   "mimetype": "text/x-python",
   "name": "python",
   "nbconvert_exporter": "python",
   "pygments_lexer": "ipython3",
   "version": "3.10.9"
  }
 },
 "nbformat": 4,
 "nbformat_minor": 5
}
