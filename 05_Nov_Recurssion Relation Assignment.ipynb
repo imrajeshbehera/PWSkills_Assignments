{
 "cells": [
  {
   "cell_type": "markdown",
   "id": "d45a5ec2",
   "metadata": {},
   "source": [
    "# 1. Find the value of T(2) for the recurrence relation T(n) = 3T(n-1) + 12n, given that T(0)=5."
   ]
  },
  {
   "cell_type": "code",
   "execution_count": 1,
   "id": "fa2c9b86",
   "metadata": {},
   "outputs": [
    {
     "name": "stdout",
     "output_type": "stream",
     "text": [
      "The value of T(2) is 105\n"
     ]
    }
   ],
   "source": [
    "# Define the recurrence relation as a function\n",
    "def T(n):\n",
    "  # Base case: if n is 0, return 5\n",
    "  if n == 0:\n",
    "    return 5\n",
    "  # Recursive case: return 3 times the previous term plus 12 times n\n",
    "  else:\n",
    "    return 3 * T(n-1) + 12 * n\n",
    "\n",
    "# Find the value of T(2) by calling the function\n",
    "T_2 = T(2)\n",
    "\n",
    "# Print the value of T(2)\n",
    "print(\"The value of T(2) is\", T_2)\n"
   ]
  },
  {
   "cell_type": "markdown",
   "id": "422925ae",
   "metadata": {},
   "source": [
    "# 2. Given a recurrence relation, solve it using the substitution method:\n",
    "a. T(n) = T(n-1) + c\n",
    "b. T(n) = 2T(n/2) + n\n",
    "c. T(n) = 2T(n/2) + c\n",
    "d. T(n) = T(n/2) + c"
   ]
  },
  {
   "cell_type": "markdown",
   "id": "84bb3a43",
   "metadata": {},
   "source": [
    "a) T(n) = T(n-1) + c\n",
    "\n",
    "T(n) = T(n-1) + c\n",
    "     = T(n-2) + c + c \n",
    "     = T(n-3) + c + c + c\n",
    "     = ...\n",
    "     = T(1) + n*c\n",
    "\n",
    "Therefore, the solution is T(n) = Θ(n).\n",
    "\n",
    "b) T(n) = 2T(n/2) + n \n",
    "\n",
    "T(n) = 2T(n/2) + n\n",
    "     = 2[2T(n/4) + n/2] + n\n",
    "     = 4T(n/4) + 2n\n",
    "     = 4[2T(n/8) + n/4)] + 2n\n",
    "     = 8T(n/8) + 3n\n",
    "\n",
    "Therefore, the solution is T(n) = Θ(nLogn).\n",
    "\n",
    "c) T(n) = 2T(n/2) + c\n",
    "\n",
    "T(n) = 2T(n/2) + c \n",
    "     = 2[2T(n/4) + c] + c\n",
    "     = 4T(n/4) + 2c\n",
    "     = 4[2T(n/8) + c] + 2c\n",
    "     = 8T(n/8) + 3c\n",
    "\n",
    "Therefore, the solution is T(n) = Θ(n).  \n",
    "\n",
    "d) T(n) = T(n/2) + c \n",
    "\n",
    "T(n) = T(n/2) + c\n",
    "     = 2T(n/4) + c \n",
    "     = 4T(n/8) + c\n",
    "     = nT(1) + cn\n",
    "\n",
    "Therefore, the solution is T(n) = Θ(n)."
   ]
  },
  {
   "cell_type": "markdown",
   "id": "77998eb9",
   "metadata": {},
   "source": [
    "# 3. Given a recurrence relation, solve it using the recursive tree approach:\n",
    "a. T(n) = 2T(n-1) +1\n",
    "b. T(n) = 2T(n/2) + n"
   ]
  },
  {
   "cell_type": "markdown",
   "id": "dc9bf9ed",
   "metadata": {},
   "source": [
    "a) T(n) = 2T(n-1) + 1\n",
    "\n",
    "The recursive tree would be:\n",
    "\n",
    "                        T(n)  \n",
    "                       /     \\\n",
    "                 T(n-1)        1\n",
    "               /     \\\n",
    "             T(n-2)   1\n",
    "           /  \\\n",
    "         ..... .....\n",
    "At each level, number of nodes double.\n",
    "\n",
    "Height of tree is n.\n",
    "Work done per node = 1\n",
    "Number of nodes at last level = 2^(n-1)\n",
    "\n",
    "Therefore, total work = 1 + 2 + 22 + ..... + 2^(n-1)\n",
    "= 2^n - 1\n",
    "\n",
    "Time complexity = Θ(2^n)\n",
    "\n",
    "b) T(n) = 2T(n/2) + n\n",
    "\n",
    "The recursive tree would be:\n",
    "\n",
    "\n",
    "               T(n)\n",
    "            /        \\\n",
    "       T(n/2)         n  \n",
    "     /    \\\n",
    "   T(n/4)  n/2\n",
    " /  \\\n",
    "..... .....\n",
    "\n",
    "Here the work done per node is n.\n",
    "\n",
    "Height of tree is log(n)\n",
    "Number of nodes at last level = n/2\n",
    "\n",
    "Therefore, total work = n + n/2 + n/4 + ..... + 1\n",
    "= n(1 + 1/2 + 1/4 + ..)\n",
    "= 2n\n",
    "= Θ(n)\n",
    "\n",
    "Time complexity = Θ(nLogn)"
   ]
  },
  {
   "cell_type": "code",
   "execution_count": null,
   "id": "8beb420f",
   "metadata": {},
   "outputs": [],
   "source": []
  }
 ],
 "metadata": {
  "kernelspec": {
   "display_name": "Python 3 (ipykernel)",
   "language": "python",
   "name": "python3"
  },
  "language_info": {
   "codemirror_mode": {
    "name": "ipython",
    "version": 3
   },
   "file_extension": ".py",
   "mimetype": "text/x-python",
   "name": "python",
   "nbconvert_exporter": "python",
   "pygments_lexer": "ipython3",
   "version": "3.10.9"
  }
 },
 "nbformat": 4,
 "nbformat_minor": 5
}
