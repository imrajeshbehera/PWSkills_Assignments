{
 "cells": [
  {
   "cell_type": "markdown",
   "id": "21e2b49b",
   "metadata": {},
   "source": [
    "Problem 1: Reverse a singly linked list.\n",
    "Input: 1 -> 2 -> 3 -> 4 -> 5\n",
    "Output: 5 -> 4 -> 3 -> 2 -> 1"
   ]
  },
  {
   "cell_type": "code",
   "execution_count": 1,
   "id": "94b56157",
   "metadata": {},
   "outputs": [
    {
     "name": "stdout",
     "output_type": "stream",
     "text": [
      "The original list is:\n",
      "1 2 3 4 5 \n",
      "The reversed list is:\n",
      "5 4 3 2 1 \n"
     ]
    }
   ],
   "source": [
    "# Define a class for the nodes of the linked list\n",
    "class Node:\n",
    "  def __init__(self, data):\n",
    "    self.data = data\n",
    "    self.next = None\n",
    "\n",
    "# Define a function to reverse a linked list\n",
    "def reverse_list(head):\n",
    "  # Initialize the variables\n",
    "  prev = None\n",
    "  curr = head\n",
    "  next = None\n",
    "  # Loop until curr is None\n",
    "  while curr:\n",
    "    # Set next as the next node of curr\n",
    "    next = curr.next\n",
    "    # Set the next node of curr as prev\n",
    "    curr.next = prev\n",
    "    # Set prev as curr and curr as next\n",
    "    prev = curr\n",
    "    curr = next\n",
    "  # Return prev as the new head\n",
    "  return prev\n",
    "\n",
    "# Define a function to print a linked list\n",
    "def print_list(head):\n",
    "  # Initialize a pointer to the head\n",
    "  temp = head\n",
    "  # Loop until temp is None\n",
    "  while temp:\n",
    "    # Print the data of the node\n",
    "    print(temp.data, end=\" \")\n",
    "    # Move to the next node\n",
    "    temp = temp.next\n",
    "  # Print a new line\n",
    "  print()\n",
    "\n",
    "# Create a sample linked list\n",
    "head = Node(1)\n",
    "head.next = Node(2)\n",
    "head.next.next = Node(3)\n",
    "head.next.next.next = Node(4)\n",
    "head.next.next.next.next = Node(5)\n",
    "\n",
    "# Print the original list\n",
    "print(\"The original list is:\")\n",
    "print_list(head)\n",
    "\n",
    "# Reverse the list\n",
    "head = reverse_list(head)\n",
    "\n",
    "# Print the reversed list\n",
    "print(\"The reversed list is:\")\n",
    "print_list(head)\n"
   ]
  },
  {
   "cell_type": "markdown",
   "id": "b0b968a8",
   "metadata": {},
   "source": [
    "# Problem 2: Merge two sorted linked lists into one sorted linked list.\n",
    "Input: List 1: 1 -> 3 -> 5, List 2: 2 -> 4 -> 6\n",
    "Output: 1 -> 2 -> 3 -> 4 -> 5 -> 6"
   ]
  },
  {
   "cell_type": "code",
   "execution_count": 2,
   "id": "69757f65",
   "metadata": {},
   "outputs": [
    {
     "name": "stdout",
     "output_type": "stream",
     "text": [
      "The original lists are:\n",
      "1 3 5 \n",
      "2 4 6 \n",
      "The merged list is:\n",
      "1 2 3 4 5 6 \n"
     ]
    }
   ],
   "source": [
    "# Define a class for the nodes of the linked list\n",
    "class Node:\n",
    "  def __init__(self, data):\n",
    "    self.data = data\n",
    "    self.next = None\n",
    "\n",
    "# Define a function to merge two sorted linked lists\n",
    "def merge_lists(list1, list2):\n",
    "  # Create a dummy node\n",
    "  head = Node(0)\n",
    "  # Point the tail to the dummy node\n",
    "  tail = head\n",
    "  # Loop until either of the lists is empty\n",
    "  while list1 and list2:\n",
    "    # If the value of the first list is smaller than or equal to the value of the second list\n",
    "    if list1.data <= list2.data:\n",
    "      # Append the first list node to the tail\n",
    "      tail.next = list1\n",
    "      # Move the first list pointer to the next node\n",
    "      list1 = list1.next\n",
    "    # Otherwise\n",
    "    else:\n",
    "      # Append the second list node to the tail\n",
    "      tail.next = list2\n",
    "      # Move the second list pointer to the next node\n",
    "      list2 = list2.next\n",
    "    # Move the tail pointer to the next node\n",
    "    tail = tail.next\n",
    "  # Append the remaining list to the tail\n",
    "  tail.next = list1 or list2\n",
    "  # Return the next node of the dummy node as the head of the merged list\n",
    "  return head.next\n",
    "\n",
    "# Define a function to print a linked list\n",
    "def print_list(head):\n",
    "  # Initialize a pointer to the head\n",
    "  temp = head\n",
    "  # Loop until temp is None\n",
    "  while temp:\n",
    "    # Print the data of the node\n",
    "    print(temp.data, end=\" \")\n",
    "    # Move to the next node\n",
    "    temp = temp.next\n",
    "  # Print a new line\n",
    "  print()\n",
    "\n",
    "# Create two sample sorted linked lists\n",
    "list1 = Node(1)\n",
    "list1.next = Node(3)\n",
    "list1.next.next = Node(5)\n",
    "\n",
    "list2 = Node(2)\n",
    "list2.next = Node(4)\n",
    "list2.next.next = Node(6)\n",
    "\n",
    "# Print the original lists\n",
    "print(\"The original lists are:\")\n",
    "print_list(list1)\n",
    "print_list(list2)\n",
    "\n",
    "# Merge the lists\n",
    "head = merge_lists(list1, list2)\n",
    "\n",
    "# Print the merged list\n",
    "print(\"The merged list is:\")\n",
    "print_list(head)\n"
   ]
  },
  {
   "cell_type": "markdown",
   "id": "a430bdb6",
   "metadata": {},
   "source": [
    "Problem 3: Remove the nth node from the end of a linked list.\n",
    "Input: 1 -> 2 -> 3 -> 4 -> 5, n = 2\n",
    "Output: 1 -> 2 -> 3 -> 5"
   ]
  },
  {
   "cell_type": "code",
   "execution_count": 4,
   "id": "4e5f2da7",
   "metadata": {},
   "outputs": [
    {
     "name": "stdout",
     "output_type": "stream",
     "text": [
      "The original list is:\n",
      "1 2 3 4 5 \n",
      "The modified list is:\n",
      "1 2 3 5 \n"
     ]
    }
   ],
   "source": [
    "# Define a class for the nodes of the linked list\n",
    "class Node:\n",
    "  def __init__(self, data):\n",
    "    self.data = data\n",
    "    self.next = None\n",
    "\n",
    "# Define a function to remove the nth node from the end of a linked list\n",
    "def remove_nth_from_end(head, n):\n",
    "  # Create a dummy node\n",
    "  dummy = Node(0)\n",
    "  # Point the dummy node to the head of the list\n",
    "  dummy.next = head\n",
    "  # Create two pointers, fast and slow, and point them to the dummy node\n",
    "  fast = slow = dummy\n",
    "  # Move the fast pointer n steps ahead of the slow pointer\n",
    "  for _ in range(n):\n",
    "    fast = fast.next\n",
    "  # Loop until the fast pointer reaches the end of the list\n",
    "  while fast.next:\n",
    "    # Move both pointers one step forward\n",
    "    fast = fast.next\n",
    "    slow = slow.next\n",
    "  # Delete the node that the slow pointer is pointing to\n",
    "  slow.next = slow.next.next\n",
    "  # Return the next node of the dummy node as the head of the modified list\n",
    "  return dummy.next\n",
    "\n",
    "# Define a function to print a linked list\n",
    "def print_list(head):\n",
    "  # Initialize a pointer to the head\n",
    "  temp = head\n",
    "  # Loop until temp is None\n",
    "  while temp:\n",
    "    # Print the data of the node\n",
    "    print(temp.data, end=\" \")\n",
    "    # Move to the next node\n",
    "    temp = temp.next\n",
    "  # Print a new line\n",
    "  print()\n",
    "\n",
    "# Create a sample linked list\n",
    "head = Node(1)\n",
    "head.next = Node(2)\n",
    "head.next.next = Node(3)\n",
    "head.next.next.next = Node(4)\n",
    "head.next.next.next.next = Node(5)\n",
    "\n",
    "# Print the original list\n",
    "print(\"The original list is:\")\n",
    "print_list(head)\n",
    "\n",
    "# Remove the nth node from the end of the list\n",
    "head = remove_nth_from_end(head, 2)\n",
    "\n",
    "# Print the modified list\n",
    "print(\"The modified list is:\")\n",
    "print_list(head)\n"
   ]
  },
  {
   "cell_type": "markdown",
   "id": "0fe52264",
   "metadata": {},
   "source": [
    "Problem 4: Find the intersection point of two linked lists.\n",
    "\n",
    "Input: List 1: 1 -> 2 -> 3 -> 4, List 2: 9 -> 8 -> 3 -> 4\n",
    "Output: Node with value 3"
   ]
  },
  {
   "cell_type": "code",
   "execution_count": 5,
   "id": "6988ef59",
   "metadata": {},
   "outputs": [
    {
     "name": "stdout",
     "output_type": "stream",
     "text": [
      "The intersection point of the lists is 3\n"
     ]
    }
   ],
   "source": [
    "# Define a class for the nodes of the linked list\n",
    "class Node:\n",
    "  def __init__(self, data):\n",
    "    self.data = data\n",
    "    self.next = None\n",
    "\n",
    "# Define a function to get the count of nodes in a list\n",
    "def get_count(head):\n",
    "  # Initialize a variable to store the count\n",
    "  count = 0\n",
    "  # Initialize a pointer to the head\n",
    "  temp = head\n",
    "  # Loop until temp is None\n",
    "  while temp:\n",
    "    # Increment the count\n",
    "    count += 1\n",
    "    # Move to the next node\n",
    "    temp = temp.next\n",
    "  # Return the count\n",
    "  return count\n",
    "\n",
    "# Define a function to get the intersection point of two lists\n",
    "def get_intersection_point(head1, head2):\n",
    "  # Get the counts of the nodes in both lists\n",
    "  c1 = get_count(head1)\n",
    "  c2 = get_count(head2)\n",
    "  # Get the difference of counts\n",
    "  d = abs(c1 - c2)\n",
    "  # Initialize two pointers to the heads of the lists\n",
    "  current1 = head1\n",
    "  current2 = head2\n",
    "  # If the first list is longer, move its pointer by d nodes\n",
    "  if c1 > c2:\n",
    "    for _ in range(d):\n",
    "      current1 = current1.next\n",
    "  # If the second list is longer, move its pointer by d nodes\n",
    "  else:\n",
    "    for _ in range(d):\n",
    "      current2 = current2.next\n",
    "  # Loop until either of the pointers is None\n",
    "  while current1 and current2:\n",
    "    # If the pointers point to the same node, return its data\n",
    "    if current1 == current2:\n",
    "      return current1.data\n",
    "    # Move both pointers to the next nodes\n",
    "    current1 = current1.next\n",
    "    current2 = current2.next\n",
    "  # If no common node is found, return -1\n",
    "  return -1\n",
    "\n",
    "# Create two sample linked lists with a common node\n",
    "list1 = Node(1)\n",
    "list1.next = Node(2)\n",
    "list1.next.next = Node(3)\n",
    "list1.next.next.next = Node(4)\n",
    "\n",
    "list2 = Node(9)\n",
    "list2.next = Node(8)\n",
    "list2.next.next = list1.next.next # The common node is 3\n",
    "\n",
    "# Find the intersection point of the lists\n",
    "result = get_intersection_point(list1, list2)\n",
    "\n",
    "# Print the result\n",
    "print(\"The intersection point of the lists is\", result)\n"
   ]
  },
  {
   "cell_type": "markdown",
   "id": "ef336566",
   "metadata": {},
   "source": [
    "Problem 5: Remove duplicates from a sorted linked list.\n",
    "Input: 1 -> 1 -> 2 -> 3 -> 3\n",
    "Output: 1 -> 2 -> 3\n"
   ]
  },
  {
   "cell_type": "code",
   "execution_count": 6,
   "id": "61803c0c",
   "metadata": {},
   "outputs": [
    {
     "name": "stdout",
     "output_type": "stream",
     "text": [
      "The original list is:\n",
      "1 1 2 3 3 \n",
      "The modified list is:\n",
      "1 2 3 \n"
     ]
    }
   ],
   "source": [
    "# Define a class for the nodes of the linked list\n",
    "class Node:\n",
    "  def __init__(self, data):\n",
    "    self.data = data\n",
    "    self.next = None\n",
    "\n",
    "# Define a function to remove duplicates from a sorted linked list\n",
    "def remove_duplicates(head):\n",
    "  # Initialize the current pointer to the head of the list\n",
    "  current = head\n",
    "  # Loop until current is None or current.next is None\n",
    "  while current and current.next:\n",
    "    # If the data of current and current.next are the same\n",
    "    if current.data == current.next.data:\n",
    "      # Store the next node of current.next in a variable called next\n",
    "      next = current.next.next\n",
    "      # Delete current.next by setting current.next to next\n",
    "      current.next = next\n",
    "    # Otherwise, move the current pointer to the next node\n",
    "    else:\n",
    "      current = current.next\n",
    "  # Return the head of the modified list\n",
    "  return head\n",
    "\n",
    "# Define a function to print a linked list\n",
    "def print_list(head):\n",
    "  # Initialize a pointer to the head\n",
    "  temp = head\n",
    "  # Loop until temp is None\n",
    "  while temp:\n",
    "    # Print the data of the node\n",
    "    print(temp.data, end=\" \")\n",
    "    # Move to the next node\n",
    "    temp = temp.next\n",
    "  # Print a new line\n",
    "  print()\n",
    "\n",
    "# Create a sample sorted linked list\n",
    "head = Node(1)\n",
    "head.next = Node(1)\n",
    "head.next.next = Node(2)\n",
    "head.next.next.next = Node(3)\n",
    "head.next.next.next.next = Node(3)\n",
    "\n",
    "# Print the original list\n",
    "print(\"The original list is:\")\n",
    "print_list(head)\n",
    "\n",
    "# Remove the duplicates from the list\n",
    "head = remove_duplicates(head)\n",
    "\n",
    "# Print the modified list\n",
    "print(\"The modified list is:\")\n",
    "print_list(head)\n"
   ]
  },
  {
   "cell_type": "markdown",
   "id": "a467c756",
   "metadata": {},
   "source": [
    "Problem 6: Add two numbers represented by linked lists (where each node contains a single digit).\n",
    "Input: List 1: 2 -> 4 -> 3, List 2: 5 -> 6 -> 4 (represents 342 + 465)\n",
    "Output: 7 -> 0 -> 8 (represents 807)"
   ]
  },
  {
   "cell_type": "code",
   "execution_count": 7,
   "id": "57c1e814",
   "metadata": {},
   "outputs": [
    {
     "name": "stdout",
     "output_type": "stream",
     "text": [
      "The original lists are:\n",
      "2 4 3 \n",
      "5 6 4 \n",
      "The result list is:\n",
      "7 0 8 \n"
     ]
    }
   ],
   "source": [
    "# Define a class for the nodes of the linked list\n",
    "class Node:\n",
    "  def __init__(self, data):\n",
    "    self.data = data\n",
    "    self.next = None\n",
    "\n",
    "# Define a function to add two numbers represented by linked lists\n",
    "def add_lists(list1, list2):\n",
    "  # Initialize the head and the carry\n",
    "  head = None\n",
    "  carry = 0\n",
    "  # Loop until both lists are empty or carry is non-zero\n",
    "  while list1 or list2 or carry:\n",
    "    # Add the data of the current nodes and the carry\n",
    "    sum = carry + (list1.data if list1 else 0) + (list2.data if list2 else 0)\n",
    "    # Update the carry\n",
    "    carry = sum // 10\n",
    "    # Create a new node with the data as the remainder\n",
    "    node = Node(sum % 10)\n",
    "    # Append the node to the result list\n",
    "    if head is None:\n",
    "      head = node\n",
    "    else:\n",
    "      tail.next = node\n",
    "    tail = node\n",
    "    # Move the pointers of both lists if they are not empty\n",
    "    if list1:\n",
    "      list1 = list1.next\n",
    "    if list2:\n",
    "      list2 = list2.next\n",
    "  # Return the head of the result list\n",
    "  return head\n",
    "\n",
    "# Define a function to print a linked list\n",
    "def print_list(head):\n",
    "  # Initialize a pointer to the head\n",
    "  temp = head\n",
    "  # Loop until temp is None\n",
    "  while temp:\n",
    "    # Print the data of the node\n",
    "    print(temp.data, end=\" \")\n",
    "    # Move to the next node\n",
    "    temp = temp.next\n",
    "  # Print a new line\n",
    "  print()\n",
    "\n",
    "# Create two sample linked lists\n",
    "list1 = Node(2)\n",
    "list1.next = Node(4)\n",
    "list1.next.next = Node(3)\n",
    "\n",
    "list2 = Node(5)\n",
    "list2.next = Node(6)\n",
    "list2.next.next = Node(4)\n",
    "\n",
    "# Print the original lists\n",
    "print(\"The original lists are:\")\n",
    "print_list(list1)\n",
    "print_list(list2)\n",
    "\n",
    "# Add the lists\n",
    "head = add_lists(list1, list2)\n",
    "\n",
    "# Print the result list\n",
    "print(\"The result list is:\")\n",
    "print_list(head)\n"
   ]
  },
  {
   "cell_type": "markdown",
   "id": "a42a80f7",
   "metadata": {},
   "source": [
    "Problem 7: Swap nodes in pairs in a linked list.\n",
    "Input: 1 -> 2 -> 3 -> 4\n",
    "Output: 2 -> 1 -> 4 -> 3"
   ]
  },
  {
   "cell_type": "code",
   "execution_count": 8,
   "id": "ae69d844",
   "metadata": {},
   "outputs": [
    {
     "name": "stdout",
     "output_type": "stream",
     "text": [
      "The original list is:\n",
      "1 2 3 4 \n",
      "The modified list is:\n",
      "2 1 4 3 \n"
     ]
    }
   ],
   "source": [
    "# Define a class for the nodes of the linked list\n",
    "class Node:\n",
    "  def __init__(self, data):\n",
    "    self.data = data\n",
    "    self.next = None\n",
    "\n",
    "# Define a function to swap nodes in pairs in a linked list\n",
    "def swap_pairs(head):\n",
    "  # If the list is empty or has only one node, return the list as it is\n",
    "  if head is None or head.next is None:\n",
    "    return head\n",
    "  # Otherwise, store the first two nodes in two variables\n",
    "  first = head\n",
    "  second = head.next\n",
    "  # Set the next node of first as the result of calling the function for the next node of second\n",
    "  first.next = swap_pairs(second.next)\n",
    "  # Set the next node of second as first\n",
    "  second.next = first\n",
    "  # Return second as the new head of the modified list\n",
    "  return second\n",
    "\n",
    "# Define a function to print a linked list\n",
    "def print_list(head):\n",
    "  # Initialize a pointer to the head\n",
    "  temp = head\n",
    "  # Loop until temp is None\n",
    "  while temp:\n",
    "    # Print the data of the node\n",
    "    print(temp.data, end=\" \")\n",
    "    # Move to the next node\n",
    "    temp = temp.next\n",
    "  # Print a new line\n",
    "  print()\n",
    "\n",
    "# Create a sample linked list\n",
    "head = Node(1)\n",
    "head.next = Node(2)\n",
    "head.next.next = Node(3)\n",
    "head.next.next.next = Node(4)\n",
    "\n",
    "# Print the original list\n",
    "print(\"The original list is:\")\n",
    "print_list(head)\n",
    "\n",
    "# Swap the nodes in pairs\n",
    "head = swap_pairs(head)\n",
    "\n",
    "# Print the modified list\n",
    "print(\"The modified list is:\")\n",
    "print_list(head)\n"
   ]
  },
  {
   "cell_type": "code",
   "execution_count": 9,
   "id": "db749e69",
   "metadata": {},
   "outputs": [
    {
     "name": "stdout",
     "output_type": "stream",
     "text": [
      "The original list is:\n",
      "1 2 3 4 5 \n",
      "The modified list is:\n",
      "3 2 1 \n"
     ]
    }
   ],
   "source": [
    "# Define a class for the nodes of the linked list\n",
    "class Node:\n",
    "  def __init__(self, data):\n",
    "    self.data = data\n",
    "    self.next = None\n",
    "\n",
    "# Define a function to reverse nodes in a linked list in groups of k\n",
    "def reverse_in_groups(head, k):\n",
    "  # If the list is empty or has less than k nodes, return the list as it is\n",
    "  if head is None or head.next is None or k <= 1:\n",
    "    return head, head\n",
    "  # Otherwise, store the first node in a variable called head and the kth node in a variable called tail\n",
    "  current = head\n",
    "  for _ in range(k - 1):\n",
    "    current = current.next\n",
    "    # If the current node is None, return the list as it is\n",
    "    if current is None:\n",
    "      return head, head\n",
    "  tail = current\n",
    "  # Reverse the first k nodes using a helper function that returns the new head and the new tail of the reversed segment\n",
    "  new_head, new_tail = reverse_segment(head, tail)\n",
    "  # Set the next node of the original tail as the result of calling the function for the next node of the original head\n",
    "  new_tail.next, last = reverse_in_groups(head.next, k)\n",
    "  # Return the new head and the last node of the modified list\n",
    "  return new_head, last\n",
    "\n",
    "# Define a helper function to reverse a segment of nodes from head to tail\n",
    "def reverse_segment(head, tail):\n",
    "  # Initialize the previous, current and next pointers\n",
    "  prev = None\n",
    "  current = head\n",
    "  next = None\n",
    "  # Loop until the current node is the tail node\n",
    "  while current != tail:\n",
    "    # Set the next node as the next node of the current node\n",
    "    next = current.next\n",
    "    # Set the next node of the current node as the previous node\n",
    "    current.next = prev\n",
    "    # Set the previous node as the current node\n",
    "    prev = current\n",
    "    # Set the current node as the next node\n",
    "    current = next\n",
    "  # Set the next node of the tail node as the previous node\n",
    "  tail.next = prev\n",
    "  # Return the tail and the head as the new head and the new tail of the reversed segment\n",
    "  return tail, head\n",
    "\n",
    "# Define a function to print a linked list\n",
    "def print_list(head):\n",
    "  # Initialize a pointer to the head\n",
    "  temp = head\n",
    "  # Loop until temp is None\n",
    "  while temp:\n",
    "    # Print the data of the node\n",
    "    print(temp.data, end=\" \")\n",
    "    # Move to the next node\n",
    "    temp = temp.next\n",
    "  # Print a new line\n",
    "  print()\n",
    "\n",
    "# Create a sample linked list\n",
    "head = Node(1)\n",
    "head.next = Node(2)\n",
    "head.next.next = Node(3)\n",
    "head.next.next.next = Node(4)\n",
    "head.next.next.next.next = Node(5)\n",
    "\n",
    "# Print the original list\n",
    "print(\"The original list is:\")\n",
    "print_list(head)\n",
    "\n",
    "# Reverse the nodes in groups of k\n",
    "head, _ = reverse_in_groups(head, 3)\n",
    "\n",
    "# Print the modified list\n",
    "print(\"The modified list is:\")\n",
    "print_list(head)\n"
   ]
  },
  {
   "cell_type": "markdown",
   "id": "40a310ce",
   "metadata": {},
   "source": [
    "Problem 9: Determine if a linked list is a palindrome.\n",
    "Input: 1 -> 2 -> 2 -> 1\n",
    "Output: True"
   ]
  },
  {
   "cell_type": "code",
   "execution_count": 10,
   "id": "098136d7",
   "metadata": {},
   "outputs": [
    {
     "name": "stdout",
     "output_type": "stream",
     "text": [
      "The list is a palindrome: True\n"
     ]
    }
   ],
   "source": [
    "# Define a class for the nodes of the linked list\n",
    "class Node:\n",
    "  def __init__(self, data):\n",
    "    self.data = data\n",
    "    self.next = None\n",
    "\n",
    "# Define a function to determine if a linked list is a palindrome\n",
    "def is_palindrome(head):\n",
    "  # Create an empty stack\n",
    "  stack = []\n",
    "  # Initialize the current pointer to the head of the list\n",
    "  current = head\n",
    "  # Loop until current is None\n",
    "  while current:\n",
    "    # Push the data of the current node into the stack\n",
    "    stack.append(current.data)\n",
    "    # Move the current pointer to the next node\n",
    "    current = current.next\n",
    "  # Reset the current pointer to the head of the list\n",
    "  current = head\n",
    "  # Loop until current is None\n",
    "  while current:\n",
    "    # Pop the top element from the stack and compare it with the data of the current node\n",
    "    if current.data != stack.pop():\n",
    "      # If they are not equal, return False\n",
    "      return False\n",
    "    # Move the current pointer to the next node\n",
    "    current = current.next\n",
    "  # Return True\n",
    "  return True\n",
    "\n",
    "# Create a sample linked list\n",
    "head = Node(1)\n",
    "head.next = Node(2)\n",
    "head.next.next = Node(2)\n",
    "head.next.next.next = Node(1)\n",
    "\n",
    "# Determine if the list is a palindrome\n",
    "result = is_palindrome(head)\n",
    "\n",
    "# Print the result\n",
    "print(\"The list is a palindrome:\", result)\n"
   ]
  },
  {
   "cell_type": "markdown",
   "id": "789aa717",
   "metadata": {},
   "source": [
    "Problem 10: Rotate a linked list to the right by k places.\n",
    "Input: 1 -> 2 -> 3 -> 4 -> 5, k = 2\n",
    "Output: 4 -> 5 -> 1 -> 2 -> 3\n"
   ]
  },
  {
   "cell_type": "code",
   "execution_count": 11,
   "id": "524e13a4",
   "metadata": {},
   "outputs": [
    {
     "name": "stdout",
     "output_type": "stream",
     "text": [
      "The original list is:\n",
      "1 2 3 4 5 \n",
      "The modified list is:\n",
      "4 5 \n"
     ]
    }
   ],
   "source": [
    "# Define a class for the nodes of the linked list\n",
    "class Node:\n",
    "  def __init__(self, data):\n",
    "    self.data = data\n",
    "    self.next = None\n",
    "\n",
    "# Define a function to rotate a linked list to the right by k places\n",
    "def rotate_right(head, k):\n",
    "  # If the list is empty or has only one node or k is zero, return the list as it is\n",
    "  if head is None or head.next is None or k == 0:\n",
    "    return head\n",
    "  # Otherwise, initialize the last pointer to the head of the list\n",
    "  last = head\n",
    "  # Loop until the next node of last is None\n",
    "  while last.next:\n",
    "    # Move the last pointer to the next node\n",
    "    last = last.next\n",
    "  # Set the next node of last as the head of the list to make it circular\n",
    "  last.next = head\n",
    "  # Initialize the count as the length of the list minus k modulo the length of the list\n",
    "  count = (last.data - k) % last.data\n",
    "  # Initialize the current pointer to the head of the list\n",
    "  current = head\n",
    "  # Loop until count is greater than one\n",
    "  while count > 1:\n",
    "    # Move the current pointer to the next node\n",
    "    current = current.next\n",
    "    # Decrement the count by one\n",
    "    count -= 1\n",
    "  # Set the next node of current as the new head of the list\n",
    "  head = current.next\n",
    "  # Set the next node of last as None to break the circular link\n",
    "  last.next = None\n",
    "  # Return the new head of the list\n",
    "  return head\n",
    "\n",
    "# Define a function to print a linked list\n",
    "def print_list(head):\n",
    "  # Initialize a pointer to the head\n",
    "  temp = head\n",
    "  # Loop until temp is None\n",
    "  while temp:\n",
    "    # Print the data of the node\n",
    "    print(temp.data, end=\" \")\n",
    "    # Move to the next node\n",
    "    temp = temp.next\n",
    "  # Print a new line\n",
    "  print()\n",
    "\n",
    "# Create a sample linked list\n",
    "head = Node(1)\n",
    "head.next = Node(2)\n",
    "head.next.next = Node(3)\n",
    "head.next.next.next = Node(4)\n",
    "head.next.next.next.next = Node(5)\n",
    "\n",
    "# Print the original list\n",
    "print(\"The original list is:\")\n",
    "print_list(head)\n",
    "\n",
    "# Rotate the list to the right by k places\n",
    "head = rotate_right(head, 2)\n",
    "\n",
    "# Print the modified list\n",
    "print(\"The modified list is:\")\n",
    "print_list(head)\n"
   ]
  },
  {
   "cell_type": "markdown",
   "id": "e7f746c8",
   "metadata": {},
   "source": [
    "Problem 11: Flatten a multilevel doubly linked list.\n",
    "Input: 1 <-> 2 <-> 3 <-> 7 <-> 8 <-> 11 -> 12, 4 <-> 5 -> 9 -> 10, 6 -> 13\n",
    "Output: 1 <-> 2 <-> 3 <-> 4 <-> 5 <-> 6 <-> 7 <-> 8 <-> 9 <-> 10 <-> 11 <-> 12 <-> 13"
   ]
  },
  {
   "cell_type": "code",
   "execution_count": 2,
   "id": "4f721f35",
   "metadata": {},
   "outputs": [
    {
     "name": "stdout",
     "output_type": "stream",
     "text": [
      "1 2 3 4 5 9 10 7 8 6 13 11 12 "
     ]
    }
   ],
   "source": [
    "class Node:\n",
    "    def __init__(self, val=0, prev=None, next=None, child=None):\n",
    "        self.val = val\n",
    "        self.prev = prev\n",
    "        self.next = next\n",
    "        self.child = child\n",
    "\n",
    "def flatten(head):\n",
    "    if not head:\n",
    "        return None\n",
    "\n",
    "    dummy = Node(0)\n",
    "    curr = dummy\n",
    "\n",
    "    stack = []\n",
    "    stack.append(head)\n",
    "\n",
    "    while stack:\n",
    "        temp = stack.pop()\n",
    "\n",
    "        if temp.next:\n",
    "            stack.append(temp.next)\n",
    "\n",
    "        if temp.child:\n",
    "            stack.append(temp.child)\n",
    "            temp.child = None\n",
    "\n",
    "        curr.next = temp\n",
    "        temp.prev = curr\n",
    "        curr = temp\n",
    "\n",
    "    dummy.next.prev = None\n",
    "    return dummy.next\n",
    "\n",
    "# Example usage\n",
    "# Create a multi-level doubly linked list\n",
    "node1 = Node(1)\n",
    "node2 = Node(2)\n",
    "node3 = Node(3)\n",
    "node4 = Node(4)\n",
    "node5 = Node(5)\n",
    "node6 = Node(6)\n",
    "node7 = Node(7)\n",
    "node8 = Node(8)\n",
    "node9 = Node(9)\n",
    "node10 = Node(10)\n",
    "node11 = Node(11)\n",
    "node12 = Node(12)\n",
    "node13 = Node(13)\n",
    "\n",
    "node1.next = node2\n",
    "node2.prev = node1\n",
    "node2.next = node3\n",
    "node3.prev = node2\n",
    "node3.next = node7\n",
    "node7.prev = node3\n",
    "node7.next = node8\n",
    "node8.prev = node7\n",
    "node8.next = node11\n",
    "node11.prev = node8\n",
    "node11.next = node12\n",
    "node12.prev = node11\n",
    "\n",
    "node4.next = node5\n",
    "node5.prev = node4\n",
    "node5.next = node9\n",
    "node9.prev = node5\n",
    "node9.next = node10\n",
    "node10.prev = node9\n",
    "\n",
    "node6.next = node13\n",
    "\n",
    "head = node1\n",
    "child1 = node4\n",
    "child2 = node6\n",
    "\n",
    "node3.child = child1\n",
    "node8.child = child2\n",
    "\n",
    "# Flatten the multi-level doubly linked list\n",
    "flattened_head = flatten(head)\n",
    "\n",
    "# Print the flattened list\n",
    "curr = flattened_head\n",
    "while curr:\n",
    "    print(curr.val, end=\" \")\n",
    "    curr = curr.next"
   ]
  },
  {
   "cell_type": "markdown",
   "id": "dbc0a26e",
   "metadata": {},
   "source": [
    "Problem 12: Rearrange a linked list such that all even positioned nodes are placed at the end.\n",
    "Input: 1 -> 2 -> 3 -> 4 -> 5\n",
    "Output: 1 -> 3 -> 5 -> 2 -> 4"
   ]
  },
  {
   "cell_type": "code",
   "execution_count": 3,
   "id": "af9d41eb",
   "metadata": {},
   "outputs": [
    {
     "name": "stdout",
     "output_type": "stream",
     "text": [
      "1 3 5 2 4 "
     ]
    }
   ],
   "source": [
    "class Node:\n",
    "    def __init__(self, val=0, next=None):\n",
    "        self.val = val\n",
    "        self.next = next\n",
    "\n",
    "def rearrange_list(head):\n",
    "    if not head or not head.next:\n",
    "        return head\n",
    "\n",
    "    odd = head\n",
    "    even = head.next\n",
    "    even_head = even\n",
    "\n",
    "    while even and even.next:\n",
    "        odd.next = even.next\n",
    "        odd = odd.next\n",
    "        even.next = odd.next\n",
    "        even = even.next\n",
    "\n",
    "    odd.next = even_head\n",
    "\n",
    "    return head\n",
    "\n",
    "# Example usage\n",
    "# Create a linked list\n",
    "node1 = Node(1)\n",
    "node2 = Node(2)\n",
    "node3 = Node(3)\n",
    "node4 = Node(4)\n",
    "node5 = Node(5)\n",
    "\n",
    "node1.next = node2\n",
    "node2.next = node3\n",
    "node3.next = node4\n",
    "node4.next = node5\n",
    "\n",
    "head = node1\n",
    "\n",
    "# Rearrange the linked list\n",
    "rearranged_head = rearrange_list(head)\n",
    "\n",
    "# Print the rearranged list\n",
    "curr = rearranged_head\n",
    "while curr:\n",
    "    print(curr.val, end=\" \")\n",
    "    curr = curr.next"
   ]
  },
  {
   "cell_type": "markdown",
   "id": "ad6c7ae1",
   "metadata": {},
   "source": [
    "Problem 13: Given a non-negative number represented as a linked list, add one to it.\n",
    "Input: 1 -> 2 -> 3 (represents the number 123)\n",
    "Output: 1 -> 2 -> 4 (represents the number 124)"
   ]
  },
  {
   "cell_type": "code",
   "execution_count": 5,
   "id": "7dc01a62",
   "metadata": {},
   "outputs": [
    {
     "name": "stdout",
     "output_type": "stream",
     "text": [
      "3 2 2 "
     ]
    }
   ],
   "source": [
    "class Node:\n",
    "    def __init__(self, val=0, next=None):\n",
    "        self.val = val\n",
    "        self.next = next\n",
    "\n",
    "def add_one(head):\n",
    "    dummy = Node()\n",
    "    curr = dummy\n",
    "    carry = 1\n",
    "\n",
    "    while head:\n",
    "        digit_sum = head.val + carry\n",
    "        carry = digit_sum // 10\n",
    "        curr.next = Node(digit_sum % 10)\n",
    "        curr = curr.next\n",
    "        head = head.next\n",
    "\n",
    "    if carry:\n",
    "        curr.next = Node(carry)\n",
    "\n",
    "    # Reverse the new linked list\n",
    "    new_head = reverse_list(dummy.next)\n",
    "\n",
    "    return new_head\n",
    "\n",
    "def reverse_list(head):\n",
    "    prev = None\n",
    "    curr = head\n",
    "\n",
    "    while curr:\n",
    "        next_node = curr.next\n",
    "        curr.next = prev\n",
    "        prev = curr\n",
    "        curr = next_node\n",
    "\n",
    "    return prev\n",
    "\n",
    "# Example usage\n",
    "# Create a linked list\n",
    "node1 = Node(3)\n",
    "node2 = Node(2)\n",
    "node3 = Node(1)\n",
    "\n",
    "node3.next = node2\n",
    "node2.next = node1\n",
    "\n",
    "head = node3\n",
    "\n",
    "# Add one to the number represented by the linked list\n",
    "new_head = add_one(head)\n",
    "\n",
    "# Print the new number\n",
    "curr = new_head\n",
    "while curr:\n",
    "    print(curr.val, end=\" \")\n",
    "    curr = curr.next"
   ]
  },
  {
   "cell_type": "markdown",
   "id": "fc133820",
   "metadata": {},
   "source": [
    "Problem 14: Given a sorted array and a target value, return the index if the target is found. If not, return the\n",
    "index where it would be inserted.\n",
    "Input: nums = [1, 3, 5, 6], target = 5\n",
    "Output: 2"
   ]
  },
  {
   "cell_type": "code",
   "execution_count": 7,
   "id": "2deb1b7f",
   "metadata": {},
   "outputs": [],
   "source": [
    "def searchInsert(nums, target):\n",
    "    left = 0\n",
    "    right = len(nums) - 1\n",
    "\n",
    "    while left <= right:\n",
    "        mid = left + (right - left) // 2\n",
    "\n",
    "        if nums[mid] == target:\n",
    "            return mid\n",
    "        elif nums[mid] < target:\n",
    "            left = mid + 1\n",
    "        else:\n",
    "            right = mid - 1\n",
    "\n",
    "    return left"
   ]
  },
  {
   "cell_type": "code",
   "execution_count": 9,
   "id": "b7833fb8",
   "metadata": {},
   "outputs": [
    {
     "name": "stdout",
     "output_type": "stream",
     "text": [
      "2\n"
     ]
    }
   ],
   "source": [
    "nums = [1, 3, 5, 6]\n",
    "target = 5\n",
    "print(searchInsert(nums, target))  # Output: 2"
   ]
  },
  {
   "cell_type": "markdown",
   "id": "1ff8f597",
   "metadata": {},
   "source": [
    "Problem 15: Find the minimum element in a rotated sorted array.\n",
    "Input: [4, 5, 6, 7, 0, 1, 2]\n",
    "Output: 0"
   ]
  },
  {
   "cell_type": "code",
   "execution_count": 10,
   "id": "6a960fc5",
   "metadata": {},
   "outputs": [
    {
     "name": "stdout",
     "output_type": "stream",
     "text": [
      "0\n"
     ]
    }
   ],
   "source": [
    "def findMin(nums):\n",
    "    left = 0\n",
    "    right = len(nums) - 1\n",
    "\n",
    "    while left < right:\n",
    "        mid = left + (right - left) // 2\n",
    "\n",
    "        # If the middle element is greater than the rightmost element,\n",
    "        # the minimum element must be in the right half\n",
    "        if nums[mid] > nums[right]:\n",
    "            left = mid + 1\n",
    "        else:\n",
    "            # Otherwise, the minimum element must be in the left half\n",
    "            right = mid\n",
    "\n",
    "    # The loop terminates when left == right, and at this point,\n",
    "    # left/right points to the minimum element\n",
    "    return nums[left]\n",
    "\n",
    "nums = [4, 5, 6, 7, 0, 1, 2]\n",
    "print(findMin(nums)) "
   ]
  },
  {
   "cell_type": "markdown",
   "id": "1b3326ec",
   "metadata": {},
   "source": [
    "Problem 16: Search for a target value in a rotated sorted array.\n",
    "Input: nums = [4, 5, 6, 7, 0, 1, 2], target = 0\n",
    "Output: 4"
   ]
  },
  {
   "cell_type": "code",
   "execution_count": 12,
   "id": "f987eacf",
   "metadata": {},
   "outputs": [
    {
     "name": "stdout",
     "output_type": "stream",
     "text": [
      "4\n"
     ]
    }
   ],
   "source": [
    "def search(nums, target):\n",
    "    left = 0\n",
    "    right = len(nums) - 1\n",
    "\n",
    "    while left <= right:\n",
    "        mid = left + (right - left) // 2\n",
    "\n",
    "        if nums[mid] == target:\n",
    "            return mid\n",
    "\n",
    "        # If the left half is sorted\n",
    "        if nums[left] <= nums[mid]:\n",
    "            # If the target is in the left half\n",
    "            if nums[left] <= target < nums[mid]:\n",
    "                right = mid - 1\n",
    "            else:\n",
    "                left = mid + 1\n",
    "        # If the right half is sorted\n",
    "        else:\n",
    "            # If the target is in the right half\n",
    "            if nums[mid] < target <= nums[right]:\n",
    "                left = mid + 1\n",
    "            else:\n",
    "                right = mid - 1\n",
    "\n",
    "    return -1\n",
    "\n",
    "nums = [4, 5, 6, 7, 0, 1, 2]\n",
    "print(search(nums, 0)) "
   ]
  },
  {
   "cell_type": "markdown",
   "id": "b77492ee",
   "metadata": {},
   "source": [
    "Problem 17: Find the peak element in an array. A peak element is greater than its neighbors.\n",
    "Input: nums = [1, 2, 3, 1]\n",
    "Output: 2 (index of peak element)"
   ]
  },
  {
   "cell_type": "code",
   "execution_count": 13,
   "id": "a5e1d8dc",
   "metadata": {},
   "outputs": [
    {
     "name": "stdout",
     "output_type": "stream",
     "text": [
      "2\n"
     ]
    }
   ],
   "source": [
    "def findPeakElement(nums):\n",
    "    left = 0\n",
    "    right = len(nums) - 1\n",
    "\n",
    "    while left < right:\n",
    "        mid = left + (right - left) // 2\n",
    "\n",
    "        # If the middle element is greater than its right neighbor,\n",
    "        # the peak element must be in the left half (including mid)\n",
    "        if nums[mid] > nums[mid + 1]:\n",
    "            right = mid\n",
    "        # Otherwise, the peak element must be in the right half (excluding mid)\n",
    "        else:\n",
    "            left = mid + 1\n",
    "\n",
    "    # The loop terminates when left == right, and at this point,\n",
    "    # left/right points to a peak element\n",
    "    return left\n",
    "\n",
    "nums = [1, 2, 3, 1]\n",
    "print(findPeakElement(nums))"
   ]
  },
  {
   "cell_type": "markdown",
   "id": "eecb9476",
   "metadata": {},
   "source": [
    "Problem 18: Given a m x n matrix where each row and column is sorted in ascending order, count the number\n",
    "of negative numbers.\n",
    "Input: grid = [[4, 3, 2, -1], [3, 2, 1, -1], [1, 1, -1, -2], [-1, -1, -2, -3]]\n",
    "Output: 8"
   ]
  },
  {
   "cell_type": "code",
   "execution_count": 14,
   "id": "91afa77a",
   "metadata": {},
   "outputs": [
    {
     "name": "stdout",
     "output_type": "stream",
     "text": [
      "8\n"
     ]
    }
   ],
   "source": [
    "def countNegatives(grid):\n",
    "    m, n = len(grid), len(grid[0])\n",
    "    count = 0\n",
    "    row, col = 0, n - 1\n",
    "\n",
    "    while row < m and col >= 0:\n",
    "        if grid[row][col] < 0:\n",
    "            count += m - row\n",
    "            col -= 1\n",
    "        else:\n",
    "            row += 1\n",
    "\n",
    "    return count\n",
    "\n",
    "grid = [[4, 3, 2, -1], [3, 2, 1, -1], [1, 1, -1, -2], [-1, -1, -2, -3]]\n",
    "print(countNegatives(grid)) "
   ]
  },
  {
   "cell_type": "markdown",
   "id": "75b7c3bf",
   "metadata": {},
   "source": [
    "Problem 19: Given a 2D matrix sorted in ascending order in each row, and the first integer of each row is\n",
    "greater than the last integer of the previous row, determine if a target value is present in the matrix.\n",
    "\n",
    "Input: matrix = [[1, 3, 5, 7], [10, 11, 16, 20], [23, 30, 34, 60]], target = 3\n",
    "Output: True"
   ]
  },
  {
   "cell_type": "code",
   "execution_count": 15,
   "id": "31b5c6f1",
   "metadata": {},
   "outputs": [
    {
     "name": "stdout",
     "output_type": "stream",
     "text": [
      "True\n"
     ]
    }
   ],
   "source": [
    "def searchMatrix(matrix, target):\n",
    "    if not matrix:\n",
    "        return False\n",
    "\n",
    "    m, n = len(matrix), len(matrix[0])\n",
    "    row, col = 0, n - 1\n",
    "\n",
    "    while row < m and col >= 0:\n",
    "        if matrix[row][col] == target:\n",
    "            return True\n",
    "        elif matrix[row][col] < target:\n",
    "            row += 1\n",
    "        else:\n",
    "            col -= 1\n",
    "\n",
    "    return False\n",
    "\n",
    "\n",
    "matrix = [[1, 3, 5, 7], [10, 11, 16, 20], [23, 30, 34, 60]]\n",
    "print(searchMatrix(matrix, 3))"
   ]
  },
  {
   "cell_type": "markdown",
   "id": "b136412e",
   "metadata": {},
   "source": [
    "Problem 20: Find Median in Two Sorted Arrays\n",
    "Problem: Given two sorted arrays, find the median of the combined sorted array.\n",
    "\n",
    "Input: nums1 = [1, 3], nums2 = [2]\n",
    "Output: 2.0"
   ]
  },
  {
   "cell_type": "code",
   "execution_count": 17,
   "id": "2739307b",
   "metadata": {},
   "outputs": [
    {
     "name": "stdout",
     "output_type": "stream",
     "text": [
      "2\n"
     ]
    }
   ],
   "source": [
    "def findMedianSortedArrays(nums1, nums2):\n",
    "    # Ensure nums1 is the shorter array\n",
    "    if len(nums1) > len(nums2):\n",
    "        nums1, nums2 = nums2, nums1\n",
    "\n",
    "    n1, n2 = len(nums1), len(nums2)\n",
    "    left, right = 0, n1\n",
    "\n",
    "    while left <= right:\n",
    "        partitionX = (left + right) // 2\n",
    "        partitionY = (n1 + n2 + 1) // 2 - partitionX\n",
    "\n",
    "        maxLeftX = nums1[partitionX - 1] if partitionX != 0 else float('-inf')\n",
    "        minRightX = nums1[partitionX] if partitionX != n1 else float('inf')\n",
    "\n",
    "        maxLeftY = nums2[partitionY - 1] if partitionY != 0 else float('-inf')\n",
    "        minRightY = nums2[partitionY] if partitionY != n2 else float('inf')\n",
    "\n",
    "        if maxLeftX <= minRightY and maxLeftY <= minRightX:\n",
    "            if (n1 + n2) % 2 == 0:\n",
    "                return (max(maxLeftX, maxLeftY) + min(minRightX, minRightY)) / 2\n",
    "            else:\n",
    "                return max(maxLeftX, maxLeftY)\n",
    "        elif maxLeftX > minRightY:\n",
    "            right = partitionX - 1\n",
    "        else:\n",
    "            left = partitionX + 1\n",
    "\n",
    "    raise ValueError(\"Input arrays are not sorted.\")\n",
    "    \n",
    "    \n",
    "nums1 = [1, 3]\n",
    "nums2 = [2]\n",
    "print(findMedianSortedArrays(nums1, nums2)) "
   ]
  },
  {
   "cell_type": "markdown",
   "id": "d2cab364",
   "metadata": {},
   "source": [
    "Problem 21: Given a sorted character array and a target letter, find the smallest letter in the array that is\n",
    "greater than the target.\n",
    "\n",
    "Input: letters = ['c', 'f', 'j'], target = a\n",
    "Output: 'c'"
   ]
  },
  {
   "cell_type": "code",
   "execution_count": 18,
   "id": "4e2aec7d",
   "metadata": {},
   "outputs": [
    {
     "name": "stdout",
     "output_type": "stream",
     "text": [
      "c\n"
     ]
    }
   ],
   "source": [
    "def nextGreatestLetter(letters, target):\n",
    "    left = 0\n",
    "    right = len(letters) - 1\n",
    "\n",
    "    while left <= right:\n",
    "        mid = left + (right - left) // 2\n",
    "\n",
    "        if letters[mid] <= target:\n",
    "            left = mid + 1\n",
    "        else:\n",
    "            right = mid - 1\n",
    "\n",
    "    return letters[left % len(letters)]\n",
    "\n",
    "letters = ['c', 'f', 'j']\n",
    "print(nextGreatestLetter(letters, 'a'))"
   ]
  },
  {
   "cell_type": "markdown",
   "id": "9a6d06d4",
   "metadata": {},
   "source": [
    "Problem 22: Given an array with n objects colored red, white, or blue, sort them in-place so that objects of\n",
    "the same color are adjacent, with the colors in the order red, white, and blue.\n",
    "\n",
    "Input: nums = [2, 0, 2, 1, 1, 0]\n",
    "Output: [0, 0, 1, 1, 2, 2]"
   ]
  },
  {
   "cell_type": "code",
   "execution_count": 21,
   "id": "40c57b4a",
   "metadata": {},
   "outputs": [
    {
     "name": "stdout",
     "output_type": "stream",
     "text": [
      "[0, 0, 1, 1, 2, 2]\n"
     ]
    }
   ],
   "source": [
    "def sortColors(nums):\n",
    "    low = 0\n",
    "    mid = 0\n",
    "    high = len(nums) - 1\n",
    "\n",
    "    while mid <= high:\n",
    "        if nums[mid] == 0:\n",
    "            nums[mid], nums[low] = nums[low], nums[mid]\n",
    "            low += 1\n",
    "            mid += 1\n",
    "        elif nums[mid] == 1:\n",
    "            mid += 1\n",
    "        else:\n",
    "            nums[mid], nums[high] = nums[high], nums[mid]\n",
    "            high -= 1\n",
    "\n",
    "    return nums\n",
    "\n",
    "nums = [2, 0, 2, 1, 1, 0]\n",
    "print(sortColors(nums)) "
   ]
  },
  {
   "cell_type": "markdown",
   "id": "636b020d",
   "metadata": {},
   "source": [
    "Problem 23: Find the kth largest element in an unsorted array.\n",
    "\n",
    "Input: nums = [3, 2, 1, 5, 6, 4], k = 2\n",
    "Output: 5\n",
    "    "
   ]
  },
  {
   "cell_type": "code",
   "execution_count": 22,
   "id": "a683dccf",
   "metadata": {},
   "outputs": [
    {
     "name": "stdout",
     "output_type": "stream",
     "text": [
      "5\n"
     ]
    }
   ],
   "source": [
    "import random\n",
    "\n",
    "def kth_largest_element(nums, k):\n",
    "    def partition(left, right, pivot_index):\n",
    "        pivot = nums[pivot_index]\n",
    "        nums[pivot_index], nums[right] = nums[right], nums[pivot_index]  # Move pivot to the end\n",
    "\n",
    "        store_index = left\n",
    "        for i in range(left, right):\n",
    "            if nums[i] < pivot:\n",
    "                nums[store_index], nums[i] = nums[i], nums[store_index]\n",
    "                store_index += 1\n",
    "\n",
    "        nums[right], nums[store_index] = nums[store_index], nums[right]  # Move pivot to its final place\n",
    "        return store_index\n",
    "\n",
    "    def select(left, right, k_smallest):\n",
    "        pivot_index = random.randint(left, right)\n",
    "        pivot_index = partition(left, right, pivot_index)\n",
    "\n",
    "        if k_smallest == pivot_index:\n",
    "            return nums[k_smallest]\n",
    "        elif k_smallest < pivot_index:\n",
    "            return select(left, pivot_index - 1, k_smallest)\n",
    "        else:\n",
    "            return select(pivot_index + 1, right, k_smallest)\n",
    "\n",
    "    n = len(nums)\n",
    "    return select(0, n - 1, n - k)\n",
    "\n",
    "\n",
    "nums = [3, 2, 1, 5, 6, 4]\n",
    "k = 2\n",
    "print(kth_largest_element(nums, k)) "
   ]
  },
  {
   "cell_type": "markdown",
   "id": "9392895d",
   "metadata": {},
   "source": [
    "Problem 24: Given an unsorted array, reorder it in-place such that nums[0] <= nums[1] >= nums[2] <=\n",
    "nums[3]...\n",
    "\n",
    "Input: nums = [3, 5, 2, 1, 6, 4]\n",
    "Output: [3, 5, 1, 6, 2, 4]"
   ]
  },
  {
   "cell_type": "code",
   "execution_count": 23,
   "id": "bbf3fb5a",
   "metadata": {},
   "outputs": [
    {
     "name": "stdout",
     "output_type": "stream",
     "text": [
      "[3, 6, 2, 5, 1, 4]\n"
     ]
    }
   ],
   "source": [
    "def wiggleSort(nums):\n",
    "    n = len(nums)\n",
    "    nums.sort()\n",
    "    half = (n + 1) // 2\n",
    "    nums[::2], nums[1::2] = nums[:half][::-1], nums[half:][::-1]\n",
    "\n",
    "    return nums\n",
    "\n",
    "nums = [3, 5, 2, 1, 6, 4]\n",
    "print(wiggleSort(nums)) "
   ]
  },
  {
   "cell_type": "markdown",
   "id": "3bb93607",
   "metadata": {},
   "source": [
    "Problem 25: Given an array of integers, calculate the sum of all its elements.\n",
    "\n",
    "    Input: [1, 2, 3, 4, 5]\n",
    "Output: 15\n"
   ]
  },
  {
   "cell_type": "code",
   "execution_count": 24,
   "id": "3ba18fa0",
   "metadata": {},
   "outputs": [
    {
     "name": "stdout",
     "output_type": "stream",
     "text": [
      "15\n"
     ]
    }
   ],
   "source": [
    "def arraySum(arr):\n",
    "    total = 0\n",
    "    for num in arr:\n",
    "        total += num\n",
    "    return total\n",
    "\n",
    "arr = [1, 2, 3, 4, 5]\n",
    "print(arraySum(arr))"
   ]
  },
  {
   "cell_type": "markdown",
   "id": "5418fbb4",
   "metadata": {},
   "source": [
    "Problem 26: Find the maximum element in an array of integers.\n",
    "    \n",
    "Input: [3, 7, 2, 9, 4, 1]\n",
    "Output: 9"
   ]
  },
  {
   "cell_type": "code",
   "execution_count": 25,
   "id": "03404b9e",
   "metadata": {},
   "outputs": [
    {
     "name": "stdout",
     "output_type": "stream",
     "text": [
      "Input: [3, 7, 2, 9, 4, 1]\n",
      "Output: 9\n"
     ]
    }
   ],
   "source": [
    "def find_max(arr):\n",
    "    return max(arr)\n",
    "\n",
    "# Example usage:\n",
    "input_array = [3, 7, 2, 9, 4, 1]\n",
    "print(\"Input:\", input_array)\n",
    "print(\"Output:\", find_max(input_array))\n"
   ]
  },
  {
   "cell_type": "markdown",
   "id": "747ac7a2",
   "metadata": {},
   "source": [
    "Problem 27: Implement linear search to find the index of a target element in an array.\n",
    "    \n",
    "    \n",
    "Input: [5, 3, 8, 2, 7, 4], target = 8\n",
    "Output: 2"
   ]
  },
  {
   "cell_type": "code",
   "execution_count": 27,
   "id": "c406f491",
   "metadata": {},
   "outputs": [
    {
     "name": "stdout",
     "output_type": "stream",
     "text": [
      "2\n"
     ]
    }
   ],
   "source": [
    "def linear_search(arr, target):\n",
    "    for index, element in enumerate(arr):\n",
    "        if element == target:\n",
    "            return index\n",
    "    return -1  # Return -1 if the target is not found\n",
    "\n",
    "arr = [5, 3, 8, 2, 7, 4]\n",
    "target = 8\n",
    "\n",
    "print(linear_search(arr, target))\n"
   ]
  },
  {
   "cell_type": "markdown",
   "id": "c6972795",
   "metadata": {},
   "source": [
    "Problem 28 Calculate the factorial of a given number.\n",
    "\n",
    "Input: 5\n",
    "Output: 120 (as 5! = 5 * 4 * 3 * 2 * 1 = 120)"
   ]
  },
  {
   "cell_type": "code",
   "execution_count": 28,
   "id": "6488fcf2",
   "metadata": {},
   "outputs": [
    {
     "name": "stdout",
     "output_type": "stream",
     "text": [
      "The factorial of 5 is 120\n"
     ]
    }
   ],
   "source": [
    "def factorial(n):\n",
    "    if n == 0 or n == 1:\n",
    "        return 1\n",
    "    else:\n",
    "        return n * factorial(n - 1)\n",
    "\n",
    "# Example usage:\n",
    "number = 5\n",
    "print(f\"The factorial of {number} is {factorial(number)}\")\n"
   ]
  },
  {
   "cell_type": "markdown",
   "id": "0bf2f2e0",
   "metadata": {},
   "source": [
    "Problem 29: Check if a given number is a prime number.\n",
    "\n",
    "Input: 7\n",
    "Output: True"
   ]
  },
  {
   "cell_type": "code",
   "execution_count": 29,
   "id": "27795803",
   "metadata": {},
   "outputs": [
    {
     "name": "stdout",
     "output_type": "stream",
     "text": [
      "7 is a prime number: True\n"
     ]
    }
   ],
   "source": [
    "def is_prime(number):\n",
    "    if number <= 1:\n",
    "        return False\n",
    "    for i in range(2, int(number**0.5) + 1):\n",
    "        if number % i == 0:\n",
    "            return False\n",
    "    return True\n",
    "\n",
    "input_number = 7\n",
    "print(f\"{input_number} is a prime number: {is_prime(input_number)}\")\n"
   ]
  },
  {
   "cell_type": "markdown",
   "id": "0a15b9ea",
   "metadata": {},
   "source": [
    "Problem 30: Generate the Fibonacci series up to a given number n.\n",
    "    \n",
    "Input: 8\n",
    "Output: [0, 1, 1, 2, 3, 5, 8, 13]"
   ]
  },
  {
   "cell_type": "code",
   "execution_count": 30,
   "id": "6d0bf3ba",
   "metadata": {},
   "outputs": [
    {
     "name": "stdout",
     "output_type": "stream",
     "text": [
      "Fibonacci series up to 8: [0, 1, 1, 2, 3, 5, 8, 13]\n"
     ]
    }
   ],
   "source": [
    "def fibonacci(n):\n",
    "    fib_series = [0, 1]\n",
    "    while len(fib_series) < n:\n",
    "        fib_series.append(fib_series[-1] + fib_series[-2])\n",
    "    return fib_series\n",
    "\n",
    "n = 8\n",
    "print(f\"Fibonacci series up to {n}: {fibonacci(n)}\")\n"
   ]
  },
  {
   "cell_type": "markdown",
   "id": "c7931f47",
   "metadata": {},
   "source": [
    "Problem 31: Calculate the power of a number using recursion.\n",
    "    \n",
    "Input: base = 3, exponent = 4\n",
    "Output: 81 (as 3^4 = 3 * 3 * 3 * 3 = 81)\n"
   ]
  },
  {
   "cell_type": "code",
   "execution_count": 31,
   "id": "9fb454cf",
   "metadata": {},
   "outputs": [
    {
     "name": "stdout",
     "output_type": "stream",
     "text": [
      "The result of 3 raised to the power of 4 is 81\n"
     ]
    }
   ],
   "source": [
    "def power(base, exponent):\n",
    "    if exponent == 0:\n",
    "        return 1\n",
    "    else:\n",
    "        return base * power(base, exponent - 1)\n",
    "\n",
    "\n",
    "base = 3\n",
    "exponent = 4\n",
    "result = power(base, exponent)\n",
    "print(f\"The result of {base} raised to the power of {exponent} is {result}\")\n"
   ]
  },
  {
   "cell_type": "markdown",
   "id": "552fa7bb",
   "metadata": {},
   "source": [
    "Problem 32: Reverse a given string.\n",
    "    \n",
    "Input: \"hello\"\n",
    "Output: \"olleh\""
   ]
  },
  {
   "cell_type": "code",
   "execution_count": 33,
   "id": "9d74995f",
   "metadata": {},
   "outputs": [
    {
     "name": "stdout",
     "output_type": "stream",
     "text": [
      "The reversed string is: olleh\n"
     ]
    }
   ],
   "source": [
    "def reverse_string(s):\n",
    "    return s[::-1]\n",
    "\n",
    "input_string = \"hello\"\n",
    "reversed_string = reverse_string(input_string)\n",
    "print(f\"The reversed string is: {reversed_string}\")\n"
   ]
  },
  {
   "cell_type": "code",
   "execution_count": null,
   "id": "d0a40a78",
   "metadata": {},
   "outputs": [],
   "source": []
  }
 ],
 "metadata": {
  "kernelspec": {
   "display_name": "Python 3 (ipykernel)",
   "language": "python",
   "name": "python3"
  },
  "language_info": {
   "codemirror_mode": {
    "name": "ipython",
    "version": 3
   },
   "file_extension": ".py",
   "mimetype": "text/x-python",
   "name": "python",
   "nbconvert_exporter": "python",
   "pygments_lexer": "ipython3",
   "version": "3.10.9"
  }
 },
 "nbformat": 4,
 "nbformat_minor": 5
}
