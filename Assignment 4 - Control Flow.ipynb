{
 "cells": [
  {
   "cell_type": "markdown",
   "id": "632991c6",
   "metadata": {},
   "source": [
    "#  Basic If-Else Statements:"
   ]
  },
  {
   "cell_type": "markdown",
   "id": "6a07e850",
   "metadata": {},
   "source": [
    "1. Write a Python program to check if a given number is positive or negative."
   ]
  },
  {
   "cell_type": "code",
   "execution_count": 1,
   "id": "413d8268",
   "metadata": {},
   "outputs": [
    {
     "name": "stdout",
     "output_type": "stream",
     "text": [
      "Enter a number: 10\n",
      "Positive number\n"
     ]
    }
   ],
   "source": [
    "num = float(input(\"Enter a number: \"))\n",
    "if num > 0:\n",
    "    print(\"Positive number\")\n",
    "elif num == 0:\n",
    "    print(\"Zero\")\n",
    "else:\n",
    "    print(\"Negative number\")"
   ]
  },
  {
   "cell_type": "markdown",
   "id": "714e1ef6",
   "metadata": {},
   "source": [
    "2. Create a program that determines if a person is eligible to vote based on their age."
   ]
  },
  {
   "cell_type": "code",
   "execution_count": 3,
   "id": "f3d70ad3",
   "metadata": {},
   "outputs": [
    {
     "name": "stdout",
     "output_type": "stream",
     "text": [
      "You are eligible to vote\n"
     ]
    }
   ],
   "source": [
    "age = 22\n",
    "if age >= 18:\n",
    "    print(\"You are eligible to vote\")\n",
    "else:\n",
    "    print(\"You are not eligible to vote\")"
   ]
  },
  {
   "cell_type": "markdown",
   "id": "2f9a8c4e",
   "metadata": {},
   "source": [
    "3. Develop a program to find the maximum of two numbers using if-else statements."
   ]
  },
  {
   "cell_type": "code",
   "execution_count": 4,
   "id": "0c9ad6a2",
   "metadata": {},
   "outputs": [
    {
     "name": "stdout",
     "output_type": "stream",
     "text": [
      "35 is greater than 25\n"
     ]
    }
   ],
   "source": [
    "a = 25\n",
    "b = 35\n",
    "if a > b:\n",
    "    print(f\"{a} is greater than {b}\")\n",
    "elif b > a:\n",
    "    print(f\"{b} is greater than {a}\")\n",
    "else:\n",
    "    print(f\"{a} and {b} are equal\")"
   ]
  },
  {
   "cell_type": "markdown",
   "id": "cc9af2fb",
   "metadata": {},
   "source": [
    "4. Write a Python script to classify a given year as a leap year or not."
   ]
  },
  {
   "cell_type": "code",
   "execution_count": 5,
   "id": "45589915",
   "metadata": {},
   "outputs": [
    {
     "name": "stdout",
     "output_type": "stream",
     "text": [
      "Enter a year: 2020\n",
      "2020 is a leap year\n"
     ]
    }
   ],
   "source": [
    "year = int(input(\"Enter a year: \"))\n",
    "if year % 4 == 0:\n",
    "    if year % 100 == 0:\n",
    "        if year % 400 == 0:\n",
    "            print(f\"{year} is a leap year\")\n",
    "        else:\n",
    "            print(f\"{year} is not a leap year\")\n",
    "    else:\n",
    "        print(f\"{year} is a leap year\")\n",
    "else:\n",
    "    print(f\"{year} is not a leap year\")"
   ]
  },
  {
   "cell_type": "markdown",
   "id": "a027430d",
   "metadata": {},
   "source": [
    "5. Create a program that checks whether a character is a vowel or a consonant."
   ]
  },
  {
   "cell_type": "code",
   "execution_count": 6,
   "id": "359df018",
   "metadata": {},
   "outputs": [
    {
     "name": "stdout",
     "output_type": "stream",
     "text": [
      "Enter a character: v\n",
      "v is a consonant\n"
     ]
    }
   ],
   "source": [
    "char = input(\"Enter a character: \")\n",
    "if char.lower() in \"aeiou\":\n",
    "    print(f\"{char} is a vowel\")\n",
    "else:\n",
    "    print(f\"{char} is a consonant\")"
   ]
  },
  {
   "cell_type": "markdown",
   "id": "556cd347",
   "metadata": {},
   "source": [
    "6. Implement a program to determine whether a given number is even or odd."
   ]
  },
  {
   "cell_type": "code",
   "execution_count": 7,
   "id": "6e9de996",
   "metadata": {},
   "outputs": [
    {
     "name": "stdout",
     "output_type": "stream",
     "text": [
      "22 is even number\n"
     ]
    }
   ],
   "source": [
    "n = 22\n",
    "if n %2 == 0:\n",
    "    print(n, \"is even number\")\n",
    "else:\n",
    "    print(n, \"is odd number\")"
   ]
  },
  {
   "cell_type": "markdown",
   "id": "8f1d2aee",
   "metadata": {},
   "source": [
    "7. Write a Python function to calculate the absolute value of a number without using the `abs()` function."
   ]
  },
  {
   "cell_type": "code",
   "execution_count": 8,
   "id": "168181b5",
   "metadata": {},
   "outputs": [],
   "source": [
    "def my_abs(num):\n",
    "    if num < 0:\n",
    "        return -num\n",
    "    else:\n",
    "        return num"
   ]
  },
  {
   "cell_type": "code",
   "execution_count": 10,
   "id": "e7edd59c",
   "metadata": {},
   "outputs": [
    {
     "data": {
      "text/plain": [
       "222"
      ]
     },
     "execution_count": 10,
     "metadata": {},
     "output_type": "execute_result"
    }
   ],
   "source": [
    "my_abs(-222)"
   ]
  },
  {
   "cell_type": "markdown",
   "id": "df291bc2",
   "metadata": {},
   "source": [
    "8. Develop a program that determines the largest of three given numbers using if-else statements."
   ]
  },
  {
   "cell_type": "code",
   "execution_count": 11,
   "id": "a069e541",
   "metadata": {},
   "outputs": [
    {
     "name": "stdout",
     "output_type": "stream",
     "text": [
      "90 is the largest number.\n"
     ]
    }
   ],
   "source": [
    "num1 = 33\n",
    "num2 = 45\n",
    "num3 = 90\n",
    "\n",
    "if num1 >= num2 and num1 >= num3:\n",
    "    print(f\"{num1} is the largest number.\")\n",
    "elif num2 >= num1 and num2 >= num3:\n",
    "    print(f\"{num2} is the largest number.\")\n",
    "else:\n",
    "    print(f\"{num3} is the largest number.\")"
   ]
  },
  {
   "cell_type": "markdown",
   "id": "45764ec8",
   "metadata": {},
   "source": [
    "9. Create a program that checks if a given string is a palindrome."
   ]
  },
  {
   "cell_type": "code",
   "execution_count": 12,
   "id": "95b045e6",
   "metadata": {},
   "outputs": [
    {
     "name": "stdout",
     "output_type": "stream",
     "text": [
      "Enter a string: rajesh\n",
      "rajesh is not a palindrome\n"
     ]
    }
   ],
   "source": [
    "string = input(\"Enter a string: \")\n",
    "if string == string[::-1]:\n",
    "    print(f\"{string} is a palindrome\")\n",
    "else:\n",
    "    print(f\"{string} is not a palindrome\")"
   ]
  },
  {
   "cell_type": "markdown",
   "id": "a12710a9",
   "metadata": {},
   "source": [
    "10. Write a Python program to calculate the grade based on a student's score.\n"
   ]
  },
  {
   "cell_type": "code",
   "execution_count": 14,
   "id": "aa85183c",
   "metadata": {},
   "outputs": [
    {
     "name": "stdout",
     "output_type": "stream",
     "text": [
      "Enter your marks: 99\n",
      "Your grade is A1\n"
     ]
    }
   ],
   "source": [
    "marks = float(input(\"Enter your marks: \"))\n",
    "if marks >= 91:\n",
    "    print(\"Your grade is A1\")\n",
    "elif marks >= 81:\n",
    "    print(\"Your grade is A2\")\n",
    "elif marks >= 71:\n",
    "    print(\"Your grade is B1\")\n",
    "elif marks >= 61:\n",
    "    print(\"Your grade is B2\")\n",
    "elif marks >= 51:\n",
    "    print(\"Your grade is C1\")\n",
    "elif marks >= 41:\n",
    "    print(\"Your grade is C2\")\n",
    "elif marks >= 33:\n",
    "    print(\"Your grade is D\")\n",
    "elif marks >= 21:\n",
    "    print(\"Your grade is E1\")\n",
    "else:\n",
    "    print(\"Your grade is E2\")"
   ]
  },
  {
   "cell_type": "markdown",
   "id": "1d7fda02",
   "metadata": {},
   "source": [
    "#  Nested If-Else Statements:"
   ]
  },
  {
   "cell_type": "markdown",
   "id": "3f152691",
   "metadata": {},
   "source": [
    "11. Write a program to find the largest among three numbers using nested if-else statements."
   ]
  },
  {
   "cell_type": "code",
   "execution_count": 15,
   "id": "b03c545e",
   "metadata": {},
   "outputs": [
    {
     "name": "stdout",
     "output_type": "stream",
     "text": [
      "124 is the largest number.\n"
     ]
    }
   ],
   "source": [
    "num1 = 99\n",
    "num2 = 124\n",
    "num3 = 111\n",
    "\n",
    "if num1 >= num2 and num1 >= num3:\n",
    "    print(f\"{num1} is the largest number.\")\n",
    "elif num2 >= num1 and num2 >= num3:\n",
    "    print(f\"{num2} is the largest number.\")\n",
    "else:\n",
    "    print(f\"{num3} is the largest number.\")"
   ]
  },
  {
   "cell_type": "markdown",
   "id": "4722a97f",
   "metadata": {},
   "source": [
    "12. Implement a program to determine if a triangle is equilateral, isosceles, or scalene."
   ]
  },
  {
   "cell_type": "code",
   "execution_count": 16,
   "id": "9672d9e3",
   "metadata": {},
   "outputs": [
    {
     "name": "stdout",
     "output_type": "stream",
     "text": [
      "Enter the length of side a: 1\n",
      "Enter the length of side b: 2\n",
      "Enter the length of side c: 3\n",
      "The triangle is scalene\n"
     ]
    }
   ],
   "source": [
    "a = float(input(\"Enter the length of side a: \"))\n",
    "b = float(input(\"Enter the length of side b: \"))\n",
    "c = float(input(\"Enter the length of side c: \"))\n",
    "\n",
    "if a == b == c:\n",
    "    print(\"The triangle is equilateral\")\n",
    "elif a == b or b == c or c == a:\n",
    "    print(\"The triangle is isosceles\")\n",
    "else:\n",
    "    print(\"The triangle is scalene\")"
   ]
  },
  {
   "cell_type": "markdown",
   "id": "81f981a1",
   "metadata": {},
   "source": [
    "13. Develop a program that checks if a year is a leap year and also if it is a century year."
   ]
  },
  {
   "cell_type": "code",
   "execution_count": 18,
   "id": "3472c8cb",
   "metadata": {},
   "outputs": [
    {
     "name": "stdout",
     "output_type": "stream",
     "text": [
      "Enter a year: 2000\n",
      "2000 is a leap year and a century year\n"
     ]
    }
   ],
   "source": [
    "year = int(input(\"Enter a year: \"))\n",
    "if year % 400 == 0:\n",
    "    print(f\"{year} is a leap year and a century year\")\n",
    "elif year % 100 == 0:\n",
    "    print(f\"{year} is not a leap year but it is a century year\")\n",
    "elif year % 4 == 0:\n",
    "    print(f\"{year} is a leap year\")\n",
    "else:\n",
    "    print(f\"{year} is not a leap year\")"
   ]
  },
  {
   "cell_type": "markdown",
   "id": "cd89e80b",
   "metadata": {},
   "source": [
    "14. Write a Python script to determine if a number is positive, negative, or zero."
   ]
  },
  {
   "cell_type": "code",
   "execution_count": 19,
   "id": "7005bd9c",
   "metadata": {},
   "outputs": [
    {
     "name": "stdout",
     "output_type": "stream",
     "text": [
      "Enter a number: 0\n",
      "Zero\n"
     ]
    }
   ],
   "source": [
    "num = float(input(\"Enter a number: \"))\n",
    "if num > 0:\n",
    "    print(\"Positive number\")\n",
    "elif num == 0:\n",
    "    print(\"Zero\")\n",
    "else:\n",
    "    print(\"Negative number\")\n",
    "    "
   ]
  },
  {
   "cell_type": "markdown",
   "id": "fc157bf2",
   "metadata": {},
   "source": [
    "15. Create a program to check if a person is a teenager (between 13 and 19 years old)."
   ]
  },
  {
   "cell_type": "code",
   "execution_count": 20,
   "id": "088b1238",
   "metadata": {},
   "outputs": [
    {
     "name": "stdout",
     "output_type": "stream",
     "text": [
      "You are a teenager.\n"
     ]
    }
   ],
   "source": [
    "age = 15\n",
    "if age >= 13 and age <= 19:\n",
    "    print(\"You are a teenager.\")\n",
    "else:\n",
    "    print(\"You are not a teenager.\")"
   ]
  },
  {
   "cell_type": "markdown",
   "id": "1d66a81a",
   "metadata": {},
   "source": [
    "16. Develop a program that determines the type of angle based on its measure (acute, obtuse, or right)."
   ]
  },
  {
   "cell_type": "code",
   "execution_count": 21,
   "id": "cec04b7f",
   "metadata": {},
   "outputs": [
    {
     "name": "stdout",
     "output_type": "stream",
     "text": [
      "Enter the angle measure in degrees: 99\n",
      "The angle is obtuse.\n"
     ]
    }
   ],
   "source": [
    "angle = float(input(\"Enter the angle measure in degrees: \"))\n",
    "if angle < 90:\n",
    "    print(\"The angle is acute.\")\n",
    "elif angle == 90:\n",
    "    print(\"The angle is right.\")\n",
    "else:\n",
    "    print(\"The angle is obtuse.\")\n",
    "    "
   ]
  },
  {
   "cell_type": "markdown",
   "id": "45e358da",
   "metadata": {},
   "source": [
    "17. Write a Python program to calculate the roots of a quadratic equation."
   ]
  },
  {
   "cell_type": "code",
   "execution_count": 22,
   "id": "d168b92f",
   "metadata": {},
   "outputs": [
    {
     "name": "stdout",
     "output_type": "stream",
     "text": [
      "Enter the coefficient of x^2: 2\n",
      "Enter the coefficient of x: 3\n",
      "Enter the constant term: 4\n",
      "The roots of the quadratic equation 2.0x^2 + 3.0x + 4.0 are (-0.75-1.1989578808281798j) and (-0.75+1.1989578808281798j).\n"
     ]
    }
   ],
   "source": [
    "import cmath\n",
    "\n",
    "a = float(input(\"Enter the coefficient of x^2: \"))\n",
    "b = float(input(\"Enter the coefficient of x: \"))\n",
    "c = float(input(\"Enter the constant term: \"))\n",
    "\n",
    "# calculate the discriminant\n",
    "d = (b ** 2) - (4 * a * c)\n",
    "\n",
    "# find the roots\n",
    "root1 = (-b - cmath.sqrt(d)) / (2 * a)\n",
    "root2 = (-b + cmath.sqrt(d)) / (2 * a)\n",
    "\n",
    "print(f\"The roots of the quadratic equation {a}x^2 + {b}x + {c} are {root1} and {root2}.\")"
   ]
  },
  {
   "cell_type": "markdown",
   "id": "95a80cec",
   "metadata": {},
   "source": [
    "18. Implement a program to determine the day of the week based on a user-provided number (1 for Monday, 2\n",
    "for Tuesday, etc.)."
   ]
  },
  {
   "cell_type": "code",
   "execution_count": 23,
   "id": "8a0526fb",
   "metadata": {},
   "outputs": [
    {
     "name": "stdout",
     "output_type": "stream",
     "text": [
      "Enter a number between 1 and 7: 5\n",
      "The day of the week corresponding to 5 is Friday.\n"
     ]
    }
   ],
   "source": [
    "import datetime\n",
    "\n",
    "day_number = int(input(\"Enter a number between 1 and 7: \"))\n",
    "if day_number < 1 or day_number > 7:\n",
    "    print(\"Invalid input.\")\n",
    "else:\n",
    "    days = [\"Monday\", \"Tuesday\", \"Wednesday\", \"Thursday\", \"Friday\", \"Saturday\", \"Sunday\"]\n",
    "    day_of_week = days[day_number - 1]\n",
    "    print(f\"The day of the week corresponding to {day_number} is {day_of_week}.\")"
   ]
  },
  {
   "cell_type": "markdown",
   "id": "c87575bc",
   "metadata": {},
   "source": [
    "19. Create a program that determines if a year is a leap year and also if it is evenly divisible by 400."
   ]
  },
  {
   "cell_type": "code",
   "execution_count": 24,
   "id": "46117f10",
   "metadata": {},
   "outputs": [
    {
     "name": "stdout",
     "output_type": "stream",
     "text": [
      "Enter a year: 4000\n",
      "4000 is a leap year and is evenly divisible by 400.\n"
     ]
    }
   ],
   "source": [
    "year = int(input(\"Enter a year: \"))\n",
    "\n",
    "if year % 400 == 0:\n",
    "    print(f\"{year} is a leap year and is evenly divisible by 400.\")\n",
    "elif year % 100 == 0:\n",
    "    print(f\"{year} is not a leap year but is evenly divisible by 100.\")\n",
    "elif year % 4 == 0:\n",
    "    print(f\"{year} is a leap year but not evenly divisible by 400.\")\n",
    "else:\n",
    "    print(f\"{year} is not a leap year and not evenly divisible by 400.\")\n",
    "    "
   ]
  },
  {
   "cell_type": "markdown",
   "id": "c3010a20",
   "metadata": {},
   "source": [
    "20. Develop a program that checks if a given number is prime or not using nested if-else statements."
   ]
  },
  {
   "cell_type": "code",
   "execution_count": 26,
   "id": "58c0dd7d",
   "metadata": {},
   "outputs": [
    {
     "name": "stdout",
     "output_type": "stream",
     "text": [
      "Enter a number: 3\n",
      "3 is a prime number.\n"
     ]
    }
   ],
   "source": [
    "num = int(input(\"Enter a number: \"))\n",
    "\n",
    "if num > 1:\n",
    "    if num == 2:\n",
    "        print(f\"{num} is a prime number.\")\n",
    "    elif num % 2 == 0:\n",
    "        print(f\"{num} is not a prime number.\")\n",
    "    else:\n",
    "        for i in range(3, int(num ** 0.5) + 1, 2):\n",
    "            if num % i == 0:\n",
    "                print(f\"{num} is not a prime number.\")\n",
    "                break\n",
    "        else:\n",
    "            print(f\"{num} is a prime number.\")\n",
    "else:\n",
    "    print(f\"{num} is not a prime number.\")\n"
   ]
  },
  {
   "cell_type": "markdown",
   "id": "7318c995",
   "metadata": {},
   "source": [
    "#  Elif Statements:\n"
   ]
  },
  {
   "cell_type": "markdown",
   "id": "310cb596",
   "metadata": {},
   "source": [
    "21. Write a Python program to assign grades based on different ranges of scores using elif statements."
   ]
  },
  {
   "cell_type": "code",
   "execution_count": 27,
   "id": "7bd4790b",
   "metadata": {},
   "outputs": [
    {
     "name": "stdout",
     "output_type": "stream",
     "text": [
      "Enter the score: 78\n",
      "The grade for a score of 78.0 is C.\n"
     ]
    }
   ],
   "source": [
    "score = float(input(\"Enter the score: \"))\n",
    "\n",
    "if score >= 90:\n",
    "    grade = \"A\"\n",
    "elif score >= 80:\n",
    "    grade = \"B\"\n",
    "elif score >= 70:\n",
    "    grade = \"C\"\n",
    "elif score >= 60:\n",
    "    grade = \"D\"\n",
    "else:\n",
    "    grade = \"F\"\n",
    "\n",
    "print(f\"The grade for a score of {score} is {grade}.\")"
   ]
  },
  {
   "cell_type": "markdown",
   "id": "a20a01f3",
   "metadata": {},
   "source": [
    "22. Implement a program to determine the type of a triangle based on its angles."
   ]
  },
  {
   "cell_type": "code",
   "execution_count": 30,
   "id": "5a55ef5b",
   "metadata": {},
   "outputs": [
    {
     "name": "stdout",
     "output_type": "stream",
     "text": [
      "Enter the first angle in degrees: 60\n",
      "Enter the second angle in degrees: 60\n",
      "Enter the third angle in degrees: 60\n",
      "The triangle is an acute triangle.\n"
     ]
    }
   ],
   "source": [
    "angle1 = float(input(\"Enter the first angle in degrees: \"))\n",
    "angle2 = float(input(\"Enter the second angle in degrees: \"))\n",
    "angle3 = float(input(\"Enter the third angle in degrees: \"))\n",
    "\n",
    "if angle1 + angle2 + angle3 == 180:\n",
    "    if angle1 == 90 or angle2 == 90 or angle3 == 90:\n",
    "        print(\"The triangle is a right triangle.\")\n",
    "    elif angle1 > 90 or angle2 > 90 or angle3 > 90:\n",
    "        print(\"The triangle is an obtuse triangle.\")\n",
    "    else:\n",
    "        print(\"The triangle is an acute triangle.\")\n",
    "else:\n",
    "    print(\"The angles do not form a valid triangle.\")"
   ]
  },
  {
   "cell_type": "markdown",
   "id": "3938fea6",
   "metadata": {},
   "source": [
    "23. Develop a program to categorize a given person's BMI into underweight, normal, overweight, or obese using\n",
    "elif statements."
   ]
  },
  {
   "cell_type": "code",
   "execution_count": 1,
   "id": "27402961",
   "metadata": {},
   "outputs": [
    {
     "name": "stdout",
     "output_type": "stream",
     "text": [
      "Enter your height in meters: 1.2\n",
      "Enter your weight in kilograms: 60\n",
      "Your BMI is 41.7. You are obese.\n"
     ]
    }
   ],
   "source": [
    "height = float(input(\"Enter your height in meters: \"))\n",
    "weight = float(input(\"Enter your weight in kilograms: \"))\n",
    "\n",
    "bmi = weight / (height ** 2)\n",
    "\n",
    "if bmi < 18.5:\n",
    "    print(\"Your BMI is {:.1f}. You are underweight.\".format(bmi))\n",
    "elif bmi < 25:\n",
    "    print(\"Your BMI is {:.1f}. You are of normal weight.\".format(bmi))\n",
    "elif bmi < 30:\n",
    "    print(\"Your BMI is {:.1f}. You are overweight.\".format(bmi))\n",
    "else:\n",
    "    print(\"Your BMI is {:.1f}. You are obese.\".format(bmi))"
   ]
  },
  {
   "cell_type": "markdown",
   "id": "8b600189",
   "metadata": {},
   "source": [
    "24. Create a program that determines whether a given number is positive, negative, or zero using elif\n",
    "statements."
   ]
  },
  {
   "cell_type": "code",
   "execution_count": 2,
   "id": "059798fc",
   "metadata": {},
   "outputs": [
    {
     "name": "stdout",
     "output_type": "stream",
     "text": [
      "Zero\n"
     ]
    }
   ],
   "source": [
    "num = 0\n",
    "if num > 0:\n",
    "    print(\"Positive number\")\n",
    "elif num == 0:\n",
    "    print(\"Zero\")\n",
    "else:\n",
    "    print(\"Negative number\")"
   ]
  },
  {
   "cell_type": "markdown",
   "id": "553d883b",
   "metadata": {},
   "source": [
    "25. Write a Python script to determine the type of a character (uppercase, lowercase, or special) using elif\n",
    "statements."
   ]
  },
  {
   "cell_type": "code",
   "execution_count": 3,
   "id": "1a38c2d0",
   "metadata": {},
   "outputs": [
    {
     "name": "stdout",
     "output_type": "stream",
     "text": [
      "Enter a character: A\n",
      "The character is uppercase.\n"
     ]
    }
   ],
   "source": [
    "char = input(\"Enter a character: \")\n",
    "if char.islower():\n",
    "    print(\"The character is lowercase.\")\n",
    "elif char.isupper():\n",
    "    print(\"The character is uppercase.\")\n",
    "else:\n",
    "    print(\"The character is special.\")"
   ]
  },
  {
   "cell_type": "markdown",
   "id": "99b0ab89",
   "metadata": {},
   "source": [
    "26. Implement a program to calculate the discounted price based on different purchase amounts using elif\n",
    "statements."
   ]
  },
  {
   "cell_type": "code",
   "execution_count": 4,
   "id": "5be9f3aa",
   "metadata": {},
   "outputs": [
    {
     "name": "stdout",
     "output_type": "stream",
     "text": [
      "Enter the purchase amount: 500\n",
      "The discounted price for a purchase of 500.00 is 425.00.\n"
     ]
    }
   ],
   "source": [
    "purchase_amount = float(input(\"Enter the purchase amount: \"))\n",
    "\n",
    "if purchase_amount >= 500:\n",
    "    discount = 0.15\n",
    "elif purchase_amount >= 100:\n",
    "    discount = 0.10\n",
    "elif purchase_amount >= 50:\n",
    "    discount = 0.05\n",
    "else:\n",
    "    discount = 0\n",
    "\n",
    "discounted_price = purchase_amount * (1 - discount)\n",
    "\n",
    "print(f\"The discounted price for a purchase of {purchase_amount:.2f} is {discounted_price:.2f}.\")"
   ]
  },
  {
   "cell_type": "markdown",
   "id": "7f18b9be",
   "metadata": {},
   "source": [
    "28. Create a program to determine the type of quadrilateral based on its angles and sides using elif\n",
    "statements."
   ]
  },
  {
   "cell_type": "code",
   "execution_count": 6,
   "id": "ce67d208",
   "metadata": {},
   "outputs": [
    {
     "name": "stdout",
     "output_type": "stream",
     "text": [
      "Enter the measure of angle 1 in degrees: 2\n",
      "Enter the measure of angle 2 in degrees: 2\n",
      "Enter the measure of angle 3 in degrees: 2\n",
      "Enter the measure of angle 4 in degrees: 2\n",
      "The quadrilateral is a square.\n"
     ]
    }
   ],
   "source": [
    "side1 = 45\n",
    "side2 = 45\n",
    "side3 = 45\n",
    "side4 = 45\n",
    "\n",
    "angle1 = float(input(\"Enter the measure of angle 1 in degrees: \"))\n",
    "angle2 = float(input(\"Enter the measure of angle 2 in degrees: \"))\n",
    "angle3 = float(input(\"Enter the measure of angle 3 in degrees: \"))\n",
    "angle4 = float(input(\"Enter the measure of angle 4 in degrees: \"))\n",
    "\n",
    "if side1 == side2 == side3 == side4:\n",
    "    print(\"The quadrilateral is a square.\")\n",
    "elif side1 == side3 and side2 == side4:\n",
    "    if angle1 == angle3 and angle2 == angle4:\n",
    "        print(\"The quadrilateral is a rectangle.\")\n",
    "    else:\n",
    "        print(\"The quadrilateral is a parallelogram.\")\n",
    "elif angle1 == angle3 and angle2 == angle4:\n",
    "    print(\"The quadrilateral is a kite.\")\n",
    "else:\n",
    "    print(\"The quadrilateral is a general quadrilateral.\")"
   ]
  },
  {
   "cell_type": "markdown",
   "id": "4d9929ab",
   "metadata": {},
   "source": [
    "29. Write a Python script to determine the season based on a user-provided month using elif statements."
   ]
  },
  {
   "cell_type": "code",
   "execution_count": 7,
   "id": "14e351a8",
   "metadata": {},
   "outputs": [
    {
     "name": "stdout",
     "output_type": "stream",
     "text": [
      "Enter the name of a month: january\n",
      "January is in the winter season.\n"
     ]
    }
   ],
   "source": [
    "month = input(\"Enter the name of a month: \").lower()\n",
    "\n",
    "if month in [\"december\", \"january\", \"february\"]:\n",
    "    season = \"winter\"\n",
    "elif month in [\"march\", \"april\", \"may\"]:\n",
    "    season = \"spring\"\n",
    "elif month in [\"june\", \"july\", \"august\"]:\n",
    "    season = \"summer\"\n",
    "elif month in [\"september\", \"october\", \"november\"]:\n",
    "    season = \"fall\"\n",
    "else:\n",
    "    season = \"invalid\"\n",
    "\n",
    "if season == \"invalid\":\n",
    "    print(\"Invalid input.\")\n",
    "else:\n",
    "    print(f\"{month.capitalize()} is in the {season} season.\")\n",
    "    "
   ]
  },
  {
   "cell_type": "markdown",
   "id": "770f69bf",
   "metadata": {},
   "source": [
    "30. Implement a program to determine the type of a year (leap or common) and month (30 or 31 days) using\n",
    "elif statements."
   ]
  },
  {
   "cell_type": "code",
   "execution_count": 8,
   "id": "667d991c",
   "metadata": {},
   "outputs": [
    {
     "name": "stdout",
     "output_type": "stream",
     "text": [
      "Enter a year: 2023\n",
      "Enter the name of a month: September\n",
      "2023 is a common year.\n",
      "September has 30 days.\n"
     ]
    }
   ],
   "source": [
    "year = int(input(\"Enter a year: \"))\n",
    "month = input(\"Enter the name of a month: \").lower()\n",
    "\n",
    "if year % 4 == 0 and (year % 100 != 0 or year % 400 == 0):\n",
    "    leap_year = True\n",
    "else:\n",
    "    leap_year = False\n",
    "\n",
    "if month in [\"january\", \"march\", \"may\", \"july\", \"august\", \"october\", \"december\"]:\n",
    "    days = 31\n",
    "elif month in [\"april\", \"june\", \"september\", \"november\"]:\n",
    "    days = 30\n",
    "elif month == \"february\":\n",
    "    if leap_year:\n",
    "        days = 29\n",
    "    else:\n",
    "        days = 28\n",
    "else:\n",
    "    print(\"Invalid input.\")\n",
    "\n",
    "if not leap_year:\n",
    "    print(f\"{year} is a common year.\")\n",
    "else:\n",
    "    print(f\"{year} is a leap year.\")\n",
    "\n",
    "print(f\"{month.capitalize()} has {days} days.\")"
   ]
  },
  {
   "cell_type": "markdown",
   "id": "0caaad21",
   "metadata": {},
   "source": [
    "#  Basic Level: "
   ]
  },
  {
   "cell_type": "markdown",
   "id": "b098a411",
   "metadata": {},
   "source": [
    "1. Write a Python program that checks if a given number is positive, negative, or zero."
   ]
  },
  {
   "cell_type": "code",
   "execution_count": 10,
   "id": "d102bf86",
   "metadata": {},
   "outputs": [
    {
     "name": "stdout",
     "output_type": "stream",
     "text": [
      "Positive number\n"
     ]
    }
   ],
   "source": [
    "num = 2\n",
    "if num > 0:\n",
    "    print(\"Positive number\")\n",
    "elif num == 0:\n",
    "    print(\"Zero\")\n",
    "else:\n",
    "    print(\"Negative number\")"
   ]
  },
  {
   "cell_type": "markdown",
   "id": "6bbafe44",
   "metadata": {},
   "source": [
    "2. Create a program to determine if a person is eligible to vote based on their age."
   ]
  },
  {
   "cell_type": "code",
   "execution_count": 11,
   "id": "e345f3bc",
   "metadata": {},
   "outputs": [
    {
     "name": "stdout",
     "output_type": "stream",
     "text": [
      "You are eligible to vote\n"
     ]
    }
   ],
   "source": [
    "age = 22\n",
    "if age >= 18:\n",
    "    print(\"You are eligible to vote\")\n",
    "else:\n",
    "    print(\"You are not eligible to vote\")"
   ]
  },
  {
   "cell_type": "markdown",
   "id": "e7572848",
   "metadata": {},
   "source": [
    "3. Write a program to find the maximum of two given numbers using conditional statements."
   ]
  },
  {
   "cell_type": "code",
   "execution_count": 13,
   "id": "044a5f93",
   "metadata": {},
   "outputs": [
    {
     "name": "stdout",
     "output_type": "stream",
     "text": [
      "Enter the first number: 44\n",
      "Enter the second number: 55\n",
      "55.0 is greater than 44.0.\n"
     ]
    }
   ],
   "source": [
    "num1 = float(input(\"Enter the first number: \"))\n",
    "num2 = float(input(\"Enter the second number: \"))\n",
    "\n",
    "if num1 > num2:\n",
    "    print(f\"{num1} is greater than {num2}.\")\n",
    "elif num1 == num2:\n",
    "    print(f\"{num1} and {num2} are equal.\")\n",
    "else:\n",
    "    print(f\"{num2} is greater than {num1}.\")"
   ]
  },
  {
   "cell_type": "markdown",
   "id": "d1fe55e5",
   "metadata": {},
   "source": [
    "4. Develop a program that calculates the grade of a student based on their exam score."
   ]
  },
  {
   "cell_type": "code",
   "execution_count": 14,
   "id": "204a80bf",
   "metadata": {},
   "outputs": [
    {
     "name": "stdout",
     "output_type": "stream",
     "text": [
      "Enter the exam score: 90\n",
      "The grade for an exam score of 90.0 is A2.\n"
     ]
    }
   ],
   "source": [
    "score = float(input(\"Enter the exam score: \"))\n",
    "\n",
    "if score >= 91:\n",
    "    grade = \"A1\"\n",
    "elif score >= 81:\n",
    "    grade = \"A2\"\n",
    "elif score >= 71:\n",
    "    grade = \"B1\"\n",
    "elif score >= 61:\n",
    "    grade = \"B2\"\n",
    "elif score >= 51:\n",
    "    grade = \"C1\"\n",
    "elif score >= 41:\n",
    "    grade = \"C2\"\n",
    "elif score >= 33:\n",
    "    grade = \"D\"\n",
    "elif score >= 21:\n",
    "    grade = \"E1\"\n",
    "else:\n",
    "    grade = \"E2\"\n",
    "\n",
    "print(f\"The grade for an exam score of {score} is {grade}.\")"
   ]
  },
  {
   "cell_type": "markdown",
   "id": "1c1b43a1",
   "metadata": {},
   "source": [
    "5. Create a program that checks if a year is a leap year or not."
   ]
  },
  {
   "cell_type": "code",
   "execution_count": 15,
   "id": "c74ba7cc",
   "metadata": {},
   "outputs": [
    {
     "name": "stdout",
     "output_type": "stream",
     "text": [
      "Enter a year: 2000\n",
      "2000 is a leap year\n"
     ]
    }
   ],
   "source": [
    "year = int(input(\"Enter a year: \"))\n",
    "if year % 4 == 0:\n",
    "    if year % 100 == 0:\n",
    "        if year % 400 == 0:\n",
    "            print(f\"{year} is a leap year\")\n",
    "        else:\n",
    "            print(f\"{year} is not a leap year\")\n",
    "    else:\n",
    "        print(f\"{year} is a leap year\")\n",
    "else:\n",
    "    print(f\"{year} is not a leap year\")"
   ]
  },
  {
   "cell_type": "markdown",
   "id": "45dfb614",
   "metadata": {},
   "source": [
    "6. Write a program to classify a triangle based on its sides' lengths."
   ]
  },
  {
   "cell_type": "code",
   "execution_count": 16,
   "id": "c1d472b4",
   "metadata": {},
   "outputs": [
    {
     "name": "stdout",
     "output_type": "stream",
     "text": [
      "Enter the length of side 1: 60\n",
      "Enter the length of side 2: 60\n",
      "Enter the length of side 3: 60\n",
      "The triangle is an equilateral triangle.\n"
     ]
    }
   ],
   "source": [
    "side1 = float(input(\"Enter the length of side 1: \"))\n",
    "side2 = float(input(\"Enter the length of side 2: \"))\n",
    "side3 = float(input(\"Enter the length of side 3: \"))\n",
    "\n",
    "if side1 == side2 == side3:\n",
    "    print(\"The triangle is an equilateral triangle.\")\n",
    "elif side1 == side2 or side2 == side3 or side1 == side3:\n",
    "    print(\"The triangle is an isosceles triangle.\")\n",
    "else:\n",
    "    print(\"The triangle is a scalene triangle.\")"
   ]
  },
  {
   "cell_type": "markdown",
   "id": "e107e6b0",
   "metadata": {},
   "source": [
    "7. Build a program that determines the largest of three given numbers."
   ]
  },
  {
   "cell_type": "code",
   "execution_count": 17,
   "id": "68d318d1",
   "metadata": {},
   "outputs": [
    {
     "name": "stdout",
     "output_type": "stream",
     "text": [
      "Enter the first number: 20\n",
      "Enter the second number: 23\n",
      "Enter the third number: 35\n",
      "The largest number is 35.0.\n"
     ]
    }
   ],
   "source": [
    "num1 = float(input(\"Enter the first number: \"))\n",
    "num2 = float(input(\"Enter the second number: \"))\n",
    "num3 = float(input(\"Enter the third number: \"))\n",
    "\n",
    "if num1 >= num2 and num1 >= num3:\n",
    "    largest = num1\n",
    "elif num2 >= num1 and num2 >= num3:\n",
    "    largest = num2\n",
    "else:\n",
    "    largest = num3\n",
    "\n",
    "print(f\"The largest number is {largest}.\")\n"
   ]
  },
  {
   "cell_type": "markdown",
   "id": "a402e9b5",
   "metadata": {},
   "source": [
    "8. Develop a program that checks whether a character is a vowel or a consonant."
   ]
  },
  {
   "cell_type": "code",
   "execution_count": 18,
   "id": "3f34cd20",
   "metadata": {},
   "outputs": [
    {
     "name": "stdout",
     "output_type": "stream",
     "text": [
      "Enter a character: a\n",
      "a is a vowel\n"
     ]
    }
   ],
   "source": [
    "char = input(\"Enter a character: \")\n",
    "if char.lower() in \"aeiou\":\n",
    "    print(f\"{char} is a vowel\")\n",
    "else:\n",
    "    print(f\"{char} is a consonant\")"
   ]
  },
  {
   "cell_type": "markdown",
   "id": "735940b9",
   "metadata": {},
   "source": [
    "9. Create a program to calculate the total cost of a shopping cart based on discounts."
   ]
  },
  {
   "cell_type": "code",
   "execution_count": 19,
   "id": "1055d5bb",
   "metadata": {},
   "outputs": [
    {
     "name": "stdout",
     "output_type": "stream",
     "text": [
      "Enter the total cost of the shopping cart: 6000\n",
      "The discounted total for a shopping cart with a total cost of 6000.00 is 4800.00.\n"
     ]
    }
   ],
   "source": [
    "total = float(input(\"Enter the total cost of the shopping cart: \"))\n",
    "\n",
    "if total >= 100:\n",
    "    discount = 0.2\n",
    "elif total >= 50:\n",
    "    discount = 0.1\n",
    "else:\n",
    "    discount = 0\n",
    "\n",
    "discounted_total = total * (1 - discount)\n",
    "\n",
    "print(f\"The discounted total for a shopping cart with a total cost of {total:.2f} is {discounted_total:.2f}.\")"
   ]
  },
  {
   "cell_type": "markdown",
   "id": "f29203a3",
   "metadata": {},
   "source": [
    "10. Write a program that checks if a given number is even or odd."
   ]
  },
  {
   "cell_type": "code",
   "execution_count": 20,
   "id": "440350ab",
   "metadata": {},
   "outputs": [
    {
     "name": "stdout",
     "output_type": "stream",
     "text": [
      "55 is odd.\n"
     ]
    }
   ],
   "source": [
    "num = 55\n",
    "if num % 2 == 0:\n",
    "    print(f\"{num} is even.\")\n",
    "else:\n",
    "    print(f\"{num} is odd.\")\n"
   ]
  },
  {
   "cell_type": "markdown",
   "id": "d4712e2d",
   "metadata": {},
   "source": [
    "#  Intermediate Level:"
   ]
  },
  {
   "cell_type": "markdown",
   "id": "e63fba9d",
   "metadata": {},
   "source": [
    "11. Write a program that calculates the roots of a quadratic equation"
   ]
  },
  {
   "cell_type": "code",
   "execution_count": 21,
   "id": "fc294047",
   "metadata": {},
   "outputs": [
    {
     "name": "stdout",
     "output_type": "stream",
     "text": [
      "Enter the coefficient of x^2: 22\n",
      "Enter the coefficient of x: 2\n",
      "Enter the constant term: 3\n",
      "The roots of the quadratic equation 22.0x^2 + 2.0x + 3.0 are (-0.045454545454545456-0.36646626128629767j) and (-0.045454545454545456+0.36646626128629767j).\n"
     ]
    }
   ],
   "source": [
    "import cmath\n",
    "\n",
    "a = float(input(\"Enter the coefficient of x^2: \"))\n",
    "b = float(input(\"Enter the coefficient of x: \"))\n",
    "c = float(input(\"Enter the constant term: \"))\n",
    "\n",
    "# calculate the discriminant\n",
    "d = (b ** 2) - (4 * a * c)\n",
    "\n",
    "# find the roots\n",
    "root1 = (-b - cmath.sqrt(d)) / (2 * a)\n",
    "root2 = (-b + cmath.sqrt(d)) / (2 * a)\n",
    "\n",
    "print(f\"The roots of the quadratic equation {a}x^2 + {b}x + {c} are {root1} and {root2}.\")"
   ]
  },
  {
   "cell_type": "markdown",
   "id": "03dd6a07",
   "metadata": {},
   "source": [
    "12. Create a program that determines the day of the week based on the day number (1-7)."
   ]
  },
  {
   "cell_type": "code",
   "execution_count": 22,
   "id": "bd41c01d",
   "metadata": {},
   "outputs": [
    {
     "name": "stdout",
     "output_type": "stream",
     "text": [
      "Enter a number between 1 and 7: 4\n",
      "The day of the week corresponding to 4 is Thursday.\n"
     ]
    }
   ],
   "source": [
    "day_number = int(input(\"Enter a number between 1 and 7: \"))\n",
    "if day_number < 1 or day_number > 7:\n",
    "    print(\"Invalid input.\")\n",
    "else:\n",
    "    days = [\"Monday\", \"Tuesday\", \"Wednesday\", \"Thursday\", \"Friday\", \"Saturday\", \"Sunday\"]\n",
    "    day_of_week = days[day_number - 1]\n",
    "    print(f\"The day of the week corresponding to {day_number} is {day_of_week}.\")\n"
   ]
  },
  {
   "cell_type": "markdown",
   "id": "ce7d56ec",
   "metadata": {},
   "source": [
    "13. Develop a program that calculates the factorial of a given number using recursion."
   ]
  },
  {
   "cell_type": "code",
   "execution_count": 23,
   "id": "c0a6d7b8",
   "metadata": {},
   "outputs": [
    {
     "name": "stdout",
     "output_type": "stream",
     "text": [
      "Enter a number: 2\n",
      "The factorial of 2 is 2.\n"
     ]
    }
   ],
   "source": [
    "def factorial(n):\n",
    "    if n == 1:\n",
    "        return n\n",
    "    else:\n",
    "        return n * factorial(n-1)\n",
    "\n",
    "num = int(input(\"Enter a number: \"))\n",
    "\n",
    "if num < 0:\n",
    "    print(\"Factorial does not exist for negative numbers.\")\n",
    "elif num == 0:\n",
    "    print(\"The factorial of 0 is 1.\")\n",
    "else:\n",
    "    print(f\"The factorial of {num} is {factorial(num)}.\")\n"
   ]
  },
  {
   "cell_type": "markdown",
   "id": "25fcda4d",
   "metadata": {},
   "source": [
    "14. Write a program to find the largest among three numbers without using the `max()` function."
   ]
  },
  {
   "cell_type": "code",
   "execution_count": 24,
   "id": "82598100",
   "metadata": {},
   "outputs": [
    {
     "name": "stdout",
     "output_type": "stream",
     "text": [
      "Enter the first number: 15\n",
      "Enter the second number: 11\n",
      "Enter the third number: 22\n",
      "The largest number is 22.0.\n"
     ]
    }
   ],
   "source": [
    "num1 = float(input(\"Enter the first number: \"))\n",
    "num2 = float(input(\"Enter the second number: \"))\n",
    "num3 = float(input(\"Enter the third number: \"))\n",
    "\n",
    "if num1 >= num2 and num1 >= num3:\n",
    "    largest = num1\n",
    "elif num2 >= num1 and num2 >= num3:\n",
    "    largest = num2\n",
    "else:\n",
    "    largest = num3\n",
    "\n",
    "print(f\"The largest number is {largest}.\")\n"
   ]
  },
  {
   "cell_type": "markdown",
   "id": "59be1a0b",
   "metadata": {},
   "source": [
    "15. Create a program that simulates a basic ATM transaction menu."
   ]
  },
  {
   "cell_type": "code",
   "execution_count": 25,
   "id": "6fbf17d9",
   "metadata": {},
   "outputs": [
    {
     "name": "stdout",
     "output_type": "stream",
     "text": [
      "1. View balance\n",
      "2. Withdraw\n",
      "3. Deposit\n",
      "4. Exit\n",
      "Enter your choice: 1\n",
      "Your current balance is 1000.\n",
      "1. View balance\n",
      "2. Withdraw\n",
      "3. Deposit\n",
      "4. Exit\n",
      "Enter your choice: 2\n",
      "Enter the amount to withdraw: 500\n",
      "Withdrawal successful. Your new balance is 500.0.\n",
      "1. View balance\n",
      "2. Withdraw\n",
      "3. Deposit\n",
      "4. Exit\n",
      "Enter your choice: 1\n",
      "Your current balance is 500.0.\n",
      "1. View balance\n",
      "2. Withdraw\n",
      "3. Deposit\n",
      "4. Exit\n",
      "Enter your choice: 3\n",
      "Enter the amount to deposit: 50000\n",
      "Deposit successful. Your new balance is 50500.0.\n",
      "1. View balance\n",
      "2. Withdraw\n",
      "3. Deposit\n",
      "4. Exit\n",
      "Enter your choice: 1\n",
      "Your current balance is 50500.0.\n",
      "1. View balance\n",
      "2. Withdraw\n",
      "3. Deposit\n",
      "4. Exit\n",
      "Enter your choice: 4\n"
     ]
    }
   ],
   "source": [
    "class ATM:\n",
    "    def __init__(self, balance):\n",
    "        self.balance = balance\n",
    "\n",
    "    def view_balance(self):\n",
    "        print(f\"Your current balance is {self.balance}.\")\n",
    "\n",
    "    def withdraw(self, amount):\n",
    "        if amount > self.balance:\n",
    "            print(\"Insufficient funds.\")\n",
    "        else:\n",
    "            self.balance -= amount\n",
    "            print(f\"Withdrawal successful. Your new balance is {self.balance}.\")\n",
    "\n",
    "    def deposit(self, amount):\n",
    "        self.balance += amount\n",
    "        print(f\"Deposit successful. Your new balance is {self.balance}.\")\n",
    "\n",
    "atm = ATM(1000)\n",
    "\n",
    "while True:\n",
    "    print(\"1. View balance\")\n",
    "    print(\"2. Withdraw\")\n",
    "    print(\"3. Deposit\")\n",
    "    print(\"4. Exit\")\n",
    "\n",
    "    choice = int(input(\"Enter your choice: \"))\n",
    "\n",
    "    if choice == 1:\n",
    "        atm.view_balance()\n",
    "    elif choice == 2:\n",
    "        amount = float(input(\"Enter the amount to withdraw: \"))\n",
    "        atm.withdraw(amount)\n",
    "    elif choice == 3:\n",
    "        amount = float(input(\"Enter the amount to deposit: \"))\n",
    "        atm.deposit(amount)\n",
    "    elif choice == 4:\n",
    "        break\n",
    "    else:\n",
    "        print(\"Invalid choice.\")\n"
   ]
  },
  {
   "cell_type": "markdown",
   "id": "7fd4db19",
   "metadata": {},
   "source": [
    "16. Build a program that checks if a given string is a palindrome or not.\n"
   ]
  },
  {
   "cell_type": "code",
   "execution_count": 26,
   "id": "3916f4f9",
   "metadata": {},
   "outputs": [
    {
     "name": "stdout",
     "output_type": "stream",
     "text": [
      "Enter a string: katak\n",
      "katak is a palindrome.\n"
     ]
    }
   ],
   "source": [
    "def is_palindrome(s):\n",
    "    s = s.lower().replace(' ', '')\n",
    "    return s == s[::-1]\n",
    "\n",
    "string = input(\"Enter a string: \")\n",
    "if is_palindrome(string):\n",
    "    print(f\"{string} is a palindrome.\")\n",
    "else:\n",
    "    print(f\"{string} is not a palindrome.\")\n"
   ]
  },
  {
   "cell_type": "markdown",
   "id": "ad6bc7d0",
   "metadata": {},
   "source": [
    "17. Write a program that calculates the average of a list of numbers, excluding the smallest and largest values."
   ]
  },
  {
   "cell_type": "code",
   "execution_count": 36,
   "id": "fdb13fbb",
   "metadata": {},
   "outputs": [],
   "source": [
    "def centered_average(nums):\n",
    "    total = sum(nums)\n",
    "    high = max(nums)\n",
    "    low = min(nums)\n",
    "    aveg = (total - high - low) / (len(nums) - 2)\n",
    "    return aveg\n"
   ]
  },
  {
   "cell_type": "code",
   "execution_count": 38,
   "id": "845df78d",
   "metadata": {},
   "outputs": [
    {
     "ename": "TypeError",
     "evalue": "'int' object is not iterable",
     "output_type": "error",
     "traceback": [
      "\u001b[1;31m---------------------------------------------------------------------------\u001b[0m",
      "\u001b[1;31mTypeError\u001b[0m                                 Traceback (most recent call last)",
      "Cell \u001b[1;32mIn[38], line 1\u001b[0m\n\u001b[1;32m----> 1\u001b[0m \u001b[43mcentered_average\u001b[49m\u001b[43m(\u001b[49m\u001b[38;5;241;43m1\u001b[39;49m\n\u001b[0;32m      2\u001b[0m \u001b[43m                \u001b[49m\u001b[43m)\u001b[49m\n",
      "Cell \u001b[1;32mIn[36], line 2\u001b[0m, in \u001b[0;36mcentered_average\u001b[1;34m(nums)\u001b[0m\n\u001b[0;32m      1\u001b[0m \u001b[38;5;28;01mdef\u001b[39;00m \u001b[38;5;21mcentered_average\u001b[39m(nums):\n\u001b[1;32m----> 2\u001b[0m     total \u001b[38;5;241m=\u001b[39m \u001b[38;5;28;43msum\u001b[39;49m\u001b[43m(\u001b[49m\u001b[43mnums\u001b[49m\u001b[43m)\u001b[49m\n\u001b[0;32m      3\u001b[0m     high \u001b[38;5;241m=\u001b[39m \u001b[38;5;28mmax\u001b[39m(nums)\n\u001b[0;32m      4\u001b[0m     low \u001b[38;5;241m=\u001b[39m \u001b[38;5;28mmin\u001b[39m(nums)\n",
      "\u001b[1;31mTypeError\u001b[0m: 'int' object is not iterable"
     ]
    }
   ],
   "source": [
    "centered_average(1\n",
    "                )"
   ]
  },
  {
   "cell_type": "markdown",
   "id": "59471419",
   "metadata": {},
   "source": [
    "18. Develop a program that converts a given temperature from Celsius to Fahrenheit."
   ]
  },
  {
   "cell_type": "code",
   "execution_count": 39,
   "id": "c11a4a63",
   "metadata": {},
   "outputs": [
    {
     "name": "stdout",
     "output_type": "stream",
     "text": [
      "Enter temperature in Celsius: 50\n",
      "50.0°C is equal to 122.0°F.\n"
     ]
    }
   ],
   "source": [
    "def celsius_to_fahrenheit(celsius: float) -> float:\n",
    "    return (celsius * 9/5) + 32\n",
    "\n",
    "celsius = float(input(\"Enter temperature in Celsius: \"))\n",
    "fahrenheit = celsius_to_fahrenheit(celsius)\n",
    "print(f\"{celsius}°C is equal to {fahrenheit}°F.\")\n"
   ]
  },
  {
   "cell_type": "markdown",
   "id": "2ac1c39d",
   "metadata": {},
   "source": [
    "19. Create a program that simulates a basic calculator for addition, subtraction, multiplication, and division."
   ]
  },
  {
   "cell_type": "code",
   "execution_count": 40,
   "id": "2ee2ef93",
   "metadata": {},
   "outputs": [
    {
     "name": "stdout",
     "output_type": "stream",
     "text": [
      "Please select operation -\n",
      "1. Add\n",
      "2. Subtract\n",
      "3. Multiply\n",
      "4. Divide\n",
      "\n",
      "Select operations form 1, 2, 3, 4 :1\n",
      "Enter first number: 23\n",
      "Enter second number: 23\n",
      "23 + 23 = 46\n"
     ]
    }
   ],
   "source": [
    "\n",
    "# Python program for simple calculator\n",
    " \n",
    "# Function to add two numbers\n",
    "def add(num1, num2):\n",
    "    return num1 + num2\n",
    " \n",
    "# Function to subtract two numbers\n",
    "def subtract(num1, num2):\n",
    "    return num1 - num2\n",
    " \n",
    "# Function to multiply two numbers\n",
    "def multiply(num1, num2):\n",
    "    return num1 * num2\n",
    " \n",
    "# Function to divide two numbers\n",
    "def divide(num1, num2):\n",
    "    return num1 / num2\n",
    " \n",
    "print(\"Please select operation -\\n\" \\\n",
    "        \"1. Add\\n\" \\\n",
    "        \"2. Subtract\\n\" \\\n",
    "        \"3. Multiply\\n\" \\\n",
    "        \"4. Divide\\n\")\n",
    " \n",
    " \n",
    "# Take input from the user\n",
    "select = int(input(\"Select operations form 1, 2, 3, 4 :\"))\n",
    " \n",
    "number_1 = int(input(\"Enter first number: \"))\n",
    "number_2 = int(input(\"Enter second number: \"))\n",
    " \n",
    "if select == 1:\n",
    "    print(number_1, \"+\", number_2, \"=\",\n",
    "                    add(number_1, number_2))\n",
    " \n",
    "elif select == 2:\n",
    "    print(number_1, \"-\", number_2, \"=\",\n",
    "                    subtract(number_1, number_2))\n",
    " \n",
    "elif select == 3:\n",
    "    print(number_1, \"*\", number_2, \"=\",\n",
    "                    multiply(number_1, number_2))\n",
    " \n",
    "elif select == 4:\n",
    "    print(number_1, \"/\", number_2, \"=\",\n",
    "                    divide(number_1, number_2))\n",
    "else:\n",
    "    print(\"Invalid input\")"
   ]
  },
  {
   "cell_type": "markdown",
   "id": "1d2be6c7",
   "metadata": {},
   "source": [
    "20. Write a program that determines the roots of a cubic equation using the Cardano formula."
   ]
  },
  {
   "cell_type": "code",
   "execution_count": 41,
   "id": "70abe2fc",
   "metadata": {},
   "outputs": [
    {
     "name": "stdout",
     "output_type": "stream",
     "text": [
      "Enter coefficient of x^3: 33\n",
      "Enter coefficient of x^2: 22\n",
      "Enter coefficient of x: 36\n",
      "Enter constant term: 2\n",
      "The roots of the cubic equation 33.0x^3 + 22.0x^2 + 36.0x + 2.0 are:\n",
      "x1: (0.8911200267376675+0.41932556464500637j)\n",
      "x2: (-0.4455600133688338-0.20966278232250318j)\n",
      "x3: (0.3524070163308818-0.3631465914388293j)\n"
     ]
    }
   ],
   "source": [
    "import math\n",
    "\n",
    "def cubic_roots(a, b, c, d):\n",
    "    # Depress the cubic equation\n",
    "    p = (3*a*c - b**2) / (3*a**2)\n",
    "    q = (2*b**3 - 9*a*b*c + 27*a**2*d) / (27*a**3)\n",
    "    delta = (q/2)**2 + (p/3)**3\n",
    "\n",
    "    if delta > 0:\n",
    "        u = (-q/2 + math.sqrt(delta))**(1/3)\n",
    "        v = (-q/2 - math.sqrt(delta))**(1/3)\n",
    "        x1 = u + v\n",
    "        x2_real = -(u+v)/2\n",
    "        x2_imaginary = math.sqrt(3)*(u-v)/2\n",
    "        return x1, x2_real, x2_imaginary\n",
    "    elif delta == 0:\n",
    "        u = (-q/2)**(1/3)\n",
    "        x1 = 2*u\n",
    "        x2_real = -u\n",
    "        return x1, x2_real\n",
    "    else:\n",
    "        u = math.sqrt(-(p/3))\n",
    "        v = math.acos(-(q/2)/(u**3))\n",
    "        x1 = 2*u*math.cos(v/3) - b/(3*a)\n",
    "        x2 = 2*u*math.cos((v+2*math.pi)/3) - b/(3*a)\n",
    "        x3 = 2*u*math.cos((v-2*math.pi)/3) - b/(3*a)\n",
    "        return x1, x2, x3\n",
    "\n",
    "a = float(input(\"Enter coefficient of x^3: \"))\n",
    "b = float(input(\"Enter coefficient of x^2: \"))\n",
    "c = float(input(\"Enter coefficient of x: \"))\n",
    "d = float(input(\"Enter constant term: \"))\n",
    "\n",
    "x1, x2, x3 = cubic_roots(a, b, c, d)\n",
    "\n",
    "print(f\"The roots of the cubic equation {a}x^3 + {b}x^2 + {c}x + {d} are:\")\n",
    "print(f\"x1: {x1}\")\n",
    "print(f\"x2: {x2}\")\n",
    "print(f\"x3: {x3}\")\n"
   ]
  },
  {
   "cell_type": "markdown",
   "id": "133e0ef0",
   "metadata": {},
   "source": [
    "#  Advanced Level:"
   ]
  },
  {
   "cell_type": "markdown",
   "id": "7d30b4a6",
   "metadata": {},
   "source": [
    "21. Create a program that calculates the income tax based on the user's income and tax brackets."
   ]
  },
  {
   "cell_type": "code",
   "execution_count": 42,
   "id": "033e5028",
   "metadata": {},
   "outputs": [
    {
     "name": "stdout",
     "output_type": "stream",
     "text": [
      "Enter your annual income: 1400000\n",
      "Your total tax liability for the year is ₹162500.00\n"
     ]
    }
   ],
   "source": [
    "def calculate_income_tax(income):\n",
    "    if income <= 250000:\n",
    "        tax = 0\n",
    "    elif income <= 500000:\n",
    "        tax = (income - 250000) * 0.05\n",
    "    elif income <= 750000:\n",
    "        tax = (income - 500000) * 0.1 + 12500\n",
    "    elif income <= 1000000:\n",
    "        tax = (income - 750000) * 0.15 + 37500\n",
    "    elif income <= 1250000:\n",
    "        tax = (income - 1000000) * 0.2 + 75000\n",
    "    elif income <= 1500000:\n",
    "        tax = (income - 1250000) * 0.25 + 125000\n",
    "    else:\n",
    "        tax = (income - 1500000) * 0.3 + 187500\n",
    "\n",
    "    return tax\n",
    "\n",
    "income = float(input(\"Enter your annual income: \"))\n",
    "tax = calculate_income_tax(income)\n",
    "print(f\"Your total tax liability for the year is ₹{tax:.2f}\")\n"
   ]
  },
  {
   "cell_type": "markdown",
   "id": "4b0ace5a",
   "metadata": {},
   "source": [
    "22. Write a program that simulates a rock-paper-scissors game against the computer."
   ]
  },
  {
   "cell_type": "code",
   "execution_count": 44,
   "id": "51de5212",
   "metadata": {},
   "outputs": [
    {
     "name": "stdout",
     "output_type": "stream",
     "text": [
      "Let's play Rock-Paper-Scissors!\n",
      "Choose your weapon: \n",
      "1. Rock\n",
      "2. Paper\n",
      "3. Scissors\n",
      "Enter your choice (1/2/3): 3\n",
      "You win!\n"
     ]
    }
   ],
   "source": [
    "import random\n",
    "\n",
    "def play_game():\n",
    "    print(\"Let's play Rock-Paper-Scissors!\")\n",
    "    print(\"Choose your weapon: \")\n",
    "    print(\"1. Rock\")\n",
    "    print(\"2. Paper\")\n",
    "    print(\"3. Scissors\")\n",
    "\n",
    "    user_choice = int(input(\"Enter your choice (1/2/3): \"))\n",
    "    while user_choice not in [1, 2, 3]:\n",
    "        user_choice = int(input(\"Invalid choice. Enter your choice (1/2/3): \"))\n",
    "\n",
    "    computer_choice = random.randint(1, 3)\n",
    "\n",
    "    if user_choice == computer_choice:\n",
    "        print(\"It's a tie!\")\n",
    "    elif (user_choice == 1 and computer_choice == 3) or \\\n",
    "         (user_choice == 2 and computer_choice == 1) or \\\n",
    "         (user_choice == 3 and computer_choice == 2):\n",
    "        print(\"You win!\")\n",
    "    else:\n",
    "        print(\"Computer wins!\")\n",
    "\n",
    "play_game()\n"
   ]
  },
  {
   "cell_type": "markdown",
   "id": "90447080",
   "metadata": {},
   "source": [
    "23. Develop a program that generates a random password based on user preferences (length, complexity)."
   ]
  },
  {
   "cell_type": "code",
   "execution_count": 45,
   "id": "fa912477",
   "metadata": {},
   "outputs": [
    {
     "name": "stdout",
     "output_type": "stream",
     "text": [
      "Enter the length of the password: 9\n",
      "Enter the complexity of the password (low/medium/high): medium\n",
      "Your random password is: cGPFGAPXP\n"
     ]
    }
   ],
   "source": [
    "import random\n",
    "import string\n",
    "\n",
    "def generate_password(length, complexity):\n",
    "    if complexity == \"low\":\n",
    "        characters = string.ascii_lowercase + string.digits\n",
    "    elif complexity == \"medium\":\n",
    "        characters = string.ascii_letters + string.digits\n",
    "    else:\n",
    "        characters = string.ascii_letters + string.digits + string.punctuation\n",
    "\n",
    "    password = \"\".join(random.choice(characters) for i in range(length))\n",
    "    return password\n",
    "\n",
    "length = int(input(\"Enter the length of the password: \"))\n",
    "complexity = input(\"Enter the complexity of the password (low/medium/high): \")\n",
    "\n",
    "password = generate_password(length, complexity)\n",
    "print(f\"Your random password is: {password}\")\n"
   ]
  },
  {
   "cell_type": "markdown",
   "id": "3e63b5b8",
   "metadata": {},
   "source": [
    "24. Create a program that implements a simple text-based adventure game with branching scenarios."
   ]
  },
  {
   "cell_type": "code",
   "execution_count": 47,
   "id": "c8fa84a8",
   "metadata": {},
   "outputs": [
    {
     "name": "stdout",
     "output_type": "stream",
     "text": [
      "Welcome to the Text-Based Adventure Game!\n",
      "You are in a dark room. There are two doors in front of you.\n",
      "Which door do you choose? (1/2)\n",
      "1\n",
      "You enter a room full of treasure. You win!\n"
     ]
    }
   ],
   "source": [
    "print(\"Welcome to the Text-Based Adventure Game!\")\n",
    "print(\"You are in a dark room. There are two doors in front of you.\")\n",
    "print(\"Which door do you choose? (1/2)\")\n",
    "\n",
    "door = input()\n",
    "\n",
    "if door == \"1\":\n",
    "    print(\"You enter a room full of treasure. You win!\")\n",
    "elif door == \"2\":\n",
    "    print(\"You enter a room full of monsters. You lose!\")\n",
    "else:\n",
    "    print(\"Invalid input. You lose!\")\n"
   ]
  },
  {
   "cell_type": "markdown",
   "id": "2409d20a",
   "metadata": {},
   "source": [
    "25. Build a program that solves a linear equation for x, considering different cases."
   ]
  },
  {
   "cell_type": "code",
   "execution_count": 48,
   "id": "3e6776f7",
   "metadata": {},
   "outputs": [
    {
     "name": "stdout",
     "output_type": "stream",
     "text": [
      "Enter the coefficient of x: 2\n",
      "Enter the constant term: 3\n",
      "x = -1.5\n"
     ]
    }
   ],
   "source": [
    "def solve_linear_equation(a, b):\n",
    "    if a == 0 and b == 0:\n",
    "        return \"Infinite solutions\"\n",
    "    elif a == 0 and b != 0:\n",
    "        return \"No solution\"\n",
    "    else:\n",
    "        x = -b / a\n",
    "        return f\"x = {x}\"\n",
    "\n",
    "a = float(input(\"Enter the coefficient of x: \"))\n",
    "b = float(input(\"Enter the constant term: \"))\n",
    "\n",
    "solution = solve_linear_equation(a, b)\n",
    "print(solution)\n"
   ]
  },
  {
   "cell_type": "markdown",
   "id": "6108af2e",
   "metadata": {},
   "source": [
    "26. Write a program that simulates a basic quiz game with multiple-choice questions and scoring."
   ]
  },
  {
   "cell_type": "code",
   "execution_count": 50,
   "id": "51bb2e1d",
   "metadata": {},
   "outputs": [
    {
     "name": "stdout",
     "output_type": "stream",
     "text": [
      "Question 1: What is the capital of France?\n",
      "1. Paris\n",
      "2. London\n",
      "3. Berlin\n",
      "4. Madrid\n",
      "Enter your answer (1/2/3/4): 1\n",
      "Correct!\n",
      "Question 2: What is the largest planet in our solar system?\n",
      "1. Mars\n",
      "2. Jupiter\n",
      "3. Venus\n",
      "4. Saturn\n",
      "Enter your answer (1/2/3/4): 2\n",
      "Correct!\n",
      "Question 3: What is the smallest country in the world?\n",
      "1. Monaco\n",
      "2. Vatican City\n",
      "3. San Marino\n",
      "4. Liechtenstein\n",
      "Enter your answer (1/2/3/4): 2\n",
      "Correct!\n",
      "Your final score is 3/3\n"
     ]
    }
   ],
   "source": [
    "def play_quiz():\n",
    "    score = 0\n",
    "    questions = [\n",
    "        {\n",
    "            \"question\": \"What is the capital of France?\",\n",
    "            \"options\": [\"Paris\", \"London\", \"Berlin\", \"Madrid\"],\n",
    "            \"answer\": \"Paris\"\n",
    "        },\n",
    "        {\n",
    "            \"question\": \"What is the largest planet in our solar system?\",\n",
    "            \"options\": [\"Mars\", \"Jupiter\", \"Venus\", \"Saturn\"],\n",
    "            \"answer\": \"Jupiter\"\n",
    "        },\n",
    "        {\n",
    "            \"question\": \"What is the smallest country in the world?\",\n",
    "            \"options\": [\"Monaco\", \"Vatican City\", \"San Marino\", \"Liechtenstein\"],\n",
    "            \"answer\": \"Vatican City\"\n",
    "        }\n",
    "    ]\n",
    "\n",
    "    for i, question in enumerate(questions):\n",
    "        print(f\"Question {i+1}: {question['question']}\")\n",
    "        for j, option in enumerate(question['options']):\n",
    "            print(f\"{j+1}. {option}\")\n",
    "        user_answer = input(\"Enter your answer (1/2/3/4): \")\n",
    "        if user_answer == str(question['options'].index(question['answer']) + 1):\n",
    "            print(\"Correct!\")\n",
    "            score += 1\n",
    "        else:\n",
    "            print(\"Incorrect!\")\n",
    "    \n",
    "    print(f\"Your final score is {score}/{len(questions)}\")\n",
    "\n",
    "play_quiz()\n"
   ]
  },
  {
   "cell_type": "markdown",
   "id": "87d79845",
   "metadata": {},
   "source": [
    "27. Develop a program that determines whether a given year is a prime number or not.\n"
   ]
  },
  {
   "cell_type": "code",
   "execution_count": 51,
   "id": "f79dd703",
   "metadata": {},
   "outputs": [
    {
     "name": "stdout",
     "output_type": "stream",
     "text": [
      "Enter a year: 2020\n",
      "2020 is not a prime number.\n"
     ]
    }
   ],
   "source": [
    "def is_prime(n):\n",
    "    if n <= 1:\n",
    "        return False\n",
    "    for i in range(2, int(n**0.5) + 1):\n",
    "        if n % i == 0:\n",
    "            return False\n",
    "    return True\n",
    "\n",
    "year = int(input(\"Enter a year: \"))\n",
    "if is_prime(year):\n",
    "    print(f\"{year} is a prime number.\")\n",
    "else:\n",
    "    print(f\"{year} is not a prime number.\")\n"
   ]
  },
  {
   "cell_type": "markdown",
   "id": "335a5d9b",
   "metadata": {},
   "source": [
    "28. Create a program that sorts three numbers in ascending order using conditional statements."
   ]
  },
  {
   "cell_type": "code",
   "execution_count": 52,
   "id": "f8bf70d7",
   "metadata": {},
   "outputs": [
    {
     "name": "stdout",
     "output_type": "stream",
     "text": [
      "Enter a: 22\n",
      "Enter b: 23\n",
      "Enter c: 47\n",
      "22.0 < 23.0 < 47.0\n"
     ]
    }
   ],
   "source": [
    "a = float(input(\"Enter a: \"))\n",
    "b = float(input(\"Enter b: \"))\n",
    "c = float(input(\"Enter c: \"))\n",
    "\n",
    "if a <= b and a <= c:\n",
    "    if b <= c:\n",
    "        print(a, \"<\", b, \"<\", c)\n",
    "    else:\n",
    "        print(a, \"<\", c, \"<\", b)\n",
    "elif b <= a and b <= c:\n",
    "    if a <= c:\n",
    "        print(b, \"<\", a, \"<\", c)\n",
    "    else:\n",
    "        print(b, \"<\", c, \"<\", a)\n",
    "else:\n",
    "    if a <= b:\n",
    "        print(c, \"<\", a, \"<\", b)\n",
    "    else:\n",
    "        print(c, \"<\", b, \"<\", a)\n"
   ]
  },
  {
   "cell_type": "markdown",
   "id": "958f4d33",
   "metadata": {},
   "source": [
    "29. Build a program that determines the roots of a quartic equation using numerical methods."
   ]
  },
  {
   "cell_type": "code",
   "execution_count": 53,
   "id": "5212fe21",
   "metadata": {},
   "outputs": [
    {
     "name": "stdout",
     "output_type": "stream",
     "text": [
      "Enter coefficient of x^4: 4\n",
      "Enter coefficient of x^3: 3\n",
      "Enter coefficient of x^2: 2\n",
      "Enter coefficient of x: 1\n",
      "Enter constant term: 5\n",
      "The roots of the quartic equation 4.0x^4 + 3.0x^3 + 2.0x^2 + 1.0x + 5.0 are:\n",
      "x1: -0.3557028250713515\n",
      "x2: -0.3557028504555712\n",
      "x3: -0.35570282505744266\n",
      "x4: -0.3557028250659132\n"
     ]
    }
   ],
   "source": [
    "import numpy as np\n",
    "from scipy.optimize import root\n",
    "\n",
    "def quartic_roots(a, b, c, d, e):\n",
    "    def f(x):\n",
    "        return a*x**4 + b*x**3 + c*x**2 + d*x + e\n",
    "\n",
    "    sol = root(f, [0, 0, 0, 0])\n",
    "    return sol.x\n",
    "\n",
    "a = float(input(\"Enter coefficient of x^4: \"))\n",
    "b = float(input(\"Enter coefficient of x^3: \"))\n",
    "c = float(input(\"Enter coefficient of x^2: \"))\n",
    "d = float(input(\"Enter coefficient of x: \"))\n",
    "e = float(input(\"Enter constant term: \"))\n",
    "\n",
    "roots = quartic_roots(a, b, c, d, e)\n",
    "print(f\"The roots of the quartic equation {a}x^4 + {b}x^3 + {c}x^2 + {d}x + {e} are:\")\n",
    "for i, root in enumerate(roots):\n",
    "    print(f\"x{i+1}: {root}\")\n"
   ]
  },
  {
   "cell_type": "markdown",
   "id": "24d92b32",
   "metadata": {},
   "source": [
    "30. Write a program that calculates the BMI (Body Mass Index) and provides health recommendations based\n",
    "on the user's input.\n"
   ]
  },
  {
   "cell_type": "code",
   "execution_count": 54,
   "id": "4f0bf376",
   "metadata": {
    "scrolled": true
   },
   "outputs": [
    {
     "name": "stdout",
     "output_type": "stream",
     "text": [
      "Enter your weight in kilograms: 56\n",
      "Enter your height in meters: 1.5\n",
      "Your BMI is 24.89, which is considered normal weight.\n",
      "Congratulations! You are at a healthy weight.\n"
     ]
    }
   ],
   "source": [
    "def calculate_bmi(weight, height):\n",
    "    bmi = weight / (height ** 2)\n",
    "    return bmi\n",
    "\n",
    "def get_bmi_category(bmi):\n",
    "    if bmi < 18.5:\n",
    "        return \"underweight\"\n",
    "    elif bmi < 25:\n",
    "        return \"normal weight\"\n",
    "    elif bmi < 30:\n",
    "        return \"overweight\"\n",
    "    else:\n",
    "        return \"obese\"\n",
    "\n",
    "weight = float(input(\"Enter your weight in kilograms: \"))\n",
    "height = float(input(\"Enter your height in meters: \"))\n",
    "\n",
    "bmi = calculate_bmi(weight, height)\n",
    "bmi_category = get_bmi_category(bmi)\n",
    "\n",
    "print(f\"Your BMI is {bmi:.2f}, which is considered {bmi_category}.\")\n",
    "\n",
    "if bmi_category == \"underweight\":\n",
    "    print(\"You may need to gain some weight to improve your health.\")\n",
    "elif bmi_category == \"normal weight\":\n",
    "    print(\"Congratulations! You are at a healthy weight.\")\n",
    "elif bmi_category == \"overweight\":\n",
    "    print(\"You may need to lose some weight to improve your health.\")\n",
    "else:\n",
    "    print(\"You are at a high risk of developing health problems. You should consult a doctor.\")\n"
   ]
  },
  {
   "cell_type": "markdown",
   "id": "96ec92cd",
   "metadata": {},
   "source": [
    "#  Challenge Level:"
   ]
  },
  {
   "cell_type": "markdown",
   "id": "3b5dd564",
   "metadata": {},
   "source": [
    "31. Create a program that validates a password based on complexity rules (length, characters, etc.)."
   ]
  },
  {
   "cell_type": "code",
   "execution_count": 57,
   "id": "95192259",
   "metadata": {},
   "outputs": [
    {
     "name": "stdout",
     "output_type": "stream",
     "text": [
      "Enter your password: rajesh9876\n",
      "Your password is invalid.\n"
     ]
    }
   ],
   "source": [
    "import re\n",
    "\n",
    "def validate_password(password):\n",
    "    # Password must be at least 8 characters long\n",
    "    if len(password) < 8:\n",
    "        return False\n",
    "\n",
    "    # Password must contain at least one uppercase letter\n",
    "    if not re.search(r\"[A-Z]\", password):\n",
    "        return False\n",
    "\n",
    "    # Password must contain at least one lowercase letter\n",
    "    if not re.search(r\"[a-z]\", password):\n",
    "        return False\n",
    "\n",
    "    # Password must contain at least one digit\n",
    "    if not re.search(r\"\\d\", password):\n",
    "        return False\n",
    "\n",
    "    # Password must contain at least one special character\n",
    "    if not re.search(r\"[ !#$%&'()*+,-./:;<=>?@[\\\\]^_`{|}~]\", password):\n",
    "        return False\n",
    "\n",
    "    return True\n",
    "\n",
    "password = input(\"Enter your password: \")\n",
    "if validate_password(password):\n",
    "    print(\"Your password is valid.\")\n",
    "else:\n",
    "    print(\"Your password is invalid.\")\n"
   ]
  },
  {
   "cell_type": "markdown",
   "id": "9deed77d",
   "metadata": {},
   "source": [
    "32. Develop a program that performs matrix addition and subtraction based on user input."
   ]
  },
  {
   "cell_type": "code",
   "execution_count": 58,
   "id": "049d8df0",
   "metadata": {},
   "outputs": [
    {
     "name": "stdout",
     "output_type": "stream",
     "text": [
      "Matrix 1:\n",
      "[[1 2]\n",
      " [3 4]]\n",
      "Matrix 2:\n",
      "[[5 6]\n",
      " [7 8]]\n",
      "Addition of matrices:\n",
      "[[ 6  8]\n",
      " [10 12]]\n",
      "Subtraction of matrices:\n",
      "[[-4 -4]\n",
      " [-4 -4]]\n"
     ]
    }
   ],
   "source": [
    "import numpy as np\n",
    "\n",
    "def add_matrices(matrix1, matrix2):\n",
    "    return np.add(matrix1, matrix2)\n",
    "\n",
    "def subtract_matrices(matrix1, matrix2):\n",
    "    return np.subtract(matrix1, matrix2)\n",
    "\n",
    "matrix1 = np.array([[1, 2], [3, 4]])\n",
    "matrix2 = np.array([[5, 6], [7, 8]])\n",
    "\n",
    "print(\"Matrix 1:\")\n",
    "print(matrix1)\n",
    "print(\"Matrix 2:\")\n",
    "print(matrix2)\n",
    "\n",
    "print(\"Addition of matrices:\")\n",
    "print(add_matrices(matrix1, matrix2))\n",
    "\n",
    "print(\"Subtraction of matrices:\")\n",
    "print(subtract_matrices(matrix1, matrix2))\n"
   ]
  },
  {
   "cell_type": "markdown",
   "id": "cebc38e6",
   "metadata": {},
   "source": [
    "33. Write a program that calculates the greatest common divisor (GCD) of two numbers using the Euclidean\n",
    "algorithm."
   ]
  },
  {
   "cell_type": "code",
   "execution_count": 59,
   "id": "bb80ab40",
   "metadata": {},
   "outputs": [
    {
     "name": "stdout",
     "output_type": "stream",
     "text": [
      "Enter first number: 22\n",
      "Enter second number: 25\n",
      "The GCD of 22 and 25 is 1.\n"
     ]
    }
   ],
   "source": [
    "def gcd(a, b):\n",
    "    while b:\n",
    "        a, b = b, a % b\n",
    "    return abs(a)\n",
    "\n",
    "num1 = int(input(\"Enter first number: \"))\n",
    "num2 = int(input(\"Enter second number: \"))\n",
    "\n",
    "print(f\"The GCD of {num1} and {num2} is {gcd(num1, num2)}.\")\n"
   ]
  },
  {
   "cell_type": "markdown",
   "id": "250bafdb",
   "metadata": {},
   "source": [
    "34. Build a program that performs matrix multiplication using nested loops and conditional statements."
   ]
  },
  {
   "cell_type": "code",
   "execution_count": 60,
   "id": "2a592509",
   "metadata": {},
   "outputs": [
    {
     "name": "stdout",
     "output_type": "stream",
     "text": [
      "Matrix 1:\n",
      "[1, 2]\n",
      "[3, 4]\n",
      "Matrix 2:\n",
      "[5, 6]\n",
      "[7, 8]\n",
      "Result:\n",
      "[19, 22]\n",
      "[43, 50]\n"
     ]
    }
   ],
   "source": [
    "def matrix_multiplication(matrix1, matrix2):\n",
    "    result = []\n",
    "    for i in range(len(matrix1)):\n",
    "        row = []\n",
    "        for j in range(len(matrix2[0])):\n",
    "            sum = 0\n",
    "            for k in range(len(matrix2)):\n",
    "                sum += matrix1[i][k] * matrix2[k][j]\n",
    "            row.append(sum)\n",
    "        result.append(row)\n",
    "    return result\n",
    "\n",
    "matrix1 = [[1, 2], [3, 4]]\n",
    "matrix2 = [[5, 6], [7, 8]]\n",
    "\n",
    "print(\"Matrix 1:\")\n",
    "for row in matrix1:\n",
    "    print(row)\n",
    "\n",
    "print(\"Matrix 2:\")\n",
    "for row in matrix2:\n",
    "    print(row)\n",
    "\n",
    "result = matrix_multiplication(matrix1, matrix2)\n",
    "\n",
    "print(\"Result:\")\n",
    "for row in result:\n",
    "    print(row)\n"
   ]
  },
  {
   "cell_type": "markdown",
   "id": "b7e4fbca",
   "metadata": {},
   "source": [
    "35. Create a program that simulates a basic text-based tic-tac-toe game against the computer."
   ]
  },
  {
   "cell_type": "markdown",
   "id": "61fe7f3c",
   "metadata": {},
   "source": [
    "36. Write a program that generates Fibonacci numbers up to a specified term using iterative methods."
   ]
  },
  {
   "cell_type": "code",
   "execution_count": 62,
   "id": "34eb046b",
   "metadata": {},
   "outputs": [
    {
     "name": "stdout",
     "output_type": "stream",
     "text": [
      "Enter the number of terms: 21\n",
      "0 1 1 2 3 5 8 13 21 34 55 89 144 233 377 610 987 1597 2584 4181 6765 "
     ]
    }
   ],
   "source": [
    "def fibonacci(n: int) -> None:\n",
    "    a, b = 0, 1\n",
    "    for i in range(n):\n",
    "        print(a, end=\" \")\n",
    "        a, b = b, a + b\n",
    "\n",
    "n = int(input(\"Enter the number of terms: \"))\n",
    "fibonacci(n)\n"
   ]
  },
  {
   "cell_type": "markdown",
   "id": "9300aba7",
   "metadata": {},
   "source": [
    "37. Develop a program that calculates the nth term of the Fibonacci sequence using memoization."
   ]
  },
  {
   "cell_type": "code",
   "execution_count": 63,
   "id": "bf65c449",
   "metadata": {},
   "outputs": [
    {
     "name": "stdout",
     "output_type": "stream",
     "text": [
      "Enter the value of n: 2\n",
      "The 2th term of the Fibonacci sequence is 1\n"
     ]
    }
   ],
   "source": [
    "def fibonacci(n: int, memo: dict = {}) -> int:\n",
    "    if n in memo:\n",
    "        return memo[n]\n",
    "    if n <= 2:\n",
    "        return 1\n",
    "    memo[n] = fibonacci(n - 1, memo) + fibonacci(n - 2, memo)\n",
    "    return memo[n]\n",
    "\n",
    "n = int(input(\"Enter the value of n: \"))\n",
    "print(f\"The {n}th term of the Fibonacci sequence is {fibonacci(n)}\")\n"
   ]
  },
  {
   "cell_type": "markdown",
   "id": "11dbf9b1",
   "metadata": {},
   "source": [
    "38. Create a program that generates a calendar for a given month and year using conditional statements."
   ]
  },
  {
   "cell_type": "code",
   "execution_count": 65,
   "id": "3081cb98",
   "metadata": {},
   "outputs": [
    {
     "name": "stdout",
     "output_type": "stream",
     "text": [
      "Enter the month: 9\n",
      "Enter the year: 2023\n",
      "0 0 0 0 1 2 3 \n",
      "4 5 6 7 8 9 10 \n",
      "11 12 13 14 15 16 17 \n",
      "18 19 20 21 22 23 24 \n",
      "25 26 27 28 29 30 0 \n"
     ]
    }
   ],
   "source": [
    "import calendar\n",
    "\n",
    "# Get the user input for the month and year\n",
    "month = int(input(\"Enter the month: \"))\n",
    "year = int(input(\"Enter the year: \"))\n",
    "\n",
    "# Create a calendar object for the given month and year\n",
    "cal = calendar.Calendar(firstweekday=0)\n",
    "\n",
    "# Get the days of the week for the first week of the month\n",
    "weeks = cal.monthdayscalendar(year, month)\n",
    "\n",
    "# Print the calendar\n",
    "for week in weeks:\n",
    "    for day in week:\n",
    "        print(day, end=\" \")\n",
    "    print()"
   ]
  },
  {
   "cell_type": "markdown",
   "id": "57ef6b1e",
   "metadata": {},
   "source": [
    "39. Build a program that simulates a basic text-based blackjack game against the computer."
   ]
  },
  {
   "cell_type": "code",
   "execution_count": 68,
   "id": "e6a1b40e",
   "metadata": {},
   "outputs": [
    {
     "name": "stdout",
     "output_type": "stream",
     "text": [
      "Your hand: ['3', 'Jack']\n",
      "Hit (h) or stand (s)? h\n",
      "Your hand: ['3', 'Jack', 'Queen']\n"
     ]
    },
    {
     "ename": "TypeError",
     "evalue": "unsupported operand type(s) for +: 'int' and 'str'",
     "output_type": "error",
     "traceback": [
      "\u001b[1;31m---------------------------------------------------------------------------\u001b[0m",
      "\u001b[1;31mTypeError\u001b[0m                                 Traceback (most recent call last)",
      "Cell \u001b[1;32mIn[68], line 34\u001b[0m\n\u001b[0;32m     31\u001b[0m \u001b[38;5;28mprint\u001b[39m(\u001b[38;5;124m'\u001b[39m\u001b[38;5;124mYour hand: \u001b[39m\u001b[38;5;132;01m{}\u001b[39;00m\u001b[38;5;124m'\u001b[39m\u001b[38;5;241m.\u001b[39mformat(player_hand))\n\u001b[0;32m     33\u001b[0m \u001b[38;5;66;03m# Check if the player has busted\u001b[39;00m\n\u001b[1;32m---> 34\u001b[0m \u001b[38;5;28;01mif\u001b[39;00m \u001b[38;5;28;43msum\u001b[39;49m\u001b[43m(\u001b[49m\u001b[43mplayer_hand\u001b[49m\u001b[43m)\u001b[49m \u001b[38;5;241m>\u001b[39m \u001b[38;5;241m21\u001b[39m:\n\u001b[0;32m     35\u001b[0m     \u001b[38;5;28mprint\u001b[39m(\u001b[38;5;124m'\u001b[39m\u001b[38;5;124mYou have busted!\u001b[39m\u001b[38;5;124m'\u001b[39m)\n\u001b[0;32m     36\u001b[0m     \u001b[38;5;28;01mbreak\u001b[39;00m\n",
      "\u001b[1;31mTypeError\u001b[0m: unsupported operand type(s) for +: 'int' and 'str'"
     ]
    }
   ],
   "source": [
    "import random\n",
    "\n",
    "# Create a deck of cards\n",
    "cards = ['2', '3', '4', '5', '6', '7', '8', '9', '10', 'Jack', 'Queen', 'King', 'Ace']\n",
    "\n",
    "# Shuffle the deck\n",
    "random.shuffle(cards)\n",
    "\n",
    "# Create the player's and dealer's hands\n",
    "player_hand = []\n",
    "dealer_hand = []\n",
    "\n",
    "# Deal two cards to each player\n",
    "player_hand.append(cards.pop())\n",
    "player_hand.append(cards.pop())\n",
    "dealer_hand.append(cards.pop())\n",
    "dealer_hand.append(cards.pop())\n",
    "\n",
    "# Display the player's hand\n",
    "print('Your hand: {}'.format(player_hand))\n",
    "\n",
    "# Allow the player to hit or stand\n",
    "while True:\n",
    "    hit_or_stand = input('Hit (h) or stand (s)? ')\n",
    "\n",
    "    if hit_or_stand == 'h':\n",
    "        # Deal the player another card\n",
    "        player_hand.append(cards.pop())\n",
    "\n",
    "        # Display the player's hand\n",
    "        print('Your hand: {}'.format(player_hand))\n",
    "\n",
    "        # Check if the player has busted\n",
    "        if sum(player_hand) > 21:\n",
    "            print('You have busted!')\n",
    "            break\n",
    "\n",
    "    elif hit_or_stand == 's':\n",
    "        break\n",
    "\n",
    "# Deal the dealer's cards until the dealer's hand has a value of 17 or more\n",
    "while sum(dealer_hand) < 17:\n",
    "    dealer_hand.append(cards.pop())\n",
    "\n",
    "# Display the dealer's hand\n",
    "print('Dealer\\'s hand: {}'.format(dealer_hand))\n",
    "\n",
    "# Determine the winner\n",
    "if sum(player_hand) > sum(dealer_hand):\n",
    "    print('You win!')\n",
    "elif sum(player_hand) < sum(dealer_hand):\n",
    "    print('Dealer wins!')\n",
    "else:\n",
    "    print('Tie!')"
   ]
  },
  {
   "cell_type": "markdown",
   "id": "28b89b20",
   "metadata": {},
   "source": [
    "40. Write a program that generates the prime factors of a given number using trial division."
   ]
  },
  {
   "cell_type": "code",
   "execution_count": 69,
   "id": "6ac4b988",
   "metadata": {},
   "outputs": [],
   "source": [
    "def prime_factors(n: int) -> list[int]:\n",
    "    factors = []\n",
    "    i = 2\n",
    "    while i * i <= n:\n",
    "        if n % i:\n",
    "            i += 1\n",
    "        else:\n",
    "            n //= i\n",
    "            factors.append(i)\n",
    "    if n > 1:\n",
    "        factors.append(n)\n",
    "    return factors\n"
   ]
  },
  {
   "cell_type": "code",
   "execution_count": 70,
   "id": "631ee175",
   "metadata": {},
   "outputs": [
    {
     "data": {
      "text/plain": [
       "[5, 11]"
      ]
     },
     "execution_count": 70,
     "metadata": {},
     "output_type": "execute_result"
    }
   ],
   "source": [
    "prime_factors(55)"
   ]
  },
  {
   "cell_type": "code",
   "execution_count": null,
   "id": "4255da0e",
   "metadata": {},
   "outputs": [],
   "source": []
  }
 ],
 "metadata": {
  "kernelspec": {
   "display_name": "Python 3 (ipykernel)",
   "language": "python",
   "name": "python3"
  },
  "language_info": {
   "codemirror_mode": {
    "name": "ipython",
    "version": 3
   },
   "file_extension": ".py",
   "mimetype": "text/x-python",
   "name": "python",
   "nbconvert_exporter": "python",
   "pygments_lexer": "ipython3",
   "version": "3.10.9"
  }
 },
 "nbformat": 4,
 "nbformat_minor": 5
}
