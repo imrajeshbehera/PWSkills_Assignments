{
 "cells": [
  {
   "cell_type": "markdown",
   "id": "6cdcb222",
   "metadata": {},
   "source": [
    "# Constructor :  "
   ]
  },
  {
   "cell_type": "markdown",
   "id": "e1960c91",
   "metadata": {},
   "source": [
    "1. What is a constructor in Python? Explain its purpose and usage."
   ]
  },
  {
   "cell_type": "code",
   "execution_count": 1,
   "id": "84117219",
   "metadata": {},
   "outputs": [
    {
     "name": "stdout",
     "output_type": "stream",
     "text": [
      "Rajesh\n",
      "33\n"
     ]
    }
   ],
   "source": [
    "\"\"\"\n",
    "A constructor in Python is a special method that is called when an object\n",
    "of a class is created. It is used to initialize the attributes of \n",
    "the object and set default values. It is defined using the init() \n",
    "method in the class\n",
    "\n",
    "\"\"\"\n",
    "#Example:\n",
    "class Person:\n",
    "  def __init__(self, name, age):\n",
    "    self.name = name\n",
    "    self.age = age\n",
    "\n",
    "p1 = Person(\"Rajesh\", 33) \n",
    "print(p1.name)\n",
    "print(p1.age) \n"
   ]
  },
  {
   "cell_type": "markdown",
   "id": "3c617af7",
   "metadata": {},
   "source": [
    "2. Differentiate between a parameterless constructor and a parameterized constructor in Python."
   ]
  },
  {
   "cell_type": "code",
   "execution_count": 2,
   "id": "56e03f03",
   "metadata": {},
   "outputs": [
    {
     "data": {
      "text/plain": [
       "'\\nparameterless constructor - \\n    A parameterless constructor in Python is a constructor that does not \\n    take any arguments except self, which is a reference to the object \\n    being created. It is used to create an object with default values for \\n    the attributes\\n    \\nparameterized constructor - \\n    A parameterized constructor in Python is a constructor that takes at \\n    least one argument besides self. It is used to create an object with \\n    specific values for the attributes. The arguments for the parameters \\n    should be passed while creating the object.\\n'"
      ]
     },
     "execution_count": 2,
     "metadata": {},
     "output_type": "execute_result"
    }
   ],
   "source": [
    "\"\"\"\n",
    "parameterless constructor - \n",
    "    A parameterless constructor in Python is a constructor that does not \n",
    "    take any arguments except self, which is a reference to the object \n",
    "    being created. It is used to create an object with default values for \n",
    "    the attributes\n",
    "    \n",
    "parameterized constructor - \n",
    "    A parameterized constructor in Python is a constructor that takes at \n",
    "    least one argument besides self. It is used to create an object with \n",
    "    specific values for the attributes. The arguments for the parameters \n",
    "    should be passed while creating the object.\n",
    "\"\"\""
   ]
  },
  {
   "cell_type": "markdown",
   "id": "e2a1205b",
   "metadata": {},
   "source": [
    "3. How do you define a constructor in a Python class? Provide an example."
   ]
  },
  {
   "cell_type": "code",
   "execution_count": 3,
   "id": "af8ae5e1",
   "metadata": {},
   "outputs": [
    {
     "name": "stdout",
     "output_type": "stream",
     "text": [
      "dsa practical dsa\n"
     ]
    }
   ],
   "source": [
    "# init() is used to define a constructor.\n",
    "\n",
    "#Example:\n",
    "\n",
    "class book:\n",
    "    \n",
    "    def __init__(self, name, title, pageno) :\n",
    "        self.name_of_book = name\n",
    "        self.title_of_book = title\n",
    "        self.page_no = pageno\n",
    "        \n",
    "    def extract_details(self) :\n",
    "        print(self.name_of_book, self.title_of_book)\n",
    "    \n",
    "    def print_page_no(self):\n",
    "        print(self.page_no)\n",
    "\n",
    "rajesh = book(\"dsa\",\"practical dsa\",455)\n",
    "chintu = book(\"data science\",\"implementation of data science\",355)\n",
    "rb = book(\"Big data\",\"invention of Big data\",155)\n",
    "\n",
    "rajesh.extract_details()"
   ]
  },
  {
   "cell_type": "markdown",
   "id": "13b8e318",
   "metadata": {},
   "source": [
    "4. Explain the `__init__` method in Python and its role in constructors."
   ]
  },
  {
   "cell_type": "code",
   "execution_count": 4,
   "id": "97913986",
   "metadata": {},
   "outputs": [],
   "source": [
    "#__init__ methods are also called dunder methods or magic methods, and it\n",
    "#provide some built-in functionality for classes and object\n",
    "\n",
    "#The init() method in Python is a special method that is automatically called when an object of a class is created.\n",
    "\n",
    "#It is used to initialize the attributes of the object and set default values.\n",
    "\n",
    "# It takes as its first argument self, which is a reference to the object being\n",
    "#created, and then any other arguments that are required for creating the \n",
    "#object"
   ]
  },
  {
   "cell_type": "markdown",
   "id": "e3dc954b",
   "metadata": {},
   "source": [
    "5. In a class named `Person`, create a constructor that initializes the `name` and `age` attributes. Provide an example of creating an object of this class."
   ]
  },
  {
   "cell_type": "code",
   "execution_count": 5,
   "id": "d8766bcf",
   "metadata": {},
   "outputs": [
    {
     "name": "stdout",
     "output_type": "stream",
     "text": [
      "Rajesh\n",
      "33\n"
     ]
    }
   ],
   "source": [
    "class Person:\n",
    "  def __init__(self, name, age):\n",
    "    self.name = name\n",
    "    self.age = age\n",
    "\n",
    "p1 = Person(\"Rajesh\", 33) \n",
    "print(p1.name)\n",
    "print(p1.age) "
   ]
  },
  {
   "cell_type": "markdown",
   "id": "d7590f4a",
   "metadata": {},
   "source": [
    "6. How can you call a constructor explicitly in Python? Give an example."
   ]
  },
  {
   "cell_type": "code",
   "execution_count": 7,
   "id": "90be008f",
   "metadata": {},
   "outputs": [
    {
     "name": "stdout",
     "output_type": "stream",
     "text": [
      "A dog of breed German Shepherd is created.\n",
      "An animal named Rex is created.\n"
     ]
    }
   ],
   "source": [
    "\"\"\"super() function to call the constructor of the super class without \n",
    "specifying its name.\"\"\"\n",
    "\n",
    "#For example:\n",
    "class Animal:\n",
    "  def __init__(self, name):\n",
    "    self.name = name # initialize the name attribute\n",
    "    print(f\"An animal named {name} is created.\")\n",
    "\n",
    "class Dog(Animal):\n",
    "  def __init__(self, name, breed):\n",
    "    self.breed = breed # initialize the breed attribute\n",
    "    print(f\"A dog of breed {breed} is created.\")\n",
    "    super().__init__(name) # call the constructor of the super class using super()\n",
    "\n",
    "d1 = Dog(\"Rex\", \"German Shepherd\") # create a dog object\n",
    "# A dog of breed German Shepherd is created.\n",
    "# An animal named Rex is created.\n"
   ]
  },
  {
   "cell_type": "markdown",
   "id": "d4365abd",
   "metadata": {},
   "source": [
    "7. What is the significance of the `self` parameter in Python constructors? Explain with an example."
   ]
  },
  {
   "cell_type": "code",
   "execution_count": 10,
   "id": "d594d659",
   "metadata": {},
   "outputs": [
    {
     "name": "stdout",
     "output_type": "stream",
     "text": [
      "5\n",
      "78.5\n"
     ]
    }
   ],
   "source": [
    "\"\"\"\n",
    "The self parameter in Python constructors is a reference to the \n",
    "object being created. It is used to access and set the instance variables \n",
    "and methods of the class within the constructor. It is automatically passed\n",
    "by Python as the first argument to the constructor when an object of the \n",
    "class is created\n",
    "\"\"\"\n",
    "#Example:\n",
    "class Circle:\n",
    "  def __init__(self, radius):\n",
    "    self.radius = radius # set the radius attribute using self\n",
    "    self.area = 3.14 * radius**2 # set the area attribute using self\n",
    "\n",
    "c1 = Circle(5) \n",
    "print(c1.radius)\n",
    "print(c1.area) \n"
   ]
  },
  {
   "cell_type": "markdown",
   "id": "2c64ea34",
   "metadata": {},
   "source": [
    "8. Discuss the concept of default constructors in Python. When are they used?"
   ]
  },
  {
   "cell_type": "code",
   "execution_count": 12,
   "id": "58018cb5",
   "metadata": {},
   "outputs": [],
   "source": [
    "\"\"\"\n",
    "A default constructor in Python is a simple constructor that doesn’t \n",
    "accept any arguments. It is defined by the init() method with only one \n",
    "parameter, which is self, a reference to the object being created1. \n",
    "\n",
    "A default constructor is used when you don’t need to initialize any\n",
    "instance variables or perform any other actions when creating an object of \n",
    "a class. \n",
    "\n",
    "\"\"\"\n",
    "\n",
    "#For example:\n",
    "class Student:\n",
    "  def __init__(self):\n",
    "    # this is a default constructor\n",
    "    # it doesn't take any arguments\n",
    "    # it doesn't do anything\n",
    "    pass\n",
    "\n",
    "s1 = Student() # create a student object using the default constructor\n"
   ]
  },
  {
   "cell_type": "markdown",
   "id": "3e2481ca",
   "metadata": {},
   "source": [
    "9. Create a Python class called `Rectangle` with a constructor that initializes the `width` and `height` attributes. Provide a method to calculate the area of the rectangle."
   ]
  },
  {
   "cell_type": "code",
   "execution_count": 14,
   "id": "3f726f15",
   "metadata": {},
   "outputs": [
    {
     "name": "stdout",
     "output_type": "stream",
     "text": [
      "10\n",
      "20\n",
      "60\n"
     ]
    }
   ],
   "source": [
    "class Rectangle:\n",
    "  def __init__(self, length, width):\n",
    "    self.length = length # set the length attribute using self\n",
    "    self.width = width # set the width attribute using self\n",
    "    self.perimeter = self.calculate_perimeter() # call another method using self\n",
    "\n",
    "  def calculate_perimeter(self):\n",
    "    return 2 * (self.length + self.width) # use self to access the attributes\n",
    "\n",
    "r1 = Rectangle(10, 20) \n",
    "print(r1.length) \n",
    "print(r1.width) \n",
    "print(r1.perimeter) \n"
   ]
  },
  {
   "cell_type": "markdown",
   "id": "acf844f9",
   "metadata": {},
   "source": [
    "10. How can you have multiple constructors in a Python class? Explain with an example."
   ]
  },
  {
   "cell_type": "code",
   "execution_count": 13,
   "id": "fe954a87",
   "metadata": {},
   "outputs": [
    {
     "name": "stdout",
     "output_type": "stream",
     "text": [
      "Sum of list : 15\n",
      "Square of int : 25\n",
      "String : Hello! Rajesh.\n"
     ]
    }
   ],
   "source": [
    "\"\"\"\n",
    "In Python, you can have multiple constructors in a class by using the \n",
    "decorator. This decorator allows you to turn a regular method into a \n",
    "class method, which means that it will be called on the class itself\n",
    "not on an instance of the class.\n",
    "\"\"\"\n",
    "#Example:\n",
    "\n",
    "class sample:\n",
    " \n",
    "    # constructor overloading\n",
    "    # based on args\n",
    "    def __init__(self, *args):\n",
    " \n",
    "        # if args are more than 1\n",
    "        # sum of args\n",
    "        if len(args) > 1:\n",
    "            self.ans = 0\n",
    "            for i in args:\n",
    "                self.ans += i\n",
    " \n",
    "        # if arg is an integer\n",
    "        # square the arg\n",
    "        elif isinstance(args[0], int):\n",
    "            self.ans = args[0]*args[0]\n",
    " \n",
    "        # if arg is string\n",
    "        # Print with hello\n",
    "        elif isinstance(args[0], str):\n",
    "            self.ans = \"Hello! \"+args[0]+\".\"\n",
    " \n",
    " \n",
    "s1 = sample(1, 2, 3, 4, 5)\n",
    "print(\"Sum of list :\", s1.ans)\n",
    " \n",
    "s2 = sample(5)\n",
    "print(\"Square of int :\", s2.ans)\n",
    " \n",
    "s3 = sample(\"Rajesh\")\n",
    "print(\"String :\", s3.ans)"
   ]
  },
  {
   "cell_type": "markdown",
   "id": "50b5e01b",
   "metadata": {},
   "source": [
    "11. What is method overloading, and how is it related to constructors in Python?"
   ]
  },
  {
   "cell_type": "code",
   "execution_count": 14,
   "id": "1a198b1a",
   "metadata": {},
   "outputs": [
    {
     "name": "stdout",
     "output_type": "stream",
     "text": [
      "6\n"
     ]
    }
   ],
   "source": [
    "\"\"\"\n",
    "Method overloading is a feature that allows a class to have more than one \n",
    "method with the same name but different parameters or signatures. \n",
    "Method overloading is useful when you want to perform different actions \n",
    "based on the number or type of arguments passed to the method\n",
    "\"\"\"\n",
    "\n",
    "#Example:\n",
    "class Test:\n",
    "  def add(self, a, b):\n",
    "    # first definition of add method\n",
    "    return a + b\n",
    "\n",
    "  def add(self, a, b, c):\n",
    "    # second definition of add method\n",
    "    # this will override the first definition\n",
    "    return a + b + c\n",
    "\n",
    "t = Test()\n",
    "print(t.add(1, 2, 3)) # 6\n"
   ]
  },
  {
   "cell_type": "markdown",
   "id": "c054103c",
   "metadata": {},
   "source": [
    "12. Explain the use of the `super()` function in Python constructors. Provide an example."
   ]
  },
  {
   "cell_type": "code",
   "execution_count": 15,
   "id": "9fc1b00c",
   "metadata": {},
   "outputs": [
    {
     "name": "stdout",
     "output_type": "stream",
     "text": [
      "Rajesh\n",
      "Rajesh rb@gmail.com\n"
     ]
    }
   ],
   "source": [
    "\"\"\"\n",
    "The super() function in Python is used to refer to the parent class or \n",
    "superclass of a child class or subclass. \n",
    "\n",
    "It allows you to call methods defined in the superclass from the subclass, \n",
    "enabling you to extend and customize the functionality inherited from the \n",
    "parent class\n",
    "\"\"\"\n",
    "\n",
    "#Example:\n",
    "class pwskills :\n",
    "    def __init__(self, mentor):\n",
    "        self.mentor = mentor\n",
    "        \n",
    "    def mentor_name(self):\n",
    "        print(self.mentor)\n",
    "        \n",
    "    \n",
    "class datascience(pwskills) :\n",
    "    def __init__(self, mentor, mentor_mail_id):\n",
    "        #self.mentor = mentor\n",
    "        super().__init__(mentor)\n",
    "        self.mentor_mail_id = mentor_mail_id\n",
    "        \n",
    "    def show_info(self):\n",
    "        super().mentor_name()\n",
    "        print(self.mentor, self.mentor_mail_id)\n",
    "        \n",
    "python_basic = datascience(\"Rajesh\",\"rb@gmail.com\")\n",
    "\n",
    "python_basic.show_info()"
   ]
  },
  {
   "cell_type": "markdown",
   "id": "72f50b2d",
   "metadata": {},
   "source": [
    "13. Create a class called `Book` with a constructor that initializes the `title`, `author`, and `published_year` attributes. Provide a method to display book details."
   ]
  },
  {
   "cell_type": "code",
   "execution_count": 16,
   "id": "17733c68",
   "metadata": {},
   "outputs": [
    {
     "name": "stdout",
     "output_type": "stream",
     "text": [
      "Title: The Hitchhiker's Guide to the Galaxy\n",
      "Author: Douglas Adams\n",
      "Published Year: 1979\n"
     ]
    }
   ],
   "source": [
    "class Book:\n",
    "  def __init__(self, title, author, published_year):\n",
    "    # constructor of Book class\n",
    "    self.title = title # initialize title attribute\n",
    "    self.author = author # initialize author attribute\n",
    "    self.published_year = published_year # initialize published_year attribute\n",
    "\n",
    "  def display_details(self):\n",
    "    # method to display book details\n",
    "    print(f\"Title: {self.title}\")\n",
    "    print(f\"Author: {self.author}\")\n",
    "    print(f\"Published Year: {self.published_year}\")\n",
    "\n",
    "# create a book object\n",
    "b = Book(\"The Hitchhiker's Guide to the Galaxy\", \"Douglas Adams\", 1979)\n",
    "# display book details\n",
    "b.display_details()\n"
   ]
  },
  {
   "cell_type": "markdown",
   "id": "f966f4e7",
   "metadata": {},
   "source": [
    "14. Discuss the differences between constructors and regular methods in Python classes."
   ]
  },
  {
   "cell_type": "code",
   "execution_count": 32,
   "id": "a897a44e",
   "metadata": {},
   "outputs": [
    {
     "data": {
      "text/plain": [
       "'\\n--> Constructors are used to initialize the object’s state or attributes when the\\nobject is created with the new operator or the class name. \\n\\n--> Regular methods are used to perform operations on the object’s state \\nor attributes after the object is created.\\n\\n\\n--> Constructors cannot be called directly by the user and they are called \\nimplicitly when the object is created. \\n--> Regular methods can be called directly by the user or by other methods.\\n\\n\\n--> Constructors have a special name that starts and ends with double \\nunderscores, such as __init__ . \\n--> Regular methods can have any valid name that does not start or \\nend with double underscores.\\n\\n\\n--> Constructors do not have an explicit return statement. They return \\nthe object itself by default. \\n--> Regular methods can have an explicit return statement that returns \\na value or None.\\n\\n'"
      ]
     },
     "execution_count": 32,
     "metadata": {},
     "output_type": "execute_result"
    }
   ],
   "source": [
    "\"\"\"\n",
    "--> Constructors are used to initialize the object’s state or attributes when the\n",
    "object is created with the new operator or the class name. \n",
    "\n",
    "--> Regular methods are used to perform operations on the object’s state \n",
    "or attributes after the object is created.\n",
    "\n",
    "\n",
    "--> Constructors cannot be called directly by the user and they are called \n",
    "implicitly when the object is created. \n",
    "--> Regular methods can be called directly by the user or by other methods.\n",
    "\n",
    "\n",
    "--> Constructors have a special name that starts and ends with double \n",
    "underscores, such as __init__ . \n",
    "--> Regular methods can have any valid name that does not start or \n",
    "end with double underscores.\n",
    "\n",
    "\n",
    "--> Constructors do not have an explicit return statement. They return \n",
    "the object itself by default. \n",
    "--> Regular methods can have an explicit return statement that returns \n",
    "a value or None.\n",
    "\n",
    "\"\"\""
   ]
  },
  {
   "cell_type": "markdown",
   "id": "87bac466",
   "metadata": {},
   "source": [
    "15. Explain the role of the `self` parameter in instance variable initialization within a constructor."
   ]
  },
  {
   "cell_type": "code",
   "execution_count": 33,
   "id": "b2a094b1",
   "metadata": {},
   "outputs": [],
   "source": [
    "#The self parameter in Python is a reference to the current instance of the \n",
    "# class that is being created or manipulated. It is used to access the \n",
    "#variables and methods that belong to the class.\n",
    "\n",
    "# When we define a constructor in Python using the __init__() method, \n",
    "# we need to pass the self parameter as the first argument."
   ]
  },
  {
   "cell_type": "markdown",
   "id": "b73f4e4d",
   "metadata": {},
   "source": [
    "16. How do you prevent a class from having multiple instances by using constructors in Python? Provide an example."
   ]
  },
  {
   "cell_type": "code",
   "execution_count": 17,
   "id": "c163dc16",
   "metadata": {},
   "outputs": [],
   "source": [
    "class Singleton:\n",
    "    _instance = None # class attribute to store the instance\n",
    "\n",
    "    def __new__(cls, *args, **kwargs):\n",
    "        # override the __new__ method to return the existing instance or create a new one\n",
    "        if cls._instance is None:\n",
    "            cls._instance = super().__new__(cls, *args, **kwargs)\n",
    "        return cls._instance\n"
   ]
  },
  {
   "cell_type": "markdown",
   "id": "45560ad3",
   "metadata": {},
   "source": [
    "17. Create a Python class called `Student` with a constructor that takes a list of subjects as a parameter and\n",
    "initializes the `subjects` attribute."
   ]
  },
  {
   "cell_type": "code",
   "execution_count": 19,
   "id": "59b0cb0e",
   "metadata": {},
   "outputs": [],
   "source": [
    "class Student:\n",
    "    def __init__(self, subjects):\n",
    "        # validate that subjects is a list\n",
    "        if not isinstance(subjects, list):\n",
    "            raise TypeError(\"subjects must be a list\")\n",
    "        # assign the subjects attribute\n",
    "        self.subjects = subjects\n"
   ]
  },
  {
   "cell_type": "code",
   "execution_count": 20,
   "id": "54e7786b",
   "metadata": {},
   "outputs": [
    {
     "name": "stdout",
     "output_type": "stream",
     "text": [
      "['Math', 'Science', 'English']\n"
     ]
    }
   ],
   "source": [
    "subjects = [\"Math\", \"Science\", \"English\"]\n",
    "\n",
    "student = Student(subjects)\n",
    "\n",
    "\n",
    "print(student.subjects)"
   ]
  },
  {
   "cell_type": "markdown",
   "id": "e07dcef8",
   "metadata": {},
   "source": [
    "18. What is the purpose of the `__del__` method in Python classes, and how does it relate to constructors?"
   ]
  },
  {
   "cell_type": "code",
   "execution_count": 18,
   "id": "79c4bf12",
   "metadata": {},
   "outputs": [
    {
     "data": {
      "text/plain": [
       "'\\nThe __del__ method is a special method of a class that is called when \\nthe instance of the class is about to be destroyed by the garbage collector.\\nIt is sometimes called the destructor method, as it is the opposite of \\nthe __init__ method, which is the constructor method. The __del__ method \\ncan be used to perform some clean up actions before the object is deleted, \\nsuch as closing a file or releasing a resource.\\n'"
      ]
     },
     "execution_count": 18,
     "metadata": {},
     "output_type": "execute_result"
    }
   ],
   "source": [
    "'''\n",
    "The __del__ method is a special method of a class that is called when \n",
    "the instance of the class is about to be destroyed by the garbage collector.\n",
    "It is sometimes called the destructor method, as it is the opposite of \n",
    "the __init__ method, which is the constructor method. The __del__ method \n",
    "can be used to perform some clean up actions before the object is deleted, \n",
    "such as closing a file or releasing a resource.\n",
    "'''"
   ]
  },
  {
   "cell_type": "markdown",
   "id": "163cd985",
   "metadata": {},
   "source": [
    "19. Explain the use of constructor chaining in Python. Provide a practical example."
   ]
  },
  {
   "cell_type": "code",
   "execution_count": 22,
   "id": "dedb4403",
   "metadata": {},
   "outputs": [
    {
     "name": "stdout",
     "output_type": "stream",
     "text": [
      "Animal Rex created\n",
      "Dog Rex of breed German Shepherd created\n"
     ]
    }
   ],
   "source": [
    "\"\"\"\n",
    "Constructor chaining is the process of calling one constructor from \n",
    "another constructor. Constructor chaining is useful when you want to \n",
    "invoke multiple constructors, one after another, by initializing only one \n",
    "instance. In Python, constructor chaining is convenient when you are dealing with inheritance.\n",
    "When an instance of a child class is created, the constructor of the parent \n",
    "class is also called implicitly or explicitly using the super() function. \n",
    "\n",
    "This way, the child class can inherit the attributes and methods of the \n",
    "parent class without repeating the code. \n",
    "\"\"\"\n",
    "\n",
    "#example:\n",
    "\n",
    "class Animal:\n",
    "    def __init__(self, name):\n",
    "        # constructor of the parent class\n",
    "        self.name = name\n",
    "        print(f\"Animal {name} created\")\n",
    "\n",
    "class Dog(Animal):\n",
    "    def __init__(self, name, breed):\n",
    "        # constructor of the child class\n",
    "        super().__init__(name) # call the constructor of the parent class using super()\n",
    "        self.breed = breed\n",
    "        print(f\"Dog {name} of breed {breed} created\")\n",
    "\n",
    "# create an instance of the Dog class\n",
    "dog = Dog(\"Rex\", \"German Shepherd\")\n"
   ]
  },
  {
   "cell_type": "markdown",
   "id": "8fc9c021",
   "metadata": {},
   "source": [
    "20. Create a Python class called `Car` with a default constructor that initializes the `make` and `model`\n",
    "attributes. Provide a method to display car information."
   ]
  },
  {
   "cell_type": "code",
   "execution_count": 23,
   "id": "ddc25cc5",
   "metadata": {},
   "outputs": [],
   "source": [
    "class Car:\n",
    "    def __init__(self, make, model):\n",
    "        # default constructor that assigns the make and model attributes\n",
    "        self.make = make\n",
    "        self.model = model\n",
    "\n",
    "    def display_info(self):\n",
    "        # method that prints the make and model of the car\n",
    "        print(f\"This car is a {self.make} {self.model}\")\n"
   ]
  },
  {
   "cell_type": "code",
   "execution_count": 24,
   "id": "7bf9c5ec",
   "metadata": {},
   "outputs": [
    {
     "name": "stdout",
     "output_type": "stream",
     "text": [
      "This car is a Honda Civic\n"
     ]
    }
   ],
   "source": [
    "car = Car(\"Honda\", \"Civic\")\n",
    "car.display_info()\n"
   ]
  },
  {
   "cell_type": "markdown",
   "id": "d867a95f",
   "metadata": {},
   "source": [
    "## Inheritance:"
   ]
  },
  {
   "cell_type": "markdown",
   "id": "18481eb8",
   "metadata": {},
   "source": [
    "1. What is inheritance in Python? Explain its significance in object-oriented programming."
   ]
  },
  {
   "cell_type": "markdown",
   "id": "763ae6fc",
   "metadata": {},
   "source": [
    "\"\"\"\n",
    "\n",
    "Inheritance in Python is a mechanism that allows a class to inherit the \n",
    "attributes and methods of another class. The class that inherits is \n",
    "called the child class or subclass, and the class that is inherited from \n",
    "is called the parent class or superclass. \n",
    "\n",
    "Inheritance represents real-world relationships between objects and \n",
    "enables code reusability and extensibility. \n",
    "\n",
    "Inheritance is one of the key features of object-oriented programming.\n",
    "\n",
    "\"\"\""
   ]
  },
  {
   "cell_type": "markdown",
   "id": "62601cc0",
   "metadata": {},
   "source": [
    "2. Differentiate between single inheritance and multiple inheritance in Python. Provide examples for each."
   ]
  },
  {
   "cell_type": "code",
   "execution_count": 26,
   "id": "17e3f45d",
   "metadata": {},
   "outputs": [
    {
     "name": "stdout",
     "output_type": "stream",
     "text": [
      "Method of class A\n",
      "Method of class A\n"
     ]
    }
   ],
   "source": [
    "\"\"\"\n",
    "Single inheritance in Python is when a child class inherits from only one parent\n",
    "class. \n",
    "\n",
    "Multiple inheritance in Python is when a child class inherits from more than \n",
    "one parent class. Both types of inheritance allow the child class to \n",
    "access the attributes and methods of the parent classes, but they differ \n",
    "in how they resolve conflicts and ambiguities.\n",
    "\n",
    "For example, suppose we have two parent classes called A and B, and a \n",
    "child class called C. In single inheritance, C can inherit from either \n",
    "A or B, but not both. \n",
    "\n",
    "In multiple inheritance, C can inherit from both A and B. However, if A \n",
    "and B have a method with the same name, C will have to decide which one \n",
    "to use.\n",
    "\n",
    "\"\"\"\n",
    "\n",
    "#Example:\n",
    "# single inheritance\n",
    "class A:\n",
    "    def method(self):\n",
    "        print(\"Method of class A\")\n",
    "\n",
    "class B(A):\n",
    "    # B inherits from A\n",
    "    pass\n",
    "\n",
    "# multiple inheritance\n",
    "class C:\n",
    "    def method(self):\n",
    "        print(\"Method of class C\")\n",
    "\n",
    "class D(A, C):\n",
    "    # D inherits from A and C\n",
    "    pass\n",
    "\n",
    "# create instances of B and D\n",
    "b = B()\n",
    "d = D()\n",
    "\n",
    "# call the method on b and d\n",
    "b.method() # prints \"Method of class A\"\n",
    "d.method() # prints \"Method of class A\" because A comes before C in the MRO\n",
    "\n"
   ]
  },
  {
   "cell_type": "markdown",
   "id": "89629349",
   "metadata": {},
   "source": [
    "3. Create a Python class called `Vehicle` with attributes `color` and `speed`. Then, create a child class called\n",
    "`Car` that inherits from `Vehicle` and adds a `brand` attribute. Provide an example of creating a `Car` object."
   ]
  },
  {
   "cell_type": "code",
   "execution_count": 27,
   "id": "7d5d6973",
   "metadata": {},
   "outputs": [
    {
     "name": "stdout",
     "output_type": "stream",
     "text": [
      "This car is red, has a speed of 100 km/h and is made by Toyota\n"
     ]
    }
   ],
   "source": [
    "class Vehicle:\n",
    "    def __init__(self, color, speed):\n",
    "        # constructor of the parent class\n",
    "        self.color = color\n",
    "        self.speed = speed\n",
    "\n",
    "class Car(Vehicle):\n",
    "    def __init__(self, color, speed, brand):\n",
    "        # constructor of the child class\n",
    "        super().__init__(color, speed) # call the constructor of the parent class using super()\n",
    "        self.brand = brand\n",
    "\n",
    "# create an instance of the Car class with the color, speed and brand as parameters\n",
    "car = Car(\"red\", 100, \"Toyota\")\n",
    "\n",
    "# print the attributes of the car object\n",
    "print(f\"This car is {car.color}, has a speed of {car.speed} km/h and is made by {car.brand}\")\n"
   ]
  },
  {
   "cell_type": "markdown",
   "id": "9b302b95",
   "metadata": {},
   "source": [
    "4. Explain the concept of method overriding in inheritance. Provide a practical example."
   ]
  },
  {
   "cell_type": "code",
   "execution_count": 28,
   "id": "0939a76d",
   "metadata": {},
   "outputs": [
    {
     "name": "stdout",
     "output_type": "stream",
     "text": [
      "Dog barks\n"
     ]
    }
   ],
   "source": [
    "\"\"\"\n",
    "Method overriding in inheritance is a feature that allows a subclass to \n",
    "redefine a method that is already defined in its superclass. \n",
    "The subclass can provide a different implementation of the method that \n",
    "is more specific to its needs. \n",
    "\n",
    "The overriding method has the same name, number and type of parameters, \n",
    "and return type as the method that it overrides.\n",
    "\n",
    "\"\"\"\n",
    "\n",
    "#Example:\n",
    "class Animal:\n",
    "    # superclass method\n",
    "    def make_sound(self):\n",
    "        print(\"Animal makes sound\")\n",
    "\n",
    "class Dog(Animal):\n",
    "    # subclass method that overrides the superclass method\n",
    "    def make_sound(self):\n",
    "        print(\"Dog barks\")\n",
    "\n",
    "# create an instance of the Dog class\n",
    "dog = Dog()\n",
    "\n",
    "# call the make_sound() method on the dog object\n",
    "dog.make_sound() # prints \"Dog barks\"\n",
    "\n"
   ]
  },
  {
   "cell_type": "markdown",
   "id": "cf47b5f2",
   "metadata": {},
   "source": [
    "5. How can you access the methods and attributes of a parent class from a child class in Python? Give an\n",
    "example."
   ]
  },
  {
   "cell_type": "code",
   "execution_count": 30,
   "id": "4b60ecee",
   "metadata": {},
   "outputs": [
    {
     "name": "stdout",
     "output_type": "stream",
     "text": [
      "Hello, my name is Rajesh.\n",
      "I am in grade 10.\n"
     ]
    }
   ],
   "source": [
    "# To access the methods and attributes of a parent class from a child \n",
    "# class in Python, you can use the super() function. \n",
    "'''\n",
    "The super() function returns a proxy object that allows to access the methods \n",
    "and attributes of the parent class. \n",
    "You can use super() inside the __init__() method of the child class to \n",
    "call the constructor of the parent class and set the instance variables. \n",
    "You can also use super() to access any other methods of the parent \n",
    "class on the self object.\n",
    "\n",
    "'''\n",
    "\n",
    "#Example:\n",
    "class Person:\n",
    "    # parent class\n",
    "    def __init__(self, name):\n",
    "        # constructor that sets the name attribute\n",
    "        self.name = name\n",
    "\n",
    "    def greet(self):\n",
    "        # method that prints a greeting\n",
    "        print(f\"Hello, my name is {self.name}.\")\n",
    "\n",
    "class Student(Person):\n",
    "    # child class that inherits from Person\n",
    "    def __init__(self, name, grade):\n",
    "        # constructor that calls the parent constructor using super()\n",
    "        super().__init__(name)\n",
    "        # constructor that sets the grade attribute\n",
    "        self.grade = grade\n",
    "\n",
    "    def greet(self):\n",
    "        # method that overrides the parent method using super()\n",
    "        super().greet()\n",
    "        # method that prints the student's grade\n",
    "        print(f\"I am in grade {self.grade}.\")\n",
    "\n",
    "# create an instance of the Student class\n",
    "student = Student(\"Rajesh\", 10)\n",
    "\n",
    "# call the greet() method on the student object\n",
    "student.greet()\n"
   ]
  },
  {
   "cell_type": "markdown",
   "id": "e15bc7eb",
   "metadata": {},
   "source": [
    "6. Discuss the use of the `super()` function in Python inheritance. When and why is it used? Provide an\n",
    "example."
   ]
  },
  {
   "cell_type": "code",
   "execution_count": 34,
   "id": "79d1f6bf",
   "metadata": {},
   "outputs": [
    {
     "name": "stdout",
     "output_type": "stream",
     "text": [
      "woof\n"
     ]
    }
   ],
   "source": [
    "\"\"\"\n",
    "The super() function in Python inheritance is used to refer to the parent \n",
    "class or superclass. It allows you to call methods defined in the \n",
    "superclass from the subclass, enabling you to extend and customize the \n",
    "functionality inherited from the parent class. \n",
    "\n",
    "The super() function returns an object that represents the parent class.\n",
    "\"\"\"\n",
    "#Example:\n",
    "\n",
    "class Animal:\n",
    "    def make_sound(self):\n",
    "        return 'generic animal sound'\n",
    "\n",
    "class Dog(Animal):\n",
    "    def make_sound(self):\n",
    "        return 'woof'\n",
    "\n",
    "my_dog = Dog()\n",
    "print(my_dog.make_sound())"
   ]
  },
  {
   "cell_type": "markdown",
   "id": "dc287ed9",
   "metadata": {},
   "source": [
    "7. Create a Python class called `Animal` with a method `speak()`. Then, create child classes `Dog` and `Cat` that inherit from `Animal` and override the `speak()` method. Provide an example of using these classes."
   ]
  },
  {
   "cell_type": "code",
   "execution_count": 36,
   "id": "38eb0b73",
   "metadata": {},
   "outputs": [
    {
     "name": "stdout",
     "output_type": "stream",
     "text": [
      "Rex barks.\n",
      "Luna meows.\n"
     ]
    }
   ],
   "source": [
    "class Animal:\n",
    "    # parent class\n",
    "    def __init__(self, name):\n",
    "        # constructor that sets the name attribute\n",
    "        self.name = name\n",
    "\n",
    "    def speak(self):\n",
    "        # method that prints a generic message\n",
    "        print(f\"{self.name} makes a sound.\")\n",
    "\n",
    "class Dog(Animal):\n",
    "    # child class that inherits from Animal\n",
    "    def speak(self):\n",
    "        # method that overrides the parent method\n",
    "        print(f\"{self.name} barks.\")\n",
    "\n",
    "class Cat(Animal):\n",
    "    # child class that inherits from Animal\n",
    "    def speak(self):\n",
    "        # method that overrides the parent method\n",
    "        print(f\"{self.name} meows.\")\n",
    "\n",
    "\n",
    "dog = Dog(\"Rex\")\n",
    "\n",
    "dog.speak()\n",
    "\n",
    "cat = Cat(\"Luna\")\n",
    "\n",
    "cat.speak()\n"
   ]
  },
  {
   "cell_type": "markdown",
   "id": "333a5a0b",
   "metadata": {},
   "source": [
    "8. Explain the role of the `isinstance()` function in Python and how it relates to inheritance."
   ]
  },
  {
   "cell_type": "code",
   "execution_count": 37,
   "id": "42099fee",
   "metadata": {},
   "outputs": [
    {
     "data": {
      "text/plain": [
       "'\\nThe isinstance() function in Python is used to check if an object is an \\ninstance of a class or a subclass. It returns True if the object belongs \\nto the class or any of its subclasses, otherwise False. It can also accept \\na tuple of classes as the second argument, in which case it returns True \\nif the object belongs to any of the classes in the tuple.\\n'"
      ]
     },
     "execution_count": 37,
     "metadata": {},
     "output_type": "execute_result"
    }
   ],
   "source": [
    "\"\"\"\n",
    "The isinstance() function in Python is used to check if an object is an \n",
    "instance of a class or a subclass. It returns True if the object belongs \n",
    "to the class or any of its subclasses, otherwise False. It can also accept \n",
    "a tuple of classes as the second argument, in which case it returns True \n",
    "if the object belongs to any of the classes in the tuple.\n",
    "\"\"\""
   ]
  },
  {
   "cell_type": "markdown",
   "id": "d492c6a1",
   "metadata": {},
   "source": [
    "9. What is the purpose of the `issubclass()` function in Python? Provide an example."
   ]
  },
  {
   "cell_type": "code",
   "execution_count": 38,
   "id": "8a1ffed6",
   "metadata": {},
   "outputs": [
    {
     "name": "stdout",
     "output_type": "stream",
     "text": [
      "True\n",
      "True\n",
      "False\n",
      "True\n"
     ]
    }
   ],
   "source": [
    "\"\"\"\n",
    "The issubclass() function in Python is used to check whether a class is a \n",
    "subclass of another class or not. It returns True if the first class is a \n",
    "subclass of the second class, or if they are the same class. Otherwise, \n",
    "it returns False.\n",
    "\n",
    "The issubclass() function can also accept a tuple of classes as the second \n",
    "argument, in which case it returns True if the first class is a subclass \n",
    "of any of the classes in the tuple.\n",
    "\"\"\"\n",
    "\n",
    "#Example:\n",
    "class Animal:\n",
    "    # parent class\n",
    "    def __init__(self, name):\n",
    "        # constructor that sets the name attribute\n",
    "        self.name = name\n",
    "\n",
    "class Dog(Animal):\n",
    "    # child class that inherits from Animal\n",
    "    def __init__(self, name):\n",
    "        # constructor that calls the parent constructor using super()\n",
    "        super().__init__(name)\n",
    "\n",
    "class Cat(Animal):\n",
    "    # child class that inherits from Animal\n",
    "    def __init__(self, name):\n",
    "        # constructor that calls the parent constructor using super()\n",
    "        super().__init__(name)\n",
    "\n",
    "print(issubclass(Dog, Animal))\n",
    "\n",
    "print(issubclass(Cat, Animal))\n",
    "\n",
    "print(issubclass(Dog, Cat))\n",
    "\n",
    "print(issubclass(Dog, (Cat, Animal)))\n"
   ]
  },
  {
   "cell_type": "markdown",
   "id": "12a503c1",
   "metadata": {},
   "source": [
    "10. Discuss the concept of constructor inheritance in Python. How are constructors inherited in child classes?"
   ]
  },
  {
   "cell_type": "code",
   "execution_count": 39,
   "id": "d7f4d554",
   "metadata": {},
   "outputs": [
    {
     "data": {
      "text/plain": [
       "'\\nThe concept of constructor inheritance in Python refers to how the \\nconstructors of parent classes are inherited by the child classes. \\n\\nA constructor is a special method that is used to initialize an object \\nof a class. In Python, the constructor is defined by the init() method.\\n\\nWhen a child class inherits from a parent class, it can either:\\n\\n--Override the parent constructor by defining its own init() method with \\ndifferent parameters or logic. In this case, the child constructor will \\nnot automatically call the parent constructor, unless it uses the super() \\nfunction or the name of the parent class explicitly.\\n\\n--Inherit the parent constructor by not defining its own init() method or \\nby defining an init() method with the same parameters and logic as the \\nparent constructor. In this case, the child constructor will automatically \\ncall the parent constructor.\\n'"
      ]
     },
     "execution_count": 39,
     "metadata": {},
     "output_type": "execute_result"
    }
   ],
   "source": [
    "\"\"\"\n",
    "The concept of constructor inheritance in Python refers to how the \n",
    "constructors of parent classes are inherited by the child classes. \n",
    "\n",
    "A constructor is a special method that is used to initialize an object \n",
    "of a class. In Python, the constructor is defined by the init() method.\n",
    "\n",
    "When a child class inherits from a parent class, it can either:\n",
    "\n",
    "--Override the parent constructor by defining its own init() method with \n",
    "different parameters or logic. In this case, the child constructor will \n",
    "not automatically call the parent constructor, unless it uses the super() \n",
    "function or the name of the parent class explicitly.\n",
    "\n",
    "--Inherit the parent constructor by not defining its own init() method or \n",
    "by defining an init() method with the same parameters and logic as the \n",
    "parent constructor. In this case, the child constructor will automatically \n",
    "call the parent constructor.\n",
    "\"\"\""
   ]
  },
  {
   "cell_type": "markdown",
   "id": "a3211c4d",
   "metadata": {},
   "source": [
    "11. Create a Python class called `Shape` with a method `area()` that calculates the area of a shape. Then, create child classes `Circle` and `Rectangle` that inherit from `Shape` and implement the `area()` method\n",
    "accordingly. Provide an example."
   ]
  },
  {
   "cell_type": "code",
   "execution_count": 40,
   "id": "e3305c51",
   "metadata": {},
   "outputs": [
    {
     "name": "stdout",
     "output_type": "stream",
     "text": [
      "Area of circle: 78.5\n",
      "Area of rectangle: 50\n"
     ]
    }
   ],
   "source": [
    "class Shape:\n",
    "    # parent class\n",
    "    def area(self):\n",
    "        # method to calculate the area of a shape\n",
    "        pass\n",
    "\n",
    "class Circle(Shape):\n",
    "    # child class that inherits from Shape\n",
    "    def __init__(self, radius):\n",
    "        # constructor that sets the radius attribute\n",
    "        self.radius = radius\n",
    "\n",
    "    def area(self):\n",
    "        # method to calculate the area of a circle\n",
    "        return 3.14 * self.radius ** 2\n",
    "\n",
    "class Rectangle(Shape):\n",
    "    # child class that inherits from Shape\n",
    "    def __init__(self, length, width):\n",
    "        # constructor that sets the length and width attributes\n",
    "        self.length = length\n",
    "        self.width = width\n",
    "\n",
    "    def area(self):\n",
    "        # method to calculate the area of a rectangle\n",
    "        return self.length * self.width\n",
    "\n",
    "# create an instance of Circle with radius 5\n",
    "circle = Circle(5)\n",
    "print(\"Area of circle:\", circle.area())\n",
    "\n",
    "# create an instance of Rectangle with length 10 and width 5\n",
    "rectangle = Rectangle(10, 5)\n",
    "print(\"Area of rectangle:\", rectangle.area())\n"
   ]
  },
  {
   "cell_type": "markdown",
   "id": "46e87cfe",
   "metadata": {},
   "source": [
    "12. Explain the use of abstract base classes (ABCs) in Python and how they relate to inheritance. Provide an\n",
    "example using the `abc` module."
   ]
  },
  {
   "cell_type": "code",
   "execution_count": 44,
   "id": "b50868b7",
   "metadata": {},
   "outputs": [
    {
     "name": "stdout",
     "output_type": "stream",
     "text": [
      "Abstract 1\n"
     ]
    }
   ],
   "source": [
    "\"\"\"\n",
    "Abstract base classes (ABCs) in Python are classes that are used to define \n",
    "a common interface or behavior for a set of subclasses that inherit from \n",
    "them. ABCs are useful when you want to enforce certain contracts or \n",
    "specifications for the subclasses, such as requiring them to implement \n",
    "certain methods or properties.\n",
    "\n",
    "ABCs are different from regular classes in that they cannot be instantiated \n",
    "directly, and they use the @abstractmethod decorator to mark the methods \n",
    "that must be overridden by the subclasses. ABCs also use the metaclass=abc.\n",
    "ABCMeta argument in the class definition to indicate that they are abstract.\n",
    "\n",
    "\"\"\"\n",
    "\n",
    "#Example:\n",
    "\n",
    "import abc \n",
    "\n",
    "\n",
    "class AbstractClass(metaclass=abc.ABCMeta): \n",
    "\t@property\n",
    "\t@abc.abstractmethod \n",
    "\tdef abstractName(self): \n",
    "\t\tpass\n",
    "\n",
    "\n",
    "class ValidSubClass(AbstractClass): \n",
    "\t@property\n",
    "\tdef abstractName(self): \n",
    "\t\treturn 'Abstract 1'\n",
    "\n",
    "\n",
    "vc = ValidSubClass() \n",
    "print(vc.abstractName) \n"
   ]
  },
  {
   "cell_type": "markdown",
   "id": "7a60229f",
   "metadata": {},
   "source": [
    "13. How can you prevent a child class from modifying certain attributes or methods inherited from a parent\n",
    "class in Python?"
   ]
  },
  {
   "cell_type": "code",
   "execution_count": 47,
   "id": "53efffeb",
   "metadata": {},
   "outputs": [],
   "source": [
    "\"\"\"\n",
    "There are a few ways to prevent a child class from modifying certain \n",
    "attributes or methods inherited from a parent class in Python. One way is \n",
    "to use the private attribute. The private attribute is a special type of \n",
    "attribute that is not accessible to child classes. To make an attribute \n",
    "private, you simply add two underscores before the attribute name. \n",
    "\n",
    "\"\"\"\n",
    "#example\n",
    "class ParentClass:\n",
    "    def __init__(self):\n",
    "        self._private = 123\n",
    "\n",
    "class ChildClass(ParentClass):\n",
    "    def __init__(self):\n",
    "        super().__init__()\n",
    "        print(self._private)  "
   ]
  },
  {
   "cell_type": "code",
   "execution_count": 48,
   "id": "7ec7f8a3",
   "metadata": {},
   "outputs": [],
   "source": [
    "class ParentClass:\n",
    "    def __init__(self):\n",
    "        self._protected = 123\n",
    "\n",
    "class ChildClass(ParentClass):\n",
    "    def __init__(self):\n",
    "        super().__init__()\n",
    "        print(self._protected)"
   ]
  },
  {
   "cell_type": "code",
   "execution_count": 49,
   "id": "4463de4e",
   "metadata": {},
   "outputs": [],
   "source": [
    "class ParentClass:\n",
    "    __slots__ = ['_private', '_protected']\n",
    "\n",
    "class ChildClass(ParentClass):\n",
    "    def __init__(self):\n",
    "        super().__init__()\n",
    "        # AttributeError: 'ChildClass' object has no attribute '_private'\n",
    "        print(self._private)\n",
    "        # AttributeError: 'ChildClass' object has no attribute '_protected'\n",
    "        print(self._protected)"
   ]
  },
  {
   "cell_type": "markdown",
   "id": "3a61454d",
   "metadata": {},
   "source": [
    "14. Create a Python class called `Employee` with attributes `name` and `salary`. Then, create a child class\n",
    "`Manager` that inherits from `Employee` and adds an attribute `department`. Provide an example."
   ]
  },
  {
   "cell_type": "code",
   "execution_count": 54,
   "id": "93a3425c",
   "metadata": {},
   "outputs": [],
   "source": [
    "class Employee:\n",
    "    # employee class\n",
    "    def __init__(self, name, salary):\n",
    "        # constructor that sets the name and salary attributes\n",
    "        self.name = name\n",
    "        self.salary = salary\n",
    "\n",
    "\n",
    "class Manager(Employee):\n",
    "    # manager class that inherits from employee class\n",
    "    def __init__(self, name, salary, department):\n",
    "        \n",
    "        super().__init__(name, salary)\n",
    "        self.department = department\n"
   ]
  },
  {
   "cell_type": "code",
   "execution_count": 56,
   "id": "bf2fca1d",
   "metadata": {},
   "outputs": [
    {
     "name": "stdout",
     "output_type": "stream",
     "text": [
      "Name: Rajesh\n",
      "Salary: 100000\n",
      "Department: Analytics\n"
     ]
    }
   ],
   "source": [
    "manager = Manager(\"Rajesh\", 100000, \"Analytics\")\n",
    "# print the manager's attributes\n",
    "print(\"Name:\", manager.name)\n",
    "print(\"Salary:\", manager.salary)\n",
    "print(\"Department:\", manager.department)\n"
   ]
  },
  {
   "cell_type": "markdown",
   "id": "0323f5bc",
   "metadata": {},
   "source": [
    "15. Discuss the concept of method overloading in Python inheritance. How does it differ from method\n",
    "overriding?"
   ]
  },
  {
   "cell_type": "markdown",
   "id": "6c92b526",
   "metadata": {},
   "source": [
    "\"\"\"\n",
    "\n",
    "Method overloading in Python inheritance is a feature that allows you to \n",
    "define multiple methods with the same name in a class hierarchy. The methods \n",
    "must have different parameter lists, and the compiler will choose the most \n",
    "appropriate method to call based on the arguments that are passed.\n",
    "\n",
    "Method overriding is a feature that allows you to redefine a method in a \n",
    "subclass that is also defined in the superclass. The method must have the\n",
    "same name and signature as the superclass method, and the compiler will \n",
    "choose the subclass method to call when it is invoked.\n",
    "\n",
    "\"\"\""
   ]
  },
  {
   "cell_type": "markdown",
   "id": "a17c0c15",
   "metadata": {},
   "source": [
    "16. Explain the purpose of the `__init__()` method in Python inheritance and how it is utilized in child classes."
   ]
  },
  {
   "cell_type": "code",
   "execution_count": 58,
   "id": "c75ef8bd",
   "metadata": {},
   "outputs": [
    {
     "data": {
      "text/plain": [
       "'\\nThe __init__() method in Python is a special method that is called \\nautomatically every time a class is being used to create a new object. \\nIt is also known as the constructor of the class, as it allows us to \\ninitialize the attributes of the class.\\n\\nIn Python inheritance, the __init__() method of a child class can either \\ninherit, extend or override the __init__() method of its parent class, \\ndepending on the requirements.\\n\\nIf we want to inherit the __init__() method of the parent class without \\nany changes, we do not need to redefine it in the child class. \\n\\n'"
      ]
     },
     "execution_count": 58,
     "metadata": {},
     "output_type": "execute_result"
    }
   ],
   "source": [
    "\"\"\"\n",
    "The __init__() method in Python is a special method that is called \n",
    "automatically every time a class is being used to create a new object. \n",
    "It is also known as the constructor of the class, as it allows us to \n",
    "initialize the attributes of the class.\n",
    "\n",
    "In Python inheritance, the __init__() method of a child class can either \n",
    "inherit, extend or override the __init__() method of its parent class, \n",
    "depending on the requirements.\n",
    "\n",
    "If we want to inherit the __init__() method of the parent class without \n",
    "any changes, we do not need to redefine it in the child class. \n",
    "\n",
    "\"\"\""
   ]
  },
  {
   "cell_type": "markdown",
   "id": "1bd68d9f",
   "metadata": {},
   "source": [
    "17. Create a Python class called `Bird` with a method `fly()`. Then, create child classes `Eagle` and `Sparrow` that inherit from `Bird` and implement the `fly()` method differently. Provide an example of using these\n",
    "classes."
   ]
  },
  {
   "cell_type": "code",
   "execution_count": 59,
   "id": "9fe3e9b0",
   "metadata": {},
   "outputs": [
    {
     "name": "stdout",
     "output_type": "stream",
     "text": [
      "Eagle is soaring high\n",
      "Sparrow is flapping fast\n"
     ]
    }
   ],
   "source": [
    "class Bird:\n",
    "    # bird class\n",
    "    def fly(self):\n",
    "        # method to fly\n",
    "        print(\"Bird is flying\")\n",
    "\n",
    "        \n",
    "class Eagle(Bird):\n",
    "    # eagle class that inherits from bird class\n",
    "    def fly(self):\n",
    "        # method to fly (overridden)\n",
    "        print(\"Eagle is soaring high\")\n",
    "\n",
    "class Sparrow(Bird):\n",
    "    # sparrow class that inherits from bird class\n",
    "    def fly(self):\n",
    "        # method to fly (overridden)\n",
    "        print(\"Sparrow is flapping fast\")\n",
    "\n",
    "        \n",
    "eagle = Eagle()\n",
    "eagle.fly() \n",
    "sparrow = Sparrow()\n",
    "sparrow.fly() \n"
   ]
  },
  {
   "cell_type": "markdown",
   "id": "33aa3160",
   "metadata": {},
   "source": [
    "18. What is the \"diamond problem\" in multiple inheritance, and how does Python address it?"
   ]
  },
  {
   "cell_type": "code",
   "execution_count": 60,
   "id": "9187e293",
   "metadata": {},
   "outputs": [
    {
     "data": {
      "text/plain": [
       "'\\nThe diamond problem is a common problem that occurs in multiple inheritance,\\nwhen a child class inherits from two or more parent classes that have a \\ncommon ancestor. The problem arises when there is a conflict or ambiguity \\nin the method resolution order (MRO), which determines the order in which \\nthe methods of the parent classes are invoked by the child class.\\n'"
      ]
     },
     "execution_count": 60,
     "metadata": {},
     "output_type": "execute_result"
    }
   ],
   "source": [
    "\"\"\"\n",
    "The diamond problem is a common problem that occurs in multiple inheritance,\n",
    "when a child class inherits from two or more parent classes that have a \n",
    "common ancestor. The problem arises when there is a conflict or ambiguity \n",
    "in the method resolution order (MRO), which determines the order in which \n",
    "the methods of the parent classes are invoked by the child class.\n",
    "\"\"\"\n"
   ]
  },
  {
   "cell_type": "code",
   "execution_count": 62,
   "id": "aaa3a254",
   "metadata": {},
   "outputs": [],
   "source": [
    "#example:\n",
    "class A:\n",
    "    \n",
    "    def foo(self):\n",
    "    \n",
    "        print(\"foo from A\")\n",
    "\n",
    "class B(A):\n",
    "    \n",
    "    def foo(self):\n",
    "    \n",
    "        print(\"foo from B\")\n",
    "\n",
    "class C(A):\n",
    "    \n",
    "    def foo(self):\n",
    "    \n",
    "        print(\"foo from C\")\n",
    "\n",
    "class D(B, C):\n",
    "    \n",
    "    pass\n"
   ]
  },
  {
   "cell_type": "markdown",
   "id": "c2376570",
   "metadata": {},
   "source": [
    "19. Discuss the concept of \"is-a\" and \"has-a\" relationships in inheritance, and provide examples of each."
   ]
  },
  {
   "cell_type": "code",
   "execution_count": 63,
   "id": "00bb12aa",
   "metadata": {},
   "outputs": [
    {
     "name": "stdout",
     "output_type": "stream",
     "text": [
      "True\n",
      "Dog is barking\n",
      "True\n",
      "Engine is starting\n",
      "Car is driving\n"
     ]
    }
   ],
   "source": [
    "\"\"\"\n",
    "The concept of “is-a” and “has-a” relationships in inheritance refers to \n",
    "the way we can model the relationship between classes based on their \n",
    "commonality or composition.\n",
    "\n",
    "An “is-a” relationship means that a child class is a specific type of a \n",
    "parent class, and inherits all the attributes and methods of the parent \n",
    "class. For example, a Dog is an Animal, so we can create a Dog class that\n",
    "inherits from an Animal class. This implies that a Dog has all the \n",
    "properties and behaviors of an Animal, plus some additional ones that are \n",
    "specific to Dogs.\n",
    "\n",
    "A “has-a” relationship means that a class has an attribute that is an \n",
    "instance of another class, and uses its methods or properties. \n",
    "\n",
    "For example, a Car has an Engine, so we can create a Car class that has an \n",
    "attribute engine that is an instance of an Engine class. This implies that \n",
    "a Car can use the methods or properties of the Engine class, but does not \n",
    "inherit them.\n",
    "\"\"\"\n",
    "\n",
    "#Example:\n",
    "# Example of is-a relationship\n",
    "class Animal:\n",
    "    # animal class\n",
    "    def __init__(self, name):\n",
    "        # constructor that sets the name attribute\n",
    "        self.name = name\n",
    "\n",
    "    def make_sound(self):\n",
    "        # method to make sound\n",
    "        print(\"Animal is making sound\")\n",
    "\n",
    "class Dog(Animal):\n",
    "    # dog class that inherits from animal class\n",
    "    def __init__(self, name, breed):\n",
    "        # constructor that sets the name and breed attributes\n",
    "        super().__init__(name) # call the parent constructor\n",
    "        self.breed = breed\n",
    "\n",
    "    def make_sound(self):\n",
    "        # method to make sound (overridden)\n",
    "        print(\"Dog is barking\")\n",
    "\n",
    "# create an instance of Dog\n",
    "dog = Dog(\"Spot\", \"Labrador\")\n",
    "# check if dog is an instance of Animal\n",
    "print(isinstance(dog, Animal)) # prints True\n",
    "# call the dog's make_sound method\n",
    "dog.make_sound() # prints Dog is barking\n",
    "\n",
    "# Example of has-a relationship\n",
    "class Engine:\n",
    "    # engine class\n",
    "    def __init__(self, power):\n",
    "        # constructor that sets the power attribute\n",
    "        self.power = power\n",
    "\n",
    "    def start(self):\n",
    "        # method to start the engine\n",
    "        print(\"Engine is starting\")\n",
    "\n",
    "class Car:\n",
    "    # car class\n",
    "    def __init__(self, model, engine):\n",
    "        # constructor that sets the model and engine attributes\n",
    "        self.model = model\n",
    "        self.engine = engine # engine is an instance of Engine class\n",
    "\n",
    "    def drive(self):\n",
    "        # method to drive the car\n",
    "        self.engine.start() # use the engine's start method\n",
    "        print(\"Car is driving\")\n",
    "\n",
    "# create an instance of Engine\n",
    "engine = Engine(200)\n",
    "# create an instance of Car with the engine\n",
    "car = Car(\"Tesla\", engine)\n",
    "# check if car has an attribute engine\n",
    "print(hasattr(car, \"engine\")) # prints True\n",
    "# call the car's drive method\n",
    "car.drive() # prints Engine is starting and Car is driving\n"
   ]
  },
  {
   "cell_type": "markdown",
   "id": "9fd10a26",
   "metadata": {},
   "source": [
    "20. Create a Python class hierarchy for a university system. Start with a base class `Person` and create child\n",
    "classes `Student` and `Professor`, each with their own attributes and methods. Provide an example of using\n",
    "these classes in a university context."
   ]
  },
  {
   "cell_type": "code",
   "execution_count": 64,
   "id": "230dbd55",
   "metadata": {},
   "outputs": [],
   "source": [
    "class Person:\n",
    "    # person class\n",
    "    def __init__(self, name, age):\n",
    "        # constructor that sets the name and age attributes\n",
    "        self.name = name\n",
    "        self.age = age\n",
    "\n",
    "    def introduce(self):\n",
    "        # method to introduce the person\n",
    "        print(f\"Hello, I am {self.name} and I am {self.age} years old.\")\n",
    "\n",
    "class Student(Person):\n",
    "    # student class that inherits from person class\n",
    "    def __init__(self, name, age, major, gpa):\n",
    "        # constructor that sets the name, age, major and gpa attributes\n",
    "        super().__init__(name, age) # call the parent constructor\n",
    "        self.major = major\n",
    "        self.gpa = gpa\n",
    "\n",
    "    def study(self):\n",
    "        # method to study\n",
    "        print(f\"I am studying {self.major}.\")\n",
    "\n",
    "    def introduce(self):\n",
    "        # method to introduce the student (overridden)\n",
    "        super().introduce() # call the parent introduce method\n",
    "        print(f\"I am a student majoring in {self.major} and my GPA is {self.gpa}.\")\n",
    "\n",
    "class Professor(Person):\n",
    "    # professor class that inherits from person class\n",
    "    def __init__(self, name, age, department, salary):\n",
    "        # constructor that sets the name, age, department and salary attributes\n",
    "        super().__init__(name, age) # call the parent constructor\n",
    "        self.department = department\n",
    "        self.salary = salary\n",
    "\n",
    "    def teach(self):\n",
    "        # method to teach\n",
    "        print(f\"I am teaching {self.department} courses.\")\n",
    "\n",
    "    def introduce(self):\n",
    "        # method to introduce the professor (overridden)\n",
    "        super().introduce() # call the parent introduce method\n",
    "        print(f\"I am a professor in the {self.department} department and my salary is {self.salary}.\")\n"
   ]
  },
  {
   "cell_type": "code",
   "execution_count": 65,
   "id": "a106b361",
   "metadata": {},
   "outputs": [
    {
     "name": "stdout",
     "output_type": "stream",
     "text": [
      "Hello, I am Rajesh and I am 20 years old.\n",
      "I am a student majoring in Computer Science and my GPA is 3.8.\n",
      "I am studying Computer Science.\n",
      "Hello, I am Chintu and I am 45 years old.\n",
      "I am a professor in the Mathematics department and my salary is 5000.\n",
      "I am teaching Mathematics courses.\n"
     ]
    }
   ],
   "source": [
    "student = Student(\"Rajesh\", 20, \"Computer Science\", 3.8)\n",
    "student.introduce() \n",
    "student.study() \n",
    "\n",
    "professor = Professor(\"Chintu\", 45, \"Mathematics\", 5000)\n",
    "professor.introduce() \n",
    "professor.teach()\n"
   ]
  },
  {
   "cell_type": "markdown",
   "id": "5c5290eb",
   "metadata": {},
   "source": [
    "# Encapsulation: "
   ]
  },
  {
   "cell_type": "markdown",
   "id": "dfb4e4e6",
   "metadata": {},
   "source": [
    "1. Explain the concept of encapsulation in Python. What is its role in object-oriented programming?"
   ]
  },
  {
   "cell_type": "code",
   "execution_count": 66,
   "id": "a2aeed46",
   "metadata": {},
   "outputs": [
    {
     "name": "stdout",
     "output_type": "stream",
     "text": [
      "Calling protected member of base class:  2\n",
      "Calling modified protected member outside class:  3\n",
      "Accessing protected member of obj1:  3\n",
      "Accessing protected member of obj2:  2\n"
     ]
    }
   ],
   "source": [
    "\"\"\"\n",
    "Encapsulation is one of the fundamental concepts in object-oriented programming (OOP). \n",
    "It describes the idea of wrapping data and the methods that work on data within one unit. \n",
    "This puts restrictions on accessing variables and methods directly and can prevent the accidental modification of data.\n",
    "\"\"\"\n",
    "#Example:\n",
    "class Base:\n",
    "    def __init__(self):\n",
    "        self._a = 2\n",
    "\n",
    "class Derived(Base):\n",
    "    def __init__(self):\n",
    "        Base.__init__(self)\n",
    "        print(\"Calling protected member of base class: \", self._a)\n",
    "        self._a = 3\n",
    "        print(\"Calling modified protected member outside class: \", self._a)\n",
    "\n",
    "obj1 = Derived()\n",
    "obj2 = Base()\n",
    "print(\"Accessing protected member of obj1: \", obj1._a)\n",
    "print(\"Accessing protected member of obj2: \", obj2._a)\n"
   ]
  },
  {
   "cell_type": "markdown",
   "id": "8f102ba1",
   "metadata": {},
   "source": [
    "2. Describe the key principles of encapsulation, including access control and data hiding."
   ]
  },
  {
   "cell_type": "markdown",
   "id": "fe327446",
   "metadata": {},
   "source": [
    "\"\"\"\n",
    "Encapsulation is a fundamental concept in object-oriented programming (OOP) that refers to the bundling of data and \n",
    "methods that operate on that data within a single unit¹. It is the mechanism that binds together code and the data it \n",
    "manipulates. Another way to think about encapsulation is, that it is a protective shield that prevents the data from \n",
    "being accessed by the code outside this shield.\n",
    "\n",
    "Key principles of encapsulation include:\n",
    "\n",
    "1. **Data Hiding**: Encapsulation is a way of hiding the implementation details of a class from outside access and only\n",
    "exposing a public interface that can be used to interact with the class. The user will have no idea about the inner \n",
    "implementation of the class. It will not be visible to the user how the class is storing values in the variables.\n",
    "\n",
    "2. **Access Control**: Encapsulation can be achieved by declaring all the variables in the class as private and \n",
    "writing public methods in the class to set and get the values of variables. To implement encapsulation, you can use \n",
    "tools known as access modifiers: public, private, and protected. These determine who can access the data and methods \n",
    "in a class.\n",
    "\n",
    "3. **Data Integrity**: Encapsulation is also used to protect information from being modified or having new errors \n",
    "introduced. When you store and lock the information in a bundle, it is much more difficult for users to accidentally \n",
    "modify the information.\n",
    "\n",
    "4. **Abstraction**: As in encapsulation, the data in a class is hidden from other classes using the data hiding concept \n",
    "which is achieved by making the members or methods of a class private, and the class is exposed to the end-user or \n",
    "the world without providing any details behind implementation using the abstraction concept.\n",
    "\n",
    "\"\"\""
   ]
  },
  {
   "cell_type": "markdown",
   "id": "ac690b13",
   "metadata": {},
   "source": [
    "3. How can you achieve encapsulation in Python classes? Provide an example."
   ]
  },
  {
   "cell_type": "code",
   "execution_count": 70,
   "id": "50f29b0b",
   "metadata": {},
   "outputs": [
    {
     "name": "stdout",
     "output_type": "stream",
     "text": [
      "Name:  Rajesh Behera\n",
      "Salary:  50000\n",
      "Project:  AI\n"
     ]
    }
   ],
   "source": [
    "\"\"\"\n",
    "In Python, encapsulation can be achieved by declaring the data members and methods of a class either as private or \n",
    "protected12. But in Python, we don’t have direct access modifiers like public, private, and protected. \n",
    "\n",
    "We can achieve this by using single underscore and double underscores.\n",
    "\n",
    "\"\"\"\n",
    "#Example:\n",
    " \n",
    "class Employee:\n",
    "    # constructor\n",
    "    def __init__(self, name, salary, project):\n",
    "        # data members\n",
    "        self.name = name  \n",
    "        self._salary = salary  # protected attribute \n",
    "        self.__project = project  # private attribute \n",
    "\n",
    "    # method to access private attribute\n",
    "    def get_project(self):\n",
    "        return self.__project\n",
    "\n",
    "# creating an object of the Employee class\n",
    "emp = Employee(\"Rajesh Behera\", 50000, \"AI\")\n",
    "\n",
    "# accessing public attribute\n",
    "print(\"Name: \", emp.name)\n",
    "\n",
    "# accessing protected attribute\n",
    "print(\"Salary: \", emp._salary)\n",
    "\n",
    "# accessing private attribute via method\n",
    "print(\"Project: \", emp.get_project())\n"
   ]
  },
  {
   "cell_type": "markdown",
   "id": "627c5d31",
   "metadata": {},
   "source": [
    "4. Discuss the difference between public, private, and protected access modifiers in Python."
   ]
  },
  {
   "cell_type": "markdown",
   "id": "5d95cb04",
   "metadata": {},
   "source": [
    "\"\"\"\n",
    "Public Access Modifier - \n",
    "------------------------------\n",
    "The name “Public” says all about this access modifier the variables and methods declared inside the specific Python class can be accessed by that class and any Python class outside that specific class.\n",
    "\n",
    "Public methods are accessible outside the class and with the help of objects the public methods can be invoked inside the class.\n",
    "\n",
    "All the variables and methods in a Python class are public by default and just like mentioned above can be accessed from outside the class environment\n",
    "\n",
    "\n",
    "Protected Access Modifier-\n",
    "------------------------------\n",
    "Protected variables and methods are accessible within the specific class environment and can also be accessed by the sub-classes. We can also say that it allows the resources of the parent class to be inherited by the child class.\n",
    "\n",
    "Any variables or methods prefixed with a single underscore (_) in a class are protected and can be accessed within the specific class environment. The protected variables/methods can be accessed inside the sub-classes of the parent class.\n",
    "\n",
    "\n",
    "Private Access Modifier\n",
    "------------------------------\n",
    "The “Private” access modifier restricts the variables and methods declared inside the specific class to that class environment.\n",
    "\n",
    "Simply put, the variables and methods declared inside a class can be accessed inside that class environment and not outside that class. Python doesn’t have any mechanism restricting access to the variables or methods.\n",
    "\n",
    "But there is a way by which we can impose restrictions to access the variables and methods in Python. Python suggests using a double underscore to imitate the behavior of the private access modifier.\n",
    "\n",
    "Variables and methods prefixed with a double underscore (__) make them private and cannot be accessed outside the specific class. \n",
    "\n",
    "\"\"\"\"\"\""
   ]
  },
  {
   "cell_type": "markdown",
   "id": "2481b0a3",
   "metadata": {},
   "source": [
    "5. Create a Python class called `Person` with a private attribute `__name`. Provide methods to get and set the\n",
    "name attribute."
   ]
  },
  {
   "cell_type": "code",
   "execution_count": 74,
   "id": "00de7df6",
   "metadata": {},
   "outputs": [
    {
     "name": "stdout",
     "output_type": "stream",
     "text": [
      "Name:  Rajesh\n",
      "Updated Name:  Chintu\n"
     ]
    }
   ],
   "source": [
    "class Person:\n",
    "    def __init__(self, name):\n",
    "        self.__name = name  # private attribute\n",
    "\n",
    "    def get_name(self):\n",
    "        return self.__name\n",
    "\n",
    "    def set_name(self, name):\n",
    "        self.__name = name\n",
    "\n",
    "# creating an object of the Person class\n",
    "p = Person(\"Rajesh\")\n",
    "\n",
    "# accessing name via getter method\n",
    "print(\"Name: \", p.get_name())\n",
    "\n",
    "# changing name via setter method\n",
    "p.set_name(\"Chintu\")\n",
    "print(\"Updated Name: \", p.get_name())\n"
   ]
  },
  {
   "cell_type": "markdown",
   "id": "a1529438",
   "metadata": {},
   "source": [
    "6. Explain the purpose of getter and setter methods in encapsulation. Provide examples."
   ]
  },
  {
   "cell_type": "code",
   "execution_count": 75,
   "id": "784db951",
   "metadata": {},
   "outputs": [],
   "source": [
    "\"\"\"\n",
    "Getter Methods: These methods are used to access the value of private attributes from outside the class1. \n",
    "They return the value of the variable1. Here’s an example:\n",
    "\n",
    "\"\"\"\n",
    "class Person:\n",
    "    def __init__(self, name):\n",
    "        self.__name = name  # private attribute\n",
    "\n",
    "    # Getter method\n",
    "    def get_name(self):\n",
    "        return self.__name\n",
    "\n",
    "    \n",
    "\"\"\"\n",
    "Setter Methods: These methods are used to set or change the value of private attributes from outside the class1. They take a parameter and assign it to the private variable1.\n",
    "\"\"\"\n",
    "\n",
    "#Here’s an example:\n",
    "class Person:\n",
    "    def __init__(self, name):\n",
    "        self.__name = name  # private attribute\n",
    "\n",
    "    # Setter method\n",
    "    def set_name(self, name):\n",
    "        self.__name = name\n",
    "\n"
   ]
  },
  {
   "cell_type": "markdown",
   "id": "941f8f35",
   "metadata": {},
   "source": [
    "7. What is name mangling in Python, and how does it affect encapsulation?"
   ]
  },
  {
   "cell_type": "code",
   "execution_count": 77,
   "id": "43a2de52",
   "metadata": {},
   "outputs": [
    {
     "name": "stdout",
     "output_type": "stream",
     "text": [
      "Rajesh\n"
     ]
    }
   ],
   "source": [
    "\"\"\"\n",
    "Name mangling in Python is a mechanism by which class variables have different names inside and outside the class1. \n",
    "It is a system that changes the way a variable or method name is stored, making it harder to access or modify from \n",
    "outside the class\n",
    "\"\"\"\n",
    "\n",
    "#Example:\n",
    "class Student:\n",
    "    def __init__(self, name):\n",
    "        self.__name = name\n",
    "\n",
    "s1 = Student(\"Rajesh\")\n",
    "print(s1._Student__name)  \n"
   ]
  },
  {
   "cell_type": "markdown",
   "id": "866ee708",
   "metadata": {},
   "source": [
    "8. Create a Python class called `BankAccount` with private attributes for the account balance (`__balance`)"
   ]
  },
  {
   "cell_type": "code",
   "execution_count": 78,
   "id": "065d3f87",
   "metadata": {},
   "outputs": [],
   "source": [
    "class BankAccount:\n",
    "    def __init__(self, balance=0.0):\n",
    "        self.__balance = balance  # private attribute\n",
    "\n",
    "    def deposit(self, amount):\n",
    "        self.__balance += amount\n",
    "        return self.__balance\n",
    "\n",
    "    def withdraw(self, amount):\n",
    "        if amount > self.__balance:\n",
    "            print(\"Insufficient funds\")\n",
    "            return\n",
    "        self.__balance -= amount\n",
    "        return self.__balance\n",
    "\n",
    "    def get_balance(self):\n",
    "        return self.__balance\n"
   ]
  },
  {
   "cell_type": "markdown",
   "id": "b3a2e068",
   "metadata": {},
   "source": [
    "9. Discuss the advantages of encapsulation in terms of code maintainability and security."
   ]
  },
  {
   "cell_type": "code",
   "execution_count": 79,
   "id": "2a175180",
   "metadata": {},
   "outputs": [
    {
     "data": {
      "text/plain": [
       "'\\nEncapsulation is one of the key concepts in object-oriented programming. It is the practice of bundling data and methods \\ntogether into a single unit, called a class. This helps to keep the code organized and easier to maintain.\\nEncapsulation also provides a number of security benefits. By hiding the data within the class, it is made more difficult for unauthorized users to access or modify it. This can help to protect the integrity of the data and prevent malicious attacks.\\nHere are some of the specific advantages of encapsulation in Python in terms of code maintainability and security:\\nImproved readability:\\nEncapsulation makes code more readable by bundling data and methods together. This makes it easier to understand what the code is doing and how it works.\\nReduced complexity:\\nEncapsulation can help to reduce the complexity of code by keeping it organized and modular. This can make it easier to debug and maintain the code.\\nIncreased security:\\nEncapsulation can help to increase the security of code by hiding data within the class. This can make it more difficult for unauthorized users to access or modify the data.\\nImproved reusability:\\nEncapsulation can help to improve the reusability of code by making it easier to separate data from methods. This can make it easier to use the code in other contexts.\\nOverall, encapsulation is a powerful tool that can help to improve the maintainability and security of Python code. By bundling data and methods together, encapsulation can help to make code more readable, less complex, more secure, and more reusable.\\n\\n'"
      ]
     },
     "execution_count": 79,
     "metadata": {},
     "output_type": "execute_result"
    }
   ],
   "source": [
    "\"\"\"\n",
    "Encapsulation is one of the key concepts in object-oriented programming. It is the practice of bundling data and methods \n",
    "together into a single unit, called a class. This helps to keep the code organized and easier to maintain.\n",
    "Encapsulation also provides a number of security benefits. By hiding the data within the class, it is made more difficult for unauthorized users to access or modify it. This can help to protect the integrity of the data and prevent malicious attacks.\n",
    "Here are some of the specific advantages of encapsulation in Python in terms of code maintainability and security:\n",
    "Improved readability:\n",
    "Encapsulation makes code more readable by bundling data and methods together. This makes it easier to understand what the code is doing and how it works.\n",
    "Reduced complexity:\n",
    "Encapsulation can help to reduce the complexity of code by keeping it organized and modular. This can make it easier to debug and maintain the code.\n",
    "Increased security:\n",
    "Encapsulation can help to increase the security of code by hiding data within the class. This can make it more difficult for unauthorized users to access or modify the data.\n",
    "Improved reusability:\n",
    "Encapsulation can help to improve the reusability of code by making it easier to separate data from methods. This can make it easier to use the code in other contexts.\n",
    "Overall, encapsulation is a powerful tool that can help to improve the maintainability and security of Python code. By bundling data and methods together, encapsulation can help to make code more readable, less complex, more secure, and more reusable.\n",
    "\n",
    "\"\"\""
   ]
  },
  {
   "cell_type": "markdown",
   "id": "12794b28",
   "metadata": {},
   "source": [
    "10. How can you access private attributes in Python? Provide an example demonstrating the use of name\n",
    "mangling."
   ]
  },
  {
   "cell_type": "code",
   "execution_count": 80,
   "id": "e02936e3",
   "metadata": {},
   "outputs": [
    {
     "name": "stdout",
     "output_type": "stream",
     "text": [
      "10\n"
     ]
    }
   ],
   "source": [
    "\"\"\"\n",
    "In Python, private attributes are not truly private. Python’s private and protected member can be accessed outside the \n",
    "class through python name mangling.\n",
    "\n",
    "For any class in Python, private attributes are internally represented with a prefix of _classname. This is known as name \n",
    "mangling. It’s a mechanism that changes the name of the method or attribute to prevent its access from outside.\n",
    "\"\"\"\n",
    "\n",
    "#Example:\n",
    "class MyClass:\n",
    "    def __init__(self):\n",
    "        self.__private_attribute = 10\n",
    "\n",
    "# creating an object of the MyClass\n",
    "obj = MyClass()\n",
    "\n",
    "# accessing private attribute via name mangling\n",
    "print(obj._MyClass__private_attribute)  "
   ]
  },
  {
   "cell_type": "markdown",
   "id": "44eed4f6",
   "metadata": {},
   "source": [
    "11. Create a Python class hierarchy for a school system, including classes for students, teachers, and courses,\n",
    "and implement encapsulation principles to protect sensitive information."
   ]
  },
  {
   "cell_type": "code",
   "execution_count": 81,
   "id": "59ca45b6",
   "metadata": {},
   "outputs": [],
   "source": [
    "class Person:\n",
    "    def __init__(self, name, age):\n",
    "        self._name = name  # protected attribute\n",
    "        self._age = age  # protected attribute\n",
    "\n",
    "    def get_name(self):\n",
    "        return self._name\n",
    "\n",
    "    def get_age(self):\n",
    "        return self._age\n",
    "\n",
    "\n",
    "class Student(Person):\n",
    "    def __init__(self, name, age, student_id):\n",
    "        super().__init__(name, age)\n",
    "        self.__student_id = student_id  # private attribute\n",
    "\n",
    "    def get_student_id(self):\n",
    "        return self.__student_id\n",
    "\n",
    "\n",
    "class Teacher(Person):\n",
    "    def __init__(self, name, age, teacher_id):\n",
    "        super().__init__(name, age)\n",
    "        self.__teacher_id = teacher_id  # private attribute\n",
    "\n",
    "    def get_teacher_id(self):\n",
    "        return self.__teacher_id\n",
    "\n",
    "\n",
    "class Course:\n",
    "    def __init__(self, course_name, teacher):\n",
    "        self._course_name = course_name  # protected attribute\n",
    "        self._teacher = teacher  # protected attribute\n",
    "        self.__students = []  # private attribute\n",
    "\n",
    "    def add_student(self, student):\n",
    "        self.__students.append(student)\n",
    "\n",
    "    def get_students(self):\n",
    "        return [student.get_name() for student in self.__students]\n",
    "\n",
    "    def get_course_name(self):\n",
    "        return self._course_name\n",
    "\n",
    "    def get_teacher(self):\n",
    "        return self._teacher.get_name()\n"
   ]
  },
  {
   "cell_type": "markdown",
   "id": "b775e0dd",
   "metadata": {},
   "source": [
    "12. Explain the concept of property decorators in Python and how they relate to encapsulation."
   ]
  },
  {
   "cell_type": "code",
   "execution_count": 84,
   "id": "8562faf6",
   "metadata": {},
   "outputs": [],
   "source": [
    "\"\"\"\n",
    "The @property decorator in Python is a built-in decorator that makes the usage of getter and setter methods much easier in \n",
    "object-oriented programming12. It is used to define properties effortlessly without manually calling the inbuilt function \n",
    "property(), which is used to return the property attributes of a class from the stated getter, setter, and deleter as \n",
    "parameters\n",
    "\"\"\"\n",
    "#Example:\n",
    "class Celsius:\n",
    "    def __init__(self, temperature=0):\n",
    "        self._temperature = temperature\n",
    "\n",
    "    @property\n",
    "    def temperature(self):\n",
    "        print(\"Getting value...\")\n",
    "        return self._temperature\n",
    "\n",
    "    @temperature.setter\n",
    "    def temperature(self, value):\n",
    "        if value < -273.15:\n",
    "            raise ValueError(\"Temperature below -273.15 is not possible.\")\n",
    "        print(\"Setting value...\")\n",
    "        self._temperature = value\n"
   ]
  },
  {
   "cell_type": "markdown",
   "id": "d1fb06de",
   "metadata": {},
   "source": [
    "13. What is data hiding, and why is it important in encapsulation? Provide examples."
   ]
  },
  {
   "cell_type": "code",
   "execution_count": 86,
   "id": "9b4be815",
   "metadata": {},
   "outputs": [
    {
     "name": "stdout",
     "output_type": "stream",
     "text": [
      "Cannot access private attribute\n",
      "10\n"
     ]
    }
   ],
   "source": [
    "\"\"\"\n",
    "Data hiding is a concept in object-oriented programming (OOP) that underlines the hiding of data or information from the user1. It includes object details such as data members and internal workings1. Data hiding excludes full data entry to class members and defends object integrity by preventing unintended changes1. It also minimizes system complexity for increased robustness by limiting interdependencies between software requirements1.\n",
    "\n",
    "Data hiding is important in encapsulation for several reasons:\n",
    "\n",
    "Security: By hiding the internal state of an object, data hiding enhances the security of an object’s internal state.\n",
    "Integrity: It defends the integrity of an object by preventing unintended changes.\n",
    "Simplicity: Data hiding reduces system complexity, making the system easier to use and understand.\n",
    "Control: It provides control over class attributes and methods.\n",
    "Here’s an example of data hiding in Python:\n",
    "\"\"\"\n",
    "class MyClass:\n",
    "    def __init__(self):\n",
    "        self.__private_attribute = 10\n",
    "\n",
    "# creating an object of the MyClass\n",
    "obj = MyClass()\n",
    "\n",
    "# trying to access private attribute directly\n",
    "# this will raise an AttributeError\n",
    "try:\n",
    "    print(obj.__private_attribute)\n",
    "except AttributeError:\n",
    "    print(\"Cannot access private attribute\")\n",
    "\n",
    "# accessing private attribute via name mangling\n",
    "print(obj._MyClass__private_attribute) \n"
   ]
  },
  {
   "cell_type": "markdown",
   "id": "e9651ada",
   "metadata": {},
   "source": [
    "14. Create a Python class called `Employee` with private attributes for salary (`__salary`) and employee ID (`__employee_id`). Provide a method to calculate yearly bonuses."
   ]
  },
  {
   "cell_type": "code",
   "execution_count": 88,
   "id": "a36dadc5",
   "metadata": {},
   "outputs": [],
   "source": [
    "class Employee:\n",
    "    def __init__(self, employee_id, salary):\n",
    "        self.__employee_id = employee_id  # private attribute\n",
    "        self.__salary = salary  # private attribute\n",
    "\n",
    "    def get_employee_id(self):\n",
    "        return self.__employee_id\n",
    "\n",
    "    def get_salary(self):\n",
    "        return self.__salary\n",
    "\n",
    "    def set_salary(self, salary):\n",
    "        self.__salary = salary\n",
    "\n",
    "    def calculate_yearly_bonus(self):\n",
    "        # let's assume the bonus is 10% of the salary\n",
    "        bonus = self.__salary * 0.10\n",
    "        return bonus\n"
   ]
  },
  {
   "cell_type": "markdown",
   "id": "73c881bc",
   "metadata": {},
   "source": [
    "15. Discuss the use of accessors and mutators in encapsulation. How do they help maintain control over\n",
    "attribute access?"
   ]
  },
  {
   "cell_type": "code",
   "execution_count": 89,
   "id": "1bf15207",
   "metadata": {},
   "outputs": [],
   "source": [
    "\"\"\"\n",
    "Accessors and mutators, also known as getters and setters, are an essential part of encapsulation in object-oriented programming12. They allow you to control access to an object’s state, ensuring that it is accessed and modified only through a controlled interface.\n",
    "\n",
    "Accessors, or getter methods, allow you to retrieve the value of an object’s private instance variables. These methods provide read-only access to the object’s state2. By using accessor methods, you can ensure that the object’s state is not modified accidentally or maliciously by external code.\n",
    "\n",
    "Mutators, or setter methods, allow you to modify the value of an object’s private instance variables. These methods provide write-only access to the object’s state2. By using mutator methods, you can ensure that the object’s state is modified only through a controlled interface.\n",
    "\"\"\"\n",
    "\n",
    "#Example:\n",
    "class Person:\n",
    "    def __init__(self, name):\n",
    "        self.__name = name  # private attribute\n",
    "\n",
    "    # Accessor method\n",
    "    @property\n",
    "    def name(self):\n",
    "        return self.__name\n",
    "\n",
    "    # Mutator method\n",
    "    @name.setter\n",
    "    def name(self, value):\n",
    "        self.__name = value\n"
   ]
  },
  {
   "cell_type": "markdown",
   "id": "0f741954",
   "metadata": {},
   "source": [
    "16. What are the potential drawbacks or disadvantages of using encapsulation in Python?"
   ]
  },
  {
   "cell_type": "markdown",
   "id": "144f4f38",
   "metadata": {},
   "source": [
    "\"\"\"\n",
    "While encapsulation is a fundamental concept in object-oriented programming and provides numerous benefits, there are potential drawbacks to consider:\n",
    "\n",
    "Code Size: The length of the code can increase significantly with encapsulation as you need to provide all the methods with the specifiers1. This could potentially make the code more complex and harder to read1.\n",
    "\n",
    "More Instructions: As the size of the code increases, you need to provide additional instructions for every method1. This could potentially slow down the execution of the program1.\n",
    "\n",
    "Overhead: Encapsulation can introduce additional overhead in your code. For each attribute that you want to make private, you have to create a getter and setter method. This can lead to a lot of extra code, especially for larger classes with many attributes.\n",
    "\n",
    "Accessibility: In Python, encapsulation is not enforced by the language itself. Python takes the position that getters and setters that do nothing more than access or assign to the underlying attribute are unnecessary2. Even using the double-underscore prefix is just advisory, and is more concerned with preventing name collisions in subclasses2. This means that private attributes can still be accessed directly from outside the class, which could potentially lead to misuse.\n",
    "\"\"\""
   ]
  },
  {
   "cell_type": "markdown",
   "id": "482cd7fd",
   "metadata": {},
   "source": [
    "17. Create a Python class for a library system that encapsulates book information, including titles, authors,\n",
    "and availability status."
   ]
  },
  {
   "cell_type": "code",
   "execution_count": 90,
   "id": "a82ecbea",
   "metadata": {},
   "outputs": [],
   "source": [
    "class Book:\n",
    "    def __init__(self, title, author):\n",
    "        self._title = title  # protected attribute\n",
    "        self._author = author  # protected attribute\n",
    "        self.__is_available = True  # private attribute\n",
    "\n",
    "    def get_title(self):\n",
    "        return self._title\n",
    "\n",
    "    def get_author(self):\n",
    "        return self._author\n",
    "\n",
    "    def is_available(self):\n",
    "        return self.__is_available\n",
    "\n",
    "    def borrow_book(self):\n",
    "        if not self.__is_available:\n",
    "            print(\"Sorry, this book is currently not available.\")\n",
    "            return False\n",
    "        else:\n",
    "            self.__is_available = False\n",
    "            print(f\"You have successfully borrowed {self._title}.\")\n",
    "            return True\n",
    "\n",
    "    def return_book(self):\n",
    "        self.__is_available = True\n",
    "        print(f\"You have successfully returned {self._title}.\")\n"
   ]
  },
  {
   "cell_type": "markdown",
   "id": "09d3b81a",
   "metadata": {},
   "source": [
    "18. Explain how encapsulation enhances code reusability and modularity in Python programs."
   ]
  },
  {
   "cell_type": "code",
   "execution_count": 91,
   "id": "d0f74188",
   "metadata": {},
   "outputs": [
    {
     "data": {
      "text/plain": [
       "'\\nEncapsulation enhances code reusability and modularity in Python programs in several ways:\\n\\nCode Reusability: Encapsulation allows us to hide an object’s internal representation from the outside. \\nThis is called information hiding1. By encapsulating the internal state of objects, we can write more modular and reusable \\ncode. It allows us to restrict accessing variables and methods directly and prevent accidental data modification by creating private data members and methods within a class1. This makes the code more reusable, \\nas the same encapsulated code can be used in different parts of the program or in different programs.\\n\\nModularity: Encapsulation improves modularity by making it easier to partition the code into self-contained modules. \\nEach module is a self-contained unit that encapsulates certain functionality of the program. \\nModules can be developed, tested, and debugged independently, which simplifies the development process. \\nModularity refers to the concept of making multiple modules first and then linking and combining them to form a complete \\nsystem4. Modularity enables re-usability and will minimize duplication.\\n\\nInformation Hiding: Encapsulation also hides the data1. In this way, the data of one part of the program is hidden from \\nother parts of the program. This enhances security and prevents unauthorized access to data.\\n'"
      ]
     },
     "execution_count": 91,
     "metadata": {},
     "output_type": "execute_result"
    }
   ],
   "source": [
    "'''\n",
    "Encapsulation enhances code reusability and modularity in Python programs in several ways:\n",
    "\n",
    "Code Reusability: Encapsulation allows us to hide an object’s internal representation from the outside. \n",
    "This is called information hiding1. By encapsulating the internal state of objects, we can write more modular and reusable \n",
    "code. It allows us to restrict accessing variables and methods directly and prevent accidental data modification by creating private data members and methods within a class1. This makes the code more reusable, \n",
    "as the same encapsulated code can be used in different parts of the program or in different programs.\n",
    "\n",
    "Modularity: Encapsulation improves modularity by making it easier to partition the code into self-contained modules. \n",
    "Each module is a self-contained unit that encapsulates certain functionality of the program. \n",
    "Modules can be developed, tested, and debugged independently, which simplifies the development process. \n",
    "Modularity refers to the concept of making multiple modules first and then linking and combining them to form a complete \n",
    "system4. Modularity enables re-usability and will minimize duplication.\n",
    "\n",
    "Information Hiding: Encapsulation also hides the data1. In this way, the data of one part of the program is hidden from \n",
    "other parts of the program. This enhances security and prevents unauthorized access to data.\n",
    "'''"
   ]
  },
  {
   "cell_type": "markdown",
   "id": "f1e74388",
   "metadata": {},
   "source": [
    "19. Describe the concept of information hiding in encapsulation. Why is it essential in software development?"
   ]
  },
  {
   "cell_type": "code",
   "execution_count": 92,
   "id": "4f37c2c6",
   "metadata": {},
   "outputs": [
    {
     "data": {
      "text/plain": [
       "'\\nInformation hiding is a principle that underlines the hiding of data or information from the user. It includes object details such as data members and internal workings. Information hiding excludes full data entry to class members and defends object integrity by preventing unintended changes. It also minimizes system complexity for increased robustness by limiting interdependencies between software requirements.\\n\\nInformation hiding is essential in software development for several reasons:\\n\\nSecurity: By hiding the internal state of an object, information hiding enhances the security of an object’s internal state.\\nIntegrity: It defends the integrity of an object by preventing unintended changes.\\nSimplicity: Information hiding reduces system complexity, making the system easier to use and understand.\\nControl: It provides control over class attributes and methods.\\nIn encapsulation, the data in a class is hidden from other classes using the data hiding concept which is achieved by making the members or methods of a class private, and the class is exposed to the end-user or the world without providing any details behind implementation using the abstraction concept, so it is also known as a combination of data-hiding and abstraction. Encapsulation can be achieved by declaring all the variables in the class as private and writing public methods in the class to set and get the values of variables. It is more defined with the setter and getter method\\n'"
      ]
     },
     "execution_count": 92,
     "metadata": {},
     "output_type": "execute_result"
    }
   ],
   "source": [
    "\"\"\"\n",
    "Information hiding is a principle that underlines the hiding of data or information from the user. It includes object details such as data members and internal workings. Information hiding excludes full data entry to class members and defends object integrity by preventing unintended changes. It also minimizes system complexity for increased robustness by limiting interdependencies between software requirements.\n",
    "\n",
    "Information hiding is essential in software development for several reasons:\n",
    "\n",
    "Security: By hiding the internal state of an object, information hiding enhances the security of an object’s internal state.\n",
    "Integrity: It defends the integrity of an object by preventing unintended changes.\n",
    "Simplicity: Information hiding reduces system complexity, making the system easier to use and understand.\n",
    "Control: It provides control over class attributes and methods.\n",
    "In encapsulation, the data in a class is hidden from other classes using the data hiding concept which is achieved by making the members or methods of a class private, and the class is exposed to the end-user or the world without providing any details behind implementation using the abstraction concept, so it is also known as a combination of data-hiding and abstraction. Encapsulation can be achieved by declaring all the variables in the class as private and writing public methods in the class to set and get the values of variables. It is more defined with the setter and getter method\n",
    "\"\"\""
   ]
  },
  {
   "cell_type": "markdown",
   "id": "b64b6b91",
   "metadata": {},
   "source": [
    "20. Create a Python class called `Customer` with private attributes for customer details like name, address,\n",
    "and contact information. Implement encapsulation to ensure data integrity and security."
   ]
  },
  {
   "cell_type": "code",
   "execution_count": 94,
   "id": "0cc901bf",
   "metadata": {},
   "outputs": [],
   "source": [
    "class Customer:\n",
    "\n",
    "    def __init__(self, name, address, contact_information):\n",
    "        self._name = name\n",
    "        self._address = address\n",
    "        self._contact_information = contact_information\n",
    "\n",
    "    @property\n",
    "    def name(self):\n",
    "        return self._name\n",
    "\n",
    "    @name.setter\n",
    "    def name(self, new_name):\n",
    "        self._name = new_name\n",
    "\n",
    "    @property\n",
    "    def address(self):\n",
    "        return self._address\n",
    "\n",
    "    @address.setter\n",
    "    def address(self, new_address):\n",
    "        self._address = new_address\n",
    "\n",
    "    @property\n",
    "    def contact_information(self):\n",
    "        return self._contact_information\n",
    "\n",
    "    @contact_information.setter\n",
    "    def contact_information(self, new_contact_information):\n",
    "        self._contact_information = new_contact_information\n"
   ]
  },
  {
   "cell_type": "code",
   "execution_count": 96,
   "id": "ce8f726c",
   "metadata": {},
   "outputs": [
    {
     "name": "stdout",
     "output_type": "stream",
     "text": [
      "Rajesh\n"
     ]
    }
   ],
   "source": [
    "customer = Customer(\"Rajesh\", \"Bangalore\", \"1234567890\")\n",
    "print(customer.name)"
   ]
  },
  {
   "cell_type": "markdown",
   "id": "d48d52fe",
   "metadata": {},
   "source": [
    "# Polymorphism: "
   ]
  },
  {
   "cell_type": "code",
   "execution_count": null,
   "id": "696266d0",
   "metadata": {},
   "outputs": [],
   "source": []
  }
 ],
 "metadata": {
  "kernelspec": {
   "display_name": "Python 3 (ipykernel)",
   "language": "python",
   "name": "python3"
  },
  "language_info": {
   "codemirror_mode": {
    "name": "ipython",
    "version": 3
   },
   "file_extension": ".py",
   "mimetype": "text/x-python",
   "name": "python",
   "nbconvert_exporter": "python",
   "pygments_lexer": "ipython3",
   "version": "3.10.9"
  }
 },
 "nbformat": 4,
 "nbformat_minor": 5
}
