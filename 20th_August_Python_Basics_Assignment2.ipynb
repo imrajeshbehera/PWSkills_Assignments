{
 "cells": [
  {
   "cell_type": "markdown",
   "id": "3fa3bece",
   "metadata": {},
   "source": [
    "# TOPIC: String Based Assignment Problem"
   ]
  },
  {
   "cell_type": "markdown",
   "id": "aae6e8b9",
   "metadata": {},
   "source": [
    "1. Write a program to reverse a string."
   ]
  },
  {
   "cell_type": "code",
   "execution_count": 1,
   "id": "2af4faa0",
   "metadata": {},
   "outputs": [],
   "source": [
    "my_string = \"Rajesh\""
   ]
  },
  {
   "cell_type": "code",
   "execution_count": 2,
   "id": "2ab4e7b9",
   "metadata": {},
   "outputs": [],
   "source": [
    "reverse_string = my_string[::-1]"
   ]
  },
  {
   "cell_type": "code",
   "execution_count": 3,
   "id": "6fdd9924",
   "metadata": {},
   "outputs": [
    {
     "data": {
      "text/plain": [
       "'hsejaR'"
      ]
     },
     "execution_count": 3,
     "metadata": {},
     "output_type": "execute_result"
    }
   ],
   "source": [
    "reverse_string"
   ]
  },
  {
   "cell_type": "markdown",
   "id": "198a3658",
   "metadata": {},
   "source": [
    "2. Check if a string is a palindrome."
   ]
  },
  {
   "cell_type": "code",
   "execution_count": 4,
   "id": "adc025ce",
   "metadata": {},
   "outputs": [
    {
     "name": "stdout",
     "output_type": "stream",
     "text": [
      "The string is a palindrome.\n"
     ]
    }
   ],
   "source": [
    "string = \"katak\"\n",
    "reversed_string = \"\"\n",
    "\n",
    "for i in range(len(string)-1, -1, -1):\n",
    "    reversed_string += string[i]\n",
    "\n",
    "if string == reversed_string:\n",
    "    print(\"The string is a palindrome.\")\n",
    "else:\n",
    "    print(\"The string is not a palindrome.\")"
   ]
  },
  {
   "cell_type": "markdown",
   "id": "cd01304f",
   "metadata": {},
   "source": [
    "3. Convert a string to uppercase."
   ]
  },
  {
   "cell_type": "code",
   "execution_count": 5,
   "id": "a08f8d07",
   "metadata": {},
   "outputs": [],
   "source": [
    "s3 = \"rajesh\""
   ]
  },
  {
   "cell_type": "code",
   "execution_count": 6,
   "id": "4438f46e",
   "metadata": {},
   "outputs": [],
   "source": [
    "new_s3 = s3.upper()"
   ]
  },
  {
   "cell_type": "code",
   "execution_count": 7,
   "id": "53bd866e",
   "metadata": {},
   "outputs": [
    {
     "data": {
      "text/plain": [
       "'RAJESH'"
      ]
     },
     "execution_count": 7,
     "metadata": {},
     "output_type": "execute_result"
    }
   ],
   "source": [
    "new_s3"
   ]
  },
  {
   "cell_type": "markdown",
   "id": "6346bf09",
   "metadata": {},
   "source": [
    "4. Convert a string to lowercase."
   ]
  },
  {
   "cell_type": "code",
   "execution_count": 8,
   "id": "9aec14fd",
   "metadata": {},
   "outputs": [
    {
     "data": {
      "text/plain": [
       "'RAJESH'"
      ]
     },
     "execution_count": 8,
     "metadata": {},
     "output_type": "execute_result"
    }
   ],
   "source": [
    "s4 = \"RAJESH\"\n",
    "s4"
   ]
  },
  {
   "cell_type": "code",
   "execution_count": 9,
   "id": "cd957214",
   "metadata": {},
   "outputs": [],
   "source": [
    "new_s4 = s3.lower()"
   ]
  },
  {
   "cell_type": "code",
   "execution_count": 10,
   "id": "32b3e10a",
   "metadata": {},
   "outputs": [
    {
     "data": {
      "text/plain": [
       "'rajesh'"
      ]
     },
     "execution_count": 10,
     "metadata": {},
     "output_type": "execute_result"
    }
   ],
   "source": [
    "new_s4"
   ]
  },
  {
   "cell_type": "markdown",
   "id": "8f6ea54e",
   "metadata": {},
   "source": [
    "5. Count the number of vowels in a string."
   ]
  },
  {
   "cell_type": "code",
   "execution_count": 11,
   "id": "0326ddb7",
   "metadata": {},
   "outputs": [],
   "source": [
    "s5 = \"Rajesh Behera\""
   ]
  },
  {
   "cell_type": "code",
   "execution_count": 12,
   "id": "0714cd6a",
   "metadata": {},
   "outputs": [
    {
     "name": "stdout",
     "output_type": "stream",
     "text": [
      "The number of vowels in the string is: 5\n"
     ]
    }
   ],
   "source": [
    "vowels = \"aeiou\"\n",
    "count = 0\n",
    "\n",
    "for char in s5:\n",
    "    if char.lower() in vowels:\n",
    "        count += 1\n",
    "\n",
    "print(\"The number of vowels in the string is:\", count)\n"
   ]
  },
  {
   "cell_type": "markdown",
   "id": "c0c8183b",
   "metadata": {},
   "source": [
    "6. Count the number of consonants in a string."
   ]
  },
  {
   "cell_type": "code",
   "execution_count": 13,
   "id": "7da28346",
   "metadata": {},
   "outputs": [],
   "source": [
    "s6 = \"Rajesh Behera\""
   ]
  },
  {
   "cell_type": "code",
   "execution_count": 14,
   "id": "b2cd01a4",
   "metadata": {},
   "outputs": [
    {
     "name": "stdout",
     "output_type": "stream",
     "text": [
      "The number of vowels in the string is: 8\n"
     ]
    }
   ],
   "source": [
    "vowels = \"aeiou\"\n",
    "count = 0\n",
    "\n",
    "for char in s5:\n",
    "    if char.lower() not in vowels:\n",
    "        count += 1\n",
    "\n",
    "print(\"The number of vowels in the string is:\", count)"
   ]
  },
  {
   "cell_type": "markdown",
   "id": "4563ec38",
   "metadata": {},
   "source": [
    "7. Remove all whitespaces from a string."
   ]
  },
  {
   "cell_type": "code",
   "execution_count": 15,
   "id": "87fd78a0",
   "metadata": {},
   "outputs": [],
   "source": [
    "s7 = \"r a j e s h\""
   ]
  },
  {
   "cell_type": "code",
   "execution_count": 16,
   "id": "c36b6bd7",
   "metadata": {},
   "outputs": [
    {
     "data": {
      "text/plain": [
       "'r a j e s h'"
      ]
     },
     "execution_count": 16,
     "metadata": {},
     "output_type": "execute_result"
    }
   ],
   "source": [
    "s7"
   ]
  },
  {
   "cell_type": "code",
   "execution_count": 17,
   "id": "08aa53fd",
   "metadata": {},
   "outputs": [],
   "source": [
    "s7_new = s7.replace(\" \",\"\")"
   ]
  },
  {
   "cell_type": "code",
   "execution_count": 18,
   "id": "3b5d95a6",
   "metadata": {},
   "outputs": [
    {
     "data": {
      "text/plain": [
       "'rajesh'"
      ]
     },
     "execution_count": 18,
     "metadata": {},
     "output_type": "execute_result"
    }
   ],
   "source": [
    "s7_new"
   ]
  },
  {
   "cell_type": "markdown",
   "id": "01c12c62",
   "metadata": {},
   "source": [
    "8. Find the length of a string without using the `len()` function."
   ]
  },
  {
   "cell_type": "code",
   "execution_count": 19,
   "id": "357dad71",
   "metadata": {},
   "outputs": [
    {
     "data": {
      "text/plain": [
       "'rajesh'"
      ]
     },
     "execution_count": 19,
     "metadata": {},
     "output_type": "execute_result"
    }
   ],
   "source": [
    "s7_new"
   ]
  },
  {
   "cell_type": "code",
   "execution_count": 20,
   "id": "565c62d1",
   "metadata": {},
   "outputs": [],
   "source": [
    "s8 = len(s7_new)"
   ]
  },
  {
   "cell_type": "code",
   "execution_count": 21,
   "id": "e80a3d9e",
   "metadata": {},
   "outputs": [
    {
     "data": {
      "text/plain": [
       "6"
      ]
     },
     "execution_count": 21,
     "metadata": {},
     "output_type": "execute_result"
    }
   ],
   "source": [
    "s8"
   ]
  },
  {
   "cell_type": "markdown",
   "id": "836e1a9f",
   "metadata": {},
   "source": [
    "9. Check if a string contains a specific word."
   ]
  },
  {
   "cell_type": "code",
   "execution_count": 22,
   "id": "a2f99189",
   "metadata": {},
   "outputs": [],
   "source": [
    "s9 = \"Rajesh Kumar Behera\""
   ]
  },
  {
   "cell_type": "code",
   "execution_count": 23,
   "id": "bcf11435",
   "metadata": {},
   "outputs": [
    {
     "data": {
      "text/plain": [
       "'Rajesh Kumar Behera'"
      ]
     },
     "execution_count": 23,
     "metadata": {},
     "output_type": "execute_result"
    }
   ],
   "source": [
    "s9"
   ]
  },
  {
   "cell_type": "code",
   "execution_count": 24,
   "id": "2b49cf75",
   "metadata": {},
   "outputs": [],
   "source": [
    "my_word_to_search = \"Kumar\""
   ]
  },
  {
   "cell_type": "code",
   "execution_count": 25,
   "id": "b8dd9cd2",
   "metadata": {},
   "outputs": [
    {
     "data": {
      "text/plain": [
       "True"
      ]
     },
     "execution_count": 25,
     "metadata": {},
     "output_type": "execute_result"
    }
   ],
   "source": [
    "my_word_to_search in s9"
   ]
  },
  {
   "cell_type": "markdown",
   "id": "58d01cd8",
   "metadata": {},
   "source": [
    "10. Replace a word in a string with another word."
   ]
  },
  {
   "cell_type": "code",
   "execution_count": 26,
   "id": "21588468",
   "metadata": {},
   "outputs": [
    {
     "data": {
      "text/plain": [
       "'This is my word'"
      ]
     },
     "execution_count": 26,
     "metadata": {},
     "output_type": "execute_result"
    }
   ],
   "source": [
    "s10 = \"This is my word\"\n",
    "s10"
   ]
  },
  {
   "cell_type": "code",
   "execution_count": 28,
   "id": "01783f73",
   "metadata": {},
   "outputs": [
    {
     "data": {
      "text/plain": [
       "'This is my new_word'"
      ]
     },
     "execution_count": 28,
     "metadata": {},
     "output_type": "execute_result"
    }
   ],
   "source": [
    "s10 = s10.replace(\"word\",\"new_word\")\n",
    "s10"
   ]
  },
  {
   "cell_type": "code",
   "execution_count": 29,
   "id": "a96e3f1f",
   "metadata": {},
   "outputs": [
    {
     "data": {
      "text/plain": [
       "'This is my new_new_word'"
      ]
     },
     "execution_count": 29,
     "metadata": {},
     "output_type": "execute_result"
    }
   ],
   "source": [
    "s10 = s10.replace(\"word\",\"new_word\")\n",
    "s10"
   ]
  },
  {
   "cell_type": "markdown",
   "id": "fcfc0e41",
   "metadata": {},
   "source": [
    "11. Count the occurrences of a word in a string."
   ]
  },
  {
   "cell_type": "code",
   "execution_count": 30,
   "id": "a98aaeff",
   "metadata": {},
   "outputs": [],
   "source": [
    "s11 = \"data science pro\""
   ]
  },
  {
   "cell_type": "code",
   "execution_count": 33,
   "id": "0460b203",
   "metadata": {},
   "outputs": [
    {
     "data": {
      "text/plain": [
       "2"
      ]
     },
     "execution_count": 33,
     "metadata": {},
     "output_type": "execute_result"
    }
   ],
   "source": [
    "s11.count(\"a\")"
   ]
  },
  {
   "cell_type": "code",
   "execution_count": 34,
   "id": "02d35c81",
   "metadata": {},
   "outputs": [
    {
     "data": {
      "text/plain": [
       "2"
      ]
     },
     "execution_count": 34,
     "metadata": {},
     "output_type": "execute_result"
    }
   ],
   "source": [
    "s11.count(\"a\")"
   ]
  },
  {
   "cell_type": "markdown",
   "id": "4ec2c5fe",
   "metadata": {},
   "source": [
    "12. Find the first occurrence of a word in a string."
   ]
  },
  {
   "cell_type": "code",
   "execution_count": 35,
   "id": "354b57ca",
   "metadata": {},
   "outputs": [
    {
     "data": {
      "text/plain": [
       "'find the repeat word from a repeat sentence'"
      ]
     },
     "execution_count": 35,
     "metadata": {},
     "output_type": "execute_result"
    }
   ],
   "source": [
    "string = \"find the repeat word from a repeat sentence\"\n",
    "string"
   ]
  },
  {
   "cell_type": "code",
   "execution_count": 36,
   "id": "cc5c55b8",
   "metadata": {},
   "outputs": [],
   "source": [
    "occurance = string.find(\"repeat\")"
   ]
  },
  {
   "cell_type": "code",
   "execution_count": 37,
   "id": "7f37d398",
   "metadata": {},
   "outputs": [
    {
     "data": {
      "text/plain": [
       "9"
      ]
     },
     "execution_count": 37,
     "metadata": {},
     "output_type": "execute_result"
    }
   ],
   "source": [
    "occurance"
   ]
  },
  {
   "cell_type": "markdown",
   "id": "dea8326c",
   "metadata": {},
   "source": [
    "13. Find the last occurrence of a word in a string."
   ]
  },
  {
   "cell_type": "code",
   "execution_count": 38,
   "id": "9d74cf61",
   "metadata": {},
   "outputs": [],
   "source": [
    "string1 = \"hello world! hello Python! hello Tableau!\"\n",
    "word = \"hello\""
   ]
  },
  {
   "cell_type": "code",
   "execution_count": 39,
   "id": "f339dbf6",
   "metadata": {},
   "outputs": [],
   "source": [
    "index = string1.rfind(word)"
   ]
  },
  {
   "cell_type": "code",
   "execution_count": 40,
   "id": "3345d355",
   "metadata": {},
   "outputs": [
    {
     "name": "stdout",
     "output_type": "stream",
     "text": [
      "The last occurrence of the word is at index 27\n"
     ]
    }
   ],
   "source": [
    "print(\"The last occurrence of the word is at index\", index)"
   ]
  },
  {
   "cell_type": "markdown",
   "id": "04148404",
   "metadata": {},
   "source": [
    "14. Split a string into a list of words."
   ]
  },
  {
   "cell_type": "code",
   "execution_count": 41,
   "id": "c6b100fc",
   "metadata": {},
   "outputs": [],
   "source": [
    "ss = \"rajesh kumar behera\"\n",
    "ss1 = ss.split()"
   ]
  },
  {
   "cell_type": "code",
   "execution_count": 42,
   "id": "8c67c7e2",
   "metadata": {},
   "outputs": [
    {
     "data": {
      "text/plain": [
       "['rajesh', 'kumar', 'behera']"
      ]
     },
     "execution_count": 42,
     "metadata": {},
     "output_type": "execute_result"
    }
   ],
   "source": [
    "ss1"
   ]
  },
  {
   "cell_type": "markdown",
   "id": "7229ef58",
   "metadata": {},
   "source": [
    "15. Join a list of words into a string."
   ]
  },
  {
   "cell_type": "code",
   "execution_count": 43,
   "id": "d1342624",
   "metadata": {},
   "outputs": [],
   "source": [
    "words = ['rajesh', 'kumar', 'behera']"
   ]
  },
  {
   "cell_type": "code",
   "execution_count": 44,
   "id": "cebbedff",
   "metadata": {},
   "outputs": [
    {
     "data": {
      "text/plain": [
       "['rajesh', 'kumar', 'behera']"
      ]
     },
     "execution_count": 44,
     "metadata": {},
     "output_type": "execute_result"
    }
   ],
   "source": [
    "words"
   ]
  },
  {
   "cell_type": "code",
   "execution_count": 45,
   "id": "e52ff6da",
   "metadata": {},
   "outputs": [
    {
     "ename": "NameError",
     "evalue": "name 'join' is not defined",
     "output_type": "error",
     "traceback": [
      "\u001b[1;31m---------------------------------------------------------------------------\u001b[0m",
      "\u001b[1;31mNameError\u001b[0m                                 Traceback (most recent call last)",
      "Cell \u001b[1;32mIn[45], line 1\u001b[0m\n\u001b[1;32m----> 1\u001b[0m \u001b[43mjoin\u001b[49m(words)\n",
      "\u001b[1;31mNameError\u001b[0m: name 'join' is not defined"
     ]
    }
   ],
   "source": [
    "join(words)"
   ]
  },
  {
   "cell_type": "code",
   "execution_count": 46,
   "id": "25ce1194",
   "metadata": {},
   "outputs": [],
   "source": [
    "new = \" \" .join(words)"
   ]
  },
  {
   "cell_type": "code",
   "execution_count": 47,
   "id": "d27d2ed5",
   "metadata": {},
   "outputs": [
    {
     "data": {
      "text/plain": [
       "'rajesh kumar behera'"
      ]
     },
     "execution_count": 47,
     "metadata": {},
     "output_type": "execute_result"
    }
   ],
   "source": [
    "new"
   ]
  },
  {
   "cell_type": "markdown",
   "id": "e515e409",
   "metadata": {},
   "source": [
    "16. Convert a string where words are separated by spaces to one where words\n",
    "are separated by underscores."
   ]
  },
  {
   "cell_type": "code",
   "execution_count": 48,
   "id": "58bbac9c",
   "metadata": {},
   "outputs": [
    {
     "data": {
      "text/plain": [
       "'r a j e s h'"
      ]
     },
     "execution_count": 48,
     "metadata": {},
     "output_type": "execute_result"
    }
   ],
   "source": [
    "string11 = \"r a j e s h\"\n",
    "string11"
   ]
  },
  {
   "cell_type": "code",
   "execution_count": 49,
   "id": "b0f22fc0",
   "metadata": {},
   "outputs": [],
   "source": [
    "string12 = string11.replace(\" \", \n",
    "                            \"_\")"
   ]
  },
  {
   "cell_type": "code",
   "execution_count": 50,
   "id": "74b0846c",
   "metadata": {},
   "outputs": [
    {
     "data": {
      "text/plain": [
       "'r_a_j_e_s_h'"
      ]
     },
     "execution_count": 50,
     "metadata": {},
     "output_type": "execute_result"
    }
   ],
   "source": [
    "string12"
   ]
  },
  {
   "cell_type": "markdown",
   "id": "1c53a325",
   "metadata": {},
   "source": [
    "17. Check if a string starts with a specific word or phrase."
   ]
  },
  {
   "cell_type": "code",
   "execution_count": 51,
   "id": "61491994",
   "metadata": {},
   "outputs": [
    {
     "data": {
      "text/plain": [
       "'rajesh kumar behera'"
      ]
     },
     "execution_count": 51,
     "metadata": {},
     "output_type": "execute_result"
    }
   ],
   "source": [
    "new"
   ]
  },
  {
   "cell_type": "code",
   "execution_count": 52,
   "id": "82540ddc",
   "metadata": {},
   "outputs": [],
   "source": [
    "my_word = \"rajesh\""
   ]
  },
  {
   "cell_type": "code",
   "execution_count": 53,
   "id": "8419a021",
   "metadata": {},
   "outputs": [
    {
     "data": {
      "text/plain": [
       "True"
      ]
     },
     "execution_count": 53,
     "metadata": {},
     "output_type": "execute_result"
    }
   ],
   "source": [
    "new.startswith(my_word)"
   ]
  },
  {
   "cell_type": "markdown",
   "id": "a2ce3522",
   "metadata": {},
   "source": [
    "18. Check if a string ends with a specific word or phrase."
   ]
  },
  {
   "cell_type": "code",
   "execution_count": 54,
   "id": "5912054e",
   "metadata": {},
   "outputs": [
    {
     "data": {
      "text/plain": [
       "'rajesh kumar behera'"
      ]
     },
     "execution_count": 54,
     "metadata": {},
     "output_type": "execute_result"
    }
   ],
   "source": [
    "new"
   ]
  },
  {
   "cell_type": "code",
   "execution_count": 55,
   "id": "6edcc24a",
   "metadata": {},
   "outputs": [],
   "source": [
    "my_word1 = \"behera\""
   ]
  },
  {
   "cell_type": "code",
   "execution_count": 56,
   "id": "eab99aed",
   "metadata": {},
   "outputs": [
    {
     "data": {
      "text/plain": [
       "True"
      ]
     },
     "execution_count": 56,
     "metadata": {},
     "output_type": "execute_result"
    }
   ],
   "source": [
    "new.endswith(my_word1)"
   ]
  },
  {
   "cell_type": "markdown",
   "id": "f16e092a",
   "metadata": {},
   "source": [
    "19. Convert a string to title case (e.g., \"hello world\" to \"Hello World\")."
   ]
  },
  {
   "cell_type": "code",
   "execution_count": 57,
   "id": "de6cee27",
   "metadata": {},
   "outputs": [],
   "source": [
    "string1 = \"hello world\""
   ]
  },
  {
   "cell_type": "code",
   "execution_count": 58,
   "id": "29249018",
   "metadata": {},
   "outputs": [
    {
     "data": {
      "text/plain": [
       "'Hello World'"
      ]
     },
     "execution_count": 58,
     "metadata": {},
     "output_type": "execute_result"
    }
   ],
   "source": [
    "s22 = string1.title()\n",
    "s22"
   ]
  },
  {
   "cell_type": "markdown",
   "id": "3b7707c9",
   "metadata": {},
   "source": [
    "20. Find the longest word in a string."
   ]
  },
  {
   "cell_type": "code",
   "execution_count": 59,
   "id": "b5d3ac64",
   "metadata": {},
   "outputs": [
    {
     "data": {
      "text/plain": [
       "'hello world'"
      ]
     },
     "execution_count": 59,
     "metadata": {},
     "output_type": "execute_result"
    }
   ],
   "source": [
    "string1"
   ]
  },
  {
   "cell_type": "code",
   "execution_count": 60,
   "id": "e6a5dbb5",
   "metadata": {},
   "outputs": [],
   "source": [
    "string1 = \"Welcome to Python programming\""
   ]
  },
  {
   "cell_type": "code",
   "execution_count": 61,
   "id": "989cc916",
   "metadata": {},
   "outputs": [
    {
     "data": {
      "text/plain": [
       "'Welcome to Python programming'"
      ]
     },
     "execution_count": 61,
     "metadata": {},
     "output_type": "execute_result"
    }
   ],
   "source": [
    "string1"
   ]
  },
  {
   "cell_type": "code",
   "execution_count": 62,
   "id": "87ec6c9d",
   "metadata": {},
   "outputs": [],
   "source": [
    "split_string = string1.split()"
   ]
  },
  {
   "cell_type": "code",
   "execution_count": 63,
   "id": "2cbaf020",
   "metadata": {},
   "outputs": [
    {
     "data": {
      "text/plain": [
       "['Welcome', 'to', 'Python', 'programming']"
      ]
     },
     "execution_count": 63,
     "metadata": {},
     "output_type": "execute_result"
    }
   ],
   "source": [
    "split_string"
   ]
  },
  {
   "cell_type": "code",
   "execution_count": 64,
   "id": "e370824c",
   "metadata": {},
   "outputs": [],
   "source": [
    "longest_word = max(split_string, key = len)"
   ]
  },
  {
   "cell_type": "code",
   "execution_count": 65,
   "id": "061c2cf0",
   "metadata": {},
   "outputs": [
    {
     "data": {
      "text/plain": [
       "'programming'"
      ]
     },
     "execution_count": 65,
     "metadata": {},
     "output_type": "execute_result"
    }
   ],
   "source": [
    "longest_word"
   ]
  },
  {
   "cell_type": "markdown",
   "id": "c972571d",
   "metadata": {},
   "source": [
    "21. Find the shortest word in a string."
   ]
  },
  {
   "cell_type": "code",
   "execution_count": 66,
   "id": "7ffca717",
   "metadata": {},
   "outputs": [
    {
     "data": {
      "text/plain": [
       "'Welcome to Python programming'"
      ]
     },
     "execution_count": 66,
     "metadata": {},
     "output_type": "execute_result"
    }
   ],
   "source": [
    "string1"
   ]
  },
  {
   "cell_type": "code",
   "execution_count": 67,
   "id": "1fb2d4ce",
   "metadata": {},
   "outputs": [],
   "source": [
    "shortest_word = min(split_string, key = len)"
   ]
  },
  {
   "cell_type": "code",
   "execution_count": 68,
   "id": "9e7155ee",
   "metadata": {},
   "outputs": [
    {
     "data": {
      "text/plain": [
       "'to'"
      ]
     },
     "execution_count": 68,
     "metadata": {},
     "output_type": "execute_result"
    }
   ],
   "source": [
    "shortest_word"
   ]
  },
  {
   "cell_type": "markdown",
   "id": "47d2371b",
   "metadata": {},
   "source": [
    "22. Reverse the order of words in a string"
   ]
  },
  {
   "cell_type": "code",
   "execution_count": 69,
   "id": "b2349998",
   "metadata": {},
   "outputs": [],
   "source": [
    "s = \"sample string\""
   ]
  },
  {
   "cell_type": "code",
   "execution_count": 70,
   "id": "28840247",
   "metadata": {},
   "outputs": [
    {
     "data": {
      "text/plain": [
       "'sample string'"
      ]
     },
     "execution_count": 70,
     "metadata": {},
     "output_type": "execute_result"
    }
   ],
   "source": [
    "s"
   ]
  },
  {
   "cell_type": "code",
   "execution_count": 71,
   "id": "325028fa",
   "metadata": {},
   "outputs": [],
   "source": [
    "reversed_word = s.split()"
   ]
  },
  {
   "cell_type": "code",
   "execution_count": 72,
   "id": "3fb5f9a6",
   "metadata": {},
   "outputs": [
    {
     "data": {
      "text/plain": [
       "['sample', 'string']"
      ]
     },
     "execution_count": 72,
     "metadata": {},
     "output_type": "execute_result"
    }
   ],
   "source": [
    "reversed_word"
   ]
  },
  {
   "cell_type": "code",
   "execution_count": 73,
   "id": "9106aaff",
   "metadata": {},
   "outputs": [],
   "source": [
    "reversed_word1 = reversed_word[::-1]"
   ]
  },
  {
   "cell_type": "code",
   "execution_count": 74,
   "id": "15ab4ad6",
   "metadata": {},
   "outputs": [
    {
     "data": {
      "text/plain": [
       "['string', 'sample']"
      ]
     },
     "execution_count": 74,
     "metadata": {},
     "output_type": "execute_result"
    }
   ],
   "source": [
    "reversed_word1"
   ]
  },
  {
   "cell_type": "markdown",
   "id": "54858ae4",
   "metadata": {},
   "source": [
    "23. Check if a string is alphanumeric."
   ]
  },
  {
   "cell_type": "code",
   "execution_count": 75,
   "id": "c5ab1f6a",
   "metadata": {},
   "outputs": [
    {
     "data": {
      "text/plain": [
       "'sample string'"
      ]
     },
     "execution_count": 75,
     "metadata": {},
     "output_type": "execute_result"
    }
   ],
   "source": [
    "s"
   ]
  },
  {
   "cell_type": "code",
   "execution_count": 76,
   "id": "b08d0f1e",
   "metadata": {},
   "outputs": [
    {
     "data": {
      "text/plain": [
       "False"
      ]
     },
     "execution_count": 76,
     "metadata": {},
     "output_type": "execute_result"
    }
   ],
   "source": [
    "s.isalnum()"
   ]
  },
  {
   "cell_type": "markdown",
   "id": "b5ac834c",
   "metadata": {},
   "source": [
    "24. Extract all digits from a string."
   ]
  },
  {
   "cell_type": "code",
   "execution_count": 77,
   "id": "e40e89d4",
   "metadata": {},
   "outputs": [],
   "source": [
    "string = \"Rajesh 129876 Behera\""
   ]
  },
  {
   "cell_type": "raw",
   "id": "ce452a4a",
   "metadata": {},
   "source": []
  },
  {
   "cell_type": "code",
   "execution_count": 78,
   "id": "673636d1",
   "metadata": {},
   "outputs": [
    {
     "data": {
      "text/plain": [
       "'Rajesh 129876 Behera'"
      ]
     },
     "execution_count": 78,
     "metadata": {},
     "output_type": "execute_result"
    }
   ],
   "source": [
    "string"
   ]
  },
  {
   "cell_type": "code",
   "execution_count": 79,
   "id": "24595173",
   "metadata": {},
   "outputs": [],
   "source": [
    "digits =[]"
   ]
  },
  {
   "cell_type": "code",
   "execution_count": 80,
   "id": "80e41063",
   "metadata": {},
   "outputs": [
    {
     "name": "stdout",
     "output_type": "stream",
     "text": [
      "The digits in the string are: ['1', '2', '9', '8', '7', '6']\n"
     ]
    }
   ],
   "source": [
    "for char in string:\n",
    "    if char.isdigit():\n",
    "        digits.append(char)\n",
    "print(\"The digits in the string are:\", digits)"
   ]
  },
  {
   "cell_type": "markdown",
   "id": "214dede5",
   "metadata": {},
   "source": [
    "25. Extract all alphabets from a string."
   ]
  },
  {
   "cell_type": "code",
   "execution_count": 81,
   "id": "b6ab29a8",
   "metadata": {},
   "outputs": [
    {
     "data": {
      "text/plain": [
       "'Rajesh 129876 Behera'"
      ]
     },
     "execution_count": 81,
     "metadata": {},
     "output_type": "execute_result"
    }
   ],
   "source": [
    "string"
   ]
  },
  {
   "cell_type": "code",
   "execution_count": 82,
   "id": "35a050ed",
   "metadata": {},
   "outputs": [],
   "source": [
    "alphabet = []"
   ]
  },
  {
   "cell_type": "code",
   "execution_count": 83,
   "id": "2c8b297d",
   "metadata": {},
   "outputs": [
    {
     "name": "stdout",
     "output_type": "stream",
     "text": [
      "The alphabets in the string are: ['R', 'a', 'j', 'e', 's', 'h', 'B', 'e', 'h', 'e', 'r', 'a']\n"
     ]
    }
   ],
   "source": [
    "for char in string:\n",
    "    if char.isalpha():\n",
    "        alphabet.append(char)\n",
    "print(\"The alphabets in the string are:\", alphabet)"
   ]
  },
  {
   "cell_type": "markdown",
   "id": "921f7a16",
   "metadata": {},
   "source": [
    "26. Count the number of uppercase letters in a string."
   ]
  },
  {
   "cell_type": "code",
   "execution_count": 84,
   "id": "d2fef4e3",
   "metadata": {},
   "outputs": [
    {
     "data": {
      "text/plain": [
       "'Rajesh 129876 Behera'"
      ]
     },
     "execution_count": 84,
     "metadata": {},
     "output_type": "execute_result"
    }
   ],
   "source": [
    "string"
   ]
  },
  {
   "cell_type": "code",
   "execution_count": 85,
   "id": "66f1422e",
   "metadata": {},
   "outputs": [],
   "source": [
    "count = 0"
   ]
  },
  {
   "cell_type": "code",
   "execution_count": 86,
   "id": "b0f360d4",
   "metadata": {},
   "outputs": [
    {
     "name": "stdout",
     "output_type": "stream",
     "text": [
      "The number of uppercase letters is: 2\n"
     ]
    }
   ],
   "source": [
    "for char in string:\n",
    "    if char.isupper():\n",
    "        count += 1\n",
    "print(\"The number of uppercase letters is:\", count)"
   ]
  },
  {
   "cell_type": "markdown",
   "id": "089b34ee",
   "metadata": {},
   "source": [
    "27. Count the number of lowercase letters in a string."
   ]
  },
  {
   "cell_type": "code",
   "execution_count": 87,
   "id": "56f98a01",
   "metadata": {},
   "outputs": [],
   "source": [
    "newcount = 0"
   ]
  },
  {
   "cell_type": "code",
   "execution_count": 88,
   "id": "69cde2ff",
   "metadata": {},
   "outputs": [
    {
     "name": "stdout",
     "output_type": "stream",
     "text": [
      "The number of uppercase letters is: 10\n"
     ]
    }
   ],
   "source": [
    "for char in string:\n",
    "    if char.islower():\n",
    "        newcount += 1\n",
    "print(\"The number of uppercase letters is:\", newcount)"
   ]
  },
  {
   "cell_type": "markdown",
   "id": "bca2c89e",
   "metadata": {},
   "source": [
    "28. Swap the case of each character in a string."
   ]
  },
  {
   "cell_type": "markdown",
   "id": "641ee27a",
   "metadata": {},
   "source": [
    "29. Remove a specific word from a string."
   ]
  },
  {
   "cell_type": "code",
   "execution_count": 89,
   "id": "9ecfde6b",
   "metadata": {},
   "outputs": [
    {
     "data": {
      "text/plain": [
       "'Rajesh 129876 Behera'"
      ]
     },
     "execution_count": 89,
     "metadata": {},
     "output_type": "execute_result"
    }
   ],
   "source": [
    "string"
   ]
  },
  {
   "cell_type": "code",
   "execution_count": 90,
   "id": "d78afacc",
   "metadata": {},
   "outputs": [],
   "source": [
    "word_to_remove = \"Behera\""
   ]
  },
  {
   "cell_type": "code",
   "execution_count": 91,
   "id": "aba838f7",
   "metadata": {},
   "outputs": [],
   "source": [
    "new_string = string.replace(word_to_remove, \"\", 1)"
   ]
  },
  {
   "cell_type": "code",
   "execution_count": 92,
   "id": "43d715b0",
   "metadata": {},
   "outputs": [
    {
     "data": {
      "text/plain": [
       "'Rajesh 129876 '"
      ]
     },
     "execution_count": 92,
     "metadata": {},
     "output_type": "execute_result"
    }
   ],
   "source": [
    "new_string"
   ]
  },
  {
   "cell_type": "markdown",
   "id": "3325b40f",
   "metadata": {},
   "source": [
    "30. Check if a string is a valid email address."
   ]
  },
  {
   "cell_type": "code",
   "execution_count": 93,
   "id": "f3ab355f",
   "metadata": {},
   "outputs": [],
   "source": [
    "email = \"imrajeshbehera@gmail.com\""
   ]
  },
  {
   "cell_type": "code",
   "execution_count": null,
   "id": "9496ad29",
   "metadata": {},
   "outputs": [],
   "source": [
    "\n"
   ]
  },
  {
   "cell_type": "markdown",
   "id": "86030500",
   "metadata": {},
   "source": [
    "31. Extract the username from an email address string."
   ]
  },
  {
   "cell_type": "code",
   "execution_count": 94,
   "id": "a025e19a",
   "metadata": {},
   "outputs": [
    {
     "data": {
      "text/plain": [
       "'imrajeshbehera@gmail.com'"
      ]
     },
     "execution_count": 94,
     "metadata": {},
     "output_type": "execute_result"
    }
   ],
   "source": [
    "email"
   ]
  },
  {
   "cell_type": "code",
   "execution_count": 95,
   "id": "b04bd466",
   "metadata": {},
   "outputs": [],
   "source": [
    "username = email.split(\"@\")[0]"
   ]
  },
  {
   "cell_type": "code",
   "execution_count": 96,
   "id": "5c73b199",
   "metadata": {},
   "outputs": [
    {
     "data": {
      "text/plain": [
       "'imrajeshbehera'"
      ]
     },
     "execution_count": 96,
     "metadata": {},
     "output_type": "execute_result"
    }
   ],
   "source": [
    "username"
   ]
  },
  {
   "cell_type": "markdown",
   "id": "633324d1",
   "metadata": {},
   "source": [
    "32. Extract the domain name from an email address string."
   ]
  },
  {
   "cell_type": "code",
   "execution_count": 97,
   "id": "c38d3acb",
   "metadata": {},
   "outputs": [
    {
     "data": {
      "text/plain": [
       "'imrajeshbehera@gmail.com'"
      ]
     },
     "execution_count": 97,
     "metadata": {},
     "output_type": "execute_result"
    }
   ],
   "source": [
    "email"
   ]
  },
  {
   "cell_type": "code",
   "execution_count": 98,
   "id": "2d0c66b6",
   "metadata": {},
   "outputs": [],
   "source": [
    "domain = email.split(\"@\")[1]"
   ]
  },
  {
   "cell_type": "code",
   "execution_count": 99,
   "id": "7bf2eaff",
   "metadata": {},
   "outputs": [
    {
     "data": {
      "text/plain": [
       "'gmail.com'"
      ]
     },
     "execution_count": 99,
     "metadata": {},
     "output_type": "execute_result"
    }
   ],
   "source": [
    "domain"
   ]
  },
  {
   "cell_type": "markdown",
   "id": "46035a13",
   "metadata": {},
   "source": [
    "33. Replace multiple spaces in a string with a single space."
   ]
  },
  {
   "cell_type": "code",
   "execution_count": 106,
   "id": "18cea23f",
   "metadata": {},
   "outputs": [],
   "source": [
    "str = \"Replace  multiple  spaces     in    a  string with    a  single   space.\""
   ]
  },
  {
   "cell_type": "code",
   "execution_count": 107,
   "id": "71378e70",
   "metadata": {},
   "outputs": [
    {
     "data": {
      "text/plain": [
       "'Replace  multiple  spaces     in    a  string with    a  single   space.'"
      ]
     },
     "execution_count": 107,
     "metadata": {},
     "output_type": "execute_result"
    }
   ],
   "source": [
    "str"
   ]
  },
  {
   "cell_type": "code",
   "execution_count": 108,
   "id": "d7d58ae7",
   "metadata": {},
   "outputs": [],
   "source": [
    "new_str = \" \".join(str.split())"
   ]
  },
  {
   "cell_type": "code",
   "execution_count": 109,
   "id": "76ed68e4",
   "metadata": {},
   "outputs": [
    {
     "data": {
      "text/plain": [
       "'Replace multiple spaces in a string with a single space.'"
      ]
     },
     "execution_count": 109,
     "metadata": {},
     "output_type": "execute_result"
    }
   ],
   "source": [
    "new_str"
   ]
  },
  {
   "cell_type": "markdown",
   "id": "2257c848",
   "metadata": {},
   "source": [
    "34. Check if a string is a valid URL."
   ]
  },
  {
   "cell_type": "markdown",
   "id": "53d802d8",
   "metadata": {},
   "source": [
    "35. Extract the protocol (http or https) from a URL string."
   ]
  },
  {
   "cell_type": "code",
   "execution_count": 113,
   "id": "6a6493a8",
   "metadata": {},
   "outputs": [],
   "source": [
    "import re"
   ]
  },
  {
   "cell_type": "code",
   "execution_count": 114,
   "id": "fefca7f3",
   "metadata": {},
   "outputs": [
    {
     "name": "stdout",
     "output_type": "stream",
     "text": [
      "https\n"
     ]
    }
   ],
   "source": [
    "url = \"https://www.google.com\"\n",
    "protocol = re.match(r\"(https?)://\", url).group(1)\n",
    "print(protocol)"
   ]
  },
  {
   "cell_type": "markdown",
   "id": "7dc6dad2",
   "metadata": {},
   "source": [
    "36. Find the frequency of each character in a string."
   ]
  },
  {
   "cell_type": "code",
   "execution_count": 115,
   "id": "5159b556",
   "metadata": {},
   "outputs": [],
   "source": [
    "my_string = \"This is a string\""
   ]
  },
  {
   "cell_type": "code",
   "execution_count": 116,
   "id": "a9b89da7",
   "metadata": {},
   "outputs": [],
   "source": [
    "frequency = {}"
   ]
  },
  {
   "cell_type": "code",
   "execution_count": 117,
   "id": "106cd95b",
   "metadata": {},
   "outputs": [],
   "source": [
    "for char in my_string:\n",
    "    if char in frequency:\n",
    "        frequency[char] += 1\n",
    "    else:\n",
    "        frequency[char] = 1"
   ]
  },
  {
   "cell_type": "code",
   "execution_count": 118,
   "id": "16c7c2cb",
   "metadata": {},
   "outputs": [
    {
     "name": "stdout",
     "output_type": "stream",
     "text": [
      "{'T': 1, 'h': 1, 'i': 3, 's': 3, ' ': 3, 'a': 1, 't': 1, 'r': 1, 'n': 1, 'g': 1}\n"
     ]
    }
   ],
   "source": [
    "print(frequency)"
   ]
  },
  {
   "cell_type": "markdown",
   "id": "0b2d7901",
   "metadata": {},
   "source": [
    "37. Remove all punctuation from a string."
   ]
  },
  {
   "cell_type": "code",
   "execution_count": 119,
   "id": "f27218f8",
   "metadata": {},
   "outputs": [],
   "source": [
    "import string"
   ]
  },
  {
   "cell_type": "code",
   "execution_count": 122,
   "id": "84fdd30a",
   "metadata": {},
   "outputs": [],
   "source": [
    "\n",
    "my_string = \"Rajesh! Kumar@ behera#\""
   ]
  },
  {
   "cell_type": "code",
   "execution_count": 123,
   "id": "b39ed511",
   "metadata": {},
   "outputs": [
    {
     "name": "stdout",
     "output_type": "stream",
     "text": [
      "Rajesh Kumar behera\n"
     ]
    }
   ],
   "source": [
    "no_punct_string = my_string.translate(str.maketrans(\"\", \"\", string.punctuation))\n",
    "\n",
    "print(no_punct_string)"
   ]
  },
  {
   "cell_type": "markdown",
   "id": "60ba0798",
   "metadata": {},
   "source": [
    "38. Check if a string contains only digits."
   ]
  },
  {
   "cell_type": "code",
   "execution_count": 128,
   "id": "f651e654",
   "metadata": {},
   "outputs": [],
   "source": [
    "my_string = \"12345\""
   ]
  },
  {
   "cell_type": "code",
   "execution_count": 129,
   "id": "238ef2d5",
   "metadata": {},
   "outputs": [
    {
     "name": "stdout",
     "output_type": "stream",
     "text": [
      "The string contains only digits\n"
     ]
    }
   ],
   "source": [
    "if my_string.isdigit():\n",
    "    print(\"The string contains only digits\")\n",
    "else:\n",
    "    print(\"The string contains non-digit characters\")"
   ]
  },
  {
   "cell_type": "markdown",
   "id": "d1f7b167",
   "metadata": {},
   "source": [
    "39. Check if a string contains only alphabets"
   ]
  },
  {
   "cell_type": "code",
   "execution_count": 132,
   "id": "bbe1be76",
   "metadata": {},
   "outputs": [],
   "source": [
    "my_string = \"Fullstackdata\""
   ]
  },
  {
   "cell_type": "code",
   "execution_count": 133,
   "id": "f2cf95b5",
   "metadata": {},
   "outputs": [
    {
     "name": "stdout",
     "output_type": "stream",
     "text": [
      "The string contains only alphabets\n"
     ]
    }
   ],
   "source": [
    "if my_string.isalpha():\n",
    "    print(\"The string contains only alphabets\")\n",
    "else:\n",
    "    print(\"The string contains non-alphabetic characters\")"
   ]
  },
  {
   "cell_type": "markdown",
   "id": "986c9679",
   "metadata": {},
   "source": [
    "40. Convert a string to a list of characters."
   ]
  },
  {
   "cell_type": "code",
   "execution_count": 134,
   "id": "fd9228f5",
   "metadata": {},
   "outputs": [],
   "source": [
    "str1 = \"convert a string\""
   ]
  },
  {
   "cell_type": "code",
   "execution_count": 135,
   "id": "2d3eccda",
   "metadata": {},
   "outputs": [],
   "source": [
    "new_str1 = list(str1)"
   ]
  },
  {
   "cell_type": "markdown",
   "id": "c47c5ba0",
   "metadata": {},
   "source": [
    "41. Check if two strings are anagrams."
   ]
  },
  {
   "cell_type": "code",
   "execution_count": 136,
   "id": "622f2b80",
   "metadata": {},
   "outputs": [
    {
     "name": "stdout",
     "output_type": "stream",
     "text": [
      "The strings are not anagrams\n"
     ]
    }
   ],
   "source": [
    "string1 = \"mystring\"\n",
    "string2 = \"rajesh\"\n",
    "\n",
    "if sorted(string1) == sorted(string2):\n",
    "    print(\"The strings are anagrams\")\n",
    "else:\n",
    "    print(\"The strings are not anagrams\")"
   ]
  },
  {
   "cell_type": "markdown",
   "id": "c2a049c6",
   "metadata": {},
   "source": [
    "42. Encode a string using a Caesar cipher."
   ]
  },
  {
   "cell_type": "code",
   "execution_count": 145,
   "id": "5881341a",
   "metadata": {},
   "outputs": [
    {
     "name": "stdout",
     "output_type": "stream",
     "text": [
      "Khoor, Zruog!\n"
     ]
    }
   ],
   "source": [
    "def caesar_cipher_encode(text, shift):\n",
    "    encoded_text = \"\"\n",
    "    for char in text:\n",
    "        if char.isalpha():  # Check if the character is alphabetic.\n",
    "            shift_amount = shift % 26  # Ensure the shift is within the alphabet range.\n",
    "            if char.islower():\n",
    "                encoded_char = chr(((ord(char) - ord('a') + shift_amount) % 26) + ord('a'))\n",
    "            else:\n",
    "                encoded_char = chr(((ord(char) - ord('A') + shift_amount) % 26) + ord('A'))\n",
    "        else:\n",
    "            encoded_char = char  # If it's not alphabetic, leave it unchanged.\n",
    "        encoded_text += encoded_char\n",
    "    return encoded_text\n",
    "\n",
    "# Example usage:\n",
    "text_to_encode = \"Hello, World!\"\n",
    "shift_amount = 3\n",
    "encoded_text = caesar_cipher_encode(text_to_encode, shift_amount)\n",
    "print(encoded_text)  # This will print: \"Khoor, Zruog!\""
   ]
  },
  {
   "cell_type": "markdown",
   "id": "9fd373e7",
   "metadata": {},
   "source": [
    "43. Decode a Caesar cipher encoded string."
   ]
  },
  {
   "cell_type": "code",
   "execution_count": 146,
   "id": "6debdfaf",
   "metadata": {},
   "outputs": [
    {
     "name": "stdout",
     "output_type": "stream",
     "text": [
      "Hello, World!\n"
     ]
    }
   ],
   "source": [
    "def caesar_cipher_decode(encoded_text, shift):\n",
    "    decoded_text = \"\"\n",
    "    for char in encoded_text:\n",
    "        if char.isalpha():\n",
    "            shift_amount = shift % 26\n",
    "            if char.islower():\n",
    "                decoded_char = chr(((ord(char) - ord('a') - shift_amount) % 26) + ord('a'))\n",
    "            else:\n",
    "                decoded_char = chr(((ord(char) - ord('A') - shift_amount) % 26) + ord('A'))\n",
    "        else:\n",
    "            decoded_char = char\n",
    "        decoded_text += decoded_char\n",
    "    return decoded_text\n",
    "\n",
    "# Example usage:\n",
    "encoded_text_to_decode = \"Khoor, Zruog!\"\n",
    "shift_amount = 3\n",
    "decoded_text = caesar_cipher_decode(encoded_text_to_decode, shift_amount)\n",
    "print(decoded_text)  # This will print: \"Hello, World!\""
   ]
  },
  {
   "cell_type": "markdown",
   "id": "9e4e1d77",
   "metadata": {},
   "source": [
    "44. Find the most frequent word in a string."
   ]
  },
  {
   "cell_type": "code",
   "execution_count": 141,
   "id": "0b5acf6f",
   "metadata": {},
   "outputs": [
    {
     "name": "stdout",
     "output_type": "stream",
     "text": [
      "is\n"
     ]
    }
   ],
   "source": [
    "from collections import Counter\n",
    "\n",
    "my_string = \"This is is a string with some repeated words.\"\n",
    "word_list = my_string.split()\n",
    "word_count = Counter(word_list)\n",
    "most_common_word = word_count.most_common(1)[0][0]\n",
    "\n",
    "print(most_common_word)"
   ]
  },
  {
   "cell_type": "markdown",
   "id": "40587cf6",
   "metadata": {},
   "source": [
    "45. Find all unique words in a string."
   ]
  },
  {
   "cell_type": "code",
   "execution_count": 142,
   "id": "2964fc19",
   "metadata": {},
   "outputs": [
    {
     "data": {
      "text/plain": [
       "'This is is a string with some repeated words.'"
      ]
     },
     "execution_count": 142,
     "metadata": {},
     "output_type": "execute_result"
    }
   ],
   "source": [
    "my_string"
   ]
  },
  {
   "cell_type": "code",
   "execution_count": 143,
   "id": "6e59cc58",
   "metadata": {},
   "outputs": [],
   "source": [
    "word_list = my_string.split()\n",
    "unique_words = set(word_list)"
   ]
  },
  {
   "cell_type": "code",
   "execution_count": 144,
   "id": "a361f15a",
   "metadata": {},
   "outputs": [
    {
     "name": "stdout",
     "output_type": "stream",
     "text": [
      "{'string', 'with', 'some', 'a', 'is', 'This', 'words.', 'repeated'}\n"
     ]
    }
   ],
   "source": [
    "print(unique_words)"
   ]
  },
  {
   "cell_type": "markdown",
   "id": "20cbc502",
   "metadata": {},
   "source": [
    "46. Count the number of syllables in a string"
   ]
  },
  {
   "cell_type": "code",
   "execution_count": null,
   "id": "40731e9f",
   "metadata": {},
   "outputs": [],
   "source": []
  },
  {
   "cell_type": "markdown",
   "id": "e297ea12",
   "metadata": {},
   "source": [
    "47. Check if a string contains any special characters."
   ]
  },
  {
   "cell_type": "code",
   "execution_count": 148,
   "id": "605bab51",
   "metadata": {},
   "outputs": [
    {
     "name": "stdout",
     "output_type": "stream",
     "text": [
      "The string contains special characters\n"
     ]
    }
   ],
   "source": [
    "import re\n",
    "\n",
    "my_string = \"Hello, World!\"\n",
    "if re.search('[^A-Za-z0-9]+', my_string):\n",
    "    print(\"The string contains special characters\")\n",
    "else:\n",
    "    print(\"The string does not contain special characters\")"
   ]
  },
  {
   "cell_type": "markdown",
   "id": "5b388d11",
   "metadata": {},
   "source": [
    "48. Remove the nth word from a string."
   ]
  },
  {
   "cell_type": "code",
   "execution_count": 150,
   "id": "dabe70b8",
   "metadata": {},
   "outputs": [
    {
     "name": "stdout",
     "output_type": "stream",
     "text": [
      "This is a\n"
     ]
    }
   ],
   "source": [
    "def remove_nth_word(string, n):\n",
    "    words = string.split()\n",
    "    words.pop(n-1)\n",
    "    return \" \".join(words)\n",
    "\n",
    "my_string = \"This is a string.\"\n",
    "n = 4\n",
    "new_string = remove_nth_word(my_string, n)\n",
    "\n",
    "print(new_string)"
   ]
  },
  {
   "cell_type": "markdown",
   "id": "7a4facbf",
   "metadata": {},
   "source": [
    "49. Insert a word at the nth position in a string."
   ]
  },
  {
   "cell_type": "code",
   "execution_count": 151,
   "id": "bb3fa0c3",
   "metadata": {},
   "outputs": [
    {
     "name": "stdout",
     "output_type": "stream",
     "text": [
      "This is new a string with some words.\n"
     ]
    }
   ],
   "source": [
    "def insert_word(string, word, n):\n",
    "    words = string.split()\n",
    "    words.insert(n-1, word)\n",
    "    return \" \".join(words)\n",
    "\n",
    "my_string = \"This is a string with some words.\"\n",
    "word = \"new\"\n",
    "n = 3\n",
    "new_string = insert_word(my_string, word, n)\n",
    "\n",
    "print(new_string)"
   ]
  },
  {
   "cell_type": "markdown",
   "id": "baafdf33",
   "metadata": {},
   "source": [
    "50. Convert a CSV string to a list of lists."
   ]
  },
  {
   "cell_type": "code",
   "execution_count": 152,
   "id": "9e47de1f",
   "metadata": {},
   "outputs": [
    {
     "name": "stdout",
     "output_type": "stream",
     "text": [
      "[['1', '2', '3'], ['4', '5', '6'], ['7', '8', '9']]\n"
     ]
    }
   ],
   "source": [
    "import csv\n",
    "\n",
    "csv_string = \"1,2,3\\n4,5,6\\n7,8,9\"\n",
    "csv_list = list(csv.reader(csv_string.splitlines()))\n",
    "\n",
    "print(csv_list)"
   ]
  },
  {
   "cell_type": "markdown",
   "id": "181e9733",
   "metadata": {},
   "source": []
  },
  {
   "cell_type": "markdown",
   "id": "3ec10106",
   "metadata": {},
   "source": [
    "# List Based Practice Problem :"
   ]
  },
  {
   "cell_type": "code",
   "execution_count": null,
   "id": "906ef62f",
   "metadata": {},
   "outputs": [],
   "source": []
  },
  {
   "cell_type": "code",
   "execution_count": 153,
   "id": "3f824c38",
   "metadata": {},
   "outputs": [],
   "source": [
    "#1. Create a list with integers from 1 to 10."
   ]
  },
  {
   "cell_type": "code",
   "execution_count": 154,
   "id": "ed6ff24a",
   "metadata": {},
   "outputs": [
    {
     "name": "stdout",
     "output_type": "stream",
     "text": [
      "[1, 2, 3, 4, 5, 6, 7, 8, 9, 10]\n"
     ]
    }
   ],
   "source": [
    "my_list = list(range(1, 11))\n",
    "print(my_list)"
   ]
  },
  {
   "cell_type": "markdown",
   "id": "8a0ab64d",
   "metadata": {},
   "source": [
    "2. Find the length of a list without using the `len()` function."
   ]
  },
  {
   "cell_type": "code",
   "execution_count": 155,
   "id": "2a913e2a",
   "metadata": {},
   "outputs": [],
   "source": [
    "my_list1 = [1, 2, 3, 4, 5]"
   ]
  },
  {
   "cell_type": "code",
   "execution_count": 156,
   "id": "9db072c2",
   "metadata": {},
   "outputs": [
    {
     "data": {
      "text/plain": [
       "5"
      ]
     },
     "execution_count": 156,
     "metadata": {},
     "output_type": "execute_result"
    }
   ],
   "source": [
    "count = 0\n",
    "for element in my_list1:\n",
    "    count += 1\n",
    "count"
   ]
  },
  {
   "cell_type": "markdown",
   "id": "0fbff02f",
   "metadata": {},
   "source": [
    "3. Append an element to the end of a list."
   ]
  },
  {
   "cell_type": "code",
   "execution_count": 157,
   "id": "8ccd086d",
   "metadata": {},
   "outputs": [
    {
     "data": {
      "text/plain": [
       "[1, 2, 3, 4, 5, 6, 7, 8, 9, 10]"
      ]
     },
     "execution_count": 157,
     "metadata": {},
     "output_type": "execute_result"
    }
   ],
   "source": [
    "my_list"
   ]
  },
  {
   "cell_type": "code",
   "execution_count": 158,
   "id": "da6964bd",
   "metadata": {},
   "outputs": [],
   "source": [
    "my_list.append(11)"
   ]
  },
  {
   "cell_type": "code",
   "execution_count": 159,
   "id": "0520dc69",
   "metadata": {},
   "outputs": [
    {
     "data": {
      "text/plain": [
       "[1, 2, 3, 4, 5, 6, 7, 8, 9, 10, 11]"
      ]
     },
     "execution_count": 159,
     "metadata": {},
     "output_type": "execute_result"
    }
   ],
   "source": [
    "my_list"
   ]
  },
  {
   "cell_type": "markdown",
   "id": "9e6452b9",
   "metadata": {},
   "source": [
    "4. Insert an element at a specific index in a list."
   ]
  },
  {
   "cell_type": "code",
   "execution_count": 160,
   "id": "b8beb0d2",
   "metadata": {},
   "outputs": [
    {
     "data": {
      "text/plain": [
       "[1, 2, 6, 3, 4, 5]"
      ]
     },
     "execution_count": 160,
     "metadata": {},
     "output_type": "execute_result"
    }
   ],
   "source": [
    "my_list = [1, 2, 3, 4, 5]\n",
    "my_list.insert(2, 6)\n",
    "my_list"
   ]
  },
  {
   "cell_type": "markdown",
   "id": "b3aa6da8",
   "metadata": {},
   "source": [
    "5. Remove an element from a list by its value."
   ]
  },
  {
   "cell_type": "code",
   "execution_count": 164,
   "id": "58b56f23",
   "metadata": {},
   "outputs": [
    {
     "name": "stdout",
     "output_type": "stream",
     "text": [
      "[1, 2, 4, 5]\n"
     ]
    }
   ],
   "source": [
    "my_list = [1, 2, 3, 4, 5]\n",
    "value = 3\n",
    "my_list.remove(value)\n",
    "\n",
    "print(my_list)\n",
    "# Here remove()method is used to remove the element with the value 3 from the list."
   ]
  },
  {
   "cell_type": "markdown",
   "id": "259ddbf3",
   "metadata": {},
   "source": [
    "6. Remove an element from a list by its index."
   ]
  },
  {
   "cell_type": "code",
   "execution_count": 165,
   "id": "9915d6c3",
   "metadata": {},
   "outputs": [
    {
     "name": "stdout",
     "output_type": "stream",
     "text": [
      "[1, 2, 4, 5]\n"
     ]
    }
   ],
   "source": [
    "my_list = [1, 2, 3, 4, 5]\n",
    "index = 2\n",
    "my_list.pop(index)\n",
    "\n",
    "print(my_list)\n",
    "# pop() method is used to remove the element at index 2 from the list.\n"
   ]
  },
  {
   "cell_type": "markdown",
   "id": "fad54f8d",
   "metadata": {},
   "source": [
    "7. Check if an element exists in a list."
   ]
  },
  {
   "cell_type": "code",
   "execution_count": 166,
   "id": "cbc7bc97",
   "metadata": {},
   "outputs": [
    {
     "name": "stdout",
     "output_type": "stream",
     "text": [
      "The element exists in the list\n"
     ]
    }
   ],
   "source": [
    "my_list = [1, 2, 3, 4, 5]\n",
    "element = 3\n",
    "if element in my_list:\n",
    "    print(\"The element exists in the list\")\n",
    "else:\n",
    "    print(\"The element does not exist in the list\")\n",
    "\n",
    "# in this code, in operator is used to check if the element with value 3 exists in the list."
   ]
  },
  {
   "cell_type": "markdown",
   "id": "0ebc5e4b",
   "metadata": {},
   "source": [
    "8. Find the index of the first occurrence of an element in a list."
   ]
  },
  {
   "cell_type": "code",
   "execution_count": 167,
   "id": "834eaeed",
   "metadata": {},
   "outputs": [
    {
     "name": "stdout",
     "output_type": "stream",
     "text": [
      "2\n"
     ]
    }
   ],
   "source": [
    "my_list = [1, 2, 3, 4, 5]\n",
    "element = 3\n",
    "index = my_list.index(element)\n",
    "\n",
    "print(index)\n",
    "\n",
    "#In the above code, index() method is used to get the index of the first occurrence of the element with value 3 in the list."
   ]
  },
  {
   "cell_type": "markdown",
   "id": "b26c156c",
   "metadata": {},
   "source": [
    "9. Count the occurrences of an element in a list."
   ]
  },
  {
   "cell_type": "code",
   "execution_count": 168,
   "id": "87a5fe9e",
   "metadata": {},
   "outputs": [
    {
     "name": "stdout",
     "output_type": "stream",
     "text": [
      "2\n"
     ]
    }
   ],
   "source": [
    "my_list = [1, 2, 3, 4, 5, 3]\n",
    "element = 3\n",
    "count = my_list.count(element)\n",
    "\n",
    "print(count)\n",
    "\n",
    "# here, count() method is used to count the number of occurrences of the element with value 3 in the list."
   ]
  },
  {
   "cell_type": "markdown",
   "id": "315bbaf5",
   "metadata": {},
   "source": [
    "10. Reverse the order of elements in a list."
   ]
  },
  {
   "cell_type": "code",
   "execution_count": 172,
   "id": "e36c0a22",
   "metadata": {},
   "outputs": [
    {
     "data": {
      "text/plain": [
       "[1, 2, 3, 4, 5, 3]"
      ]
     },
     "execution_count": 172,
     "metadata": {},
     "output_type": "execute_result"
    }
   ],
   "source": [
    "my_list"
   ]
  },
  {
   "cell_type": "code",
   "execution_count": 173,
   "id": "a8f98d4f",
   "metadata": {
    "scrolled": true
   },
   "outputs": [
    {
     "name": "stdout",
     "output_type": "stream",
     "text": [
      "[3, 5, 4, 3, 2, 1]\n"
     ]
    }
   ],
   "source": [
    "my_list.reverse()\n",
    "\n",
    "print(my_list)\n",
    "\n",
    "# I have used reverse() method is used to reverse the order of elements in the list\n"
   ]
  },
  {
   "cell_type": "markdown",
   "id": "568fff70",
   "metadata": {},
   "source": [
    "11. Sort a list in ascending order."
   ]
  },
  {
   "cell_type": "code",
   "execution_count": 174,
   "id": "b6aed083",
   "metadata": {},
   "outputs": [
    {
     "name": "stdout",
     "output_type": "stream",
     "text": [
      "[1, 2, 3, 4, 5]\n"
     ]
    }
   ],
   "source": [
    "my_list = [5, 2, 3, 1, 4]\n",
    "my_list.sort()\n",
    "\n",
    "print(my_list)\n",
    "\n",
    "#sort() method is used to sort the list in ascending order."
   ]
  },
  {
   "cell_type": "markdown",
   "id": "b010179e",
   "metadata": {},
   "source": [
    "12. Sort a list in descending order."
   ]
  },
  {
   "cell_type": "code",
   "execution_count": 175,
   "id": "c6ac014b",
   "metadata": {},
   "outputs": [
    {
     "name": "stdout",
     "output_type": "stream",
     "text": [
      "[5, 4, 3, 2, 1]\n"
     ]
    }
   ],
   "source": [
    "my_list = [5, 2, 3, 1, 4]\n",
    "my_list.sort(reverse=True)\n",
    "\n",
    "print(my_list)\n",
    "#sort() method is used to sort the list in descending order by passing the reverse=True argument."
   ]
  },
  {
   "cell_type": "markdown",
   "id": "337f6ff9",
   "metadata": {},
   "source": [
    "13. Create a list of even numbers from 1 to 20."
   ]
  },
  {
   "cell_type": "code",
   "execution_count": 177,
   "id": "56a84f80",
   "metadata": {},
   "outputs": [
    {
     "name": "stdout",
     "output_type": "stream",
     "text": [
      "[2, 4, 6, 8, 10, 12, 14, 16, 18, 20]\n"
     ]
    }
   ],
   "source": [
    "even_numbers = [i for i in range(1, 21) if i % 2 == 0]\n",
    "print(even_numbers)\n",
    "# I have used for loop and if statement to create a new list of even numbers. "
   ]
  },
  {
   "cell_type": "markdown",
   "id": "ac45412d",
   "metadata": {},
   "source": [
    "14. Create a list of odd numbers from 1 to 20."
   ]
  },
  {
   "cell_type": "code",
   "execution_count": 178,
   "id": "cf377c39",
   "metadata": {},
   "outputs": [
    {
     "name": "stdout",
     "output_type": "stream",
     "text": [
      "[1, 3, 5, 7, 9, 11, 13, 15, 17, 19]\n"
     ]
    }
   ],
   "source": [
    "odd_numbers = [i for i in range(1, 21) if i % 2 != 0]\n",
    "print(odd_numbers)\n",
    "# I have used for loop and if statement to create a new list of odd numbers. "
   ]
  },
  {
   "cell_type": "markdown",
   "id": "d32534b7",
   "metadata": {},
   "source": [
    "15. Find the sum of all elements in a list."
   ]
  },
  {
   "cell_type": "code",
   "execution_count": 179,
   "id": "c0a1dd17",
   "metadata": {},
   "outputs": [
    {
     "data": {
      "text/plain": [
       "[5, 4, 3, 2, 1]"
      ]
     },
     "execution_count": 179,
     "metadata": {},
     "output_type": "execute_result"
    }
   ],
   "source": [
    "my_list"
   ]
  },
  {
   "cell_type": "code",
   "execution_count": 183,
   "id": "de4545f2",
   "metadata": {},
   "outputs": [],
   "source": [
    "sumofall = sum(my_list)\n",
    "#The sum() function adds the numbers from the list and returns the total"
   ]
  },
  {
   "cell_type": "code",
   "execution_count": 184,
   "id": "b36707be",
   "metadata": {},
   "outputs": [
    {
     "data": {
      "text/plain": [
       "15"
      ]
     },
     "execution_count": 184,
     "metadata": {},
     "output_type": "execute_result"
    }
   ],
   "source": [
    "sumofall"
   ]
  },
  {
   "cell_type": "markdown",
   "id": "943a1e17",
   "metadata": {},
   "source": [
    "16. Find the maximum value in a list."
   ]
  },
  {
   "cell_type": "code",
   "execution_count": 185,
   "id": "f1bf8daf",
   "metadata": {},
   "outputs": [
    {
     "data": {
      "text/plain": [
       "[5, 4, 3, 2, 1]"
      ]
     },
     "execution_count": 185,
     "metadata": {},
     "output_type": "execute_result"
    }
   ],
   "source": [
    "my_list"
   ]
  },
  {
   "cell_type": "code",
   "execution_count": 187,
   "id": "7f80038d",
   "metadata": {},
   "outputs": [],
   "source": [
    "max_value = max(my_list)\n",
    "#the max() is used to get the maximum number from list"
   ]
  },
  {
   "cell_type": "code",
   "execution_count": 188,
   "id": "fdda7549",
   "metadata": {},
   "outputs": [
    {
     "data": {
      "text/plain": [
       "5"
      ]
     },
     "execution_count": 188,
     "metadata": {},
     "output_type": "execute_result"
    }
   ],
   "source": [
    "max_value"
   ]
  },
  {
   "cell_type": "markdown",
   "id": "8a08e989",
   "metadata": {},
   "source": [
    "17. Find the minimum value in a list."
   ]
  },
  {
   "cell_type": "code",
   "execution_count": 189,
   "id": "374c7398",
   "metadata": {},
   "outputs": [],
   "source": [
    "min_value = min(my_list)\n",
    "#the min() is used to get the maximum number from list"
   ]
  },
  {
   "cell_type": "code",
   "execution_count": 190,
   "id": "6ebac951",
   "metadata": {},
   "outputs": [
    {
     "data": {
      "text/plain": [
       "1"
      ]
     },
     "execution_count": 190,
     "metadata": {},
     "output_type": "execute_result"
    }
   ],
   "source": [
    "\n",
    "min_value"
   ]
  },
  {
   "cell_type": "markdown",
   "id": "98c242b4",
   "metadata": {},
   "source": [
    "18. Create a list of squares of numbers from 1 to 10."
   ]
  },
  {
   "cell_type": "code",
   "execution_count": 192,
   "id": "5c6fe4c8",
   "metadata": {},
   "outputs": [
    {
     "name": "stdout",
     "output_type": "stream",
     "text": [
      "[1, 4, 9, 16, 25, 36, 49, 64, 81, 100]\n"
     ]
    }
   ],
   "source": [
    "squares = [i**2 for i in range(1, 11)]\n",
    "print(squares)\n",
    "#range() function generates a sequence of numbers from 1 to 10. Then i have used the ** operator to square each number in the range."
   ]
  },
  {
   "cell_type": "markdown",
   "id": "77c73a0e",
   "metadata": {},
   "source": [
    "19. Create a list of random numbers."
   ]
  },
  {
   "cell_type": "code",
   "execution_count": 195,
   "id": "b7b2e682",
   "metadata": {},
   "outputs": [
    {
     "name": "stdout",
     "output_type": "stream",
     "text": [
      "[418, 262, 314, 641, 330, 472, 688, 253, 724, 497]\n"
     ]
    }
   ],
   "source": [
    "import random\n",
    "\n",
    "random_numbers = [random.randint(1, 1000) for _ in range(10)]\n",
    "print(random_numbers)\n",
    "#This will output a list of 10 random integers between 1 and 1000"
   ]
  },
  {
   "cell_type": "markdown",
   "id": "6b55a6d0",
   "metadata": {},
   "source": [
    "20. Remove duplicates from a list."
   ]
  },
  {
   "cell_type": "code",
   "execution_count": 196,
   "id": "e11581d2",
   "metadata": {},
   "outputs": [
    {
     "name": "stdout",
     "output_type": "stream",
     "text": [
      "[1, 2, 3, 4, 5]\n"
     ]
    }
   ],
   "source": [
    "my_list = [1, 2, 3, 2, 4, 5, 3]\n",
    "unique_list = list(set(my_list))\n",
    "print(unique_list)\n",
    "#This will give a new list with the unique values after the removal of duplicates"
   ]
  },
  {
   "cell_type": "markdown",
   "id": "2372f9d8",
   "metadata": {},
   "source": [
    "21. Find the common elements between two lists."
   ]
  },
  {
   "cell_type": "code",
   "execution_count": 197,
   "id": "0cbac5a4",
   "metadata": {},
   "outputs": [],
   "source": [
    "list1 = [1, 2, 3, 4, 5]\n",
    "list2 = [3, 4, 5, 6, 7]"
   ]
  },
  {
   "cell_type": "code",
   "execution_count": 199,
   "id": "e0d97d9d",
   "metadata": {},
   "outputs": [
    {
     "name": "stdout",
     "output_type": "stream",
     "text": [
      "[3, 4, 5]\n"
     ]
    }
   ],
   "source": [
    "common_elements = list(set(list1).intersection(list2))\n",
    "print(common_elements)\n",
    "# i have used set() to convert list to set with unique values and then used intersection() to get the common elements"
   ]
  },
  {
   "cell_type": "markdown",
   "id": "63219992",
   "metadata": {},
   "source": [
    "22. Find the difference between two lists."
   ]
  },
  {
   "cell_type": "code",
   "execution_count": 201,
   "id": "d7b2bd21",
   "metadata": {},
   "outputs": [
    {
     "name": "stdout",
     "output_type": "stream",
     "text": [
      "[1, 2]\n"
     ]
    }
   ],
   "source": [
    "list1 = [1, 2, 3, 4, 5]\n",
    "list2 = [3, 4, 5, 6, 7]\n",
    "difference = list(set(list1) - set(list2))\n",
    "print(difference)\n",
    "#This will give a new list with the elements that are in list1 but not in list2"
   ]
  },
  {
   "cell_type": "markdown",
   "id": "09842865",
   "metadata": {},
   "source": [
    "23. Merge two lists."
   ]
  },
  {
   "cell_type": "code",
   "execution_count": 202,
   "id": "4936ea2a",
   "metadata": {},
   "outputs": [],
   "source": [
    "list1 = [1, 2, 3, 4, 5]\n",
    "list2 = [3, 4, 5, 6, 7]"
   ]
  },
  {
   "cell_type": "code",
   "execution_count": 204,
   "id": "120bb45f",
   "metadata": {},
   "outputs": [
    {
     "name": "stdout",
     "output_type": "stream",
     "text": [
      "[1, 2, 3, 4, 5, 3, 4, 5, 6, 7]\n"
     ]
    }
   ],
   "source": [
    "merged_list = list1 + list2\n",
    "print(merged_list)\n",
    "#This will give a new list with the elements of both lists combined including duplicates"
   ]
  },
  {
   "cell_type": "markdown",
   "id": "dfc6a930",
   "metadata": {},
   "source": [
    "24. Multiply all elements in a list by 2."
   ]
  },
  {
   "cell_type": "code",
   "execution_count": 205,
   "id": "a646f868",
   "metadata": {},
   "outputs": [
    {
     "data": {
      "text/plain": [
       "[1, 2, 3, 4, 5]"
      ]
     },
     "execution_count": 205,
     "metadata": {},
     "output_type": "execute_result"
    }
   ],
   "source": [
    "list1"
   ]
  },
  {
   "cell_type": "code",
   "execution_count": 206,
   "id": "904f673c",
   "metadata": {},
   "outputs": [
    {
     "data": {
      "text/plain": [
       "[2, 4, 6, 8, 10]"
      ]
     },
     "execution_count": 206,
     "metadata": {},
     "output_type": "execute_result"
    }
   ],
   "source": [
    "newlist = [x * 2 for x in list1]\n",
    "newlist\n",
    "#used a for loop to miltiply 2 in each element in  list1"
   ]
  },
  {
   "cell_type": "markdown",
   "id": "0a2f0360",
   "metadata": {},
   "source": [
    "\n",
    "25. Filter out all even numbers from a list."
   ]
  },
  {
   "cell_type": "code",
   "execution_count": 207,
   "id": "0572be3c",
   "metadata": {},
   "outputs": [
    {
     "name": "stdout",
     "output_type": "stream",
     "text": [
      "[2, 4]\n"
     ]
    }
   ],
   "source": [
    "my_list = [1, 2, 3, 4, 5]\n",
    "even_numbers = [x for x in my_list if x % 2 == 0]\n",
    "print(even_numbers)"
   ]
  },
  {
   "cell_type": "markdown",
   "id": "469dd0d4",
   "metadata": {},
   "source": [
    "26. Convert a list of strings to a list of integers."
   ]
  },
  {
   "cell_type": "code",
   "execution_count": 208,
   "id": "eafe458b",
   "metadata": {},
   "outputs": [
    {
     "name": "stdout",
     "output_type": "stream",
     "text": [
      "[1, 2, 3, 4, 5]\n"
     ]
    }
   ],
   "source": [
    "my_list = ['1', '2', '3', '4', '5']\n",
    "int_list = [int(x) for x in my_list]\n",
    "print(int_list)\n",
    "# used int() to convert all element to int from string"
   ]
  },
  {
   "cell_type": "markdown",
   "id": "b28eb5e6",
   "metadata": {},
   "source": [
    "27. Convert a list of integers to a list of strings."
   ]
  },
  {
   "cell_type": "code",
   "execution_count": 213,
   "id": "bd57a58a",
   "metadata": {},
   "outputs": [],
   "source": [
    "l11 = [1, 2, 3, 4, 5]"
   ]
  },
  {
   "cell_type": "code",
   "execution_count": 214,
   "id": "928c8f6c",
   "metadata": {},
   "outputs": [
    {
     "ename": "TypeError",
     "evalue": "'str' object is not callable",
     "output_type": "error",
     "traceback": [
      "\u001b[1;31m---------------------------------------------------------------------------\u001b[0m",
      "\u001b[1;31mTypeError\u001b[0m                                 Traceback (most recent call last)",
      "Cell \u001b[1;32mIn[214], line 1\u001b[0m\n\u001b[1;32m----> 1\u001b[0m newl11 \u001b[38;5;241m=\u001b[39m [\u001b[38;5;28mstr\u001b[39m(i) \u001b[38;5;28;01mfor\u001b[39;00m i \u001b[38;5;129;01min\u001b[39;00m l11]\n",
      "Cell \u001b[1;32mIn[214], line 1\u001b[0m, in \u001b[0;36m<listcomp>\u001b[1;34m(.0)\u001b[0m\n\u001b[1;32m----> 1\u001b[0m newl11 \u001b[38;5;241m=\u001b[39m [\u001b[38;5;28;43mstr\u001b[39;49m\u001b[43m(\u001b[49m\u001b[43mi\u001b[49m\u001b[43m)\u001b[49m \u001b[38;5;28;01mfor\u001b[39;00m i \u001b[38;5;129;01min\u001b[39;00m l11]\n",
      "\u001b[1;31mTypeError\u001b[0m: 'str' object is not callable"
     ]
    }
   ],
   "source": [
    "newl11 = [str(i) for i in l11]"
   ]
  },
  {
   "cell_type": "markdown",
   "id": "8308fc4e",
   "metadata": {},
   "source": [
    "28. Flatten a nested list."
   ]
  },
  {
   "cell_type": "code",
   "execution_count": 215,
   "id": "28f7b317",
   "metadata": {},
   "outputs": [
    {
     "name": "stdout",
     "output_type": "stream",
     "text": [
      "[1, 2, 3, 4, 5, 6, 7, 8, 9]\n"
     ]
    }
   ],
   "source": [
    "nested_list = [[1, 2], [3, 4, 5], [6, 7, 8, 9]]\n",
    "flat_list = [item for sublist in nested_list for item in sublist]\n",
    "print(flat_list)\n"
   ]
  },
  {
   "cell_type": "markdown",
   "id": "bea1c4ff",
   "metadata": {},
   "source": [
    "29. Create a list of the first 10 Fibonacci numbers."
   ]
  },
  {
   "cell_type": "code",
   "execution_count": 216,
   "id": "aa6aebe6",
   "metadata": {},
   "outputs": [
    {
     "name": "stdout",
     "output_type": "stream",
     "text": [
      "[0, 1, 1, 2, 3, 5, 8, 13, 21, 34]\n"
     ]
    }
   ],
   "source": [
    "fibonacci = [0, 1]\n",
    "for i in range(2, 10):\n",
    "    fibonacci.append(fibonacci[i-1] + fibonacci[i-2])\n",
    "print(fibonacci)\n"
   ]
  },
  {
   "cell_type": "markdown",
   "id": "aef452e6",
   "metadata": {},
   "source": [
    "30. Check if a list is sorted.\n"
   ]
  },
  {
   "cell_type": "code",
   "execution_count": 217,
   "id": "a433a62b",
   "metadata": {},
   "outputs": [
    {
     "name": "stdout",
     "output_type": "stream",
     "text": [
      "The list is sorted.\n"
     ]
    }
   ],
   "source": [
    "my_list = [1, 2, 3, 4, 5]\n",
    "if my_list == sorted(my_list):\n",
    "    print(\"The list is sorted.\")\n",
    "else:\n",
    "    print(\"The list is not sorted.\")\n",
    "    \n",
    "# sorted() is used to check if the elements are sorted"
   ]
  },
  {
   "cell_type": "code",
   "execution_count": 218,
   "id": "e2df74f1",
   "metadata": {},
   "outputs": [
    {
     "name": "stdout",
     "output_type": "stream",
     "text": [
      "The list is not sorted.\n"
     ]
    }
   ],
   "source": [
    "my_list = [7, 2, 9, 3, 5]\n",
    "if my_list == sorted(my_list):\n",
    "    print(\"The list is sorted.\")\n",
    "else:\n",
    "    print(\"The list is not sorted.\")\n",
    "    \n",
    "# sorted() is used to check if the elements are sorted"
   ]
  },
  {
   "cell_type": "markdown",
   "id": "51684c66",
   "metadata": {},
   "source": [
    "31. Rotate a list to the left by `n` positions."
   ]
  },
  {
   "cell_type": "code",
   "execution_count": 220,
   "id": "6fa67ab9",
   "metadata": {},
   "outputs": [
    {
     "name": "stdout",
     "output_type": "stream",
     "text": [
      "[3, 4, 5, 1, 2]\n"
     ]
    }
   ],
   "source": [
    "my_list = [1, 2, 3, 4, 5]\n",
    "n = 2\n",
    "rotated_list = my_list[n:] + my_list[:n]\n",
    "print(rotated_list)\n",
    "#here, I have used list slicing to create a new list rotated_list by taking all elements of my_list starting from index n and appending all elements of my_list up to index n"
   ]
  },
  {
   "cell_type": "markdown",
   "id": "2c19dfe7",
   "metadata": {},
   "source": [
    "32. Rotate a list to the right by `n` positions."
   ]
  },
  {
   "cell_type": "code",
   "execution_count": 221,
   "id": "5616db01",
   "metadata": {},
   "outputs": [
    {
     "name": "stdout",
     "output_type": "stream",
     "text": [
      "[4, 5, 1, 2, 3]\n"
     ]
    }
   ],
   "source": [
    "my_list = [1, 2, 3, 4, 5]\n",
    "n = 2\n",
    "rotated_list = my_list[-n:] + my_list[:-n]\n",
    "print(rotated_list)"
   ]
  },
  {
   "cell_type": "markdown",
   "id": "6b8e94f1",
   "metadata": {},
   "source": [
    "33. Create a list of prime numbers up to 50."
   ]
  },
  {
   "cell_type": "code",
   "execution_count": 223,
   "id": "40e586e3",
   "metadata": {},
   "outputs": [
    {
     "name": "stdout",
     "output_type": "stream",
     "text": [
      "[2, 3, 5, 7, 11, 13, 17, 19, 23, 29, 31, 37, 41, 43, 47]\n"
     ]
    }
   ],
   "source": [
    "primes = []\n",
    "for num in range(2, 51):\n",
    "    for i in range(2, num):\n",
    "        if (num % i) == 0:\n",
    "            break\n",
    "    else:\n",
    "        primes.append(num)\n",
    "print(primes)\n",
    "# i have used nested for loop to generate all prime numbers."
   ]
  },
  {
   "cell_type": "markdown",
   "id": "43e3bfed",
   "metadata": {},
   "source": [
    "34. Split a list into chunks of size `n`."
   ]
  },
  {
   "cell_type": "code",
   "execution_count": 224,
   "id": "a4258ddb",
   "metadata": {},
   "outputs": [
    {
     "name": "stdout",
     "output_type": "stream",
     "text": [
      "[[1, 2, 3], [4, 5, 6], [7, 8, 9], [10]]\n"
     ]
    }
   ],
   "source": [
    "my_list = [1, 2, 3, 4, 5, 6, 7, 8, 9, 10]\n",
    "n = 3\n",
    "small_list = [my_list[i:i+n] for i in range(0, len(my_list), n)]\n",
    "print(small_list)"
   ]
  },
  {
   "cell_type": "markdown",
   "id": "7c567c3d",
   "metadata": {},
   "source": [
    "35. Find the second largest number in a list."
   ]
  },
  {
   "cell_type": "code",
   "execution_count": 225,
   "id": "850189d6",
   "metadata": {},
   "outputs": [
    {
     "name": "stdout",
     "output_type": "stream",
     "text": [
      "4\n"
     ]
    }
   ],
   "source": [
    "my_list = [1, 2, 3, 4, 5]\n",
    "largest = max(my_list)\n",
    "second_largest = max([num for num in my_list if num != largest])\n",
    "print(second_largest)"
   ]
  },
  {
   "cell_type": "markdown",
   "id": "9ae6c593",
   "metadata": {},
   "source": [
    "36. Replace every element in a list with its square."
   ]
  },
  {
   "cell_type": "code",
   "execution_count": 226,
   "id": "c39b5cbd",
   "metadata": {},
   "outputs": [
    {
     "name": "stdout",
     "output_type": "stream",
     "text": [
      "[1, 4, 9, 16, 25]\n"
     ]
    }
   ],
   "source": [
    "my_list = [1, 2, 3, 4, 5]\n",
    "squared_list = [x**2 for x in my_list]\n",
    "print(squared_list)"
   ]
  },
  {
   "cell_type": "markdown",
   "id": "76e273de",
   "metadata": {},
   "source": [
    "37. Convert a list to a dictionary where list elements become keys and their\n",
    "indices become values."
   ]
  },
  {
   "cell_type": "code",
   "execution_count": 227,
   "id": "6a05603a",
   "metadata": {},
   "outputs": [
    {
     "name": "stdout",
     "output_type": "stream",
     "text": [
      "{0: 'apple', 1: 'banana', 2: 'cherry'}\n"
     ]
    }
   ],
   "source": [
    "my_list = ['apple', 'banana', 'cherry']\n",
    "my_dict = {i: my_list[i] for i in range(len(my_list))}\n",
    "print(my_dict)\n",
    "# I have created dictionary by iterating over each index i in range(len(my_list))"
   ]
  },
  {
   "cell_type": "markdown",
   "id": "6ffb02ea",
   "metadata": {},
   "source": [
    "38. Shuffle the elements of a list randomly."
   ]
  },
  {
   "cell_type": "code",
   "execution_count": 228,
   "id": "a0f610fd",
   "metadata": {},
   "outputs": [
    {
     "name": "stdout",
     "output_type": "stream",
     "text": [
      "[2, 5, 3, 1, 4]\n"
     ]
    }
   ],
   "source": [
    "import random\n",
    "\n",
    "my_list = [1, 2, 3, 4, 5]\n",
    "random.shuffle(my_list)\n",
    "print(my_list)\n",
    "# i have used random.shuffle() function to shuffle the elements of my_list randomly. This function modifies the original list in place so that there is no need to create a new list\n"
   ]
  },
  {
   "cell_type": "markdown",
   "id": "8170ab20",
   "metadata": {},
   "source": [
    "39. Create a list of the first 10 factorial numbers."
   ]
  },
  {
   "cell_type": "code",
   "execution_count": 230,
   "id": "b93205eb",
   "metadata": {},
   "outputs": [
    {
     "name": "stdout",
     "output_type": "stream",
     "text": [
      "[1, 1, 2, 6, 24, 120, 720, 5040, 40320, 362880, 3628800]\n"
     ]
    }
   ],
   "source": [
    "factorials = [1]\n",
    "for i in range(1, 11):\n",
    "    factorials.append(factorials[-1] * i)\n",
    "print(factorials)"
   ]
  },
  {
   "cell_type": "markdown",
   "id": "21893abe",
   "metadata": {},
   "source": [
    "40. Check if two lists have at least one element in common."
   ]
  },
  {
   "cell_type": "code",
   "execution_count": 231,
   "id": "6998c828",
   "metadata": {},
   "outputs": [
    {
     "name": "stdout",
     "output_type": "stream",
     "text": [
      "The two lists do not have any elements in common.\n"
     ]
    }
   ],
   "source": [
    "list1 = [1, 2, 3, 4, 5]\n",
    "list2 = [6, 7, 8, 9, 10]\n",
    "if set(list1) & set(list2):\n",
    "    print(\"The two lists have at least one element in common.\")\n",
    "else:\n",
    "    print(\"The two lists do not have any elements in common.\")"
   ]
  },
  {
   "cell_type": "code",
   "execution_count": 232,
   "id": "67e2183b",
   "metadata": {},
   "outputs": [
    {
     "name": "stdout",
     "output_type": "stream",
     "text": [
      "The two lists have at least one element in common.\n"
     ]
    }
   ],
   "source": [
    "list1 = [1, 2, 3, 4, 5]\n",
    "list2 = [6, 2, 8, 9, 10]\n",
    "if set(list1) & set(list2):\n",
    "    print(\"The two lists have at least one element in common.\")\n",
    "else:\n",
    "    print(\"The two lists do not have any elements in common.\")"
   ]
  },
  {
   "cell_type": "markdown",
   "id": "6154cd0b",
   "metadata": {},
   "source": [
    "41. Remove all elements from a list."
   ]
  },
  {
   "cell_type": "code",
   "execution_count": 233,
   "id": "e1dc193b",
   "metadata": {},
   "outputs": [
    {
     "data": {
      "text/plain": [
       "[1, 2, 3, 4, 5]"
      ]
     },
     "execution_count": 233,
     "metadata": {},
     "output_type": "execute_result"
    }
   ],
   "source": [
    "list1"
   ]
  },
  {
   "cell_type": "code",
   "execution_count": 234,
   "id": "918bb56e",
   "metadata": {},
   "outputs": [
    {
     "data": {
      "text/plain": [
       "[]"
      ]
     },
     "execution_count": 234,
     "metadata": {},
     "output_type": "execute_result"
    }
   ],
   "source": [
    "list1.clear()\n",
    "list1"
   ]
  },
  {
   "cell_type": "markdown",
   "id": "5ef40956",
   "metadata": {},
   "source": [
    "42. Replace negative numbers in a list with 0."
   ]
  },
  {
   "cell_type": "code",
   "execution_count": 235,
   "id": "c987a7e5",
   "metadata": {},
   "outputs": [
    {
     "name": "stdout",
     "output_type": "stream",
     "text": [
      "[10, 0, 13, 0, 88]\n"
     ]
    }
   ],
   "source": [
    "my_list = [10, -22, 13, -4, 88]\n",
    "new_list = [max(0, x) for x in my_list]\n",
    "print(new_list)"
   ]
  },
  {
   "cell_type": "markdown",
   "id": "92678fa7",
   "metadata": {},
   "source": [
    "43. Convert a string into a list of words."
   ]
  },
  {
   "cell_type": "code",
   "execution_count": 236,
   "id": "dcc0ab58",
   "metadata": {},
   "outputs": [
    {
     "name": "stdout",
     "output_type": "stream",
     "text": [
      "['Rajesh', 'Behera']\n"
     ]
    }
   ],
   "source": [
    "my_string = \"Rajesh Behera\"\n",
    "word_list = my_string.split()\n",
    "print(word_list)"
   ]
  },
  {
   "cell_type": "markdown",
   "id": "3bd071c4",
   "metadata": {},
   "source": [
    "44. Convert a list of words into a string."
   ]
  },
  {
   "cell_type": "code",
   "execution_count": 237,
   "id": "25ca71d2",
   "metadata": {},
   "outputs": [
    {
     "name": "stdout",
     "output_type": "stream",
     "text": [
      "fullstack data science\n"
     ]
    }
   ],
   "source": [
    "words = ['fullstack', 'data', 'science']\n",
    "string = ' '.join(words)\n",
    "print(string)"
   ]
  },
  {
   "cell_type": "markdown",
   "id": "3391913f",
   "metadata": {},
   "source": [
    "45. Create a list of the first `n` powers of 2."
   ]
  },
  {
   "cell_type": "code",
   "execution_count": 238,
   "id": "abc76c91",
   "metadata": {},
   "outputs": [
    {
     "name": "stdout",
     "output_type": "stream",
     "text": [
      "[1, 2, 4, 8, 16]\n"
     ]
    }
   ],
   "source": [
    "n = 5\n",
    "powers_of_two = [2 ** i for i in range(n)]\n",
    "print(powers_of_two)"
   ]
  },
  {
   "cell_type": "markdown",
   "id": "866ff1bf",
   "metadata": {},
   "source": [
    "46. Find the longest string in a list of strings."
   ]
  },
  {
   "cell_type": "code",
   "execution_count": 240,
   "id": "d8c0c26d",
   "metadata": {},
   "outputs": [],
   "source": [
    "strr33 = ['fullstack', 'data', 'science']"
   ]
  },
  {
   "cell_type": "code",
   "execution_count": 241,
   "id": "79743f1c",
   "metadata": {},
   "outputs": [
    {
     "name": "stdout",
     "output_type": "stream",
     "text": [
      "fullstack\n"
     ]
    }
   ],
   "source": [
    "longest_string = max(strr33, key=len)\n",
    "print(longest_string)"
   ]
  },
  {
   "cell_type": "markdown",
   "id": "0042865e",
   "metadata": {},
   "source": [
    "47. Find the shortest string in a list of strings."
   ]
  },
  {
   "cell_type": "code",
   "execution_count": 244,
   "id": "c1ad949e",
   "metadata": {},
   "outputs": [
    {
     "data": {
      "text/plain": [
       "['fullstack', 'data', 'science']"
      ]
     },
     "execution_count": 244,
     "metadata": {},
     "output_type": "execute_result"
    }
   ],
   "source": [
    "strr33"
   ]
  },
  {
   "cell_type": "code",
   "execution_count": 245,
   "id": "6a6b5473",
   "metadata": {},
   "outputs": [
    {
     "name": "stdout",
     "output_type": "stream",
     "text": [
      "data\n"
     ]
    }
   ],
   "source": [
    "shortest_string = min(strr33, key=len)\n",
    "print(shortest_string)"
   ]
  },
  {
   "cell_type": "markdown",
   "id": "310dfb06",
   "metadata": {},
   "source": [
    "48. Create a list of the first `n` triangular numbers."
   ]
  },
  {
   "cell_type": "code",
   "execution_count": 246,
   "id": "56c2635f",
   "metadata": {},
   "outputs": [
    {
     "name": "stdout",
     "output_type": "stream",
     "text": [
      "[1, 3, 6, 10, 15]\n"
     ]
    }
   ],
   "source": [
    "n = 5\n",
    "triangular_numbers = []\n",
    "for i in range(1, n + 1):\n",
    "    triangular_numbers.append(i * (i + 1) // 2)\n",
    "print(triangular_numbers)"
   ]
  },
  {
   "cell_type": "markdown",
   "id": "042f1d0c",
   "metadata": {},
   "source": [
    "49. Check if a list contains another list as a subsequence."
   ]
  },
  {
   "cell_type": "code",
   "execution_count": 247,
   "id": "b8c01962",
   "metadata": {},
   "outputs": [
    {
     "name": "stdout",
     "output_type": "stream",
     "text": [
      "True\n"
     ]
    }
   ],
   "source": [
    "def is_subsequence(sub, lst):\n",
    "    n = len(sub)\n",
    "    return any((sub == lst[i:i+n]) for i in range(len(lst)-n+1))\n",
    "\n",
    "lst = [1, 2, 3, 4, 5]\n",
    "sub = [2, 3, 4]\n",
    "print(is_subsequence(sub, lst))"
   ]
  },
  {
   "cell_type": "markdown",
   "id": "b0fb0d14",
   "metadata": {},
   "source": [
    "50. Swap two elements in a list by their indices."
   ]
  },
  {
   "cell_type": "code",
   "execution_count": 248,
   "id": "a16c6ece",
   "metadata": {},
   "outputs": [
    {
     "name": "stdout",
     "output_type": "stream",
     "text": [
      "[1, 4, 3, 2, 5]\n"
     ]
    }
   ],
   "source": [
    "def swap_elements(lst, i, j):\n",
    "    lst[i], lst[j] = lst[j], lst[i]\n",
    "\n",
    "lst = [1, 2, 3, 4, 5]\n",
    "swap_elements(lst, 1, 3)\n",
    "print(lst)"
   ]
  },
  {
   "cell_type": "markdown",
   "id": "a6d0cf69",
   "metadata": {},
   "source": [
    "# Tuple Based Practice Problem :"
   ]
  },
  {
   "cell_type": "markdown",
   "id": "ecce6a39",
   "metadata": {},
   "source": [
    "1. Create a tuple with integers from 1 to 5."
   ]
  },
  {
   "cell_type": "code",
   "execution_count": 249,
   "id": "df552674",
   "metadata": {},
   "outputs": [
    {
     "name": "stdout",
     "output_type": "stream",
     "text": [
      "(1, 2, 3, 4, 5)\n"
     ]
    }
   ],
   "source": [
    "my_tuple = (1, 2, 3, 4, 5)\n",
    "print(my_tuple)"
   ]
  },
  {
   "cell_type": "markdown",
   "id": "0d79dc79",
   "metadata": {},
   "source": [
    "2. Access the third element of a tuple."
   ]
  },
  {
   "cell_type": "code",
   "execution_count": 1,
   "id": "8dcfd3e4",
   "metadata": {},
   "outputs": [
    {
     "name": "stdout",
     "output_type": "stream",
     "text": [
      "3\n"
     ]
    }
   ],
   "source": [
    "my_tuple = (1, 2, 3, 4, 5)\n",
    "answer = my_tuple[2]\n",
    "print(answer) \n",
    "# I have used index [] to access the third element of the tuple and assign it to the variable answer"
   ]
  },
  {
   "cell_type": "markdown",
   "id": "de562142",
   "metadata": {},
   "source": [
    "3. Find the length of a tuple without using the `len()` function."
   ]
  },
  {
   "cell_type": "code",
   "execution_count": 3,
   "id": "36cbe2ed",
   "metadata": {},
   "outputs": [
    {
     "name": "stdout",
     "output_type": "stream",
     "text": [
      "5\n"
     ]
    }
   ],
   "source": [
    "my_tuple = (1, 2, 3, 4, 5)\n",
    "count = 0\n",
    "for element in my_tuple:\n",
    "    count += 1\n",
    "print(count)\n",
    "# my_tuple variable has five elements. I have used a for loop to iterate over \n",
    "#each elementand increment the variable count by 1 for each element"
   ]
  },
  {
   "cell_type": "markdown",
   "id": "b94fc479",
   "metadata": {},
   "source": [
    "4. Count the occurrences of an element in a tuple."
   ]
  },
  {
   "cell_type": "code",
   "execution_count": 4,
   "id": "ec6b072e",
   "metadata": {},
   "outputs": [
    {
     "name": "stdout",
     "output_type": "stream",
     "text": [
      "2\n"
     ]
    }
   ],
   "source": [
    "my_tuple = (1, 2, 3, 4, 5, 3, 2, 1)\n",
    "count = my_tuple.count(3)\n",
    "print(count)\n",
    "#my_tuple has eight elements.The count() method is used to count the number\n",
    "#of times the element 3 appears in the tuple and assign it to the variable count"
   ]
  },
  {
   "cell_type": "markdown",
   "id": "d64e5132",
   "metadata": {},
   "source": [
    "5. Find the index of the first occurrence of an element in a tuple."
   ]
  },
  {
   "cell_type": "code",
   "execution_count": 5,
   "id": "177e6df3",
   "metadata": {},
   "outputs": [],
   "source": [
    "t1 = (1,2,4,7,8,4,3,2,2,1)\n",
    "index = t1.index(2)"
   ]
  },
  {
   "cell_type": "code",
   "execution_count": 7,
   "id": "ef33ddd7",
   "metadata": {},
   "outputs": [
    {
     "name": "stdout",
     "output_type": "stream",
     "text": [
      "1\n"
     ]
    }
   ],
   "source": [
    "print(index)\n",
    "# index() method is used here to find the index of the first occurrence of the elemen 2"
   ]
  },
  {
   "cell_type": "markdown",
   "id": "28e94fa7",
   "metadata": {},
   "source": [
    "6. Check if an element exists in a tuple."
   ]
  },
  {
   "cell_type": "code",
   "execution_count": 9,
   "id": "e1a9a4c7",
   "metadata": {},
   "outputs": [
    {
     "data": {
      "text/plain": [
       "True"
      ]
     },
     "execution_count": 9,
     "metadata": {},
     "output_type": "execute_result"
    }
   ],
   "source": [
    "t1 = (11,22,33,44,55)\n",
    "n = 33\n",
    "answer = n in t1\n",
    "answer\n",
    "# created a tuple t1 and used in() to check if the n value 33 is exist in t1"
   ]
  },
  {
   "cell_type": "markdown",
   "id": "38b23cd3",
   "metadata": {},
   "source": [
    "7. Convert a tuple to a list."
   ]
  },
  {
   "cell_type": "code",
   "execution_count": 10,
   "id": "10d5b940",
   "metadata": {},
   "outputs": [
    {
     "data": {
      "text/plain": [
       "[11, 22, 33, 44, 55]"
      ]
     },
     "execution_count": 10,
     "metadata": {},
     "output_type": "execute_result"
    }
   ],
   "source": [
    "t1 = (11,22,33,44,55)\n",
    "converted_tuple = list(t1)\n",
    "converted_tuple\n",
    "#i have used list() to convert a tuple to list"
   ]
  },
  {
   "cell_type": "markdown",
   "id": "0cec9d2e",
   "metadata": {},
   "source": [
    "8. Convert a list to a tuple."
   ]
  },
  {
   "cell_type": "code",
   "execution_count": 12,
   "id": "b4e5b541",
   "metadata": {},
   "outputs": [
    {
     "data": {
      "text/plain": [
       "(11, 22, 33, 44, 55)"
      ]
     },
     "execution_count": 12,
     "metadata": {},
     "output_type": "execute_result"
    }
   ],
   "source": [
    "l1 = (11,22,33,44,55)\n",
    "converted_list = tuple(l1)\n",
    "converted_list\n",
    "#i have used tuple() to convert a  list to tuple"
   ]
  },
  {
   "cell_type": "markdown",
   "id": "b5ea9c89",
   "metadata": {},
   "source": [
    "9. Unpack the elements of a tuple into variables."
   ]
  },
  {
   "cell_type": "code",
   "execution_count": 13,
   "id": "78c4cc6d",
   "metadata": {},
   "outputs": [
    {
     "data": {
      "text/plain": [
       "(11, 22, 33, 44, 55)"
      ]
     },
     "execution_count": 13,
     "metadata": {},
     "output_type": "execute_result"
    }
   ],
   "source": [
    "t1"
   ]
  },
  {
   "cell_type": "code",
   "execution_count": 14,
   "id": "911be1bc",
   "metadata": {},
   "outputs": [],
   "source": [
    "a, b, c, d, e = t1"
   ]
  },
  {
   "cell_type": "code",
   "execution_count": 16,
   "id": "4ad5f852",
   "metadata": {},
   "outputs": [
    {
     "name": "stdout",
     "output_type": "stream",
     "text": [
      "11\n",
      "22\n",
      "33\n",
      "44\n",
      "55\n"
     ]
    }
   ],
   "source": [
    "print(a)\n",
    "print(b)\n",
    "print(c)\n",
    "print(d)\n",
    "print(e)"
   ]
  },
  {
   "cell_type": "markdown",
   "id": "0b7bb53d",
   "metadata": {},
   "source": [
    "10. Create a tuple of even numbers from 1 to 10."
   ]
  },
  {
   "cell_type": "code",
   "execution_count": 18,
   "id": "9f525fbc",
   "metadata": {},
   "outputs": [
    {
     "name": "stdout",
     "output_type": "stream",
     "text": [
      "(2, 4, 6, 8, 10)\n"
     ]
    }
   ],
   "source": [
    "even_numbers = [i for i in range(2, 11, 2)]\n",
    "even_tuple = tuple(even_numbers)\n",
    "print(even_tuple)\n",
    "# I have used a list comprehension to generate a list of even numbers from 2 to 10 and assign it to\n",
    "# the variable even_numbers. Then converted this list to a tuple using the tuple() and assign it to the variable even_tuple"
   ]
  },
  {
   "cell_type": "markdown",
   "id": "ac72825c",
   "metadata": {},
   "source": [
    "11. Create a tuple of odd numbers from 1 to 10."
   ]
  },
  {
   "cell_type": "code",
   "execution_count": 19,
   "id": "5abe7276",
   "metadata": {},
   "outputs": [
    {
     "name": "stdout",
     "output_type": "stream",
     "text": [
      "(1, 3, 5, 7, 9)\n"
     ]
    }
   ],
   "source": [
    "odd_numbers = [i for i in range(1, 11, 2)]\n",
    "odd_tuple = tuple(odd_numbers)\n",
    "print(odd_tuple)\n"
   ]
  },
  {
   "cell_type": "markdown",
   "id": "de30f54f",
   "metadata": {},
   "source": [
    "12. Concatenate two tuples."
   ]
  },
  {
   "cell_type": "code",
   "execution_count": 21,
   "id": "d5a060ab",
   "metadata": {},
   "outputs": [
    {
     "name": "stdout",
     "output_type": "stream",
     "text": [
      "(1, 2, 3, 4, 5, 6)\n"
     ]
    }
   ],
   "source": [
    "tuple1 = (1, 2, 3)\n",
    "tuple2 = (4, 5, 6)\n",
    "result = tuple1 + tuple2\n",
    "print(result)\n",
    "# used + to concatenate 2 tuples"
   ]
  },
  {
   "cell_type": "markdown",
   "id": "bde96d6e",
   "metadata": {},
   "source": [
    "13. Repeat a tuple three times."
   ]
  },
  {
   "cell_type": "code",
   "execution_count": 23,
   "id": "f3e7e876",
   "metadata": {},
   "outputs": [],
   "source": [
    "t1 = (\"rajesh\",\"chintu\")\n",
    "t2 = t1 * 3"
   ]
  },
  {
   "cell_type": "code",
   "execution_count": 24,
   "id": "3d1aa521",
   "metadata": {},
   "outputs": [
    {
     "data": {
      "text/plain": [
       "('rajesh', 'chintu', 'rajesh', 'chintu', 'rajesh', 'chintu')"
      ]
     },
     "execution_count": 24,
     "metadata": {},
     "output_type": "execute_result"
    }
   ],
   "source": [
    "t2"
   ]
  },
  {
   "cell_type": "markdown",
   "id": "a98afce8",
   "metadata": {},
   "source": [
    "14. Check if a tuple is empty."
   ]
  },
  {
   "cell_type": "code",
   "execution_count": 26,
   "id": "603492a3",
   "metadata": {},
   "outputs": [
    {
     "name": "stdout",
     "output_type": "stream",
     "text": [
      "The tuple is empty\n"
     ]
    }
   ],
   "source": [
    "t3 = ()\n",
    "if not t3:\n",
    "    print(\"The tuple is empty\")\n",
    "else:\n",
    "    print(\"The tuple is not empty\")\n",
    "\n",
    "# used not operator with my tuple to check if it is empty"
   ]
  },
  {
   "cell_type": "markdown",
   "id": "96a4fada",
   "metadata": {},
   "source": [
    "15. Create a nested tuple.\n"
   ]
  },
  {
   "cell_type": "code",
   "execution_count": 30,
   "id": "5ad35492",
   "metadata": {},
   "outputs": [
    {
     "data": {
      "text/plain": [
       "((1, 2), (7, 6), (4, 4))"
      ]
     },
     "execution_count": 30,
     "metadata": {},
     "output_type": "execute_result"
    }
   ],
   "source": [
    "t4 = ((1,2),(7,6),(4,4))\n",
    "t4"
   ]
  },
  {
   "cell_type": "code",
   "execution_count": 28,
   "id": "0149f9d8",
   "metadata": {},
   "outputs": [
    {
     "data": {
      "text/plain": [
       "((1, 2), (7, 6), (4, 4))"
      ]
     },
     "execution_count": 28,
     "metadata": {},
     "output_type": "execute_result"
    }
   ],
   "source": [
    "t4"
   ]
  },
  {
   "cell_type": "markdown",
   "id": "a780062c",
   "metadata": {},
   "source": [
    "16. Access the first element of a nested tuple.\n"
   ]
  },
  {
   "cell_type": "code",
   "execution_count": 31,
   "id": "060434d7",
   "metadata": {},
   "outputs": [
    {
     "data": {
      "text/plain": [
       "((1, 2), (7, 6), (4, 4))"
      ]
     },
     "execution_count": 31,
     "metadata": {},
     "output_type": "execute_result"
    }
   ],
   "source": [
    "t4"
   ]
  },
  {
   "cell_type": "code",
   "execution_count": 33,
   "id": "29620cf6",
   "metadata": {},
   "outputs": [
    {
     "data": {
      "text/plain": [
       "1"
      ]
     },
     "execution_count": 33,
     "metadata": {},
     "output_type": "execute_result"
    }
   ],
   "source": [
    "first_element = t4[0][0]\n",
    "first_element\n",
    "# i have used index operator [] twice to access the first element of the first tuple and assign it to the variable first_element"
   ]
  },
  {
   "cell_type": "markdown",
   "id": "1b4ddc1d",
   "metadata": {},
   "source": [
    "17. Create a tuple with a single element.\n"
   ]
  },
  {
   "cell_type": "code",
   "execution_count": 34,
   "id": "5ff39f59",
   "metadata": {},
   "outputs": [
    {
     "data": {
      "text/plain": [
       "(100,)"
      ]
     },
     "execution_count": 34,
     "metadata": {},
     "output_type": "execute_result"
    }
   ],
   "source": [
    "t5 = (100,)\n",
    "t5"
   ]
  },
  {
   "cell_type": "markdown",
   "id": "1865feaf",
   "metadata": {},
   "source": [
    "18. Compare two tuples."
   ]
  },
  {
   "cell_type": "code",
   "execution_count": 35,
   "id": "74597e5b",
   "metadata": {},
   "outputs": [
    {
     "data": {
      "text/plain": [
       "True"
      ]
     },
     "execution_count": 35,
     "metadata": {},
     "output_type": "execute_result"
    }
   ],
   "source": [
    "tuple1 = (1, 2, 3)\n",
    "tuple2 = (1, 2, 4)\n",
    "tuple2 == tuple2"
   ]
  },
  {
   "cell_type": "markdown",
   "id": "b3a03f0f",
   "metadata": {},
   "source": [
    "19. Delete a tuple."
   ]
  },
  {
   "cell_type": "code",
   "execution_count": 36,
   "id": "1ae60673",
   "metadata": {},
   "outputs": [],
   "source": [
    "tuple1 = (1, 2, 3)\n",
    "del tuple1"
   ]
  },
  {
   "cell_type": "code",
   "execution_count": 38,
   "id": "57fa9fc4",
   "metadata": {},
   "outputs": [
    {
     "ename": "NameError",
     "evalue": "name 'tuple1' is not defined",
     "output_type": "error",
     "traceback": [
      "\u001b[1;31m---------------------------------------------------------------------------\u001b[0m",
      "\u001b[1;31mNameError\u001b[0m                                 Traceback (most recent call last)",
      "Cell \u001b[1;32mIn[38], line 1\u001b[0m\n\u001b[1;32m----> 1\u001b[0m \u001b[43mtuple1\u001b[49m\n",
      "\u001b[1;31mNameError\u001b[0m: name 'tuple1' is not defined"
     ]
    }
   ],
   "source": [
    "tuple1 # no result coming as tuple1 is now deleted"
   ]
  },
  {
   "cell_type": "markdown",
   "id": "7d750292",
   "metadata": {},
   "source": [
    "20. Slice a tuple."
   ]
  },
  {
   "cell_type": "code",
   "execution_count": 40,
   "id": "7bc233a8",
   "metadata": {},
   "outputs": [
    {
     "name": "stdout",
     "output_type": "stream",
     "text": [
      "(2, 3, 4)\n"
     ]
    }
   ],
   "source": [
    "my_tuple = (1, 2, 3, 4, 5)\n",
    "slice_tuple = my_tuple[1:4]\n",
    "print(slice_tuple)\n",
    "# : to extract a portion of the tuple from the second element to the fourth element"
   ]
  },
  {
   "cell_type": "markdown",
   "id": "ba0670ea",
   "metadata": {},
   "source": [
    "21. Find the maximum value in a tuple."
   ]
  },
  {
   "cell_type": "code",
   "execution_count": 41,
   "id": "b63e98a8",
   "metadata": {},
   "outputs": [
    {
     "name": "stdout",
     "output_type": "stream",
     "text": [
      "5\n"
     ]
    }
   ],
   "source": [
    "my_tuple = (1, 2, 3, 4, 5)\n",
    "max_value = max(my_tuple)\n",
    "print(max_value)"
   ]
  },
  {
   "cell_type": "markdown",
   "id": "e9cc6783",
   "metadata": {},
   "source": [
    "22. Find the minimum value in a tuple."
   ]
  },
  {
   "cell_type": "code",
   "execution_count": 42,
   "id": "e6ec4f7d",
   "metadata": {},
   "outputs": [
    {
     "name": "stdout",
     "output_type": "stream",
     "text": [
      "1\n"
     ]
    }
   ],
   "source": [
    "my_tuple = (1, 2, 3, 4, 5)\n",
    "min_value = min(my_tuple)\n",
    "print(min_value)"
   ]
  },
  {
   "cell_type": "markdown",
   "id": "6c320547",
   "metadata": {},
   "source": [
    "23. Convert a string to a tuple of characters."
   ]
  },
  {
   "cell_type": "code",
   "execution_count": 43,
   "id": "03142728",
   "metadata": {},
   "outputs": [
    {
     "name": "stdout",
     "output_type": "stream",
     "text": [
      "('r', 'a', 'j', 'e', 's', 'h')\n"
     ]
    }
   ],
   "source": [
    "my_string = \"rajesh\"\n",
    "my_tuple = tuple(my_string)\n",
    "print(my_tuple)\n",
    "# usde the tuple() function to convert the string to a tuple and assign it to the variable my_tuple"
   ]
  },
  {
   "cell_type": "markdown",
   "id": "33af1e9e",
   "metadata": {},
   "source": [
    "24. Convert a tuple of characters to a string."
   ]
  },
  {
   "cell_type": "code",
   "execution_count": 47,
   "id": "ecc79c09",
   "metadata": {},
   "outputs": [
    {
     "data": {
      "text/plain": [
       "'rajesh'"
      ]
     },
     "execution_count": 47,
     "metadata": {},
     "output_type": "execute_result"
    }
   ],
   "source": [
    "yy = ('r', 'a', 'j', 'e', 's', 'h')\n",
    "string1 = ''.join(yy)\n",
    "string1"
   ]
  },
  {
   "cell_type": "markdown",
   "id": "5699c21f",
   "metadata": {},
   "source": [
    "25. Create a tuple from multiple data types."
   ]
  },
  {
   "cell_type": "code",
   "execution_count": 48,
   "id": "2d9660f1",
   "metadata": {},
   "outputs": [
    {
     "data": {
      "text/plain": [
       "(11, 'rajesh', 44, 56, True)"
      ]
     },
     "execution_count": 48,
     "metadata": {},
     "output_type": "execute_result"
    }
   ],
   "source": [
    "tt = (11,\"rajesh\",44,56, True)\n",
    "tt"
   ]
  },
  {
   "cell_type": "markdown",
   "id": "5a72a5fe",
   "metadata": {},
   "source": [
    "26. Check if two tuples are identical."
   ]
  },
  {
   "cell_type": "code",
   "execution_count": 49,
   "id": "cf1a7206",
   "metadata": {},
   "outputs": [
    {
     "data": {
      "text/plain": [
       "True"
      ]
     },
     "execution_count": 49,
     "metadata": {},
     "output_type": "execute_result"
    }
   ],
   "source": [
    "tuple3 = (1, 2, 3)\n",
    "tuple4 = (1, 2, 3)\n",
    "tuple3 == tuple4"
   ]
  },
  {
   "cell_type": "markdown",
   "id": "ac62add9",
   "metadata": {},
   "source": [
    "27. Sort the elements of a tuple."
   ]
  },
  {
   "cell_type": "code",
   "execution_count": 51,
   "id": "fbc4eb65",
   "metadata": {},
   "outputs": [
    {
     "name": "stdout",
     "output_type": "stream",
     "text": [
      "[1, 1, 2, 3, 3, 4, 5, 5, 5, 6, 9]\n"
     ]
    }
   ],
   "source": [
    "my_tuple = (3, 1, 4, 1, 5, 9, 2, 6, 5, 3, 5)\n",
    "sorted_list = sorted(my_tuple)\n",
    "print(sorted_list)\n",
    "# used the sorted() function to sort the elements of the tuple in ascending order\n",
    "#This includes duplicates"
   ]
  },
  {
   "cell_type": "markdown",
   "id": "9acba58b",
   "metadata": {},
   "source": [
    "28. Convert a tuple of integers to a tuple of strings."
   ]
  },
  {
   "cell_type": "code",
   "execution_count": 52,
   "id": "188de3c7",
   "metadata": {},
   "outputs": [
    {
     "name": "stdout",
     "output_type": "stream",
     "text": [
      "('1', '2', '3', '4', '5')\n"
     ]
    }
   ],
   "source": [
    "my_tuple = (1, 2, 3, 4, 5)\n",
    "string_tuple = tuple(str(i) for i in my_tuple)\n",
    "print(string_tuple)\n"
   ]
  },
  {
   "cell_type": "markdown",
   "id": "ef1c8e65",
   "metadata": {},
   "source": [
    "29. Convert a tuple of strings to a tuple of integers."
   ]
  },
  {
   "cell_type": "code",
   "execution_count": 53,
   "id": "0d7ab4d2",
   "metadata": {},
   "outputs": [
    {
     "name": "stdout",
     "output_type": "stream",
     "text": [
      "(1, 2, 3, 4, 5)\n"
     ]
    }
   ],
   "source": [
    "my_tuple = ('1', '2', '3', '4', '5')\n",
    "int_tuple = tuple(int(i) for i in my_tuple)\n",
    "print(int_tuple)"
   ]
  },
  {
   "cell_type": "markdown",
   "id": "bb2be14a",
   "metadata": {},
   "source": [
    "30. Merge two tuples."
   ]
  },
  {
   "cell_type": "code",
   "execution_count": 54,
   "id": "e93e4f6a",
   "metadata": {},
   "outputs": [
    {
     "data": {
      "text/plain": [
       "('rajesh', 'chintu')"
      ]
     },
     "execution_count": 54,
     "metadata": {},
     "output_type": "execute_result"
    }
   ],
   "source": [
    "t1"
   ]
  },
  {
   "cell_type": "code",
   "execution_count": 55,
   "id": "ee457306",
   "metadata": {},
   "outputs": [
    {
     "data": {
      "text/plain": [
       "('rajesh', 'chintu', 'rajesh', 'chintu', 'rajesh', 'chintu')"
      ]
     },
     "execution_count": 55,
     "metadata": {},
     "output_type": "execute_result"
    }
   ],
   "source": [
    "t2"
   ]
  },
  {
   "cell_type": "code",
   "execution_count": 56,
   "id": "96471b8d",
   "metadata": {},
   "outputs": [
    {
     "data": {
      "text/plain": [
       "('rajesh',\n",
       " 'chintu',\n",
       " 'rajesh',\n",
       " 'chintu',\n",
       " 'rajesh',\n",
       " 'chintu',\n",
       " 'rajesh',\n",
       " 'chintu')"
      ]
     },
     "execution_count": 56,
     "metadata": {},
     "output_type": "execute_result"
    }
   ],
   "source": [
    "t1 + t2"
   ]
  },
  {
   "cell_type": "markdown",
   "id": "1c7c93da",
   "metadata": {},
   "source": [
    "31. Flatten a nested tuple."
   ]
  },
  {
   "cell_type": "code",
   "execution_count": 57,
   "id": "3b9e35ae",
   "metadata": {},
   "outputs": [
    {
     "name": "stdout",
     "output_type": "stream",
     "text": [
      "(1, 2, 3, 4, 5, 6, 7, 8)\n"
     ]
    }
   ],
   "source": [
    "def flatten_tuple(nested_tuple):\n",
    "    flattened = []\n",
    "    for element in nested_tuple:\n",
    "        if isinstance(element, tuple):\n",
    "            flattened += flatten_tuple(element)\n",
    "        else:\n",
    "            flattened.append(element)\n",
    "    return tuple(flattened)\n",
    "\n",
    "my_tuple = ((1, 2), (3, (4, 5)), 6, (7,), 8)\n",
    "flattened_tuple = flatten_tuple(my_tuple)\n",
    "print(flattened_tuple)"
   ]
  },
  {
   "cell_type": "markdown",
   "id": "8febada4",
   "metadata": {},
   "source": [
    "32. Create a tuple of the first 5 prime numbers."
   ]
  },
  {
   "cell_type": "code",
   "execution_count": 60,
   "id": "7b16781d",
   "metadata": {},
   "outputs": [],
   "source": [
    "first_5_prime = (2,3,5,7,11)"
   ]
  },
  {
   "cell_type": "code",
   "execution_count": 61,
   "id": "78d473f2",
   "metadata": {},
   "outputs": [
    {
     "data": {
      "text/plain": [
       "(2, 3, 5, 7, 11)"
      ]
     },
     "execution_count": 61,
     "metadata": {},
     "output_type": "execute_result"
    }
   ],
   "source": [
    "first_5_prime"
   ]
  },
  {
   "cell_type": "markdown",
   "id": "7dad46b1",
   "metadata": {},
   "source": [
    "33. Check if a tuple is a palindrome.\n"
   ]
  },
  {
   "cell_type": "code",
   "execution_count": 62,
   "id": "3cfd8cc5",
   "metadata": {},
   "outputs": [],
   "source": [
    "t10 = (1,2,3,2,1)\n",
    "reversed_t10 = t10[::-1]\n"
   ]
  },
  {
   "cell_type": "code",
   "execution_count": 63,
   "id": "3f314aca",
   "metadata": {},
   "outputs": [
    {
     "data": {
      "text/plain": [
       "(1, 2, 3, 2, 1)"
      ]
     },
     "execution_count": 63,
     "metadata": {},
     "output_type": "execute_result"
    }
   ],
   "source": [
    "reversed_t10"
   ]
  },
  {
   "cell_type": "code",
   "execution_count": 64,
   "id": "9eb7405c",
   "metadata": {},
   "outputs": [
    {
     "data": {
      "text/plain": [
       "True"
      ]
     },
     "execution_count": 64,
     "metadata": {},
     "output_type": "execute_result"
    }
   ],
   "source": [
    "t10 == reversed_t10"
   ]
  },
  {
   "cell_type": "markdown",
   "id": "707a2f69",
   "metadata": {},
   "source": [
    "34. Create a tuple of squares of numbers from 1 to 5."
   ]
  },
  {
   "cell_type": "code",
   "execution_count": 66,
   "id": "5d750559",
   "metadata": {},
   "outputs": [
    {
     "name": "stdout",
     "output_type": "stream",
     "text": [
      "(1, 4, 9, 16, 25)\n"
     ]
    }
   ],
   "source": [
    "squares = tuple(i**2 for i in range(1, 6))\n",
    "print(squares)\n",
    "#The range() function generates a sequence of numbers from 1 to 5  and the i**2 expression calculates the square of each number.\n"
   ]
  },
  {
   "cell_type": "markdown",
   "id": "72e74c97",
   "metadata": {},
   "source": [
    "35. Filter out all even numbers from a tuple."
   ]
  },
  {
   "cell_type": "code",
   "execution_count": 67,
   "id": "7690aafa",
   "metadata": {},
   "outputs": [
    {
     "data": {
      "text/plain": [
       "(2, 4, 10, 14, 18)"
      ]
     },
     "execution_count": 67,
     "metadata": {},
     "output_type": "execute_result"
    }
   ],
   "source": [
    "tt1 = (1,2,4,5,7,9,10,14,18,19,21,23)\n",
    "even_numbers = tuple(i for i in tt1 if i % 2 == 0)\n",
    "even_numbers"
   ]
  },
  {
   "cell_type": "markdown",
   "id": "ed3f48a8",
   "metadata": {},
   "source": [
    "36. Multiply all elements in a tuple by 2."
   ]
  },
  {
   "cell_type": "code",
   "execution_count": 68,
   "id": "6a28b6c4",
   "metadata": {},
   "outputs": [
    {
     "data": {
      "text/plain": [
       "(1, 2, 4, 5, 7, 9, 10, 14, 18, 19, 21, 23)"
      ]
     },
     "execution_count": 68,
     "metadata": {},
     "output_type": "execute_result"
    }
   ],
   "source": [
    "tt1\n"
   ]
  },
  {
   "cell_type": "code",
   "execution_count": 69,
   "id": "0de20f8e",
   "metadata": {},
   "outputs": [
    {
     "data": {
      "text/plain": [
       "(2, 4, 8, 10, 14, 18, 20, 28, 36, 38, 42, 46)"
      ]
     },
     "execution_count": 69,
     "metadata": {},
     "output_type": "execute_result"
    }
   ],
   "source": [
    "multiplied_result = tuple(i * 2 for i in tt1)\n",
    "multiplied_result"
   ]
  },
  {
   "cell_type": "markdown",
   "id": "bcb128e8",
   "metadata": {},
   "source": [
    "37. Create a tuple of random numbers."
   ]
  },
  {
   "cell_type": "code",
   "execution_count": 70,
   "id": "08d35a74",
   "metadata": {},
   "outputs": [
    {
     "name": "stdout",
     "output_type": "stream",
     "text": [
      "(0.8311961854683269, 0.08863095030954105, 0.2861739191366557, 0.854789106959098, 0.5835029426782958, 0.7102348464644874, 0.05293619129146576, 0.476234067532317, 0.5347959994883406, 0.7554163925219208)\n"
     ]
    }
   ],
   "source": [
    "import random\n",
    "random_numbers = tuple(random.random() for _ in range(10))\n",
    "\n",
    "print(random_numbers)"
   ]
  },
  {
   "cell_type": "markdown",
   "id": "33f73289",
   "metadata": {},
   "source": [
    "38. Check if a tuple is sorted."
   ]
  },
  {
   "cell_type": "code",
   "execution_count": 71,
   "id": "68bf1ac7",
   "metadata": {},
   "outputs": [
    {
     "data": {
      "text/plain": [
       "(1, 2, 4, 5, 7, 9, 10, 14, 18, 19, 21, 23)"
      ]
     },
     "execution_count": 71,
     "metadata": {},
     "output_type": "execute_result"
    }
   ],
   "source": [
    "tt1"
   ]
  },
  {
   "cell_type": "code",
   "execution_count": 72,
   "id": "65955f2c",
   "metadata": {},
   "outputs": [],
   "source": [
    "is_sorted = tt1 == tuple(sorted(tt1))"
   ]
  },
  {
   "cell_type": "code",
   "execution_count": 73,
   "id": "ce3aa710",
   "metadata": {},
   "outputs": [
    {
     "data": {
      "text/plain": [
       "True"
      ]
     },
     "execution_count": 73,
     "metadata": {},
     "output_type": "execute_result"
    }
   ],
   "source": [
    "is_sorted"
   ]
  },
  {
   "cell_type": "markdown",
   "id": "7a4cd53d",
   "metadata": {},
   "source": [
    "39. Rotate a tuple to the left by `n` positions."
   ]
  },
  {
   "cell_type": "code",
   "execution_count": 74,
   "id": "2c3f5b62",
   "metadata": {},
   "outputs": [
    {
     "data": {
      "text/plain": [
       "(3, 4, 5, 1, 2)"
      ]
     },
     "execution_count": 74,
     "metadata": {},
     "output_type": "execute_result"
    }
   ],
   "source": [
    "ttt = (1,2,3,4,5)\n",
    "n = 2\n",
    "rotate = ttt[n:] + ttt[:n]\n",
    "rotate"
   ]
  },
  {
   "cell_type": "markdown",
   "id": "d291e311",
   "metadata": {},
   "source": [
    "\n",
    "40. Rotate a tuple to the right by `n` positions."
   ]
  },
  {
   "cell_type": "code",
   "execution_count": 75,
   "id": "47798b41",
   "metadata": {},
   "outputs": [
    {
     "data": {
      "text/plain": [
       "(1, 2, 3, 4, 5)"
      ]
     },
     "execution_count": 75,
     "metadata": {},
     "output_type": "execute_result"
    }
   ],
   "source": [
    "ttt"
   ]
  },
  {
   "cell_type": "code",
   "execution_count": 76,
   "id": "093844c1",
   "metadata": {},
   "outputs": [
    {
     "data": {
      "text/plain": [
       "(3, 4, 5, 1, 2)"
      ]
     },
     "execution_count": 76,
     "metadata": {},
     "output_type": "execute_result"
    }
   ],
   "source": [
    "n = 3\n",
    "rotate2 = ttt[-n:] + ttt[:-n]\n",
    "rotate2"
   ]
  },
  {
   "cell_type": "markdown",
   "id": "4b45e105",
   "metadata": {},
   "source": [
    "41. Create a tuple of the first 5 Fibonacci numbers."
   ]
  },
  {
   "cell_type": "code",
   "execution_count": 77,
   "id": "df8fabda",
   "metadata": {},
   "outputs": [
    {
     "name": "stdout",
     "output_type": "stream",
     "text": [
      "(0, 1, 1, 2, 3)\n"
     ]
    }
   ],
   "source": [
    "def fibonacci(n):\n",
    "    fib = [0, 1]\n",
    "    for i in range(2, n):\n",
    "        fib.append(fib[i-1] + fib[i-2])\n",
    "    return tuple(fib[:n])\n",
    "\n",
    "# Call the function to generate the first 5 Fibonacci numbers\n",
    "fibonacci_numbers = fibonacci(5)\n",
    "\n",
    "print(fibonacci_numbers)"
   ]
  },
  {
   "cell_type": "markdown",
   "id": "427f653e",
   "metadata": {},
   "source": [
    "42. Create a tuple from user input.\n"
   ]
  },
  {
   "cell_type": "code",
   "execution_count": 80,
   "id": "694eeeec",
   "metadata": {},
   "outputs": [
    {
     "name": "stdout",
     "output_type": "stream",
     "text": [
      "Enter list of values r,a,j\n",
      "('r', 'a', 'j')\n"
     ]
    }
   ],
   "source": [
    "user_input = input(\"Enter list of values \")\n",
    "\n",
    "user_input_list = user_input.split(\",\")\n",
    "\n",
    "# Convert each string to an integer and create a tuple\n",
    "value_tuple = tuple(user_input_list)\n",
    "\n",
    "print(value_tuple)"
   ]
  },
  {
   "cell_type": "markdown",
   "id": "2c9f6544",
   "metadata": {},
   "source": [
    "43. Swap two elements in a tuple."
   ]
  },
  {
   "cell_type": "code",
   "execution_count": 81,
   "id": "4d667acd",
   "metadata": {},
   "outputs": [
    {
     "name": "stdout",
     "output_type": "stream",
     "text": [
      "(1, 4, 3, 2, 5, 6)\n"
     ]
    }
   ],
   "source": [
    "# Define a tuple of numbers\n",
    "numbers = (1, 2, 3, 4, 5, 6)\n",
    "\n",
    "# Convert the tuple to a list\n",
    "numbers_list = list(numbers)\n",
    "\n",
    "# Swap the elements at indices i and j\n",
    "i, j = 1, 3\n",
    "numbers_list[i], numbers_list[j] = numbers_list[j], numbers_list[i]\n",
    "\n",
    "# Convert the list back to a tuple\n",
    "swapped_numbers = tuple(numbers_list)\n",
    "\n",
    "print(swapped_numbers)"
   ]
  },
  {
   "cell_type": "markdown",
   "id": "c35b6887",
   "metadata": {},
   "source": [
    "44. Reverse the elements of a tuple"
   ]
  },
  {
   "cell_type": "code",
   "execution_count": 82,
   "id": "7b53a260",
   "metadata": {},
   "outputs": [
    {
     "name": "stdout",
     "output_type": "stream",
     "text": [
      "(6, 5, 4, 3, 2, 1)\n"
     ]
    }
   ],
   "source": [
    "# Define a tuple of numbers\n",
    "t44 = (1, 2, 3, 4, 5, 6)\n",
    "\n",
    "# Use slicing to reverse the tuple\n",
    "reversedd = t44[::-1]\n",
    "\n",
    "print(reversedd)"
   ]
  },
  {
   "cell_type": "markdown",
   "id": "703fb307",
   "metadata": {},
   "source": [
    "45. Create a tuple of the first `n` powers of 2."
   ]
  },
  {
   "cell_type": "code",
   "execution_count": 83,
   "id": "a97c635a",
   "metadata": {},
   "outputs": [
    {
     "name": "stdout",
     "output_type": "stream",
     "text": [
      "(1, 2, 4, 8, 16)\n"
     ]
    }
   ],
   "source": [
    "# Define the value of n\n",
    "n = 5\n",
    "\n",
    "# Create a tuple of the first n powers of 2 using a list comprehension\n",
    "result = tuple(2 ** i for i in range(n))\n",
    "\n",
    "# Print the tuple of powers of 2\n",
    "print(result)"
   ]
  },
  {
   "cell_type": "markdown",
   "id": "f026c08b",
   "metadata": {},
   "source": [
    "46. Find the longest string in a tuple of strings."
   ]
  },
  {
   "cell_type": "code",
   "execution_count": 86,
   "id": "9519f01b",
   "metadata": {},
   "outputs": [
    {
     "name": "stdout",
     "output_type": "stream",
     "text": [
      "rajesh\n"
     ]
    }
   ],
   "source": [
    "# Define a tuple of strings\n",
    "s3 = ('rajesh', 'kumar', 'Chin')\n",
    "\n",
    "# Find the longest string in the tuple\n",
    "longest_string = max(s3, key=len)\n",
    "\n",
    "print(longest_string)"
   ]
  },
  {
   "cell_type": "markdown",
   "id": "52848c0a",
   "metadata": {},
   "source": [
    "47. Find the shortest string in a tuple of strings."
   ]
  },
  {
   "cell_type": "code",
   "execution_count": 87,
   "id": "1c556431",
   "metadata": {},
   "outputs": [
    {
     "name": "stdout",
     "output_type": "stream",
     "text": [
      "Chin\n"
     ]
    }
   ],
   "source": [
    "# Define a tuple of strings\n",
    "s3 = ('rajesh', 'kumar', 'Chin')\n",
    "\n",
    "# Find the longest string in the tuple\n",
    "shortest_string = min(s3, key=len)\n",
    "\n",
    "print(shortest_string)"
   ]
  },
  {
   "cell_type": "markdown",
   "id": "a11a3ad0",
   "metadata": {},
   "source": [
    "48. Create a tuple of the first `n` triangular numbers."
   ]
  },
  {
   "cell_type": "code",
   "execution_count": 88,
   "id": "d3ca4304",
   "metadata": {},
   "outputs": [
    {
     "name": "stdout",
     "output_type": "stream",
     "text": [
      "Tuple of the first 5 triangular numbers: (1, 3, 6, 10, 15)\n"
     ]
    }
   ],
   "source": [
    "# Define the value of n\n",
    "n = 5\n",
    "\n",
    "# Create a tuple of the first n triangular numbers using a list comprehension\n",
    "triangular_numbers_tuple = tuple((i * (i + 1)) // 2 for i in range(1, n + 1))\n",
    "\n",
    "# Print the tuple of triangular numbers\n",
    "print(\"Tuple of the first\", n, \"triangular numbers:\", triangular_numbers_tuple)"
   ]
  },
  {
   "cell_type": "markdown",
   "id": "a85ec7b0",
   "metadata": {},
   "source": [
    "49. Check if a tuple contains another tuple as a subsequence."
   ]
  },
  {
   "cell_type": "code",
   "execution_count": 89,
   "id": "cf167c72",
   "metadata": {},
   "outputs": [
    {
     "name": "stdout",
     "output_type": "stream",
     "text": [
      "True\n"
     ]
    }
   ],
   "source": [
    "# Define the main tuple and the sub-tuple\n",
    "main_tuple = (1, 2, 3, 4, 5, 6)\n",
    "sub_tuple = (3, 4)\n",
    "\n",
    "# Check if the sub-tuple is a subsequence of the main tuple\n",
    "is_subsequence = all(item in main_tuple for item in sub_tuple)\n",
    "\n",
    "print(is_subsequence)"
   ]
  },
  {
   "cell_type": "markdown",
   "id": "809e7e1f",
   "metadata": {},
   "source": [
    "50. Create a tuple of alternating 1s and 0s of length `n`."
   ]
  },
  {
   "cell_type": "code",
   "execution_count": 90,
   "id": "7d100496",
   "metadata": {},
   "outputs": [
    {
     "name": "stdout",
     "output_type": "stream",
     "text": [
      "(1, 0, 1, 0, 1, 0, 1, 0, 1, 0)\n"
     ]
    }
   ],
   "source": [
    "# Define the length of the tuple\n",
    "n = 10\n",
    "\n",
    "# Use a generator expression to create the tuple\n",
    "alternating_tuple = tuple(1 if i % 2 == 0 else 0 for i in range(n))\n",
    "\n",
    "print(alternating_tuple)"
   ]
  },
  {
   "cell_type": "markdown",
   "id": "8cc8a9c0",
   "metadata": {},
   "source": [
    "# Set Based Practice Problem :"
   ]
  },
  {
   "cell_type": "markdown",
   "id": "e58af55b",
   "metadata": {},
   "source": [
    "1. Create a set with integers from 1 to 5.\n"
   ]
  },
  {
   "cell_type": "code",
   "execution_count": 91,
   "id": "e807e598",
   "metadata": {},
   "outputs": [],
   "source": [
    "my_set = {1, 2, 3, 4, 5}"
   ]
  },
  {
   "cell_type": "code",
   "execution_count": 92,
   "id": "2bcccefb",
   "metadata": {},
   "outputs": [
    {
     "data": {
      "text/plain": [
       "{1, 2, 3, 4, 5}"
      ]
     },
     "execution_count": 92,
     "metadata": {},
     "output_type": "execute_result"
    }
   ],
   "source": [
    "my_set"
   ]
  },
  {
   "cell_type": "markdown",
   "id": "383ca854",
   "metadata": {},
   "source": [
    "2. Add an element to a set."
   ]
  },
  {
   "cell_type": "code",
   "execution_count": 93,
   "id": "b4b0fb62",
   "metadata": {},
   "outputs": [
    {
     "data": {
      "text/plain": [
       "{1, 2, 3, 4, 5}"
      ]
     },
     "execution_count": 93,
     "metadata": {},
     "output_type": "execute_result"
    }
   ],
   "source": [
    "my_set"
   ]
  },
  {
   "cell_type": "code",
   "execution_count": 94,
   "id": "afe4e853",
   "metadata": {},
   "outputs": [
    {
     "data": {
      "text/plain": [
       "{1, 2, 3, 4, 5, 10}"
      ]
     },
     "execution_count": 94,
     "metadata": {},
     "output_type": "execute_result"
    }
   ],
   "source": [
    "my_set.add(10)\n",
    "my_set"
   ]
  },
  {
   "cell_type": "markdown",
   "id": "65eaa917",
   "metadata": {},
   "source": [
    "3. Remove an element from a set."
   ]
  },
  {
   "cell_type": "code",
   "execution_count": 95,
   "id": "d12b92e4",
   "metadata": {},
   "outputs": [],
   "source": [
    "my_set = {1, 2, 3, 4, 5}\n",
    "my_set.remove(3)"
   ]
  },
  {
   "cell_type": "code",
   "execution_count": 98,
   "id": "f207975b",
   "metadata": {},
   "outputs": [
    {
     "data": {
      "text/plain": [
       "{1, 2, 4, 5}"
      ]
     },
     "execution_count": 98,
     "metadata": {},
     "output_type": "execute_result"
    }
   ],
   "source": [
    "my_set"
   ]
  },
  {
   "cell_type": "code",
   "execution_count": 96,
   "id": "9df938eb",
   "metadata": {},
   "outputs": [],
   "source": [
    "my_set = {1, 2, 3, 4, 5}\n",
    "my_set.discard(3)"
   ]
  },
  {
   "cell_type": "code",
   "execution_count": 97,
   "id": "3ddb9277",
   "metadata": {},
   "outputs": [
    {
     "data": {
      "text/plain": [
       "{1, 2, 4, 5}"
      ]
     },
     "execution_count": 97,
     "metadata": {},
     "output_type": "execute_result"
    }
   ],
   "source": [
    "my_set"
   ]
  },
  {
   "cell_type": "markdown",
   "id": "e817c569",
   "metadata": {},
   "source": [
    "4. Check if an element exists in a set.\n"
   ]
  },
  {
   "cell_type": "code",
   "execution_count": 99,
   "id": "c527c19b",
   "metadata": {},
   "outputs": [
    {
     "name": "stdout",
     "output_type": "stream",
     "text": [
      "3 is present in the set\n"
     ]
    }
   ],
   "source": [
    "my_set = {1, 2, 3, 4, 5}\n",
    "if 3 in my_set:\n",
    "    print(\"3 is present in the set\")\n",
    "else:\n",
    "    print(\"3 is not present in the set\")"
   ]
  },
  {
   "cell_type": "markdown",
   "id": "f88b5e57",
   "metadata": {},
   "source": [
    "5. Find the length of a set without using the `len()` function."
   ]
  },
  {
   "cell_type": "code",
   "execution_count": 100,
   "id": "44c0da40",
   "metadata": {},
   "outputs": [
    {
     "data": {
      "text/plain": [
       "{1, 2, 3, 4, 5}"
      ]
     },
     "execution_count": 100,
     "metadata": {},
     "output_type": "execute_result"
    }
   ],
   "source": [
    "my_set"
   ]
  },
  {
   "cell_type": "code",
   "execution_count": 104,
   "id": "e8003dab",
   "metadata": {},
   "outputs": [
    {
     "name": "stdout",
     "output_type": "stream",
     "text": [
      "Length of the set: 5\n"
     ]
    }
   ],
   "source": [
    "my_set = {1, 2, 3, 4, 5}\n",
    "count = 0\n",
    "for _ in my_set:\n",
    "    count += 1\n",
    "print(\"Length of the set:\", count)"
   ]
  },
  {
   "cell_type": "markdown",
   "id": "821e5934",
   "metadata": {},
   "source": [
    "6. Clear all elements from a set."
   ]
  },
  {
   "cell_type": "code",
   "execution_count": 105,
   "id": "4ff6ca3f",
   "metadata": {},
   "outputs": [
    {
     "data": {
      "text/plain": [
       "{1, 2, 3, 4, 5}"
      ]
     },
     "execution_count": 105,
     "metadata": {},
     "output_type": "execute_result"
    }
   ],
   "source": [
    "my_set"
   ]
  },
  {
   "cell_type": "code",
   "execution_count": 106,
   "id": "b2e49ca0",
   "metadata": {},
   "outputs": [
    {
     "data": {
      "text/plain": [
       "set()"
      ]
     },
     "execution_count": 106,
     "metadata": {},
     "output_type": "execute_result"
    }
   ],
   "source": [
    "my_set.clear()\n",
    "my_set"
   ]
  },
  {
   "cell_type": "markdown",
   "id": "1eb0b37b",
   "metadata": {},
   "source": [
    "7. Create a set of even numbers from 1 to 10."
   ]
  },
  {
   "cell_type": "code",
   "execution_count": 107,
   "id": "3c6980a1",
   "metadata": {},
   "outputs": [
    {
     "data": {
      "text/plain": [
       "set()"
      ]
     },
     "execution_count": 107,
     "metadata": {},
     "output_type": "execute_result"
    }
   ],
   "source": [
    "my_set"
   ]
  },
  {
   "cell_type": "code",
   "execution_count": 111,
   "id": "cbcad79d",
   "metadata": {},
   "outputs": [],
   "source": [
    "my_set = set(range(2, 11, 2))\n",
    "#The range() function generates a sequence of numbers from 1 to 10 with a step of 2, and the set() function converts the sequence into a set"
   ]
  },
  {
   "cell_type": "code",
   "execution_count": 112,
   "id": "4e6480e8",
   "metadata": {},
   "outputs": [
    {
     "data": {
      "text/plain": [
       "{2, 4, 6, 8, 10}"
      ]
     },
     "execution_count": 112,
     "metadata": {},
     "output_type": "execute_result"
    }
   ],
   "source": [
    "my_set"
   ]
  },
  {
   "cell_type": "markdown",
   "id": "a2037b9c",
   "metadata": {},
   "source": [
    "8. Create a set of odd numbers from 1 to 10."
   ]
  },
  {
   "cell_type": "code",
   "execution_count": 113,
   "id": "d9f2594b",
   "metadata": {},
   "outputs": [
    {
     "data": {
      "text/plain": [
       "{1, 3, 5, 7, 9}"
      ]
     },
     "execution_count": 113,
     "metadata": {},
     "output_type": "execute_result"
    }
   ],
   "source": [
    "my_set = set(range(1, 11, 2))\n",
    "my_set"
   ]
  },
  {
   "cell_type": "markdown",
   "id": "7a8884dc",
   "metadata": {},
   "source": [
    "9. Find the union of two sets."
   ]
  },
  {
   "cell_type": "code",
   "execution_count": 114,
   "id": "477347c0",
   "metadata": {},
   "outputs": [
    {
     "data": {
      "text/plain": [
       "{1, 2, 3, 4, 5, 6, 7, 8}"
      ]
     },
     "execution_count": 114,
     "metadata": {},
     "output_type": "execute_result"
    }
   ],
   "source": [
    "set1 = {1, 2, 3, 4, 5}\n",
    "set2 = {4, 5, 6, 7, 8}\n",
    "\n",
    "# Find the union of the two sets using the `union()` method\n",
    "union_result = set1.union(set2)\n",
    "\n",
    "union_result"
   ]
  },
  {
   "cell_type": "markdown",
   "id": "1bb5f6b2",
   "metadata": {},
   "source": [
    "10. Find the intersection of two sets.\n"
   ]
  },
  {
   "cell_type": "code",
   "execution_count": 115,
   "id": "8c33a091",
   "metadata": {},
   "outputs": [
    {
     "data": {
      "text/plain": [
       "{4, 5}"
      ]
     },
     "execution_count": 115,
     "metadata": {},
     "output_type": "execute_result"
    }
   ],
   "source": [
    "set1 = {1, 2, 3, 4, 5}\n",
    "set2 = {4, 5, 6, 7, 8}\n",
    "\n",
    "# Find the union of the two sets using the `union()` method\n",
    "intersection_result = set1.intersection(set2)\n",
    "\n",
    "intersection_result"
   ]
  },
  {
   "cell_type": "markdown",
   "id": "a46a5a0c",
   "metadata": {},
   "source": [
    "11. Find the difference between two sets."
   ]
  },
  {
   "cell_type": "code",
   "execution_count": 116,
   "id": "6ddab1f1",
   "metadata": {},
   "outputs": [],
   "source": [
    "set1 = {1, 2, 3, 4, 5}\n",
    "set2 = {4, 5, 6, 7, 8}"
   ]
  },
  {
   "cell_type": "code",
   "execution_count": 117,
   "id": "9cb71b65",
   "metadata": {},
   "outputs": [],
   "source": [
    "diff_set = set1 - set2"
   ]
  },
  {
   "cell_type": "code",
   "execution_count": 118,
   "id": "bc40fe97",
   "metadata": {},
   "outputs": [
    {
     "data": {
      "text/plain": [
       "{1, 2, 3}"
      ]
     },
     "execution_count": 118,
     "metadata": {},
     "output_type": "execute_result"
    }
   ],
   "source": [
    "diff_set\n"
   ]
  },
  {
   "cell_type": "code",
   "execution_count": 119,
   "id": "016e4983",
   "metadata": {},
   "outputs": [],
   "source": [
    "diff_set = set1.difference(set2)"
   ]
  },
  {
   "cell_type": "code",
   "execution_count": 120,
   "id": "b3fccced",
   "metadata": {},
   "outputs": [
    {
     "data": {
      "text/plain": [
       "{1, 2, 3}"
      ]
     },
     "execution_count": 120,
     "metadata": {},
     "output_type": "execute_result"
    }
   ],
   "source": [
    "diff_set"
   ]
  },
  {
   "cell_type": "markdown",
   "id": "84255414",
   "metadata": {},
   "source": [
    "12. Check if a set is a subset of another set."
   ]
  },
  {
   "cell_type": "code",
   "execution_count": 121,
   "id": "406e45d2",
   "metadata": {},
   "outputs": [
    {
     "name": "stdout",
     "output_type": "stream",
     "text": [
      "set1 is a subset of set2\n"
     ]
    }
   ],
   "source": [
    "set1 = {1, 2, 3}\n",
    "set2 = {1, 2, 3, 4, 5}\n",
    "if set1.issubset(set2):\n",
    "    print(\"set1 is a subset of set2\")\n",
    "else:\n",
    "    print(\"set1 is not a subset of set2\")"
   ]
  },
  {
   "cell_type": "markdown",
   "id": "197ebef0",
   "metadata": {},
   "source": [
    "13. Check if a set is a superset of another set."
   ]
  },
  {
   "cell_type": "code",
   "execution_count": 122,
   "id": "6a9a6327",
   "metadata": {},
   "outputs": [
    {
     "name": "stdout",
     "output_type": "stream",
     "text": [
      "set1 is a superset of set2\n"
     ]
    }
   ],
   "source": [
    "set1 = {1, 2, 3}\n",
    "set2 = {1, 2}\n",
    "if set1.issuperset(set2):\n",
    "    print(\"set1 is a superset of set2\")\n",
    "else:\n",
    "    print(\"set1 is not a superset of set2\")\n",
    "\n",
    "#This will check if set1 is a superset of set2. If it is a superset, it will print “set1 is a superset of set2"
   ]
  },
  {
   "cell_type": "markdown",
   "id": "dc5d95c7",
   "metadata": {},
   "source": [
    "14. Create a set from a list."
   ]
  },
  {
   "cell_type": "code",
   "execution_count": 125,
   "id": "dfea61a0",
   "metadata": {},
   "outputs": [
    {
     "data": {
      "text/plain": [
       "{1, 2, 3, 4, 5}"
      ]
     },
     "execution_count": 125,
     "metadata": {},
     "output_type": "execute_result"
    }
   ],
   "source": [
    "my_list = [1, 2, 3, 4, 5]\n",
    "my_set = set(my_list)\n",
    "my_set"
   ]
  },
  {
   "cell_type": "markdown",
   "id": "8edf2af6",
   "metadata": {},
   "source": [
    "15. Convert a set to a list."
   ]
  },
  {
   "cell_type": "code",
   "execution_count": 126,
   "id": "075ea298",
   "metadata": {},
   "outputs": [
    {
     "data": {
      "text/plain": [
       "[1, 2, 3, 4, 5]"
      ]
     },
     "execution_count": 126,
     "metadata": {},
     "output_type": "execute_result"
    }
   ],
   "source": [
    "my_set = {1, 2, 3, 4, 5}\n",
    "my_list = list(my_set)\n",
    "my_list"
   ]
  },
  {
   "cell_type": "markdown",
   "id": "ff77c4fd",
   "metadata": {},
   "source": [
    "16. Remove a random element from a set."
   ]
  },
  {
   "cell_type": "code",
   "execution_count": 127,
   "id": "94026053",
   "metadata": {},
   "outputs": [
    {
     "data": {
      "text/plain": [
       "{2, 3, 4, 5}"
      ]
     },
     "execution_count": 127,
     "metadata": {},
     "output_type": "execute_result"
    }
   ],
   "source": [
    "my_set = {1, 2, 3, 4, 5}\n",
    "my_set.pop()\n",
    "my_set"
   ]
  },
  {
   "cell_type": "markdown",
   "id": "a0a3ba4c",
   "metadata": {},
   "source": [
    "17. Pop an element from a set."
   ]
  },
  {
   "cell_type": "code",
   "execution_count": 128,
   "id": "1f70ea90",
   "metadata": {},
   "outputs": [
    {
     "data": {
      "text/plain": [
       "{2, 3, 4, 5}"
      ]
     },
     "execution_count": 128,
     "metadata": {},
     "output_type": "execute_result"
    }
   ],
   "source": [
    "my_set = {1, 2, 3, 4, 5}\n",
    "my_set.pop()\n",
    "my_set"
   ]
  },
  {
   "cell_type": "markdown",
   "id": "1908253f",
   "metadata": {},
   "source": [
    "18. Check if two sets have no elements in common."
   ]
  },
  {
   "cell_type": "code",
   "execution_count": 129,
   "id": "7f0c6d56",
   "metadata": {},
   "outputs": [
    {
     "name": "stdout",
     "output_type": "stream",
     "text": [
      "set1 and set2 have no elements in common\n"
     ]
    }
   ],
   "source": [
    "set1 = {1, 2, 3}\n",
    "set2 = {4, 5, 6}\n",
    "if set1.isdisjoint(set2):\n",
    "    print(\"set1 and set2 have no elements in common\")\n",
    "else:\n",
    "    print(\"set1 and set2 have at least one element in common\")"
   ]
  },
  {
   "cell_type": "markdown",
   "id": "595e393c",
   "metadata": {},
   "source": [
    "19. Find the symmetric difference between two sets."
   ]
  },
  {
   "cell_type": "code",
   "execution_count": 132,
   "id": "bcbea4de",
   "metadata": {},
   "outputs": [
    {
     "data": {
      "text/plain": [
       "{1, 2, 4, 5}"
      ]
     },
     "execution_count": 132,
     "metadata": {},
     "output_type": "execute_result"
    }
   ],
   "source": [
    "set1 = {1, 2, 3}\n",
    "set2 = {3, 4, 5}\n",
    "sym_diff_set = set1.symmetric_difference(set2)\n",
    "\n",
    "sym_diff_set"
   ]
  },
  {
   "cell_type": "code",
   "execution_count": 133,
   "id": "4cee7139",
   "metadata": {},
   "outputs": [
    {
     "data": {
      "text/plain": [
       "{1, 2, 4, 5}"
      ]
     },
     "execution_count": 133,
     "metadata": {},
     "output_type": "execute_result"
    }
   ],
   "source": [
    "sym_diff_set"
   ]
  },
  {
   "cell_type": "markdown",
   "id": "bc00aa4e",
   "metadata": {},
   "source": [
    "20. Update a set with elements from another set."
   ]
  },
  {
   "cell_type": "code",
   "execution_count": 135,
   "id": "0e67dc43",
   "metadata": {},
   "outputs": [],
   "source": [
    "set1 = {1, 2, 3}\n",
    "set2 = {3, 4, 5}\n",
    "set1.update(set2)\n",
    "# This will create two sets named set1 and set2 containing integers. The update() method and the |= operator will add all the unique elements from set2 to set1"
   ]
  },
  {
   "cell_type": "code",
   "execution_count": 136,
   "id": "35882d87",
   "metadata": {},
   "outputs": [
    {
     "data": {
      "text/plain": [
       "{1, 2, 3, 4, 5}"
      ]
     },
     "execution_count": 136,
     "metadata": {},
     "output_type": "execute_result"
    }
   ],
   "source": [
    "set1"
   ]
  },
  {
   "cell_type": "markdown",
   "id": "bea37995",
   "metadata": {},
   "source": [
    "21. Create a set of the first 5 prime numbers"
   ]
  },
  {
   "cell_type": "code",
   "execution_count": 140,
   "id": "28d4d4d5",
   "metadata": {},
   "outputs": [
    {
     "name": "stdout",
     "output_type": "stream",
     "text": [
      "Set of the first 5 prime numbers: {2, 3, 5, 7, 11}\n"
     ]
    }
   ],
   "source": [
    "# Function to check if a number is prime\n",
    "def is_prime(num):\n",
    "    if num <= 1:\n",
    "        return False\n",
    "    for i in range(2, int(num ** 0.5) + 1):\n",
    "        if num % i == 0:\n",
    "            return False\n",
    "    return True\n",
    "\n",
    "# Create an empty set to store the prime numbers\n",
    "prime_set = set()\n",
    "\n",
    "# Initialize the number to start checking for primes\n",
    "num = 2\n",
    "\n",
    "# Loop until we have found the first 5 prime numbers\n",
    "while len(prime_set) < 5:\n",
    "    # Check if the current number is prime using the is_prime function\n",
    "    if is_prime(num):\n",
    "        # If the number is prime, add it to the prime_set\n",
    "        prime_set.add(num)\n",
    "\n",
    "    # Move on to the next number for the next iteration\n",
    "    num += 1\n",
    "\n",
    "# Print the set of prime numbers\n",
    "print(\"Set of the first 5 prime numbers:\", prime_set)"
   ]
  },
  {
   "cell_type": "markdown",
   "id": "645176d8",
   "metadata": {},
   "source": [
    "22. Check if two sets are identical."
   ]
  },
  {
   "cell_type": "code",
   "execution_count": 141,
   "id": "95d46979",
   "metadata": {},
   "outputs": [
    {
     "data": {
      "text/plain": [
       "True"
      ]
     },
     "execution_count": 141,
     "metadata": {},
     "output_type": "execute_result"
    }
   ],
   "source": [
    "set1 = {1, 2, 3}\n",
    "set2 = {3, 2, 1}\n",
    "set1 == set2\n"
   ]
  },
  {
   "cell_type": "markdown",
   "id": "80d01db1",
   "metadata": {},
   "source": [
    "23. Create a frozen set."
   ]
  },
  {
   "cell_type": "code",
   "execution_count": 142,
   "id": "97893513",
   "metadata": {},
   "outputs": [],
   "source": [
    "my_set = frozenset([1, 2, 3, 4, 5])\n",
    "#This will create a frozen set named my_set containing integers from 1 to 5"
   ]
  },
  {
   "cell_type": "code",
   "execution_count": 143,
   "id": "0219d723",
   "metadata": {},
   "outputs": [
    {
     "data": {
      "text/plain": [
       "frozenset({1, 2, 3, 4, 5})"
      ]
     },
     "execution_count": 143,
     "metadata": {},
     "output_type": "execute_result"
    }
   ],
   "source": [
    "my_set"
   ]
  },
  {
   "cell_type": "markdown",
   "id": "e0e1ad3e",
   "metadata": {},
   "source": [
    "24. Check if a set is disjoint with another set."
   ]
  },
  {
   "cell_type": "code",
   "execution_count": 144,
   "id": "ab57b48d",
   "metadata": {},
   "outputs": [
    {
     "name": "stdout",
     "output_type": "stream",
     "text": [
      "set1 and set2 have no elements in common\n"
     ]
    }
   ],
   "source": [
    "set1 = {1, 2, 3}\n",
    "set2 = {4, 5, 6}\n",
    "if set1.isdisjoint(set2):\n",
    "    print(\"set1 and set2 have no elements in common\")\n",
    "else:\n",
    "    print(\"set1 and set2 have at least one element in common\")"
   ]
  },
  {
   "cell_type": "markdown",
   "id": "6cd6fee7",
   "metadata": {},
   "source": [
    "25. Create a set of squares of numbers from 1 to 5."
   ]
  },
  {
   "cell_type": "code",
   "execution_count": 146,
   "id": "3032a9ca",
   "metadata": {},
   "outputs": [],
   "source": [
    "set1 = {1, 2, 3} "
   ]
  },
  {
   "cell_type": "code",
   "execution_count": 147,
   "id": "36b80439",
   "metadata": {},
   "outputs": [],
   "source": [
    "squares = {x**2 for x in set1}"
   ]
  },
  {
   "cell_type": "code",
   "execution_count": 148,
   "id": "b33a1fc5",
   "metadata": {},
   "outputs": [
    {
     "data": {
      "text/plain": [
       "{1, 4, 9}"
      ]
     },
     "execution_count": 148,
     "metadata": {},
     "output_type": "execute_result"
    }
   ],
   "source": [
    "squares"
   ]
  },
  {
   "cell_type": "markdown",
   "id": "0cd54b4b",
   "metadata": {},
   "source": [
    "26. Filter out all even numbers from a set"
   ]
  },
  {
   "cell_type": "code",
   "execution_count": 151,
   "id": "9d0787fd",
   "metadata": {},
   "outputs": [],
   "source": [
    "my_set = {1, 2, 3, 4, 5}\n",
    "my_set = {x for x in my_set if x % 2 == 0}"
   ]
  },
  {
   "cell_type": "code",
   "execution_count": 152,
   "id": "a3fd8b2b",
   "metadata": {},
   "outputs": [
    {
     "data": {
      "text/plain": [
       "{2, 4}"
      ]
     },
     "execution_count": 152,
     "metadata": {},
     "output_type": "execute_result"
    }
   ],
   "source": [
    "my_set"
   ]
  },
  {
   "cell_type": "markdown",
   "id": "6d47b290",
   "metadata": {},
   "source": [
    "27. Multiply all elements in a set by 2."
   ]
  },
  {
   "cell_type": "code",
   "execution_count": 153,
   "id": "3a9697cb",
   "metadata": {},
   "outputs": [],
   "source": [
    "my_set = {1, 2, 3, 4, 5}\n",
    "my_set = {x * 2 for x in my_set}\n",
    "#for loop iterates over each element in the set and multiplies it by 2 using the * operator. After the loop completes, my_set will contain all the elements from the original set multiplied by 2."
   ]
  },
  {
   "cell_type": "code",
   "execution_count": 154,
   "id": "569dd6be",
   "metadata": {},
   "outputs": [
    {
     "data": {
      "text/plain": [
       "{2, 4, 6, 8, 10}"
      ]
     },
     "execution_count": 154,
     "metadata": {},
     "output_type": "execute_result"
    }
   ],
   "source": [
    "my_set"
   ]
  },
  {
   "cell_type": "markdown",
   "id": "f2669816",
   "metadata": {},
   "source": [
    "28. Create a set of random numbers."
   ]
  },
  {
   "cell_type": "code",
   "execution_count": 155,
   "id": "f6b4a1e6",
   "metadata": {},
   "outputs": [],
   "source": [
    "import random\n",
    "\n",
    "my_set = set(random.sample(range(1, 101), 10))"
   ]
  },
  {
   "cell_type": "code",
   "execution_count": 156,
   "id": "b2db3039",
   "metadata": {},
   "outputs": [
    {
     "data": {
      "text/plain": [
       "{10, 13, 21, 30, 53, 54, 68, 76, 93, 96}"
      ]
     },
     "execution_count": 156,
     "metadata": {},
     "output_type": "execute_result"
    }
   ],
   "source": [
    "my_set"
   ]
  },
  {
   "cell_type": "markdown",
   "id": "163a8011",
   "metadata": {},
   "source": [
    "29. Check if a set is empty."
   ]
  },
  {
   "cell_type": "code",
   "execution_count": 157,
   "id": "5b683326",
   "metadata": {},
   "outputs": [
    {
     "name": "stdout",
     "output_type": "stream",
     "text": [
      "my_set is empty\n"
     ]
    }
   ],
   "source": [
    "my_set = set()\n",
    "if not my_set:\n",
    "    print(\"my_set is empty\")\n",
    "else:\n",
    "    print(\"my_set is not empty\")"
   ]
  },
  {
   "cell_type": "markdown",
   "id": "d309af26",
   "metadata": {},
   "source": [
    "30. Create a nested set (hint: use frozenset)."
   ]
  },
  {
   "cell_type": "code",
   "execution_count": 158,
   "id": "224f0eb1",
   "metadata": {},
   "outputs": [
    {
     "data": {
      "text/plain": [
       "frozenset({frozenset({3, 4}), frozenset({1, 2})})"
      ]
     },
     "execution_count": 158,
     "metadata": {},
     "output_type": "execute_result"
    }
   ],
   "source": [
    "my_set = frozenset([frozenset([1, 2]), frozenset([3, 4])])\n",
    "my_set"
   ]
  },
  {
   "cell_type": "markdown",
   "id": "0f2b0f83",
   "metadata": {},
   "source": [
    "31. Remove an element from a set using the discard method."
   ]
  },
  {
   "cell_type": "code",
   "execution_count": 159,
   "id": "68f212c5",
   "metadata": {},
   "outputs": [],
   "source": [
    "my_set = {1, 2, 3, 4, 5}\n",
    "my_set.discard(5)"
   ]
  },
  {
   "cell_type": "code",
   "execution_count": 160,
   "id": "4a293e0d",
   "metadata": {},
   "outputs": [
    {
     "data": {
      "text/plain": [
       "{1, 2, 3, 4}"
      ]
     },
     "execution_count": 160,
     "metadata": {},
     "output_type": "execute_result"
    }
   ],
   "source": [
    "my_set"
   ]
  },
  {
   "cell_type": "markdown",
   "id": "dda0086d",
   "metadata": {},
   "source": [
    "32. Compare two sets."
   ]
  },
  {
   "cell_type": "code",
   "execution_count": 162,
   "id": "4d949949",
   "metadata": {},
   "outputs": [
    {
     "name": "stdout",
     "output_type": "stream",
     "text": [
      "The sets are equal\n"
     ]
    }
   ],
   "source": [
    "set1 = {1, 2, 3}\n",
    "set2 = {3, 2, 1}\n",
    "if set1 == set2:\n",
    "    print(\"The sets are equal\")\n",
    "else:\n",
    "    print(\"The sets are not equal\")\n",
    "    \n",
    "#used == operator to compare two sets\n",
    "    "
   ]
  },
  {
   "cell_type": "markdown",
   "id": "d81e81dc",
   "metadata": {},
   "source": [
    "33. Create a set from a string."
   ]
  },
  {
   "cell_type": "code",
   "execution_count": 163,
   "id": "e21d3c8e",
   "metadata": {},
   "outputs": [
    {
     "name": "stdout",
     "output_type": "stream",
     "text": [
      "{'h', 'j', 'r', 's', 'e', 'a'}\n"
     ]
    }
   ],
   "source": [
    "string = \"rajesh\"\n",
    "set_from_string = set(string)\n",
    "print(set_from_string)"
   ]
  },
  {
   "cell_type": "markdown",
   "id": "550dae7c",
   "metadata": {},
   "source": [
    "34. Convert a set of strings to a set of integers."
   ]
  },
  {
   "cell_type": "code",
   "execution_count": 164,
   "id": "e7d1a6a7",
   "metadata": {},
   "outputs": [
    {
     "name": "stdout",
     "output_type": "stream",
     "text": [
      "{1, 2, 3}\n"
     ]
    }
   ],
   "source": [
    "string_set = {'1', '2', '3'}\n",
    "int_set = set(map(int, string_set))\n",
    "print(int_set)"
   ]
  },
  {
   "cell_type": "markdown",
   "id": "d7468b92",
   "metadata": {},
   "source": [
    "35. Convert a set of integers to a set of strings."
   ]
  },
  {
   "cell_type": "code",
   "execution_count": 165,
   "id": "a02b878a",
   "metadata": {},
   "outputs": [
    {
     "name": "stdout",
     "output_type": "stream",
     "text": [
      "{'1', '2', '3'}\n"
     ]
    }
   ],
   "source": [
    "int_set = {1, 2, 3}\n",
    "string_set = {str(x) for x in int_set}\n",
    "print(string_set)"
   ]
  },
  {
   "cell_type": "markdown",
   "id": "d5289d24",
   "metadata": {},
   "source": [
    "36. Create a set from a tuple."
   ]
  },
  {
   "cell_type": "code",
   "execution_count": 166,
   "id": "80f7e074",
   "metadata": {},
   "outputs": [
    {
     "name": "stdout",
     "output_type": "stream",
     "text": [
      "{1, 2, 3}\n"
     ]
    }
   ],
   "source": [
    "tuple1 = (1, 2, 3)\n",
    "set_from_tuple = set(tuple1)\n",
    "print(set_from_tuple)"
   ]
  },
  {
   "cell_type": "markdown",
   "id": "595f0c77",
   "metadata": {},
   "source": [
    "37. Convert a set to a tuple."
   ]
  },
  {
   "cell_type": "code",
   "execution_count": 167,
   "id": "8a3ad091",
   "metadata": {},
   "outputs": [
    {
     "name": "stdout",
     "output_type": "stream",
     "text": [
      "(1, 2, 3)\n"
     ]
    }
   ],
   "source": [
    "set1 = {1, 2, 3}\n",
    "tuple_from_set = tuple(set1)\n",
    "print(tuple_from_set)"
   ]
  },
  {
   "cell_type": "markdown",
   "id": "7b0fbf6d",
   "metadata": {},
   "source": [
    "38. Find the maximum value in a set."
   ]
  },
  {
   "cell_type": "code",
   "execution_count": 168,
   "id": "a4d11f54",
   "metadata": {},
   "outputs": [
    {
     "name": "stdout",
     "output_type": "stream",
     "text": [
      "3\n"
     ]
    }
   ],
   "source": [
    "set1 = {1, 2, 3}\n",
    "max_value = max(set1)\n",
    "print(max_value)"
   ]
  },
  {
   "cell_type": "markdown",
   "id": "a7cdbf6c",
   "metadata": {},
   "source": [
    "39. Find the minimum value in a set."
   ]
  },
  {
   "cell_type": "code",
   "execution_count": 169,
   "id": "9baa0b53",
   "metadata": {},
   "outputs": [
    {
     "name": "stdout",
     "output_type": "stream",
     "text": [
      "1\n"
     ]
    }
   ],
   "source": [
    "set1 = {1, 2, 3}\n",
    "min_value = min(set1)\n",
    "print(min_value)"
   ]
  },
  {
   "cell_type": "markdown",
   "id": "00c31784",
   "metadata": {},
   "source": [
    "40. Create a set from user input."
   ]
  },
  {
   "cell_type": "code",
   "execution_count": 170,
   "id": "eaad369c",
   "metadata": {},
   "outputs": [
    {
     "name": "stdout",
     "output_type": "stream",
     "text": [
      "Enter a string: rajesh\n",
      "{'h', 'j', 'r', 's', 'e', 'a'}\n"
     ]
    }
   ],
   "source": [
    "user_input = input(\"Enter a string: \")\n",
    "string_set = set(user_input)\n",
    "print(string_set)"
   ]
  },
  {
   "cell_type": "markdown",
   "id": "dcbfdb94",
   "metadata": {},
   "source": [
    "41. Check if the intersection of two sets is empty."
   ]
  },
  {
   "cell_type": "code",
   "execution_count": 171,
   "id": "1eaa8189",
   "metadata": {},
   "outputs": [
    {
     "name": "stdout",
     "output_type": "stream",
     "text": [
      "The intersection of the two sets is not empty.\n"
     ]
    }
   ],
   "source": [
    "# Step 1: Define two sets\n",
    "set1 = {1, 2, 3, 4, 5}\n",
    "set2 = {4, 5, 6, 7, 8}\n",
    "\n",
    "# Step 2: Find the intersection of the two sets using the `intersection()` method\n",
    "intersection_result = set1.intersection(set2)\n",
    "\n",
    "# Step 3: Check if the intersection result is empty\n",
    "if not intersection_result:\n",
    "    print(\"The intersection of the two sets is empty.\")\n",
    "else:\n",
    "    print(\"The intersection of the two sets is not empty.\")"
   ]
  },
  {
   "cell_type": "markdown",
   "id": "f5f2c2a8",
   "metadata": {},
   "source": [
    "42. Create a set of the first 5 Fibonacci numbers."
   ]
  },
  {
   "cell_type": "code",
   "execution_count": 172,
   "id": "ad529f6d",
   "metadata": {},
   "outputs": [
    {
     "name": "stdout",
     "output_type": "stream",
     "text": [
      "Set of the first 5 Fibonacci numbers: {0, 1, 2, 3, 5}\n"
     ]
    }
   ],
   "source": [
    "fibonacci_set = set()\n",
    "\n",
    "# Initialize the first two Fibonacci numbers\n",
    "a, b = 0, 1\n",
    "\n",
    "# Loop to generate the first 5 Fibonacci numbers\n",
    "for _ in range(6):\n",
    "    # Add the current Fibonacci number to the set\n",
    "    fibonacci_set.add(a)\n",
    "\n",
    "    # Calculate the next Fibonacci number\n",
    "    a, b = b, a + b\n",
    "\n",
    "# Print the set of Fibonacci numbers\n",
    "print(\"Set of the first 5 Fibonacci numbers:\", fibonacci_set)"
   ]
  },
  {
   "cell_type": "markdown",
   "id": "42a94ba2",
   "metadata": {},
   "source": [
    "43. Remove duplicates from a list using sets."
   ]
  },
  {
   "cell_type": "code",
   "execution_count": 173,
   "id": "97855835",
   "metadata": {},
   "outputs": [
    {
     "name": "stdout",
     "output_type": "stream",
     "text": [
      "[1, 2, 3]\n"
     ]
    }
   ],
   "source": [
    "a = [1, 2, 3, 2, 1]\n",
    "b = list(set(a))\n",
    "print(b)"
   ]
  },
  {
   "cell_type": "markdown",
   "id": "281a5ce3",
   "metadata": {},
   "source": [
    "44. Check if two sets have the same elements, regardless of their count."
   ]
  },
  {
   "cell_type": "code",
   "execution_count": 174,
   "id": "aca3bd12",
   "metadata": {},
   "outputs": [
    {
     "name": "stdout",
     "output_type": "stream",
     "text": [
      "The sets are equal\n"
     ]
    }
   ],
   "source": [
    "set1 = {1, 2, 3}\n",
    "set2 = {3, 2, 1}\n",
    "if set1 == set2:\n",
    "    print(\"The sets are equal\")\n",
    "else:\n",
    "    print(\"The sets are not equal\")"
   ]
  },
  {
   "cell_type": "markdown",
   "id": "c240e5cc",
   "metadata": {},
   "source": [
    "45. Create a set of the first `n` powers of 2."
   ]
  },
  {
   "cell_type": "code",
   "execution_count": 175,
   "id": "67a5f046",
   "metadata": {},
   "outputs": [
    {
     "name": "stdout",
     "output_type": "stream",
     "text": [
      "{1, 2, 4, 8, 16}\n"
     ]
    }
   ],
   "source": [
    "n = 5\n",
    "powers_of_2 = {2 ** i for i in range(n)}\n",
    "print(powers_of_2)"
   ]
  },
  {
   "cell_type": "code",
   "execution_count": 176,
   "id": "de7316e7",
   "metadata": {},
   "outputs": [
    {
     "name": "stdout",
     "output_type": "stream",
     "text": [
      "{1, 2, 4, 8, 16}\n"
     ]
    }
   ],
   "source": [
    "n = 5\n",
    "powers_of_2 = set()\n",
    "for i in range(n):\n",
    "    powers_of_2.add(2 ** i)\n",
    "print(powers_of_2)"
   ]
  },
  {
   "cell_type": "markdown",
   "id": "610270a5",
   "metadata": {},
   "source": [
    "46. Find the common elements between a set and a list."
   ]
  },
  {
   "cell_type": "code",
   "execution_count": 177,
   "id": "13de8690",
   "metadata": {},
   "outputs": [
    {
     "name": "stdout",
     "output_type": "stream",
     "text": [
      "{2, 3}\n"
     ]
    }
   ],
   "source": [
    "set1 = {1, 2, 3}\n",
    "list1 = [2, 3, 4]\n",
    "common_elements = set1.intersection(list1)\n",
    "print(common_elements)"
   ]
  },
  {
   "cell_type": "markdown",
   "id": "f23d3018",
   "metadata": {},
   "source": [
    "47. Create a set of the first `n` triangular numbers."
   ]
  },
  {
   "cell_type": "code",
   "execution_count": 179,
   "id": "a84856e0",
   "metadata": {},
   "outputs": [
    {
     "name": "stdout",
     "output_type": "stream",
     "text": [
      "{1, 3, 6, 10, 15}\n"
     ]
    }
   ],
   "source": [
    "n = 5\n",
    "triangular_numbers = {i * (i + 1) // 2 for i in range(1, n + 1)}\n",
    "print(triangular_numbers)"
   ]
  },
  {
   "cell_type": "markdown",
   "id": "50652894",
   "metadata": {},
   "source": [
    "48. Check if a set contains another set as a subset.\n",
    "\n"
   ]
  },
  {
   "cell_type": "code",
   "execution_count": 180,
   "id": "2119be0d",
   "metadata": {},
   "outputs": [
    {
     "name": "stdout",
     "output_type": "stream",
     "text": [
      "set2 is a subset of set1\n"
     ]
    }
   ],
   "source": [
    "set1 = {1, 2, 3}\n",
    "set2 = {1, 2}\n",
    "if set2.issubset(set1):\n",
    "    print(\"set2 is a subset of set1\")\n",
    "else:\n",
    "    print(\"set2 is not a subset of set1\")"
   ]
  },
  {
   "cell_type": "markdown",
   "id": "db2c35bb",
   "metadata": {},
   "source": [
    "49. Create a set of alternating 1s and 0s of length `n`."
   ]
  },
  {
   "cell_type": "code",
   "execution_count": 181,
   "id": "266acc5d",
   "metadata": {},
   "outputs": [
    {
     "name": "stdout",
     "output_type": "stream",
     "text": [
      "{0, 1}\n"
     ]
    }
   ],
   "source": [
    "n = 10\n",
    "alternating_set = {1 if i % 2 == 0 else 0 for i in range(n)}\n",
    "print(alternating_set)"
   ]
  },
  {
   "cell_type": "markdown",
   "id": "1352d580",
   "metadata": {},
   "source": [
    "50. Merge multiple sets into one."
   ]
  },
  {
   "cell_type": "code",
   "execution_count": 182,
   "id": "22ff3406",
   "metadata": {},
   "outputs": [
    {
     "name": "stdout",
     "output_type": "stream",
     "text": [
      "{1, 2, 3, 4, 5, 6, 7}\n"
     ]
    }
   ],
   "source": [
    "set1 = {1, 2, 3}\n",
    "set2 = {3, 4, 5}\n",
    "set3 = {5, 6, 7}\n",
    "merged_set = set1.union(set2, set3)\n",
    "print(merged_set)"
   ]
  },
  {
   "cell_type": "code",
   "execution_count": null,
   "id": "14626b0e",
   "metadata": {},
   "outputs": [],
   "source": []
  }
 ],
 "metadata": {
  "kernelspec": {
   "display_name": "Python 3 (ipykernel)",
   "language": "python",
   "name": "python3"
  },
  "language_info": {
   "codemirror_mode": {
    "name": "ipython",
    "version": 3
   },
   "file_extension": ".py",
   "mimetype": "text/x-python",
   "name": "python",
   "nbconvert_exporter": "python",
   "pygments_lexer": "ipython3",
   "version": "3.10.9"
  }
 },
 "nbformat": 4,
 "nbformat_minor": 5
}
