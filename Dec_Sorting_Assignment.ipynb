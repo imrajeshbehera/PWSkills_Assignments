{
 "cells": [
  {
   "cell_type": "markdown",
   "id": "ff611fee",
   "metadata": {},
   "source": [
    "# Problem 1.Given an array of n numbers, give an algorithm which gives the element appearing maximum number of times?"
   ]
  },
  {
   "cell_type": "code",
   "execution_count": 1,
   "id": "2969e8f4",
   "metadata": {},
   "outputs": [
    {
     "name": "stdout",
     "output_type": "stream",
     "text": [
      "The element appearing maximum number of times is 3\n"
     ]
    }
   ],
   "source": [
    "# Define the array of n numbers\n",
    "array = [1, 2, 3, 4, 5, 3, 2, 1, 3, 4, 5, 6, 7, 3, 2, 1]\n",
    "\n",
    "# Define a dictionary to store the frequency of each element\n",
    "freq = {}\n",
    "\n",
    "# Loop through the array and update the frequency of each element\n",
    "for num in array:\n",
    "  # If the element is already in the dictionary, increment its frequency by 1\n",
    "  if num in freq:\n",
    "    freq[num] += 1\n",
    "  # Otherwise, initialize its frequency to 1\n",
    "  else:\n",
    "    freq[num] = 1\n",
    "\n",
    "# Initialize the maximum frequency and the element with the maximum frequency\n",
    "max_freq = 0\n",
    "max_element = None\n",
    "\n",
    "# Loop through the dictionary and find the element with the highest frequency\n",
    "for key, value in freq.items():\n",
    "  # If the current frequency is greater than the maximum frequency, update the maximum frequency and the element\n",
    "  if value > max_freq:\n",
    "    max_freq = value\n",
    "    max_element = key\n",
    "\n",
    "# Print the element with the maximum frequency\n",
    "print(\"The element appearing maximum number of times is\", max_element)\n"
   ]
  },
  {
   "cell_type": "markdown",
   "id": "792ce9ec",
   "metadata": {},
   "source": [
    "# Problem 2 : We are given a list of n-1 integers and these integers are in the range of 1 to n . There are no duplicates in the list. One of the integers is missing in the list. Give an algorithm to find that element Ex: [1,2,4,6,3,7,8] 5 is the missing num. "
   ]
  },
  {
   "cell_type": "code",
   "execution_count": 4,
   "id": "0e45c6e3",
   "metadata": {},
   "outputs": [
    {
     "name": "stdout",
     "output_type": "stream",
     "text": [
      "5\n"
     ]
    }
   ],
   "source": [
    "def find_missing(lst, n):\n",
    "    s = sum(lst)\n",
    "    \n",
    "    # Calculate expected sum \n",
    "    expected_sum = (n*(n+1))//2\n",
    "    \n",
    "    # Find diff between actual and expected sum\n",
    "    return expected_sum - s\n",
    "\n",
    "nums = [1, 2, 4, 6, 3, 7, 8]\n",
    "n = 8 \n",
    "\n",
    "missing = find_missing(nums, n)\n",
    "print(missing)"
   ]
  },
  {
   "cell_type": "markdown",
   "id": "5e2d2534",
   "metadata": {},
   "source": [
    "Problem 3 : Given an array of n positive numbers. All numbers occurs even number of times except 1 which\n",
    "occurs odd number of times. Find that number in O(n) time and O(1) space. Ex: [1,2,3,2,3,1,3]. 3 is repeats odd\n",
    "times."
   ]
  },
  {
   "cell_type": "markdown",
   "id": "2a07bf7e",
   "metadata": {},
   "source": [
    "Explanation:\n",
    "    Input: arr = [1, 2, 3, 2, 3, 1, 3]\n",
    "\n",
    "Algorithm:\n",
    "1. Initialize result = 0\n",
    "2. Traverse the array \n",
    "   For each element in array:\n",
    "       a. Xor result with current element\n",
    "          result ^= arr[i]\n",
    "3. Print result"
   ]
  },
  {
   "cell_type": "code",
   "execution_count": 6,
   "id": "d3020753",
   "metadata": {},
   "outputs": [
    {
     "name": "stdout",
     "output_type": "stream",
     "text": [
      "3\n"
     ]
    }
   ],
   "source": [
    "def find_odd_occurrence(arr):\n",
    "    result = 0\n",
    "    \n",
    "    for elem in arr: \n",
    "        result = result ^ elem\n",
    "        \n",
    "    return result\n",
    "\n",
    "arr = [1, 2, 3, 2, 3, 1, 3]\n",
    "print(find_odd_occurrence(arr))"
   ]
  },
  {
   "cell_type": "markdown",
   "id": "52e8d6df",
   "metadata": {},
   "source": [
    "# Problem 4 : Given an array of n elements. Find two elements in the array such that their sum is equal to given element K."
   ]
  },
  {
   "cell_type": "code",
   "execution_count": 7,
   "id": "0d2106cb",
   "metadata": {},
   "outputs": [
    {
     "name": "stdout",
     "output_type": "stream",
     "text": [
      "Pair found:  2 and 8\n"
     ]
    },
    {
     "data": {
      "text/plain": [
       "True"
      ]
     },
     "execution_count": 7,
     "metadata": {},
     "output_type": "execute_result"
    }
   ],
   "source": [
    "def findSumPair(arr, n, k):\n",
    "    \n",
    "    # Create a set to store array elements\n",
    "    nums = set() \n",
    "    \n",
    "    for i in range(n):\n",
    "        \n",
    "        diff = k - arr[i]\n",
    "        \n",
    "        # If difference exists in set, print the pair\n",
    "        if diff in nums:\n",
    "            print(\"Pair found: \", arr[i], \"and\", diff)\n",
    "            return True\n",
    "            \n",
    "        # Insert current element into set  \n",
    "        nums.add(arr[i])\n",
    "        \n",
    "    # No pair found with given sum  \n",
    "    print(\"Pair not found\") \n",
    "    return False\n",
    "        \n",
    "# Driver code\n",
    "arr = [8, 7, 2, 5, 3, 1]\n",
    "n = len(arr)\n",
    "k = 10\n",
    "\n",
    "findSumPair(arr, n, k)"
   ]
  },
  {
   "cell_type": "markdown",
   "id": "3985fa3b",
   "metadata": {},
   "source": [
    "# Problem 5 : Given an array of both positive and negative numbers, find two numbers such that their sum is closest to 0. Ex: [ 1 ,60 ,-10, 70, -80,85]. Ans : -80,85."
   ]
  },
  {
   "cell_type": "code",
   "execution_count": 10,
   "id": "f444b383",
   "metadata": {},
   "outputs": [
    {
     "name": "stdout",
     "output_type": "stream",
     "text": [
      "The pair of numbers with the sum closest to zero is (-80, 85)\n"
     ]
    }
   ],
   "source": [
    "# Define the array of positive and negative numbers\n",
    "array = [1, 60, -10, 70, -80, 85]\n",
    "\n",
    "# Sort the array in ascending order\n",
    "array.sort()\n",
    "\n",
    "# Initialize two pointers, one at the left end and one at the right end\n",
    "left = 0\n",
    "right = len(array) - 1\n",
    "\n",
    "# Initialize the minimum absolute sum and the pair of numbers\n",
    "min_abs_sum = float('inf')\n",
    "min_pair = None\n",
    "\n",
    "# Loop until the pointers meet\n",
    "while left < right:\n",
    "  # Calculate the sum of the current pair\n",
    "  sum = array[left] + array[right]\n",
    "\n",
    "  # Update the minimum absolute sum and the pair if the current sum is smaller in absolute value\n",
    "  if abs(sum) < min_abs_sum:\n",
    "    min_abs_sum = abs(sum)\n",
    "    min_pair = (array[left], array[right])\n",
    "\n",
    "  # Move the pointers according to the sign of the sum\n",
    "  if sum < 0:\n",
    "    # If the sum is negative, move the left pointer to the right to increase the sum\n",
    "    left += 1\n",
    "  elif sum > 0:\n",
    "    # If the sum is positive, move the right pointer to the left to decrease the sum\n",
    "    right -= 1\n",
    "  else:\n",
    "    # If the sum is zero, we have found the optimal pair and we can break the loop\n",
    "    break\n",
    "\n",
    "# Print the pair of numbers with the sum closest to zero\n",
    "print(\"The pair of numbers with the sum closest to zero is\", min_pair)\n"
   ]
  },
  {
   "cell_type": "markdown",
   "id": "8a01f64b",
   "metadata": {},
   "source": [
    "# Problem 6 : Given an array of n elements . Find three elements such that their sum is equal to the given number. "
   ]
  },
  {
   "cell_type": "code",
   "execution_count": 11,
   "id": "9fddfd14",
   "metadata": {},
   "outputs": [
    {
     "name": "stdout",
     "output_type": "stream",
     "text": [
      "The triplet is 1 5 9\n",
      "The triplet is 2 4 9\n",
      "The triplet is 3 4 8\n",
      "The triplet is 4 5 6\n"
     ]
    }
   ],
   "source": [
    "# Define the array of n elements\n",
    "array = [1, 2, 3, 4, 5, 6, 7, 8, 9]\n",
    "\n",
    "# Define the given number\n",
    "number = 15\n",
    "\n",
    "# Sort the array in ascending order\n",
    "array.sort()\n",
    "\n",
    "# Initialize a flag to indicate if a triplet is found\n",
    "found = False\n",
    "\n",
    "# Loop through the array and fix the first element of the triplet\n",
    "for i in range(len(array) - 2):\n",
    "  # Initialize two pointers, one at i + 1 and one at the end of the array\n",
    "  left = i + 1\n",
    "  right = len(array) - 1\n",
    "\n",
    "  # Loop until the pointers meet\n",
    "  while left < right:\n",
    "    # Calculate the sum of the current triplet\n",
    "    sum = array[i] + array[left] + array[right]\n",
    "\n",
    "    # If the sum is equal to the given number, print the triplet and update the flag\n",
    "    if sum == number:\n",
    "      print(\"The triplet is\", array[i], array[left], array[right])\n",
    "      found = True\n",
    "      # Break the inner loop\n",
    "      break\n",
    "    # If the sum is smaller than the given number, move the left pointer to the right\n",
    "    elif sum < number:\n",
    "      left += 1\n",
    "    # If the sum is larger than the given number, move the right pointer to the left\n",
    "    else:\n",
    "      right -= 1\n",
    "\n",
    "# If no triplet is found, print a message\n",
    "if not found:\n",
    "  print(\"No triplet with the given sum exists\")\n"
   ]
  },
  {
   "cell_type": "markdown",
   "id": "f9cf040f",
   "metadata": {},
   "source": [
    "# Problem 7 : Given an array of n elements . Find three elements i, j, k in the array such that i * i + j * j = k*k. "
   ]
  },
  {
   "cell_type": "code",
   "execution_count": 12,
   "id": "74c91c51",
   "metadata": {},
   "outputs": [
    {
     "name": "stdout",
     "output_type": "stream",
     "text": [
      "The triplet is 8 15 17\n",
      "The triplet is 6 8 10\n",
      "The triplet is 3 4 5\n"
     ]
    }
   ],
   "source": [
    "# Define the array of n elements\n",
    "array = [3, 4, 5, 6, 8, 10, 15, 17]\n",
    "\n",
    "# Sort the array in ascending order\n",
    "array.sort()\n",
    "\n",
    "# Initialize a flag to indicate if a triplet is found\n",
    "found = False\n",
    "\n",
    "# Loop through the array and fix the last element of the triplet\n",
    "for k in range(len(array) - 1, 1, -1):\n",
    "  # Initialize two pointers, one at the start and one at k - 1\n",
    "  i = 0\n",
    "  j = k - 1\n",
    "\n",
    "  # Loop until the pointers meet\n",
    "  while i < j:\n",
    "    # Calculate the square of the current triplet\n",
    "    square_i = array[i] ** 2\n",
    "    square_j = array[j] ** 2\n",
    "    square_k = array[k] ** 2\n",
    "\n",
    "    # If the square of the current triplet is equal to the condition, print the triplet and update the flag\n",
    "    if square_i + square_j == square_k:\n",
    "      print(\"The triplet is\", array[i], array[j], array[k])\n",
    "      found = True\n",
    "      # Break the inner loop\n",
    "      break\n",
    "    # If the square of the current triplet is smaller than the condition, move the i pointer to the right\n",
    "    elif square_i + square_j < square_k:\n",
    "      i += 1\n",
    "    # If the square of the current triplet is larger than the condition, move the j pointer to the left\n",
    "    else:\n",
    "      j -= 1\n",
    "\n",
    "# If no triplet is found, print a message\n",
    "if not found:\n",
    "  print(\"No triplet with the given condition exists\")\n"
   ]
  },
  {
   "cell_type": "markdown",
   "id": "3c9cc9f0",
   "metadata": {},
   "source": [
    "# Problem 8 : An element is a majority if it appears more than n/2 times. Give an algorithm takes an array of n element as argument and identifies a majority (if it exists). "
   ]
  },
  {
   "cell_type": "code",
   "execution_count": 13,
   "id": "203d87c8",
   "metadata": {},
   "outputs": [
    {
     "name": "stdout",
     "output_type": "stream",
     "text": [
      "The majority element of [1, 2, 3, 4, 5, 3, 2, 1, 3, 4, 5, 6, 7, 3, 2, 1] is None\n",
      "The majority element of [2, 2, 2, 2, 5, 5, 2, 3, 3] is 2\n"
     ]
    }
   ],
   "source": [
    "# Import the Counter class from the collections module\n",
    "from collections import Counter\n",
    "\n",
    "# Define a function to find the majority element in an array\n",
    "def find_majority(array):\n",
    "  # Create a Counter object from the array\n",
    "  counter = Counter(array)\n",
    "  # Get the size of the array\n",
    "  n = len(array)\n",
    "  # Loop over the Counter items\n",
    "  for element, frequency in counter.items():\n",
    "    # If the frequency is greater than n/2, return the element\n",
    "    if frequency > n/2:\n",
    "      return element\n",
    "  # If no element has a frequency greater than n/2, return None\n",
    "  return None\n",
    "\n",
    "# Test the function with some examples\n",
    "example1 = [1, 2, 3, 4, 5, 3, 2, 1, 3, 4, 5, 6, 7, 3, 2, 1]\n",
    "result1 = find_majority(example1)\n",
    "print(\"The majority element of\", example1, \"is\", result1)\n",
    "\n",
    "example2 = [2, 2, 2, 2, 5, 5, 2, 3, 3]\n",
    "result2 = find_majority(example2)\n",
    "print(\"The majority element of\", example2, \"is\", result2)\n"
   ]
  },
  {
   "cell_type": "markdown",
   "id": "f297981f",
   "metadata": {},
   "source": [
    "# Problem 9 : Given n × n matrix, and in each row all 1’s are followed by 0’s. Find the row with the maximum number of 0’s."
   ]
  },
  {
   "cell_type": "code",
   "execution_count": 14,
   "id": "62e1fe65",
   "metadata": {},
   "outputs": [
    {
     "name": "stdout",
     "output_type": "stream",
     "text": [
      "The row with the maximum number of 0's is 3\n"
     ]
    }
   ],
   "source": [
    "# Define the matrix\n",
    "matrix = [[1, 1, 1, 0, 0],\n",
    "          [1, 1, 0, 0, 0],\n",
    "          [1, 0, 0, 0, 0],\n",
    "          [0, 0, 0, 0, 0],\n",
    "          [1, 1, 1, 1, 0]]\n",
    "\n",
    "# Define a function to find the index of the first 0 in a row using binary search\n",
    "def find_first_zero(row):\n",
    "  # Initialize the low and high pointers\n",
    "  low = 0\n",
    "  high = len(row) - 1\n",
    "  # Initialize the result to -1\n",
    "  result = -1\n",
    "  # Loop until the pointers cross\n",
    "  while low <= high:\n",
    "    # Calculate the mid pointer\n",
    "    mid = (low + high) // 2\n",
    "    # If the mid element is 0, update the result and move the high pointer to the left\n",
    "    if row[mid] == 0:\n",
    "      result = mid\n",
    "      high = mid - 1\n",
    "    # If the mid element is 1, move the low pointer to the right\n",
    "    else:\n",
    "      low = mid + 1\n",
    "  # Return the result\n",
    "  return result\n",
    "\n",
    "# Initialize the maximum number of 0's and the row index\n",
    "max_zeros = 0\n",
    "max_row = -1\n",
    "\n",
    "# Loop through the matrix and find the row with the maximum number of 0's\n",
    "for i in range(len(matrix)):\n",
    "  # Find the index of the first 0 in the current row\n",
    "  index = find_first_zero(matrix[i])\n",
    "  # If the index is valid, calculate the number of 0's in the current row\n",
    "  if index != -1:\n",
    "    zeros = len(matrix[i]) - index\n",
    "    # If the number of 0's is greater than the maximum, update the maximum and the row index\n",
    "    if zeros > max_zeros:\n",
    "      max_zeros = zeros\n",
    "      max_row = i\n",
    "\n",
    "# Print the row index with the maximum number of 0's\n",
    "print(\"The row with the maximum number of 0's is\", max_row)\n"
   ]
  },
  {
   "cell_type": "markdown",
   "id": "5221add0",
   "metadata": {},
   "source": [
    "# Problem 10 : Sort an array of 0’s, 1’s and 2’s [or R’s, G’s and B’s]: Given an array A[] consisting of 0’s, 1’s and 2’s, give an algorithm for sorting A[].The algorithm should put all 0’s first, then all 1’s and finally all 2’s at the end. Example Input = {0,1,1,0,1,2,1,2,0,0,0,1}, Output = {0,0,0,0,0,1,1,1,1,1,2,2} "
   ]
  },
  {
   "cell_type": "code",
   "execution_count": 15,
   "id": "14f0bb36",
   "metadata": {},
   "outputs": [
    {
     "name": "stdout",
     "output_type": "stream",
     "text": [
      "The sorted array is [0, 0, 0, 0, 0, 1, 1, 1, 1, 1, 2, 2]\n"
     ]
    }
   ],
   "source": [
    "# Define a function to sort an array of 0's, 1's and 2's\n",
    "def sort_array(array):\n",
    "  # Initialize the pointers\n",
    "  low = 0\n",
    "  mid = 0\n",
    "  high = len(array) - 1\n",
    "  # Loop until mid <= high\n",
    "  while mid <= high:\n",
    "    # If the element at mid is 0, swap it with the element at low\n",
    "    if array[mid] == 0:\n",
    "      array[low], array[mid] = array[mid], array[low]\n",
    "      # Increment low and mid\n",
    "      low += 1\n",
    "      mid += 1\n",
    "    # If the element at mid is 1, increment mid\n",
    "    elif array[mid] == 1:\n",
    "      mid += 1\n",
    "    # If the element at mid is 2, swap it with the element at high\n",
    "    else:\n",
    "      array[mid], array[high] = array[high], array[mid]\n",
    "      # Decrement high\n",
    "      high -= 1\n",
    "  # Return the sorted array\n",
    "  return array\n",
    "\n",
    "# Test the function with an example\n",
    "example = [0, 1, 1, 0, 1, 2, 1, 2, 0, 0, 0, 1]\n",
    "result = sort_array(example)\n",
    "print(\"The sorted array is\", result)\n"
   ]
  },
  {
   "cell_type": "code",
   "execution_count": null,
   "id": "7cd2e695",
   "metadata": {},
   "outputs": [],
   "source": []
  }
 ],
 "metadata": {
  "kernelspec": {
   "display_name": "Python 3 (ipykernel)",
   "language": "python",
   "name": "python3"
  },
  "language_info": {
   "codemirror_mode": {
    "name": "ipython",
    "version": 3
   },
   "file_extension": ".py",
   "mimetype": "text/x-python",
   "name": "python",
   "nbconvert_exporter": "python",
   "pygments_lexer": "ipython3",
   "version": "3.10.9"
  }
 },
 "nbformat": 4,
 "nbformat_minor": 5
}
