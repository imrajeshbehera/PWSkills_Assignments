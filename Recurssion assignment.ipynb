{
 "cells": [
  {
   "cell_type": "markdown",
   "id": "a2cf04b6",
   "metadata": {},
   "source": [
    "Q1.  Can you explain the logic and working of the Tower of Hanoi algorithm by writing a Python program?\n",
    "How does the recursion work, and how are the movements of disks between rods accomplished?"
   ]
  },
  {
   "cell_type": "code",
   "execution_count": 4,
   "id": "2212e82f",
   "metadata": {},
   "outputs": [],
   "source": [
    "def towerOfHanoi(n, source, destination, auxiliary):\n",
    "    if n==1:\n",
    "        print(\"Move disk 1 from source\",source,\"to destination\",destination)\n",
    "        return\n",
    "    towerOfHanoi(n-1, source, auxiliary, destination)\n",
    "    print(\"Move disk\",n,\"from source\",source,\"to destination\",destination)\n",
    "    towerOfHanoi(n-1, auxiliary, destination, source)\n",
    "    "
   ]
  },
  {
   "cell_type": "markdown",
   "id": "a73b0fbc",
   "metadata": {},
   "source": [
    "Explanation of Q1:\n",
    "If n = 1, just move the disk from source to destination rod.\n",
    "\n",
    "Recursive case:\n",
    "\n",
    "Shift the top n-1 disks from source rod to auxiliary rod using destination rod.\n",
    "Move the last disk from source rod to destination rod.\n",
    "Now shift the n-1 disks from auxiliary rod to destination rod using source rod.\n",
    "The print statements show each movement of disks between the rods. So using this algorithm and recursion, we are able to move all disks from source to destination, obeying the rules.\n"
   ]
  },
  {
   "cell_type": "markdown",
   "id": "57f4f288",
   "metadata": {},
   "source": [
    "Q.2 Given two strings word1 and word2, return the minimum number of operations required to convert word1\n",
    "to word2."
   ]
  },
  {
   "cell_type": "code",
   "execution_count": 5,
   "id": "4e1b9f25",
   "metadata": {},
   "outputs": [
    {
     "name": "stdout",
     "output_type": "stream",
     "text": [
      "8\n",
      "5\n"
     ]
    }
   ],
   "source": [
    "def minOperations(word1, word2):\n",
    "    m, n = len(word1), len(word2)\n",
    "    \n",
    "    # If lengths are unequal, \n",
    "    # add/remove characters to make them equal\n",
    "    if m != n:\n",
    "        return m + n\n",
    "    \n",
    "    ops = 0\n",
    "    for i in range(m):\n",
    "        if word1[i] != word2[i]:\n",
    "            ops += 1\n",
    "            \n",
    "    return ops\n",
    "    \n",
    "print(minOperations(\"horse\", \"ros\"))\n",
    "print(minOperations(\"intention\", \"execution\"))"
   ]
  },
  {
   "cell_type": "markdown",
   "id": "8ba66e36",
   "metadata": {},
   "source": [
    "Q. 3 Print the max value of the array [ 13, 1, -3, 22, 5]."
   ]
  },
  {
   "cell_type": "code",
   "execution_count": 6,
   "id": "c2801f45",
   "metadata": {},
   "outputs": [
    {
     "name": "stdout",
     "output_type": "stream",
     "text": [
      "The max value of the array is 22\n"
     ]
    }
   ],
   "source": [
    "# Define the array\n",
    "arr = [ 13, 1, -3, 22, 5]\n",
    "\n",
    "# Initialize the max value to the first element of the array\n",
    "max_value = arr[0]\n",
    "\n",
    "# Loop through the array and compare each element with the max value\n",
    "for i in range(1, len(arr)):\n",
    "  if arr[i] > max_value:\n",
    "    # Update the max value if the current element is greater\n",
    "    max_value = arr[i]\n",
    "\n",
    "# Print the max value\n",
    "print(\"The max value of the array is\", max_value)\n"
   ]
  },
  {
   "cell_type": "markdown",
   "id": "86579f6f",
   "metadata": {},
   "source": [
    "Q.4 Find the sum of the values of the array [92, 23, 15, -20, 10]."
   ]
  },
  {
   "cell_type": "code",
   "execution_count": 7,
   "id": "21441d65",
   "metadata": {},
   "outputs": [
    {
     "name": "stdout",
     "output_type": "stream",
     "text": [
      "The sum of the values of the array is 120\n"
     ]
    }
   ],
   "source": [
    "# Define the array\n",
    "arr = [92, 23, 15, -20, 10]\n",
    "\n",
    "# Define a recursive function to calculate the sum of an array\n",
    "def sum_array(arr, n):\n",
    "  # Base case: if the array is empty, return 0\n",
    "  if n == 0:\n",
    "    return 0\n",
    "  # Recursive case: return the last element of the array plus the sum of the rest of the array\n",
    "  else:\n",
    "    return arr[n-1] + sum_array(arr, n-1)\n",
    "\n",
    "# Call the function with the length of the array\n",
    "sum = sum_array(arr, len(arr))\n",
    "\n",
    "# Print the sum\n",
    "print(\"The sum of the values of the array is\", sum)\n"
   ]
  },
  {
   "cell_type": "markdown",
   "id": "2b4b3384",
   "metadata": {},
   "source": [
    "Q.5 Given a number n. Print if it is an armstrong number or not.An armstrong number is a number if the sum\n",
    "of every digit in that number raised to the power of total digits in that number is equal to the number.\n",
    "Example : 153 = 1^3 + 5^3 + 3^3 = 1 + 125 + 27 = 153 hence 153 is an armstrong number. (Easy)\n",
    "Input1 : 153\n",
    "Output1 : Yes\n",
    "Input 2 : 134\n",
    "Output2 : No"
   ]
  },
  {
   "cell_type": "code",
   "execution_count": 8,
   "id": "fdb81224",
   "metadata": {},
   "outputs": [
    {
     "name": "stdout",
     "output_type": "stream",
     "text": [
      "Input: 153\n",
      "Output: True\n",
      "Input: 134\n",
      "Output: False\n"
     ]
    }
   ],
   "source": [
    "# Define a function to check if a number is an armstrong number\n",
    "def is_armstrong(n):\n",
    "  # Convert the number to a string\n",
    "  s = str(n)\n",
    "  # Get the length of the string\n",
    "  l = len(s)\n",
    "  # Initialize the sum to 0\n",
    "  sum = 0\n",
    "  # Loop through each digit of the string\n",
    "  for d in s:\n",
    "    # Convert the digit to an integer\n",
    "    d = int(d)\n",
    "    # Add the digit raised to the power of the length to the sum\n",
    "    sum += d**l\n",
    "  # Return True if the sum is equal to the number, False otherwise\n",
    "  return sum == n\n",
    "\n",
    "# Test the function with some inputs\n",
    "input1 = 153\n",
    "output1 = is_armstrong(input1)\n",
    "print(\"Input:\", input1)\n",
    "print(\"Output:\", output1)\n",
    "\n",
    "input2 = 134\n",
    "output2 = is_armstrong(input2)\n",
    "print(\"Input:\", input2)\n",
    "print(\"Output:\", output2)\n"
   ]
  },
  {
   "cell_type": "code",
   "execution_count": null,
   "id": "e0b93fed",
   "metadata": {},
   "outputs": [],
   "source": []
  }
 ],
 "metadata": {
  "kernelspec": {
   "display_name": "Python 3 (ipykernel)",
   "language": "python",
   "name": "python3"
  },
  "language_info": {
   "codemirror_mode": {
    "name": "ipython",
    "version": 3
   },
   "file_extension": ".py",
   "mimetype": "text/x-python",
   "name": "python",
   "nbconvert_exporter": "python",
   "pygments_lexer": "ipython3",
   "version": "3.10.9"
  }
 },
 "nbformat": 4,
 "nbformat_minor": 5
}
